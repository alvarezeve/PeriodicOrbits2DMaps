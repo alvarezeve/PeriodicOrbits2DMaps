{
 "cells": [
  {
   "cell_type": "markdown",
   "metadata": {},
   "source": [
    "### Prueba  de la implementación con el mapeo estándar. "
   ]
  },
  {
   "cell_type": "markdown",
   "metadata": {},
   "source": [
    "Cargamos las paqueterias necesarias."
   ]
  },
  {
   "cell_type": "code",
   "execution_count": 1,
   "metadata": {},
   "outputs": [
    {
     "data": {
      "text/plain": [
       "4-element Array{String,1}:\n",
       " \"@\"\n",
       " \"@v#.#\"\n",
       " \"@stdlib\"\n",
       " \"/home/eve/Documents/Matematicas/Proyectos/Implementacion\""
      ]
     },
     "execution_count": 1,
     "metadata": {},
     "output_type": "execute_result"
    }
   ],
   "source": [
    "push!(LOAD_PATH,\"/home/eve/Documents/Matematicas/Proyectos/Implementacion\")"
   ]
  },
  {
   "cell_type": "code",
   "execution_count": 2,
   "metadata": {},
   "outputs": [],
   "source": [
    "using PeriodicosSymmetries\n",
    "using PyPlot\n",
    "using SymPy"
   ]
  },
  {
   "cell_type": "code",
   "execution_count": 4,
   "metadata": {},
   "outputs": [],
   "source": [
    "\n",
    "# x = Sym(\"x\")\n",
    "# y = Sym(\"y\")"
   ]
  },
  {
   "cell_type": "markdown",
   "metadata": {},
   "source": [
    "🔴 Ahora definimos las simetrias como funciones"
   ]
  },
  {
   "cell_type": "code",
   "execution_count": 3,
   "metadata": {},
   "outputs": [
    {
     "data": {
      "text/plain": [
       "simetria4 (generic function with 1 method)"
      ]
     },
     "execution_count": 3,
     "metadata": {},
     "output_type": "execute_result"
    }
   ],
   "source": [
    "simetria1(x,y) = [0,y]\n",
    "simetria2(x,y) = [1/2,y]\n",
    "simetria3(x,y) = [y/2,y]\n",
    "simetria4(x,y) = [(y+1)/2,y]"
   ]
  },
  {
   "cell_type": "markdown",
   "metadata": {},
   "source": [
    "🔴 Definimos el mapeo estándar "
   ]
  },
  {
   "cell_type": "code",
   "execution_count": 4,
   "metadata": {},
   "outputs": [
    {
     "data": {
      "text/plain": [
       "EstandardMap (generic function with 1 method)"
      ]
     },
     "execution_count": 4,
     "metadata": {},
     "output_type": "execute_result"
    }
   ],
   "source": [
    "function EstandardMap(r)\n",
    "    x = r[1]\n",
    "    y = r[2]\n",
    "    vx = x + y - 0.47*sin(2*pi*x)/2*pi\n",
    "    vy =  y - 0.47*sin(2*pi*x )/2*pi \n",
    "    return [vx,vy]\n",
    "end\n",
    "    "
   ]
  },
  {
   "cell_type": "markdown",
   "metadata": {},
   "source": [
    "⭐ Calculamos los puntos de periodo 4"
   ]
  },
  {
   "cell_type": "code",
   "execution_count": 5,
   "metadata": {},
   "outputs": [
    {
     "data": {
      "text/plain": [
       "2-element Array{Float64,1}:\n",
       " 0.0\n",
       " 0.0"
      ]
     },
     "execution_count": 5,
     "metadata": {},
     "output_type": "execute_result"
    }
   ],
   "source": [
    "pp2a = puntoperiodicoS(EstandardMap,2,simetria1,simetria3,0.4)\n",
    "pp2b = puntoperiodicoS(EstandardMap,2,simetria1,simetria3,0.9)"
   ]
  },
  {
   "cell_type": "code",
   "execution_count": 6,
   "metadata": {},
   "outputs": [
    {
     "data": {
      "text/plain": [
       "2-element Array{Float64,1}:\n",
       "  0.5\n",
       " -0.14187845712819078"
      ]
     },
     "execution_count": 6,
     "metadata": {},
     "output_type": "execute_result"
    }
   ],
   "source": [
    "pp2c = puntoperiodicoS(EstandardMap,2,simetria2,simetria3,0.1)"
   ]
  },
  {
   "cell_type": "code",
   "execution_count": 7,
   "metadata": {},
   "outputs": [
    {
     "data": {
      "text/plain": [
       "2-element Array{Float64,1}:\n",
       "  0.5\n",
       " -0.14187845712819078"
      ]
     },
     "execution_count": 7,
     "metadata": {},
     "output_type": "execute_result"
    }
   ],
   "source": [
    "pp2d = puntoperiodicoS(EstandardMap,2,simetria2,simetria3,0.6)"
   ]
  },
  {
   "cell_type": "code",
   "execution_count": 8,
   "metadata": {},
   "outputs": [
    {
     "data": {
      "text/plain": [
       "2-element Array{Float64,1}:\n",
       " 0.20913010708994806\n",
       " 0.4182602141798961"
      ]
     },
     "execution_count": 8,
     "metadata": {},
     "output_type": "execute_result"
    }
   ],
   "source": [
    "pp2e = puntoperiodicoS(EstandardMap,2,simetria3,simetria1,0.4)"
   ]
  },
  {
   "cell_type": "code",
   "execution_count": null,
   "metadata": {},
   "outputs": [],
   "source": [
    "pp2f = puntoperiodicoS(EstandardMap,2,simetria3,simetria2,0.4)"
   ]
  },
  {
   "cell_type": "code",
   "execution_count": null,
   "metadata": {},
   "outputs": [],
   "source": [
    "pp2g = puntoperiodicoS(EstandardMap,2,simetria4,simetria1,0.3)\n",
    "pp2h = puntoperiodicoS(EstandardMap,2,simetria4,simetria2,0.7)"
   ]
  },
  {
   "cell_type": "code",
   "execution_count": 35,
   "metadata": {},
   "outputs": [],
   "source": [
    "function IterarMap(Mapeo, p_ini, n)\n",
    "    #p_ini = pp2a\n",
    "    lista1x = [p_ini[1]]\n",
    "    lista2x = [p_ini[2]]\n",
    "\n",
    "    for i in 1:n\n",
    "        p_ini = Mapeo(p_ini)\n",
    "        p_ini = [mod(p_ini[1],1), mod(p_ini[2],1)]\n",
    "        append!(lista1x,p_ini[1])\n",
    "        append!(lista2x,p_ini[2])\n",
    "    end\n",
    "    return [lista1x,lista2x]\n",
    "end"
   ]
  },
  {
   "cell_type": "code",
   "execution_count": 36,
   "metadata": {},
   "outputs": [
    {
     "data": {
      "text/plain": [
       "11-element Array{Float64,1}:\n",
       " 0.24601425931023416\n",
       " 0.24601425931023416\n",
       " 0.5079714813795317\n",
       " 0.24601425931023413\n",
       " 0.24601425931023413\n",
       " 0.5079714813795317\n",
       " 0.24601425931023413\n",
       " 0.24601425931023413\n",
       " 0.5079714813795317\n",
       " 0.24601425931023413\n",
       " 0.24601425931023413"
      ]
     },
     "execution_count": 36,
     "metadata": {},
     "output_type": "execute_result"
    }
   ],
   "source": [
    "lista2x"
   ]
  },
  {
   "cell_type": "code",
   "execution_count": 27,
   "metadata": {},
   "outputs": [],
   "source": [
    "#listas para graficar las simetrias \n",
    "listasim1Y = [y for y in 0:0.1:1.0] \n",
    "listasim1X = [0.0 for y in listasim1Y]\n",
    "listasim2X = [1/2 for y in listasim1Y]\n",
    "listasim3X = [y/2 for y in listasim1Y]\n",
    "listasim4X = [(y+1.0)/2 for y in listasim1Y];"
   ]
  },
  {
   "cell_type": "code",
   "execution_count": 37,
   "metadata": {},
   "outputs": [
    {
     "data": {
      "image/png": "[encoded data removed]",
      "text/plain": [
       "Figure(PyObject <Figure size 640x480 with 1 Axes>)"
      ]
     },
     "metadata": {},
     "output_type": "display_data"
    },
    {
     "data": {
      "text/plain": [
       "1-element Array{PyCall.PyObject,1}:\n",
       " PyObject <matplotlib.lines.Line2D object at 0x7ff4c0e25710>"
      ]
     },
     "execution_count": 37,
     "metadata": {},
     "output_type": "execute_result"
    }
   ],
   "source": [
    "scatter(lista1x,lista2x)\n",
    "plot(listasim1X, listasim1Y, label = \"\")\n",
    "plot(listasim2X, listasim1Y, label = \"\")\n",
    "plot(listasim3X, listasim1Y, label = \"\")\n",
    "plot(listasim4X, listasim1Y, label = \"\")"
   ]
  },
  {
   "cell_type": "code",
   "execution_count": null,
   "metadata": {},
   "outputs": [],
   "source": []
  }
 ],
 "metadata": {
  "kernelspec": {
   "display_name": "Julia 1.4.2",
   "language": "julia",
   "name": "julia-1.4"
  },
  "language_info": {
   "file_extension": ".jl",
   "mimetype": "application/julia",
   "name": "julia",
   "version": "1.4.2"
  }
 },
 "nbformat": 4,
 "nbformat_minor": 4
}
