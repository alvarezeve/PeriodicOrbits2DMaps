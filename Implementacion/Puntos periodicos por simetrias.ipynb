{
 "cells": [
  {
   "cell_type": "markdown",
   "metadata": {},
   "source": [
    "## Primera implementación del método de involuciones "
   ]
  },
  {
   "cell_type": "code",
   "execution_count": 1,
   "metadata": {},
   "outputs": [
    {
     "name": "stderr",
     "output_type": "stream",
     "text": [
      "┌ Warning: `@pyimport foo` is deprecated in favor of `foo = pyimport(\"foo\")`.\n",
      "│   caller = _pywrap_pyimport(::PyObject) at PyCall.jl:410\n",
      "└ @ PyCall /home/eve/.julia/packages/PyCall/BcTLp/src/PyCall.jl:410\n"
     ]
    }
   ],
   "source": [
    "using PyCall\n",
    "using LaTeXStrings\n",
    "@pyimport numpy as np\n",
    "using SymPy\n",
    "using Roots\n",
    "using Plots"
   ]
  },
  {
   "cell_type": "markdown",
   "metadata": {},
   "source": [
    "Definimos una función para componer n veces (tendremos 3 opciones)"
   ]
  },
  {
   "cell_type": "code",
   "execution_count": 2,
   "metadata": {
    "scrolled": true
   },
   "outputs": [
    {
     "data": {
      "text/plain": [
       "composition (generic function with 1 method)"
      ]
     },
     "execution_count": 2,
     "metadata": {},
     "output_type": "execute_result"
    }
   ],
   "source": [
    "composition(f, n) = ∘(ntuple(_ -> f, n)...) # donde f es una funcion de una variable y composition regresa una funcion"
   ]
  },
  {
   "cell_type": "code",
   "execution_count": 3,
   "metadata": {},
   "outputs": [
    {
     "data": {
      "text/plain": [
       "compose (generic function with 1 method)"
      ]
     },
     "execution_count": 3,
     "metadata": {},
     "output_type": "execute_result"
    }
   ],
   "source": [
    "compose(f, n) = reduce(∘, ntuple(_ -> f, n)) # donde f es una funcion de 1 variable"
   ]
  },
  {
   "cell_type": "code",
   "execution_count": 4,
   "metadata": {},
   "outputs": [
    {
     "data": {
      "text/plain": [
       "composeNT (generic function with 1 method)"
      ]
     },
     "execution_count": 4,
     "metadata": {},
     "output_type": "execute_result"
    }
   ],
   "source": [
    "function composeNT(f, n)\n",
    "    function (x)  # <- Esto indica que es una funcion anonima\n",
    "        val = f(x)\n",
    "        for _ in 2:n\n",
    "            val = f(val)\n",
    "        end\n",
    "        return val\n",
    "    end\n",
    "end\n"
   ]
  },
  {
   "cell_type": "code",
   "execution_count": 5,
   "metadata": {},
   "outputs": [
    {
     "data": {
      "text/plain": [
       "MapeoY (generic function with 1 method)"
      ]
     },
     "execution_count": 5,
     "metadata": {},
     "output_type": "execute_result"
    }
   ],
   "source": [
    "function MapeoX(x,y,a,b)\n",
    "    vx = x+a*(1-(y-b*sin(2*pi*x))^2)\n",
    "    return vx\n",
    "end\n",
    "\n",
    "function MapeoY(x,y,a,b)\n",
    "    vy = y-b*sin(2*pi*x)\n",
    "    return vy\n",
    "end"
   ]
  },
  {
   "cell_type": "code",
   "execution_count": 6,
   "metadata": {},
   "outputs": [
    {
     "data": {
      "text/plain": [
       "MapeoYA (generic function with 1 method)"
      ]
     },
     "execution_count": 6,
     "metadata": {},
     "output_type": "execute_result"
    }
   ],
   "source": [
    "MapeoXA(y) = MapeoX(0.0,y,0.1,0.1)\n",
    "MapeoYA(y) = MapeoY(0.0,y,0.1,0.1)"
   ]
  },
  {
   "cell_type": "code",
   "execution_count": 7,
   "metadata": {},
   "outputs": [
    {
     "data": {
      "text/plain": [
       "Mapeo2YA (generic function with 1 method)"
      ]
     },
     "execution_count": 7,
     "metadata": {},
     "output_type": "execute_result"
    }
   ],
   "source": [
    "Mapeo2XA(y) = MapeoXA(MapeoXA(y))\n",
    "Mapeo2YA(y) = MapeoYA(MapeoYA(y))"
   ]
  },
  {
   "cell_type": "code",
   "execution_count": 8,
   "metadata": {},
   "outputs": [
    {
     "data": {
      "text/plain": [
       "periodicoSimY (generic function with 1 method)"
      ]
     },
     "execution_count": 8,
     "metadata": {},
     "output_type": "execute_result"
    }
   ],
   "source": [
    "function periodicoSimY(fx, fy, intervalo)\n",
    "    cerosy1 = find_zeros(fx,intervalo[1],intervalo[2])\n",
    "    cerosy2 = find_zeros(fy,intervalo[1],intervalo[2])\n",
    "    return [cerosy1,cerosy2]\n",
    "end"
   ]
  },
  {
   "cell_type": "code",
   "execution_count": 9,
   "metadata": {},
   "outputs": [
    {
     "data": {
      "text/plain": [
       "2-element Array{Array{Float64,1},1}:\n",
       " [-3.3166247903554, 3.3166247903554]\n",
       " [0.0]"
      ]
     },
     "execution_count": 9,
     "metadata": {},
     "output_type": "execute_result"
    }
   ],
   "source": [
    "cerosY = periodicoSimY(Mapeo2XA, Mapeo2YA, [-4.0,4.0])"
   ]
  },
  {
   "cell_type": "code",
   "execution_count": 10,
   "metadata": {},
   "outputs": [
    {
     "data": {
      "text/plain": [
       "simetria1 (generic function with 1 method)"
      ]
     },
     "execution_count": 10,
     "metadata": {},
     "output_type": "execute_result"
    }
   ],
   "source": [
    "function simetria1(y,a)\n",
    "    x = mod((a/2)*(1-y^2),1)\n",
    "    return x\n",
    "end"
   ]
  },
  {
   "cell_type": "code",
   "execution_count": 11,
   "metadata": {},
   "outputs": [
    {
     "data": {
      "text/plain": [
       "simetria1A (generic function with 1 method)"
      ]
     },
     "execution_count": 11,
     "metadata": {},
     "output_type": "execute_result"
    }
   ],
   "source": [
    "simetria1A(y) = simetria1(y,0.1)"
   ]
  },
  {
   "cell_type": "code",
   "execution_count": 12,
   "metadata": {},
   "outputs": [
    {
     "data": {
      "text/plain": [
       "periodicoSimX (generic function with 1 method)"
      ]
     },
     "execution_count": 12,
     "metadata": {},
     "output_type": "execute_result"
    }
   ],
   "source": [
    "function periodicoSimX(fx,fy,simetria,cerosy1,cerosy2)\n",
    "    cerosx1 = [simetria(cerosy1[i]) for i in 1:length(cerosy1)]\n",
    "    cerosx2 = [simetria(cerosy2[i]) for i in 1:length(cerosy2)]\n",
    "    return [cerosx1, cerosx2]\n",
    "end"
   ]
  },
  {
   "cell_type": "code",
   "execution_count": 13,
   "metadata": {},
   "outputs": [
    {
     "data": {
      "text/plain": [
       "2-element Array{Array{Float64,1},1}:\n",
       " [0.5, 0.5]\n",
       " [0.05]"
      ]
     },
     "execution_count": 13,
     "metadata": {},
     "output_type": "execute_result"
    }
   ],
   "source": [
    "periodicoSimX(Mapeo2XA,Mapeo2YA,simetria1A,cerosY[1],cerosY[2])"
   ]
  },
  {
   "cell_type": "code",
   "execution_count": 14,
   "metadata": {},
   "outputs": [
    {
     "data": {
      "text/plain": [
       "mapeo2Y (generic function with 1 method)"
      ]
     },
     "execution_count": 14,
     "metadata": {},
     "output_type": "execute_result"
    }
   ],
   "source": [
    "mapeo2X(x)=composition(MapeoXA,20)(x) #esto esta mal debe ser funcion de y \n",
    "mapeo2Y(y)=composition(MapeoYA,20)(y)"
   ]
  },
  {
   "cell_type": "code",
   "execution_count": 15,
   "metadata": {},
   "outputs": [
    {
     "data": {
      "text/plain": [
       "2-element Array{Array{Float64,1},1}:\n",
       " [-10.09898409327636, 10.09898409327636]\n",
       " [0.0]"
      ]
     },
     "execution_count": 15,
     "metadata": {},
     "output_type": "execute_result"
    }
   ],
   "source": [
    "cerosY = periodicoSimY(mapeo2X,mapeo2Y,[-18.0,18.0])"
   ]
  },
  {
   "cell_type": "code",
   "execution_count": 16,
   "metadata": {},
   "outputs": [
    {
     "data": {
      "text/plain": [
       "2-element Array{Array{Float64,1},1}:\n",
       " [0.9505260141875524, 0.9505260141875524]\n",
       " [0.05]"
      ]
     },
     "execution_count": 16,
     "metadata": {},
     "output_type": "execute_result"
    }
   ],
   "source": [
    "periodicoSimX(mapeo2X,mapeo2Y,simetria1A,cerosY[1],cerosY[2])"
   ]
  },
  {
   "cell_type": "markdown",
   "metadata": {},
   "source": [
    "* Como en general vamos a dar un mapeo y queremos que se sustituyan las simetrias y se vayan encontrando los puntos periodicos queremos juntar lo anterior "
   ]
  },
  {
   "cell_type": "markdown",
   "metadata": {},
   "source": [
    "Poe ejemplo imaginemos que tenemos el mapeo siguiente"
   ]
  },
  {
   "cell_type": "code",
   "execution_count": null,
   "metadata": {},
   "outputs": [],
   "source": [
    "function MapeoX(x,y,a,b)\n",
    "    vx = x+a*(1-(y-b*sin(2*pi*x))^2)\n",
    "    return vx\n",
    "end\n",
    "\n",
    "function MapeoY(x,y,a,b)\n",
    "    vy = y-b*sin(2*pi*x)\n",
    "    return vy\n",
    "end"
   ]
  },
  {
   "cell_type": "markdown",
   "metadata": {},
   "source": [
    "* Despues nos dan los parametros y la simetria \n",
    "\n",
    "a=0.1\n",
    "b=0.1\n",
    "\n",
    "sim1 = funcion de y\n"
   ]
  },
  {
   "cell_type": "markdown",
   "metadata": {},
   "source": [
    "* Necesitamos hacer un nuevo mapeo interno con esas caracteristicas\n"
   ]
  },
  {
   "cell_type": "code",
   "execution_count": 77,
   "metadata": {},
   "outputs": [
    {
     "data": {
      "text/plain": [
       "substitutionMap (generic function with 1 method)"
      ]
     },
     "execution_count": 77,
     "metadata": {},
     "output_type": "execute_result"
    }
   ],
   "source": [
    "function substitutionMap(fx,fy,a,b,sim)\n",
    "    MapeoXA(y) = MapeoX(sim(y),y,a,b)\n",
    "    MapeoYA(y) = MapeoY(sim(y),y,a,b)\n",
    "    return [MapeoXA,MapeoYA]\n",
    "end"
   ]
  },
  {
   "cell_type": "code",
   "execution_count": 85,
   "metadata": {},
   "outputs": [
    {
     "data": {
      "text/plain": [
       "simetria2 (generic function with 1 method)"
      ]
     },
     "execution_count": 85,
     "metadata": {},
     "output_type": "execute_result"
    }
   ],
   "source": [
    "simetria1(y)= 0.0\n",
    "simetria2(y)=(1-y^2)/2"
   ]
  },
  {
   "cell_type": "code",
   "execution_count": 86,
   "metadata": {},
   "outputs": [
    {
     "data": {
      "text/plain": [
       "2-element Array{Function,1}:\n",
       " var\"#MapeoXA#17\"{Float64,Float64,typeof(simetria1)}(0.1, 0.1, simetria1)\n",
       " var\"#MapeoYA#18\"{Float64,Float64,typeof(simetria1)}(0.1, 0.1, simetria1)"
      ]
     },
     "execution_count": 86,
     "metadata": {},
     "output_type": "execute_result"
    }
   ],
   "source": [
    "Maps1 = substitutionMap(MapeoX,MapeoY,0.1,0.1,simetria1)"
   ]
  },
  {
   "cell_type": "code",
   "execution_count": 87,
   "metadata": {},
   "outputs": [
    {
     "data": {
      "text/plain": [
       "(::var\"#MapeoYA#18\"{Float64,Float64,typeof(simetria1)}) (generic function with 1 method)"
      ]
     },
     "execution_count": 87,
     "metadata": {},
     "output_type": "execute_result"
    }
   ],
   "source": [
    "Maps1[2]"
   ]
  },
  {
   "cell_type": "markdown",
   "metadata": {},
   "source": [
    "* Estas funciones son las que iteramos despues \n"
   ]
  },
  {
   "cell_type": "code",
   "execution_count": 88,
   "metadata": {},
   "outputs": [
    {
     "data": {
      "text/plain": [
       "mapeo2Y (generic function with 1 method)"
      ]
     },
     "execution_count": 88,
     "metadata": {},
     "output_type": "execute_result"
    }
   ],
   "source": [
    "mapeo2X(y)=composition(Maps1[1],20)(y)\n",
    "mapeo2Y(y)=composition(Maps1[2],20)(y)"
   ]
  },
  {
   "cell_type": "code",
   "execution_count": 91,
   "metadata": {},
   "outputs": [
    {
     "data": {
      "text/plain": [
       "2-element Array{Array{Float64,1},1}:\n",
       " [-10.09898409327636, 10.09898409327636]\n",
       " [0.0]"
      ]
     },
     "execution_count": 91,
     "metadata": {},
     "output_type": "execute_result"
    }
   ],
   "source": [
    "cerosY = periodicoSimY(mapeo2X,mapeo2Y,[-18.0,18.0])"
   ]
  },
  {
   "cell_type": "code",
   "execution_count": 93,
   "metadata": {},
   "outputs": [
    {
     "data": {
      "text/plain": [
       "2-element Array{Array{Float64,1},1}:\n",
       " [0.0, 0.0]\n",
       " [0.0]"
      ]
     },
     "execution_count": 93,
     "metadata": {},
     "output_type": "execute_result"
    }
   ],
   "source": [
    "periodicoSimX(mapeo2X,mapeo2Y,simetria1,cerosY[1],cerosY[2])"
   ]
  },
  {
   "cell_type": "markdown",
   "metadata": {},
   "source": [
    "* Que pasa si la condicion de simetria es nua funcion?"
   ]
  },
  {
   "cell_type": "markdown",
   "metadata": {},
   "source": [
    "* Veamos si se puede sustituir"
   ]
  },
  {
   "cell_type": "code",
   "execution_count": 99,
   "metadata": {},
   "outputs": [
    {
     "data": {
      "text/plain": [
       "2-element Array{Function,1}:\n",
       " var\"#MapeoXA#17\"{Float64,Float64,typeof(simetria2)}(0.1, 0.1, simetria2)\n",
       " var\"#MapeoYA#18\"{Float64,Float64,typeof(simetria2)}(0.1, 0.1, simetria2)"
      ]
     },
     "execution_count": 99,
     "metadata": {},
     "output_type": "execute_result"
    }
   ],
   "source": [
    "Maps2 = substitutionMap(MapeoX,MapeoY,0.1,0.1,simetria2)"
   ]
  },
  {
   "cell_type": "code",
   "execution_count": 100,
   "metadata": {},
   "outputs": [
    {
     "data": {
      "text/plain": [
       "mapeo3Y (generic function with 1 method)"
      ]
     },
     "execution_count": 100,
     "metadata": {},
     "output_type": "execute_result"
    }
   ],
   "source": [
    "mapeo3X(y)=composition(Maps2[1],20)(y)\n",
    "mapeo3Y(y)=composition(Maps2[2],20)(y)"
   ]
  },
  {
   "cell_type": "code",
   "execution_count": 101,
   "metadata": {},
   "outputs": [
    {
     "data": {
      "text/plain": [
       "2-element Array{Array{Float64,1},1}:\n",
       " []\n",
       " [2.449293598294706e-16]"
      ]
     },
     "execution_count": 101,
     "metadata": {},
     "output_type": "execute_result"
    }
   ],
   "source": [
    "cerosY2 = periodicoSimY(mapeo3X,mapeo3Y,[-1.0,1.0])"
   ]
  },
  {
   "cell_type": "code",
   "execution_count": 102,
   "metadata": {},
   "outputs": [
    {
     "data": {
      "text/plain": [
       "2-element Array{Array{Float64,1},1}:\n",
       " []\n",
       " [0.5]"
      ]
     },
     "execution_count": 102,
     "metadata": {},
     "output_type": "execute_result"
    }
   ],
   "source": [
    "periodicoSimX(mapeo3X,mapeo3Y,simetria2,cerosY2[1],cerosY2[2])"
   ]
  },
  {
   "cell_type": "markdown",
   "metadata": {},
   "source": [
    "* Ahora juntamos todo en una funcion o dos"
   ]
  },
  {
   "cell_type": "code",
   "execution_count": 105,
   "metadata": {},
   "outputs": [
    {
     "data": {
      "text/plain": [
       "PeriodicosS (generic function with 1 method)"
      ]
     },
     "execution_count": 105,
     "metadata": {},
     "output_type": "execute_result"
    }
   ],
   "source": [
    "function PeriodicosS(fx,fy,simetria,a,b,n,intervalo)\n",
    "    Maps = substitutionMap(fx,fy,a,b,simetria)\n",
    "    mapeoX(y)=composition(Maps[1],n)(y)\n",
    "    mapeoY(y)=composition(Maps[2],n)(y)\n",
    "    cerosY = periodicoSimY(mapeoX,mapeoY,[intervalo[1],intervalo[2]])\n",
    "    cerosX = periodicoSimX(mapeoX,mapeoY,simetria,cerosY[1],cerosY[2])\n",
    "    return [cerosX,cerosY]\n",
    "end"
   ]
  },
  {
   "cell_type": "code",
   "execution_count": 110,
   "metadata": {},
   "outputs": [
    {
     "data": {
      "text/plain": [
       "2-element Array{Array{Array{Float64,1},1},1}:\n",
       " [[], [0.5]]\n",
       " [[], [2.449293598294706e-16]]"
      ]
     },
     "execution_count": 110,
     "metadata": {},
     "output_type": "execute_result"
    }
   ],
   "source": [
    "PeriodicosS(MapeoX,MapeoY,simetria2,0.1,0.1,20,[-1,1])"
   ]
  },
  {
   "cell_type": "code",
   "execution_count": 111,
   "metadata": {},
   "outputs": [
    {
     "data": {
      "text/plain": [
       "2-element Array{Array{Array{Float64,1},1},1}:\n",
       " [[0.0, 0.0], [0.0]]\n",
       " [[-10.09898409327636, 10.09898409327636], [0.0]]"
      ]
     },
     "execution_count": 111,
     "metadata": {},
     "output_type": "execute_result"
    }
   ],
   "source": [
    "PeriodicosS(MapeoX,MapeoY,simetria1,0.1,0.1,20,[-19,19])"
   ]
  },
  {
   "cell_type": "code",
   "execution_count": 116,
   "metadata": {},
   "outputs": [
    {
     "data": {
      "text/plain": [
       "6-element Array{String,1}:\n",
       " \"@\"\n",
       " \"@v#.#\"\n",
       " \"@stdlib\"\n",
       " \"/home/evelyn/Documentos/Matematicas/Proyectos/periodic_orbits/PeriodicosSymmetries\"\n",
       " \"/home/eve/Documents/Matematicas/Proyectos/periodic_orbits/PeriodicosSymmetries\"\n",
       " \"/home/eve/Documents/Matematicas/Proyectos/periodic_orbits/PeriodicosSymmetries\""
      ]
     },
     "execution_count": 116,
     "metadata": {},
     "output_type": "execute_result"
    }
   ],
   "source": [
    "push!(LOAD_PATH,\"/home/eve/Documents/Matematicas/Proyectos/periodic_orbits/PeriodicosSymmetries\")"
   ]
  },
  {
   "cell_type": "code",
   "execution_count": 117,
   "metadata": {},
   "outputs": [
    {
     "ename": "ArgumentError",
     "evalue": "ArgumentError: Package PeriodicosSymmetries not found in current path:\n- Run `import Pkg; Pkg.add(\"PeriodicosSymmetries\")` to install the PeriodicosSymmetries package.\n",
     "output_type": "error",
     "traceback": [
      "ArgumentError: Package PeriodicosSymmetries not found in current path:\n- Run `import Pkg; Pkg.add(\"PeriodicosSymmetries\")` to install the PeriodicosSymmetries package.\n",
      "",
      "Stacktrace:",
      " [1] require(::Module, ::Symbol) at ./loading.jl:892",
      " [2] top-level scope at In[117]:1"
     ]
    }
   ],
   "source": [
    "using PeriodicosSymmetries"
   ]
  },
  {
   "cell_type": "code",
   "execution_count": null,
   "metadata": {},
   "outputs": [],
   "source": []
  }
 ],
 "metadata": {
  "kernelspec": {
   "display_name": "Julia 1.4.2",
   "language": "julia",
   "name": "julia-1.4"
  },
  "language_info": {
   "file_extension": ".jl",
   "mimetype": "application/julia",
   "name": "julia",
   "version": "1.4.2"
  }
 },
 "nbformat": 4,
 "nbformat_minor": 4
}
