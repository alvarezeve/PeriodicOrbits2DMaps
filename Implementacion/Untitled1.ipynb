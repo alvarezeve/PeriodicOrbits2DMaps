{
 "cells": [
  {
   "cell_type": "markdown",
   "metadata": {},
   "source": [
    "$$c_{fuerza}= \\frac{F_{1}r_{1}+F_{2}r_{2}}{F_{T}}$$"
   ]
  },
  {
   "cell_type": "markdown",
   "metadata": {},
   "source": [
    "$$c_{fuerza}= \\frac{Fr_{1}+Fr_{2}}{F_{T}}$$"
   ]
  },
  {
   "cell_type": "markdown",
   "metadata": {},
   "source": [
    "$$c_{fuerza}= F\\frac{r_{1}+r_{2}}{2F}$$"
   ]
  },
  {
   "cell_type": "markdown",
   "metadata": {},
   "source": [
    "$$c_{fuerza}= \\frac{r_{1}+r_{2}}{2}$$"
   ]
  },
  {
   "cell_type": "markdown",
   "metadata": {},
   "source": [
    "$$m_{1}a_{1}=F_{T1}(r1,r2,r3)$$\n",
    "$$m_{1}\\frac{d^{2}x}{dt}{1}=F_{T1}(r1,r2,r3)$$"
   ]
  },
  {
   "cell_type": "markdown",
   "metadata": {},
   "source": [
    "$$x_{1}(t)=g(t)/m$$"
   ]
  },
  {
   "cell_type": "markdown",
   "metadata": {},
   "source": [
    "$$m_{2}a_{2}=F_{T2}(r2,r4,r3)$$\n",
    "$$m_{2}\\frac{d^{2}x}{dt}{2}=F_{T2}(r1,r2,r3)$$"
   ]
  },
  {
   "cell_type": "markdown",
   "metadata": {},
   "source": [
    "$$m_{1}a_{1}=F_{T1}(r1,r2,r3)=F_{21}+F_{31}+..$$\n",
    "$$m_{2}a_{2}=F_{T2}(r1,r2,r3)$$\n",
    "$$m_{3}a_{3}=F_{T3}(r1,r2,r3)$$\n",
    "$$m_{4}a_{4}=F_{T4}(r1,r2,r3)$$\n"
   ]
  },
  {
   "cell_type": "code",
   "execution_count": null,
   "metadata": {},
   "outputs": [],
   "source": []
  },
  {
   "cell_type": "code",
   "execution_count": null,
   "metadata": {},
   "outputs": [],
   "source": []
  }
 ],
 "metadata": {
  "kernelspec": {
   "display_name": "Julia 1.4.2",
   "language": "julia",
   "name": "julia-1.4"
  },
  "language_info": {
   "file_extension": ".jl",
   "mimetype": "application/julia",
   "name": "julia",
   "version": "1.4.2"
  }
 },
 "nbformat": 4,
 "nbformat_minor": 4
}
