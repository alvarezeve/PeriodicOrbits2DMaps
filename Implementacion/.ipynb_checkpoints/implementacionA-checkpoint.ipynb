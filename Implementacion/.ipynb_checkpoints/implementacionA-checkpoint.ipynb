{
 "cells": [
  {
   "cell_type": "markdown",
   "metadata": {},
   "source": [
    "## Paso a paso"
   ]
  },
  {
   "cell_type": "code",
   "execution_count": 1,
   "metadata": {},
   "outputs": [],
   "source": [
    "using PyPlot\n",
    "using SymPy"
   ]
  },
  {
   "cell_type": "markdown",
   "metadata": {},
   "source": [
    "🔵 Definimos el mapeo"
   ]
  },
  {
   "cell_type": "code",
   "execution_count": 2,
   "metadata": {},
   "outputs": [
    {
     "data": {
      "text/plain": [
       "EstandardMap (generic function with 1 method)"
      ]
     },
     "execution_count": 2,
     "metadata": {},
     "output_type": "execute_result"
    }
   ],
   "source": [
    "function EstandardMap(r)\n",
    "    x = r[1]\n",
    "    y = r[2]\n",
    "    vx = x + y - 0.47*sin(2*pi*x)/2*pi\n",
    "    vy =  y - 0.47*sin(2*pi*x )/2*pi\n",
    "    return [vx,vy]\n",
    "end"
   ]
  },
  {
   "cell_type": "markdown",
   "metadata": {},
   "source": [
    "🔵 Definimos una simetria con la que trabajaremos."
   ]
  },
  {
   "cell_type": "code",
   "execution_count": 3,
   "metadata": {},
   "outputs": [
    {
     "data": {
      "text/plain": [
       "simetria1 (generic function with 1 method)"
      ]
     },
     "execution_count": 3,
     "metadata": {},
     "output_type": "execute_result"
    }
   ],
   "source": [
    "simetria1(x,y) = [0,y]"
   ]
  },
  {
   "cell_type": "markdown",
   "metadata": {},
   "source": [
    "🔵 Definimos una funcion para las iteraciones."
   ]
  },
  {
   "cell_type": "code",
   "execution_count": 4,
   "metadata": {},
   "outputs": [
    {
     "data": {
      "text/plain": [
       "composition (generic function with 1 method)"
      ]
     },
     "execution_count": 4,
     "metadata": {},
     "output_type": "execute_result"
    }
   ],
   "source": [
    "composition(f, n) = ∘(ntuple(_ -> f, n)...) # donde f es una funcion de una variable y composition regresa una funcion"
   ]
  },
  {
   "cell_type": "markdown",
   "metadata": {},
   "source": [
    "🔵 Para buscar puntos de periodo 4 necesitamos iterar dos veces. "
   ]
  },
  {
   "cell_type": "code",
   "execution_count": 5,
   "metadata": {},
   "outputs": [
    {
     "data": {
      "text/plain": [
       "mapeo2 (generic function with 1 method)"
      ]
     },
     "execution_count": 5,
     "metadata": {},
     "output_type": "execute_result"
    }
   ],
   "source": [
    "mapeo2(v)= composition(EstandardMap,2)(v)"
   ]
  },
  {
   "cell_type": "markdown",
   "metadata": {},
   "source": [
    "🔵 Tomamos un punto en la simetria 1 y se lo aplicamos en el mapeo."
   ]
  },
  {
   "cell_type": "code",
   "execution_count": 6,
   "metadata": {},
   "outputs": [
    {
     "data": {
      "text/latex": [
       "\\begin{equation*}y\\end{equation*}"
      ],
      "text/plain": [
       "y"
      ]
     },
     "execution_count": 6,
     "metadata": {},
     "output_type": "execute_result"
    }
   ],
   "source": [
    "y = Sym(\"y\")"
   ]
  },
  {
   "cell_type": "code",
   "execution_count": 7,
   "metadata": {},
   "outputs": [
    {
     "data": {
      "text/latex": [
       "\\[ \\left[ \\begin{array}{r}2 y - 0.235 \\pi \\sin{\\left(6.28318530717959 y \\right)}\\\\y - 0.235 \\pi \\sin{\\left(6.28318530717959 y \\right)}\\end{array} \\right] \\]"
      ],
      "text/plain": [
       "2-element Array{Sym,1}:\n",
       " 2*y - 0.235*pi*sin(6.28318530717959*y)\n",
       "   y - 0.235*pi*sin(6.28318530717959*y)"
      ]
     },
     "execution_count": 7,
     "metadata": {},
     "output_type": "execute_result"
    }
   ],
   "source": [
    "punto1 = mapeo2([0,y])\n",
    "#punto1(y) = mapeo2([0,y])"
   ]
  },
  {
   "cell_type": "markdown",
   "metadata": {},
   "source": [
    "🔵  Buscamos que despues de las dos iteraciones el punto 1 caiga en la simetria 3. "
   ]
  },
  {
   "cell_type": "code",
   "execution_count": 8,
   "metadata": {},
   "outputs": [
    {
     "data": {
      "text/latex": [
       "\\begin{equation*}\\frac{3 y}{2} - 0.1175 \\pi \\sin{\\left(6.28318530717959 y \\right)}\\end{equation*}"
      ],
      "text/plain": [
       "3⋅y                                   \n",
       "─── - 0.1175⋅π⋅sin(6.28318530717959⋅y)\n",
       " 2                                    "
      ]
     },
     "execution_count": 8,
     "metadata": {},
     "output_type": "execute_result"
    }
   ],
   "source": [
    "punto1[1]-punto1[2]/2"
   ]
  },
  {
   "cell_type": "code",
   "execution_count": 9,
   "metadata": {},
   "outputs": [
    {
     "data": {
      "text/plain": [
       "simetria3 (generic function with 1 method)"
      ]
     },
     "execution_count": 9,
     "metadata": {},
     "output_type": "execute_result"
    }
   ],
   "source": [
    "simetria3(x,y) = x-y/2"
   ]
  },
  {
   "cell_type": "code",
   "execution_count": 10,
   "metadata": {},
   "outputs": [
    {
     "data": {
      "text/latex": [
       "\\begin{equation*}\\frac{3 y}{2} - 0.1175 \\pi \\sin{\\left(6.28318530717959 y \\right)}\\end{equation*}"
      ],
      "text/plain": [
       "3⋅y                                   \n",
       "─── - 0.1175⋅π⋅sin(6.28318530717959⋅y)\n",
       " 2                                    "
      ]
     },
     "execution_count": 10,
     "metadata": {},
     "output_type": "execute_result"
    }
   ],
   "source": [
    "#simetria3(x,y) = [y/2,y]\n",
    "simetria3(punto1[1],punto1[2])"
   ]
  },
  {
   "cell_type": "code",
   "execution_count": 11,
   "metadata": {},
   "outputs": [],
   "source": [
    "#punto2a(y) = simetria3(punto1(y)[1],punto1(y)[2])"
   ]
  },
  {
   "cell_type": "markdown",
   "metadata": {},
   "source": [
    "🔵 Construimos una nueva ecuacion."
   ]
  },
  {
   "cell_type": "code",
   "execution_count": 12,
   "metadata": {},
   "outputs": [
    {
     "data": {
      "text/plain": [
       "ecua1a (generic function with 1 method)"
      ]
     },
     "execution_count": 12,
     "metadata": {},
     "output_type": "execute_result"
    }
   ],
   "source": [
    "#ecua1a(y) = punto2a(y)[1]-punto2a(y)[2]\n",
    "ecua1a(y) = simetria3(punto1[1],punto1[2])"
   ]
  },
  {
   "cell_type": "markdown",
   "metadata": {},
   "source": [
    "🔵 Buscamos la raiz de esta ecuacion 1 "
   ]
  },
  {
   "cell_type": "code",
   "execution_count": 13,
   "metadata": {},
   "outputs": [],
   "source": [
    "using Roots"
   ]
  },
  {
   "cell_type": "code",
   "execution_count": 14,
   "metadata": {},
   "outputs": [
    {
     "ename": "UndefVarError",
     "evalue": "UndefVarError: f not defined",
     "output_type": "error",
     "traceback": [
      "UndefVarError: f not defined",
      "",
      "Stacktrace:",
      " [1] macro expansion at ./util.jl:175 [inlined]",
      " [2] top-level scope at ./In[14]:1"
     ]
    }
   ],
   "source": [
    "@time periodo4a = find_zero(f,3.0)"
   ]
  },
  {
   "cell_type": "code",
   "execution_count": 15,
   "metadata": {},
   "outputs": [
    {
     "data": {
      "text/latex": [
       "\\begin{equation*}\\frac{3 y}{2} - 0.1175 \\pi \\sin{\\left(6.28318530717959 y \\right)}\\end{equation*}"
      ],
      "text/plain": [
       "3⋅y                                   \n",
       "─── - 0.1175⋅π⋅sin(6.28318530717959⋅y)\n",
       " 2                                    "
      ]
     },
     "execution_count": 15,
     "metadata": {},
     "output_type": "execute_result"
    }
   ],
   "source": [
    "ecua1a(y)"
   ]
  },
  {
   "cell_type": "code",
   "execution_count": 16,
   "metadata": {},
   "outputs": [
    {
     "data": {
      "text/plain": [
       "f (generic function with 1 method)"
      ]
     },
     "execution_count": 16,
     "metadata": {},
     "output_type": "execute_result"
    }
   ],
   "source": [
    "f(x) = (3*x)/2.0 -0.1175*pi*sin(2*pi*x)"
   ]
  },
  {
   "cell_type": "code",
   "execution_count": 17,
   "metadata": {},
   "outputs": [
    {
     "ename": "UndefVarError",
     "evalue": "UndefVarError: periodo4a not defined",
     "output_type": "error",
     "traceback": [
      "UndefVarError: periodo4a not defined",
      "",
      "Stacktrace:",
      " [1] top-level scope at In[17]:1"
     ]
    }
   ],
   "source": [
    "mapeo2([0,periodo4a])"
   ]
  },
  {
   "cell_type": "code",
   "execution_count": 18,
   "metadata": {},
   "outputs": [
    {
     "ename": "UndefVarError",
     "evalue": "UndefVarError: periodo4a not defined",
     "output_type": "error",
     "traceback": [
      "UndefVarError: periodo4a not defined",
      "",
      "Stacktrace:",
      " [1] top-level scope at In[18]:1"
     ]
    }
   ],
   "source": [
    "f(periodo4a)"
   ]
  },
  {
   "cell_type": "code",
   "execution_count": 19,
   "metadata": {},
   "outputs": [
    {
     "data": {
      "image/png": "[encoded data removed]",
      "text/plain": [
       "Figure(PyObject <Figure size 640x480 with 1 Axes>)"
      ]
     },
     "metadata": {},
     "output_type": "display_data"
    },
    {
     "data": {
      "text/plain": [
       "1-element Array{PyCall.PyObject,1}:\n",
       " PyObject <matplotlib.lines.Line2D object at 0x7f2e418750d0>"
      ]
     },
     "execution_count": 19,
     "metadata": {},
     "output_type": "execute_result"
    }
   ],
   "source": [
    "plot([f(x) for x in 0:0.01:.5])"
   ]
  },
  {
   "cell_type": "markdown",
   "metadata": {},
   "source": [
    "🔵 Entonces tenemos 2 puntos de periodo 4, pero realmente uno es punto fijo."
   ]
  },
  {
   "cell_type": "code",
   "execution_count": 20,
   "metadata": {},
   "outputs": [
    {
     "data": {
      "text/plain": [
       "iterar (generic function with 1 method)"
      ]
     },
     "execution_count": 20,
     "metadata": {},
     "output_type": "execute_result"
    }
   ],
   "source": [
    "function iterar(x_ini, n)\n",
    "    X = [mod(x_ini[1],1)]\n",
    "    Y = [mod(x_ini[2],1)]\n",
    "    for i in 1:n\n",
    "        x_ini = EstandardMap(x_ini)\n",
    "        if abs(x_ini[1])<1e-10\n",
    "            x_ini[1] = 0\n",
    "        end\n",
    "        x_ini = [mod(x_ini[1],1),mod(x_ini[2],1)]\n",
    "        #x_ini = [EstandardMap(x_ini)[1],EstandardMap(x_ini)[2]]\n",
    "        append!(X,x_ini[1])\n",
    "        append!(Y,x_ini[2])\n",
    "    end\n",
    "    return X,Y\n",
    "end\n",
    "    "
   ]
  },
  {
   "cell_type": "markdown",
   "metadata": {},
   "source": [
    "🔵 Para verificar si son de periodo 4 los iteramos."
   ]
  },
  {
   "cell_type": "code",
   "execution_count": 21,
   "metadata": {},
   "outputs": [
    {
     "ename": "UndefVarError",
     "evalue": "UndefVarError: periodo4a not defined",
     "output_type": "error",
     "traceback": [
      "UndefVarError: periodo4a not defined",
      "",
      "Stacktrace:",
      " [1] top-level scope at In[21]:1"
     ]
    }
   ],
   "source": [
    "p1a = iterar([0.0,periodo4a],13);"
   ]
  },
  {
   "cell_type": "code",
   "execution_count": 22,
   "metadata": {},
   "outputs": [
    {
     "ename": "UndefVarError",
     "evalue": "UndefVarError: p1a not defined",
     "output_type": "error",
     "traceback": [
      "UndefVarError: p1a not defined",
      "",
      "Stacktrace:",
      " [1] top-level scope at In[22]:1"
     ]
    }
   ],
   "source": [
    "p1a[1]"
   ]
  },
  {
   "cell_type": "code",
   "execution_count": 23,
   "metadata": {},
   "outputs": [],
   "source": [
    "listasim1Y = [y for y in 0:0.1:1.0] \n",
    "listasim1X = [0.0 for y in listasim1Y]\n",
    "listasim2X = [1/2 for y in listasim1Y]\n",
    "listasim3X = [y/2 for y in listasim1Y]\n",
    "listasim4X = [(y+1.0)/2 for y in listasim1Y];"
   ]
  },
  {
   "cell_type": "code",
   "execution_count": 24,
   "metadata": {},
   "outputs": [
    {
     "ename": "UndefVarError",
     "evalue": "UndefVarError: p1a not defined",
     "output_type": "error",
     "traceback": [
      "UndefVarError: p1a not defined",
      "",
      "Stacktrace:",
      " [1] top-level scope at In[24]:1"
     ]
    }
   ],
   "source": [
    "scatter(p1a[1],p1a[2])\n",
    "plot(listasim1X, listasim1Y, label = \"\")\n",
    "plot(listasim2X, listasim1Y, label = \"\")\n",
    "plot(listasim3X, listasim1Y, label = \"\")\n",
    "plot(listasim4X, listasim1Y, label = \"\")"
   ]
  },
  {
   "cell_type": "markdown",
   "metadata": {},
   "source": [
    "🔵 Ahora busquemos puntos de periodo dos en la otra simetria. "
   ]
  },
  {
   "cell_type": "code",
   "execution_count": 25,
   "metadata": {},
   "outputs": [
    {
     "data": {
      "text/plain": [
       "simetria4 (generic function with 1 method)"
      ]
     },
     "execution_count": 25,
     "metadata": {},
     "output_type": "execute_result"
    }
   ],
   "source": [
    "simetria4(x,y) = x-(y+1)/2.0"
   ]
  },
  {
   "cell_type": "code",
   "execution_count": 26,
   "metadata": {},
   "outputs": [
    {
     "data": {
      "text/latex": [
       "\\begin{equation*}1.5 y - 0.1175 \\pi \\sin{\\left(6.28318530717959 y \\right)} - 0.5\\end{equation*}"
      ],
      "text/plain": [
       "1.5⋅y - 0.1175⋅π⋅sin(6.28318530717959⋅y) - 0.5"
      ]
     },
     "execution_count": 26,
     "metadata": {},
     "output_type": "execute_result"
    }
   ],
   "source": [
    "punto3 = simetria4(punto1[1], punto1[2])"
   ]
  },
  {
   "cell_type": "code",
   "execution_count": 27,
   "metadata": {},
   "outputs": [
    {
     "data": {
      "text/plain": [
       "ecua2 (generic function with 1 method)"
      ]
     },
     "execution_count": 27,
     "metadata": {},
     "output_type": "execute_result"
    }
   ],
   "source": [
    "ecua2(y) = simetria4(punto1[1], punto1[2])"
   ]
  },
  {
   "cell_type": "code",
   "execution_count": 28,
   "metadata": {},
   "outputs": [
    {
     "data": {
      "text/plain": [
       "f2 (generic function with 1 method)"
      ]
     },
     "execution_count": 28,
     "metadata": {},
     "output_type": "execute_result"
    }
   ],
   "source": [
    "f2(x) = 1.5*x-0.1175*pi*sin(2*pi*x)-0.5"
   ]
  },
  {
   "cell_type": "code",
   "execution_count": 29,
   "metadata": {},
   "outputs": [
    {
     "data": {
      "image/png": "[encoded data removed]",
      "text/plain": [
       "Figure(PyObject <Figure size 640x480 with 1 Axes>)"
      ]
     },
     "metadata": {},
     "output_type": "display_data"
    },
    {
     "data": {
      "text/plain": [
       "1-element Array{PyCall.PyObject,1}:\n",
       " PyObject <matplotlib.lines.Line2D object at 0x7f2e38592190>"
      ]
     },
     "execution_count": 29,
     "metadata": {},
     "output_type": "execute_result"
    }
   ],
   "source": [
    "plot([f2(y) for y in -1:0.1:10])"
   ]
  },
  {
   "cell_type": "code",
   "execution_count": 30,
   "metadata": {},
   "outputs": [
    {
     "data": {
      "text/plain": [
       "1-element Array{Float64,1}:\n",
       " 0.433372460621069"
      ]
     },
     "execution_count": 30,
     "metadata": {},
     "output_type": "execute_result"
    }
   ],
   "source": [
    "p1b = find_zeros(f2,0.0,10.0)"
   ]
  },
  {
   "cell_type": "code",
   "execution_count": 31,
   "metadata": {},
   "outputs": [],
   "source": [
    "P1b = iterar([0.0,p1b[1]],10);"
   ]
  },
  {
   "cell_type": "code",
   "execution_count": 32,
   "metadata": {},
   "outputs": [
    {
     "data": {
      "text/plain": [
       "11-element Array{Float64,1}:\n",
       " 0.0\n",
       " 0.433372460621069\n",
       " 0.5666275393789311\n",
       " 0.0\n",
       " 0.4333724606210689\n",
       " 0.5666275393789304\n",
       " 0.9999999999999961\n",
       " 0.4333724606210798\n",
       " 0.5666275393790026\n",
       " 4.3520742565306136e-13\n",
       " 0.4333724606198491"
      ]
     },
     "execution_count": 32,
     "metadata": {},
     "output_type": "execute_result"
    }
   ],
   "source": [
    "P1b[1]"
   ]
  },
  {
   "cell_type": "code",
   "execution_count": 33,
   "metadata": {},
   "outputs": [
    {
     "data": {
      "image/png": "[encoded data removed]",
      "text/plain": [
       "Figure(PyObject <Figure size 640x480 with 1 Axes>)"
      ]
     },
     "metadata": {},
     "output_type": "display_data"
    },
    {
     "data": {
      "text/plain": [
       "1-element Array{PyCall.PyObject,1}:\n",
       " PyObject <matplotlib.lines.Line2D object at 0x7f2e533069d0>"
      ]
     },
     "execution_count": 33,
     "metadata": {},
     "output_type": "execute_result"
    }
   ],
   "source": [
    "scatter(P1b[1],P1b[2])\n",
    "plot(listasim1X, listasim1Y, label = \"\")\n",
    "plot(listasim2X, listasim1Y, label = \"\")\n",
    "plot(listasim3X, listasim1Y, label = \"\")\n",
    "plot(listasim4X, listasim1Y, label = \"\")"
   ]
  },
  {
   "cell_type": "markdown",
   "metadata": {},
   "source": [
    "🔵 Ahora buscamos puntos que esten en la simetria 3 pero que despues de dos iteraciones caigan en la 1."
   ]
  },
  {
   "cell_type": "code",
   "execution_count": 34,
   "metadata": {},
   "outputs": [
    {
     "data": {
      "text/latex": [
       "\\[ \\left[ \\begin{array}{r}\\frac{5 y}{2} - 0.47 \\pi \\sin{\\left(3.14159265358979 y \\right)} - 0.235 \\pi \\sin{\\left(9.42477796076938 y - 1.4765485471872 \\pi \\sin{\\left(3.14159265358979 y \\right)} \\right)}\\\\y - 0.235 \\pi \\sin{\\left(3.14159265358979 y \\right)} - 0.235 \\pi \\sin{\\left(9.42477796076938 y - 1.4765485471872 \\pi \\sin{\\left(3.14159265358979 y \\right)} \\right)}\\end{array} \\right] \\]"
      ],
      "text/plain": [
       "2-element Array{Sym,1}:\n",
       " 5*y/2 - 0.47*pi*sin(3.14159265358979*y) - 0.235*pi*sin(9.42477796076938*y - 1.4765485471872*pi*sin(3.14159265358979*y))\n",
       "    y - 0.235*pi*sin(3.14159265358979*y) - 0.235*pi*sin(9.42477796076938*y - 1.4765485471872*pi*sin(3.14159265358979*y))"
      ]
     },
     "execution_count": 34,
     "metadata": {},
     "output_type": "execute_result"
    }
   ],
   "source": [
    "punto3 = mapeo2([y/2,y])"
   ]
  },
  {
   "cell_type": "code",
   "execution_count": 35,
   "metadata": {},
   "outputs": [
    {
     "data": {
      "text/plain": [
       "simetria1 (generic function with 1 method)"
      ]
     },
     "execution_count": 35,
     "metadata": {},
     "output_type": "execute_result"
    }
   ],
   "source": [
    "simetria1(x,y) = x"
   ]
  },
  {
   "cell_type": "code",
   "execution_count": 36,
   "metadata": {},
   "outputs": [
    {
     "data": {
      "text/plain": [
       "ecua3 (generic function with 1 method)"
      ]
     },
     "execution_count": 36,
     "metadata": {},
     "output_type": "execute_result"
    }
   ],
   "source": [
    "ecua3(y) = simetria1(punto3[1],punto3[2])"
   ]
  },
  {
   "cell_type": "code",
   "execution_count": 37,
   "metadata": {},
   "outputs": [
    {
     "data": {
      "text/latex": [
       "\\begin{equation*}\\frac{5 y}{2} - 0.47 \\pi \\sin{\\left(3.14159265358979 y \\right)} - 0.235 \\pi \\sin{\\left(9.42477796076938 y - 1.4765485471872 \\pi \\sin{\\left(3.14159265358979 y \\right)} \\right)}\\end{equation*}"
      ],
      "text/plain": [
       "5⋅y                                                                           \n",
       "─── - 0.47⋅π⋅sin(3.14159265358979⋅y) - 0.235⋅π⋅sin(9.42477796076938⋅y - 1.4765\n",
       " 2                                                                            \n",
       "\n",
       "                                    \n",
       "485471872⋅π⋅sin(3.14159265358979⋅y))\n",
       "                                    "
      ]
     },
     "execution_count": 37,
     "metadata": {},
     "output_type": "execute_result"
    }
   ],
   "source": [
    "ecua3(y)"
   ]
  },
  {
   "cell_type": "code",
   "execution_count": 38,
   "metadata": {},
   "outputs": [
    {
     "data": {
      "text/plain": [
       "f3 (generic function with 1 method)"
      ]
     },
     "execution_count": 38,
     "metadata": {},
     "output_type": "execute_result"
    }
   ],
   "source": [
    "f3(y) = 5*y/2-0.47*pi*sin(3.14159265358979*y)-0.235*pi*sin(9.42477796076938*y-1.4765485471872*pi*sin(3.14159265358979*y))"
   ]
  },
  {
   "cell_type": "code",
   "execution_count": 39,
   "metadata": {},
   "outputs": [
    {
     "data": {
      "image/png": "[encoded data removed]",
      "text/plain": [
       "Figure(PyObject <Figure size 640x480 with 1 Axes>)"
      ]
     },
     "metadata": {},
     "output_type": "display_data"
    },
    {
     "data": {
      "text/plain": [
       "1-element Array{PyCall.PyObject,1}:\n",
       " PyObject <matplotlib.lines.Line2D object at 0x7f2e53289590>"
      ]
     },
     "execution_count": 39,
     "metadata": {},
     "output_type": "execute_result"
    }
   ],
   "source": [
    "plot([f3(y) for y in 0:0.1:10])"
   ]
  },
  {
   "cell_type": "code",
   "execution_count": 40,
   "metadata": {},
   "outputs": [
    {
     "data": {
      "text/plain": [
       "0.6795422243772808"
      ]
     },
     "execution_count": 40,
     "metadata": {},
     "output_type": "execute_result"
    }
   ],
   "source": [
    "periodo4c = find_zero(f3,1)"
   ]
  },
  {
   "cell_type": "code",
   "execution_count": 41,
   "metadata": {},
   "outputs": [
    {
     "data": {
      "text/plain": [
       "0.3397711121886404"
      ]
     },
     "execution_count": 41,
     "metadata": {},
     "output_type": "execute_result"
    }
   ],
   "source": [
    "periodo4c/2"
   ]
  },
  {
   "cell_type": "code",
   "execution_count": 45,
   "metadata": {},
   "outputs": [],
   "source": [
    "p3a = iterar([periodo4c/2,periodo4c],25);"
   ]
  },
  {
   "cell_type": "code",
   "execution_count": 46,
   "metadata": {},
   "outputs": [
    {
     "data": {
      "text/plain": [
       "26-element Array{Float64,1}:\n",
       " 0.3397711121886404\n",
       " 0.3953994840276718\n",
       " 0.0\n",
       " 0.6046005159723278\n",
       " 0.6602288878113576\n",
       " 0.33977111218863154\n",
       " 0.39539948402763425\n",
       " 0.0\n",
       " 0.6046005159721612\n",
       " 0.6602288878104128\n",
       " 0.3397711121845659\n",
       " 0.3953994840103652\n",
       " 0.0\n",
       " 0.6046005158955385\n",
       " 0.660228887375776\n",
       " 0.33977111031405394\n",
       " 0.3953994760652728\n",
       " 0.9999999567084525\n",
       " 0.6046006381687425\n",
       " 0.6602296242531231\n",
       " 0.33977428917990915\n",
       " 0.3954129803518157\n",
       " 7.338155586705808e-5\n",
       " 0.6043933867164091\n",
       " 0.6589801987433166\n",
       " 0.33436505332557376"
      ]
     },
     "execution_count": 46,
     "metadata": {},
     "output_type": "execute_result"
    }
   ],
   "source": [
    "p3a[1]"
   ]
  },
  {
   "cell_type": "code",
   "execution_count": 47,
   "metadata": {
    "scrolled": true
   },
   "outputs": [
    {
     "data": {
      "image/png": "[encoded data removed]",
      "text/plain": [
       "Figure(PyObject <Figure size 640x480 with 1 Axes>)"
      ]
     },
     "metadata": {},
     "output_type": "display_data"
    },
    {
     "data": {
      "text/plain": [
       "1-element Array{PyCall.PyObject,1}:\n",
       " PyObject <matplotlib.lines.Line2D object at 0x7f2e531f6cd0>"
      ]
     },
     "execution_count": 47,
     "metadata": {},
     "output_type": "execute_result"
    }
   ],
   "source": [
    "scatter(p3a[1],p3a[2])\n",
    "plot(listasim1X, listasim1Y, label = \"\")\n",
    "plot(listasim2X, listasim1Y, label = \"\")\n",
    "plot(listasim3X, listasim1Y, label = \"\")\n",
    "plot(listasim4X, listasim1Y, label = \"\")"
   ]
  },
  {
   "cell_type": "markdown",
   "metadata": {},
   "source": [
    "🔵 Ahora buscamos simetrias que esten en la simetria 3 pero que despues de dos iteraciones esten en la simetria 2. "
   ]
  },
  {
   "cell_type": "code",
   "execution_count": 87,
   "metadata": {},
   "outputs": [
    {
     "data": {
      "text/latex": [
       "\\[ \\left[ \\begin{array}{r}\\frac{5 y}{2} - 0.47 \\pi \\sin{\\left(3.14159265358979 y \\right)} - 0.235 \\pi \\sin{\\left(9.42477796076938 y - 1.4765485471872 \\pi \\sin{\\left(3.14159265358979 y \\right)} \\right)}\\\\y - 0.235 \\pi \\sin{\\left(3.14159265358979 y \\right)} - 0.235 \\pi \\sin{\\left(9.42477796076938 y - 1.4765485471872 \\pi \\sin{\\left(3.14159265358979 y \\right)} \\right)}\\end{array} \\right] \\]"
      ],
      "text/plain": [
       "2-element Array{Sym,1}:\n",
       " 5*y/2 - 0.47*pi*sin(3.14159265358979*y) - 0.235*pi*sin(9.42477796076938*y - 1.4765485471872*pi*sin(3.14159265358979*y))\n",
       "    y - 0.235*pi*sin(3.14159265358979*y) - 0.235*pi*sin(9.42477796076938*y - 1.4765485471872*pi*sin(3.14159265358979*y))"
      ]
     },
     "execution_count": 87,
     "metadata": {},
     "output_type": "execute_result"
    }
   ],
   "source": [
    "punto3"
   ]
  },
  {
   "cell_type": "code",
   "execution_count": 88,
   "metadata": {},
   "outputs": [
    {
     "data": {
      "text/plain": [
       "simetria2 (generic function with 1 method)"
      ]
     },
     "execution_count": 88,
     "metadata": {},
     "output_type": "execute_result"
    }
   ],
   "source": [
    "simetria2(x,y) = x-1/2"
   ]
  },
  {
   "cell_type": "code",
   "execution_count": 89,
   "metadata": {},
   "outputs": [
    {
     "data": {
      "text/plain": [
       "ecua4 (generic function with 1 method)"
      ]
     },
     "execution_count": 89,
     "metadata": {},
     "output_type": "execute_result"
    }
   ],
   "source": [
    "ecua4(y)= simetria2(punto3[1],punto3[2])"
   ]
  },
  {
   "cell_type": "code",
   "execution_count": 90,
   "metadata": {},
   "outputs": [
    {
     "data": {
      "text/latex": [
       "\\begin{equation*}\\frac{5 y}{2} - 0.47 \\pi \\sin{\\left(3.14159265358979 y \\right)} - 0.235 \\pi \\sin{\\left(9.42477796076938 y - 1.4765485471872 \\pi \\sin{\\left(3.14159265358979 y \\right)} \\right)} - 0.5\\end{equation*}"
      ],
      "text/plain": [
       "5⋅y                                                                           \n",
       "─── - 0.47⋅π⋅sin(3.14159265358979⋅y) - 0.235⋅π⋅sin(9.42477796076938⋅y - 1.4765\n",
       " 2                                                                            \n",
       "\n",
       "                                          \n",
       "485471872⋅π⋅sin(3.14159265358979⋅y)) - 0.5\n",
       "                                          "
      ]
     },
     "execution_count": 90,
     "metadata": {},
     "output_type": "execute_result"
    }
   ],
   "source": [
    "ecua4(y)"
   ]
  },
  {
   "cell_type": "code",
   "execution_count": 129,
   "metadata": {},
   "outputs": [
    {
     "data": {
      "text/plain": [
       "f4 (generic function with 1 method)"
      ]
     },
     "execution_count": 129,
     "metadata": {},
     "output_type": "execute_result"
    }
   ],
   "source": [
    "f4(y) = ((5*y)/2)-0.47*pi*sin(3.14159265358979*y)-0.235*pi*sin(9.42477796076938*y-1.4765485471872*pi*sin(3.14159265358979*y))-0.5 "
   ]
  },
  {
   "cell_type": "code",
   "execution_count": 130,
   "metadata": {},
   "outputs": [
    {
     "data": {
      "image/png": "[encoded data removed]",
      "text/plain": [
       "Figure(PyObject <Figure size 640x480 with 1 Axes>)"
      ]
     },
     "metadata": {},
     "output_type": "display_data"
    },
    {
     "data": {
      "text/plain": [
       "1-element Array{PyCall.PyObject,1}:\n",
       " PyObject <matplotlib.lines.Line2D object at 0x7f2e378ceb50>"
      ]
     },
     "execution_count": 130,
     "metadata": {},
     "output_type": "execute_result"
    }
   ],
   "source": [
    "listaxplot = [y for y in 0:0.01:10]\n",
    "plot(listaxplot,[f4(y) for y in 0:0.01:10])\n",
    "# xlim(0,1.2)\n",
    "# ylim(-1,20)\n",
    "# grid(\"True\")"
   ]
  },
  {
   "cell_type": "code",
   "execution_count": 131,
   "metadata": {},
   "outputs": [
    {
     "data": {
      "text/plain": [
       "0.70875494077792"
      ]
     },
     "execution_count": 131,
     "metadata": {},
     "output_type": "execute_result"
    }
   ],
   "source": [
    "periodo4d = find_zero(f4,7.0)"
   ]
  },
  {
   "cell_type": "code",
   "execution_count": 132,
   "metadata": {},
   "outputs": [
    {
     "data": {
      "text/plain": [
       "3.3306690738754696e-16"
      ]
     },
     "execution_count": 132,
     "metadata": {},
     "output_type": "execute_result"
    }
   ],
   "source": [
    "f4(periodo4d)"
   ]
  },
  {
   "cell_type": "code",
   "execution_count": 139,
   "metadata": {},
   "outputs": [],
   "source": [
    "p4d = iterar([periodo4d/2,periodo4d],15);"
   ]
  },
  {
   "cell_type": "markdown",
   "metadata": {},
   "source": [
    "al parecer es de periodo 5"
   ]
  },
  {
   "cell_type": "code",
   "execution_count": 138,
   "metadata": {},
   "outputs": [
    {
     "data": {
      "image/png": "[encoded data removed]",
      "text/plain": [
       "Figure(PyObject <Figure size 640x480 with 1 Axes>)"
      ]
     },
     "metadata": {},
     "output_type": "display_data"
    },
    {
     "data": {
      "text/plain": [
       "1-element Array{PyCall.PyObject,1}:\n",
       " PyObject <matplotlib.lines.Line2D object at 0x7f2e37c1b290>"
      ]
     },
     "execution_count": 138,
     "metadata": {},
     "output_type": "execute_result"
    }
   ],
   "source": [
    "scatter(p4d[1],p4d[2])\n",
    "plot(listasim1X, listasim1Y, label = \"\")\n",
    "plot(listasim2X, listasim1Y, label = \"\")\n",
    "plot(listasim3X, listasim1Y, label = \"\")\n",
    "plot(listasim4X, listasim1Y, label = \"\")"
   ]
  },
  {
   "cell_type": "code",
   "execution_count": 140,
   "metadata": {},
   "outputs": [
    {
     "data": {
      "text/plain": [
       "16-element Array{Float64,1}:\n",
       " 0.35437747038896\n",
       " 0.4780158461089856\n",
       " 0.5000000000000024\n",
       " 0.5219841538910307\n",
       " 0.6456225296111425\n",
       " 0.3543774703894387\n",
       " 0.4780158461111944\n",
       " 0.5000000000140896\n",
       " 0.5219841539823425\n",
       " 0.645622530199214\n",
       " 0.35437747313777246\n",
       " 0.47801585879411823\n",
       " 0.5000000809036902\n",
       " 0.521984678302348\n",
       " 0.645625906953573\n",
       " 0.35439325416209644"
      ]
     },
     "execution_count": 140,
     "metadata": {},
     "output_type": "execute_result"
    }
   ],
   "source": [
    "p4d[1]"
   ]
  },
  {
   "cell_type": "markdown",
   "metadata": {},
   "source": [
    "🔴 Para implementarlo de esta forma necesito un parse para convertir simbolico en funcion."
   ]
  },
  {
   "cell_type": "code",
   "execution_count": 144,
   "metadata": {},
   "outputs": [
    {
     "data": {
      "text/latex": [
       "\\begin{equation*}\\frac{5 y}{2} - 0.47 \\pi \\sin{\\left(3.14159265358979 y \\right)} - 0.235 \\pi \\sin{\\left(9.42477796076938 y - 1.4765485471872 \\pi \\sin{\\left(3.14159265358979 y \\right)} \\right)} - 0.5\\end{equation*}"
      ],
      "text/plain": [
       "5⋅y                                                                           \n",
       "─── - 0.47⋅π⋅sin(3.14159265358979⋅y) - 0.235⋅π⋅sin(9.42477796076938⋅y - 1.4765\n",
       " 2                                                                            \n",
       "\n",
       "                                          \n",
       "485471872⋅π⋅sin(3.14159265358979⋅y)) - 0.5\n",
       "                                          "
      ]
     },
     "execution_count": 144,
     "metadata": {},
     "output_type": "execute_result"
    }
   ],
   "source": [
    "ecua4(4)"
   ]
  },
  {
   "cell_type": "code",
   "execution_count": 145,
   "metadata": {},
   "outputs": [
    {
     "data": {
      "text/plain": [
       "9.499999999999979"
      ]
     },
     "execution_count": 145,
     "metadata": {},
     "output_type": "execute_result"
    }
   ],
   "source": [
    "f4(4)"
   ]
  },
  {
   "cell_type": "code",
   "execution_count": 148,
   "metadata": {},
   "outputs": [
    {
     "data": {
      "text/plain": [
       "Sym"
      ]
     },
     "execution_count": 148,
     "metadata": {},
     "output_type": "execute_result"
    }
   ],
   "source": [
    "typeof(punto3[1])"
   ]
  },
  {
   "cell_type": "code",
   "execution_count": 149,
   "metadata": {},
   "outputs": [
    {
     "data": {
      "text/plain": [
       "mapeo2 (generic function with 1 method)"
      ]
     },
     "execution_count": 149,
     "metadata": {},
     "output_type": "execute_result"
    }
   ],
   "source": [
    "mapeo2"
   ]
  },
  {
   "cell_type": "code",
   "execution_count": 150,
   "metadata": {},
   "outputs": [
    {
     "data": {
      "text/plain": [
       "punto3prueba (generic function with 1 method)"
      ]
     },
     "execution_count": 150,
     "metadata": {},
     "output_type": "execute_result"
    }
   ],
   "source": [
    "punto3prueba(y) = mapeo2([y/2,y])"
   ]
  },
  {
   "cell_type": "code",
   "execution_count": 154,
   "metadata": {},
   "outputs": [
    {
     "data": {
      "text/plain": [
       "punto3prueba (generic function with 1 method)"
      ]
     },
     "execution_count": 154,
     "metadata": {},
     "output_type": "execute_result"
    }
   ],
   "source": [
    "punto3prueba"
   ]
  },
  {
   "cell_type": "code",
   "execution_count": 157,
   "metadata": {},
   "outputs": [
    {
     "data": {
      "text/plain": [
       "ecua4prueba (generic function with 1 method)"
      ]
     },
     "execution_count": 157,
     "metadata": {},
     "output_type": "execute_result"
    }
   ],
   "source": [
    "ecua4prueba(y)= simetria2(punto3prueba(y)[1],punto3prueba(y)[2])"
   ]
  },
  {
   "cell_type": "markdown",
   "metadata": {},
   "source": [
    "Para comprobar que la funcion esta bien definida. "
   ]
  },
  {
   "cell_type": "code",
   "execution_count": 158,
   "metadata": {},
   "outputs": [
    {
     "data": {
      "text/latex": [
       "\\begin{equation*}\\frac{5 y}{2} - 0.47 \\pi \\sin{\\left(3.14159265358979 y \\right)} - 0.235 \\pi \\sin{\\left(9.42477796076938 y - 1.4765485471872 \\pi \\sin{\\left(3.14159265358979 y \\right)} \\right)} - 0.5\\end{equation*}"
      ],
      "text/plain": [
       "5⋅y                                                                           \n",
       "─── - 0.47⋅π⋅sin(3.14159265358979⋅y) - 0.235⋅π⋅sin(9.42477796076938⋅y - 1.4765\n",
       " 2                                                                            \n",
       "\n",
       "                                          \n",
       "485471872⋅π⋅sin(3.14159265358979⋅y)) - 0.5\n",
       "                                          "
      ]
     },
     "execution_count": 158,
     "metadata": {},
     "output_type": "execute_result"
    }
   ],
   "source": [
    "ecua4prueba(y)"
   ]
  },
  {
   "cell_type": "code",
   "execution_count": 159,
   "metadata": {},
   "outputs": [
    {
     "data": {
      "text/plain": [
       "0.7087549407779199"
      ]
     },
     "execution_count": 159,
     "metadata": {},
     "output_type": "execute_result"
    }
   ],
   "source": [
    "periodo4dprueba = find_zero(ecua4prueba,1.0)"
   ]
  },
  {
   "cell_type": "code",
   "execution_count": 160,
   "metadata": {},
   "outputs": [
    {
     "data": {
      "text/plain": [
       "1-element Array{Float64,1}:\n",
       " 0.7087549407779199"
      ]
     },
     "execution_count": 160,
     "metadata": {},
     "output_type": "execute_result"
    }
   ],
   "source": [
    "periodo4dprueba = find_zeros(ecua4prueba,0,1)"
   ]
  },
  {
   "cell_type": "markdown",
   "metadata": {},
   "source": [
    "Entonces como lo implememtamos?"
   ]
  },
  {
   "cell_type": "markdown",
   "metadata": {},
   "source": [
    "⭐ Primero componemos el mapeo n veces\n",
    "    * Creo que mas que buscar puntos de un periodo, podemos decir que busquemos puntos de varios periodos basandonos en la simetria.\n",
    "⭐  Definimos un variable simbolica que sera un poco dummi.\n",
    "\n",
    "``` y = Sym(\"y\")```\n",
    "    \n",
    "    \n",
    "⭐   Aplicamos el mapeo iterado a un punto en la simetria A\n",
    "\n",
    "```punto3prueba(y) = mapeo2([y/2,y])```\n",
    "     \n",
    "⭐ Usamos la otra simetria para definir una ecuacion a resolver\n",
    "\n",
    "```simetria2(x,y) = x-1/2```\n",
    "\n",
    "⭐ Sustituimos en la simetria B los puntos iterados de la simetria A\n",
    "\n",
    "```ecua4prueba(y)= simetria2(punto3prueba(y)[1],punto3prueba(y)[2])```\n",
    "\n",
    "⭐ Buscamos raices dando una semilla de la ultima funcion.\n",
    "\n",
    "```periodo4dprueba = find_zero(ecua4prueba,1.0)```\n"
   ]
  },
  {
   "cell_type": "code",
   "execution_count": 289,
   "metadata": {},
   "outputs": [
    {
     "data": {
      "text/plain": [
       "pruebaperiodicos (generic function with 1 method)"
      ]
     },
     "execution_count": 289,
     "metadata": {},
     "output_type": "execute_result"
    }
   ],
   "source": [
    "function pruebaperiodicos(mapeo, simetriaA, simetriaB, n, semilla)\n",
    "    y = Sym(\"y\")\n",
    "    mapeo_n(v) = composition(mapeo,n)(v)\n",
    "    #puntoprueba1(y) = mapeo_n([y/2,y])\n",
    "    puntoprueba1(y) = mapeo_n(simetriaA(0,y))\n",
    "    ecuaNprueba(y) = simetriaB(puntoprueba1(y)[1],puntoprueba1(y)[2])\n",
    "    periodoNprueba = find_zero(ecuaNprueba,semilla)\n",
    "    return periodoNprueba\n",
    "end\n",
    "    \n",
    "    \n",
    "    "
   ]
  },
  {
   "cell_type": "code",
   "execution_count": 292,
   "metadata": {},
   "outputs": [
    {
     "data": {
      "text/plain": [
       "simA (generic function with 2 methods)"
      ]
     },
     "execution_count": 292,
     "metadata": {},
     "output_type": "execute_result"
    }
   ],
   "source": [
    "simA(a,y) = [y/2,y]"
   ]
  },
  {
   "cell_type": "code",
   "execution_count": 293,
   "metadata": {},
   "outputs": [
    {
     "data": {
      "text/plain": [
       "simB (generic function with 2 methods)"
      ]
     },
     "execution_count": 293,
     "metadata": {},
     "output_type": "execute_result"
    }
   ],
   "source": [
    "simB(x,y) = x-1/2"
   ]
  },
  {
   "cell_type": "code",
   "execution_count": 354,
   "metadata": {},
   "outputs": [
    {
     "data": {
      "text/plain": [
       "0.6995883851222251"
      ]
     },
     "execution_count": 354,
     "metadata": {},
     "output_type": "execute_result"
    }
   ],
   "source": [
    "yp = mod(pruebaperiodicos(EstandardMap,simA, simB, 2,4.7),1)"
   ]
  },
  {
   "cell_type": "code",
   "execution_count": 358,
   "metadata": {},
   "outputs": [],
   "source": [
    "lll1= iterar([yp/2,yp],400);"
   ]
  },
  {
   "cell_type": "code",
   "execution_count": 359,
   "metadata": {},
   "outputs": [
    {
     "data": {
      "text/plain": [
       "0.34979419256111255"
      ]
     },
     "execution_count": 359,
     "metadata": {},
     "output_type": "execute_result"
    }
   ],
   "source": [
    "lll1[1][1]"
   ]
  },
  {
   "cell_type": "code",
   "execution_count": 351,
   "metadata": {},
   "outputs": [
    {
     "data": {
      "text/plain": [
       "0.0048772819144061175"
      ]
     },
     "execution_count": 351,
     "metadata": {},
     "output_type": "execute_result"
    }
   ],
   "source": [
    "lll1[1][1]-lll1[1][141]"
   ]
  },
  {
   "cell_type": "code",
   "execution_count": 363,
   "metadata": {},
   "outputs": [
    {
     "data": {
      "image/png": "[encoded data removed]",
      "text/plain": [
       "Figure(PyObject <Figure size 640x480 with 1 Axes>)"
      ]
     },
     "metadata": {},
     "output_type": "display_data"
    },
    {
     "data": {
      "text/plain": [
       "1-element Array{PyCall.PyObject,1}:\n",
       " PyObject <matplotlib.lines.Line2D object at 0x7f2e2c3c93d0>"
      ]
     },
     "execution_count": 363,
     "metadata": {},
     "output_type": "execute_result"
    }
   ],
   "source": [
    "scatter(lll1[1],lll1[2])\n",
    "#scatter(lll1[1][20:41],lll1[2][20:41])\n",
    "plot(listasim1X, listasim1Y, label = \"\")\n",
    "plot(listasim2X, listasim1Y, label = \"\")\n",
    "plot(listasim3X, listasim1Y, label = \"\")\n",
    "plot(listasim4X, listasim1Y, label = \"\")"
   ]
  },
  {
   "cell_type": "code",
   "execution_count": null,
   "metadata": {},
   "outputs": [],
   "source": []
  }
 ],
 "metadata": {
  "kernelspec": {
   "display_name": "Julia 1.4.2",
   "language": "julia",
   "name": "julia-1.4"
  },
  "language_info": {
   "file_extension": ".jl",
   "mimetype": "application/julia",
   "name": "julia",
   "version": "1.4.2"
  }
 },
 "nbformat": 4,
 "nbformat_minor": 4
}
