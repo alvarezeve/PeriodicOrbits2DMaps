{
 "cells": [
  {
   "cell_type": "markdown",
   "metadata": {},
   "source": [
    "## Primera implementación del método de involuciones para el mapeo no twist cuadrático."
   ]
  },
  {
   "cell_type": "code",
   "execution_count": 1,
   "metadata": {},
   "outputs": [
    {
     "name": "stderr",
     "output_type": "stream",
     "text": [
      "┌ Warning: `@pyimport foo` is deprecated in favor of `foo = pyimport(\"foo\")`.\n",
      "│   caller = _pywrap_pyimport(::PyObject) at PyCall.jl:410\n",
      "└ @ PyCall /home/eve/.julia/packages/PyCall/BcTLp/src/PyCall.jl:410\n"
     ]
    }
   ],
   "source": [
    "using PyCall\n",
    "using LaTeXStrings\n",
    "@pyimport numpy as np\n",
    "using SymPy\n",
    "using Roots\n",
    "using Plots"
   ]
  },
  {
   "cell_type": "markdown",
   "metadata": {},
   "source": [
    "Defino el mapeo usando cálculo simbólico."
   ]
  },
  {
   "cell_type": "code",
   "execution_count": 2,
   "metadata": {},
   "outputs": [
    {
     "data": {
      "text/plain": [
       "NT (generic function with 1 method)"
      ]
     },
     "execution_count": 2,
     "metadata": {},
     "output_type": "execute_result"
    }
   ],
   "source": [
    "x = Sym(\"x\")\n",
    "y = Sym(\"y\")\n",
    "a = Sym(\"a\")\n",
    "b = Sym(\"b\");\n",
    "NT(x,y,a,b) = [x+a*(1-(y-b*sin(2*pi*x))^2), y-b*sin(2*pi*x)]"
   ]
  },
  {
   "cell_type": "markdown",
   "metadata": {},
   "source": [
    "💠 Primero hacemos el cálculo con dos iteraciones."
   ]
  },
  {
   "cell_type": "code",
   "execution_count": 3,
   "metadata": {},
   "outputs": [],
   "source": [
    "NT1 = NT(x,y,a,b) \n",
    "NT2 =NT(NT1[1],NT1[2],a,b); # aplico dos veces el mapeo "
   ]
  },
  {
   "cell_type": "markdown",
   "metadata": {},
   "source": [
    "Defino la condición de uno de los conjuntos invariantes\n",
    "$$I_{1}=\\{x | x =\\frac{a}{2}(1-y^{2})\\}$$"
   ]
  },
  {
   "cell_type": "markdown",
   "metadata": {},
   "source": [
    "Para esto como vamos a calcular ya cosas numéricas necesitamos sustituir el valor de $a,b$."
   ]
  },
  {
   "cell_type": "code",
   "execution_count": 4,
   "metadata": {},
   "outputs": [
    {
     "data": {
      "text/plain": [
       "x_condicion (generic function with 1 method)"
      ]
     },
     "execution_count": 4,
     "metadata": {},
     "output_type": "execute_result"
    }
   ],
   "source": [
    "#condicion en terminos de y\n",
    "function x_condicion(a)\n",
    "    x_cond1a = (a/2)*(1-y^2) \n",
    "    return x_cond1a\n",
    "end"
   ]
  },
  {
   "cell_type": "code",
   "execution_count": 5,
   "metadata": {},
   "outputs": [
    {
     "data": {
      "text/plain": [
       "y_condicion (generic function with 1 method)"
      ]
     },
     "execution_count": 5,
     "metadata": {},
     "output_type": "execute_result"
    }
   ],
   "source": [
    "#condicion en terminos de x\n",
    "function y_condicion(a)\n",
    "    y_cond1ap = sqrt(a-2*x)\n",
    "    y_cond1an = sqrt(a-2*x)\n",
    "    return [y_cond1ap,y_cond1an]\n",
    "end"
   ]
  },
  {
   "cell_type": "code",
   "execution_count": 6,
   "metadata": {},
   "outputs": [],
   "source": [
    "condicion1a = x_condicion(0.1) #condicion con a fija\n",
    "NT2C = NT2.subs([(x,condicion1a),(a,0.1),(b,0.1)]); #sustituyo  la condicion para x"
   ]
  },
  {
   "cell_type": "code",
   "execution_count": 7,
   "metadata": {},
   "outputs": [],
   "source": [
    "#si usamos la condicion en terminos de x\n",
    "\n",
    "# condicion1a = y_condicion(0.1)[1] #condicion para y con a fija y la raiz positiva\n",
    "# NT2C = NT2.subs([(y,condicion1a),(a,0.1),(b,0.1)]) # sustituyo la condicion\n"
   ]
  },
  {
   "cell_type": "markdown",
   "metadata": {},
   "source": [
    "Resolvemos las dos ecuaciones anteriores"
   ]
  },
  {
   "cell_type": "code",
   "execution_count": 8,
   "metadata": {},
   "outputs": [
    {
     "name": "stdout",
     "output_type": "stream",
     "text": [
      "  9.667194 seconds (3.95 M allocations: 210.182 MiB, 0.89% gc time)\n",
      "  7.133268 seconds (188.30 k allocations: 4.880 MiB)\n"
     ]
    },
    {
     "data": {
      "text/plain": [
       "1-element Array{Float64,1}:\n",
       " 0.11096641275318485"
      ]
     },
     "execution_count": 8,
     "metadata": {},
     "output_type": "execute_result"
    }
   ],
   "source": [
    "#con y como variable\n",
    "@time cero_1aY = find_zeros(NT2C[1],-4.0,4.0)\n",
    "@time cero_1bY = find_zeros(NT2C[2],-4.0,4.0)\n"
   ]
  },
  {
   "cell_type": "code",
   "execution_count": 9,
   "metadata": {},
   "outputs": [
    {
     "data": {
      "text/plain": [
       "2-element Array{Float64,1}:\n",
       " -1.0\n",
       "  1.0"
      ]
     },
     "execution_count": 9,
     "metadata": {},
     "output_type": "execute_result"
    }
   ],
   "source": [
    "cero_1aY"
   ]
  },
  {
   "cell_type": "code",
   "execution_count": 10,
   "metadata": {},
   "outputs": [
    {
     "data": {
      "text/plain": [
       "1-element Array{Float64,1}:\n",
       " 0.11096641275318485"
      ]
     },
     "execution_count": 10,
     "metadata": {},
     "output_type": "execute_result"
    }
   ],
   "source": [
    "cero_1bY"
   ]
  },
  {
   "cell_type": "code",
   "execution_count": 11,
   "metadata": {},
   "outputs": [],
   "source": [
    "#con x como variable\n",
    "#@time cero_1aX = find_zeros(NT2C[1],0.0,1.0)\n",
    "#@time cero_1bX = find_zeros(NT2C[2],0.0,1.0)"
   ]
  },
  {
   "cell_type": "markdown",
   "metadata": {},
   "source": [
    "Ahora podemos calcular los valores de x usando la condición del conjunto invariante."
   ]
  },
  {
   "cell_type": "code",
   "execution_count": 11,
   "metadata": {},
   "outputs": [
    {
     "data": {
      "text/plain": [
       "x_puntoF (generic function with 1 method)"
      ]
     },
     "execution_count": 11,
     "metadata": {},
     "output_type": "execute_result"
    }
   ],
   "source": [
    "#definimos una funcion para calcular los puntos x\n",
    "function x_puntoF(y,a)\n",
    "    #x = mod((a/2)*(1-y^2),1)\n",
    "    x = (a/2)*(1-y^2)\n",
    "    return x\n",
    "end\n",
    "\n",
    "#🔴 NOTA -> USAR ESTO ANTES PARA NO DEFINIR LA FUNCION 2 VECES."
   ]
  },
  {
   "cell_type": "code",
   "execution_count": 12,
   "metadata": {},
   "outputs": [
    {
     "data": {
      "text/plain": [
       "y_puntoF (generic function with 1 method)"
      ]
     },
     "execution_count": 12,
     "metadata": {},
     "output_type": "execute_result"
    }
   ],
   "source": [
    "# para calcular los puntos en y si usamos x como variable al principio\n",
    "function y_puntoF(x,a)\n",
    "    y = sqrt(a-2*x)\n",
    "    return y\n",
    "end"
   ]
  },
  {
   "cell_type": "code",
   "execution_count": 13,
   "metadata": {},
   "outputs": [
    {
     "data": {
      "text/plain": [
       "1-element Array{Float64,1}:\n",
       " 0.04938432276203449"
      ]
     },
     "execution_count": 13,
     "metadata": {},
     "output_type": "execute_result"
    }
   ],
   "source": [
    "cero_1aX = [x_puntoF(cero_1aY[i],0.1) for i in 1:length(cero_1aY)]\n",
    "cero_1bX = [x_puntoF(cero_1bY[i],0.1) for i in 1:length(cero_1bY)]\n",
    "\n",
    "\n",
    "#esto es por si usamos la otra variable\n",
    "#cero_1aY = y_puntoF(cero_1aX,0.1)\n",
    "#cero_1bY = y_puntoF(cero_1bX,0.1)"
   ]
  },
  {
   "cell_type": "code",
   "execution_count": 14,
   "metadata": {
    "scrolled": true
   },
   "outputs": [
    {
     "data": {
      "image/svg+xml": [
       "<?xml version=\"1.0\" encoding=\"utf-8\"?>\n",
       "<svg xmlns=\"http://www.w3.org/2000/svg\" xmlns:xlink=\"http://www.w3.org/1999/xlink\" width=\"600\" height=\"400\" viewBox=\"0 0 2400 1600\">\n",
       "<defs>\n",
       "  <clipPath id=\"clip4500\">\n",
       "    <rect x=\"0\" y=\"0\" width=\"2400\" height=\"1600\"/>\n",
       "  </clipPath>\n",
       "</defs>\n",
       "<path clip-path=\"url(#clip4500)\" d=\"\n",
       "M0 1600 L2400 1600 L2400 0 L0 0  Z\n",
       "  \" fill=\"#ffffff\" fill-rule=\"evenodd\" fill-opacity=\"1\"/>\n",
       "<defs>\n",
       "  <clipPath id=\"clip4501\">\n",
       "    <rect x=\"480\" y=\"0\" width=\"1681\" height=\"1600\"/>\n",
       "  </clipPath>\n",
       "</defs>\n",
       "<path clip-path=\"url(#clip4500)\" d=\"\n",
       "M141.865 1487.47 L2352.76 1487.47 L2352.76 47.2441 L141.865 47.2441  Z\n",
       "  \" fill=\"#ffffff\" fill-rule=\"evenodd\" fill-opacity=\"1\"/>\n",
       "<defs>\n",
       "  <clipPath id=\"clip4502\">\n",
       "    <rect x=\"141\" y=\"47\" width=\"2212\" height=\"1441\"/>\n",
       "  </clipPath>\n",
       "</defs>\n",
       "<polyline clip-path=\"url(#clip4502)\" style=\"stroke:#000000; stroke-width:2; stroke-opacity:0.1; fill:none\" points=\"\n",
       "  204.437,1487.47 204.437,47.2441 \n",
       "  \"/>\n",
       "<polyline clip-path=\"url(#clip4502)\" style=\"stroke:#000000; stroke-width:2; stroke-opacity:0.1; fill:none\" points=\"\n",
       "  731.407,1487.47 731.407,47.2441 \n",
       "  \"/>\n",
       "<polyline clip-path=\"url(#clip4502)\" style=\"stroke:#000000; stroke-width:2; stroke-opacity:0.1; fill:none\" points=\"\n",
       "  1258.38,1487.47 1258.38,47.2441 \n",
       "  \"/>\n",
       "<polyline clip-path=\"url(#clip4502)\" style=\"stroke:#000000; stroke-width:2; stroke-opacity:0.1; fill:none\" points=\"\n",
       "  1785.35,1487.47 1785.35,47.2441 \n",
       "  \"/>\n",
       "<polyline clip-path=\"url(#clip4502)\" style=\"stroke:#000000; stroke-width:2; stroke-opacity:0.1; fill:none\" points=\"\n",
       "  2312.32,1487.47 2312.32,47.2441 \n",
       "  \"/>\n",
       "<polyline clip-path=\"url(#clip4502)\" style=\"stroke:#000000; stroke-width:2; stroke-opacity:0.1; fill:none\" points=\"\n",
       "  141.865,1446.71 2352.76,1446.71 \n",
       "  \"/>\n",
       "<polyline clip-path=\"url(#clip4502)\" style=\"stroke:#000000; stroke-width:2; stroke-opacity:0.1; fill:none\" points=\"\n",
       "  141.865,1107.04 2352.76,1107.04 \n",
       "  \"/>\n",
       "<polyline clip-path=\"url(#clip4502)\" style=\"stroke:#000000; stroke-width:2; stroke-opacity:0.1; fill:none\" points=\"\n",
       "  141.865,767.359 2352.76,767.359 \n",
       "  \"/>\n",
       "<polyline clip-path=\"url(#clip4502)\" style=\"stroke:#000000; stroke-width:2; stroke-opacity:0.1; fill:none\" points=\"\n",
       "  141.865,427.682 2352.76,427.682 \n",
       "  \"/>\n",
       "<polyline clip-path=\"url(#clip4502)\" style=\"stroke:#000000; stroke-width:2; stroke-opacity:0.1; fill:none\" points=\"\n",
       "  141.865,88.0053 2352.76,88.0053 \n",
       "  \"/>\n",
       "<polyline clip-path=\"url(#clip4500)\" style=\"stroke:#000000; stroke-width:4; stroke-opacity:1; fill:none\" points=\"\n",
       "  141.865,1487.47 2352.76,1487.47 \n",
       "  \"/>\n",
       "<polyline clip-path=\"url(#clip4500)\" style=\"stroke:#000000; stroke-width:4; stroke-opacity:1; fill:none\" points=\"\n",
       "  141.865,1487.47 141.865,47.2441 \n",
       "  \"/>\n",
       "<polyline clip-path=\"url(#clip4500)\" style=\"stroke:#000000; stroke-width:4; stroke-opacity:1; fill:none\" points=\"\n",
       "  204.437,1487.47 204.437,1470.19 \n",
       "  \"/>\n",
       "<polyline clip-path=\"url(#clip4500)\" style=\"stroke:#000000; stroke-width:4; stroke-opacity:1; fill:none\" points=\"\n",
       "  731.407,1487.47 731.407,1470.19 \n",
       "  \"/>\n",
       "<polyline clip-path=\"url(#clip4500)\" style=\"stroke:#000000; stroke-width:4; stroke-opacity:1; fill:none\" points=\"\n",
       "  1258.38,1487.47 1258.38,1470.19 \n",
       "  \"/>\n",
       "<polyline clip-path=\"url(#clip4500)\" style=\"stroke:#000000; stroke-width:4; stroke-opacity:1; fill:none\" points=\"\n",
       "  1785.35,1487.47 1785.35,1470.19 \n",
       "  \"/>\n",
       "<polyline clip-path=\"url(#clip4500)\" style=\"stroke:#000000; stroke-width:4; stroke-opacity:1; fill:none\" points=\"\n",
       "  2312.32,1487.47 2312.32,1470.19 \n",
       "  \"/>\n",
       "<polyline clip-path=\"url(#clip4500)\" style=\"stroke:#000000; stroke-width:4; stroke-opacity:1; fill:none\" points=\"\n",
       "  141.865,1446.71 168.395,1446.71 \n",
       "  \"/>\n",
       "<polyline clip-path=\"url(#clip4500)\" style=\"stroke:#000000; stroke-width:4; stroke-opacity:1; fill:none\" points=\"\n",
       "  141.865,1107.04 168.395,1107.04 \n",
       "  \"/>\n",
       "<polyline clip-path=\"url(#clip4500)\" style=\"stroke:#000000; stroke-width:4; stroke-opacity:1; fill:none\" points=\"\n",
       "  141.865,767.359 168.395,767.359 \n",
       "  \"/>\n",
       "<polyline clip-path=\"url(#clip4500)\" style=\"stroke:#000000; stroke-width:4; stroke-opacity:1; fill:none\" points=\"\n",
       "  141.865,427.682 168.395,427.682 \n",
       "  \"/>\n",
       "<polyline clip-path=\"url(#clip4500)\" style=\"stroke:#000000; stroke-width:4; stroke-opacity:1; fill:none\" points=\"\n",
       "  141.865,88.0053 168.395,88.0053 \n",
       "  \"/>\n",
       "<g clip-path=\"url(#clip4500)\">\n",
       "<text style=\"fill:#000000; fill-opacity:1; font-family:Arial,Helvetica Neue,Helvetica,sans-serif; font-size:48px; text-anchor:middle;\" transform=\"rotate(0, 204.437, 1541.47)\" x=\"204.437\" y=\"1541.47\">0.00</text>\n",
       "</g>\n",
       "<g clip-path=\"url(#clip4500)\">\n",
       "<text style=\"fill:#000000; fill-opacity:1; font-family:Arial,Helvetica Neue,Helvetica,sans-serif; font-size:48px; text-anchor:middle;\" transform=\"rotate(0, 731.407, 1541.47)\" x=\"731.407\" y=\"1541.47\">0.25</text>\n",
       "</g>\n",
       "<g clip-path=\"url(#clip4500)\">\n",
       "<text style=\"fill:#000000; fill-opacity:1; font-family:Arial,Helvetica Neue,Helvetica,sans-serif; font-size:48px; text-anchor:middle;\" transform=\"rotate(0, 1258.38, 1541.47)\" x=\"1258.38\" y=\"1541.47\">0.50</text>\n",
       "</g>\n",
       "<g clip-path=\"url(#clip4500)\">\n",
       "<text style=\"fill:#000000; fill-opacity:1; font-family:Arial,Helvetica Neue,Helvetica,sans-serif; font-size:48px; text-anchor:middle;\" transform=\"rotate(0, 1785.35, 1541.47)\" x=\"1785.35\" y=\"1541.47\">0.75</text>\n",
       "</g>\n",
       "<g clip-path=\"url(#clip4500)\">\n",
       "<text style=\"fill:#000000; fill-opacity:1; font-family:Arial,Helvetica Neue,Helvetica,sans-serif; font-size:48px; text-anchor:middle;\" transform=\"rotate(0, 2312.32, 1541.47)\" x=\"2312.32\" y=\"1541.47\">1.00</text>\n",
       "</g>\n",
       "<g clip-path=\"url(#clip4500)\">\n",
       "<text style=\"fill:#000000; fill-opacity:1; font-family:Arial,Helvetica Neue,Helvetica,sans-serif; font-size:48px; text-anchor:end;\" transform=\"rotate(0, 117.865, 1464.21)\" x=\"117.865\" y=\"1464.21\">-4</text>\n",
       "</g>\n",
       "<g clip-path=\"url(#clip4500)\">\n",
       "<text style=\"fill:#000000; fill-opacity:1; font-family:Arial,Helvetica Neue,Helvetica,sans-serif; font-size:48px; text-anchor:end;\" transform=\"rotate(0, 117.865, 1124.54)\" x=\"117.865\" y=\"1124.54\">-2</text>\n",
       "</g>\n",
       "<g clip-path=\"url(#clip4500)\">\n",
       "<text style=\"fill:#000000; fill-opacity:1; font-family:Arial,Helvetica Neue,Helvetica,sans-serif; font-size:48px; text-anchor:end;\" transform=\"rotate(0, 117.865, 784.859)\" x=\"117.865\" y=\"784.859\">0</text>\n",
       "</g>\n",
       "<g clip-path=\"url(#clip4500)\">\n",
       "<text style=\"fill:#000000; fill-opacity:1; font-family:Arial,Helvetica Neue,Helvetica,sans-serif; font-size:48px; text-anchor:end;\" transform=\"rotate(0, 117.865, 445.182)\" x=\"117.865\" y=\"445.182\">2</text>\n",
       "</g>\n",
       "<g clip-path=\"url(#clip4500)\">\n",
       "<text style=\"fill:#000000; fill-opacity:1; font-family:Arial,Helvetica Neue,Helvetica,sans-serif; font-size:48px; text-anchor:end;\" transform=\"rotate(0, 117.865, 105.505)\" x=\"117.865\" y=\"105.505\">4</text>\n",
       "</g>\n",
       "<polyline clip-path=\"url(#clip4502)\" style=\"stroke:#009af9; stroke-width:4; stroke-opacity:1; fill:none\" points=\"\n",
       "  731.407,1446.71 814.668,1429.73 895.821,1412.75 974.867,1395.76 1051.8,1378.78 1126.63,1361.79 1199.36,1344.81 1269.97,1327.83 1338.48,1310.84 1404.87,1293.86 \n",
       "  1469.16,1276.87 1531.35,1259.89 1591.42,1242.91 1649.39,1225.92 1705.25,1208.94 1759,1191.96 1810.64,1174.97 1860.18,1157.99 1907.6,1141 1952.92,1124.02 \n",
       "  1996.13,1107.04 2037.24,1090.05 2076.23,1073.07 2113.12,1056.08 2147.9,1039.1 2180.57,1022.12 2211.14,1005.13 2239.59,988.149 2265.94,971.166 2290.18,954.182 \n",
       "  204.437,937.198 224.462,920.214 242.379,903.23 258.188,886.246 271.889,869.263 283.482,852.279 292.968,835.295 300.345,818.311 305.615,801.327 308.777,784.343 \n",
       "  309.831,767.359 308.777,750.376 305.615,733.392 300.345,716.408 292.968,699.424 283.482,682.44 271.889,665.456 258.188,648.472 242.379,631.489 224.462,614.505 \n",
       "  204.437,597.521 2290.18,580.537 2265.94,563.553 2239.59,546.569 2211.14,529.585 2180.57,512.602 2147.9,495.618 2113.12,478.634 2076.23,461.65 2037.24,444.666 \n",
       "  1996.13,427.682 1952.92,410.699 1907.6,393.715 1860.18,376.731 1810.64,359.747 1759,342.763 1705.25,325.779 1649.39,308.795 1591.42,291.812 1531.35,274.828 \n",
       "  1469.16,257.844 1404.87,240.86 1338.48,223.876 1269.97,206.892 1199.36,189.908 1126.63,172.925 1051.8,155.941 974.867,138.957 895.821,121.973 814.668,104.989 \n",
       "  731.407,88.0053 \n",
       "  \"/>\n",
       "<circle clip-path=\"url(#clip4502)\" style=\"fill:#000000; stroke:none; fill-opacity:1\" cx=\"204.437\" cy=\"937.198\" r=\"18\"/>\n",
       "<circle clip-path=\"url(#clip4502)\" style=\"fill:#e26f46; stroke:none; fill-opacity:1\" cx=\"204.437\" cy=\"937.198\" r=\"14\"/>\n",
       "<circle clip-path=\"url(#clip4502)\" style=\"fill:#000000; stroke:none; fill-opacity:1\" cx=\"204.437\" cy=\"597.521\" r=\"18\"/>\n",
       "<circle clip-path=\"url(#clip4502)\" style=\"fill:#e26f46; stroke:none; fill-opacity:1\" cx=\"204.437\" cy=\"597.521\" r=\"14\"/>\n",
       "<circle clip-path=\"url(#clip4502)\" style=\"fill:#000000; stroke:none; fill-opacity:1\" cx=\"308.533\" cy=\"748.513\" r=\"18\"/>\n",
       "<circle clip-path=\"url(#clip4502)\" style=\"fill:#3da44d; stroke:none; fill-opacity:1\" cx=\"308.533\" cy=\"748.513\" r=\"14\"/>\n",
       "</svg>\n"
      ]
     },
     "execution_count": 14,
     "metadata": {},
     "output_type": "execute_result"
    }
   ],
   "source": [
    "listaY = [y for y in -4.0:0.1:4.0]\n",
    "listaX = [mod((0.1/2)*(1-y^2),1) for y in listaY]\n",
    "plot(listaX, listaY, label = \"\")\n",
    "scatter!([cero_1aX,cero_1bX],[cero_1aY,cero_1bY], label = \"\")"
   ]
  },
  {
   "cell_type": "markdown",
   "metadata": {},
   "source": [
    "🔷 Si calculamos con el otro conjunto invariante donde \n",
    "$$I_{0}= \\{(x,y)| x=0\\}$$"
   ]
  },
  {
   "cell_type": "code",
   "execution_count": 16,
   "metadata": {},
   "outputs": [],
   "source": [
    "NT2C0 = NT2.subs([(x,0.0),(a,0.1),(b,0.1)]); #sustituyo "
   ]
  },
  {
   "cell_type": "code",
   "execution_count": 17,
   "metadata": {},
   "outputs": [
    {
     "name": "stdout",
     "output_type": "stream",
     "text": [
      "  7.064263 seconds (222.95 k allocations: 6.586 MiB)\n",
      "  7.529447 seconds (232.43 k allocations: 6.700 MiB)\n"
     ]
    },
    {
     "data": {
      "text/plain": [
       "1-element Array{Float64,1}:\n",
       " 0.05860381062844118"
      ]
     },
     "execution_count": 17,
     "metadata": {},
     "output_type": "execute_result"
    }
   ],
   "source": [
    "@time cero_2aY = find_zeros(NT2C0[1],-4.0,4.0)\n",
    "@time cero_2bY = find_zeros(NT2C0[2],-4.0,4.0)"
   ]
  },
  {
   "cell_type": "code",
   "execution_count": 18,
   "metadata": {
    "scrolled": true
   },
   "outputs": [
    {
     "data": {
      "image/svg+xml": [
       "<?xml version=\"1.0\" encoding=\"utf-8\"?>\n",
       "<svg xmlns=\"http://www.w3.org/2000/svg\" xmlns:xlink=\"http://www.w3.org/1999/xlink\" width=\"600\" height=\"400\" viewBox=\"0 0 2400 1600\">\n",
       "<defs>\n",
       "  <clipPath id=\"clip450\">\n",
       "    <rect x=\"0\" y=\"0\" width=\"2400\" height=\"1600\"/>\n",
       "  </clipPath>\n",
       "</defs>\n",
       "<path clip-path=\"url(#clip450)\" d=\"\n",
       "M0 1600 L2400 1600 L2400 0 L0 0  Z\n",
       "  \" fill=\"#ffffff\" fill-rule=\"evenodd\" fill-opacity=\"1\"/>\n",
       "<defs>\n",
       "  <clipPath id=\"clip451\">\n",
       "    <rect x=\"480\" y=\"0\" width=\"1681\" height=\"1600\"/>\n",
       "  </clipPath>\n",
       "</defs>\n",
       "<path clip-path=\"url(#clip450)\" d=\"\n",
       "M126.969 1486.45 L2352.76 1486.45 L2352.76 47.2441 L126.969 47.2441  Z\n",
       "  \" fill=\"#ffffff\" fill-rule=\"evenodd\" fill-opacity=\"1\"/>\n",
       "<defs>\n",
       "  <clipPath id=\"clip452\">\n",
       "    <rect x=\"126\" y=\"47\" width=\"2227\" height=\"1440\"/>\n",
       "  </clipPath>\n",
       "</defs>\n",
       "<polyline clip-path=\"url(#clip452)\" style=\"stroke:#000000; stroke-width:2; stroke-opacity:0.1; fill:none\" points=\"\n",
       "  189.963,1486.45 189.963,47.2441 \n",
       "  \"/>\n",
       "<polyline clip-path=\"url(#clip452)\" style=\"stroke:#000000; stroke-width:2; stroke-opacity:0.1; fill:none\" points=\"\n",
       "  720.483,1486.45 720.483,47.2441 \n",
       "  \"/>\n",
       "<polyline clip-path=\"url(#clip452)\" style=\"stroke:#000000; stroke-width:2; stroke-opacity:0.1; fill:none\" points=\"\n",
       "  1251,1486.45 1251,47.2441 \n",
       "  \"/>\n",
       "<polyline clip-path=\"url(#clip452)\" style=\"stroke:#000000; stroke-width:2; stroke-opacity:0.1; fill:none\" points=\"\n",
       "  1781.52,1486.45 1781.52,47.2441 \n",
       "  \"/>\n",
       "<polyline clip-path=\"url(#clip452)\" style=\"stroke:#000000; stroke-width:2; stroke-opacity:0.1; fill:none\" points=\"\n",
       "  2312.04,1486.45 2312.04,47.2441 \n",
       "  \"/>\n",
       "<polyline clip-path=\"url(#clip452)\" style=\"stroke:#000000; stroke-width:2; stroke-opacity:0.1; fill:none\" points=\"\n",
       "  126.969,1445.72 2352.76,1445.72 \n",
       "  \"/>\n",
       "<polyline clip-path=\"url(#clip452)\" style=\"stroke:#000000; stroke-width:2; stroke-opacity:0.1; fill:none\" points=\"\n",
       "  126.969,1106.28 2352.76,1106.28 \n",
       "  \"/>\n",
       "<polyline clip-path=\"url(#clip452)\" style=\"stroke:#000000; stroke-width:2; stroke-opacity:0.1; fill:none\" points=\"\n",
       "  126.969,766.846 2352.76,766.846 \n",
       "  \"/>\n",
       "<polyline clip-path=\"url(#clip452)\" style=\"stroke:#000000; stroke-width:2; stroke-opacity:0.1; fill:none\" points=\"\n",
       "  126.969,427.411 2352.76,427.411 \n",
       "  \"/>\n",
       "<polyline clip-path=\"url(#clip452)\" style=\"stroke:#000000; stroke-width:2; stroke-opacity:0.1; fill:none\" points=\"\n",
       "  126.969,87.9763 2352.76,87.9763 \n",
       "  \"/>\n",
       "<polyline clip-path=\"url(#clip450)\" style=\"stroke:#000000; stroke-width:4; stroke-opacity:1; fill:none\" points=\"\n",
       "  126.969,1486.45 2352.76,1486.45 \n",
       "  \"/>\n",
       "<polyline clip-path=\"url(#clip450)\" style=\"stroke:#000000; stroke-width:4; stroke-opacity:1; fill:none\" points=\"\n",
       "  126.969,1486.45 126.969,47.2441 \n",
       "  \"/>\n",
       "<polyline clip-path=\"url(#clip450)\" style=\"stroke:#000000; stroke-width:4; stroke-opacity:1; fill:none\" points=\"\n",
       "  189.963,1486.45 189.963,1469.18 \n",
       "  \"/>\n",
       "<polyline clip-path=\"url(#clip450)\" style=\"stroke:#000000; stroke-width:4; stroke-opacity:1; fill:none\" points=\"\n",
       "  720.483,1486.45 720.483,1469.18 \n",
       "  \"/>\n",
       "<polyline clip-path=\"url(#clip450)\" style=\"stroke:#000000; stroke-width:4; stroke-opacity:1; fill:none\" points=\"\n",
       "  1251,1486.45 1251,1469.18 \n",
       "  \"/>\n",
       "<polyline clip-path=\"url(#clip450)\" style=\"stroke:#000000; stroke-width:4; stroke-opacity:1; fill:none\" points=\"\n",
       "  1781.52,1486.45 1781.52,1469.18 \n",
       "  \"/>\n",
       "<polyline clip-path=\"url(#clip450)\" style=\"stroke:#000000; stroke-width:4; stroke-opacity:1; fill:none\" points=\"\n",
       "  2312.04,1486.45 2312.04,1469.18 \n",
       "  \"/>\n",
       "<polyline clip-path=\"url(#clip450)\" style=\"stroke:#000000; stroke-width:4; stroke-opacity:1; fill:none\" points=\"\n",
       "  126.969,1445.72 153.678,1445.72 \n",
       "  \"/>\n",
       "<polyline clip-path=\"url(#clip450)\" style=\"stroke:#000000; stroke-width:4; stroke-opacity:1; fill:none\" points=\"\n",
       "  126.969,1106.28 153.678,1106.28 \n",
       "  \"/>\n",
       "<polyline clip-path=\"url(#clip450)\" style=\"stroke:#000000; stroke-width:4; stroke-opacity:1; fill:none\" points=\"\n",
       "  126.969,766.846 153.678,766.846 \n",
       "  \"/>\n",
       "<polyline clip-path=\"url(#clip450)\" style=\"stroke:#000000; stroke-width:4; stroke-opacity:1; fill:none\" points=\"\n",
       "  126.969,427.411 153.678,427.411 \n",
       "  \"/>\n",
       "<polyline clip-path=\"url(#clip450)\" style=\"stroke:#000000; stroke-width:4; stroke-opacity:1; fill:none\" points=\"\n",
       "  126.969,87.9763 153.678,87.9763 \n",
       "  \"/>\n",
       "<path clip-path=\"url(#clip450)\" d=\"M 0 0 M157.972 1508.44 Q154.361 1508.44 152.532 1512 Q150.727 1515.55 150.727 1522.67 Q150.727 1529.78 152.532 1533.35 Q154.361 1536.89 157.972 1536.89 Q161.606 1536.89 163.412 1533.35 Q165.241 1529.78 165.241 1522.67 Q165.241 1515.55 163.412 1512 Q161.606 1508.44 157.972 1508.44 M157.972 1504.73 Q163.782 1504.73 166.838 1509.34 Q169.917 1513.92 169.917 1522.67 Q169.917 1531.4 166.838 1536.01 Q163.782 1540.59 157.972 1540.59 Q152.162 1540.59 149.083 1536.01 Q146.028 1531.4 146.028 1522.67 Q146.028 1513.92 149.083 1509.34 Q152.162 1504.73 157.972 1504.73 Z\" fill=\"#000000\" fill-rule=\"evenodd\" fill-opacity=\"1\" /><path clip-path=\"url(#clip450)\" d=\"M 0 0 M174.986 1534.04 L179.87 1534.04 L179.87 1539.92 L174.986 1539.92 L174.986 1534.04 Z\" fill=\"#000000\" fill-rule=\"evenodd\" fill-opacity=\"1\" /><path clip-path=\"url(#clip450)\" d=\"M 0 0 M194.94 1508.44 Q191.328 1508.44 189.5 1512 Q187.694 1515.55 187.694 1522.67 Q187.694 1529.78 189.5 1533.35 Q191.328 1536.89 194.94 1536.89 Q198.574 1536.89 200.379 1533.35 Q202.208 1529.78 202.208 1522.67 Q202.208 1515.55 200.379 1512 Q198.574 1508.44 194.94 1508.44 M194.94 1504.73 Q200.75 1504.73 203.805 1509.34 Q206.884 1513.92 206.884 1522.67 Q206.884 1531.4 203.805 1536.01 Q200.75 1540.59 194.94 1540.59 Q189.129 1540.59 186.051 1536.01 Q182.995 1531.4 182.995 1522.67 Q182.995 1513.92 186.051 1509.34 Q189.129 1504.73 194.94 1504.73 Z\" fill=\"#000000\" fill-rule=\"evenodd\" fill-opacity=\"1\" /><path clip-path=\"url(#clip450)\" d=\"M 0 0 M221.953 1508.44 Q218.342 1508.44 216.514 1512 Q214.708 1515.55 214.708 1522.67 Q214.708 1529.78 216.514 1533.35 Q218.342 1536.89 221.953 1536.89 Q225.588 1536.89 227.393 1533.35 Q229.222 1529.78 229.222 1522.67 Q229.222 1515.55 227.393 1512 Q225.588 1508.44 221.953 1508.44 M221.953 1504.73 Q227.763 1504.73 230.819 1509.34 Q233.898 1513.92 233.898 1522.67 Q233.898 1531.4 230.819 1536.01 Q227.763 1540.59 221.953 1540.59 Q216.143 1540.59 213.064 1536.01 Q210.009 1531.4 210.009 1522.67 Q210.009 1513.92 213.064 1509.34 Q216.143 1504.73 221.953 1504.73 Z\" fill=\"#000000\" fill-rule=\"evenodd\" fill-opacity=\"1\" /><path clip-path=\"url(#clip450)\" d=\"M 0 0 M689.789 1508.44 Q686.178 1508.44 684.349 1512 Q682.543 1515.55 682.543 1522.67 Q682.543 1529.78 684.349 1533.35 Q686.178 1536.89 689.789 1536.89 Q693.423 1536.89 695.229 1533.35 Q697.057 1529.78 697.057 1522.67 Q697.057 1515.55 695.229 1512 Q693.423 1508.44 689.789 1508.44 M689.789 1504.73 Q695.599 1504.73 698.654 1509.34 Q701.733 1513.92 701.733 1522.67 Q701.733 1531.4 698.654 1536.01 Q695.599 1540.59 689.789 1540.59 Q683.979 1540.59 680.9 1536.01 Q677.844 1531.4 677.844 1522.67 Q677.844 1513.92 680.9 1509.34 Q683.979 1504.73 689.789 1504.73 Z\" fill=\"#000000\" fill-rule=\"evenodd\" fill-opacity=\"1\" /><path clip-path=\"url(#clip450)\" d=\"M 0 0 M706.803 1534.04 L711.687 1534.04 L711.687 1539.92 L706.803 1539.92 L706.803 1534.04 Z\" fill=\"#000000\" fill-rule=\"evenodd\" fill-opacity=\"1\" /><path clip-path=\"url(#clip450)\" d=\"M 0 0 M720.784 1535.98 L737.103 1535.98 L737.103 1539.92 L715.159 1539.92 L715.159 1535.98 Q717.821 1533.23 722.404 1528.6 Q727.011 1523.95 728.191 1522.61 Q730.437 1520.08 731.316 1518.35 Q732.219 1516.59 732.219 1514.9 Q732.219 1512.14 730.275 1510.41 Q728.353 1508.67 725.251 1508.67 Q723.052 1508.67 720.599 1509.43 Q718.168 1510.2 715.39 1511.75 L715.39 1507.03 Q718.214 1505.89 720.668 1505.31 Q723.122 1504.73 725.159 1504.73 Q730.529 1504.73 733.724 1507.42 Q736.918 1510.11 736.918 1514.6 Q736.918 1516.73 736.108 1518.65 Q735.321 1520.54 733.214 1523.14 Q732.636 1523.81 729.534 1527.03 Q726.432 1530.22 720.784 1535.98 Z\" fill=\"#000000\" fill-rule=\"evenodd\" fill-opacity=\"1\" /><path clip-path=\"url(#clip450)\" d=\"M 0 0 M742.219 1505.36 L760.575 1505.36 L760.575 1509.3 L746.501 1509.3 L746.501 1517.77 Q747.52 1517.42 748.538 1517.26 Q749.557 1517.07 750.575 1517.07 Q756.362 1517.07 759.742 1520.24 Q763.122 1523.42 763.122 1528.83 Q763.122 1534.41 759.649 1537.51 Q756.177 1540.59 749.858 1540.59 Q747.682 1540.59 745.413 1540.22 Q743.168 1539.85 740.761 1539.11 L740.761 1534.41 Q742.844 1535.54 745.066 1536.1 Q747.288 1536.66 749.765 1536.66 Q753.77 1536.66 756.108 1534.55 Q758.446 1532.44 758.446 1528.83 Q758.446 1525.22 756.108 1523.11 Q753.77 1521.01 749.765 1521.01 Q747.89 1521.01 746.015 1521.42 Q744.163 1521.84 742.219 1522.72 L742.219 1505.36 Z\" fill=\"#000000\" fill-rule=\"evenodd\" fill-opacity=\"1\" /><path clip-path=\"url(#clip450)\" d=\"M 0 0 M1219.51 1508.44 Q1215.9 1508.44 1214.07 1512 Q1212.27 1515.55 1212.27 1522.67 Q1212.27 1529.78 1214.07 1533.35 Q1215.9 1536.89 1219.51 1536.89 Q1223.14 1536.89 1224.95 1533.35 Q1226.78 1529.78 1226.78 1522.67 Q1226.78 1515.55 1224.95 1512 Q1223.14 1508.44 1219.51 1508.44 M1219.51 1504.73 Q1225.32 1504.73 1228.38 1509.34 Q1231.45 1513.92 1231.45 1522.67 Q1231.45 1531.4 1228.38 1536.01 Q1225.32 1540.59 1219.51 1540.59 Q1213.7 1540.59 1210.62 1536.01 Q1207.57 1531.4 1207.57 1522.67 Q1207.57 1513.92 1210.62 1509.34 Q1213.7 1504.73 1219.51 1504.73 Z\" fill=\"#000000\" fill-rule=\"evenodd\" fill-opacity=\"1\" /><path clip-path=\"url(#clip450)\" d=\"M 0 0 M1236.52 1534.04 L1241.41 1534.04 L1241.41 1539.92 L1236.52 1539.92 L1236.52 1534.04 Z\" fill=\"#000000\" fill-rule=\"evenodd\" fill-opacity=\"1\" /><path clip-path=\"url(#clip450)\" d=\"M 0 0 M1246.52 1505.36 L1264.88 1505.36 L1264.88 1509.3 L1250.81 1509.3 L1250.81 1517.77 Q1251.83 1517.42 1252.84 1517.26 Q1253.86 1517.07 1254.88 1517.07 Q1260.67 1517.07 1264.05 1520.24 Q1267.43 1523.42 1267.43 1528.83 Q1267.43 1534.41 1263.95 1537.51 Q1260.48 1540.59 1254.16 1540.59 Q1251.99 1540.59 1249.72 1540.22 Q1247.47 1539.85 1245.07 1539.11 L1245.07 1534.41 Q1247.15 1535.54 1249.37 1536.1 Q1251.59 1536.66 1254.07 1536.66 Q1258.07 1536.66 1260.41 1534.55 Q1262.75 1532.44 1262.75 1528.83 Q1262.75 1525.22 1260.41 1523.11 Q1258.07 1521.01 1254.07 1521.01 Q1252.2 1521.01 1250.32 1521.42 Q1248.47 1521.84 1246.52 1522.72 L1246.52 1505.36 Z\" fill=\"#000000\" fill-rule=\"evenodd\" fill-opacity=\"1\" /><path clip-path=\"url(#clip450)\" d=\"M 0 0 M1282.5 1508.44 Q1278.89 1508.44 1277.06 1512 Q1275.25 1515.55 1275.25 1522.67 Q1275.25 1529.78 1277.06 1533.35 Q1278.89 1536.89 1282.5 1536.89 Q1286.13 1536.89 1287.94 1533.35 Q1289.76 1529.78 1289.76 1522.67 Q1289.76 1515.55 1287.94 1512 Q1286.13 1508.44 1282.5 1508.44 M1282.5 1504.73 Q1288.31 1504.73 1291.36 1509.34 Q1294.44 1513.92 1294.44 1522.67 Q1294.44 1531.4 1291.36 1536.01 Q1288.31 1540.59 1282.5 1540.59 Q1276.69 1540.59 1273.61 1536.01 Q1270.55 1531.4 1270.55 1522.67 Q1270.55 1513.92 1273.61 1509.34 Q1276.69 1504.73 1282.5 1504.73 Z\" fill=\"#000000\" fill-rule=\"evenodd\" fill-opacity=\"1\" /><path clip-path=\"url(#clip450)\" d=\"M 0 0 M1750.48 1508.44 Q1746.87 1508.44 1745.04 1512 Q1743.24 1515.55 1743.24 1522.67 Q1743.24 1529.78 1745.04 1533.35 Q1746.87 1536.89 1750.48 1536.89 Q1754.12 1536.89 1755.92 1533.35 Q1757.75 1529.78 1757.75 1522.67 Q1757.75 1515.55 1755.92 1512 Q1754.12 1508.44 1750.48 1508.44 M1750.48 1504.73 Q1756.29 1504.73 1759.35 1509.34 Q1762.43 1513.92 1762.43 1522.67 Q1762.43 1531.4 1759.35 1536.01 Q1756.29 1540.59 1750.48 1540.59 Q1744.67 1540.59 1741.59 1536.01 Q1738.54 1531.4 1738.54 1522.67 Q1738.54 1513.92 1741.59 1509.34 Q1744.67 1504.73 1750.48 1504.73 Z\" fill=\"#000000\" fill-rule=\"evenodd\" fill-opacity=\"1\" /><path clip-path=\"url(#clip450)\" d=\"M 0 0 M1767.5 1534.04 L1772.38 1534.04 L1772.38 1539.92 L1767.5 1539.92 L1767.5 1534.04 Z\" fill=\"#000000\" fill-rule=\"evenodd\" fill-opacity=\"1\" /><path clip-path=\"url(#clip450)\" d=\"M 0 0 M1776.27 1505.36 L1798.49 1505.36 L1798.49 1507.35 L1785.94 1539.92 L1781.06 1539.92 L1792.87 1509.3 L1776.27 1509.3 L1776.27 1505.36 Z\" fill=\"#000000\" fill-rule=\"evenodd\" fill-opacity=\"1\" /><path clip-path=\"url(#clip450)\" d=\"M 0 0 M1803.61 1505.36 L1821.96 1505.36 L1821.96 1509.3 L1807.89 1509.3 L1807.89 1517.77 Q1808.91 1517.42 1809.93 1517.26 Q1810.94 1517.07 1811.96 1517.07 Q1817.75 1517.07 1821.13 1520.24 Q1824.51 1523.42 1824.51 1528.83 Q1824.51 1534.41 1821.04 1537.51 Q1817.56 1540.59 1811.25 1540.59 Q1809.07 1540.59 1806.8 1540.22 Q1804.56 1539.85 1802.15 1539.11 L1802.15 1534.41 Q1804.23 1535.54 1806.45 1536.1 Q1808.68 1536.66 1811.15 1536.66 Q1815.16 1536.66 1817.5 1534.55 Q1819.83 1532.44 1819.83 1528.83 Q1819.83 1525.22 1817.5 1523.11 Q1815.16 1521.01 1811.15 1521.01 Q1809.28 1521.01 1807.4 1521.42 Q1805.55 1521.84 1803.61 1522.72 L1803.61 1505.36 Z\" fill=\"#000000\" fill-rule=\"evenodd\" fill-opacity=\"1\" /><path clip-path=\"url(#clip450)\" d=\"M 0 0 M2270.44 1535.98 L2278.07 1535.98 L2278.07 1509.62 L2269.76 1511.29 L2269.76 1507.03 L2278.03 1505.36 L2282.7 1505.36 L2282.7 1535.98 L2290.34 1535.98 L2290.34 1539.92 L2270.44 1539.92 L2270.44 1535.98 Z\" fill=\"#000000\" fill-rule=\"evenodd\" fill-opacity=\"1\" /><path clip-path=\"url(#clip450)\" d=\"M 0 0 M2295.41 1534.04 L2300.3 1534.04 L2300.3 1539.92 L2295.41 1539.92 L2295.41 1534.04 Z\" fill=\"#000000\" fill-rule=\"evenodd\" fill-opacity=\"1\" /><path clip-path=\"url(#clip450)\" d=\"M 0 0 M2315.37 1508.44 Q2311.75 1508.44 2309.93 1512 Q2308.12 1515.55 2308.12 1522.67 Q2308.12 1529.78 2309.93 1533.35 Q2311.75 1536.89 2315.37 1536.89 Q2319 1536.89 2320.81 1533.35 Q2322.63 1529.78 2322.63 1522.67 Q2322.63 1515.55 2320.81 1512 Q2319 1508.44 2315.37 1508.44 M2315.37 1504.73 Q2321.18 1504.73 2324.23 1509.34 Q2327.31 1513.92 2327.31 1522.67 Q2327.31 1531.4 2324.23 1536.01 Q2321.18 1540.59 2315.37 1540.59 Q2309.56 1540.59 2306.48 1536.01 Q2303.42 1531.4 2303.42 1522.67 Q2303.42 1513.92 2306.48 1509.34 Q2309.56 1504.73 2315.37 1504.73 Z\" fill=\"#000000\" fill-rule=\"evenodd\" fill-opacity=\"1\" /><path clip-path=\"url(#clip450)\" d=\"M 0 0 M2342.38 1508.44 Q2338.77 1508.44 2336.94 1512 Q2335.13 1515.55 2335.13 1522.67 Q2335.13 1529.78 2336.94 1533.35 Q2338.77 1536.89 2342.38 1536.89 Q2346.01 1536.89 2347.82 1533.35 Q2349.65 1529.78 2349.65 1522.67 Q2349.65 1515.55 2347.82 1512 Q2346.01 1508.44 2342.38 1508.44 M2342.38 1504.73 Q2348.19 1504.73 2351.24 1509.34 Q2354.32 1513.92 2354.32 1522.67 Q2354.32 1531.4 2351.24 1536.01 Q2348.19 1540.59 2342.38 1540.59 Q2336.57 1540.59 2333.49 1536.01 Q2330.43 1531.4 2330.43 1522.67 Q2330.43 1513.92 2333.49 1509.34 Q2336.57 1504.73 2342.38 1504.73 Z\" fill=\"#000000\" fill-rule=\"evenodd\" fill-opacity=\"1\" /><path clip-path=\"url(#clip450)\" d=\"M 0 0 M62.9921 1448.11 L75.4689 1448.11 L75.4689 1451.91 L62.9921 1451.91 L62.9921 1448.11 Z\" fill=\"#000000\" fill-rule=\"evenodd\" fill-opacity=\"1\" /><path clip-path=\"url(#clip450)\" d=\"M 0 0 M93.3855 1432.51 L81.58 1450.96 L93.3855 1450.96 L93.3855 1432.51 M92.1586 1428.44 L98.0382 1428.44 L98.0382 1450.96 L102.969 1450.96 L102.969 1454.85 L98.0382 1454.85 L98.0382 1463 L93.3855 1463 L93.3855 1454.85 L77.7837 1454.85 L77.7837 1450.33 L92.1586 1428.44 Z\" fill=\"#000000\" fill-rule=\"evenodd\" fill-opacity=\"1\" /><path clip-path=\"url(#clip450)\" d=\"M 0 0 M65.0754 1108.68 L77.5522 1108.68 L77.5522 1112.47 L65.0754 1112.47 L65.0754 1108.68 Z\" fill=\"#000000\" fill-rule=\"evenodd\" fill-opacity=\"1\" /><path clip-path=\"url(#clip450)\" d=\"M 0 0 M86.6494 1119.63 L102.969 1119.63 L102.969 1123.56 L81.0244 1123.56 L81.0244 1119.63 Q83.6865 1116.87 88.2698 1112.24 Q92.8762 1107.59 94.0568 1106.25 Q96.3021 1103.72 97.1818 1101.99 Q98.0845 1100.23 98.0845 1098.54 Q98.0845 1095.78 96.1401 1094.05 Q94.2188 1092.31 91.117 1092.31 Q88.9179 1092.31 86.4642 1093.07 Q84.0337 1093.84 81.2559 1095.39 L81.2559 1090.67 Q84.08 1089.53 86.5337 1088.95 Q88.9874 1088.38 91.0244 1088.38 Q96.3947 1088.38 99.5892 1091.06 Q102.784 1093.75 102.784 1098.24 Q102.784 1100.37 101.973 1102.29 Q101.186 1104.19 99.0799 1106.78 Q98.5012 1107.45 95.3994 1110.67 Q92.2975 1113.86 86.6494 1119.63 Z\" fill=\"#000000\" fill-rule=\"evenodd\" fill-opacity=\"1\" /><path clip-path=\"url(#clip450)\" d=\"M 0 0 M91.0244 752.645 Q87.4133 752.645 85.5846 756.209 Q83.7791 759.751 83.7791 766.881 Q83.7791 773.987 85.5846 777.552 Q87.4133 781.094 91.0244 781.094 Q94.6586 781.094 96.4642 777.552 Q98.2929 773.987 98.2929 766.881 Q98.2929 759.751 96.4642 756.209 Q94.6586 752.645 91.0244 752.645 M91.0244 748.941 Q96.8345 748.941 99.8901 753.547 Q102.969 758.131 102.969 766.881 Q102.969 775.608 99.8901 780.214 Q96.8345 784.797 91.0244 784.797 Q85.2142 784.797 82.1355 780.214 Q79.08 775.608 79.08 766.881 Q79.08 758.131 82.1355 753.547 Q85.2142 748.941 91.0244 748.941 Z\" fill=\"#000000\" fill-rule=\"evenodd\" fill-opacity=\"1\" /><path clip-path=\"url(#clip450)\" d=\"M 0 0 M86.6494 440.756 L102.969 440.756 L102.969 444.691 L81.0244 444.691 L81.0244 440.756 Q83.6865 438.001 88.2698 433.372 Q92.8762 428.719 94.0568 427.376 Q96.3021 424.853 97.1818 423.117 Q98.0845 421.358 98.0845 419.668 Q98.0845 416.914 96.1401 415.177 Q94.2188 413.441 91.117 413.441 Q88.9179 413.441 86.4642 414.205 Q84.0337 414.969 81.2559 416.52 L81.2559 411.798 Q84.08 410.664 86.5337 410.085 Q88.9874 409.506 91.0244 409.506 Q96.3947 409.506 99.5892 412.191 Q102.784 414.876 102.784 419.367 Q102.784 421.497 101.973 423.418 Q101.186 425.316 99.0799 427.909 Q98.5012 428.58 95.3994 431.798 Q92.2975 434.992 86.6494 440.756 Z\" fill=\"#000000\" fill-rule=\"evenodd\" fill-opacity=\"1\" /><path clip-path=\"url(#clip450)\" d=\"M 0 0 M93.3855 74.7703 L81.58 93.2193 L93.3855 93.2193 L93.3855 74.7703 M92.1586 70.6963 L98.0382 70.6963 L98.0382 93.2193 L102.969 93.2193 L102.969 97.1082 L98.0382 97.1082 L98.0382 105.256 L93.3855 105.256 L93.3855 97.1082 L77.7837 97.1082 L77.7837 92.5943 L92.1586 70.6963 Z\" fill=\"#000000\" fill-rule=\"evenodd\" fill-opacity=\"1\" /><polyline clip-path=\"url(#clip452)\" style=\"stroke:#009af9; stroke-width:4; stroke-opacity:1; fill:none\" points=\"\n",
       "  189.963,936.563 189.963,919.592 189.963,902.62 189.963,885.648 189.963,868.676 189.963,851.705 189.963,834.733 189.963,817.761 189.963,800.789 189.963,783.818 \n",
       "  189.963,766.846 189.963,749.874 189.963,732.902 189.963,715.931 189.963,698.959 189.963,681.987 189.963,665.016 189.963,648.044 189.963,631.072 189.963,614.1 \n",
       "  189.963,597.129 \n",
       "  \"/>\n",
       "<polyline clip-path=\"url(#clip452)\" style=\"stroke:#e26f46; stroke-width:4; stroke-opacity:1; fill:none\" points=\"\n",
       "  720.483,1445.72 804.305,1428.74 886.005,1411.77 965.583,1394.8 1043.04,1377.83 1118.37,1360.86 1191.58,1343.89 1262.67,1326.91 1331.64,1309.94 1398.49,1292.97 \n",
       "  1463.21,1276 1525.81,1259.03 1586.29,1242.05 1644.65,1225.08 1700.88,1208.11 1755,1191.14 1806.99,1174.17 1856.86,1157.2 1904.6,1140.22 1950.23,1123.25 \n",
       "  1993.73,1106.28 2035.11,1089.31 2074.37,1072.34 2111.51,1055.37 2146.52,1038.39 2179.41,1021.42 2210.18,1004.45 2238.83,987.479 2265.36,970.507 2289.76,953.535 \n",
       "  189.963,936.563 210.123,919.592 228.16,902.62 244.076,885.648 257.869,868.676 269.541,851.705 279.09,834.733 286.517,817.761 291.823,800.789 295.006,783.818 \n",
       "  296.067,766.846 295.006,749.874 291.823,732.902 286.517,715.931 279.09,698.959 269.541,681.987 257.869,665.016 244.076,648.044 228.16,631.072 210.123,614.1 \n",
       "  189.963,597.129 2289.76,580.157 2265.36,563.185 2238.83,546.213 2210.18,529.242 2179.41,512.27 2146.52,495.298 2111.51,478.326 2074.37,461.355 2035.11,444.383 \n",
       "  1993.73,427.411 1950.23,410.439 1904.6,393.468 1856.86,376.496 1806.99,359.524 1755,342.552 1700.88,325.581 1644.65,308.609 1586.29,291.637 1525.81,274.665 \n",
       "  1463.21,257.694 1398.49,240.722 1331.64,223.75 1262.67,206.778 1191.58,189.807 1118.37,172.835 1043.04,155.863 965.583,138.892 886.005,121.92 804.305,104.948 \n",
       "  720.483,87.9763 \n",
       "  \"/>\n",
       "<circle clip-path=\"url(#clip452)\" cx=\"189.963\" cy=\"936.563\" r=\"14\" fill=\"#3da44d\" fill-rule=\"evenodd\" fill-opacity=\"1\" stroke=\"#000000\" stroke-opacity=\"1\" stroke-width=\"3.2\"/>\n",
       "<circle clip-path=\"url(#clip452)\" cx=\"189.963\" cy=\"597.129\" r=\"14\" fill=\"#3da44d\" fill-rule=\"evenodd\" fill-opacity=\"1\" stroke=\"#000000\" stroke-opacity=\"1\" stroke-width=\"3.2\"/>\n",
       "<circle clip-path=\"url(#clip452)\" cx=\"294.76\" cy=\"748.013\" r=\"14\" fill=\"#c271d2\" fill-rule=\"evenodd\" fill-opacity=\"1\" stroke=\"#000000\" stroke-opacity=\"1\" stroke-width=\"3.2\"/>\n",
       "<circle clip-path=\"url(#clip452)\" cx=\"189.963\" cy=\"936.563\" r=\"14\" fill=\"#ac8d18\" fill-rule=\"evenodd\" fill-opacity=\"1\" stroke=\"#000000\" stroke-opacity=\"1\" stroke-width=\"3.2\"/>\n",
       "<circle clip-path=\"url(#clip452)\" cx=\"189.963\" cy=\"597.129\" r=\"14\" fill=\"#ac8d18\" fill-rule=\"evenodd\" fill-opacity=\"1\" stroke=\"#000000\" stroke-opacity=\"1\" stroke-width=\"3.2\"/>\n",
       "<circle clip-path=\"url(#clip452)\" cx=\"189.963\" cy=\"756.9\" r=\"14\" fill=\"#00a9ad\" fill-rule=\"evenodd\" fill-opacity=\"1\" stroke=\"#000000\" stroke-opacity=\"1\" stroke-width=\"3.2\"/>\n",
       "</svg>\n"
      ]
     },
     "execution_count": 18,
     "metadata": {},
     "output_type": "execute_result"
    }
   ],
   "source": [
    "listaY2 = [y for y in -1.0:0.1:1.0]\n",
    "listaX2 = zeros(21)\n",
    "plot(listaX2, listaY2, label = \"\")\n",
    "plot!(listaX, listaY, label = \"\", title = \"\")\n",
    "scatter!([cero_1aX,cero_1bX],[cero_1aY,cero_1bY], label = \"\")\n",
    "scatter!([[0,0],[0]],[cero_2aY,cero_2bY], label = \"\")\n"
   ]
  },
  {
   "cell_type": "markdown",
   "metadata": {},
   "source": [
    "### ⭐ Siguiente iteración."
   ]
  },
  {
   "cell_type": "code",
   "execution_count": 19,
   "metadata": {},
   "outputs": [],
   "source": [
    "NT3 = NT(NT2[1],NT2[2],a,b);"
   ]
  },
  {
   "cell_type": "code",
   "execution_count": 20,
   "metadata": {
    "scrolled": true
   },
   "outputs": [],
   "source": [
    "condicion1a = x_condicion(0.1)\n",
    "NT3C1 = NT3.subs([(x,condicion1a),(a,0.1),(b,0.1)]); #sustituyo \n",
    "# para algnos de los valores de a y b numericos. "
   ]
  },
  {
   "cell_type": "code",
   "execution_count": 21,
   "metadata": {},
   "outputs": [
    {
     "name": "stdout",
     "output_type": "stream",
     "text": [
      " 26.151414 seconds (276.96 k allocations: 8.320 MiB)\n",
      " 24.589351 seconds (249.58 k allocations: 7.188 MiB)\n"
     ]
    },
    {
     "data": {
      "text/plain": [
       "1-element Array{Float64,1}:\n",
       " 0.20839482002620568"
      ]
     },
     "execution_count": 21,
     "metadata": {},
     "output_type": "execute_result"
    }
   ],
   "source": [
    "@time cero_3IaY = find_zeros(NT3C1[1],-4.0,4.0)\n",
    "@time cero_3IbY = find_zeros(NT3C1[2],-4.0,4.0)\n",
    "\n",
    "# 🔺 NOTA : hacen todo mod algo porque asi no buscan ceros en intervalos muy feos.\n"
   ]
  },
  {
   "cell_type": "code",
   "execution_count": 22,
   "metadata": {},
   "outputs": [
    {
     "data": {
      "text/plain": [
       "1-element Array{Float64,1}:\n",
       " 0.10315543591297181"
      ]
     },
     "execution_count": 22,
     "metadata": {},
     "output_type": "execute_result"
    }
   ],
   "source": [
    "cero_3IaX = [mod(x_puntoF(0.1,cero_3IaY[i]),1) for i in 1:length(cero_3IaY)]\n",
    "cero_3IbX = [mod(x_puntoF(0.1,cero_3IbY[i]),1) for i in 1:length(cero_3IbY)]"
   ]
  },
  {
   "cell_type": "code",
   "execution_count": 23,
   "metadata": {
    "scrolled": true
   },
   "outputs": [
    {
     "data": {
      "image/svg+xml": [
       "<?xml version=\"1.0\" encoding=\"utf-8\"?>\n",
       "<svg xmlns=\"http://www.w3.org/2000/svg\" xmlns:xlink=\"http://www.w3.org/1999/xlink\" width=\"600\" height=\"400\" viewBox=\"0 0 2400 1600\">\n",
       "<defs>\n",
       "  <clipPath id=\"clip490\">\n",
       "    <rect x=\"0\" y=\"0\" width=\"2400\" height=\"1600\"/>\n",
       "  </clipPath>\n",
       "</defs>\n",
       "<path clip-path=\"url(#clip490)\" d=\"\n",
       "M0 1600 L2400 1600 L2400 0 L0 0  Z\n",
       "  \" fill=\"#ffffff\" fill-rule=\"evenodd\" fill-opacity=\"1\"/>\n",
       "<defs>\n",
       "  <clipPath id=\"clip491\">\n",
       "    <rect x=\"480\" y=\"0\" width=\"1681\" height=\"1600\"/>\n",
       "  </clipPath>\n",
       "</defs>\n",
       "<path clip-path=\"url(#clip490)\" d=\"\n",
       "M126.969 1486.45 L2352.76 1486.45 L2352.76 47.2441 L126.969 47.2441  Z\n",
       "  \" fill=\"#ffffff\" fill-rule=\"evenodd\" fill-opacity=\"1\"/>\n",
       "<defs>\n",
       "  <clipPath id=\"clip492\">\n",
       "    <rect x=\"126\" y=\"47\" width=\"2227\" height=\"1440\"/>\n",
       "  </clipPath>\n",
       "</defs>\n",
       "<polyline clip-path=\"url(#clip492)\" style=\"stroke:#000000; stroke-width:2; stroke-opacity:0.1; fill:none\" points=\"\n",
       "  189.963,1486.45 189.963,47.2441 \n",
       "  \"/>\n",
       "<polyline clip-path=\"url(#clip492)\" style=\"stroke:#000000; stroke-width:2; stroke-opacity:0.1; fill:none\" points=\"\n",
       "  720.483,1486.45 720.483,47.2441 \n",
       "  \"/>\n",
       "<polyline clip-path=\"url(#clip492)\" style=\"stroke:#000000; stroke-width:2; stroke-opacity:0.1; fill:none\" points=\"\n",
       "  1251,1486.45 1251,47.2441 \n",
       "  \"/>\n",
       "<polyline clip-path=\"url(#clip492)\" style=\"stroke:#000000; stroke-width:2; stroke-opacity:0.1; fill:none\" points=\"\n",
       "  1781.52,1486.45 1781.52,47.2441 \n",
       "  \"/>\n",
       "<polyline clip-path=\"url(#clip492)\" style=\"stroke:#000000; stroke-width:2; stroke-opacity:0.1; fill:none\" points=\"\n",
       "  2312.04,1486.45 2312.04,47.2441 \n",
       "  \"/>\n",
       "<polyline clip-path=\"url(#clip492)\" style=\"stroke:#000000; stroke-width:2; stroke-opacity:0.1; fill:none\" points=\"\n",
       "  126.969,1445.72 2352.76,1445.72 \n",
       "  \"/>\n",
       "<polyline clip-path=\"url(#clip492)\" style=\"stroke:#000000; stroke-width:2; stroke-opacity:0.1; fill:none\" points=\"\n",
       "  126.969,1106.28 2352.76,1106.28 \n",
       "  \"/>\n",
       "<polyline clip-path=\"url(#clip492)\" style=\"stroke:#000000; stroke-width:2; stroke-opacity:0.1; fill:none\" points=\"\n",
       "  126.969,766.846 2352.76,766.846 \n",
       "  \"/>\n",
       "<polyline clip-path=\"url(#clip492)\" style=\"stroke:#000000; stroke-width:2; stroke-opacity:0.1; fill:none\" points=\"\n",
       "  126.969,427.411 2352.76,427.411 \n",
       "  \"/>\n",
       "<polyline clip-path=\"url(#clip492)\" style=\"stroke:#000000; stroke-width:2; stroke-opacity:0.1; fill:none\" points=\"\n",
       "  126.969,87.9763 2352.76,87.9763 \n",
       "  \"/>\n",
       "<polyline clip-path=\"url(#clip490)\" style=\"stroke:#000000; stroke-width:4; stroke-opacity:1; fill:none\" points=\"\n",
       "  126.969,1486.45 2352.76,1486.45 \n",
       "  \"/>\n",
       "<polyline clip-path=\"url(#clip490)\" style=\"stroke:#000000; stroke-width:4; stroke-opacity:1; fill:none\" points=\"\n",
       "  126.969,1486.45 126.969,47.2441 \n",
       "  \"/>\n",
       "<polyline clip-path=\"url(#clip490)\" style=\"stroke:#000000; stroke-width:4; stroke-opacity:1; fill:none\" points=\"\n",
       "  189.963,1486.45 189.963,1469.18 \n",
       "  \"/>\n",
       "<polyline clip-path=\"url(#clip490)\" style=\"stroke:#000000; stroke-width:4; stroke-opacity:1; fill:none\" points=\"\n",
       "  720.483,1486.45 720.483,1469.18 \n",
       "  \"/>\n",
       "<polyline clip-path=\"url(#clip490)\" style=\"stroke:#000000; stroke-width:4; stroke-opacity:1; fill:none\" points=\"\n",
       "  1251,1486.45 1251,1469.18 \n",
       "  \"/>\n",
       "<polyline clip-path=\"url(#clip490)\" style=\"stroke:#000000; stroke-width:4; stroke-opacity:1; fill:none\" points=\"\n",
       "  1781.52,1486.45 1781.52,1469.18 \n",
       "  \"/>\n",
       "<polyline clip-path=\"url(#clip490)\" style=\"stroke:#000000; stroke-width:4; stroke-opacity:1; fill:none\" points=\"\n",
       "  2312.04,1486.45 2312.04,1469.18 \n",
       "  \"/>\n",
       "<polyline clip-path=\"url(#clip490)\" style=\"stroke:#000000; stroke-width:4; stroke-opacity:1; fill:none\" points=\"\n",
       "  126.969,1445.72 153.678,1445.72 \n",
       "  \"/>\n",
       "<polyline clip-path=\"url(#clip490)\" style=\"stroke:#000000; stroke-width:4; stroke-opacity:1; fill:none\" points=\"\n",
       "  126.969,1106.28 153.678,1106.28 \n",
       "  \"/>\n",
       "<polyline clip-path=\"url(#clip490)\" style=\"stroke:#000000; stroke-width:4; stroke-opacity:1; fill:none\" points=\"\n",
       "  126.969,766.846 153.678,766.846 \n",
       "  \"/>\n",
       "<polyline clip-path=\"url(#clip490)\" style=\"stroke:#000000; stroke-width:4; stroke-opacity:1; fill:none\" points=\"\n",
       "  126.969,427.411 153.678,427.411 \n",
       "  \"/>\n",
       "<polyline clip-path=\"url(#clip490)\" style=\"stroke:#000000; stroke-width:4; stroke-opacity:1; fill:none\" points=\"\n",
       "  126.969,87.9763 153.678,87.9763 \n",
       "  \"/>\n",
       "<path clip-path=\"url(#clip490)\" d=\"M 0 0 M157.972 1508.44 Q154.361 1508.44 152.532 1512 Q150.727 1515.55 150.727 1522.67 Q150.727 1529.78 152.532 1533.35 Q154.361 1536.89 157.972 1536.89 Q161.606 1536.89 163.412 1533.35 Q165.241 1529.78 165.241 1522.67 Q165.241 1515.55 163.412 1512 Q161.606 1508.44 157.972 1508.44 M157.972 1504.73 Q163.782 1504.73 166.838 1509.34 Q169.917 1513.92 169.917 1522.67 Q169.917 1531.4 166.838 1536.01 Q163.782 1540.59 157.972 1540.59 Q152.162 1540.59 149.083 1536.01 Q146.028 1531.4 146.028 1522.67 Q146.028 1513.92 149.083 1509.34 Q152.162 1504.73 157.972 1504.73 Z\" fill=\"#000000\" fill-rule=\"evenodd\" fill-opacity=\"1\" /><path clip-path=\"url(#clip490)\" d=\"M 0 0 M174.986 1534.04 L179.87 1534.04 L179.87 1539.92 L174.986 1539.92 L174.986 1534.04 Z\" fill=\"#000000\" fill-rule=\"evenodd\" fill-opacity=\"1\" /><path clip-path=\"url(#clip490)\" d=\"M 0 0 M194.94 1508.44 Q191.328 1508.44 189.5 1512 Q187.694 1515.55 187.694 1522.67 Q187.694 1529.78 189.5 1533.35 Q191.328 1536.89 194.94 1536.89 Q198.574 1536.89 200.379 1533.35 Q202.208 1529.78 202.208 1522.67 Q202.208 1515.55 200.379 1512 Q198.574 1508.44 194.94 1508.44 M194.94 1504.73 Q200.75 1504.73 203.805 1509.34 Q206.884 1513.92 206.884 1522.67 Q206.884 1531.4 203.805 1536.01 Q200.75 1540.59 194.94 1540.59 Q189.129 1540.59 186.051 1536.01 Q182.995 1531.4 182.995 1522.67 Q182.995 1513.92 186.051 1509.34 Q189.129 1504.73 194.94 1504.73 Z\" fill=\"#000000\" fill-rule=\"evenodd\" fill-opacity=\"1\" /><path clip-path=\"url(#clip490)\" d=\"M 0 0 M221.953 1508.44 Q218.342 1508.44 216.514 1512 Q214.708 1515.55 214.708 1522.67 Q214.708 1529.78 216.514 1533.35 Q218.342 1536.89 221.953 1536.89 Q225.588 1536.89 227.393 1533.35 Q229.222 1529.78 229.222 1522.67 Q229.222 1515.55 227.393 1512 Q225.588 1508.44 221.953 1508.44 M221.953 1504.73 Q227.763 1504.73 230.819 1509.34 Q233.898 1513.92 233.898 1522.67 Q233.898 1531.4 230.819 1536.01 Q227.763 1540.59 221.953 1540.59 Q216.143 1540.59 213.064 1536.01 Q210.009 1531.4 210.009 1522.67 Q210.009 1513.92 213.064 1509.34 Q216.143 1504.73 221.953 1504.73 Z\" fill=\"#000000\" fill-rule=\"evenodd\" fill-opacity=\"1\" /><path clip-path=\"url(#clip490)\" d=\"M 0 0 M689.789 1508.44 Q686.178 1508.44 684.349 1512 Q682.543 1515.55 682.543 1522.67 Q682.543 1529.78 684.349 1533.35 Q686.178 1536.89 689.789 1536.89 Q693.423 1536.89 695.229 1533.35 Q697.057 1529.78 697.057 1522.67 Q697.057 1515.55 695.229 1512 Q693.423 1508.44 689.789 1508.44 M689.789 1504.73 Q695.599 1504.73 698.654 1509.34 Q701.733 1513.92 701.733 1522.67 Q701.733 1531.4 698.654 1536.01 Q695.599 1540.59 689.789 1540.59 Q683.979 1540.59 680.9 1536.01 Q677.844 1531.4 677.844 1522.67 Q677.844 1513.92 680.9 1509.34 Q683.979 1504.73 689.789 1504.73 Z\" fill=\"#000000\" fill-rule=\"evenodd\" fill-opacity=\"1\" /><path clip-path=\"url(#clip490)\" d=\"M 0 0 M706.803 1534.04 L711.687 1534.04 L711.687 1539.92 L706.803 1539.92 L706.803 1534.04 Z\" fill=\"#000000\" fill-rule=\"evenodd\" fill-opacity=\"1\" /><path clip-path=\"url(#clip490)\" d=\"M 0 0 M720.784 1535.98 L737.103 1535.98 L737.103 1539.92 L715.159 1539.92 L715.159 1535.98 Q717.821 1533.23 722.404 1528.6 Q727.011 1523.95 728.191 1522.61 Q730.437 1520.08 731.316 1518.35 Q732.219 1516.59 732.219 1514.9 Q732.219 1512.14 730.275 1510.41 Q728.353 1508.67 725.251 1508.67 Q723.052 1508.67 720.599 1509.43 Q718.168 1510.2 715.39 1511.75 L715.39 1507.03 Q718.214 1505.89 720.668 1505.31 Q723.122 1504.73 725.159 1504.73 Q730.529 1504.73 733.724 1507.42 Q736.918 1510.11 736.918 1514.6 Q736.918 1516.73 736.108 1518.65 Q735.321 1520.54 733.214 1523.14 Q732.636 1523.81 729.534 1527.03 Q726.432 1530.22 720.784 1535.98 Z\" fill=\"#000000\" fill-rule=\"evenodd\" fill-opacity=\"1\" /><path clip-path=\"url(#clip490)\" d=\"M 0 0 M742.219 1505.36 L760.575 1505.36 L760.575 1509.3 L746.501 1509.3 L746.501 1517.77 Q747.52 1517.42 748.538 1517.26 Q749.557 1517.07 750.575 1517.07 Q756.362 1517.07 759.742 1520.24 Q763.122 1523.42 763.122 1528.83 Q763.122 1534.41 759.649 1537.51 Q756.177 1540.59 749.858 1540.59 Q747.682 1540.59 745.413 1540.22 Q743.168 1539.85 740.761 1539.11 L740.761 1534.41 Q742.844 1535.54 745.066 1536.1 Q747.288 1536.66 749.765 1536.66 Q753.77 1536.66 756.108 1534.55 Q758.446 1532.44 758.446 1528.83 Q758.446 1525.22 756.108 1523.11 Q753.77 1521.01 749.765 1521.01 Q747.89 1521.01 746.015 1521.42 Q744.163 1521.84 742.219 1522.72 L742.219 1505.36 Z\" fill=\"#000000\" fill-rule=\"evenodd\" fill-opacity=\"1\" /><path clip-path=\"url(#clip490)\" d=\"M 0 0 M1219.51 1508.44 Q1215.9 1508.44 1214.07 1512 Q1212.27 1515.55 1212.27 1522.67 Q1212.27 1529.78 1214.07 1533.35 Q1215.9 1536.89 1219.51 1536.89 Q1223.14 1536.89 1224.95 1533.35 Q1226.78 1529.78 1226.78 1522.67 Q1226.78 1515.55 1224.95 1512 Q1223.14 1508.44 1219.51 1508.44 M1219.51 1504.73 Q1225.32 1504.73 1228.38 1509.34 Q1231.45 1513.92 1231.45 1522.67 Q1231.45 1531.4 1228.38 1536.01 Q1225.32 1540.59 1219.51 1540.59 Q1213.7 1540.59 1210.62 1536.01 Q1207.57 1531.4 1207.57 1522.67 Q1207.57 1513.92 1210.62 1509.34 Q1213.7 1504.73 1219.51 1504.73 Z\" fill=\"#000000\" fill-rule=\"evenodd\" fill-opacity=\"1\" /><path clip-path=\"url(#clip490)\" d=\"M 0 0 M1236.52 1534.04 L1241.41 1534.04 L1241.41 1539.92 L1236.52 1539.92 L1236.52 1534.04 Z\" fill=\"#000000\" fill-rule=\"evenodd\" fill-opacity=\"1\" /><path clip-path=\"url(#clip490)\" d=\"M 0 0 M1246.52 1505.36 L1264.88 1505.36 L1264.88 1509.3 L1250.81 1509.3 L1250.81 1517.77 Q1251.83 1517.42 1252.84 1517.26 Q1253.86 1517.07 1254.88 1517.07 Q1260.67 1517.07 1264.05 1520.24 Q1267.43 1523.42 1267.43 1528.83 Q1267.43 1534.41 1263.95 1537.51 Q1260.48 1540.59 1254.16 1540.59 Q1251.99 1540.59 1249.72 1540.22 Q1247.47 1539.85 1245.07 1539.11 L1245.07 1534.41 Q1247.15 1535.54 1249.37 1536.1 Q1251.59 1536.66 1254.07 1536.66 Q1258.07 1536.66 1260.41 1534.55 Q1262.75 1532.44 1262.75 1528.83 Q1262.75 1525.22 1260.41 1523.11 Q1258.07 1521.01 1254.07 1521.01 Q1252.2 1521.01 1250.32 1521.42 Q1248.47 1521.84 1246.52 1522.72 L1246.52 1505.36 Z\" fill=\"#000000\" fill-rule=\"evenodd\" fill-opacity=\"1\" /><path clip-path=\"url(#clip490)\" d=\"M 0 0 M1282.5 1508.44 Q1278.89 1508.44 1277.06 1512 Q1275.25 1515.55 1275.25 1522.67 Q1275.25 1529.78 1277.06 1533.35 Q1278.89 1536.89 1282.5 1536.89 Q1286.13 1536.89 1287.94 1533.35 Q1289.76 1529.78 1289.76 1522.67 Q1289.76 1515.55 1287.94 1512 Q1286.13 1508.44 1282.5 1508.44 M1282.5 1504.73 Q1288.31 1504.73 1291.36 1509.34 Q1294.44 1513.92 1294.44 1522.67 Q1294.44 1531.4 1291.36 1536.01 Q1288.31 1540.59 1282.5 1540.59 Q1276.69 1540.59 1273.61 1536.01 Q1270.55 1531.4 1270.55 1522.67 Q1270.55 1513.92 1273.61 1509.34 Q1276.69 1504.73 1282.5 1504.73 Z\" fill=\"#000000\" fill-rule=\"evenodd\" fill-opacity=\"1\" /><path clip-path=\"url(#clip490)\" d=\"M 0 0 M1750.48 1508.44 Q1746.87 1508.44 1745.04 1512 Q1743.24 1515.55 1743.24 1522.67 Q1743.24 1529.78 1745.04 1533.35 Q1746.87 1536.89 1750.48 1536.89 Q1754.12 1536.89 1755.92 1533.35 Q1757.75 1529.78 1757.75 1522.67 Q1757.75 1515.55 1755.92 1512 Q1754.12 1508.44 1750.48 1508.44 M1750.48 1504.73 Q1756.29 1504.73 1759.35 1509.34 Q1762.43 1513.92 1762.43 1522.67 Q1762.43 1531.4 1759.35 1536.01 Q1756.29 1540.59 1750.48 1540.59 Q1744.67 1540.59 1741.59 1536.01 Q1738.54 1531.4 1738.54 1522.67 Q1738.54 1513.92 1741.59 1509.34 Q1744.67 1504.73 1750.48 1504.73 Z\" fill=\"#000000\" fill-rule=\"evenodd\" fill-opacity=\"1\" /><path clip-path=\"url(#clip490)\" d=\"M 0 0 M1767.5 1534.04 L1772.38 1534.04 L1772.38 1539.92 L1767.5 1539.92 L1767.5 1534.04 Z\" fill=\"#000000\" fill-rule=\"evenodd\" fill-opacity=\"1\" /><path clip-path=\"url(#clip490)\" d=\"M 0 0 M1776.27 1505.36 L1798.49 1505.36 L1798.49 1507.35 L1785.94 1539.92 L1781.06 1539.92 L1792.87 1509.3 L1776.27 1509.3 L1776.27 1505.36 Z\" fill=\"#000000\" fill-rule=\"evenodd\" fill-opacity=\"1\" /><path clip-path=\"url(#clip490)\" d=\"M 0 0 M1803.61 1505.36 L1821.96 1505.36 L1821.96 1509.3 L1807.89 1509.3 L1807.89 1517.77 Q1808.91 1517.42 1809.93 1517.26 Q1810.94 1517.07 1811.96 1517.07 Q1817.75 1517.07 1821.13 1520.24 Q1824.51 1523.42 1824.51 1528.83 Q1824.51 1534.41 1821.04 1537.51 Q1817.56 1540.59 1811.25 1540.59 Q1809.07 1540.59 1806.8 1540.22 Q1804.56 1539.85 1802.15 1539.11 L1802.15 1534.41 Q1804.23 1535.54 1806.45 1536.1 Q1808.68 1536.66 1811.15 1536.66 Q1815.16 1536.66 1817.5 1534.55 Q1819.83 1532.44 1819.83 1528.83 Q1819.83 1525.22 1817.5 1523.11 Q1815.16 1521.01 1811.15 1521.01 Q1809.28 1521.01 1807.4 1521.42 Q1805.55 1521.84 1803.61 1522.72 L1803.61 1505.36 Z\" fill=\"#000000\" fill-rule=\"evenodd\" fill-opacity=\"1\" /><path clip-path=\"url(#clip490)\" d=\"M 0 0 M2270.44 1535.98 L2278.07 1535.98 L2278.07 1509.62 L2269.76 1511.29 L2269.76 1507.03 L2278.03 1505.36 L2282.7 1505.36 L2282.7 1535.98 L2290.34 1535.98 L2290.34 1539.92 L2270.44 1539.92 L2270.44 1535.98 Z\" fill=\"#000000\" fill-rule=\"evenodd\" fill-opacity=\"1\" /><path clip-path=\"url(#clip490)\" d=\"M 0 0 M2295.41 1534.04 L2300.3 1534.04 L2300.3 1539.92 L2295.41 1539.92 L2295.41 1534.04 Z\" fill=\"#000000\" fill-rule=\"evenodd\" fill-opacity=\"1\" /><path clip-path=\"url(#clip490)\" d=\"M 0 0 M2315.37 1508.44 Q2311.75 1508.44 2309.93 1512 Q2308.12 1515.55 2308.12 1522.67 Q2308.12 1529.78 2309.93 1533.35 Q2311.75 1536.89 2315.37 1536.89 Q2319 1536.89 2320.81 1533.35 Q2322.63 1529.78 2322.63 1522.67 Q2322.63 1515.55 2320.81 1512 Q2319 1508.44 2315.37 1508.44 M2315.37 1504.73 Q2321.18 1504.73 2324.23 1509.34 Q2327.31 1513.92 2327.31 1522.67 Q2327.31 1531.4 2324.23 1536.01 Q2321.18 1540.59 2315.37 1540.59 Q2309.56 1540.59 2306.48 1536.01 Q2303.42 1531.4 2303.42 1522.67 Q2303.42 1513.92 2306.48 1509.34 Q2309.56 1504.73 2315.37 1504.73 Z\" fill=\"#000000\" fill-rule=\"evenodd\" fill-opacity=\"1\" /><path clip-path=\"url(#clip490)\" d=\"M 0 0 M2342.38 1508.44 Q2338.77 1508.44 2336.94 1512 Q2335.13 1515.55 2335.13 1522.67 Q2335.13 1529.78 2336.94 1533.35 Q2338.77 1536.89 2342.38 1536.89 Q2346.01 1536.89 2347.82 1533.35 Q2349.65 1529.78 2349.65 1522.67 Q2349.65 1515.55 2347.82 1512 Q2346.01 1508.44 2342.38 1508.44 M2342.38 1504.73 Q2348.19 1504.73 2351.24 1509.34 Q2354.32 1513.92 2354.32 1522.67 Q2354.32 1531.4 2351.24 1536.01 Q2348.19 1540.59 2342.38 1540.59 Q2336.57 1540.59 2333.49 1536.01 Q2330.43 1531.4 2330.43 1522.67 Q2330.43 1513.92 2333.49 1509.34 Q2336.57 1504.73 2342.38 1504.73 Z\" fill=\"#000000\" fill-rule=\"evenodd\" fill-opacity=\"1\" /><path clip-path=\"url(#clip490)\" d=\"M 0 0 M62.9921 1448.11 L75.4689 1448.11 L75.4689 1451.91 L62.9921 1451.91 L62.9921 1448.11 Z\" fill=\"#000000\" fill-rule=\"evenodd\" fill-opacity=\"1\" /><path clip-path=\"url(#clip490)\" d=\"M 0 0 M93.3855 1432.51 L81.58 1450.96 L93.3855 1450.96 L93.3855 1432.51 M92.1586 1428.44 L98.0382 1428.44 L98.0382 1450.96 L102.969 1450.96 L102.969 1454.85 L98.0382 1454.85 L98.0382 1463 L93.3855 1463 L93.3855 1454.85 L77.7837 1454.85 L77.7837 1450.33 L92.1586 1428.44 Z\" fill=\"#000000\" fill-rule=\"evenodd\" fill-opacity=\"1\" /><path clip-path=\"url(#clip490)\" d=\"M 0 0 M65.0754 1108.68 L77.5522 1108.68 L77.5522 1112.47 L65.0754 1112.47 L65.0754 1108.68 Z\" fill=\"#000000\" fill-rule=\"evenodd\" fill-opacity=\"1\" /><path clip-path=\"url(#clip490)\" d=\"M 0 0 M86.6494 1119.63 L102.969 1119.63 L102.969 1123.56 L81.0244 1123.56 L81.0244 1119.63 Q83.6865 1116.87 88.2698 1112.24 Q92.8762 1107.59 94.0568 1106.25 Q96.3021 1103.72 97.1818 1101.99 Q98.0845 1100.23 98.0845 1098.54 Q98.0845 1095.78 96.1401 1094.05 Q94.2188 1092.31 91.117 1092.31 Q88.9179 1092.31 86.4642 1093.07 Q84.0337 1093.84 81.2559 1095.39 L81.2559 1090.67 Q84.08 1089.53 86.5337 1088.95 Q88.9874 1088.38 91.0244 1088.38 Q96.3947 1088.38 99.5892 1091.06 Q102.784 1093.75 102.784 1098.24 Q102.784 1100.37 101.973 1102.29 Q101.186 1104.19 99.0799 1106.78 Q98.5012 1107.45 95.3994 1110.67 Q92.2975 1113.86 86.6494 1119.63 Z\" fill=\"#000000\" fill-rule=\"evenodd\" fill-opacity=\"1\" /><path clip-path=\"url(#clip490)\" d=\"M 0 0 M91.0244 752.645 Q87.4133 752.645 85.5846 756.209 Q83.7791 759.751 83.7791 766.881 Q83.7791 773.987 85.5846 777.552 Q87.4133 781.094 91.0244 781.094 Q94.6586 781.094 96.4642 777.552 Q98.2929 773.987 98.2929 766.881 Q98.2929 759.751 96.4642 756.209 Q94.6586 752.645 91.0244 752.645 M91.0244 748.941 Q96.8345 748.941 99.8901 753.547 Q102.969 758.131 102.969 766.881 Q102.969 775.608 99.8901 780.214 Q96.8345 784.797 91.0244 784.797 Q85.2142 784.797 82.1355 780.214 Q79.08 775.608 79.08 766.881 Q79.08 758.131 82.1355 753.547 Q85.2142 748.941 91.0244 748.941 Z\" fill=\"#000000\" fill-rule=\"evenodd\" fill-opacity=\"1\" /><path clip-path=\"url(#clip490)\" d=\"M 0 0 M86.6494 440.756 L102.969 440.756 L102.969 444.691 L81.0244 444.691 L81.0244 440.756 Q83.6865 438.001 88.2698 433.372 Q92.8762 428.719 94.0568 427.376 Q96.3021 424.853 97.1818 423.117 Q98.0845 421.358 98.0845 419.668 Q98.0845 416.914 96.1401 415.177 Q94.2188 413.441 91.117 413.441 Q88.9179 413.441 86.4642 414.205 Q84.0337 414.969 81.2559 416.52 L81.2559 411.798 Q84.08 410.664 86.5337 410.085 Q88.9874 409.506 91.0244 409.506 Q96.3947 409.506 99.5892 412.191 Q102.784 414.876 102.784 419.367 Q102.784 421.497 101.973 423.418 Q101.186 425.316 99.0799 427.909 Q98.5012 428.58 95.3994 431.798 Q92.2975 434.992 86.6494 440.756 Z\" fill=\"#000000\" fill-rule=\"evenodd\" fill-opacity=\"1\" /><path clip-path=\"url(#clip490)\" d=\"M 0 0 M93.3855 74.7703 L81.58 93.2193 L93.3855 93.2193 L93.3855 74.7703 M92.1586 70.6963 L98.0382 70.6963 L98.0382 93.2193 L102.969 93.2193 L102.969 97.1082 L98.0382 97.1082 L98.0382 105.256 L93.3855 105.256 L93.3855 97.1082 L77.7837 97.1082 L77.7837 92.5943 L92.1586 70.6963 Z\" fill=\"#000000\" fill-rule=\"evenodd\" fill-opacity=\"1\" /><polyline clip-path=\"url(#clip492)\" style=\"stroke:#009af9; stroke-width:4; stroke-opacity:1; fill:none\" points=\"\n",
       "  189.963,936.563 189.963,919.592 189.963,902.62 189.963,885.648 189.963,868.676 189.963,851.705 189.963,834.733 189.963,817.761 189.963,800.789 189.963,783.818 \n",
       "  189.963,766.846 189.963,749.874 189.963,732.902 189.963,715.931 189.963,698.959 189.963,681.987 189.963,665.016 189.963,648.044 189.963,631.072 189.963,614.1 \n",
       "  189.963,597.129 \n",
       "  \"/>\n",
       "<polyline clip-path=\"url(#clip492)\" style=\"stroke:#e26f46; stroke-width:4; stroke-opacity:1; fill:none\" points=\"\n",
       "  720.483,1445.72 804.305,1428.74 886.005,1411.77 965.583,1394.8 1043.04,1377.83 1118.37,1360.86 1191.58,1343.89 1262.67,1326.91 1331.64,1309.94 1398.49,1292.97 \n",
       "  1463.21,1276 1525.81,1259.03 1586.29,1242.05 1644.65,1225.08 1700.88,1208.11 1755,1191.14 1806.99,1174.17 1856.86,1157.2 1904.6,1140.22 1950.23,1123.25 \n",
       "  1993.73,1106.28 2035.11,1089.31 2074.37,1072.34 2111.51,1055.37 2146.52,1038.39 2179.41,1021.42 2210.18,1004.45 2238.83,987.479 2265.36,970.507 2289.76,953.535 \n",
       "  189.963,936.563 210.123,919.592 228.16,902.62 244.076,885.648 257.869,868.676 269.541,851.705 279.09,834.733 286.517,817.761 291.823,800.789 295.006,783.818 \n",
       "  296.067,766.846 295.006,749.874 291.823,732.902 286.517,715.931 279.09,698.959 269.541,681.987 257.869,665.016 244.076,648.044 228.16,631.072 210.123,614.1 \n",
       "  189.963,597.129 2289.76,580.157 2265.36,563.185 2238.83,546.213 2210.18,529.242 2179.41,512.27 2146.52,495.298 2111.51,478.326 2074.37,461.355 2035.11,444.383 \n",
       "  1993.73,427.411 1950.23,410.439 1904.6,393.468 1856.86,376.496 1806.99,359.524 1755,342.552 1700.88,325.581 1644.65,308.609 1586.29,291.637 1525.81,274.665 \n",
       "  1463.21,257.694 1398.49,240.722 1331.64,223.75 1262.67,206.778 1191.58,189.807 1118.37,172.835 1043.04,155.863 965.583,138.892 886.005,121.92 804.305,104.948 \n",
       "  720.483,87.9763 \n",
       "  \"/>\n",
       "<circle clip-path=\"url(#clip492)\" cx=\"189.963\" cy=\"936.563\" r=\"14\" fill=\"#3da44d\" fill-rule=\"evenodd\" fill-opacity=\"1\" stroke=\"#000000\" stroke-opacity=\"1\" stroke-width=\"3.2\"/>\n",
       "<circle clip-path=\"url(#clip492)\" cx=\"189.963\" cy=\"597.129\" r=\"14\" fill=\"#3da44d\" fill-rule=\"evenodd\" fill-opacity=\"1\" stroke=\"#000000\" stroke-opacity=\"1\" stroke-width=\"3.2\"/>\n",
       "<circle clip-path=\"url(#clip492)\" cx=\"294.76\" cy=\"748.013\" r=\"14\" fill=\"#c271d2\" fill-rule=\"evenodd\" fill-opacity=\"1\" stroke=\"#000000\" stroke-opacity=\"1\" stroke-width=\"3.2\"/>\n",
       "<circle clip-path=\"url(#clip492)\" cx=\"189.963\" cy=\"936.563\" r=\"14\" fill=\"#ac8d18\" fill-rule=\"evenodd\" fill-opacity=\"1\" stroke=\"#000000\" stroke-opacity=\"1\" stroke-width=\"3.2\"/>\n",
       "<circle clip-path=\"url(#clip492)\" cx=\"189.963\" cy=\"597.129\" r=\"14\" fill=\"#ac8d18\" fill-rule=\"evenodd\" fill-opacity=\"1\" stroke=\"#000000\" stroke-opacity=\"1\" stroke-width=\"3.2\"/>\n",
       "<circle clip-path=\"url(#clip492)\" cx=\"189.963\" cy=\"756.9\" r=\"14\" fill=\"#00a9ad\" fill-rule=\"evenodd\" fill-opacity=\"1\" stroke=\"#000000\" stroke-opacity=\"1\" stroke-width=\"3.2\"/>\n",
       "<circle clip-path=\"url(#clip492)\" cx=\"1261.61\" cy=\"936.563\" r=\"14\" fill=\"#ed5d92\" fill-rule=\"evenodd\" fill-opacity=\"1\" stroke=\"#000000\" stroke-opacity=\"1\" stroke-width=\"3.2\"/>\n",
       "<circle clip-path=\"url(#clip492)\" cx=\"1240.39\" cy=\"597.129\" r=\"14\" fill=\"#ed5d92\" fill-rule=\"evenodd\" fill-opacity=\"1\" stroke=\"#000000\" stroke-opacity=\"1\" stroke-width=\"3.2\"/>\n",
       "<circle clip-path=\"url(#clip492)\" cx=\"408.867\" cy=\"731.478\" r=\"14\" fill=\"#c68125\" fill-rule=\"evenodd\" fill-opacity=\"1\" stroke=\"#000000\" stroke-opacity=\"1\" stroke-width=\"3.2\"/>\n",
       "</svg>\n"
      ]
     },
     "execution_count": 23,
     "metadata": {},
     "output_type": "execute_result"
    }
   ],
   "source": [
    "listaY2 = [y for y in -1.0:0.1:1.0]\n",
    "listaX2 = zeros(21)\n",
    "plot(listaX2, listaY2, label = \"\")\n",
    "plot!(listaX, listaY, label = \"\", title = \"\")\n",
    "scatter!([cero_1aX,cero_1bX],[cero_1aY,cero_1bY], label = \"\")\n",
    "scatter!([[0,0],[0]],[cero_2aY,cero_2bY], label = \"\")\n",
    "scatter!([cero_3IaX,cero_3IbX],[cero_3IaY,cero_3IbY], label = \"\")"
   ]
  },
  {
   "cell_type": "code",
   "execution_count": 24,
   "metadata": {},
   "outputs": [],
   "source": [
    "NT3C2 = NT3.subs([(x,0.0),(a,0.1),(b,0.1)]); #sustituyo "
   ]
  },
  {
   "cell_type": "code",
   "execution_count": 25,
   "metadata": {},
   "outputs": [
    {
     "name": "stdout",
     "output_type": "stream",
     "text": [
      " 15.468855 seconds (251.88 k allocations: 7.392 MiB)\n",
      " 14.982835 seconds (226.41 k allocations: 6.539 MiB)\n"
     ]
    },
    {
     "data": {
      "text/plain": [
       "1-element Array{Float64,1}:\n",
       " 0.1520611988650667"
      ]
     },
     "execution_count": 25,
     "metadata": {},
     "output_type": "execute_result"
    }
   ],
   "source": [
    "@time cero_3IaYC2 = find_zeros(NT3C2[1],-4.0,4.0)\n",
    "@time cero_3IbYC2 = find_zeros(NT3C2[2],-4.0,4.0)"
   ]
  },
  {
   "cell_type": "code",
   "execution_count": 26,
   "metadata": {},
   "outputs": [
    {
     "data": {
      "text/plain": [
       "1-element Array{Float64,1}:\n",
       " 0.0"
      ]
     },
     "execution_count": 26,
     "metadata": {},
     "output_type": "execute_result"
    }
   ],
   "source": [
    "cero_3IaXC2 = zeros(length(cero_3IaYC2))\n",
    "cero_3IbXC2 = zeros(length(cero_3IbYC2))"
   ]
  },
  {
   "cell_type": "code",
   "execution_count": 27,
   "metadata": {},
   "outputs": [
    {
     "data": {
      "image/svg+xml": [
       "<?xml version=\"1.0\" encoding=\"utf-8\"?>\n",
       "<svg xmlns=\"http://www.w3.org/2000/svg\" xmlns:xlink=\"http://www.w3.org/1999/xlink\" width=\"600\" height=\"400\" viewBox=\"0 0 2400 1600\">\n",
       "<defs>\n",
       "  <clipPath id=\"clip530\">\n",
       "    <rect x=\"0\" y=\"0\" width=\"2400\" height=\"1600\"/>\n",
       "  </clipPath>\n",
       "</defs>\n",
       "<path clip-path=\"url(#clip530)\" d=\"\n",
       "M0 1600 L2400 1600 L2400 0 L0 0  Z\n",
       "  \" fill=\"#ffffff\" fill-rule=\"evenodd\" fill-opacity=\"1\"/>\n",
       "<defs>\n",
       "  <clipPath id=\"clip531\">\n",
       "    <rect x=\"480\" y=\"0\" width=\"1681\" height=\"1600\"/>\n",
       "  </clipPath>\n",
       "</defs>\n",
       "<path clip-path=\"url(#clip530)\" d=\"\n",
       "M126.969 1486.45 L2352.76 1486.45 L2352.76 47.2441 L126.969 47.2441  Z\n",
       "  \" fill=\"#ffffff\" fill-rule=\"evenodd\" fill-opacity=\"1\"/>\n",
       "<defs>\n",
       "  <clipPath id=\"clip532\">\n",
       "    <rect x=\"126\" y=\"47\" width=\"2227\" height=\"1440\"/>\n",
       "  </clipPath>\n",
       "</defs>\n",
       "<polyline clip-path=\"url(#clip532)\" style=\"stroke:#000000; stroke-width:2; stroke-opacity:0.1; fill:none\" points=\"\n",
       "  189.963,1486.45 189.963,47.2441 \n",
       "  \"/>\n",
       "<polyline clip-path=\"url(#clip532)\" style=\"stroke:#000000; stroke-width:2; stroke-opacity:0.1; fill:none\" points=\"\n",
       "  720.483,1486.45 720.483,47.2441 \n",
       "  \"/>\n",
       "<polyline clip-path=\"url(#clip532)\" style=\"stroke:#000000; stroke-width:2; stroke-opacity:0.1; fill:none\" points=\"\n",
       "  1251,1486.45 1251,47.2441 \n",
       "  \"/>\n",
       "<polyline clip-path=\"url(#clip532)\" style=\"stroke:#000000; stroke-width:2; stroke-opacity:0.1; fill:none\" points=\"\n",
       "  1781.52,1486.45 1781.52,47.2441 \n",
       "  \"/>\n",
       "<polyline clip-path=\"url(#clip532)\" style=\"stroke:#000000; stroke-width:2; stroke-opacity:0.1; fill:none\" points=\"\n",
       "  2312.04,1486.45 2312.04,47.2441 \n",
       "  \"/>\n",
       "<polyline clip-path=\"url(#clip532)\" style=\"stroke:#000000; stroke-width:2; stroke-opacity:0.1; fill:none\" points=\"\n",
       "  126.969,1445.72 2352.76,1445.72 \n",
       "  \"/>\n",
       "<polyline clip-path=\"url(#clip532)\" style=\"stroke:#000000; stroke-width:2; stroke-opacity:0.1; fill:none\" points=\"\n",
       "  126.969,1106.28 2352.76,1106.28 \n",
       "  \"/>\n",
       "<polyline clip-path=\"url(#clip532)\" style=\"stroke:#000000; stroke-width:2; stroke-opacity:0.1; fill:none\" points=\"\n",
       "  126.969,766.846 2352.76,766.846 \n",
       "  \"/>\n",
       "<polyline clip-path=\"url(#clip532)\" style=\"stroke:#000000; stroke-width:2; stroke-opacity:0.1; fill:none\" points=\"\n",
       "  126.969,427.411 2352.76,427.411 \n",
       "  \"/>\n",
       "<polyline clip-path=\"url(#clip532)\" style=\"stroke:#000000; stroke-width:2; stroke-opacity:0.1; fill:none\" points=\"\n",
       "  126.969,87.9763 2352.76,87.9763 \n",
       "  \"/>\n",
       "<polyline clip-path=\"url(#clip530)\" style=\"stroke:#000000; stroke-width:4; stroke-opacity:1; fill:none\" points=\"\n",
       "  126.969,1486.45 2352.76,1486.45 \n",
       "  \"/>\n",
       "<polyline clip-path=\"url(#clip530)\" style=\"stroke:#000000; stroke-width:4; stroke-opacity:1; fill:none\" points=\"\n",
       "  126.969,1486.45 126.969,47.2441 \n",
       "  \"/>\n",
       "<polyline clip-path=\"url(#clip530)\" style=\"stroke:#000000; stroke-width:4; stroke-opacity:1; fill:none\" points=\"\n",
       "  189.963,1486.45 189.963,1469.18 \n",
       "  \"/>\n",
       "<polyline clip-path=\"url(#clip530)\" style=\"stroke:#000000; stroke-width:4; stroke-opacity:1; fill:none\" points=\"\n",
       "  720.483,1486.45 720.483,1469.18 \n",
       "  \"/>\n",
       "<polyline clip-path=\"url(#clip530)\" style=\"stroke:#000000; stroke-width:4; stroke-opacity:1; fill:none\" points=\"\n",
       "  1251,1486.45 1251,1469.18 \n",
       "  \"/>\n",
       "<polyline clip-path=\"url(#clip530)\" style=\"stroke:#000000; stroke-width:4; stroke-opacity:1; fill:none\" points=\"\n",
       "  1781.52,1486.45 1781.52,1469.18 \n",
       "  \"/>\n",
       "<polyline clip-path=\"url(#clip530)\" style=\"stroke:#000000; stroke-width:4; stroke-opacity:1; fill:none\" points=\"\n",
       "  2312.04,1486.45 2312.04,1469.18 \n",
       "  \"/>\n",
       "<polyline clip-path=\"url(#clip530)\" style=\"stroke:#000000; stroke-width:4; stroke-opacity:1; fill:none\" points=\"\n",
       "  126.969,1445.72 153.678,1445.72 \n",
       "  \"/>\n",
       "<polyline clip-path=\"url(#clip530)\" style=\"stroke:#000000; stroke-width:4; stroke-opacity:1; fill:none\" points=\"\n",
       "  126.969,1106.28 153.678,1106.28 \n",
       "  \"/>\n",
       "<polyline clip-path=\"url(#clip530)\" style=\"stroke:#000000; stroke-width:4; stroke-opacity:1; fill:none\" points=\"\n",
       "  126.969,766.846 153.678,766.846 \n",
       "  \"/>\n",
       "<polyline clip-path=\"url(#clip530)\" style=\"stroke:#000000; stroke-width:4; stroke-opacity:1; fill:none\" points=\"\n",
       "  126.969,427.411 153.678,427.411 \n",
       "  \"/>\n",
       "<polyline clip-path=\"url(#clip530)\" style=\"stroke:#000000; stroke-width:4; stroke-opacity:1; fill:none\" points=\"\n",
       "  126.969,87.9763 153.678,87.9763 \n",
       "  \"/>\n",
       "<path clip-path=\"url(#clip530)\" d=\"M 0 0 M157.972 1508.44 Q154.361 1508.44 152.532 1512 Q150.727 1515.55 150.727 1522.67 Q150.727 1529.78 152.532 1533.35 Q154.361 1536.89 157.972 1536.89 Q161.606 1536.89 163.412 1533.35 Q165.241 1529.78 165.241 1522.67 Q165.241 1515.55 163.412 1512 Q161.606 1508.44 157.972 1508.44 M157.972 1504.73 Q163.782 1504.73 166.838 1509.34 Q169.917 1513.92 169.917 1522.67 Q169.917 1531.4 166.838 1536.01 Q163.782 1540.59 157.972 1540.59 Q152.162 1540.59 149.083 1536.01 Q146.028 1531.4 146.028 1522.67 Q146.028 1513.92 149.083 1509.34 Q152.162 1504.73 157.972 1504.73 Z\" fill=\"#000000\" fill-rule=\"evenodd\" fill-opacity=\"1\" /><path clip-path=\"url(#clip530)\" d=\"M 0 0 M174.986 1534.04 L179.87 1534.04 L179.87 1539.92 L174.986 1539.92 L174.986 1534.04 Z\" fill=\"#000000\" fill-rule=\"evenodd\" fill-opacity=\"1\" /><path clip-path=\"url(#clip530)\" d=\"M 0 0 M194.94 1508.44 Q191.328 1508.44 189.5 1512 Q187.694 1515.55 187.694 1522.67 Q187.694 1529.78 189.5 1533.35 Q191.328 1536.89 194.94 1536.89 Q198.574 1536.89 200.379 1533.35 Q202.208 1529.78 202.208 1522.67 Q202.208 1515.55 200.379 1512 Q198.574 1508.44 194.94 1508.44 M194.94 1504.73 Q200.75 1504.73 203.805 1509.34 Q206.884 1513.92 206.884 1522.67 Q206.884 1531.4 203.805 1536.01 Q200.75 1540.59 194.94 1540.59 Q189.129 1540.59 186.051 1536.01 Q182.995 1531.4 182.995 1522.67 Q182.995 1513.92 186.051 1509.34 Q189.129 1504.73 194.94 1504.73 Z\" fill=\"#000000\" fill-rule=\"evenodd\" fill-opacity=\"1\" /><path clip-path=\"url(#clip530)\" d=\"M 0 0 M221.953 1508.44 Q218.342 1508.44 216.514 1512 Q214.708 1515.55 214.708 1522.67 Q214.708 1529.78 216.514 1533.35 Q218.342 1536.89 221.953 1536.89 Q225.588 1536.89 227.393 1533.35 Q229.222 1529.78 229.222 1522.67 Q229.222 1515.55 227.393 1512 Q225.588 1508.44 221.953 1508.44 M221.953 1504.73 Q227.763 1504.73 230.819 1509.34 Q233.898 1513.92 233.898 1522.67 Q233.898 1531.4 230.819 1536.01 Q227.763 1540.59 221.953 1540.59 Q216.143 1540.59 213.064 1536.01 Q210.009 1531.4 210.009 1522.67 Q210.009 1513.92 213.064 1509.34 Q216.143 1504.73 221.953 1504.73 Z\" fill=\"#000000\" fill-rule=\"evenodd\" fill-opacity=\"1\" /><path clip-path=\"url(#clip530)\" d=\"M 0 0 M689.789 1508.44 Q686.178 1508.44 684.349 1512 Q682.543 1515.55 682.543 1522.67 Q682.543 1529.78 684.349 1533.35 Q686.178 1536.89 689.789 1536.89 Q693.423 1536.89 695.229 1533.35 Q697.057 1529.78 697.057 1522.67 Q697.057 1515.55 695.229 1512 Q693.423 1508.44 689.789 1508.44 M689.789 1504.73 Q695.599 1504.73 698.654 1509.34 Q701.733 1513.92 701.733 1522.67 Q701.733 1531.4 698.654 1536.01 Q695.599 1540.59 689.789 1540.59 Q683.979 1540.59 680.9 1536.01 Q677.844 1531.4 677.844 1522.67 Q677.844 1513.92 680.9 1509.34 Q683.979 1504.73 689.789 1504.73 Z\" fill=\"#000000\" fill-rule=\"evenodd\" fill-opacity=\"1\" /><path clip-path=\"url(#clip530)\" d=\"M 0 0 M706.803 1534.04 L711.687 1534.04 L711.687 1539.92 L706.803 1539.92 L706.803 1534.04 Z\" fill=\"#000000\" fill-rule=\"evenodd\" fill-opacity=\"1\" /><path clip-path=\"url(#clip530)\" d=\"M 0 0 M720.784 1535.98 L737.103 1535.98 L737.103 1539.92 L715.159 1539.92 L715.159 1535.98 Q717.821 1533.23 722.404 1528.6 Q727.011 1523.95 728.191 1522.61 Q730.437 1520.08 731.316 1518.35 Q732.219 1516.59 732.219 1514.9 Q732.219 1512.14 730.275 1510.41 Q728.353 1508.67 725.251 1508.67 Q723.052 1508.67 720.599 1509.43 Q718.168 1510.2 715.39 1511.75 L715.39 1507.03 Q718.214 1505.89 720.668 1505.31 Q723.122 1504.73 725.159 1504.73 Q730.529 1504.73 733.724 1507.42 Q736.918 1510.11 736.918 1514.6 Q736.918 1516.73 736.108 1518.65 Q735.321 1520.54 733.214 1523.14 Q732.636 1523.81 729.534 1527.03 Q726.432 1530.22 720.784 1535.98 Z\" fill=\"#000000\" fill-rule=\"evenodd\" fill-opacity=\"1\" /><path clip-path=\"url(#clip530)\" d=\"M 0 0 M742.219 1505.36 L760.575 1505.36 L760.575 1509.3 L746.501 1509.3 L746.501 1517.77 Q747.52 1517.42 748.538 1517.26 Q749.557 1517.07 750.575 1517.07 Q756.362 1517.07 759.742 1520.24 Q763.122 1523.42 763.122 1528.83 Q763.122 1534.41 759.649 1537.51 Q756.177 1540.59 749.858 1540.59 Q747.682 1540.59 745.413 1540.22 Q743.168 1539.85 740.761 1539.11 L740.761 1534.41 Q742.844 1535.54 745.066 1536.1 Q747.288 1536.66 749.765 1536.66 Q753.77 1536.66 756.108 1534.55 Q758.446 1532.44 758.446 1528.83 Q758.446 1525.22 756.108 1523.11 Q753.77 1521.01 749.765 1521.01 Q747.89 1521.01 746.015 1521.42 Q744.163 1521.84 742.219 1522.72 L742.219 1505.36 Z\" fill=\"#000000\" fill-rule=\"evenodd\" fill-opacity=\"1\" /><path clip-path=\"url(#clip530)\" d=\"M 0 0 M1219.51 1508.44 Q1215.9 1508.44 1214.07 1512 Q1212.27 1515.55 1212.27 1522.67 Q1212.27 1529.78 1214.07 1533.35 Q1215.9 1536.89 1219.51 1536.89 Q1223.14 1536.89 1224.95 1533.35 Q1226.78 1529.78 1226.78 1522.67 Q1226.78 1515.55 1224.95 1512 Q1223.14 1508.44 1219.51 1508.44 M1219.51 1504.73 Q1225.32 1504.73 1228.38 1509.34 Q1231.45 1513.92 1231.45 1522.67 Q1231.45 1531.4 1228.38 1536.01 Q1225.32 1540.59 1219.51 1540.59 Q1213.7 1540.59 1210.62 1536.01 Q1207.57 1531.4 1207.57 1522.67 Q1207.57 1513.92 1210.62 1509.34 Q1213.7 1504.73 1219.51 1504.73 Z\" fill=\"#000000\" fill-rule=\"evenodd\" fill-opacity=\"1\" /><path clip-path=\"url(#clip530)\" d=\"M 0 0 M1236.52 1534.04 L1241.41 1534.04 L1241.41 1539.92 L1236.52 1539.92 L1236.52 1534.04 Z\" fill=\"#000000\" fill-rule=\"evenodd\" fill-opacity=\"1\" /><path clip-path=\"url(#clip530)\" d=\"M 0 0 M1246.52 1505.36 L1264.88 1505.36 L1264.88 1509.3 L1250.81 1509.3 L1250.81 1517.77 Q1251.83 1517.42 1252.84 1517.26 Q1253.86 1517.07 1254.88 1517.07 Q1260.67 1517.07 1264.05 1520.24 Q1267.43 1523.42 1267.43 1528.83 Q1267.43 1534.41 1263.95 1537.51 Q1260.48 1540.59 1254.16 1540.59 Q1251.99 1540.59 1249.72 1540.22 Q1247.47 1539.85 1245.07 1539.11 L1245.07 1534.41 Q1247.15 1535.54 1249.37 1536.1 Q1251.59 1536.66 1254.07 1536.66 Q1258.07 1536.66 1260.41 1534.55 Q1262.75 1532.44 1262.75 1528.83 Q1262.75 1525.22 1260.41 1523.11 Q1258.07 1521.01 1254.07 1521.01 Q1252.2 1521.01 1250.32 1521.42 Q1248.47 1521.84 1246.52 1522.72 L1246.52 1505.36 Z\" fill=\"#000000\" fill-rule=\"evenodd\" fill-opacity=\"1\" /><path clip-path=\"url(#clip530)\" d=\"M 0 0 M1282.5 1508.44 Q1278.89 1508.44 1277.06 1512 Q1275.25 1515.55 1275.25 1522.67 Q1275.25 1529.78 1277.06 1533.35 Q1278.89 1536.89 1282.5 1536.89 Q1286.13 1536.89 1287.94 1533.35 Q1289.76 1529.78 1289.76 1522.67 Q1289.76 1515.55 1287.94 1512 Q1286.13 1508.44 1282.5 1508.44 M1282.5 1504.73 Q1288.31 1504.73 1291.36 1509.34 Q1294.44 1513.92 1294.44 1522.67 Q1294.44 1531.4 1291.36 1536.01 Q1288.31 1540.59 1282.5 1540.59 Q1276.69 1540.59 1273.61 1536.01 Q1270.55 1531.4 1270.55 1522.67 Q1270.55 1513.92 1273.61 1509.34 Q1276.69 1504.73 1282.5 1504.73 Z\" fill=\"#000000\" fill-rule=\"evenodd\" fill-opacity=\"1\" /><path clip-path=\"url(#clip530)\" d=\"M 0 0 M1750.48 1508.44 Q1746.87 1508.44 1745.04 1512 Q1743.24 1515.55 1743.24 1522.67 Q1743.24 1529.78 1745.04 1533.35 Q1746.87 1536.89 1750.48 1536.89 Q1754.12 1536.89 1755.92 1533.35 Q1757.75 1529.78 1757.75 1522.67 Q1757.75 1515.55 1755.92 1512 Q1754.12 1508.44 1750.48 1508.44 M1750.48 1504.73 Q1756.29 1504.73 1759.35 1509.34 Q1762.43 1513.92 1762.43 1522.67 Q1762.43 1531.4 1759.35 1536.01 Q1756.29 1540.59 1750.48 1540.59 Q1744.67 1540.59 1741.59 1536.01 Q1738.54 1531.4 1738.54 1522.67 Q1738.54 1513.92 1741.59 1509.34 Q1744.67 1504.73 1750.48 1504.73 Z\" fill=\"#000000\" fill-rule=\"evenodd\" fill-opacity=\"1\" /><path clip-path=\"url(#clip530)\" d=\"M 0 0 M1767.5 1534.04 L1772.38 1534.04 L1772.38 1539.92 L1767.5 1539.92 L1767.5 1534.04 Z\" fill=\"#000000\" fill-rule=\"evenodd\" fill-opacity=\"1\" /><path clip-path=\"url(#clip530)\" d=\"M 0 0 M1776.27 1505.36 L1798.49 1505.36 L1798.49 1507.35 L1785.94 1539.92 L1781.06 1539.92 L1792.87 1509.3 L1776.27 1509.3 L1776.27 1505.36 Z\" fill=\"#000000\" fill-rule=\"evenodd\" fill-opacity=\"1\" /><path clip-path=\"url(#clip530)\" d=\"M 0 0 M1803.61 1505.36 L1821.96 1505.36 L1821.96 1509.3 L1807.89 1509.3 L1807.89 1517.77 Q1808.91 1517.42 1809.93 1517.26 Q1810.94 1517.07 1811.96 1517.07 Q1817.75 1517.07 1821.13 1520.24 Q1824.51 1523.42 1824.51 1528.83 Q1824.51 1534.41 1821.04 1537.51 Q1817.56 1540.59 1811.25 1540.59 Q1809.07 1540.59 1806.8 1540.22 Q1804.56 1539.85 1802.15 1539.11 L1802.15 1534.41 Q1804.23 1535.54 1806.45 1536.1 Q1808.68 1536.66 1811.15 1536.66 Q1815.16 1536.66 1817.5 1534.55 Q1819.83 1532.44 1819.83 1528.83 Q1819.83 1525.22 1817.5 1523.11 Q1815.16 1521.01 1811.15 1521.01 Q1809.28 1521.01 1807.4 1521.42 Q1805.55 1521.84 1803.61 1522.72 L1803.61 1505.36 Z\" fill=\"#000000\" fill-rule=\"evenodd\" fill-opacity=\"1\" /><path clip-path=\"url(#clip530)\" d=\"M 0 0 M2270.44 1535.98 L2278.07 1535.98 L2278.07 1509.62 L2269.76 1511.29 L2269.76 1507.03 L2278.03 1505.36 L2282.7 1505.36 L2282.7 1535.98 L2290.34 1535.98 L2290.34 1539.92 L2270.44 1539.92 L2270.44 1535.98 Z\" fill=\"#000000\" fill-rule=\"evenodd\" fill-opacity=\"1\" /><path clip-path=\"url(#clip530)\" d=\"M 0 0 M2295.41 1534.04 L2300.3 1534.04 L2300.3 1539.92 L2295.41 1539.92 L2295.41 1534.04 Z\" fill=\"#000000\" fill-rule=\"evenodd\" fill-opacity=\"1\" /><path clip-path=\"url(#clip530)\" d=\"M 0 0 M2315.37 1508.44 Q2311.75 1508.44 2309.93 1512 Q2308.12 1515.55 2308.12 1522.67 Q2308.12 1529.78 2309.93 1533.35 Q2311.75 1536.89 2315.37 1536.89 Q2319 1536.89 2320.81 1533.35 Q2322.63 1529.78 2322.63 1522.67 Q2322.63 1515.55 2320.81 1512 Q2319 1508.44 2315.37 1508.44 M2315.37 1504.73 Q2321.18 1504.73 2324.23 1509.34 Q2327.31 1513.92 2327.31 1522.67 Q2327.31 1531.4 2324.23 1536.01 Q2321.18 1540.59 2315.37 1540.59 Q2309.56 1540.59 2306.48 1536.01 Q2303.42 1531.4 2303.42 1522.67 Q2303.42 1513.92 2306.48 1509.34 Q2309.56 1504.73 2315.37 1504.73 Z\" fill=\"#000000\" fill-rule=\"evenodd\" fill-opacity=\"1\" /><path clip-path=\"url(#clip530)\" d=\"M 0 0 M2342.38 1508.44 Q2338.77 1508.44 2336.94 1512 Q2335.13 1515.55 2335.13 1522.67 Q2335.13 1529.78 2336.94 1533.35 Q2338.77 1536.89 2342.38 1536.89 Q2346.01 1536.89 2347.82 1533.35 Q2349.65 1529.78 2349.65 1522.67 Q2349.65 1515.55 2347.82 1512 Q2346.01 1508.44 2342.38 1508.44 M2342.38 1504.73 Q2348.19 1504.73 2351.24 1509.34 Q2354.32 1513.92 2354.32 1522.67 Q2354.32 1531.4 2351.24 1536.01 Q2348.19 1540.59 2342.38 1540.59 Q2336.57 1540.59 2333.49 1536.01 Q2330.43 1531.4 2330.43 1522.67 Q2330.43 1513.92 2333.49 1509.34 Q2336.57 1504.73 2342.38 1504.73 Z\" fill=\"#000000\" fill-rule=\"evenodd\" fill-opacity=\"1\" /><path clip-path=\"url(#clip530)\" d=\"M 0 0 M62.9921 1448.11 L75.4689 1448.11 L75.4689 1451.91 L62.9921 1451.91 L62.9921 1448.11 Z\" fill=\"#000000\" fill-rule=\"evenodd\" fill-opacity=\"1\" /><path clip-path=\"url(#clip530)\" d=\"M 0 0 M93.3855 1432.51 L81.58 1450.96 L93.3855 1450.96 L93.3855 1432.51 M92.1586 1428.44 L98.0382 1428.44 L98.0382 1450.96 L102.969 1450.96 L102.969 1454.85 L98.0382 1454.85 L98.0382 1463 L93.3855 1463 L93.3855 1454.85 L77.7837 1454.85 L77.7837 1450.33 L92.1586 1428.44 Z\" fill=\"#000000\" fill-rule=\"evenodd\" fill-opacity=\"1\" /><path clip-path=\"url(#clip530)\" d=\"M 0 0 M65.0754 1108.68 L77.5522 1108.68 L77.5522 1112.47 L65.0754 1112.47 L65.0754 1108.68 Z\" fill=\"#000000\" fill-rule=\"evenodd\" fill-opacity=\"1\" /><path clip-path=\"url(#clip530)\" d=\"M 0 0 M86.6494 1119.63 L102.969 1119.63 L102.969 1123.56 L81.0244 1123.56 L81.0244 1119.63 Q83.6865 1116.87 88.2698 1112.24 Q92.8762 1107.59 94.0568 1106.25 Q96.3021 1103.72 97.1818 1101.99 Q98.0845 1100.23 98.0845 1098.54 Q98.0845 1095.78 96.1401 1094.05 Q94.2188 1092.31 91.117 1092.31 Q88.9179 1092.31 86.4642 1093.07 Q84.0337 1093.84 81.2559 1095.39 L81.2559 1090.67 Q84.08 1089.53 86.5337 1088.95 Q88.9874 1088.38 91.0244 1088.38 Q96.3947 1088.38 99.5892 1091.06 Q102.784 1093.75 102.784 1098.24 Q102.784 1100.37 101.973 1102.29 Q101.186 1104.19 99.0799 1106.78 Q98.5012 1107.45 95.3994 1110.67 Q92.2975 1113.86 86.6494 1119.63 Z\" fill=\"#000000\" fill-rule=\"evenodd\" fill-opacity=\"1\" /><path clip-path=\"url(#clip530)\" d=\"M 0 0 M91.0244 752.645 Q87.4133 752.645 85.5846 756.209 Q83.7791 759.751 83.7791 766.881 Q83.7791 773.987 85.5846 777.552 Q87.4133 781.094 91.0244 781.094 Q94.6586 781.094 96.4642 777.552 Q98.2929 773.987 98.2929 766.881 Q98.2929 759.751 96.4642 756.209 Q94.6586 752.645 91.0244 752.645 M91.0244 748.941 Q96.8345 748.941 99.8901 753.547 Q102.969 758.131 102.969 766.881 Q102.969 775.608 99.8901 780.214 Q96.8345 784.797 91.0244 784.797 Q85.2142 784.797 82.1355 780.214 Q79.08 775.608 79.08 766.881 Q79.08 758.131 82.1355 753.547 Q85.2142 748.941 91.0244 748.941 Z\" fill=\"#000000\" fill-rule=\"evenodd\" fill-opacity=\"1\" /><path clip-path=\"url(#clip530)\" d=\"M 0 0 M86.6494 440.756 L102.969 440.756 L102.969 444.691 L81.0244 444.691 L81.0244 440.756 Q83.6865 438.001 88.2698 433.372 Q92.8762 428.719 94.0568 427.376 Q96.3021 424.853 97.1818 423.117 Q98.0845 421.358 98.0845 419.668 Q98.0845 416.914 96.1401 415.177 Q94.2188 413.441 91.117 413.441 Q88.9179 413.441 86.4642 414.205 Q84.0337 414.969 81.2559 416.52 L81.2559 411.798 Q84.08 410.664 86.5337 410.085 Q88.9874 409.506 91.0244 409.506 Q96.3947 409.506 99.5892 412.191 Q102.784 414.876 102.784 419.367 Q102.784 421.497 101.973 423.418 Q101.186 425.316 99.0799 427.909 Q98.5012 428.58 95.3994 431.798 Q92.2975 434.992 86.6494 440.756 Z\" fill=\"#000000\" fill-rule=\"evenodd\" fill-opacity=\"1\" /><path clip-path=\"url(#clip530)\" d=\"M 0 0 M93.3855 74.7703 L81.58 93.2193 L93.3855 93.2193 L93.3855 74.7703 M92.1586 70.6963 L98.0382 70.6963 L98.0382 93.2193 L102.969 93.2193 L102.969 97.1082 L98.0382 97.1082 L98.0382 105.256 L93.3855 105.256 L93.3855 97.1082 L77.7837 97.1082 L77.7837 92.5943 L92.1586 70.6963 Z\" fill=\"#000000\" fill-rule=\"evenodd\" fill-opacity=\"1\" /><polyline clip-path=\"url(#clip532)\" style=\"stroke:#009af9; stroke-width:4; stroke-opacity:1; fill:none\" points=\"\n",
       "  189.963,936.563 189.963,919.592 189.963,902.62 189.963,885.648 189.963,868.676 189.963,851.705 189.963,834.733 189.963,817.761 189.963,800.789 189.963,783.818 \n",
       "  189.963,766.846 189.963,749.874 189.963,732.902 189.963,715.931 189.963,698.959 189.963,681.987 189.963,665.016 189.963,648.044 189.963,631.072 189.963,614.1 \n",
       "  189.963,597.129 \n",
       "  \"/>\n",
       "<polyline clip-path=\"url(#clip532)\" style=\"stroke:#e26f46; stroke-width:4; stroke-opacity:1; fill:none\" points=\"\n",
       "  720.483,1445.72 804.305,1428.74 886.005,1411.77 965.583,1394.8 1043.04,1377.83 1118.37,1360.86 1191.58,1343.89 1262.67,1326.91 1331.64,1309.94 1398.49,1292.97 \n",
       "  1463.21,1276 1525.81,1259.03 1586.29,1242.05 1644.65,1225.08 1700.88,1208.11 1755,1191.14 1806.99,1174.17 1856.86,1157.2 1904.6,1140.22 1950.23,1123.25 \n",
       "  1993.73,1106.28 2035.11,1089.31 2074.37,1072.34 2111.51,1055.37 2146.52,1038.39 2179.41,1021.42 2210.18,1004.45 2238.83,987.479 2265.36,970.507 2289.76,953.535 \n",
       "  189.963,936.563 210.123,919.592 228.16,902.62 244.076,885.648 257.869,868.676 269.541,851.705 279.09,834.733 286.517,817.761 291.823,800.789 295.006,783.818 \n",
       "  296.067,766.846 295.006,749.874 291.823,732.902 286.517,715.931 279.09,698.959 269.541,681.987 257.869,665.016 244.076,648.044 228.16,631.072 210.123,614.1 \n",
       "  189.963,597.129 2289.76,580.157 2265.36,563.185 2238.83,546.213 2210.18,529.242 2179.41,512.27 2146.52,495.298 2111.51,478.326 2074.37,461.355 2035.11,444.383 \n",
       "  1993.73,427.411 1950.23,410.439 1904.6,393.468 1856.86,376.496 1806.99,359.524 1755,342.552 1700.88,325.581 1644.65,308.609 1586.29,291.637 1525.81,274.665 \n",
       "  1463.21,257.694 1398.49,240.722 1331.64,223.75 1262.67,206.778 1191.58,189.807 1118.37,172.835 1043.04,155.863 965.583,138.892 886.005,121.92 804.305,104.948 \n",
       "  720.483,87.9763 \n",
       "  \"/>\n",
       "<circle clip-path=\"url(#clip532)\" cx=\"189.963\" cy=\"936.563\" r=\"14\" fill=\"#3da44d\" fill-rule=\"evenodd\" fill-opacity=\"1\" stroke=\"#000000\" stroke-opacity=\"1\" stroke-width=\"3.2\"/>\n",
       "<circle clip-path=\"url(#clip532)\" cx=\"189.963\" cy=\"597.129\" r=\"14\" fill=\"#3da44d\" fill-rule=\"evenodd\" fill-opacity=\"1\" stroke=\"#000000\" stroke-opacity=\"1\" stroke-width=\"3.2\"/>\n",
       "<circle clip-path=\"url(#clip532)\" cx=\"294.76\" cy=\"748.013\" r=\"14\" fill=\"#c271d2\" fill-rule=\"evenodd\" fill-opacity=\"1\" stroke=\"#000000\" stroke-opacity=\"1\" stroke-width=\"3.2\"/>\n",
       "<circle clip-path=\"url(#clip532)\" cx=\"189.963\" cy=\"936.563\" r=\"14\" fill=\"#ac8d18\" fill-rule=\"evenodd\" fill-opacity=\"1\" stroke=\"#000000\" stroke-opacity=\"1\" stroke-width=\"3.2\"/>\n",
       "<circle clip-path=\"url(#clip532)\" cx=\"189.963\" cy=\"597.129\" r=\"14\" fill=\"#ac8d18\" fill-rule=\"evenodd\" fill-opacity=\"1\" stroke=\"#000000\" stroke-opacity=\"1\" stroke-width=\"3.2\"/>\n",
       "<circle clip-path=\"url(#clip532)\" cx=\"189.963\" cy=\"756.9\" r=\"14\" fill=\"#00a9ad\" fill-rule=\"evenodd\" fill-opacity=\"1\" stroke=\"#000000\" stroke-opacity=\"1\" stroke-width=\"3.2\"/>\n",
       "<circle clip-path=\"url(#clip532)\" cx=\"1261.61\" cy=\"936.563\" r=\"14\" fill=\"#ed5d92\" fill-rule=\"evenodd\" fill-opacity=\"1\" stroke=\"#000000\" stroke-opacity=\"1\" stroke-width=\"3.2\"/>\n",
       "<circle clip-path=\"url(#clip532)\" cx=\"1240.39\" cy=\"597.129\" r=\"14\" fill=\"#ed5d92\" fill-rule=\"evenodd\" fill-opacity=\"1\" stroke=\"#000000\" stroke-opacity=\"1\" stroke-width=\"3.2\"/>\n",
       "<circle clip-path=\"url(#clip532)\" cx=\"408.867\" cy=\"731.478\" r=\"14\" fill=\"#c68125\" fill-rule=\"evenodd\" fill-opacity=\"1\" stroke=\"#000000\" stroke-opacity=\"1\" stroke-width=\"3.2\"/>\n",
       "<circle clip-path=\"url(#clip532)\" cx=\"189.963\" cy=\"936.563\" r=\"14\" fill=\"#00a98d\" fill-rule=\"evenodd\" fill-opacity=\"1\" stroke=\"#000000\" stroke-opacity=\"1\" stroke-width=\"3.2\"/>\n",
       "<circle clip-path=\"url(#clip532)\" cx=\"189.963\" cy=\"597.129\" r=\"14\" fill=\"#00a98d\" fill-rule=\"evenodd\" fill-opacity=\"1\" stroke=\"#000000\" stroke-opacity=\"1\" stroke-width=\"3.2\"/>\n",
       "<circle clip-path=\"url(#clip532)\" cx=\"189.963\" cy=\"741.039\" r=\"14\" fill=\"#8e971d\" fill-rule=\"evenodd\" fill-opacity=\"1\" stroke=\"#000000\" stroke-opacity=\"1\" stroke-width=\"3.2\"/>\n",
       "</svg>\n"
      ]
     },
     "execution_count": 27,
     "metadata": {},
     "output_type": "execute_result"
    }
   ],
   "source": [
    "listaY2 = [y for y in -1.0:0.1:1.0]\n",
    "listaX2 = zeros(21)\n",
    "plot(listaX2, listaY2, label = \"\")\n",
    "plot!(listaX, listaY, label = \"\", title = \"\")\n",
    "scatter!([cero_1aX,cero_1bX],[cero_1aY,cero_1bY], label = \"\")\n",
    "scatter!([[0,0],[0]],[cero_2aY,cero_2bY], label = \"\")\n",
    "scatter!([cero_3IaX,cero_3IbX],[cero_3IaY,cero_3IbY], label = \"\")\n",
    "scatter!([cero_3IaXC2,cero_3IbXC2],[cero_3IaYC2, cero_3IbYC2], label=\"\")"
   ]
  },
  {
   "cell_type": "markdown",
   "metadata": {},
   "source": [
    "### ⭐ Siguiente iteración."
   ]
  },
  {
   "cell_type": "code",
   "execution_count": 28,
   "metadata": {},
   "outputs": [],
   "source": [
    "NT4 = NT(NT3[1],NT3[2],a,b);"
   ]
  },
  {
   "cell_type": "code",
   "execution_count": 29,
   "metadata": {},
   "outputs": [],
   "source": [
    "condicion1a = x_condicion(0.1)\n",
    "NT4C1 = NT4.subs([(x,condicion1a),(a,0.1),(b,0.1)]);"
   ]
  },
  {
   "cell_type": "code",
   "execution_count": 30,
   "metadata": {},
   "outputs": [
    {
     "name": "stdout",
     "output_type": "stream",
     "text": [
      " 32.984761 seconds (171.15 k allocations: 4.917 MiB)\n",
      " 20.580147 seconds (186.85 k allocations: 5.471 MiB)\n"
     ]
    },
    {
     "data": {
      "text/plain": [
       "1-element Array{Float64,1}:\n",
       " 0.29072354254508564"
      ]
     },
     "execution_count": 30,
     "metadata": {},
     "output_type": "execute_result"
    }
   ],
   "source": [
    "@time cero_4IaY = find_zeros(NT4C1[1],0.0,1.0)\n",
    "@time cero_4IbY = find_zeros(NT4C1[2],0.0,1.0)"
   ]
  },
  {
   "cell_type": "code",
   "execution_count": 31,
   "metadata": {},
   "outputs": [
    {
     "data": {
      "text/plain": [
       "1-element Array{Float64,1}:\n",
       " 0.1439081535598174"
      ]
     },
     "execution_count": 31,
     "metadata": {},
     "output_type": "execute_result"
    }
   ],
   "source": [
    "cero_4IaX = [mod(x_puntoF(0.1,cero_4IaY[i]),1) for i in 1:length(cero_4IaY)]\n",
    "cero_4IbX = [mod(x_puntoF(0.1,cero_4IbY[i]),1) for i in 1:length(cero_4IbY)]"
   ]
  },
  {
   "cell_type": "code",
   "execution_count": 32,
   "metadata": {},
   "outputs": [
    {
     "data": {
      "image/svg+xml": [
       "<?xml version=\"1.0\" encoding=\"utf-8\"?>\n",
       "<svg xmlns=\"http://www.w3.org/2000/svg\" xmlns:xlink=\"http://www.w3.org/1999/xlink\" width=\"600\" height=\"400\" viewBox=\"0 0 2400 1600\">\n",
       "<defs>\n",
       "  <clipPath id=\"clip570\">\n",
       "    <rect x=\"0\" y=\"0\" width=\"2400\" height=\"1600\"/>\n",
       "  </clipPath>\n",
       "</defs>\n",
       "<path clip-path=\"url(#clip570)\" d=\"\n",
       "M0 1600 L2400 1600 L2400 0 L0 0  Z\n",
       "  \" fill=\"#ffffff\" fill-rule=\"evenodd\" fill-opacity=\"1\"/>\n",
       "<defs>\n",
       "  <clipPath id=\"clip571\">\n",
       "    <rect x=\"480\" y=\"0\" width=\"1681\" height=\"1600\"/>\n",
       "  </clipPath>\n",
       "</defs>\n",
       "<path clip-path=\"url(#clip570)\" d=\"\n",
       "M126.969 1486.45 L2352.76 1486.45 L2352.76 47.2441 L126.969 47.2441  Z\n",
       "  \" fill=\"#ffffff\" fill-rule=\"evenodd\" fill-opacity=\"1\"/>\n",
       "<defs>\n",
       "  <clipPath id=\"clip572\">\n",
       "    <rect x=\"126\" y=\"47\" width=\"2227\" height=\"1440\"/>\n",
       "  </clipPath>\n",
       "</defs>\n",
       "<polyline clip-path=\"url(#clip572)\" style=\"stroke:#000000; stroke-width:2; stroke-opacity:0.1; fill:none\" points=\"\n",
       "  189.963,1486.45 189.963,47.2441 \n",
       "  \"/>\n",
       "<polyline clip-path=\"url(#clip572)\" style=\"stroke:#000000; stroke-width:2; stroke-opacity:0.1; fill:none\" points=\"\n",
       "  720.483,1486.45 720.483,47.2441 \n",
       "  \"/>\n",
       "<polyline clip-path=\"url(#clip572)\" style=\"stroke:#000000; stroke-width:2; stroke-opacity:0.1; fill:none\" points=\"\n",
       "  1251,1486.45 1251,47.2441 \n",
       "  \"/>\n",
       "<polyline clip-path=\"url(#clip572)\" style=\"stroke:#000000; stroke-width:2; stroke-opacity:0.1; fill:none\" points=\"\n",
       "  1781.52,1486.45 1781.52,47.2441 \n",
       "  \"/>\n",
       "<polyline clip-path=\"url(#clip572)\" style=\"stroke:#000000; stroke-width:2; stroke-opacity:0.1; fill:none\" points=\"\n",
       "  2312.04,1486.45 2312.04,47.2441 \n",
       "  \"/>\n",
       "<polyline clip-path=\"url(#clip572)\" style=\"stroke:#000000; stroke-width:2; stroke-opacity:0.1; fill:none\" points=\"\n",
       "  126.969,1445.72 2352.76,1445.72 \n",
       "  \"/>\n",
       "<polyline clip-path=\"url(#clip572)\" style=\"stroke:#000000; stroke-width:2; stroke-opacity:0.1; fill:none\" points=\"\n",
       "  126.969,1106.28 2352.76,1106.28 \n",
       "  \"/>\n",
       "<polyline clip-path=\"url(#clip572)\" style=\"stroke:#000000; stroke-width:2; stroke-opacity:0.1; fill:none\" points=\"\n",
       "  126.969,766.846 2352.76,766.846 \n",
       "  \"/>\n",
       "<polyline clip-path=\"url(#clip572)\" style=\"stroke:#000000; stroke-width:2; stroke-opacity:0.1; fill:none\" points=\"\n",
       "  126.969,427.411 2352.76,427.411 \n",
       "  \"/>\n",
       "<polyline clip-path=\"url(#clip572)\" style=\"stroke:#000000; stroke-width:2; stroke-opacity:0.1; fill:none\" points=\"\n",
       "  126.969,87.9763 2352.76,87.9763 \n",
       "  \"/>\n",
       "<polyline clip-path=\"url(#clip570)\" style=\"stroke:#000000; stroke-width:4; stroke-opacity:1; fill:none\" points=\"\n",
       "  126.969,1486.45 2352.76,1486.45 \n",
       "  \"/>\n",
       "<polyline clip-path=\"url(#clip570)\" style=\"stroke:#000000; stroke-width:4; stroke-opacity:1; fill:none\" points=\"\n",
       "  126.969,1486.45 126.969,47.2441 \n",
       "  \"/>\n",
       "<polyline clip-path=\"url(#clip570)\" style=\"stroke:#000000; stroke-width:4; stroke-opacity:1; fill:none\" points=\"\n",
       "  189.963,1486.45 189.963,1469.18 \n",
       "  \"/>\n",
       "<polyline clip-path=\"url(#clip570)\" style=\"stroke:#000000; stroke-width:4; stroke-opacity:1; fill:none\" points=\"\n",
       "  720.483,1486.45 720.483,1469.18 \n",
       "  \"/>\n",
       "<polyline clip-path=\"url(#clip570)\" style=\"stroke:#000000; stroke-width:4; stroke-opacity:1; fill:none\" points=\"\n",
       "  1251,1486.45 1251,1469.18 \n",
       "  \"/>\n",
       "<polyline clip-path=\"url(#clip570)\" style=\"stroke:#000000; stroke-width:4; stroke-opacity:1; fill:none\" points=\"\n",
       "  1781.52,1486.45 1781.52,1469.18 \n",
       "  \"/>\n",
       "<polyline clip-path=\"url(#clip570)\" style=\"stroke:#000000; stroke-width:4; stroke-opacity:1; fill:none\" points=\"\n",
       "  2312.04,1486.45 2312.04,1469.18 \n",
       "  \"/>\n",
       "<polyline clip-path=\"url(#clip570)\" style=\"stroke:#000000; stroke-width:4; stroke-opacity:1; fill:none\" points=\"\n",
       "  126.969,1445.72 153.678,1445.72 \n",
       "  \"/>\n",
       "<polyline clip-path=\"url(#clip570)\" style=\"stroke:#000000; stroke-width:4; stroke-opacity:1; fill:none\" points=\"\n",
       "  126.969,1106.28 153.678,1106.28 \n",
       "  \"/>\n",
       "<polyline clip-path=\"url(#clip570)\" style=\"stroke:#000000; stroke-width:4; stroke-opacity:1; fill:none\" points=\"\n",
       "  126.969,766.846 153.678,766.846 \n",
       "  \"/>\n",
       "<polyline clip-path=\"url(#clip570)\" style=\"stroke:#000000; stroke-width:4; stroke-opacity:1; fill:none\" points=\"\n",
       "  126.969,427.411 153.678,427.411 \n",
       "  \"/>\n",
       "<polyline clip-path=\"url(#clip570)\" style=\"stroke:#000000; stroke-width:4; stroke-opacity:1; fill:none\" points=\"\n",
       "  126.969,87.9763 153.678,87.9763 \n",
       "  \"/>\n",
       "<path clip-path=\"url(#clip570)\" d=\"M 0 0 M157.972 1508.44 Q154.361 1508.44 152.532 1512 Q150.727 1515.55 150.727 1522.67 Q150.727 1529.78 152.532 1533.35 Q154.361 1536.89 157.972 1536.89 Q161.606 1536.89 163.412 1533.35 Q165.241 1529.78 165.241 1522.67 Q165.241 1515.55 163.412 1512 Q161.606 1508.44 157.972 1508.44 M157.972 1504.73 Q163.782 1504.73 166.838 1509.34 Q169.917 1513.92 169.917 1522.67 Q169.917 1531.4 166.838 1536.01 Q163.782 1540.59 157.972 1540.59 Q152.162 1540.59 149.083 1536.01 Q146.028 1531.4 146.028 1522.67 Q146.028 1513.92 149.083 1509.34 Q152.162 1504.73 157.972 1504.73 Z\" fill=\"#000000\" fill-rule=\"evenodd\" fill-opacity=\"1\" /><path clip-path=\"url(#clip570)\" d=\"M 0 0 M174.986 1534.04 L179.87 1534.04 L179.87 1539.92 L174.986 1539.92 L174.986 1534.04 Z\" fill=\"#000000\" fill-rule=\"evenodd\" fill-opacity=\"1\" /><path clip-path=\"url(#clip570)\" d=\"M 0 0 M194.94 1508.44 Q191.328 1508.44 189.5 1512 Q187.694 1515.55 187.694 1522.67 Q187.694 1529.78 189.5 1533.35 Q191.328 1536.89 194.94 1536.89 Q198.574 1536.89 200.379 1533.35 Q202.208 1529.78 202.208 1522.67 Q202.208 1515.55 200.379 1512 Q198.574 1508.44 194.94 1508.44 M194.94 1504.73 Q200.75 1504.73 203.805 1509.34 Q206.884 1513.92 206.884 1522.67 Q206.884 1531.4 203.805 1536.01 Q200.75 1540.59 194.94 1540.59 Q189.129 1540.59 186.051 1536.01 Q182.995 1531.4 182.995 1522.67 Q182.995 1513.92 186.051 1509.34 Q189.129 1504.73 194.94 1504.73 Z\" fill=\"#000000\" fill-rule=\"evenodd\" fill-opacity=\"1\" /><path clip-path=\"url(#clip570)\" d=\"M 0 0 M221.953 1508.44 Q218.342 1508.44 216.514 1512 Q214.708 1515.55 214.708 1522.67 Q214.708 1529.78 216.514 1533.35 Q218.342 1536.89 221.953 1536.89 Q225.588 1536.89 227.393 1533.35 Q229.222 1529.78 229.222 1522.67 Q229.222 1515.55 227.393 1512 Q225.588 1508.44 221.953 1508.44 M221.953 1504.73 Q227.763 1504.73 230.819 1509.34 Q233.898 1513.92 233.898 1522.67 Q233.898 1531.4 230.819 1536.01 Q227.763 1540.59 221.953 1540.59 Q216.143 1540.59 213.064 1536.01 Q210.009 1531.4 210.009 1522.67 Q210.009 1513.92 213.064 1509.34 Q216.143 1504.73 221.953 1504.73 Z\" fill=\"#000000\" fill-rule=\"evenodd\" fill-opacity=\"1\" /><path clip-path=\"url(#clip570)\" d=\"M 0 0 M689.789 1508.44 Q686.178 1508.44 684.349 1512 Q682.543 1515.55 682.543 1522.67 Q682.543 1529.78 684.349 1533.35 Q686.178 1536.89 689.789 1536.89 Q693.423 1536.89 695.229 1533.35 Q697.057 1529.78 697.057 1522.67 Q697.057 1515.55 695.229 1512 Q693.423 1508.44 689.789 1508.44 M689.789 1504.73 Q695.599 1504.73 698.654 1509.34 Q701.733 1513.92 701.733 1522.67 Q701.733 1531.4 698.654 1536.01 Q695.599 1540.59 689.789 1540.59 Q683.979 1540.59 680.9 1536.01 Q677.844 1531.4 677.844 1522.67 Q677.844 1513.92 680.9 1509.34 Q683.979 1504.73 689.789 1504.73 Z\" fill=\"#000000\" fill-rule=\"evenodd\" fill-opacity=\"1\" /><path clip-path=\"url(#clip570)\" d=\"M 0 0 M706.803 1534.04 L711.687 1534.04 L711.687 1539.92 L706.803 1539.92 L706.803 1534.04 Z\" fill=\"#000000\" fill-rule=\"evenodd\" fill-opacity=\"1\" /><path clip-path=\"url(#clip570)\" d=\"M 0 0 M720.784 1535.98 L737.103 1535.98 L737.103 1539.92 L715.159 1539.92 L715.159 1535.98 Q717.821 1533.23 722.404 1528.6 Q727.011 1523.95 728.191 1522.61 Q730.437 1520.08 731.316 1518.35 Q732.219 1516.59 732.219 1514.9 Q732.219 1512.14 730.275 1510.41 Q728.353 1508.67 725.251 1508.67 Q723.052 1508.67 720.599 1509.43 Q718.168 1510.2 715.39 1511.75 L715.39 1507.03 Q718.214 1505.89 720.668 1505.31 Q723.122 1504.73 725.159 1504.73 Q730.529 1504.73 733.724 1507.42 Q736.918 1510.11 736.918 1514.6 Q736.918 1516.73 736.108 1518.65 Q735.321 1520.54 733.214 1523.14 Q732.636 1523.81 729.534 1527.03 Q726.432 1530.22 720.784 1535.98 Z\" fill=\"#000000\" fill-rule=\"evenodd\" fill-opacity=\"1\" /><path clip-path=\"url(#clip570)\" d=\"M 0 0 M742.219 1505.36 L760.575 1505.36 L760.575 1509.3 L746.501 1509.3 L746.501 1517.77 Q747.52 1517.42 748.538 1517.26 Q749.557 1517.07 750.575 1517.07 Q756.362 1517.07 759.742 1520.24 Q763.122 1523.42 763.122 1528.83 Q763.122 1534.41 759.649 1537.51 Q756.177 1540.59 749.858 1540.59 Q747.682 1540.59 745.413 1540.22 Q743.168 1539.85 740.761 1539.11 L740.761 1534.41 Q742.844 1535.54 745.066 1536.1 Q747.288 1536.66 749.765 1536.66 Q753.77 1536.66 756.108 1534.55 Q758.446 1532.44 758.446 1528.83 Q758.446 1525.22 756.108 1523.11 Q753.77 1521.01 749.765 1521.01 Q747.89 1521.01 746.015 1521.42 Q744.163 1521.84 742.219 1522.72 L742.219 1505.36 Z\" fill=\"#000000\" fill-rule=\"evenodd\" fill-opacity=\"1\" /><path clip-path=\"url(#clip570)\" d=\"M 0 0 M1219.51 1508.44 Q1215.9 1508.44 1214.07 1512 Q1212.27 1515.55 1212.27 1522.67 Q1212.27 1529.78 1214.07 1533.35 Q1215.9 1536.89 1219.51 1536.89 Q1223.14 1536.89 1224.95 1533.35 Q1226.78 1529.78 1226.78 1522.67 Q1226.78 1515.55 1224.95 1512 Q1223.14 1508.44 1219.51 1508.44 M1219.51 1504.73 Q1225.32 1504.73 1228.38 1509.34 Q1231.45 1513.92 1231.45 1522.67 Q1231.45 1531.4 1228.38 1536.01 Q1225.32 1540.59 1219.51 1540.59 Q1213.7 1540.59 1210.62 1536.01 Q1207.57 1531.4 1207.57 1522.67 Q1207.57 1513.92 1210.62 1509.34 Q1213.7 1504.73 1219.51 1504.73 Z\" fill=\"#000000\" fill-rule=\"evenodd\" fill-opacity=\"1\" /><path clip-path=\"url(#clip570)\" d=\"M 0 0 M1236.52 1534.04 L1241.41 1534.04 L1241.41 1539.92 L1236.52 1539.92 L1236.52 1534.04 Z\" fill=\"#000000\" fill-rule=\"evenodd\" fill-opacity=\"1\" /><path clip-path=\"url(#clip570)\" d=\"M 0 0 M1246.52 1505.36 L1264.88 1505.36 L1264.88 1509.3 L1250.81 1509.3 L1250.81 1517.77 Q1251.83 1517.42 1252.84 1517.26 Q1253.86 1517.07 1254.88 1517.07 Q1260.67 1517.07 1264.05 1520.24 Q1267.43 1523.42 1267.43 1528.83 Q1267.43 1534.41 1263.95 1537.51 Q1260.48 1540.59 1254.16 1540.59 Q1251.99 1540.59 1249.72 1540.22 Q1247.47 1539.85 1245.07 1539.11 L1245.07 1534.41 Q1247.15 1535.54 1249.37 1536.1 Q1251.59 1536.66 1254.07 1536.66 Q1258.07 1536.66 1260.41 1534.55 Q1262.75 1532.44 1262.75 1528.83 Q1262.75 1525.22 1260.41 1523.11 Q1258.07 1521.01 1254.07 1521.01 Q1252.2 1521.01 1250.32 1521.42 Q1248.47 1521.84 1246.52 1522.72 L1246.52 1505.36 Z\" fill=\"#000000\" fill-rule=\"evenodd\" fill-opacity=\"1\" /><path clip-path=\"url(#clip570)\" d=\"M 0 0 M1282.5 1508.44 Q1278.89 1508.44 1277.06 1512 Q1275.25 1515.55 1275.25 1522.67 Q1275.25 1529.78 1277.06 1533.35 Q1278.89 1536.89 1282.5 1536.89 Q1286.13 1536.89 1287.94 1533.35 Q1289.76 1529.78 1289.76 1522.67 Q1289.76 1515.55 1287.94 1512 Q1286.13 1508.44 1282.5 1508.44 M1282.5 1504.73 Q1288.31 1504.73 1291.36 1509.34 Q1294.44 1513.92 1294.44 1522.67 Q1294.44 1531.4 1291.36 1536.01 Q1288.31 1540.59 1282.5 1540.59 Q1276.69 1540.59 1273.61 1536.01 Q1270.55 1531.4 1270.55 1522.67 Q1270.55 1513.92 1273.61 1509.34 Q1276.69 1504.73 1282.5 1504.73 Z\" fill=\"#000000\" fill-rule=\"evenodd\" fill-opacity=\"1\" /><path clip-path=\"url(#clip570)\" d=\"M 0 0 M1750.48 1508.44 Q1746.87 1508.44 1745.04 1512 Q1743.24 1515.55 1743.24 1522.67 Q1743.24 1529.78 1745.04 1533.35 Q1746.87 1536.89 1750.48 1536.89 Q1754.12 1536.89 1755.92 1533.35 Q1757.75 1529.78 1757.75 1522.67 Q1757.75 1515.55 1755.92 1512 Q1754.12 1508.44 1750.48 1508.44 M1750.48 1504.73 Q1756.29 1504.73 1759.35 1509.34 Q1762.43 1513.92 1762.43 1522.67 Q1762.43 1531.4 1759.35 1536.01 Q1756.29 1540.59 1750.48 1540.59 Q1744.67 1540.59 1741.59 1536.01 Q1738.54 1531.4 1738.54 1522.67 Q1738.54 1513.92 1741.59 1509.34 Q1744.67 1504.73 1750.48 1504.73 Z\" fill=\"#000000\" fill-rule=\"evenodd\" fill-opacity=\"1\" /><path clip-path=\"url(#clip570)\" d=\"M 0 0 M1767.5 1534.04 L1772.38 1534.04 L1772.38 1539.92 L1767.5 1539.92 L1767.5 1534.04 Z\" fill=\"#000000\" fill-rule=\"evenodd\" fill-opacity=\"1\" /><path clip-path=\"url(#clip570)\" d=\"M 0 0 M1776.27 1505.36 L1798.49 1505.36 L1798.49 1507.35 L1785.94 1539.92 L1781.06 1539.92 L1792.87 1509.3 L1776.27 1509.3 L1776.27 1505.36 Z\" fill=\"#000000\" fill-rule=\"evenodd\" fill-opacity=\"1\" /><path clip-path=\"url(#clip570)\" d=\"M 0 0 M1803.61 1505.36 L1821.96 1505.36 L1821.96 1509.3 L1807.89 1509.3 L1807.89 1517.77 Q1808.91 1517.42 1809.93 1517.26 Q1810.94 1517.07 1811.96 1517.07 Q1817.75 1517.07 1821.13 1520.24 Q1824.51 1523.42 1824.51 1528.83 Q1824.51 1534.41 1821.04 1537.51 Q1817.56 1540.59 1811.25 1540.59 Q1809.07 1540.59 1806.8 1540.22 Q1804.56 1539.85 1802.15 1539.11 L1802.15 1534.41 Q1804.23 1535.54 1806.45 1536.1 Q1808.68 1536.66 1811.15 1536.66 Q1815.16 1536.66 1817.5 1534.55 Q1819.83 1532.44 1819.83 1528.83 Q1819.83 1525.22 1817.5 1523.11 Q1815.16 1521.01 1811.15 1521.01 Q1809.28 1521.01 1807.4 1521.42 Q1805.55 1521.84 1803.61 1522.72 L1803.61 1505.36 Z\" fill=\"#000000\" fill-rule=\"evenodd\" fill-opacity=\"1\" /><path clip-path=\"url(#clip570)\" d=\"M 0 0 M2270.44 1535.98 L2278.07 1535.98 L2278.07 1509.62 L2269.76 1511.29 L2269.76 1507.03 L2278.03 1505.36 L2282.7 1505.36 L2282.7 1535.98 L2290.34 1535.98 L2290.34 1539.92 L2270.44 1539.92 L2270.44 1535.98 Z\" fill=\"#000000\" fill-rule=\"evenodd\" fill-opacity=\"1\" /><path clip-path=\"url(#clip570)\" d=\"M 0 0 M2295.41 1534.04 L2300.3 1534.04 L2300.3 1539.92 L2295.41 1539.92 L2295.41 1534.04 Z\" fill=\"#000000\" fill-rule=\"evenodd\" fill-opacity=\"1\" /><path clip-path=\"url(#clip570)\" d=\"M 0 0 M2315.37 1508.44 Q2311.75 1508.44 2309.93 1512 Q2308.12 1515.55 2308.12 1522.67 Q2308.12 1529.78 2309.93 1533.35 Q2311.75 1536.89 2315.37 1536.89 Q2319 1536.89 2320.81 1533.35 Q2322.63 1529.78 2322.63 1522.67 Q2322.63 1515.55 2320.81 1512 Q2319 1508.44 2315.37 1508.44 M2315.37 1504.73 Q2321.18 1504.73 2324.23 1509.34 Q2327.31 1513.92 2327.31 1522.67 Q2327.31 1531.4 2324.23 1536.01 Q2321.18 1540.59 2315.37 1540.59 Q2309.56 1540.59 2306.48 1536.01 Q2303.42 1531.4 2303.42 1522.67 Q2303.42 1513.92 2306.48 1509.34 Q2309.56 1504.73 2315.37 1504.73 Z\" fill=\"#000000\" fill-rule=\"evenodd\" fill-opacity=\"1\" /><path clip-path=\"url(#clip570)\" d=\"M 0 0 M2342.38 1508.44 Q2338.77 1508.44 2336.94 1512 Q2335.13 1515.55 2335.13 1522.67 Q2335.13 1529.78 2336.94 1533.35 Q2338.77 1536.89 2342.38 1536.89 Q2346.01 1536.89 2347.82 1533.35 Q2349.65 1529.78 2349.65 1522.67 Q2349.65 1515.55 2347.82 1512 Q2346.01 1508.44 2342.38 1508.44 M2342.38 1504.73 Q2348.19 1504.73 2351.24 1509.34 Q2354.32 1513.92 2354.32 1522.67 Q2354.32 1531.4 2351.24 1536.01 Q2348.19 1540.59 2342.38 1540.59 Q2336.57 1540.59 2333.49 1536.01 Q2330.43 1531.4 2330.43 1522.67 Q2330.43 1513.92 2333.49 1509.34 Q2336.57 1504.73 2342.38 1504.73 Z\" fill=\"#000000\" fill-rule=\"evenodd\" fill-opacity=\"1\" /><path clip-path=\"url(#clip570)\" d=\"M 0 0 M62.9921 1448.11 L75.4689 1448.11 L75.4689 1451.91 L62.9921 1451.91 L62.9921 1448.11 Z\" fill=\"#000000\" fill-rule=\"evenodd\" fill-opacity=\"1\" /><path clip-path=\"url(#clip570)\" d=\"M 0 0 M93.3855 1432.51 L81.58 1450.96 L93.3855 1450.96 L93.3855 1432.51 M92.1586 1428.44 L98.0382 1428.44 L98.0382 1450.96 L102.969 1450.96 L102.969 1454.85 L98.0382 1454.85 L98.0382 1463 L93.3855 1463 L93.3855 1454.85 L77.7837 1454.85 L77.7837 1450.33 L92.1586 1428.44 Z\" fill=\"#000000\" fill-rule=\"evenodd\" fill-opacity=\"1\" /><path clip-path=\"url(#clip570)\" d=\"M 0 0 M65.0754 1108.68 L77.5522 1108.68 L77.5522 1112.47 L65.0754 1112.47 L65.0754 1108.68 Z\" fill=\"#000000\" fill-rule=\"evenodd\" fill-opacity=\"1\" /><path clip-path=\"url(#clip570)\" d=\"M 0 0 M86.6494 1119.63 L102.969 1119.63 L102.969 1123.56 L81.0244 1123.56 L81.0244 1119.63 Q83.6865 1116.87 88.2698 1112.24 Q92.8762 1107.59 94.0568 1106.25 Q96.3021 1103.72 97.1818 1101.99 Q98.0845 1100.23 98.0845 1098.54 Q98.0845 1095.78 96.1401 1094.05 Q94.2188 1092.31 91.117 1092.31 Q88.9179 1092.31 86.4642 1093.07 Q84.0337 1093.84 81.2559 1095.39 L81.2559 1090.67 Q84.08 1089.53 86.5337 1088.95 Q88.9874 1088.38 91.0244 1088.38 Q96.3947 1088.38 99.5892 1091.06 Q102.784 1093.75 102.784 1098.24 Q102.784 1100.37 101.973 1102.29 Q101.186 1104.19 99.0799 1106.78 Q98.5012 1107.45 95.3994 1110.67 Q92.2975 1113.86 86.6494 1119.63 Z\" fill=\"#000000\" fill-rule=\"evenodd\" fill-opacity=\"1\" /><path clip-path=\"url(#clip570)\" d=\"M 0 0 M91.0244 752.645 Q87.4133 752.645 85.5846 756.209 Q83.7791 759.751 83.7791 766.881 Q83.7791 773.987 85.5846 777.552 Q87.4133 781.094 91.0244 781.094 Q94.6586 781.094 96.4642 777.552 Q98.2929 773.987 98.2929 766.881 Q98.2929 759.751 96.4642 756.209 Q94.6586 752.645 91.0244 752.645 M91.0244 748.941 Q96.8345 748.941 99.8901 753.547 Q102.969 758.131 102.969 766.881 Q102.969 775.608 99.8901 780.214 Q96.8345 784.797 91.0244 784.797 Q85.2142 784.797 82.1355 780.214 Q79.08 775.608 79.08 766.881 Q79.08 758.131 82.1355 753.547 Q85.2142 748.941 91.0244 748.941 Z\" fill=\"#000000\" fill-rule=\"evenodd\" fill-opacity=\"1\" /><path clip-path=\"url(#clip570)\" d=\"M 0 0 M86.6494 440.756 L102.969 440.756 L102.969 444.691 L81.0244 444.691 L81.0244 440.756 Q83.6865 438.001 88.2698 433.372 Q92.8762 428.719 94.0568 427.376 Q96.3021 424.853 97.1818 423.117 Q98.0845 421.358 98.0845 419.668 Q98.0845 416.914 96.1401 415.177 Q94.2188 413.441 91.117 413.441 Q88.9179 413.441 86.4642 414.205 Q84.0337 414.969 81.2559 416.52 L81.2559 411.798 Q84.08 410.664 86.5337 410.085 Q88.9874 409.506 91.0244 409.506 Q96.3947 409.506 99.5892 412.191 Q102.784 414.876 102.784 419.367 Q102.784 421.497 101.973 423.418 Q101.186 425.316 99.0799 427.909 Q98.5012 428.58 95.3994 431.798 Q92.2975 434.992 86.6494 440.756 Z\" fill=\"#000000\" fill-rule=\"evenodd\" fill-opacity=\"1\" /><path clip-path=\"url(#clip570)\" d=\"M 0 0 M93.3855 74.7703 L81.58 93.2193 L93.3855 93.2193 L93.3855 74.7703 M92.1586 70.6963 L98.0382 70.6963 L98.0382 93.2193 L102.969 93.2193 L102.969 97.1082 L98.0382 97.1082 L98.0382 105.256 L93.3855 105.256 L93.3855 97.1082 L77.7837 97.1082 L77.7837 92.5943 L92.1586 70.6963 Z\" fill=\"#000000\" fill-rule=\"evenodd\" fill-opacity=\"1\" /><polyline clip-path=\"url(#clip572)\" style=\"stroke:#009af9; stroke-width:4; stroke-opacity:1; fill:none\" points=\"\n",
       "  189.963,936.563 189.963,919.592 189.963,902.62 189.963,885.648 189.963,868.676 189.963,851.705 189.963,834.733 189.963,817.761 189.963,800.789 189.963,783.818 \n",
       "  189.963,766.846 189.963,749.874 189.963,732.902 189.963,715.931 189.963,698.959 189.963,681.987 189.963,665.016 189.963,648.044 189.963,631.072 189.963,614.1 \n",
       "  189.963,597.129 \n",
       "  \"/>\n",
       "<polyline clip-path=\"url(#clip572)\" style=\"stroke:#e26f46; stroke-width:4; stroke-opacity:1; fill:none\" points=\"\n",
       "  720.483,1445.72 804.305,1428.74 886.005,1411.77 965.583,1394.8 1043.04,1377.83 1118.37,1360.86 1191.58,1343.89 1262.67,1326.91 1331.64,1309.94 1398.49,1292.97 \n",
       "  1463.21,1276 1525.81,1259.03 1586.29,1242.05 1644.65,1225.08 1700.88,1208.11 1755,1191.14 1806.99,1174.17 1856.86,1157.2 1904.6,1140.22 1950.23,1123.25 \n",
       "  1993.73,1106.28 2035.11,1089.31 2074.37,1072.34 2111.51,1055.37 2146.52,1038.39 2179.41,1021.42 2210.18,1004.45 2238.83,987.479 2265.36,970.507 2289.76,953.535 \n",
       "  189.963,936.563 210.123,919.592 228.16,902.62 244.076,885.648 257.869,868.676 269.541,851.705 279.09,834.733 286.517,817.761 291.823,800.789 295.006,783.818 \n",
       "  296.067,766.846 295.006,749.874 291.823,732.902 286.517,715.931 279.09,698.959 269.541,681.987 257.869,665.016 244.076,648.044 228.16,631.072 210.123,614.1 \n",
       "  189.963,597.129 2289.76,580.157 2265.36,563.185 2238.83,546.213 2210.18,529.242 2179.41,512.27 2146.52,495.298 2111.51,478.326 2074.37,461.355 2035.11,444.383 \n",
       "  1993.73,427.411 1950.23,410.439 1904.6,393.468 1856.86,376.496 1806.99,359.524 1755,342.552 1700.88,325.581 1644.65,308.609 1586.29,291.637 1525.81,274.665 \n",
       "  1463.21,257.694 1398.49,240.722 1331.64,223.75 1262.67,206.778 1191.58,189.807 1118.37,172.835 1043.04,155.863 965.583,138.892 886.005,121.92 804.305,104.948 \n",
       "  720.483,87.9763 \n",
       "  \"/>\n",
       "<circle clip-path=\"url(#clip572)\" cx=\"189.963\" cy=\"936.563\" r=\"14\" fill=\"#3da44d\" fill-rule=\"evenodd\" fill-opacity=\"1\" stroke=\"#000000\" stroke-opacity=\"1\" stroke-width=\"3.2\"/>\n",
       "<circle clip-path=\"url(#clip572)\" cx=\"189.963\" cy=\"597.129\" r=\"14\" fill=\"#3da44d\" fill-rule=\"evenodd\" fill-opacity=\"1\" stroke=\"#000000\" stroke-opacity=\"1\" stroke-width=\"3.2\"/>\n",
       "<circle clip-path=\"url(#clip572)\" cx=\"294.76\" cy=\"748.013\" r=\"14\" fill=\"#c271d2\" fill-rule=\"evenodd\" fill-opacity=\"1\" stroke=\"#000000\" stroke-opacity=\"1\" stroke-width=\"3.2\"/>\n",
       "<circle clip-path=\"url(#clip572)\" cx=\"189.963\" cy=\"936.563\" r=\"14\" fill=\"#ac8d18\" fill-rule=\"evenodd\" fill-opacity=\"1\" stroke=\"#000000\" stroke-opacity=\"1\" stroke-width=\"3.2\"/>\n",
       "<circle clip-path=\"url(#clip572)\" cx=\"189.963\" cy=\"597.129\" r=\"14\" fill=\"#ac8d18\" fill-rule=\"evenodd\" fill-opacity=\"1\" stroke=\"#000000\" stroke-opacity=\"1\" stroke-width=\"3.2\"/>\n",
       "<circle clip-path=\"url(#clip572)\" cx=\"189.963\" cy=\"756.9\" r=\"14\" fill=\"#00a9ad\" fill-rule=\"evenodd\" fill-opacity=\"1\" stroke=\"#000000\" stroke-opacity=\"1\" stroke-width=\"3.2\"/>\n",
       "<circle clip-path=\"url(#clip572)\" cx=\"1261.61\" cy=\"936.563\" r=\"14\" fill=\"#ed5d92\" fill-rule=\"evenodd\" fill-opacity=\"1\" stroke=\"#000000\" stroke-opacity=\"1\" stroke-width=\"3.2\"/>\n",
       "<circle clip-path=\"url(#clip572)\" cx=\"1240.39\" cy=\"597.129\" r=\"14\" fill=\"#ed5d92\" fill-rule=\"evenodd\" fill-opacity=\"1\" stroke=\"#000000\" stroke-opacity=\"1\" stroke-width=\"3.2\"/>\n",
       "<circle clip-path=\"url(#clip572)\" cx=\"408.867\" cy=\"731.478\" r=\"14\" fill=\"#c68125\" fill-rule=\"evenodd\" fill-opacity=\"1\" stroke=\"#000000\" stroke-opacity=\"1\" stroke-width=\"3.2\"/>\n",
       "<circle clip-path=\"url(#clip572)\" cx=\"1240.39\" cy=\"597.129\" r=\"14\" fill=\"#00a98d\" fill-rule=\"evenodd\" fill-opacity=\"1\" stroke=\"#000000\" stroke-opacity=\"1\" stroke-width=\"3.2\"/>\n",
       "<circle clip-path=\"url(#clip572)\" cx=\"495.348\" cy=\"717.505\" r=\"14\" fill=\"#8e971d\" fill-rule=\"evenodd\" fill-opacity=\"1\" stroke=\"#000000\" stroke-opacity=\"1\" stroke-width=\"3.2\"/>\n",
       "</svg>\n"
      ]
     },
     "execution_count": 32,
     "metadata": {},
     "output_type": "execute_result"
    }
   ],
   "source": [
    "listaY2 = [y for y in -1.0:0.1:1.0]\n",
    "listaX2 = zeros(21)\n",
    "plot(listaX2, listaY2, label = \"\")\n",
    "plot!(listaX, listaY, label = \"\", title = \"\")\n",
    "scatter!([cero_1aX,cero_1bX],[cero_1aY,cero_1bY], label = \"\")\n",
    "scatter!([[0,0],[0]],[cero_2aY,cero_2bY], label = \"\")\n",
    "scatter!([cero_3IaX,cero_3IbX],[cero_3IaY,cero_3IbY], label = \"\")\n",
    "scatter!([cero_4IaX,cero_4IbX],[cero_4IaY,cero_4IbY], label = \"\")"
   ]
  },
  {
   "cell_type": "markdown",
   "metadata": {},
   "source": [
    "### ⭐ Siguiente iteración."
   ]
  },
  {
   "cell_type": "code",
   "execution_count": 40,
   "metadata": {},
   "outputs": [],
   "source": [
    "NT5 = NT(NT4[1],NT4[2],a,b);"
   ]
  },
  {
   "cell_type": "code",
   "execution_count": 34,
   "metadata": {},
   "outputs": [
    {
     "data": {
      "text/latex": [
       "\\begin{equation*}0.05 - 0.05 y^{2}\\end{equation*}"
      ],
      "text/plain": [
       "             2\n",
       "0.05 - 0.05⋅y "
      ]
     },
     "execution_count": 34,
     "metadata": {},
     "output_type": "execute_result"
    }
   ],
   "source": [
    "condicion1a = x_condicion(0.1)"
   ]
  },
  {
   "cell_type": "code",
   "execution_count": 35,
   "metadata": {},
   "outputs": [],
   "source": [
    "NT5C1 = NT5.subs([(x,condicion1a),(a,0.1),(b,0.1)])"
   ]
  },
  {
   "cell_type": "code",
   "execution_count": 36,
   "metadata": {},
   "outputs": [
    {
     "name": "stdout",
     "output_type": "stream",
     "text": [
      " 38.854216 seconds (171.14 k allocations: 4.917 MiB)\n",
      " 34.467528 seconds (207.74 k allocations: 6.053 MiB)\n"
     ]
    },
    {
     "data": {
      "text/plain": [
       "1-element Array{Float64,1}:\n",
       " 0.3338618280315592"
      ]
     },
     "execution_count": 36,
     "metadata": {},
     "output_type": "execute_result"
    }
   ],
   "source": [
    "@time cero_5IaY = find_zeros(NT5C1[1],0.0,1.0)\n",
    "@time cero_5IbY = find_zeros(NT5C1[2],0.0,1.0)"
   ]
  },
  {
   "cell_type": "code",
   "execution_count": 37,
   "metadata": {},
   "outputs": [
    {
     "data": {
      "text/plain": [
       "1-element Array{Float64,1}:\n",
       " 0.1652616048756218"
      ]
     },
     "execution_count": 37,
     "metadata": {},
     "output_type": "execute_result"
    }
   ],
   "source": [
    "cero_5IaX = [mod(x_puntoF(0.1,cero_5IaY[i]),1) for i in 1:length(cero_5IaY)]\n",
    "cero_5IbX = [mod(x_puntoF(0.1,cero_5IbY[i]),1) for i in 1:length(cero_5IbY)]"
   ]
  },
  {
   "cell_type": "code",
   "execution_count": 38,
   "metadata": {},
   "outputs": [
    {
     "data": {
      "image/svg+xml": [
       "<?xml version=\"1.0\" encoding=\"utf-8\"?>\n",
       "<svg xmlns=\"http://www.w3.org/2000/svg\" xmlns:xlink=\"http://www.w3.org/1999/xlink\" width=\"600\" height=\"400\" viewBox=\"0 0 2400 1600\">\n",
       "<defs>\n",
       "  <clipPath id=\"clip610\">\n",
       "    <rect x=\"0\" y=\"0\" width=\"2400\" height=\"1600\"/>\n",
       "  </clipPath>\n",
       "</defs>\n",
       "<path clip-path=\"url(#clip610)\" d=\"\n",
       "M0 1600 L2400 1600 L2400 0 L0 0  Z\n",
       "  \" fill=\"#ffffff\" fill-rule=\"evenodd\" fill-opacity=\"1\"/>\n",
       "<defs>\n",
       "  <clipPath id=\"clip611\">\n",
       "    <rect x=\"480\" y=\"0\" width=\"1681\" height=\"1600\"/>\n",
       "  </clipPath>\n",
       "</defs>\n",
       "<path clip-path=\"url(#clip610)\" d=\"\n",
       "M126.969 1486.45 L2352.76 1486.45 L2352.76 47.2441 L126.969 47.2441  Z\n",
       "  \" fill=\"#ffffff\" fill-rule=\"evenodd\" fill-opacity=\"1\"/>\n",
       "<defs>\n",
       "  <clipPath id=\"clip612\">\n",
       "    <rect x=\"126\" y=\"47\" width=\"2227\" height=\"1440\"/>\n",
       "  </clipPath>\n",
       "</defs>\n",
       "<polyline clip-path=\"url(#clip612)\" style=\"stroke:#000000; stroke-width:2; stroke-opacity:0.1; fill:none\" points=\"\n",
       "  189.963,1486.45 189.963,47.2441 \n",
       "  \"/>\n",
       "<polyline clip-path=\"url(#clip612)\" style=\"stroke:#000000; stroke-width:2; stroke-opacity:0.1; fill:none\" points=\"\n",
       "  720.483,1486.45 720.483,47.2441 \n",
       "  \"/>\n",
       "<polyline clip-path=\"url(#clip612)\" style=\"stroke:#000000; stroke-width:2; stroke-opacity:0.1; fill:none\" points=\"\n",
       "  1251,1486.45 1251,47.2441 \n",
       "  \"/>\n",
       "<polyline clip-path=\"url(#clip612)\" style=\"stroke:#000000; stroke-width:2; stroke-opacity:0.1; fill:none\" points=\"\n",
       "  1781.52,1486.45 1781.52,47.2441 \n",
       "  \"/>\n",
       "<polyline clip-path=\"url(#clip612)\" style=\"stroke:#000000; stroke-width:2; stroke-opacity:0.1; fill:none\" points=\"\n",
       "  2312.04,1486.45 2312.04,47.2441 \n",
       "  \"/>\n",
       "<polyline clip-path=\"url(#clip612)\" style=\"stroke:#000000; stroke-width:2; stroke-opacity:0.1; fill:none\" points=\"\n",
       "  126.969,1445.72 2352.76,1445.72 \n",
       "  \"/>\n",
       "<polyline clip-path=\"url(#clip612)\" style=\"stroke:#000000; stroke-width:2; stroke-opacity:0.1; fill:none\" points=\"\n",
       "  126.969,1106.28 2352.76,1106.28 \n",
       "  \"/>\n",
       "<polyline clip-path=\"url(#clip612)\" style=\"stroke:#000000; stroke-width:2; stroke-opacity:0.1; fill:none\" points=\"\n",
       "  126.969,766.846 2352.76,766.846 \n",
       "  \"/>\n",
       "<polyline clip-path=\"url(#clip612)\" style=\"stroke:#000000; stroke-width:2; stroke-opacity:0.1; fill:none\" points=\"\n",
       "  126.969,427.411 2352.76,427.411 \n",
       "  \"/>\n",
       "<polyline clip-path=\"url(#clip612)\" style=\"stroke:#000000; stroke-width:2; stroke-opacity:0.1; fill:none\" points=\"\n",
       "  126.969,87.9763 2352.76,87.9763 \n",
       "  \"/>\n",
       "<polyline clip-path=\"url(#clip610)\" style=\"stroke:#000000; stroke-width:4; stroke-opacity:1; fill:none\" points=\"\n",
       "  126.969,1486.45 2352.76,1486.45 \n",
       "  \"/>\n",
       "<polyline clip-path=\"url(#clip610)\" style=\"stroke:#000000; stroke-width:4; stroke-opacity:1; fill:none\" points=\"\n",
       "  126.969,1486.45 126.969,47.2441 \n",
       "  \"/>\n",
       "<polyline clip-path=\"url(#clip610)\" style=\"stroke:#000000; stroke-width:4; stroke-opacity:1; fill:none\" points=\"\n",
       "  189.963,1486.45 189.963,1469.18 \n",
       "  \"/>\n",
       "<polyline clip-path=\"url(#clip610)\" style=\"stroke:#000000; stroke-width:4; stroke-opacity:1; fill:none\" points=\"\n",
       "  720.483,1486.45 720.483,1469.18 \n",
       "  \"/>\n",
       "<polyline clip-path=\"url(#clip610)\" style=\"stroke:#000000; stroke-width:4; stroke-opacity:1; fill:none\" points=\"\n",
       "  1251,1486.45 1251,1469.18 \n",
       "  \"/>\n",
       "<polyline clip-path=\"url(#clip610)\" style=\"stroke:#000000; stroke-width:4; stroke-opacity:1; fill:none\" points=\"\n",
       "  1781.52,1486.45 1781.52,1469.18 \n",
       "  \"/>\n",
       "<polyline clip-path=\"url(#clip610)\" style=\"stroke:#000000; stroke-width:4; stroke-opacity:1; fill:none\" points=\"\n",
       "  2312.04,1486.45 2312.04,1469.18 \n",
       "  \"/>\n",
       "<polyline clip-path=\"url(#clip610)\" style=\"stroke:#000000; stroke-width:4; stroke-opacity:1; fill:none\" points=\"\n",
       "  126.969,1445.72 153.678,1445.72 \n",
       "  \"/>\n",
       "<polyline clip-path=\"url(#clip610)\" style=\"stroke:#000000; stroke-width:4; stroke-opacity:1; fill:none\" points=\"\n",
       "  126.969,1106.28 153.678,1106.28 \n",
       "  \"/>\n",
       "<polyline clip-path=\"url(#clip610)\" style=\"stroke:#000000; stroke-width:4; stroke-opacity:1; fill:none\" points=\"\n",
       "  126.969,766.846 153.678,766.846 \n",
       "  \"/>\n",
       "<polyline clip-path=\"url(#clip610)\" style=\"stroke:#000000; stroke-width:4; stroke-opacity:1; fill:none\" points=\"\n",
       "  126.969,427.411 153.678,427.411 \n",
       "  \"/>\n",
       "<polyline clip-path=\"url(#clip610)\" style=\"stroke:#000000; stroke-width:4; stroke-opacity:1; fill:none\" points=\"\n",
       "  126.969,87.9763 153.678,87.9763 \n",
       "  \"/>\n",
       "<path clip-path=\"url(#clip610)\" d=\"M 0 0 M157.972 1508.44 Q154.361 1508.44 152.532 1512 Q150.727 1515.55 150.727 1522.67 Q150.727 1529.78 152.532 1533.35 Q154.361 1536.89 157.972 1536.89 Q161.606 1536.89 163.412 1533.35 Q165.241 1529.78 165.241 1522.67 Q165.241 1515.55 163.412 1512 Q161.606 1508.44 157.972 1508.44 M157.972 1504.73 Q163.782 1504.73 166.838 1509.34 Q169.917 1513.92 169.917 1522.67 Q169.917 1531.4 166.838 1536.01 Q163.782 1540.59 157.972 1540.59 Q152.162 1540.59 149.083 1536.01 Q146.028 1531.4 146.028 1522.67 Q146.028 1513.92 149.083 1509.34 Q152.162 1504.73 157.972 1504.73 Z\" fill=\"#000000\" fill-rule=\"evenodd\" fill-opacity=\"1\" /><path clip-path=\"url(#clip610)\" d=\"M 0 0 M174.986 1534.04 L179.87 1534.04 L179.87 1539.92 L174.986 1539.92 L174.986 1534.04 Z\" fill=\"#000000\" fill-rule=\"evenodd\" fill-opacity=\"1\" /><path clip-path=\"url(#clip610)\" d=\"M 0 0 M194.94 1508.44 Q191.328 1508.44 189.5 1512 Q187.694 1515.55 187.694 1522.67 Q187.694 1529.78 189.5 1533.35 Q191.328 1536.89 194.94 1536.89 Q198.574 1536.89 200.379 1533.35 Q202.208 1529.78 202.208 1522.67 Q202.208 1515.55 200.379 1512 Q198.574 1508.44 194.94 1508.44 M194.94 1504.73 Q200.75 1504.73 203.805 1509.34 Q206.884 1513.92 206.884 1522.67 Q206.884 1531.4 203.805 1536.01 Q200.75 1540.59 194.94 1540.59 Q189.129 1540.59 186.051 1536.01 Q182.995 1531.4 182.995 1522.67 Q182.995 1513.92 186.051 1509.34 Q189.129 1504.73 194.94 1504.73 Z\" fill=\"#000000\" fill-rule=\"evenodd\" fill-opacity=\"1\" /><path clip-path=\"url(#clip610)\" d=\"M 0 0 M221.953 1508.44 Q218.342 1508.44 216.514 1512 Q214.708 1515.55 214.708 1522.67 Q214.708 1529.78 216.514 1533.35 Q218.342 1536.89 221.953 1536.89 Q225.588 1536.89 227.393 1533.35 Q229.222 1529.78 229.222 1522.67 Q229.222 1515.55 227.393 1512 Q225.588 1508.44 221.953 1508.44 M221.953 1504.73 Q227.763 1504.73 230.819 1509.34 Q233.898 1513.92 233.898 1522.67 Q233.898 1531.4 230.819 1536.01 Q227.763 1540.59 221.953 1540.59 Q216.143 1540.59 213.064 1536.01 Q210.009 1531.4 210.009 1522.67 Q210.009 1513.92 213.064 1509.34 Q216.143 1504.73 221.953 1504.73 Z\" fill=\"#000000\" fill-rule=\"evenodd\" fill-opacity=\"1\" /><path clip-path=\"url(#clip610)\" d=\"M 0 0 M689.789 1508.44 Q686.178 1508.44 684.349 1512 Q682.543 1515.55 682.543 1522.67 Q682.543 1529.78 684.349 1533.35 Q686.178 1536.89 689.789 1536.89 Q693.423 1536.89 695.229 1533.35 Q697.057 1529.78 697.057 1522.67 Q697.057 1515.55 695.229 1512 Q693.423 1508.44 689.789 1508.44 M689.789 1504.73 Q695.599 1504.73 698.654 1509.34 Q701.733 1513.92 701.733 1522.67 Q701.733 1531.4 698.654 1536.01 Q695.599 1540.59 689.789 1540.59 Q683.979 1540.59 680.9 1536.01 Q677.844 1531.4 677.844 1522.67 Q677.844 1513.92 680.9 1509.34 Q683.979 1504.73 689.789 1504.73 Z\" fill=\"#000000\" fill-rule=\"evenodd\" fill-opacity=\"1\" /><path clip-path=\"url(#clip610)\" d=\"M 0 0 M706.803 1534.04 L711.687 1534.04 L711.687 1539.92 L706.803 1539.92 L706.803 1534.04 Z\" fill=\"#000000\" fill-rule=\"evenodd\" fill-opacity=\"1\" /><path clip-path=\"url(#clip610)\" d=\"M 0 0 M720.784 1535.98 L737.103 1535.98 L737.103 1539.92 L715.159 1539.92 L715.159 1535.98 Q717.821 1533.23 722.404 1528.6 Q727.011 1523.95 728.191 1522.61 Q730.437 1520.08 731.316 1518.35 Q732.219 1516.59 732.219 1514.9 Q732.219 1512.14 730.275 1510.41 Q728.353 1508.67 725.251 1508.67 Q723.052 1508.67 720.599 1509.43 Q718.168 1510.2 715.39 1511.75 L715.39 1507.03 Q718.214 1505.89 720.668 1505.31 Q723.122 1504.73 725.159 1504.73 Q730.529 1504.73 733.724 1507.42 Q736.918 1510.11 736.918 1514.6 Q736.918 1516.73 736.108 1518.65 Q735.321 1520.54 733.214 1523.14 Q732.636 1523.81 729.534 1527.03 Q726.432 1530.22 720.784 1535.98 Z\" fill=\"#000000\" fill-rule=\"evenodd\" fill-opacity=\"1\" /><path clip-path=\"url(#clip610)\" d=\"M 0 0 M742.219 1505.36 L760.575 1505.36 L760.575 1509.3 L746.501 1509.3 L746.501 1517.77 Q747.52 1517.42 748.538 1517.26 Q749.557 1517.07 750.575 1517.07 Q756.362 1517.07 759.742 1520.24 Q763.122 1523.42 763.122 1528.83 Q763.122 1534.41 759.649 1537.51 Q756.177 1540.59 749.858 1540.59 Q747.682 1540.59 745.413 1540.22 Q743.168 1539.85 740.761 1539.11 L740.761 1534.41 Q742.844 1535.54 745.066 1536.1 Q747.288 1536.66 749.765 1536.66 Q753.77 1536.66 756.108 1534.55 Q758.446 1532.44 758.446 1528.83 Q758.446 1525.22 756.108 1523.11 Q753.77 1521.01 749.765 1521.01 Q747.89 1521.01 746.015 1521.42 Q744.163 1521.84 742.219 1522.72 L742.219 1505.36 Z\" fill=\"#000000\" fill-rule=\"evenodd\" fill-opacity=\"1\" /><path clip-path=\"url(#clip610)\" d=\"M 0 0 M1219.51 1508.44 Q1215.9 1508.44 1214.07 1512 Q1212.27 1515.55 1212.27 1522.67 Q1212.27 1529.78 1214.07 1533.35 Q1215.9 1536.89 1219.51 1536.89 Q1223.14 1536.89 1224.95 1533.35 Q1226.78 1529.78 1226.78 1522.67 Q1226.78 1515.55 1224.95 1512 Q1223.14 1508.44 1219.51 1508.44 M1219.51 1504.73 Q1225.32 1504.73 1228.38 1509.34 Q1231.45 1513.92 1231.45 1522.67 Q1231.45 1531.4 1228.38 1536.01 Q1225.32 1540.59 1219.51 1540.59 Q1213.7 1540.59 1210.62 1536.01 Q1207.57 1531.4 1207.57 1522.67 Q1207.57 1513.92 1210.62 1509.34 Q1213.7 1504.73 1219.51 1504.73 Z\" fill=\"#000000\" fill-rule=\"evenodd\" fill-opacity=\"1\" /><path clip-path=\"url(#clip610)\" d=\"M 0 0 M1236.52 1534.04 L1241.41 1534.04 L1241.41 1539.92 L1236.52 1539.92 L1236.52 1534.04 Z\" fill=\"#000000\" fill-rule=\"evenodd\" fill-opacity=\"1\" /><path clip-path=\"url(#clip610)\" d=\"M 0 0 M1246.52 1505.36 L1264.88 1505.36 L1264.88 1509.3 L1250.81 1509.3 L1250.81 1517.77 Q1251.83 1517.42 1252.84 1517.26 Q1253.86 1517.07 1254.88 1517.07 Q1260.67 1517.07 1264.05 1520.24 Q1267.43 1523.42 1267.43 1528.83 Q1267.43 1534.41 1263.95 1537.51 Q1260.48 1540.59 1254.16 1540.59 Q1251.99 1540.59 1249.72 1540.22 Q1247.47 1539.85 1245.07 1539.11 L1245.07 1534.41 Q1247.15 1535.54 1249.37 1536.1 Q1251.59 1536.66 1254.07 1536.66 Q1258.07 1536.66 1260.41 1534.55 Q1262.75 1532.44 1262.75 1528.83 Q1262.75 1525.22 1260.41 1523.11 Q1258.07 1521.01 1254.07 1521.01 Q1252.2 1521.01 1250.32 1521.42 Q1248.47 1521.84 1246.52 1522.72 L1246.52 1505.36 Z\" fill=\"#000000\" fill-rule=\"evenodd\" fill-opacity=\"1\" /><path clip-path=\"url(#clip610)\" d=\"M 0 0 M1282.5 1508.44 Q1278.89 1508.44 1277.06 1512 Q1275.25 1515.55 1275.25 1522.67 Q1275.25 1529.78 1277.06 1533.35 Q1278.89 1536.89 1282.5 1536.89 Q1286.13 1536.89 1287.94 1533.35 Q1289.76 1529.78 1289.76 1522.67 Q1289.76 1515.55 1287.94 1512 Q1286.13 1508.44 1282.5 1508.44 M1282.5 1504.73 Q1288.31 1504.73 1291.36 1509.34 Q1294.44 1513.92 1294.44 1522.67 Q1294.44 1531.4 1291.36 1536.01 Q1288.31 1540.59 1282.5 1540.59 Q1276.69 1540.59 1273.61 1536.01 Q1270.55 1531.4 1270.55 1522.67 Q1270.55 1513.92 1273.61 1509.34 Q1276.69 1504.73 1282.5 1504.73 Z\" fill=\"#000000\" fill-rule=\"evenodd\" fill-opacity=\"1\" /><path clip-path=\"url(#clip610)\" d=\"M 0 0 M1750.48 1508.44 Q1746.87 1508.44 1745.04 1512 Q1743.24 1515.55 1743.24 1522.67 Q1743.24 1529.78 1745.04 1533.35 Q1746.87 1536.89 1750.48 1536.89 Q1754.12 1536.89 1755.92 1533.35 Q1757.75 1529.78 1757.75 1522.67 Q1757.75 1515.55 1755.92 1512 Q1754.12 1508.44 1750.48 1508.44 M1750.48 1504.73 Q1756.29 1504.73 1759.35 1509.34 Q1762.43 1513.92 1762.43 1522.67 Q1762.43 1531.4 1759.35 1536.01 Q1756.29 1540.59 1750.48 1540.59 Q1744.67 1540.59 1741.59 1536.01 Q1738.54 1531.4 1738.54 1522.67 Q1738.54 1513.92 1741.59 1509.34 Q1744.67 1504.73 1750.48 1504.73 Z\" fill=\"#000000\" fill-rule=\"evenodd\" fill-opacity=\"1\" /><path clip-path=\"url(#clip610)\" d=\"M 0 0 M1767.5 1534.04 L1772.38 1534.04 L1772.38 1539.92 L1767.5 1539.92 L1767.5 1534.04 Z\" fill=\"#000000\" fill-rule=\"evenodd\" fill-opacity=\"1\" /><path clip-path=\"url(#clip610)\" d=\"M 0 0 M1776.27 1505.36 L1798.49 1505.36 L1798.49 1507.35 L1785.94 1539.92 L1781.06 1539.92 L1792.87 1509.3 L1776.27 1509.3 L1776.27 1505.36 Z\" fill=\"#000000\" fill-rule=\"evenodd\" fill-opacity=\"1\" /><path clip-path=\"url(#clip610)\" d=\"M 0 0 M1803.61 1505.36 L1821.96 1505.36 L1821.96 1509.3 L1807.89 1509.3 L1807.89 1517.77 Q1808.91 1517.42 1809.93 1517.26 Q1810.94 1517.07 1811.96 1517.07 Q1817.75 1517.07 1821.13 1520.24 Q1824.51 1523.42 1824.51 1528.83 Q1824.51 1534.41 1821.04 1537.51 Q1817.56 1540.59 1811.25 1540.59 Q1809.07 1540.59 1806.8 1540.22 Q1804.56 1539.85 1802.15 1539.11 L1802.15 1534.41 Q1804.23 1535.54 1806.45 1536.1 Q1808.68 1536.66 1811.15 1536.66 Q1815.16 1536.66 1817.5 1534.55 Q1819.83 1532.44 1819.83 1528.83 Q1819.83 1525.22 1817.5 1523.11 Q1815.16 1521.01 1811.15 1521.01 Q1809.28 1521.01 1807.4 1521.42 Q1805.55 1521.84 1803.61 1522.72 L1803.61 1505.36 Z\" fill=\"#000000\" fill-rule=\"evenodd\" fill-opacity=\"1\" /><path clip-path=\"url(#clip610)\" d=\"M 0 0 M2270.44 1535.98 L2278.07 1535.98 L2278.07 1509.62 L2269.76 1511.29 L2269.76 1507.03 L2278.03 1505.36 L2282.7 1505.36 L2282.7 1535.98 L2290.34 1535.98 L2290.34 1539.92 L2270.44 1539.92 L2270.44 1535.98 Z\" fill=\"#000000\" fill-rule=\"evenodd\" fill-opacity=\"1\" /><path clip-path=\"url(#clip610)\" d=\"M 0 0 M2295.41 1534.04 L2300.3 1534.04 L2300.3 1539.92 L2295.41 1539.92 L2295.41 1534.04 Z\" fill=\"#000000\" fill-rule=\"evenodd\" fill-opacity=\"1\" /><path clip-path=\"url(#clip610)\" d=\"M 0 0 M2315.37 1508.44 Q2311.75 1508.44 2309.93 1512 Q2308.12 1515.55 2308.12 1522.67 Q2308.12 1529.78 2309.93 1533.35 Q2311.75 1536.89 2315.37 1536.89 Q2319 1536.89 2320.81 1533.35 Q2322.63 1529.78 2322.63 1522.67 Q2322.63 1515.55 2320.81 1512 Q2319 1508.44 2315.37 1508.44 M2315.37 1504.73 Q2321.18 1504.73 2324.23 1509.34 Q2327.31 1513.92 2327.31 1522.67 Q2327.31 1531.4 2324.23 1536.01 Q2321.18 1540.59 2315.37 1540.59 Q2309.56 1540.59 2306.48 1536.01 Q2303.42 1531.4 2303.42 1522.67 Q2303.42 1513.92 2306.48 1509.34 Q2309.56 1504.73 2315.37 1504.73 Z\" fill=\"#000000\" fill-rule=\"evenodd\" fill-opacity=\"1\" /><path clip-path=\"url(#clip610)\" d=\"M 0 0 M2342.38 1508.44 Q2338.77 1508.44 2336.94 1512 Q2335.13 1515.55 2335.13 1522.67 Q2335.13 1529.78 2336.94 1533.35 Q2338.77 1536.89 2342.38 1536.89 Q2346.01 1536.89 2347.82 1533.35 Q2349.65 1529.78 2349.65 1522.67 Q2349.65 1515.55 2347.82 1512 Q2346.01 1508.44 2342.38 1508.44 M2342.38 1504.73 Q2348.19 1504.73 2351.24 1509.34 Q2354.32 1513.92 2354.32 1522.67 Q2354.32 1531.4 2351.24 1536.01 Q2348.19 1540.59 2342.38 1540.59 Q2336.57 1540.59 2333.49 1536.01 Q2330.43 1531.4 2330.43 1522.67 Q2330.43 1513.92 2333.49 1509.34 Q2336.57 1504.73 2342.38 1504.73 Z\" fill=\"#000000\" fill-rule=\"evenodd\" fill-opacity=\"1\" /><path clip-path=\"url(#clip610)\" d=\"M 0 0 M62.9921 1448.11 L75.4689 1448.11 L75.4689 1451.91 L62.9921 1451.91 L62.9921 1448.11 Z\" fill=\"#000000\" fill-rule=\"evenodd\" fill-opacity=\"1\" /><path clip-path=\"url(#clip610)\" d=\"M 0 0 M93.3855 1432.51 L81.58 1450.96 L93.3855 1450.96 L93.3855 1432.51 M92.1586 1428.44 L98.0382 1428.44 L98.0382 1450.96 L102.969 1450.96 L102.969 1454.85 L98.0382 1454.85 L98.0382 1463 L93.3855 1463 L93.3855 1454.85 L77.7837 1454.85 L77.7837 1450.33 L92.1586 1428.44 Z\" fill=\"#000000\" fill-rule=\"evenodd\" fill-opacity=\"1\" /><path clip-path=\"url(#clip610)\" d=\"M 0 0 M65.0754 1108.68 L77.5522 1108.68 L77.5522 1112.47 L65.0754 1112.47 L65.0754 1108.68 Z\" fill=\"#000000\" fill-rule=\"evenodd\" fill-opacity=\"1\" /><path clip-path=\"url(#clip610)\" d=\"M 0 0 M86.6494 1119.63 L102.969 1119.63 L102.969 1123.56 L81.0244 1123.56 L81.0244 1119.63 Q83.6865 1116.87 88.2698 1112.24 Q92.8762 1107.59 94.0568 1106.25 Q96.3021 1103.72 97.1818 1101.99 Q98.0845 1100.23 98.0845 1098.54 Q98.0845 1095.78 96.1401 1094.05 Q94.2188 1092.31 91.117 1092.31 Q88.9179 1092.31 86.4642 1093.07 Q84.0337 1093.84 81.2559 1095.39 L81.2559 1090.67 Q84.08 1089.53 86.5337 1088.95 Q88.9874 1088.38 91.0244 1088.38 Q96.3947 1088.38 99.5892 1091.06 Q102.784 1093.75 102.784 1098.24 Q102.784 1100.37 101.973 1102.29 Q101.186 1104.19 99.0799 1106.78 Q98.5012 1107.45 95.3994 1110.67 Q92.2975 1113.86 86.6494 1119.63 Z\" fill=\"#000000\" fill-rule=\"evenodd\" fill-opacity=\"1\" /><path clip-path=\"url(#clip610)\" d=\"M 0 0 M91.0244 752.645 Q87.4133 752.645 85.5846 756.209 Q83.7791 759.751 83.7791 766.881 Q83.7791 773.987 85.5846 777.552 Q87.4133 781.094 91.0244 781.094 Q94.6586 781.094 96.4642 777.552 Q98.2929 773.987 98.2929 766.881 Q98.2929 759.751 96.4642 756.209 Q94.6586 752.645 91.0244 752.645 M91.0244 748.941 Q96.8345 748.941 99.8901 753.547 Q102.969 758.131 102.969 766.881 Q102.969 775.608 99.8901 780.214 Q96.8345 784.797 91.0244 784.797 Q85.2142 784.797 82.1355 780.214 Q79.08 775.608 79.08 766.881 Q79.08 758.131 82.1355 753.547 Q85.2142 748.941 91.0244 748.941 Z\" fill=\"#000000\" fill-rule=\"evenodd\" fill-opacity=\"1\" /><path clip-path=\"url(#clip610)\" d=\"M 0 0 M86.6494 440.756 L102.969 440.756 L102.969 444.691 L81.0244 444.691 L81.0244 440.756 Q83.6865 438.001 88.2698 433.372 Q92.8762 428.719 94.0568 427.376 Q96.3021 424.853 97.1818 423.117 Q98.0845 421.358 98.0845 419.668 Q98.0845 416.914 96.1401 415.177 Q94.2188 413.441 91.117 413.441 Q88.9179 413.441 86.4642 414.205 Q84.0337 414.969 81.2559 416.52 L81.2559 411.798 Q84.08 410.664 86.5337 410.085 Q88.9874 409.506 91.0244 409.506 Q96.3947 409.506 99.5892 412.191 Q102.784 414.876 102.784 419.367 Q102.784 421.497 101.973 423.418 Q101.186 425.316 99.0799 427.909 Q98.5012 428.58 95.3994 431.798 Q92.2975 434.992 86.6494 440.756 Z\" fill=\"#000000\" fill-rule=\"evenodd\" fill-opacity=\"1\" /><path clip-path=\"url(#clip610)\" d=\"M 0 0 M93.3855 74.7703 L81.58 93.2193 L93.3855 93.2193 L93.3855 74.7703 M92.1586 70.6963 L98.0382 70.6963 L98.0382 93.2193 L102.969 93.2193 L102.969 97.1082 L98.0382 97.1082 L98.0382 105.256 L93.3855 105.256 L93.3855 97.1082 L77.7837 97.1082 L77.7837 92.5943 L92.1586 70.6963 Z\" fill=\"#000000\" fill-rule=\"evenodd\" fill-opacity=\"1\" /><polyline clip-path=\"url(#clip612)\" style=\"stroke:#009af9; stroke-width:4; stroke-opacity:1; fill:none\" points=\"\n",
       "  189.963,936.563 189.963,919.592 189.963,902.62 189.963,885.648 189.963,868.676 189.963,851.705 189.963,834.733 189.963,817.761 189.963,800.789 189.963,783.818 \n",
       "  189.963,766.846 189.963,749.874 189.963,732.902 189.963,715.931 189.963,698.959 189.963,681.987 189.963,665.016 189.963,648.044 189.963,631.072 189.963,614.1 \n",
       "  189.963,597.129 \n",
       "  \"/>\n",
       "<polyline clip-path=\"url(#clip612)\" style=\"stroke:#e26f46; stroke-width:4; stroke-opacity:1; fill:none\" points=\"\n",
       "  720.483,1445.72 804.305,1428.74 886.005,1411.77 965.583,1394.8 1043.04,1377.83 1118.37,1360.86 1191.58,1343.89 1262.67,1326.91 1331.64,1309.94 1398.49,1292.97 \n",
       "  1463.21,1276 1525.81,1259.03 1586.29,1242.05 1644.65,1225.08 1700.88,1208.11 1755,1191.14 1806.99,1174.17 1856.86,1157.2 1904.6,1140.22 1950.23,1123.25 \n",
       "  1993.73,1106.28 2035.11,1089.31 2074.37,1072.34 2111.51,1055.37 2146.52,1038.39 2179.41,1021.42 2210.18,1004.45 2238.83,987.479 2265.36,970.507 2289.76,953.535 \n",
       "  189.963,936.563 210.123,919.592 228.16,902.62 244.076,885.648 257.869,868.676 269.541,851.705 279.09,834.733 286.517,817.761 291.823,800.789 295.006,783.818 \n",
       "  296.067,766.846 295.006,749.874 291.823,732.902 286.517,715.931 279.09,698.959 269.541,681.987 257.869,665.016 244.076,648.044 228.16,631.072 210.123,614.1 \n",
       "  189.963,597.129 2289.76,580.157 2265.36,563.185 2238.83,546.213 2210.18,529.242 2179.41,512.27 2146.52,495.298 2111.51,478.326 2074.37,461.355 2035.11,444.383 \n",
       "  1993.73,427.411 1950.23,410.439 1904.6,393.468 1856.86,376.496 1806.99,359.524 1755,342.552 1700.88,325.581 1644.65,308.609 1586.29,291.637 1525.81,274.665 \n",
       "  1463.21,257.694 1398.49,240.722 1331.64,223.75 1262.67,206.778 1191.58,189.807 1118.37,172.835 1043.04,155.863 965.583,138.892 886.005,121.92 804.305,104.948 \n",
       "  720.483,87.9763 \n",
       "  \"/>\n",
       "<circle clip-path=\"url(#clip612)\" cx=\"189.963\" cy=\"936.563\" r=\"14\" fill=\"#3da44d\" fill-rule=\"evenodd\" fill-opacity=\"1\" stroke=\"#000000\" stroke-opacity=\"1\" stroke-width=\"3.2\"/>\n",
       "<circle clip-path=\"url(#clip612)\" cx=\"189.963\" cy=\"597.129\" r=\"14\" fill=\"#3da44d\" fill-rule=\"evenodd\" fill-opacity=\"1\" stroke=\"#000000\" stroke-opacity=\"1\" stroke-width=\"3.2\"/>\n",
       "<circle clip-path=\"url(#clip612)\" cx=\"294.76\" cy=\"748.013\" r=\"14\" fill=\"#c271d2\" fill-rule=\"evenodd\" fill-opacity=\"1\" stroke=\"#000000\" stroke-opacity=\"1\" stroke-width=\"3.2\"/>\n",
       "<circle clip-path=\"url(#clip612)\" cx=\"189.963\" cy=\"936.563\" r=\"14\" fill=\"#ac8d18\" fill-rule=\"evenodd\" fill-opacity=\"1\" stroke=\"#000000\" stroke-opacity=\"1\" stroke-width=\"3.2\"/>\n",
       "<circle clip-path=\"url(#clip612)\" cx=\"189.963\" cy=\"597.129\" r=\"14\" fill=\"#ac8d18\" fill-rule=\"evenodd\" fill-opacity=\"1\" stroke=\"#000000\" stroke-opacity=\"1\" stroke-width=\"3.2\"/>\n",
       "<circle clip-path=\"url(#clip612)\" cx=\"189.963\" cy=\"756.9\" r=\"14\" fill=\"#00a9ad\" fill-rule=\"evenodd\" fill-opacity=\"1\" stroke=\"#000000\" stroke-opacity=\"1\" stroke-width=\"3.2\"/>\n",
       "<circle clip-path=\"url(#clip612)\" cx=\"1261.61\" cy=\"936.563\" r=\"14\" fill=\"#ed5d92\" fill-rule=\"evenodd\" fill-opacity=\"1\" stroke=\"#000000\" stroke-opacity=\"1\" stroke-width=\"3.2\"/>\n",
       "<circle clip-path=\"url(#clip612)\" cx=\"1240.39\" cy=\"597.129\" r=\"14\" fill=\"#ed5d92\" fill-rule=\"evenodd\" fill-opacity=\"1\" stroke=\"#000000\" stroke-opacity=\"1\" stroke-width=\"3.2\"/>\n",
       "<circle clip-path=\"url(#clip612)\" cx=\"408.867\" cy=\"731.478\" r=\"14\" fill=\"#c68125\" fill-rule=\"evenodd\" fill-opacity=\"1\" stroke=\"#000000\" stroke-opacity=\"1\" stroke-width=\"3.2\"/>\n",
       "<circle clip-path=\"url(#clip612)\" cx=\"1240.39\" cy=\"597.129\" r=\"14\" fill=\"#00a98d\" fill-rule=\"evenodd\" fill-opacity=\"1\" stroke=\"#000000\" stroke-opacity=\"1\" stroke-width=\"3.2\"/>\n",
       "<circle clip-path=\"url(#clip612)\" cx=\"495.348\" cy=\"717.505\" r=\"14\" fill=\"#8e971d\" fill-rule=\"evenodd\" fill-opacity=\"1\" stroke=\"#000000\" stroke-opacity=\"1\" stroke-width=\"3.2\"/>\n",
       "<circle clip-path=\"url(#clip612)\" cx=\"1240.39\" cy=\"597.129\" r=\"14\" fill=\"#00a8cb\" fill-rule=\"evenodd\" fill-opacity=\"1\" stroke=\"#000000\" stroke-opacity=\"1\" stroke-width=\"3.2\"/>\n",
       "<circle clip-path=\"url(#clip612)\" cx=\"540.661\" cy=\"710.184\" r=\"14\" fill=\"#9b7fe8\" fill-rule=\"evenodd\" fill-opacity=\"1\" stroke=\"#000000\" stroke-opacity=\"1\" stroke-width=\"3.2\"/>\n",
       "</svg>\n"
      ]
     },
     "execution_count": 38,
     "metadata": {},
     "output_type": "execute_result"
    }
   ],
   "source": [
    "listaY2 = [y for y in -1.0:0.1:1.0]\n",
    "listaX2 = zeros(21)\n",
    "plot(listaX2, listaY2, label = \"\")\n",
    "plot!(listaX, listaY, label = \"\", title = \"\")\n",
    "scatter!([cero_1aX,cero_1bX],[cero_1aY,cero_1bY], label = \"\")\n",
    "scatter!([[0,0],[0]],[cero_2aY,cero_2bY], label = \"\")\n",
    "scatter!([cero_3IaX,cero_3IbX],[cero_3IaY,cero_3IbY], label = \"\")\n",
    "scatter!([cero_4IaX,cero_4IbX],[cero_4IaY,cero_4IbY], label = \"\")\n",
    "scatter!([cero_5IaX,cero_5IbX],[cero_5IaY,cero_5IbY], label = \"\")"
   ]
  },
  {
   "cell_type": "markdown",
   "metadata": {},
   "source": [
    "Serán realmente los ceros?"
   ]
  },
  {
   "cell_type": "code",
   "execution_count": 42,
   "metadata": {},
   "outputs": [
    {
     "data": {
      "text/latex": [
       "\\begin{equation*}-8.32667268468867 \\cdot 10^{-17}\\end{equation*}"
      ],
      "text/plain": [
       "-8.32667268468867e-17"
      ]
     },
     "execution_count": 42,
     "metadata": {},
     "output_type": "execute_result"
    }
   ],
   "source": [
    "NT5C1[1].subs(y, cero_5IaY[1])"
   ]
  },
  {
   "cell_type": "code",
   "execution_count": 44,
   "metadata": {},
   "outputs": [
    {
     "data": {
      "text/latex": [
       "\\begin{equation*}-1.38777878078145 \\cdot 10^{-17}\\end{equation*}"
      ],
      "text/plain": [
       "-1.38777878078145e-17"
      ]
     },
     "execution_count": 44,
     "metadata": {},
     "output_type": "execute_result"
    }
   ],
   "source": [
    "NT5C1[2].subs(y, cero_5IbY[1])"
   ]
  },
  {
   "cell_type": "markdown",
   "metadata": {},
   "source": [
    "y en x?"
   ]
  },
  {
   "cell_type": "code",
   "execution_count": 54,
   "metadata": {},
   "outputs": [
    {
     "data": {
      "text/latex": [
       "\\begin{equation*}0\\end{equation*}"
      ],
      "text/plain": [
       "0"
      ]
     },
     "execution_count": 54,
     "metadata": {},
     "output_type": "execute_result"
    }
   ],
   "source": [
    "x_condicion(0.1).subs(y,cero_5IaY[1])"
   ]
  },
  {
   "cell_type": "code",
   "execution_count": 56,
   "metadata": {},
   "outputs": [
    {
     "data": {
      "text/latex": [
       "\\begin{equation*}0.0444268139891713\\end{equation*}"
      ],
      "text/plain": [
       "0.0444268139891713"
      ]
     },
     "execution_count": 56,
     "metadata": {},
     "output_type": "execute_result"
    }
   ],
   "source": [
    "\n",
    "x_condicion(0.1).subs(y,cero_5IbY[1])"
   ]
  },
  {
   "cell_type": "code",
   "execution_count": null,
   "metadata": {},
   "outputs": [],
   "source": []
  }
 ],
 "metadata": {
  "kernelspec": {
   "display_name": "Julia 1.4.2",
   "language": "julia",
   "name": "julia-1.4"
  },
  "language_info": {
   "file_extension": ".jl",
   "mimetype": "application/julia",
   "name": "julia",
   "version": "1.4.2"
  }
 },
 "nbformat": 4,
 "nbformat_minor": 4
}
