{
 "cells": [
  {
   "cell_type": "markdown",
   "metadata": {},
   "source": [
    "## Primera implementación del método de involuciones para el mapeo no twist cuadrático."
   ]
  },
  {
   "cell_type": "code",
   "execution_count": 1,
   "metadata": {},
   "outputs": [
    {
     "name": "stderr",
     "output_type": "stream",
     "text": [
      "┌ Warning: `@pyimport foo` is deprecated in favor of `foo = pyimport(\"foo\")`.\n",
      "│   caller = _pywrap_pyimport(::PyObject) at PyCall.jl:410\n",
      "└ @ PyCall /home/eve/.julia/packages/PyCall/BcTLp/src/PyCall.jl:410\n"
     ]
    }
   ],
   "source": [
    "using PyCall\n",
    "using LaTeXStrings\n",
    "@pyimport numpy as np\n",
    "using SymPy\n",
    "using Roots\n",
    "using Plots"
   ]
  },
  {
   "cell_type": "code",
   "execution_count": 2,
   "metadata": {},
   "outputs": [],
   "source": [
    "# por si quiero revisar\n",
    "# x = Sym(\"x\")\n",
    "# y = Sym(\"y\")\n",
    "# a = Sym(\"a\")\n",
    "# b = Sym(\"b\");\n"
   ]
  },
  {
   "cell_type": "markdown",
   "metadata": {},
   "source": [
    "Defino el mapeo usando funciones."
   ]
  },
  {
   "cell_type": "code",
   "execution_count": 2,
   "metadata": {},
   "outputs": [
    {
     "data": {
      "text/plain": [
       "MapeoX (generic function with 1 method)"
      ]
     },
     "execution_count": 2,
     "metadata": {},
     "output_type": "execute_result"
    }
   ],
   "source": [
    "function MapeoX(x,y,a,b)\n",
    "    vx = x+a*(1-(y-b*sin(2*pi*x))^2)\n",
    "    return vx\n",
    "end"
   ]
  },
  {
   "cell_type": "code",
   "execution_count": 3,
   "metadata": {},
   "outputs": [
    {
     "data": {
      "text/plain": [
       "MapeoY (generic function with 1 method)"
      ]
     },
     "execution_count": 3,
     "metadata": {},
     "output_type": "execute_result"
    }
   ],
   "source": [
    "function MapeoY(x,y,a,b)\n",
    "    vy = y-b*sin(2*pi*x)\n",
    "    return vy\n",
    "end"
   ]
  },
  {
   "cell_type": "markdown",
   "metadata": {},
   "source": [
    "💠 Defino un nuevo mapeo pero con parametros espcificos, usando la condicion del primer conjunto invariante\n",
    "$$I_{1}=\\{x | x =\\frac{a}{2}(1-y^{2})\\}$$"
   ]
  },
  {
   "cell_type": "code",
   "execution_count": 4,
   "metadata": {},
   "outputs": [
    {
     "data": {
      "text/plain": [
       "MapeoAY (generic function with 1 method)"
      ]
     },
     "execution_count": 4,
     "metadata": {},
     "output_type": "execute_result"
    }
   ],
   "source": [
    "# por el momento a y b son variables globales\n",
    "a = 0.1\n",
    "b = 0.1\n",
    "MapeoAX(y) = MapeoX((a/2)*(1-y^2),y,a,b) \n",
    "MapeoAY(y) = MapeoY((a/2)*(1-y^2),y,a,b)"
   ]
  },
  {
   "cell_type": "markdown",
   "metadata": {},
   "source": [
    "itero el mapeo anterior 2 veces para buscar puntos de periodo 2."
   ]
  },
  {
   "cell_type": "code",
   "execution_count": 5,
   "metadata": {},
   "outputs": [
    {
     "data": {
      "text/plain": [
       "MapeoA2Y (generic function with 1 method)"
      ]
     },
     "execution_count": 5,
     "metadata": {},
     "output_type": "execute_result"
    }
   ],
   "source": [
    "MapeoA2X(y) = MapeoAX(MapeoAX(y))\n",
    "MapeoA2Y(y) = MapeoAY(MapeoAY(y))"
   ]
  },
  {
   "cell_type": "markdown",
   "metadata": {},
   "source": [
    "Usando la funcion de multiples ceros busco los puntos de periodo dos"
   ]
  },
  {
   "cell_type": "code",
   "execution_count": 6,
   "metadata": {},
   "outputs": [
    {
     "data": {
      "text/plain": [
       "2-element Array{Float64,1}:\n",
       " -2.8229230553285802\n",
       "  2.70761828365477"
      ]
     },
     "execution_count": 6,
     "metadata": {},
     "output_type": "execute_result"
    }
   ],
   "source": [
    "cerosYAa = find_zeros(MapeoA2X,-4.0,4.0)"
   ]
  },
  {
   "cell_type": "code",
   "execution_count": 7,
   "metadata": {},
   "outputs": [
    {
     "data": {
      "text/plain": [
       "1-element Array{Float64,1}:\n",
       " 0.06166129595317498"
      ]
     },
     "execution_count": 7,
     "metadata": {},
     "output_type": "execute_result"
    }
   ],
   "source": [
    "cerosYAb = find_zeros(MapeoA2Y,-4.0,4.0)"
   ]
  },
  {
   "cell_type": "markdown",
   "metadata": {},
   "source": [
    "Calculamos los ceros en x usando la condicion."
   ]
  },
  {
   "cell_type": "code",
   "execution_count": 8,
   "metadata": {},
   "outputs": [
    {
     "data": {
      "text/plain": [
       "x_puntoF (generic function with 1 method)"
      ]
     },
     "execution_count": 8,
     "metadata": {},
     "output_type": "execute_result"
    }
   ],
   "source": [
    "function x_puntoF(y,a)\n",
    "    x = mod((a/2)*(1-y^2),1)\n",
    "    #x = (a/2)*(1-y^2)\n",
    "    return x\n",
    "end\n"
   ]
  },
  {
   "cell_type": "code",
   "execution_count": 9,
   "metadata": {},
   "outputs": [
    {
     "data": {
      "text/plain": [
       "1-element Array{Float64,1}:\n",
       " 0.04980989422906875"
      ]
     },
     "execution_count": 9,
     "metadata": {},
     "output_type": "execute_result"
    }
   ],
   "source": [
    "cerosXAa = [x_puntoF(cerosYAa[i],a) for i in 1:length(cerosYAa)]\n",
    "cerosXAb = [x_puntoF(cerosYAb[i],a) for i in 1:length(cerosYAb)]"
   ]
  },
  {
   "cell_type": "code",
   "execution_count": 10,
   "metadata": {
    "scrolled": true
   },
   "outputs": [
    {
     "ename": "ErrorException",
     "evalue": "could not load library \"libGR.so\"\nlibGR.so: cannot open shared object file: No such file or directory",
     "output_type": "error",
     "traceback": [
      "could not load library \"libGR.so\"\nlibGR.so: cannot open shared object file: No such file or directory",
      "",
      "Stacktrace:",
      " [1] setcharheight at /home/eve/.julia/packages/GR/oiZD3/src/GR.jl:1263 [inlined]",
      " [2] gr_set_font(::Plots.Font; halign::Symbol, valign::Symbol, color::RGBA{Float64}, rotation::Int64) at /home/eve/.julia/packages/Plots/qZHsp/src/backends/gr.jl:386",
      " [3] gr_set_xticks_font(::Plots.Subplot{Plots.GRBackend}) at /home/eve/.julia/packages/Plots/qZHsp/src/backends/gr.jl:723",
      " [4] _update_min_padding!(::Plots.Subplot{Plots.GRBackend}) at /home/eve/.julia/packages/Plots/qZHsp/src/backends/gr.jl:904",
      " [5] iterate at ./generator.jl:47 [inlined]",
      " [6] _collect(::Array{AbstractLayout,2}, ::Base.Generator{Array{AbstractLayout,2},typeof(Plots._update_min_padding!)}, ::Base.EltypeUnknown, ::Base.HasShape{2}) at ./array.jl:678",
      " [7] collect_similar(::Array{AbstractLayout,2}, ::Base.Generator{Array{AbstractLayout,2},typeof(Plots._update_min_padding!)}) at ./array.jl:607",
      " [8] map(::Function, ::Array{AbstractLayout,2}) at ./abstractarray.jl:2072",
      " [9] _update_min_padding!(::Plots.GridLayout) at /home/eve/.julia/packages/Plots/qZHsp/src/layouts.jl:310",
      " [10] prepare_output(::Plots.Plot{Plots.GRBackend}) at /home/eve/.julia/packages/Plots/qZHsp/src/plot.jl:261",
      " [11] show(::Base64.Base64EncodePipe, ::MIME{Symbol(\"image/png\")}, ::Plots.Plot{Plots.GRBackend}) at /home/eve/.julia/packages/Plots/qZHsp/src/output.jl:198",
      " [12] base64encode(::Function, ::MIME{Symbol(\"image/png\")}, ::Vararg{Any,N} where N; context::Nothing) at /buildworker/worker/package_linux64/build/usr/share/julia/stdlib/v1.4/Base64/src/encode.jl:206",
      " [13] base64encode at /buildworker/worker/package_linux64/build/usr/share/julia/stdlib/v1.4/Base64/src/encode.jl:203 [inlined]",
      " [14] _ijulia_display_dict(::Plots.Plot{Plots.GRBackend}) at /home/eve/.julia/packages/Plots/qZHsp/src/ijulia.jl:50",
      " [15] display_dict(::Plots.Plot{Plots.GRBackend}) at /home/eve/.julia/packages/Plots/qZHsp/src/init.jl:83",
      " [16] #invokelatest#1 at ./essentials.jl:712 [inlined]",
      " [17] invokelatest at ./essentials.jl:711 [inlined]",
      " [18] execute_request(::ZMQ.Socket, ::IJulia.Msg) at /home/eve/.julia/packages/IJulia/rWZ9e/src/execute_request.jl:130",
      " [19] #invokelatest#1 at ./essentials.jl:712 [inlined]",
      " [20] invokelatest at ./essentials.jl:711 [inlined]",
      " [21] eventloop(::ZMQ.Socket) at /home/eve/.julia/packages/IJulia/rWZ9e/src/eventloop.jl:8",
      " [22] (::IJulia.var\"#15#18\")() at ./task.jl:358"
     ]
    }
   ],
   "source": [
    "listaY = [y for y in -4.0:0.1:4.0]\n",
    "listaX = [mod((0.1/2)*(1-y^2),1) for y in listaY]\n",
    "plot(listaX, listaY, label = \"\")\n",
    "scatter!([cerosXAa,cerosXAb],[cerosYAa, cerosYAb], label = \"\", fmt = :png)\n"
   ]
  },
  {
   "cell_type": "markdown",
   "metadata": {},
   "source": [
    "Ahora usando el segundo conjunto invariante\n",
    "$$I_{0}= \\{(x,y)| x=0\\}$$"
   ]
  },
  {
   "cell_type": "code",
   "execution_count": 16,
   "metadata": {},
   "outputs": [
    {
     "data": {
      "text/plain": [
       "MapeoBY (generic function with 1 method)"
      ]
     },
     "execution_count": 16,
     "metadata": {},
     "output_type": "execute_result"
    }
   ],
   "source": [
    "MapeoBX(y) = MapeoX(0.0,y,a,b)\n",
    "MapeoBY(y) = MapeoY(0.0,y,a,b)"
   ]
  },
  {
   "cell_type": "code",
   "execution_count": 17,
   "metadata": {},
   "outputs": [
    {
     "data": {
      "text/plain": [
       "MapeoB2Y (generic function with 1 method)"
      ]
     },
     "execution_count": 17,
     "metadata": {},
     "output_type": "execute_result"
    }
   ],
   "source": [
    "MapeoB2X(y) = MapeoBX(MapeoBX(y))\n",
    "MapeoB2Y(y) = MapeoBY(MapeoBY(y))"
   ]
  },
  {
   "cell_type": "code",
   "execution_count": 18,
   "metadata": {},
   "outputs": [
    {
     "data": {
      "text/plain": [
       "1-element Array{Float64,1}:\n",
       " 0.0"
      ]
     },
     "execution_count": 18,
     "metadata": {},
     "output_type": "execute_result"
    }
   ],
   "source": [
    "cerosYBa = find_zeros(MapeoB2X,-4.0,4.0)\n",
    "cerosYBb = find_zeros(MapeoB2Y,-4.0,4.0)"
   ]
  },
  {
   "cell_type": "code",
   "execution_count": 19,
   "metadata": {},
   "outputs": [
    {
     "data": {
      "text/plain": [
       "1-element Array{Float64,1}:\n",
       " 0.0"
      ]
     },
     "execution_count": 19,
     "metadata": {},
     "output_type": "execute_result"
    }
   ],
   "source": [
    "cerosXBa = zeros(length(cerosYBa))\n",
    "cerosXBb = zeros(length(cerosYBb))"
   ]
  },
  {
   "cell_type": "code",
   "execution_count": 20,
   "metadata": {},
   "outputs": [
    {
     "data": {
      "image/svg+xml": [
       "<?xml version=\"1.0\" encoding=\"utf-8\"?>\n",
       "<svg xmlns=\"http://www.w3.org/2000/svg\" xmlns:xlink=\"http://www.w3.org/1999/xlink\" width=\"600\" height=\"400\" viewBox=\"0 0 2400 1600\">\n",
       "<defs>\n",
       "  <clipPath id=\"clip500\">\n",
       "    <rect x=\"0\" y=\"0\" width=\"2400\" height=\"1600\"/>\n",
       "  </clipPath>\n",
       "</defs>\n",
       "<path clip-path=\"url(#clip500)\" d=\"\n",
       "M0 1600 L2400 1600 L2400 0 L0 0  Z\n",
       "  \" fill=\"#ffffff\" fill-rule=\"evenodd\" fill-opacity=\"1\"/>\n",
       "<defs>\n",
       "  <clipPath id=\"clip501\">\n",
       "    <rect x=\"480\" y=\"0\" width=\"1681\" height=\"1600\"/>\n",
       "  </clipPath>\n",
       "</defs>\n",
       "<path clip-path=\"url(#clip500)\" d=\"\n",
       "M126.969 1486.45 L2352.76 1486.45 L2352.76 47.2441 L126.969 47.2441  Z\n",
       "  \" fill=\"#ffffff\" fill-rule=\"evenodd\" fill-opacity=\"1\"/>\n",
       "<defs>\n",
       "  <clipPath id=\"clip502\">\n",
       "    <rect x=\"126\" y=\"47\" width=\"2227\" height=\"1440\"/>\n",
       "  </clipPath>\n",
       "</defs>\n",
       "<polyline clip-path=\"url(#clip502)\" style=\"stroke:#000000; stroke-width:2; stroke-opacity:0.1; fill:none\" points=\"\n",
       "  189.963,1486.45 189.963,47.2441 \n",
       "  \"/>\n",
       "<polyline clip-path=\"url(#clip502)\" style=\"stroke:#000000; stroke-width:2; stroke-opacity:0.1; fill:none\" points=\"\n",
       "  720.483,1486.45 720.483,47.2441 \n",
       "  \"/>\n",
       "<polyline clip-path=\"url(#clip502)\" style=\"stroke:#000000; stroke-width:2; stroke-opacity:0.1; fill:none\" points=\"\n",
       "  1251,1486.45 1251,47.2441 \n",
       "  \"/>\n",
       "<polyline clip-path=\"url(#clip502)\" style=\"stroke:#000000; stroke-width:2; stroke-opacity:0.1; fill:none\" points=\"\n",
       "  1781.52,1486.45 1781.52,47.2441 \n",
       "  \"/>\n",
       "<polyline clip-path=\"url(#clip502)\" style=\"stroke:#000000; stroke-width:2; stroke-opacity:0.1; fill:none\" points=\"\n",
       "  2312.04,1486.45 2312.04,47.2441 \n",
       "  \"/>\n",
       "<polyline clip-path=\"url(#clip502)\" style=\"stroke:#000000; stroke-width:2; stroke-opacity:0.1; fill:none\" points=\"\n",
       "  126.969,1445.72 2352.76,1445.72 \n",
       "  \"/>\n",
       "<polyline clip-path=\"url(#clip502)\" style=\"stroke:#000000; stroke-width:2; stroke-opacity:0.1; fill:none\" points=\"\n",
       "  126.969,1106.28 2352.76,1106.28 \n",
       "  \"/>\n",
       "<polyline clip-path=\"url(#clip502)\" style=\"stroke:#000000; stroke-width:2; stroke-opacity:0.1; fill:none\" points=\"\n",
       "  126.969,766.846 2352.76,766.846 \n",
       "  \"/>\n",
       "<polyline clip-path=\"url(#clip502)\" style=\"stroke:#000000; stroke-width:2; stroke-opacity:0.1; fill:none\" points=\"\n",
       "  126.969,427.411 2352.76,427.411 \n",
       "  \"/>\n",
       "<polyline clip-path=\"url(#clip502)\" style=\"stroke:#000000; stroke-width:2; stroke-opacity:0.1; fill:none\" points=\"\n",
       "  126.969,87.9763 2352.76,87.9763 \n",
       "  \"/>\n",
       "<polyline clip-path=\"url(#clip500)\" style=\"stroke:#000000; stroke-width:4; stroke-opacity:1; fill:none\" points=\"\n",
       "  126.969,1486.45 2352.76,1486.45 \n",
       "  \"/>\n",
       "<polyline clip-path=\"url(#clip500)\" style=\"stroke:#000000; stroke-width:4; stroke-opacity:1; fill:none\" points=\"\n",
       "  126.969,1486.45 126.969,47.2441 \n",
       "  \"/>\n",
       "<polyline clip-path=\"url(#clip500)\" style=\"stroke:#000000; stroke-width:4; stroke-opacity:1; fill:none\" points=\"\n",
       "  189.963,1486.45 189.963,1469.18 \n",
       "  \"/>\n",
       "<polyline clip-path=\"url(#clip500)\" style=\"stroke:#000000; stroke-width:4; stroke-opacity:1; fill:none\" points=\"\n",
       "  720.483,1486.45 720.483,1469.18 \n",
       "  \"/>\n",
       "<polyline clip-path=\"url(#clip500)\" style=\"stroke:#000000; stroke-width:4; stroke-opacity:1; fill:none\" points=\"\n",
       "  1251,1486.45 1251,1469.18 \n",
       "  \"/>\n",
       "<polyline clip-path=\"url(#clip500)\" style=\"stroke:#000000; stroke-width:4; stroke-opacity:1; fill:none\" points=\"\n",
       "  1781.52,1486.45 1781.52,1469.18 \n",
       "  \"/>\n",
       "<polyline clip-path=\"url(#clip500)\" style=\"stroke:#000000; stroke-width:4; stroke-opacity:1; fill:none\" points=\"\n",
       "  2312.04,1486.45 2312.04,1469.18 \n",
       "  \"/>\n",
       "<polyline clip-path=\"url(#clip500)\" style=\"stroke:#000000; stroke-width:4; stroke-opacity:1; fill:none\" points=\"\n",
       "  126.969,1445.72 153.678,1445.72 \n",
       "  \"/>\n",
       "<polyline clip-path=\"url(#clip500)\" style=\"stroke:#000000; stroke-width:4; stroke-opacity:1; fill:none\" points=\"\n",
       "  126.969,1106.28 153.678,1106.28 \n",
       "  \"/>\n",
       "<polyline clip-path=\"url(#clip500)\" style=\"stroke:#000000; stroke-width:4; stroke-opacity:1; fill:none\" points=\"\n",
       "  126.969,766.846 153.678,766.846 \n",
       "  \"/>\n",
       "<polyline clip-path=\"url(#clip500)\" style=\"stroke:#000000; stroke-width:4; stroke-opacity:1; fill:none\" points=\"\n",
       "  126.969,427.411 153.678,427.411 \n",
       "  \"/>\n",
       "<polyline clip-path=\"url(#clip500)\" style=\"stroke:#000000; stroke-width:4; stroke-opacity:1; fill:none\" points=\"\n",
       "  126.969,87.9763 153.678,87.9763 \n",
       "  \"/>\n",
       "<path clip-path=\"url(#clip500)\" d=\"M 0 0 M157.972 1508.44 Q154.361 1508.44 152.532 1512 Q150.727 1515.55 150.727 1522.67 Q150.727 1529.78 152.532 1533.35 Q154.361 1536.89 157.972 1536.89 Q161.606 1536.89 163.412 1533.35 Q165.241 1529.78 165.241 1522.67 Q165.241 1515.55 163.412 1512 Q161.606 1508.44 157.972 1508.44 M157.972 1504.73 Q163.782 1504.73 166.838 1509.34 Q169.917 1513.92 169.917 1522.67 Q169.917 1531.4 166.838 1536.01 Q163.782 1540.59 157.972 1540.59 Q152.162 1540.59 149.083 1536.01 Q146.028 1531.4 146.028 1522.67 Q146.028 1513.92 149.083 1509.34 Q152.162 1504.73 157.972 1504.73 Z\" fill=\"#000000\" fill-rule=\"evenodd\" fill-opacity=\"1\" /><path clip-path=\"url(#clip500)\" d=\"M 0 0 M174.986 1534.04 L179.87 1534.04 L179.87 1539.92 L174.986 1539.92 L174.986 1534.04 Z\" fill=\"#000000\" fill-rule=\"evenodd\" fill-opacity=\"1\" /><path clip-path=\"url(#clip500)\" d=\"M 0 0 M194.94 1508.44 Q191.328 1508.44 189.5 1512 Q187.694 1515.55 187.694 1522.67 Q187.694 1529.78 189.5 1533.35 Q191.328 1536.89 194.94 1536.89 Q198.574 1536.89 200.379 1533.35 Q202.208 1529.78 202.208 1522.67 Q202.208 1515.55 200.379 1512 Q198.574 1508.44 194.94 1508.44 M194.94 1504.73 Q200.75 1504.73 203.805 1509.34 Q206.884 1513.92 206.884 1522.67 Q206.884 1531.4 203.805 1536.01 Q200.75 1540.59 194.94 1540.59 Q189.129 1540.59 186.051 1536.01 Q182.995 1531.4 182.995 1522.67 Q182.995 1513.92 186.051 1509.34 Q189.129 1504.73 194.94 1504.73 Z\" fill=\"#000000\" fill-rule=\"evenodd\" fill-opacity=\"1\" /><path clip-path=\"url(#clip500)\" d=\"M 0 0 M221.953 1508.44 Q218.342 1508.44 216.514 1512 Q214.708 1515.55 214.708 1522.67 Q214.708 1529.78 216.514 1533.35 Q218.342 1536.89 221.953 1536.89 Q225.588 1536.89 227.393 1533.35 Q229.222 1529.78 229.222 1522.67 Q229.222 1515.55 227.393 1512 Q225.588 1508.44 221.953 1508.44 M221.953 1504.73 Q227.763 1504.73 230.819 1509.34 Q233.898 1513.92 233.898 1522.67 Q233.898 1531.4 230.819 1536.01 Q227.763 1540.59 221.953 1540.59 Q216.143 1540.59 213.064 1536.01 Q210.009 1531.4 210.009 1522.67 Q210.009 1513.92 213.064 1509.34 Q216.143 1504.73 221.953 1504.73 Z\" fill=\"#000000\" fill-rule=\"evenodd\" fill-opacity=\"1\" /><path clip-path=\"url(#clip500)\" d=\"M 0 0 M689.789 1508.44 Q686.178 1508.44 684.349 1512 Q682.543 1515.55 682.543 1522.67 Q682.543 1529.78 684.349 1533.35 Q686.178 1536.89 689.789 1536.89 Q693.423 1536.89 695.229 1533.35 Q697.057 1529.78 697.057 1522.67 Q697.057 1515.55 695.229 1512 Q693.423 1508.44 689.789 1508.44 M689.789 1504.73 Q695.599 1504.73 698.654 1509.34 Q701.733 1513.92 701.733 1522.67 Q701.733 1531.4 698.654 1536.01 Q695.599 1540.59 689.789 1540.59 Q683.979 1540.59 680.9 1536.01 Q677.844 1531.4 677.844 1522.67 Q677.844 1513.92 680.9 1509.34 Q683.979 1504.73 689.789 1504.73 Z\" fill=\"#000000\" fill-rule=\"evenodd\" fill-opacity=\"1\" /><path clip-path=\"url(#clip500)\" d=\"M 0 0 M706.803 1534.04 L711.687 1534.04 L711.687 1539.92 L706.803 1539.92 L706.803 1534.04 Z\" fill=\"#000000\" fill-rule=\"evenodd\" fill-opacity=\"1\" /><path clip-path=\"url(#clip500)\" d=\"M 0 0 M720.784 1535.98 L737.103 1535.98 L737.103 1539.92 L715.159 1539.92 L715.159 1535.98 Q717.821 1533.23 722.404 1528.6 Q727.011 1523.95 728.191 1522.61 Q730.437 1520.08 731.316 1518.35 Q732.219 1516.59 732.219 1514.9 Q732.219 1512.14 730.275 1510.41 Q728.353 1508.67 725.251 1508.67 Q723.052 1508.67 720.599 1509.43 Q718.168 1510.2 715.39 1511.75 L715.39 1507.03 Q718.214 1505.89 720.668 1505.31 Q723.122 1504.73 725.159 1504.73 Q730.529 1504.73 733.724 1507.42 Q736.918 1510.11 736.918 1514.6 Q736.918 1516.73 736.108 1518.65 Q735.321 1520.54 733.214 1523.14 Q732.636 1523.81 729.534 1527.03 Q726.432 1530.22 720.784 1535.98 Z\" fill=\"#000000\" fill-rule=\"evenodd\" fill-opacity=\"1\" /><path clip-path=\"url(#clip500)\" d=\"M 0 0 M742.219 1505.36 L760.575 1505.36 L760.575 1509.3 L746.501 1509.3 L746.501 1517.77 Q747.52 1517.42 748.538 1517.26 Q749.557 1517.07 750.575 1517.07 Q756.362 1517.07 759.742 1520.24 Q763.122 1523.42 763.122 1528.83 Q763.122 1534.41 759.649 1537.51 Q756.177 1540.59 749.858 1540.59 Q747.682 1540.59 745.413 1540.22 Q743.168 1539.85 740.761 1539.11 L740.761 1534.41 Q742.844 1535.54 745.066 1536.1 Q747.288 1536.66 749.765 1536.66 Q753.77 1536.66 756.108 1534.55 Q758.446 1532.44 758.446 1528.83 Q758.446 1525.22 756.108 1523.11 Q753.77 1521.01 749.765 1521.01 Q747.89 1521.01 746.015 1521.42 Q744.163 1521.84 742.219 1522.72 L742.219 1505.36 Z\" fill=\"#000000\" fill-rule=\"evenodd\" fill-opacity=\"1\" /><path clip-path=\"url(#clip500)\" d=\"M 0 0 M1219.51 1508.44 Q1215.9 1508.44 1214.07 1512 Q1212.27 1515.55 1212.27 1522.67 Q1212.27 1529.78 1214.07 1533.35 Q1215.9 1536.89 1219.51 1536.89 Q1223.14 1536.89 1224.95 1533.35 Q1226.78 1529.78 1226.78 1522.67 Q1226.78 1515.55 1224.95 1512 Q1223.14 1508.44 1219.51 1508.44 M1219.51 1504.73 Q1225.32 1504.73 1228.38 1509.34 Q1231.45 1513.92 1231.45 1522.67 Q1231.45 1531.4 1228.38 1536.01 Q1225.32 1540.59 1219.51 1540.59 Q1213.7 1540.59 1210.62 1536.01 Q1207.57 1531.4 1207.57 1522.67 Q1207.57 1513.92 1210.62 1509.34 Q1213.7 1504.73 1219.51 1504.73 Z\" fill=\"#000000\" fill-rule=\"evenodd\" fill-opacity=\"1\" /><path clip-path=\"url(#clip500)\" d=\"M 0 0 M1236.52 1534.04 L1241.41 1534.04 L1241.41 1539.92 L1236.52 1539.92 L1236.52 1534.04 Z\" fill=\"#000000\" fill-rule=\"evenodd\" fill-opacity=\"1\" /><path clip-path=\"url(#clip500)\" d=\"M 0 0 M1246.52 1505.36 L1264.88 1505.36 L1264.88 1509.3 L1250.81 1509.3 L1250.81 1517.77 Q1251.83 1517.42 1252.84 1517.26 Q1253.86 1517.07 1254.88 1517.07 Q1260.67 1517.07 1264.05 1520.24 Q1267.43 1523.42 1267.43 1528.83 Q1267.43 1534.41 1263.95 1537.51 Q1260.48 1540.59 1254.16 1540.59 Q1251.99 1540.59 1249.72 1540.22 Q1247.47 1539.85 1245.07 1539.11 L1245.07 1534.41 Q1247.15 1535.54 1249.37 1536.1 Q1251.59 1536.66 1254.07 1536.66 Q1258.07 1536.66 1260.41 1534.55 Q1262.75 1532.44 1262.75 1528.83 Q1262.75 1525.22 1260.41 1523.11 Q1258.07 1521.01 1254.07 1521.01 Q1252.2 1521.01 1250.32 1521.42 Q1248.47 1521.84 1246.52 1522.72 L1246.52 1505.36 Z\" fill=\"#000000\" fill-rule=\"evenodd\" fill-opacity=\"1\" /><path clip-path=\"url(#clip500)\" d=\"M 0 0 M1282.5 1508.44 Q1278.89 1508.44 1277.06 1512 Q1275.25 1515.55 1275.25 1522.67 Q1275.25 1529.78 1277.06 1533.35 Q1278.89 1536.89 1282.5 1536.89 Q1286.13 1536.89 1287.94 1533.35 Q1289.76 1529.78 1289.76 1522.67 Q1289.76 1515.55 1287.94 1512 Q1286.13 1508.44 1282.5 1508.44 M1282.5 1504.73 Q1288.31 1504.73 1291.36 1509.34 Q1294.44 1513.92 1294.44 1522.67 Q1294.44 1531.4 1291.36 1536.01 Q1288.31 1540.59 1282.5 1540.59 Q1276.69 1540.59 1273.61 1536.01 Q1270.55 1531.4 1270.55 1522.67 Q1270.55 1513.92 1273.61 1509.34 Q1276.69 1504.73 1282.5 1504.73 Z\" fill=\"#000000\" fill-rule=\"evenodd\" fill-opacity=\"1\" /><path clip-path=\"url(#clip500)\" d=\"M 0 0 M1750.48 1508.44 Q1746.87 1508.44 1745.04 1512 Q1743.24 1515.55 1743.24 1522.67 Q1743.24 1529.78 1745.04 1533.35 Q1746.87 1536.89 1750.48 1536.89 Q1754.12 1536.89 1755.92 1533.35 Q1757.75 1529.78 1757.75 1522.67 Q1757.75 1515.55 1755.92 1512 Q1754.12 1508.44 1750.48 1508.44 M1750.48 1504.73 Q1756.29 1504.73 1759.35 1509.34 Q1762.43 1513.92 1762.43 1522.67 Q1762.43 1531.4 1759.35 1536.01 Q1756.29 1540.59 1750.48 1540.59 Q1744.67 1540.59 1741.59 1536.01 Q1738.54 1531.4 1738.54 1522.67 Q1738.54 1513.92 1741.59 1509.34 Q1744.67 1504.73 1750.48 1504.73 Z\" fill=\"#000000\" fill-rule=\"evenodd\" fill-opacity=\"1\" /><path clip-path=\"url(#clip500)\" d=\"M 0 0 M1767.5 1534.04 L1772.38 1534.04 L1772.38 1539.92 L1767.5 1539.92 L1767.5 1534.04 Z\" fill=\"#000000\" fill-rule=\"evenodd\" fill-opacity=\"1\" /><path clip-path=\"url(#clip500)\" d=\"M 0 0 M1776.27 1505.36 L1798.49 1505.36 L1798.49 1507.35 L1785.94 1539.92 L1781.06 1539.92 L1792.87 1509.3 L1776.27 1509.3 L1776.27 1505.36 Z\" fill=\"#000000\" fill-rule=\"evenodd\" fill-opacity=\"1\" /><path clip-path=\"url(#clip500)\" d=\"M 0 0 M1803.61 1505.36 L1821.96 1505.36 L1821.96 1509.3 L1807.89 1509.3 L1807.89 1517.77 Q1808.91 1517.42 1809.93 1517.26 Q1810.94 1517.07 1811.96 1517.07 Q1817.75 1517.07 1821.13 1520.24 Q1824.51 1523.42 1824.51 1528.83 Q1824.51 1534.41 1821.04 1537.51 Q1817.56 1540.59 1811.25 1540.59 Q1809.07 1540.59 1806.8 1540.22 Q1804.56 1539.85 1802.15 1539.11 L1802.15 1534.41 Q1804.23 1535.54 1806.45 1536.1 Q1808.68 1536.66 1811.15 1536.66 Q1815.16 1536.66 1817.5 1534.55 Q1819.83 1532.44 1819.83 1528.83 Q1819.83 1525.22 1817.5 1523.11 Q1815.16 1521.01 1811.15 1521.01 Q1809.28 1521.01 1807.4 1521.42 Q1805.55 1521.84 1803.61 1522.72 L1803.61 1505.36 Z\" fill=\"#000000\" fill-rule=\"evenodd\" fill-opacity=\"1\" /><path clip-path=\"url(#clip500)\" d=\"M 0 0 M2270.44 1535.98 L2278.07 1535.98 L2278.07 1509.62 L2269.76 1511.29 L2269.76 1507.03 L2278.03 1505.36 L2282.7 1505.36 L2282.7 1535.98 L2290.34 1535.98 L2290.34 1539.92 L2270.44 1539.92 L2270.44 1535.98 Z\" fill=\"#000000\" fill-rule=\"evenodd\" fill-opacity=\"1\" /><path clip-path=\"url(#clip500)\" d=\"M 0 0 M2295.41 1534.04 L2300.3 1534.04 L2300.3 1539.92 L2295.41 1539.92 L2295.41 1534.04 Z\" fill=\"#000000\" fill-rule=\"evenodd\" fill-opacity=\"1\" /><path clip-path=\"url(#clip500)\" d=\"M 0 0 M2315.37 1508.44 Q2311.75 1508.44 2309.93 1512 Q2308.12 1515.55 2308.12 1522.67 Q2308.12 1529.78 2309.93 1533.35 Q2311.75 1536.89 2315.37 1536.89 Q2319 1536.89 2320.81 1533.35 Q2322.63 1529.78 2322.63 1522.67 Q2322.63 1515.55 2320.81 1512 Q2319 1508.44 2315.37 1508.44 M2315.37 1504.73 Q2321.18 1504.73 2324.23 1509.34 Q2327.31 1513.92 2327.31 1522.67 Q2327.31 1531.4 2324.23 1536.01 Q2321.18 1540.59 2315.37 1540.59 Q2309.56 1540.59 2306.48 1536.01 Q2303.42 1531.4 2303.42 1522.67 Q2303.42 1513.92 2306.48 1509.34 Q2309.56 1504.73 2315.37 1504.73 Z\" fill=\"#000000\" fill-rule=\"evenodd\" fill-opacity=\"1\" /><path clip-path=\"url(#clip500)\" d=\"M 0 0 M2342.38 1508.44 Q2338.77 1508.44 2336.94 1512 Q2335.13 1515.55 2335.13 1522.67 Q2335.13 1529.78 2336.94 1533.35 Q2338.77 1536.89 2342.38 1536.89 Q2346.01 1536.89 2347.82 1533.35 Q2349.65 1529.78 2349.65 1522.67 Q2349.65 1515.55 2347.82 1512 Q2346.01 1508.44 2342.38 1508.44 M2342.38 1504.73 Q2348.19 1504.73 2351.24 1509.34 Q2354.32 1513.92 2354.32 1522.67 Q2354.32 1531.4 2351.24 1536.01 Q2348.19 1540.59 2342.38 1540.59 Q2336.57 1540.59 2333.49 1536.01 Q2330.43 1531.4 2330.43 1522.67 Q2330.43 1513.92 2333.49 1509.34 Q2336.57 1504.73 2342.38 1504.73 Z\" fill=\"#000000\" fill-rule=\"evenodd\" fill-opacity=\"1\" /><path clip-path=\"url(#clip500)\" d=\"M 0 0 M62.9921 1448.11 L75.4689 1448.11 L75.4689 1451.91 L62.9921 1451.91 L62.9921 1448.11 Z\" fill=\"#000000\" fill-rule=\"evenodd\" fill-opacity=\"1\" /><path clip-path=\"url(#clip500)\" d=\"M 0 0 M93.3855 1432.51 L81.58 1450.96 L93.3855 1450.96 L93.3855 1432.51 M92.1586 1428.44 L98.0382 1428.44 L98.0382 1450.96 L102.969 1450.96 L102.969 1454.85 L98.0382 1454.85 L98.0382 1463 L93.3855 1463 L93.3855 1454.85 L77.7837 1454.85 L77.7837 1450.33 L92.1586 1428.44 Z\" fill=\"#000000\" fill-rule=\"evenodd\" fill-opacity=\"1\" /><path clip-path=\"url(#clip500)\" d=\"M 0 0 M65.0754 1108.68 L77.5522 1108.68 L77.5522 1112.47 L65.0754 1112.47 L65.0754 1108.68 Z\" fill=\"#000000\" fill-rule=\"evenodd\" fill-opacity=\"1\" /><path clip-path=\"url(#clip500)\" d=\"M 0 0 M86.6494 1119.63 L102.969 1119.63 L102.969 1123.56 L81.0244 1123.56 L81.0244 1119.63 Q83.6865 1116.87 88.2698 1112.24 Q92.8762 1107.59 94.0568 1106.25 Q96.3021 1103.72 97.1818 1101.99 Q98.0845 1100.23 98.0845 1098.54 Q98.0845 1095.78 96.1401 1094.05 Q94.2188 1092.31 91.117 1092.31 Q88.9179 1092.31 86.4642 1093.07 Q84.0337 1093.84 81.2559 1095.39 L81.2559 1090.67 Q84.08 1089.53 86.5337 1088.95 Q88.9874 1088.38 91.0244 1088.38 Q96.3947 1088.38 99.5892 1091.06 Q102.784 1093.75 102.784 1098.24 Q102.784 1100.37 101.973 1102.29 Q101.186 1104.19 99.0799 1106.78 Q98.5012 1107.45 95.3994 1110.67 Q92.2975 1113.86 86.6494 1119.63 Z\" fill=\"#000000\" fill-rule=\"evenodd\" fill-opacity=\"1\" /><path clip-path=\"url(#clip500)\" d=\"M 0 0 M91.0244 752.645 Q87.4133 752.645 85.5846 756.209 Q83.7791 759.751 83.7791 766.881 Q83.7791 773.987 85.5846 777.552 Q87.4133 781.094 91.0244 781.094 Q94.6586 781.094 96.4642 777.552 Q98.2929 773.987 98.2929 766.881 Q98.2929 759.751 96.4642 756.209 Q94.6586 752.645 91.0244 752.645 M91.0244 748.941 Q96.8345 748.941 99.8901 753.547 Q102.969 758.131 102.969 766.881 Q102.969 775.608 99.8901 780.214 Q96.8345 784.797 91.0244 784.797 Q85.2142 784.797 82.1355 780.214 Q79.08 775.608 79.08 766.881 Q79.08 758.131 82.1355 753.547 Q85.2142 748.941 91.0244 748.941 Z\" fill=\"#000000\" fill-rule=\"evenodd\" fill-opacity=\"1\" /><path clip-path=\"url(#clip500)\" d=\"M 0 0 M86.6494 440.756 L102.969 440.756 L102.969 444.691 L81.0244 444.691 L81.0244 440.756 Q83.6865 438.001 88.2698 433.372 Q92.8762 428.719 94.0568 427.376 Q96.3021 424.853 97.1818 423.117 Q98.0845 421.358 98.0845 419.668 Q98.0845 416.914 96.1401 415.177 Q94.2188 413.441 91.117 413.441 Q88.9179 413.441 86.4642 414.205 Q84.0337 414.969 81.2559 416.52 L81.2559 411.798 Q84.08 410.664 86.5337 410.085 Q88.9874 409.506 91.0244 409.506 Q96.3947 409.506 99.5892 412.191 Q102.784 414.876 102.784 419.367 Q102.784 421.497 101.973 423.418 Q101.186 425.316 99.0799 427.909 Q98.5012 428.58 95.3994 431.798 Q92.2975 434.992 86.6494 440.756 Z\" fill=\"#000000\" fill-rule=\"evenodd\" fill-opacity=\"1\" /><path clip-path=\"url(#clip500)\" d=\"M 0 0 M93.3855 74.7703 L81.58 93.2193 L93.3855 93.2193 L93.3855 74.7703 M92.1586 70.6963 L98.0382 70.6963 L98.0382 93.2193 L102.969 93.2193 L102.969 97.1082 L98.0382 97.1082 L98.0382 105.256 L93.3855 105.256 L93.3855 97.1082 L77.7837 97.1082 L77.7837 92.5943 L92.1586 70.6963 Z\" fill=\"#000000\" fill-rule=\"evenodd\" fill-opacity=\"1\" /><polyline clip-path=\"url(#clip502)\" style=\"stroke:#009af9; stroke-width:4; stroke-opacity:1; fill:none\" points=\"\n",
       "  720.483,1445.72 804.305,1428.74 886.005,1411.77 965.583,1394.8 1043.04,1377.83 1118.37,1360.86 1191.58,1343.89 1262.67,1326.91 1331.64,1309.94 1398.49,1292.97 \n",
       "  1463.21,1276 1525.81,1259.03 1586.29,1242.05 1644.65,1225.08 1700.88,1208.11 1755,1191.14 1806.99,1174.17 1856.86,1157.2 1904.6,1140.22 1950.23,1123.25 \n",
       "  1993.73,1106.28 2035.11,1089.31 2074.37,1072.34 2111.51,1055.37 2146.52,1038.39 2179.41,1021.42 2210.18,1004.45 2238.83,987.479 2265.36,970.507 2289.76,953.535 \n",
       "  189.963,936.563 210.123,919.592 228.16,902.62 244.076,885.648 257.869,868.676 269.541,851.705 279.09,834.733 286.517,817.761 291.823,800.789 295.006,783.818 \n",
       "  296.067,766.846 295.006,749.874 291.823,732.902 286.517,715.931 279.09,698.959 269.541,681.987 257.869,665.016 244.076,648.044 228.16,631.072 210.123,614.1 \n",
       "  189.963,597.129 2289.76,580.157 2265.36,563.185 2238.83,546.213 2210.18,529.242 2179.41,512.27 2146.52,495.298 2111.51,478.326 2074.37,461.355 2035.11,444.383 \n",
       "  1993.73,427.411 1950.23,410.439 1904.6,393.468 1856.86,376.496 1806.99,359.524 1755,342.552 1700.88,325.581 1644.65,308.609 1586.29,291.637 1525.81,274.665 \n",
       "  1463.21,257.694 1398.49,240.722 1331.64,223.75 1262.67,206.778 1191.58,189.807 1118.37,172.835 1043.04,155.863 965.583,138.892 886.005,121.92 804.305,104.948 \n",
       "  720.483,87.9763 \n",
       "  \"/>\n",
       "<polyline clip-path=\"url(#clip502)\" style=\"stroke:#e26f46; stroke-width:4; stroke-opacity:1; fill:none\" points=\"\n",
       "  189.963,1445.72 189.963,1428.74 189.963,1411.77 189.963,1394.8 189.963,1377.83 189.963,1360.86 189.963,1343.89 189.963,1326.91 189.963,1309.94 189.963,1292.97 \n",
       "  189.963,1276 189.963,1259.03 189.963,1242.05 189.963,1225.08 189.963,1208.11 189.963,1191.14 189.963,1174.17 189.963,1157.2 189.963,1140.22 189.963,1123.25 \n",
       "  189.963,1106.28 189.963,1089.31 189.963,1072.34 189.963,1055.37 189.963,1038.39 189.963,1021.42 189.963,1004.45 189.963,987.479 189.963,970.507 189.963,953.535 \n",
       "  189.963,936.563 189.963,919.592 189.963,902.62 189.963,885.648 189.963,868.676 189.963,851.705 189.963,834.733 189.963,817.761 189.963,800.789 189.963,783.818 \n",
       "  189.963,766.846 189.963,749.874 189.963,732.902 189.963,715.931 189.963,698.959 189.963,681.987 189.963,665.016 189.963,648.044 189.963,631.072 189.963,614.1 \n",
       "  189.963,597.129 189.963,580.157 189.963,563.185 189.963,546.213 189.963,529.242 189.963,512.27 189.963,495.298 189.963,478.326 189.963,461.355 189.963,444.383 \n",
       "  189.963,427.411 189.963,410.439 189.963,393.468 189.963,376.496 189.963,359.524 189.963,342.552 189.963,325.581 189.963,308.609 189.963,291.637 189.963,274.665 \n",
       "  189.963,257.694 189.963,240.722 189.963,223.75 189.963,206.778 189.963,189.807 189.963,172.835 189.963,155.863 189.963,138.892 189.963,121.92 189.963,104.948 \n",
       "  189.963,87.9763 \n",
       "  \"/>\n",
       "<circle clip-path=\"url(#clip502)\" cx=\"1572.62\" cy=\"1245.95\" r=\"14\" fill=\"#3da44d\" fill-rule=\"evenodd\" fill-opacity=\"1\" stroke=\"#000000\" stroke-opacity=\"1\" stroke-width=\"3.2\"/>\n",
       "<circle clip-path=\"url(#clip502)\" cx=\"1640.28\" cy=\"307.316\" r=\"14\" fill=\"#3da44d\" fill-rule=\"evenodd\" fill-opacity=\"1\" stroke=\"#000000\" stroke-opacity=\"1\" stroke-width=\"3.2\"/>\n",
       "<circle clip-path=\"url(#clip502)\" cx=\"295.663\" cy=\"756.381\" r=\"14\" fill=\"#c271d2\" fill-rule=\"evenodd\" fill-opacity=\"1\" stroke=\"#000000\" stroke-opacity=\"1\" stroke-width=\"3.2\"/>\n",
       "<circle clip-path=\"url(#clip502)\" cx=\"189.963\" cy=\"1329.74\" r=\"14\" fill=\"#ac8d18\" fill-rule=\"evenodd\" fill-opacity=\"1\" stroke=\"#000000\" stroke-opacity=\"1\" stroke-width=\"3.2\"/>\n",
       "<circle clip-path=\"url(#clip502)\" cx=\"189.963\" cy=\"203.957\" r=\"14\" fill=\"#ac8d18\" fill-rule=\"evenodd\" fill-opacity=\"1\" stroke=\"#000000\" stroke-opacity=\"1\" stroke-width=\"3.2\"/>\n",
       "<circle clip-path=\"url(#clip502)\" cx=\"189.963\" cy=\"766.846\" r=\"14\" fill=\"#00a9ad\" fill-rule=\"evenodd\" fill-opacity=\"1\" stroke=\"#000000\" stroke-opacity=\"1\" stroke-width=\"3.2\"/>\n",
       "</svg>\n"
      ]
     },
     "execution_count": 20,
     "metadata": {},
     "output_type": "execute_result"
    }
   ],
   "source": [
    "listaYB = [y for y in -4.0:0.1:4.0]\n",
    "listaXB = zeros(length(listaYB))\n",
    "plot(listaX, listaY, label = \"\")\n",
    "plot!(listaXB, listaYB, label = \"\")\n",
    "scatter!([cerosXAa,cerosXAb],[cerosYAa, cerosYAb], label = \"\")\n",
    "scatter!([cerosXBa,cerosXBb],[cerosYBa, cerosYBb], label = \"\")"
   ]
  },
  {
   "cell_type": "markdown",
   "metadata": {},
   "source": [
    "### ⭐ Siguiente iteración."
   ]
  },
  {
   "cell_type": "code",
   "execution_count": 21,
   "metadata": {
    "scrolled": true
   },
   "outputs": [
    {
     "data": {
      "text/plain": [
       "MapeoA3Y (generic function with 1 method)"
      ]
     },
     "execution_count": 21,
     "metadata": {},
     "output_type": "execute_result"
    }
   ],
   "source": [
    "MapeoA3X(y) = MapeoAX(MapeoAX(MapeoAX(y)))\n",
    "MapeoA3Y(y) = MapeoAY(MapeoAY(MapeoAY(y)))"
   ]
  },
  {
   "cell_type": "code",
   "execution_count": 22,
   "metadata": {},
   "outputs": [
    {
     "data": {
      "text/plain": [
       "1-element Array{Float64,1}:\n",
       " 0.09230829712559699"
      ]
     },
     "execution_count": 22,
     "metadata": {},
     "output_type": "execute_result"
    }
   ],
   "source": [
    "ceros3YAa = find_zeros(MapeoA3X,-4.0,4.0)\n",
    "ceros3YAb = find_zeros(MapeoA3Y,-4.0,4.0)"
   ]
  },
  {
   "cell_type": "code",
   "execution_count": 23,
   "metadata": {},
   "outputs": [
    {
     "data": {
      "text/plain": [
       "1-element Array{Float64,1}:\n",
       " 0.049573958914088626"
      ]
     },
     "execution_count": 23,
     "metadata": {},
     "output_type": "execute_result"
    }
   ],
   "source": [
    "ceros3XAa = [x_puntoF(ceros3YAa[i],a) for i in 1:length(ceros3YAa)]\n",
    "ceros3XAb = [x_puntoF(ceros3YAb[i],a) for i in 1:length(ceros3YAb)]"
   ]
  },
  {
   "cell_type": "code",
   "execution_count": 24,
   "metadata": {
    "scrolled": true
   },
   "outputs": [
    {
     "data": {
      "image/svg+xml": [
       "<?xml version=\"1.0\" encoding=\"utf-8\"?>\n",
       "<svg xmlns=\"http://www.w3.org/2000/svg\" xmlns:xlink=\"http://www.w3.org/1999/xlink\" width=\"600\" height=\"400\" viewBox=\"0 0 2400 1600\">\n",
       "<defs>\n",
       "  <clipPath id=\"clip540\">\n",
       "    <rect x=\"0\" y=\"0\" width=\"2400\" height=\"1600\"/>\n",
       "  </clipPath>\n",
       "</defs>\n",
       "<path clip-path=\"url(#clip540)\" d=\"\n",
       "M0 1600 L2400 1600 L2400 0 L0 0  Z\n",
       "  \" fill=\"#ffffff\" fill-rule=\"evenodd\" fill-opacity=\"1\"/>\n",
       "<defs>\n",
       "  <clipPath id=\"clip541\">\n",
       "    <rect x=\"480\" y=\"0\" width=\"1681\" height=\"1600\"/>\n",
       "  </clipPath>\n",
       "</defs>\n",
       "<path clip-path=\"url(#clip540)\" d=\"\n",
       "M126.969 1486.45 L2352.76 1486.45 L2352.76 47.2441 L126.969 47.2441  Z\n",
       "  \" fill=\"#ffffff\" fill-rule=\"evenodd\" fill-opacity=\"1\"/>\n",
       "<defs>\n",
       "  <clipPath id=\"clip542\">\n",
       "    <rect x=\"126\" y=\"47\" width=\"2227\" height=\"1440\"/>\n",
       "  </clipPath>\n",
       "</defs>\n",
       "<polyline clip-path=\"url(#clip542)\" style=\"stroke:#000000; stroke-width:2; stroke-opacity:0.1; fill:none\" points=\"\n",
       "  189.963,1486.45 189.963,47.2441 \n",
       "  \"/>\n",
       "<polyline clip-path=\"url(#clip542)\" style=\"stroke:#000000; stroke-width:2; stroke-opacity:0.1; fill:none\" points=\"\n",
       "  720.483,1486.45 720.483,47.2441 \n",
       "  \"/>\n",
       "<polyline clip-path=\"url(#clip542)\" style=\"stroke:#000000; stroke-width:2; stroke-opacity:0.1; fill:none\" points=\"\n",
       "  1251,1486.45 1251,47.2441 \n",
       "  \"/>\n",
       "<polyline clip-path=\"url(#clip542)\" style=\"stroke:#000000; stroke-width:2; stroke-opacity:0.1; fill:none\" points=\"\n",
       "  1781.52,1486.45 1781.52,47.2441 \n",
       "  \"/>\n",
       "<polyline clip-path=\"url(#clip542)\" style=\"stroke:#000000; stroke-width:2; stroke-opacity:0.1; fill:none\" points=\"\n",
       "  2312.04,1486.45 2312.04,47.2441 \n",
       "  \"/>\n",
       "<polyline clip-path=\"url(#clip542)\" style=\"stroke:#000000; stroke-width:2; stroke-opacity:0.1; fill:none\" points=\"\n",
       "  126.969,1445.72 2352.76,1445.72 \n",
       "  \"/>\n",
       "<polyline clip-path=\"url(#clip542)\" style=\"stroke:#000000; stroke-width:2; stroke-opacity:0.1; fill:none\" points=\"\n",
       "  126.969,1106.28 2352.76,1106.28 \n",
       "  \"/>\n",
       "<polyline clip-path=\"url(#clip542)\" style=\"stroke:#000000; stroke-width:2; stroke-opacity:0.1; fill:none\" points=\"\n",
       "  126.969,766.846 2352.76,766.846 \n",
       "  \"/>\n",
       "<polyline clip-path=\"url(#clip542)\" style=\"stroke:#000000; stroke-width:2; stroke-opacity:0.1; fill:none\" points=\"\n",
       "  126.969,427.411 2352.76,427.411 \n",
       "  \"/>\n",
       "<polyline clip-path=\"url(#clip542)\" style=\"stroke:#000000; stroke-width:2; stroke-opacity:0.1; fill:none\" points=\"\n",
       "  126.969,87.9763 2352.76,87.9763 \n",
       "  \"/>\n",
       "<polyline clip-path=\"url(#clip540)\" style=\"stroke:#000000; stroke-width:4; stroke-opacity:1; fill:none\" points=\"\n",
       "  126.969,1486.45 2352.76,1486.45 \n",
       "  \"/>\n",
       "<polyline clip-path=\"url(#clip540)\" style=\"stroke:#000000; stroke-width:4; stroke-opacity:1; fill:none\" points=\"\n",
       "  126.969,1486.45 126.969,47.2441 \n",
       "  \"/>\n",
       "<polyline clip-path=\"url(#clip540)\" style=\"stroke:#000000; stroke-width:4; stroke-opacity:1; fill:none\" points=\"\n",
       "  189.963,1486.45 189.963,1469.18 \n",
       "  \"/>\n",
       "<polyline clip-path=\"url(#clip540)\" style=\"stroke:#000000; stroke-width:4; stroke-opacity:1; fill:none\" points=\"\n",
       "  720.483,1486.45 720.483,1469.18 \n",
       "  \"/>\n",
       "<polyline clip-path=\"url(#clip540)\" style=\"stroke:#000000; stroke-width:4; stroke-opacity:1; fill:none\" points=\"\n",
       "  1251,1486.45 1251,1469.18 \n",
       "  \"/>\n",
       "<polyline clip-path=\"url(#clip540)\" style=\"stroke:#000000; stroke-width:4; stroke-opacity:1; fill:none\" points=\"\n",
       "  1781.52,1486.45 1781.52,1469.18 \n",
       "  \"/>\n",
       "<polyline clip-path=\"url(#clip540)\" style=\"stroke:#000000; stroke-width:4; stroke-opacity:1; fill:none\" points=\"\n",
       "  2312.04,1486.45 2312.04,1469.18 \n",
       "  \"/>\n",
       "<polyline clip-path=\"url(#clip540)\" style=\"stroke:#000000; stroke-width:4; stroke-opacity:1; fill:none\" points=\"\n",
       "  126.969,1445.72 153.678,1445.72 \n",
       "  \"/>\n",
       "<polyline clip-path=\"url(#clip540)\" style=\"stroke:#000000; stroke-width:4; stroke-opacity:1; fill:none\" points=\"\n",
       "  126.969,1106.28 153.678,1106.28 \n",
       "  \"/>\n",
       "<polyline clip-path=\"url(#clip540)\" style=\"stroke:#000000; stroke-width:4; stroke-opacity:1; fill:none\" points=\"\n",
       "  126.969,766.846 153.678,766.846 \n",
       "  \"/>\n",
       "<polyline clip-path=\"url(#clip540)\" style=\"stroke:#000000; stroke-width:4; stroke-opacity:1; fill:none\" points=\"\n",
       "  126.969,427.411 153.678,427.411 \n",
       "  \"/>\n",
       "<polyline clip-path=\"url(#clip540)\" style=\"stroke:#000000; stroke-width:4; stroke-opacity:1; fill:none\" points=\"\n",
       "  126.969,87.9763 153.678,87.9763 \n",
       "  \"/>\n",
       "<path clip-path=\"url(#clip540)\" d=\"M 0 0 M157.972 1508.44 Q154.361 1508.44 152.532 1512 Q150.727 1515.55 150.727 1522.67 Q150.727 1529.78 152.532 1533.35 Q154.361 1536.89 157.972 1536.89 Q161.606 1536.89 163.412 1533.35 Q165.241 1529.78 165.241 1522.67 Q165.241 1515.55 163.412 1512 Q161.606 1508.44 157.972 1508.44 M157.972 1504.73 Q163.782 1504.73 166.838 1509.34 Q169.917 1513.92 169.917 1522.67 Q169.917 1531.4 166.838 1536.01 Q163.782 1540.59 157.972 1540.59 Q152.162 1540.59 149.083 1536.01 Q146.028 1531.4 146.028 1522.67 Q146.028 1513.92 149.083 1509.34 Q152.162 1504.73 157.972 1504.73 Z\" fill=\"#000000\" fill-rule=\"evenodd\" fill-opacity=\"1\" /><path clip-path=\"url(#clip540)\" d=\"M 0 0 M174.986 1534.04 L179.87 1534.04 L179.87 1539.92 L174.986 1539.92 L174.986 1534.04 Z\" fill=\"#000000\" fill-rule=\"evenodd\" fill-opacity=\"1\" /><path clip-path=\"url(#clip540)\" d=\"M 0 0 M194.94 1508.44 Q191.328 1508.44 189.5 1512 Q187.694 1515.55 187.694 1522.67 Q187.694 1529.78 189.5 1533.35 Q191.328 1536.89 194.94 1536.89 Q198.574 1536.89 200.379 1533.35 Q202.208 1529.78 202.208 1522.67 Q202.208 1515.55 200.379 1512 Q198.574 1508.44 194.94 1508.44 M194.94 1504.73 Q200.75 1504.73 203.805 1509.34 Q206.884 1513.92 206.884 1522.67 Q206.884 1531.4 203.805 1536.01 Q200.75 1540.59 194.94 1540.59 Q189.129 1540.59 186.051 1536.01 Q182.995 1531.4 182.995 1522.67 Q182.995 1513.92 186.051 1509.34 Q189.129 1504.73 194.94 1504.73 Z\" fill=\"#000000\" fill-rule=\"evenodd\" fill-opacity=\"1\" /><path clip-path=\"url(#clip540)\" d=\"M 0 0 M221.953 1508.44 Q218.342 1508.44 216.514 1512 Q214.708 1515.55 214.708 1522.67 Q214.708 1529.78 216.514 1533.35 Q218.342 1536.89 221.953 1536.89 Q225.588 1536.89 227.393 1533.35 Q229.222 1529.78 229.222 1522.67 Q229.222 1515.55 227.393 1512 Q225.588 1508.44 221.953 1508.44 M221.953 1504.73 Q227.763 1504.73 230.819 1509.34 Q233.898 1513.92 233.898 1522.67 Q233.898 1531.4 230.819 1536.01 Q227.763 1540.59 221.953 1540.59 Q216.143 1540.59 213.064 1536.01 Q210.009 1531.4 210.009 1522.67 Q210.009 1513.92 213.064 1509.34 Q216.143 1504.73 221.953 1504.73 Z\" fill=\"#000000\" fill-rule=\"evenodd\" fill-opacity=\"1\" /><path clip-path=\"url(#clip540)\" d=\"M 0 0 M689.789 1508.44 Q686.178 1508.44 684.349 1512 Q682.543 1515.55 682.543 1522.67 Q682.543 1529.78 684.349 1533.35 Q686.178 1536.89 689.789 1536.89 Q693.423 1536.89 695.229 1533.35 Q697.057 1529.78 697.057 1522.67 Q697.057 1515.55 695.229 1512 Q693.423 1508.44 689.789 1508.44 M689.789 1504.73 Q695.599 1504.73 698.654 1509.34 Q701.733 1513.92 701.733 1522.67 Q701.733 1531.4 698.654 1536.01 Q695.599 1540.59 689.789 1540.59 Q683.979 1540.59 680.9 1536.01 Q677.844 1531.4 677.844 1522.67 Q677.844 1513.92 680.9 1509.34 Q683.979 1504.73 689.789 1504.73 Z\" fill=\"#000000\" fill-rule=\"evenodd\" fill-opacity=\"1\" /><path clip-path=\"url(#clip540)\" d=\"M 0 0 M706.803 1534.04 L711.687 1534.04 L711.687 1539.92 L706.803 1539.92 L706.803 1534.04 Z\" fill=\"#000000\" fill-rule=\"evenodd\" fill-opacity=\"1\" /><path clip-path=\"url(#clip540)\" d=\"M 0 0 M720.784 1535.98 L737.103 1535.98 L737.103 1539.92 L715.159 1539.92 L715.159 1535.98 Q717.821 1533.23 722.404 1528.6 Q727.011 1523.95 728.191 1522.61 Q730.437 1520.08 731.316 1518.35 Q732.219 1516.59 732.219 1514.9 Q732.219 1512.14 730.275 1510.41 Q728.353 1508.67 725.251 1508.67 Q723.052 1508.67 720.599 1509.43 Q718.168 1510.2 715.39 1511.75 L715.39 1507.03 Q718.214 1505.89 720.668 1505.31 Q723.122 1504.73 725.159 1504.73 Q730.529 1504.73 733.724 1507.42 Q736.918 1510.11 736.918 1514.6 Q736.918 1516.73 736.108 1518.65 Q735.321 1520.54 733.214 1523.14 Q732.636 1523.81 729.534 1527.03 Q726.432 1530.22 720.784 1535.98 Z\" fill=\"#000000\" fill-rule=\"evenodd\" fill-opacity=\"1\" /><path clip-path=\"url(#clip540)\" d=\"M 0 0 M742.219 1505.36 L760.575 1505.36 L760.575 1509.3 L746.501 1509.3 L746.501 1517.77 Q747.52 1517.42 748.538 1517.26 Q749.557 1517.07 750.575 1517.07 Q756.362 1517.07 759.742 1520.24 Q763.122 1523.42 763.122 1528.83 Q763.122 1534.41 759.649 1537.51 Q756.177 1540.59 749.858 1540.59 Q747.682 1540.59 745.413 1540.22 Q743.168 1539.85 740.761 1539.11 L740.761 1534.41 Q742.844 1535.54 745.066 1536.1 Q747.288 1536.66 749.765 1536.66 Q753.77 1536.66 756.108 1534.55 Q758.446 1532.44 758.446 1528.83 Q758.446 1525.22 756.108 1523.11 Q753.77 1521.01 749.765 1521.01 Q747.89 1521.01 746.015 1521.42 Q744.163 1521.84 742.219 1522.72 L742.219 1505.36 Z\" fill=\"#000000\" fill-rule=\"evenodd\" fill-opacity=\"1\" /><path clip-path=\"url(#clip540)\" d=\"M 0 0 M1219.51 1508.44 Q1215.9 1508.44 1214.07 1512 Q1212.27 1515.55 1212.27 1522.67 Q1212.27 1529.78 1214.07 1533.35 Q1215.9 1536.89 1219.51 1536.89 Q1223.14 1536.89 1224.95 1533.35 Q1226.78 1529.78 1226.78 1522.67 Q1226.78 1515.55 1224.95 1512 Q1223.14 1508.44 1219.51 1508.44 M1219.51 1504.73 Q1225.32 1504.73 1228.38 1509.34 Q1231.45 1513.92 1231.45 1522.67 Q1231.45 1531.4 1228.38 1536.01 Q1225.32 1540.59 1219.51 1540.59 Q1213.7 1540.59 1210.62 1536.01 Q1207.57 1531.4 1207.57 1522.67 Q1207.57 1513.92 1210.62 1509.34 Q1213.7 1504.73 1219.51 1504.73 Z\" fill=\"#000000\" fill-rule=\"evenodd\" fill-opacity=\"1\" /><path clip-path=\"url(#clip540)\" d=\"M 0 0 M1236.52 1534.04 L1241.41 1534.04 L1241.41 1539.92 L1236.52 1539.92 L1236.52 1534.04 Z\" fill=\"#000000\" fill-rule=\"evenodd\" fill-opacity=\"1\" /><path clip-path=\"url(#clip540)\" d=\"M 0 0 M1246.52 1505.36 L1264.88 1505.36 L1264.88 1509.3 L1250.81 1509.3 L1250.81 1517.77 Q1251.83 1517.42 1252.84 1517.26 Q1253.86 1517.07 1254.88 1517.07 Q1260.67 1517.07 1264.05 1520.24 Q1267.43 1523.42 1267.43 1528.83 Q1267.43 1534.41 1263.95 1537.51 Q1260.48 1540.59 1254.16 1540.59 Q1251.99 1540.59 1249.72 1540.22 Q1247.47 1539.85 1245.07 1539.11 L1245.07 1534.41 Q1247.15 1535.54 1249.37 1536.1 Q1251.59 1536.66 1254.07 1536.66 Q1258.07 1536.66 1260.41 1534.55 Q1262.75 1532.44 1262.75 1528.83 Q1262.75 1525.22 1260.41 1523.11 Q1258.07 1521.01 1254.07 1521.01 Q1252.2 1521.01 1250.32 1521.42 Q1248.47 1521.84 1246.52 1522.72 L1246.52 1505.36 Z\" fill=\"#000000\" fill-rule=\"evenodd\" fill-opacity=\"1\" /><path clip-path=\"url(#clip540)\" d=\"M 0 0 M1282.5 1508.44 Q1278.89 1508.44 1277.06 1512 Q1275.25 1515.55 1275.25 1522.67 Q1275.25 1529.78 1277.06 1533.35 Q1278.89 1536.89 1282.5 1536.89 Q1286.13 1536.89 1287.94 1533.35 Q1289.76 1529.78 1289.76 1522.67 Q1289.76 1515.55 1287.94 1512 Q1286.13 1508.44 1282.5 1508.44 M1282.5 1504.73 Q1288.31 1504.73 1291.36 1509.34 Q1294.44 1513.92 1294.44 1522.67 Q1294.44 1531.4 1291.36 1536.01 Q1288.31 1540.59 1282.5 1540.59 Q1276.69 1540.59 1273.61 1536.01 Q1270.55 1531.4 1270.55 1522.67 Q1270.55 1513.92 1273.61 1509.34 Q1276.69 1504.73 1282.5 1504.73 Z\" fill=\"#000000\" fill-rule=\"evenodd\" fill-opacity=\"1\" /><path clip-path=\"url(#clip540)\" d=\"M 0 0 M1750.48 1508.44 Q1746.87 1508.44 1745.04 1512 Q1743.24 1515.55 1743.24 1522.67 Q1743.24 1529.78 1745.04 1533.35 Q1746.87 1536.89 1750.48 1536.89 Q1754.12 1536.89 1755.92 1533.35 Q1757.75 1529.78 1757.75 1522.67 Q1757.75 1515.55 1755.92 1512 Q1754.12 1508.44 1750.48 1508.44 M1750.48 1504.73 Q1756.29 1504.73 1759.35 1509.34 Q1762.43 1513.92 1762.43 1522.67 Q1762.43 1531.4 1759.35 1536.01 Q1756.29 1540.59 1750.48 1540.59 Q1744.67 1540.59 1741.59 1536.01 Q1738.54 1531.4 1738.54 1522.67 Q1738.54 1513.92 1741.59 1509.34 Q1744.67 1504.73 1750.48 1504.73 Z\" fill=\"#000000\" fill-rule=\"evenodd\" fill-opacity=\"1\" /><path clip-path=\"url(#clip540)\" d=\"M 0 0 M1767.5 1534.04 L1772.38 1534.04 L1772.38 1539.92 L1767.5 1539.92 L1767.5 1534.04 Z\" fill=\"#000000\" fill-rule=\"evenodd\" fill-opacity=\"1\" /><path clip-path=\"url(#clip540)\" d=\"M 0 0 M1776.27 1505.36 L1798.49 1505.36 L1798.49 1507.35 L1785.94 1539.92 L1781.06 1539.92 L1792.87 1509.3 L1776.27 1509.3 L1776.27 1505.36 Z\" fill=\"#000000\" fill-rule=\"evenodd\" fill-opacity=\"1\" /><path clip-path=\"url(#clip540)\" d=\"M 0 0 M1803.61 1505.36 L1821.96 1505.36 L1821.96 1509.3 L1807.89 1509.3 L1807.89 1517.77 Q1808.91 1517.42 1809.93 1517.26 Q1810.94 1517.07 1811.96 1517.07 Q1817.75 1517.07 1821.13 1520.24 Q1824.51 1523.42 1824.51 1528.83 Q1824.51 1534.41 1821.04 1537.51 Q1817.56 1540.59 1811.25 1540.59 Q1809.07 1540.59 1806.8 1540.22 Q1804.56 1539.85 1802.15 1539.11 L1802.15 1534.41 Q1804.23 1535.54 1806.45 1536.1 Q1808.68 1536.66 1811.15 1536.66 Q1815.16 1536.66 1817.5 1534.55 Q1819.83 1532.44 1819.83 1528.83 Q1819.83 1525.22 1817.5 1523.11 Q1815.16 1521.01 1811.15 1521.01 Q1809.28 1521.01 1807.4 1521.42 Q1805.55 1521.84 1803.61 1522.72 L1803.61 1505.36 Z\" fill=\"#000000\" fill-rule=\"evenodd\" fill-opacity=\"1\" /><path clip-path=\"url(#clip540)\" d=\"M 0 0 M2270.44 1535.98 L2278.07 1535.98 L2278.07 1509.62 L2269.76 1511.29 L2269.76 1507.03 L2278.03 1505.36 L2282.7 1505.36 L2282.7 1535.98 L2290.34 1535.98 L2290.34 1539.92 L2270.44 1539.92 L2270.44 1535.98 Z\" fill=\"#000000\" fill-rule=\"evenodd\" fill-opacity=\"1\" /><path clip-path=\"url(#clip540)\" d=\"M 0 0 M2295.41 1534.04 L2300.3 1534.04 L2300.3 1539.92 L2295.41 1539.92 L2295.41 1534.04 Z\" fill=\"#000000\" fill-rule=\"evenodd\" fill-opacity=\"1\" /><path clip-path=\"url(#clip540)\" d=\"M 0 0 M2315.37 1508.44 Q2311.75 1508.44 2309.93 1512 Q2308.12 1515.55 2308.12 1522.67 Q2308.12 1529.78 2309.93 1533.35 Q2311.75 1536.89 2315.37 1536.89 Q2319 1536.89 2320.81 1533.35 Q2322.63 1529.78 2322.63 1522.67 Q2322.63 1515.55 2320.81 1512 Q2319 1508.44 2315.37 1508.44 M2315.37 1504.73 Q2321.18 1504.73 2324.23 1509.34 Q2327.31 1513.92 2327.31 1522.67 Q2327.31 1531.4 2324.23 1536.01 Q2321.18 1540.59 2315.37 1540.59 Q2309.56 1540.59 2306.48 1536.01 Q2303.42 1531.4 2303.42 1522.67 Q2303.42 1513.92 2306.48 1509.34 Q2309.56 1504.73 2315.37 1504.73 Z\" fill=\"#000000\" fill-rule=\"evenodd\" fill-opacity=\"1\" /><path clip-path=\"url(#clip540)\" d=\"M 0 0 M2342.38 1508.44 Q2338.77 1508.44 2336.94 1512 Q2335.13 1515.55 2335.13 1522.67 Q2335.13 1529.78 2336.94 1533.35 Q2338.77 1536.89 2342.38 1536.89 Q2346.01 1536.89 2347.82 1533.35 Q2349.65 1529.78 2349.65 1522.67 Q2349.65 1515.55 2347.82 1512 Q2346.01 1508.44 2342.38 1508.44 M2342.38 1504.73 Q2348.19 1504.73 2351.24 1509.34 Q2354.32 1513.92 2354.32 1522.67 Q2354.32 1531.4 2351.24 1536.01 Q2348.19 1540.59 2342.38 1540.59 Q2336.57 1540.59 2333.49 1536.01 Q2330.43 1531.4 2330.43 1522.67 Q2330.43 1513.92 2333.49 1509.34 Q2336.57 1504.73 2342.38 1504.73 Z\" fill=\"#000000\" fill-rule=\"evenodd\" fill-opacity=\"1\" /><path clip-path=\"url(#clip540)\" d=\"M 0 0 M62.9921 1448.11 L75.4689 1448.11 L75.4689 1451.91 L62.9921 1451.91 L62.9921 1448.11 Z\" fill=\"#000000\" fill-rule=\"evenodd\" fill-opacity=\"1\" /><path clip-path=\"url(#clip540)\" d=\"M 0 0 M93.3855 1432.51 L81.58 1450.96 L93.3855 1450.96 L93.3855 1432.51 M92.1586 1428.44 L98.0382 1428.44 L98.0382 1450.96 L102.969 1450.96 L102.969 1454.85 L98.0382 1454.85 L98.0382 1463 L93.3855 1463 L93.3855 1454.85 L77.7837 1454.85 L77.7837 1450.33 L92.1586 1428.44 Z\" fill=\"#000000\" fill-rule=\"evenodd\" fill-opacity=\"1\" /><path clip-path=\"url(#clip540)\" d=\"M 0 0 M65.0754 1108.68 L77.5522 1108.68 L77.5522 1112.47 L65.0754 1112.47 L65.0754 1108.68 Z\" fill=\"#000000\" fill-rule=\"evenodd\" fill-opacity=\"1\" /><path clip-path=\"url(#clip540)\" d=\"M 0 0 M86.6494 1119.63 L102.969 1119.63 L102.969 1123.56 L81.0244 1123.56 L81.0244 1119.63 Q83.6865 1116.87 88.2698 1112.24 Q92.8762 1107.59 94.0568 1106.25 Q96.3021 1103.72 97.1818 1101.99 Q98.0845 1100.23 98.0845 1098.54 Q98.0845 1095.78 96.1401 1094.05 Q94.2188 1092.31 91.117 1092.31 Q88.9179 1092.31 86.4642 1093.07 Q84.0337 1093.84 81.2559 1095.39 L81.2559 1090.67 Q84.08 1089.53 86.5337 1088.95 Q88.9874 1088.38 91.0244 1088.38 Q96.3947 1088.38 99.5892 1091.06 Q102.784 1093.75 102.784 1098.24 Q102.784 1100.37 101.973 1102.29 Q101.186 1104.19 99.0799 1106.78 Q98.5012 1107.45 95.3994 1110.67 Q92.2975 1113.86 86.6494 1119.63 Z\" fill=\"#000000\" fill-rule=\"evenodd\" fill-opacity=\"1\" /><path clip-path=\"url(#clip540)\" d=\"M 0 0 M91.0244 752.645 Q87.4133 752.645 85.5846 756.209 Q83.7791 759.751 83.7791 766.881 Q83.7791 773.987 85.5846 777.552 Q87.4133 781.094 91.0244 781.094 Q94.6586 781.094 96.4642 777.552 Q98.2929 773.987 98.2929 766.881 Q98.2929 759.751 96.4642 756.209 Q94.6586 752.645 91.0244 752.645 M91.0244 748.941 Q96.8345 748.941 99.8901 753.547 Q102.969 758.131 102.969 766.881 Q102.969 775.608 99.8901 780.214 Q96.8345 784.797 91.0244 784.797 Q85.2142 784.797 82.1355 780.214 Q79.08 775.608 79.08 766.881 Q79.08 758.131 82.1355 753.547 Q85.2142 748.941 91.0244 748.941 Z\" fill=\"#000000\" fill-rule=\"evenodd\" fill-opacity=\"1\" /><path clip-path=\"url(#clip540)\" d=\"M 0 0 M86.6494 440.756 L102.969 440.756 L102.969 444.691 L81.0244 444.691 L81.0244 440.756 Q83.6865 438.001 88.2698 433.372 Q92.8762 428.719 94.0568 427.376 Q96.3021 424.853 97.1818 423.117 Q98.0845 421.358 98.0845 419.668 Q98.0845 416.914 96.1401 415.177 Q94.2188 413.441 91.117 413.441 Q88.9179 413.441 86.4642 414.205 Q84.0337 414.969 81.2559 416.52 L81.2559 411.798 Q84.08 410.664 86.5337 410.085 Q88.9874 409.506 91.0244 409.506 Q96.3947 409.506 99.5892 412.191 Q102.784 414.876 102.784 419.367 Q102.784 421.497 101.973 423.418 Q101.186 425.316 99.0799 427.909 Q98.5012 428.58 95.3994 431.798 Q92.2975 434.992 86.6494 440.756 Z\" fill=\"#000000\" fill-rule=\"evenodd\" fill-opacity=\"1\" /><path clip-path=\"url(#clip540)\" d=\"M 0 0 M93.3855 74.7703 L81.58 93.2193 L93.3855 93.2193 L93.3855 74.7703 M92.1586 70.6963 L98.0382 70.6963 L98.0382 93.2193 L102.969 93.2193 L102.969 97.1082 L98.0382 97.1082 L98.0382 105.256 L93.3855 105.256 L93.3855 97.1082 L77.7837 97.1082 L77.7837 92.5943 L92.1586 70.6963 Z\" fill=\"#000000\" fill-rule=\"evenodd\" fill-opacity=\"1\" /><polyline clip-path=\"url(#clip542)\" style=\"stroke:#009af9; stroke-width:4; stroke-opacity:1; fill:none\" points=\"\n",
       "  720.483,1445.72 804.305,1428.74 886.005,1411.77 965.583,1394.8 1043.04,1377.83 1118.37,1360.86 1191.58,1343.89 1262.67,1326.91 1331.64,1309.94 1398.49,1292.97 \n",
       "  1463.21,1276 1525.81,1259.03 1586.29,1242.05 1644.65,1225.08 1700.88,1208.11 1755,1191.14 1806.99,1174.17 1856.86,1157.2 1904.6,1140.22 1950.23,1123.25 \n",
       "  1993.73,1106.28 2035.11,1089.31 2074.37,1072.34 2111.51,1055.37 2146.52,1038.39 2179.41,1021.42 2210.18,1004.45 2238.83,987.479 2265.36,970.507 2289.76,953.535 \n",
       "  189.963,936.563 210.123,919.592 228.16,902.62 244.076,885.648 257.869,868.676 269.541,851.705 279.09,834.733 286.517,817.761 291.823,800.789 295.006,783.818 \n",
       "  296.067,766.846 295.006,749.874 291.823,732.902 286.517,715.931 279.09,698.959 269.541,681.987 257.869,665.016 244.076,648.044 228.16,631.072 210.123,614.1 \n",
       "  189.963,597.129 2289.76,580.157 2265.36,563.185 2238.83,546.213 2210.18,529.242 2179.41,512.27 2146.52,495.298 2111.51,478.326 2074.37,461.355 2035.11,444.383 \n",
       "  1993.73,427.411 1950.23,410.439 1904.6,393.468 1856.86,376.496 1806.99,359.524 1755,342.552 1700.88,325.581 1644.65,308.609 1586.29,291.637 1525.81,274.665 \n",
       "  1463.21,257.694 1398.49,240.722 1331.64,223.75 1262.67,206.778 1191.58,189.807 1118.37,172.835 1043.04,155.863 965.583,138.892 886.005,121.92 804.305,104.948 \n",
       "  720.483,87.9763 \n",
       "  \"/>\n",
       "<polyline clip-path=\"url(#clip542)\" style=\"stroke:#e26f46; stroke-width:4; stroke-opacity:1; fill:none\" points=\"\n",
       "  189.963,1445.72 189.963,1428.74 189.963,1411.77 189.963,1394.8 189.963,1377.83 189.963,1360.86 189.963,1343.89 189.963,1326.91 189.963,1309.94 189.963,1292.97 \n",
       "  189.963,1276 189.963,1259.03 189.963,1242.05 189.963,1225.08 189.963,1208.11 189.963,1191.14 189.963,1174.17 189.963,1157.2 189.963,1140.22 189.963,1123.25 \n",
       "  189.963,1106.28 189.963,1089.31 189.963,1072.34 189.963,1055.37 189.963,1038.39 189.963,1021.42 189.963,1004.45 189.963,987.479 189.963,970.507 189.963,953.535 \n",
       "  189.963,936.563 189.963,919.592 189.963,902.62 189.963,885.648 189.963,868.676 189.963,851.705 189.963,834.733 189.963,817.761 189.963,800.789 189.963,783.818 \n",
       "  189.963,766.846 189.963,749.874 189.963,732.902 189.963,715.931 189.963,698.959 189.963,681.987 189.963,665.016 189.963,648.044 189.963,631.072 189.963,614.1 \n",
       "  189.963,597.129 189.963,580.157 189.963,563.185 189.963,546.213 189.963,529.242 189.963,512.27 189.963,495.298 189.963,478.326 189.963,461.355 189.963,444.383 \n",
       "  189.963,427.411 189.963,410.439 189.963,393.468 189.963,376.496 189.963,359.524 189.963,342.552 189.963,325.581 189.963,308.609 189.963,291.637 189.963,274.665 \n",
       "  189.963,257.694 189.963,240.722 189.963,223.75 189.963,206.778 189.963,189.807 189.963,172.835 189.963,155.863 189.963,138.892 189.963,121.92 189.963,104.948 \n",
       "  189.963,87.9763 \n",
       "  \"/>\n",
       "<circle clip-path=\"url(#clip542)\" cx=\"1572.62\" cy=\"1245.95\" r=\"14\" fill=\"#3da44d\" fill-rule=\"evenodd\" fill-opacity=\"1\" stroke=\"#000000\" stroke-opacity=\"1\" stroke-width=\"3.2\"/>\n",
       "<circle clip-path=\"url(#clip542)\" cx=\"1640.28\" cy=\"307.316\" r=\"14\" fill=\"#3da44d\" fill-rule=\"evenodd\" fill-opacity=\"1\" stroke=\"#000000\" stroke-opacity=\"1\" stroke-width=\"3.2\"/>\n",
       "<circle clip-path=\"url(#clip542)\" cx=\"295.663\" cy=\"756.381\" r=\"14\" fill=\"#c271d2\" fill-rule=\"evenodd\" fill-opacity=\"1\" stroke=\"#000000\" stroke-opacity=\"1\" stroke-width=\"3.2\"/>\n",
       "<circle clip-path=\"url(#clip542)\" cx=\"189.963\" cy=\"1329.74\" r=\"14\" fill=\"#ac8d18\" fill-rule=\"evenodd\" fill-opacity=\"1\" stroke=\"#000000\" stroke-opacity=\"1\" stroke-width=\"3.2\"/>\n",
       "<circle clip-path=\"url(#clip542)\" cx=\"189.963\" cy=\"203.957\" r=\"14\" fill=\"#ac8d18\" fill-rule=\"evenodd\" fill-opacity=\"1\" stroke=\"#000000\" stroke-opacity=\"1\" stroke-width=\"3.2\"/>\n",
       "<circle clip-path=\"url(#clip542)\" cx=\"189.963\" cy=\"766.846\" r=\"14\" fill=\"#00a9ad\" fill-rule=\"evenodd\" fill-opacity=\"1\" stroke=\"#000000\" stroke-opacity=\"1\" stroke-width=\"3.2\"/>\n",
       "<circle clip-path=\"url(#clip542)\" cx=\"295.163\" cy=\"751.18\" r=\"14\" fill=\"#800080\" fill-rule=\"evenodd\" fill-opacity=\"1\" stroke=\"#000000\" stroke-opacity=\"1\" stroke-width=\"3.2\"/>\n",
       "</svg>\n"
      ]
     },
     "execution_count": 24,
     "metadata": {},
     "output_type": "execute_result"
    }
   ],
   "source": [
    "listaYB = [y for y in -4.0:0.1:4.0]\n",
    "listaXB = zeros(length(listaYB))\n",
    "plot(listaX, listaY, label = \"\")\n",
    "plot!(listaXB, listaYB, label = \"\")\n",
    "scatter!([cerosXAa,cerosXAb],[cerosYAa, cerosYAb], label = \"\")\n",
    "scatter!([cerosXBa,cerosXBb],[cerosYBa, cerosYBb], label = \"\")\n",
    "scatter!([ceros3XAa,ceros3XAb],[ceros3YAa, ceros3YAb], label = \"\", color  = \"purple\")"
   ]
  },
  {
   "cell_type": "markdown",
   "metadata": {},
   "source": [
    "Con el otro conjunto invariante. $x=0.0$"
   ]
  },
  {
   "cell_type": "code",
   "execution_count": 25,
   "metadata": {},
   "outputs": [
    {
     "data": {
      "text/plain": [
       "MapeoB3Y (generic function with 1 method)"
      ]
     },
     "execution_count": 25,
     "metadata": {},
     "output_type": "execute_result"
    }
   ],
   "source": [
    "MapeoB3X(y) = MapeoBX(MapeoBX(MapeoBX(y)))\n",
    "MapeoB3Y(y) = MapeoBY(MapeoBY(MapeoBY(y)))"
   ]
  },
  {
   "cell_type": "code",
   "execution_count": 26,
   "metadata": {},
   "outputs": [
    {
     "data": {
      "text/plain": [
       "1-element Array{Float64,1}:\n",
       " 0.0"
      ]
     },
     "execution_count": 26,
     "metadata": {},
     "output_type": "execute_result"
    }
   ],
   "source": [
    "ceros3YBa = find_zeros(MapeoB3X,-4.0,4.0)\n",
    "ceros3YBb = find_zeros(MapeoB3Y,-4.0,4.0)"
   ]
  },
  {
   "cell_type": "code",
   "execution_count": 27,
   "metadata": {},
   "outputs": [
    {
     "data": {
      "text/plain": [
       "1-element Array{Float64,1}:\n",
       " 0.0"
      ]
     },
     "execution_count": 27,
     "metadata": {},
     "output_type": "execute_result"
    }
   ],
   "source": [
    "ceros3XBa = zeros(length(ceros3YBa))\n",
    "ceros3XBb = zeros(length(ceros3YBb))"
   ]
  },
  {
   "cell_type": "code",
   "execution_count": 28,
   "metadata": {
    "scrolled": true
   },
   "outputs": [
    {
     "data": {
      "image/svg+xml": [
       "<?xml version=\"1.0\" encoding=\"utf-8\"?>\n",
       "<svg xmlns=\"http://www.w3.org/2000/svg\" xmlns:xlink=\"http://www.w3.org/1999/xlink\" width=\"600\" height=\"400\" viewBox=\"0 0 2400 1600\">\n",
       "<defs>\n",
       "  <clipPath id=\"clip580\">\n",
       "    <rect x=\"0\" y=\"0\" width=\"2400\" height=\"1600\"/>\n",
       "  </clipPath>\n",
       "</defs>\n",
       "<path clip-path=\"url(#clip580)\" d=\"\n",
       "M0 1600 L2400 1600 L2400 0 L0 0  Z\n",
       "  \" fill=\"#ffffff\" fill-rule=\"evenodd\" fill-opacity=\"1\"/>\n",
       "<defs>\n",
       "  <clipPath id=\"clip581\">\n",
       "    <rect x=\"480\" y=\"0\" width=\"1681\" height=\"1600\"/>\n",
       "  </clipPath>\n",
       "</defs>\n",
       "<path clip-path=\"url(#clip580)\" d=\"\n",
       "M126.969 1486.45 L2352.76 1486.45 L2352.76 47.2441 L126.969 47.2441  Z\n",
       "  \" fill=\"#ffffff\" fill-rule=\"evenodd\" fill-opacity=\"1\"/>\n",
       "<defs>\n",
       "  <clipPath id=\"clip582\">\n",
       "    <rect x=\"126\" y=\"47\" width=\"2227\" height=\"1440\"/>\n",
       "  </clipPath>\n",
       "</defs>\n",
       "<polyline clip-path=\"url(#clip582)\" style=\"stroke:#000000; stroke-width:2; stroke-opacity:0.1; fill:none\" points=\"\n",
       "  189.963,1486.45 189.963,47.2441 \n",
       "  \"/>\n",
       "<polyline clip-path=\"url(#clip582)\" style=\"stroke:#000000; stroke-width:2; stroke-opacity:0.1; fill:none\" points=\"\n",
       "  720.483,1486.45 720.483,47.2441 \n",
       "  \"/>\n",
       "<polyline clip-path=\"url(#clip582)\" style=\"stroke:#000000; stroke-width:2; stroke-opacity:0.1; fill:none\" points=\"\n",
       "  1251,1486.45 1251,47.2441 \n",
       "  \"/>\n",
       "<polyline clip-path=\"url(#clip582)\" style=\"stroke:#000000; stroke-width:2; stroke-opacity:0.1; fill:none\" points=\"\n",
       "  1781.52,1486.45 1781.52,47.2441 \n",
       "  \"/>\n",
       "<polyline clip-path=\"url(#clip582)\" style=\"stroke:#000000; stroke-width:2; stroke-opacity:0.1; fill:none\" points=\"\n",
       "  2312.04,1486.45 2312.04,47.2441 \n",
       "  \"/>\n",
       "<polyline clip-path=\"url(#clip582)\" style=\"stroke:#000000; stroke-width:2; stroke-opacity:0.1; fill:none\" points=\"\n",
       "  126.969,1445.72 2352.76,1445.72 \n",
       "  \"/>\n",
       "<polyline clip-path=\"url(#clip582)\" style=\"stroke:#000000; stroke-width:2; stroke-opacity:0.1; fill:none\" points=\"\n",
       "  126.969,1106.28 2352.76,1106.28 \n",
       "  \"/>\n",
       "<polyline clip-path=\"url(#clip582)\" style=\"stroke:#000000; stroke-width:2; stroke-opacity:0.1; fill:none\" points=\"\n",
       "  126.969,766.846 2352.76,766.846 \n",
       "  \"/>\n",
       "<polyline clip-path=\"url(#clip582)\" style=\"stroke:#000000; stroke-width:2; stroke-opacity:0.1; fill:none\" points=\"\n",
       "  126.969,427.411 2352.76,427.411 \n",
       "  \"/>\n",
       "<polyline clip-path=\"url(#clip582)\" style=\"stroke:#000000; stroke-width:2; stroke-opacity:0.1; fill:none\" points=\"\n",
       "  126.969,87.9763 2352.76,87.9763 \n",
       "  \"/>\n",
       "<polyline clip-path=\"url(#clip580)\" style=\"stroke:#000000; stroke-width:4; stroke-opacity:1; fill:none\" points=\"\n",
       "  126.969,1486.45 2352.76,1486.45 \n",
       "  \"/>\n",
       "<polyline clip-path=\"url(#clip580)\" style=\"stroke:#000000; stroke-width:4; stroke-opacity:1; fill:none\" points=\"\n",
       "  126.969,1486.45 126.969,47.2441 \n",
       "  \"/>\n",
       "<polyline clip-path=\"url(#clip580)\" style=\"stroke:#000000; stroke-width:4; stroke-opacity:1; fill:none\" points=\"\n",
       "  189.963,1486.45 189.963,1469.18 \n",
       "  \"/>\n",
       "<polyline clip-path=\"url(#clip580)\" style=\"stroke:#000000; stroke-width:4; stroke-opacity:1; fill:none\" points=\"\n",
       "  720.483,1486.45 720.483,1469.18 \n",
       "  \"/>\n",
       "<polyline clip-path=\"url(#clip580)\" style=\"stroke:#000000; stroke-width:4; stroke-opacity:1; fill:none\" points=\"\n",
       "  1251,1486.45 1251,1469.18 \n",
       "  \"/>\n",
       "<polyline clip-path=\"url(#clip580)\" style=\"stroke:#000000; stroke-width:4; stroke-opacity:1; fill:none\" points=\"\n",
       "  1781.52,1486.45 1781.52,1469.18 \n",
       "  \"/>\n",
       "<polyline clip-path=\"url(#clip580)\" style=\"stroke:#000000; stroke-width:4; stroke-opacity:1; fill:none\" points=\"\n",
       "  2312.04,1486.45 2312.04,1469.18 \n",
       "  \"/>\n",
       "<polyline clip-path=\"url(#clip580)\" style=\"stroke:#000000; stroke-width:4; stroke-opacity:1; fill:none\" points=\"\n",
       "  126.969,1445.72 153.678,1445.72 \n",
       "  \"/>\n",
       "<polyline clip-path=\"url(#clip580)\" style=\"stroke:#000000; stroke-width:4; stroke-opacity:1; fill:none\" points=\"\n",
       "  126.969,1106.28 153.678,1106.28 \n",
       "  \"/>\n",
       "<polyline clip-path=\"url(#clip580)\" style=\"stroke:#000000; stroke-width:4; stroke-opacity:1; fill:none\" points=\"\n",
       "  126.969,766.846 153.678,766.846 \n",
       "  \"/>\n",
       "<polyline clip-path=\"url(#clip580)\" style=\"stroke:#000000; stroke-width:4; stroke-opacity:1; fill:none\" points=\"\n",
       "  126.969,427.411 153.678,427.411 \n",
       "  \"/>\n",
       "<polyline clip-path=\"url(#clip580)\" style=\"stroke:#000000; stroke-width:4; stroke-opacity:1; fill:none\" points=\"\n",
       "  126.969,87.9763 153.678,87.9763 \n",
       "  \"/>\n",
       "<path clip-path=\"url(#clip580)\" d=\"M 0 0 M157.972 1508.44 Q154.361 1508.44 152.532 1512 Q150.727 1515.55 150.727 1522.67 Q150.727 1529.78 152.532 1533.35 Q154.361 1536.89 157.972 1536.89 Q161.606 1536.89 163.412 1533.35 Q165.241 1529.78 165.241 1522.67 Q165.241 1515.55 163.412 1512 Q161.606 1508.44 157.972 1508.44 M157.972 1504.73 Q163.782 1504.73 166.838 1509.34 Q169.917 1513.92 169.917 1522.67 Q169.917 1531.4 166.838 1536.01 Q163.782 1540.59 157.972 1540.59 Q152.162 1540.59 149.083 1536.01 Q146.028 1531.4 146.028 1522.67 Q146.028 1513.92 149.083 1509.34 Q152.162 1504.73 157.972 1504.73 Z\" fill=\"#000000\" fill-rule=\"evenodd\" fill-opacity=\"1\" /><path clip-path=\"url(#clip580)\" d=\"M 0 0 M174.986 1534.04 L179.87 1534.04 L179.87 1539.92 L174.986 1539.92 L174.986 1534.04 Z\" fill=\"#000000\" fill-rule=\"evenodd\" fill-opacity=\"1\" /><path clip-path=\"url(#clip580)\" d=\"M 0 0 M194.94 1508.44 Q191.328 1508.44 189.5 1512 Q187.694 1515.55 187.694 1522.67 Q187.694 1529.78 189.5 1533.35 Q191.328 1536.89 194.94 1536.89 Q198.574 1536.89 200.379 1533.35 Q202.208 1529.78 202.208 1522.67 Q202.208 1515.55 200.379 1512 Q198.574 1508.44 194.94 1508.44 M194.94 1504.73 Q200.75 1504.73 203.805 1509.34 Q206.884 1513.92 206.884 1522.67 Q206.884 1531.4 203.805 1536.01 Q200.75 1540.59 194.94 1540.59 Q189.129 1540.59 186.051 1536.01 Q182.995 1531.4 182.995 1522.67 Q182.995 1513.92 186.051 1509.34 Q189.129 1504.73 194.94 1504.73 Z\" fill=\"#000000\" fill-rule=\"evenodd\" fill-opacity=\"1\" /><path clip-path=\"url(#clip580)\" d=\"M 0 0 M221.953 1508.44 Q218.342 1508.44 216.514 1512 Q214.708 1515.55 214.708 1522.67 Q214.708 1529.78 216.514 1533.35 Q218.342 1536.89 221.953 1536.89 Q225.588 1536.89 227.393 1533.35 Q229.222 1529.78 229.222 1522.67 Q229.222 1515.55 227.393 1512 Q225.588 1508.44 221.953 1508.44 M221.953 1504.73 Q227.763 1504.73 230.819 1509.34 Q233.898 1513.92 233.898 1522.67 Q233.898 1531.4 230.819 1536.01 Q227.763 1540.59 221.953 1540.59 Q216.143 1540.59 213.064 1536.01 Q210.009 1531.4 210.009 1522.67 Q210.009 1513.92 213.064 1509.34 Q216.143 1504.73 221.953 1504.73 Z\" fill=\"#000000\" fill-rule=\"evenodd\" fill-opacity=\"1\" /><path clip-path=\"url(#clip580)\" d=\"M 0 0 M689.789 1508.44 Q686.178 1508.44 684.349 1512 Q682.543 1515.55 682.543 1522.67 Q682.543 1529.78 684.349 1533.35 Q686.178 1536.89 689.789 1536.89 Q693.423 1536.89 695.229 1533.35 Q697.057 1529.78 697.057 1522.67 Q697.057 1515.55 695.229 1512 Q693.423 1508.44 689.789 1508.44 M689.789 1504.73 Q695.599 1504.73 698.654 1509.34 Q701.733 1513.92 701.733 1522.67 Q701.733 1531.4 698.654 1536.01 Q695.599 1540.59 689.789 1540.59 Q683.979 1540.59 680.9 1536.01 Q677.844 1531.4 677.844 1522.67 Q677.844 1513.92 680.9 1509.34 Q683.979 1504.73 689.789 1504.73 Z\" fill=\"#000000\" fill-rule=\"evenodd\" fill-opacity=\"1\" /><path clip-path=\"url(#clip580)\" d=\"M 0 0 M706.803 1534.04 L711.687 1534.04 L711.687 1539.92 L706.803 1539.92 L706.803 1534.04 Z\" fill=\"#000000\" fill-rule=\"evenodd\" fill-opacity=\"1\" /><path clip-path=\"url(#clip580)\" d=\"M 0 0 M720.784 1535.98 L737.103 1535.98 L737.103 1539.92 L715.159 1539.92 L715.159 1535.98 Q717.821 1533.23 722.404 1528.6 Q727.011 1523.95 728.191 1522.61 Q730.437 1520.08 731.316 1518.35 Q732.219 1516.59 732.219 1514.9 Q732.219 1512.14 730.275 1510.41 Q728.353 1508.67 725.251 1508.67 Q723.052 1508.67 720.599 1509.43 Q718.168 1510.2 715.39 1511.75 L715.39 1507.03 Q718.214 1505.89 720.668 1505.31 Q723.122 1504.73 725.159 1504.73 Q730.529 1504.73 733.724 1507.42 Q736.918 1510.11 736.918 1514.6 Q736.918 1516.73 736.108 1518.65 Q735.321 1520.54 733.214 1523.14 Q732.636 1523.81 729.534 1527.03 Q726.432 1530.22 720.784 1535.98 Z\" fill=\"#000000\" fill-rule=\"evenodd\" fill-opacity=\"1\" /><path clip-path=\"url(#clip580)\" d=\"M 0 0 M742.219 1505.36 L760.575 1505.36 L760.575 1509.3 L746.501 1509.3 L746.501 1517.77 Q747.52 1517.42 748.538 1517.26 Q749.557 1517.07 750.575 1517.07 Q756.362 1517.07 759.742 1520.24 Q763.122 1523.42 763.122 1528.83 Q763.122 1534.41 759.649 1537.51 Q756.177 1540.59 749.858 1540.59 Q747.682 1540.59 745.413 1540.22 Q743.168 1539.85 740.761 1539.11 L740.761 1534.41 Q742.844 1535.54 745.066 1536.1 Q747.288 1536.66 749.765 1536.66 Q753.77 1536.66 756.108 1534.55 Q758.446 1532.44 758.446 1528.83 Q758.446 1525.22 756.108 1523.11 Q753.77 1521.01 749.765 1521.01 Q747.89 1521.01 746.015 1521.42 Q744.163 1521.84 742.219 1522.72 L742.219 1505.36 Z\" fill=\"#000000\" fill-rule=\"evenodd\" fill-opacity=\"1\" /><path clip-path=\"url(#clip580)\" d=\"M 0 0 M1219.51 1508.44 Q1215.9 1508.44 1214.07 1512 Q1212.27 1515.55 1212.27 1522.67 Q1212.27 1529.78 1214.07 1533.35 Q1215.9 1536.89 1219.51 1536.89 Q1223.14 1536.89 1224.95 1533.35 Q1226.78 1529.78 1226.78 1522.67 Q1226.78 1515.55 1224.95 1512 Q1223.14 1508.44 1219.51 1508.44 M1219.51 1504.73 Q1225.32 1504.73 1228.38 1509.34 Q1231.45 1513.92 1231.45 1522.67 Q1231.45 1531.4 1228.38 1536.01 Q1225.32 1540.59 1219.51 1540.59 Q1213.7 1540.59 1210.62 1536.01 Q1207.57 1531.4 1207.57 1522.67 Q1207.57 1513.92 1210.62 1509.34 Q1213.7 1504.73 1219.51 1504.73 Z\" fill=\"#000000\" fill-rule=\"evenodd\" fill-opacity=\"1\" /><path clip-path=\"url(#clip580)\" d=\"M 0 0 M1236.52 1534.04 L1241.41 1534.04 L1241.41 1539.92 L1236.52 1539.92 L1236.52 1534.04 Z\" fill=\"#000000\" fill-rule=\"evenodd\" fill-opacity=\"1\" /><path clip-path=\"url(#clip580)\" d=\"M 0 0 M1246.52 1505.36 L1264.88 1505.36 L1264.88 1509.3 L1250.81 1509.3 L1250.81 1517.77 Q1251.83 1517.42 1252.84 1517.26 Q1253.86 1517.07 1254.88 1517.07 Q1260.67 1517.07 1264.05 1520.24 Q1267.43 1523.42 1267.43 1528.83 Q1267.43 1534.41 1263.95 1537.51 Q1260.48 1540.59 1254.16 1540.59 Q1251.99 1540.59 1249.72 1540.22 Q1247.47 1539.85 1245.07 1539.11 L1245.07 1534.41 Q1247.15 1535.54 1249.37 1536.1 Q1251.59 1536.66 1254.07 1536.66 Q1258.07 1536.66 1260.41 1534.55 Q1262.75 1532.44 1262.75 1528.83 Q1262.75 1525.22 1260.41 1523.11 Q1258.07 1521.01 1254.07 1521.01 Q1252.2 1521.01 1250.32 1521.42 Q1248.47 1521.84 1246.52 1522.72 L1246.52 1505.36 Z\" fill=\"#000000\" fill-rule=\"evenodd\" fill-opacity=\"1\" /><path clip-path=\"url(#clip580)\" d=\"M 0 0 M1282.5 1508.44 Q1278.89 1508.44 1277.06 1512 Q1275.25 1515.55 1275.25 1522.67 Q1275.25 1529.78 1277.06 1533.35 Q1278.89 1536.89 1282.5 1536.89 Q1286.13 1536.89 1287.94 1533.35 Q1289.76 1529.78 1289.76 1522.67 Q1289.76 1515.55 1287.94 1512 Q1286.13 1508.44 1282.5 1508.44 M1282.5 1504.73 Q1288.31 1504.73 1291.36 1509.34 Q1294.44 1513.92 1294.44 1522.67 Q1294.44 1531.4 1291.36 1536.01 Q1288.31 1540.59 1282.5 1540.59 Q1276.69 1540.59 1273.61 1536.01 Q1270.55 1531.4 1270.55 1522.67 Q1270.55 1513.92 1273.61 1509.34 Q1276.69 1504.73 1282.5 1504.73 Z\" fill=\"#000000\" fill-rule=\"evenodd\" fill-opacity=\"1\" /><path clip-path=\"url(#clip580)\" d=\"M 0 0 M1750.48 1508.44 Q1746.87 1508.44 1745.04 1512 Q1743.24 1515.55 1743.24 1522.67 Q1743.24 1529.78 1745.04 1533.35 Q1746.87 1536.89 1750.48 1536.89 Q1754.12 1536.89 1755.92 1533.35 Q1757.75 1529.78 1757.75 1522.67 Q1757.75 1515.55 1755.92 1512 Q1754.12 1508.44 1750.48 1508.44 M1750.48 1504.73 Q1756.29 1504.73 1759.35 1509.34 Q1762.43 1513.92 1762.43 1522.67 Q1762.43 1531.4 1759.35 1536.01 Q1756.29 1540.59 1750.48 1540.59 Q1744.67 1540.59 1741.59 1536.01 Q1738.54 1531.4 1738.54 1522.67 Q1738.54 1513.92 1741.59 1509.34 Q1744.67 1504.73 1750.48 1504.73 Z\" fill=\"#000000\" fill-rule=\"evenodd\" fill-opacity=\"1\" /><path clip-path=\"url(#clip580)\" d=\"M 0 0 M1767.5 1534.04 L1772.38 1534.04 L1772.38 1539.92 L1767.5 1539.92 L1767.5 1534.04 Z\" fill=\"#000000\" fill-rule=\"evenodd\" fill-opacity=\"1\" /><path clip-path=\"url(#clip580)\" d=\"M 0 0 M1776.27 1505.36 L1798.49 1505.36 L1798.49 1507.35 L1785.94 1539.92 L1781.06 1539.92 L1792.87 1509.3 L1776.27 1509.3 L1776.27 1505.36 Z\" fill=\"#000000\" fill-rule=\"evenodd\" fill-opacity=\"1\" /><path clip-path=\"url(#clip580)\" d=\"M 0 0 M1803.61 1505.36 L1821.96 1505.36 L1821.96 1509.3 L1807.89 1509.3 L1807.89 1517.77 Q1808.91 1517.42 1809.93 1517.26 Q1810.94 1517.07 1811.96 1517.07 Q1817.75 1517.07 1821.13 1520.24 Q1824.51 1523.42 1824.51 1528.83 Q1824.51 1534.41 1821.04 1537.51 Q1817.56 1540.59 1811.25 1540.59 Q1809.07 1540.59 1806.8 1540.22 Q1804.56 1539.85 1802.15 1539.11 L1802.15 1534.41 Q1804.23 1535.54 1806.45 1536.1 Q1808.68 1536.66 1811.15 1536.66 Q1815.16 1536.66 1817.5 1534.55 Q1819.83 1532.44 1819.83 1528.83 Q1819.83 1525.22 1817.5 1523.11 Q1815.16 1521.01 1811.15 1521.01 Q1809.28 1521.01 1807.4 1521.42 Q1805.55 1521.84 1803.61 1522.72 L1803.61 1505.36 Z\" fill=\"#000000\" fill-rule=\"evenodd\" fill-opacity=\"1\" /><path clip-path=\"url(#clip580)\" d=\"M 0 0 M2270.44 1535.98 L2278.07 1535.98 L2278.07 1509.62 L2269.76 1511.29 L2269.76 1507.03 L2278.03 1505.36 L2282.7 1505.36 L2282.7 1535.98 L2290.34 1535.98 L2290.34 1539.92 L2270.44 1539.92 L2270.44 1535.98 Z\" fill=\"#000000\" fill-rule=\"evenodd\" fill-opacity=\"1\" /><path clip-path=\"url(#clip580)\" d=\"M 0 0 M2295.41 1534.04 L2300.3 1534.04 L2300.3 1539.92 L2295.41 1539.92 L2295.41 1534.04 Z\" fill=\"#000000\" fill-rule=\"evenodd\" fill-opacity=\"1\" /><path clip-path=\"url(#clip580)\" d=\"M 0 0 M2315.37 1508.44 Q2311.75 1508.44 2309.93 1512 Q2308.12 1515.55 2308.12 1522.67 Q2308.12 1529.78 2309.93 1533.35 Q2311.75 1536.89 2315.37 1536.89 Q2319 1536.89 2320.81 1533.35 Q2322.63 1529.78 2322.63 1522.67 Q2322.63 1515.55 2320.81 1512 Q2319 1508.44 2315.37 1508.44 M2315.37 1504.73 Q2321.18 1504.73 2324.23 1509.34 Q2327.31 1513.92 2327.31 1522.67 Q2327.31 1531.4 2324.23 1536.01 Q2321.18 1540.59 2315.37 1540.59 Q2309.56 1540.59 2306.48 1536.01 Q2303.42 1531.4 2303.42 1522.67 Q2303.42 1513.92 2306.48 1509.34 Q2309.56 1504.73 2315.37 1504.73 Z\" fill=\"#000000\" fill-rule=\"evenodd\" fill-opacity=\"1\" /><path clip-path=\"url(#clip580)\" d=\"M 0 0 M2342.38 1508.44 Q2338.77 1508.44 2336.94 1512 Q2335.13 1515.55 2335.13 1522.67 Q2335.13 1529.78 2336.94 1533.35 Q2338.77 1536.89 2342.38 1536.89 Q2346.01 1536.89 2347.82 1533.35 Q2349.65 1529.78 2349.65 1522.67 Q2349.65 1515.55 2347.82 1512 Q2346.01 1508.44 2342.38 1508.44 M2342.38 1504.73 Q2348.19 1504.73 2351.24 1509.34 Q2354.32 1513.92 2354.32 1522.67 Q2354.32 1531.4 2351.24 1536.01 Q2348.19 1540.59 2342.38 1540.59 Q2336.57 1540.59 2333.49 1536.01 Q2330.43 1531.4 2330.43 1522.67 Q2330.43 1513.92 2333.49 1509.34 Q2336.57 1504.73 2342.38 1504.73 Z\" fill=\"#000000\" fill-rule=\"evenodd\" fill-opacity=\"1\" /><path clip-path=\"url(#clip580)\" d=\"M 0 0 M62.9921 1448.11 L75.4689 1448.11 L75.4689 1451.91 L62.9921 1451.91 L62.9921 1448.11 Z\" fill=\"#000000\" fill-rule=\"evenodd\" fill-opacity=\"1\" /><path clip-path=\"url(#clip580)\" d=\"M 0 0 M93.3855 1432.51 L81.58 1450.96 L93.3855 1450.96 L93.3855 1432.51 M92.1586 1428.44 L98.0382 1428.44 L98.0382 1450.96 L102.969 1450.96 L102.969 1454.85 L98.0382 1454.85 L98.0382 1463 L93.3855 1463 L93.3855 1454.85 L77.7837 1454.85 L77.7837 1450.33 L92.1586 1428.44 Z\" fill=\"#000000\" fill-rule=\"evenodd\" fill-opacity=\"1\" /><path clip-path=\"url(#clip580)\" d=\"M 0 0 M65.0754 1108.68 L77.5522 1108.68 L77.5522 1112.47 L65.0754 1112.47 L65.0754 1108.68 Z\" fill=\"#000000\" fill-rule=\"evenodd\" fill-opacity=\"1\" /><path clip-path=\"url(#clip580)\" d=\"M 0 0 M86.6494 1119.63 L102.969 1119.63 L102.969 1123.56 L81.0244 1123.56 L81.0244 1119.63 Q83.6865 1116.87 88.2698 1112.24 Q92.8762 1107.59 94.0568 1106.25 Q96.3021 1103.72 97.1818 1101.99 Q98.0845 1100.23 98.0845 1098.54 Q98.0845 1095.78 96.1401 1094.05 Q94.2188 1092.31 91.117 1092.31 Q88.9179 1092.31 86.4642 1093.07 Q84.0337 1093.84 81.2559 1095.39 L81.2559 1090.67 Q84.08 1089.53 86.5337 1088.95 Q88.9874 1088.38 91.0244 1088.38 Q96.3947 1088.38 99.5892 1091.06 Q102.784 1093.75 102.784 1098.24 Q102.784 1100.37 101.973 1102.29 Q101.186 1104.19 99.0799 1106.78 Q98.5012 1107.45 95.3994 1110.67 Q92.2975 1113.86 86.6494 1119.63 Z\" fill=\"#000000\" fill-rule=\"evenodd\" fill-opacity=\"1\" /><path clip-path=\"url(#clip580)\" d=\"M 0 0 M91.0244 752.645 Q87.4133 752.645 85.5846 756.209 Q83.7791 759.751 83.7791 766.881 Q83.7791 773.987 85.5846 777.552 Q87.4133 781.094 91.0244 781.094 Q94.6586 781.094 96.4642 777.552 Q98.2929 773.987 98.2929 766.881 Q98.2929 759.751 96.4642 756.209 Q94.6586 752.645 91.0244 752.645 M91.0244 748.941 Q96.8345 748.941 99.8901 753.547 Q102.969 758.131 102.969 766.881 Q102.969 775.608 99.8901 780.214 Q96.8345 784.797 91.0244 784.797 Q85.2142 784.797 82.1355 780.214 Q79.08 775.608 79.08 766.881 Q79.08 758.131 82.1355 753.547 Q85.2142 748.941 91.0244 748.941 Z\" fill=\"#000000\" fill-rule=\"evenodd\" fill-opacity=\"1\" /><path clip-path=\"url(#clip580)\" d=\"M 0 0 M86.6494 440.756 L102.969 440.756 L102.969 444.691 L81.0244 444.691 L81.0244 440.756 Q83.6865 438.001 88.2698 433.372 Q92.8762 428.719 94.0568 427.376 Q96.3021 424.853 97.1818 423.117 Q98.0845 421.358 98.0845 419.668 Q98.0845 416.914 96.1401 415.177 Q94.2188 413.441 91.117 413.441 Q88.9179 413.441 86.4642 414.205 Q84.0337 414.969 81.2559 416.52 L81.2559 411.798 Q84.08 410.664 86.5337 410.085 Q88.9874 409.506 91.0244 409.506 Q96.3947 409.506 99.5892 412.191 Q102.784 414.876 102.784 419.367 Q102.784 421.497 101.973 423.418 Q101.186 425.316 99.0799 427.909 Q98.5012 428.58 95.3994 431.798 Q92.2975 434.992 86.6494 440.756 Z\" fill=\"#000000\" fill-rule=\"evenodd\" fill-opacity=\"1\" /><path clip-path=\"url(#clip580)\" d=\"M 0 0 M93.3855 74.7703 L81.58 93.2193 L93.3855 93.2193 L93.3855 74.7703 M92.1586 70.6963 L98.0382 70.6963 L98.0382 93.2193 L102.969 93.2193 L102.969 97.1082 L98.0382 97.1082 L98.0382 105.256 L93.3855 105.256 L93.3855 97.1082 L77.7837 97.1082 L77.7837 92.5943 L92.1586 70.6963 Z\" fill=\"#000000\" fill-rule=\"evenodd\" fill-opacity=\"1\" /><polyline clip-path=\"url(#clip582)\" style=\"stroke:#009af9; stroke-width:4; stroke-opacity:1; fill:none\" points=\"\n",
       "  720.483,1445.72 804.305,1428.74 886.005,1411.77 965.583,1394.8 1043.04,1377.83 1118.37,1360.86 1191.58,1343.89 1262.67,1326.91 1331.64,1309.94 1398.49,1292.97 \n",
       "  1463.21,1276 1525.81,1259.03 1586.29,1242.05 1644.65,1225.08 1700.88,1208.11 1755,1191.14 1806.99,1174.17 1856.86,1157.2 1904.6,1140.22 1950.23,1123.25 \n",
       "  1993.73,1106.28 2035.11,1089.31 2074.37,1072.34 2111.51,1055.37 2146.52,1038.39 2179.41,1021.42 2210.18,1004.45 2238.83,987.479 2265.36,970.507 2289.76,953.535 \n",
       "  189.963,936.563 210.123,919.592 228.16,902.62 244.076,885.648 257.869,868.676 269.541,851.705 279.09,834.733 286.517,817.761 291.823,800.789 295.006,783.818 \n",
       "  296.067,766.846 295.006,749.874 291.823,732.902 286.517,715.931 279.09,698.959 269.541,681.987 257.869,665.016 244.076,648.044 228.16,631.072 210.123,614.1 \n",
       "  189.963,597.129 2289.76,580.157 2265.36,563.185 2238.83,546.213 2210.18,529.242 2179.41,512.27 2146.52,495.298 2111.51,478.326 2074.37,461.355 2035.11,444.383 \n",
       "  1993.73,427.411 1950.23,410.439 1904.6,393.468 1856.86,376.496 1806.99,359.524 1755,342.552 1700.88,325.581 1644.65,308.609 1586.29,291.637 1525.81,274.665 \n",
       "  1463.21,257.694 1398.49,240.722 1331.64,223.75 1262.67,206.778 1191.58,189.807 1118.37,172.835 1043.04,155.863 965.583,138.892 886.005,121.92 804.305,104.948 \n",
       "  720.483,87.9763 \n",
       "  \"/>\n",
       "<polyline clip-path=\"url(#clip582)\" style=\"stroke:#e26f46; stroke-width:4; stroke-opacity:1; fill:none\" points=\"\n",
       "  189.963,1445.72 189.963,1428.74 189.963,1411.77 189.963,1394.8 189.963,1377.83 189.963,1360.86 189.963,1343.89 189.963,1326.91 189.963,1309.94 189.963,1292.97 \n",
       "  189.963,1276 189.963,1259.03 189.963,1242.05 189.963,1225.08 189.963,1208.11 189.963,1191.14 189.963,1174.17 189.963,1157.2 189.963,1140.22 189.963,1123.25 \n",
       "  189.963,1106.28 189.963,1089.31 189.963,1072.34 189.963,1055.37 189.963,1038.39 189.963,1021.42 189.963,1004.45 189.963,987.479 189.963,970.507 189.963,953.535 \n",
       "  189.963,936.563 189.963,919.592 189.963,902.62 189.963,885.648 189.963,868.676 189.963,851.705 189.963,834.733 189.963,817.761 189.963,800.789 189.963,783.818 \n",
       "  189.963,766.846 189.963,749.874 189.963,732.902 189.963,715.931 189.963,698.959 189.963,681.987 189.963,665.016 189.963,648.044 189.963,631.072 189.963,614.1 \n",
       "  189.963,597.129 189.963,580.157 189.963,563.185 189.963,546.213 189.963,529.242 189.963,512.27 189.963,495.298 189.963,478.326 189.963,461.355 189.963,444.383 \n",
       "  189.963,427.411 189.963,410.439 189.963,393.468 189.963,376.496 189.963,359.524 189.963,342.552 189.963,325.581 189.963,308.609 189.963,291.637 189.963,274.665 \n",
       "  189.963,257.694 189.963,240.722 189.963,223.75 189.963,206.778 189.963,189.807 189.963,172.835 189.963,155.863 189.963,138.892 189.963,121.92 189.963,104.948 \n",
       "  189.963,87.9763 \n",
       "  \"/>\n",
       "<circle clip-path=\"url(#clip582)\" cx=\"1572.62\" cy=\"1245.95\" r=\"14\" fill=\"#3da44d\" fill-rule=\"evenodd\" fill-opacity=\"1\" stroke=\"#000000\" stroke-opacity=\"1\" stroke-width=\"3.2\"/>\n",
       "<circle clip-path=\"url(#clip582)\" cx=\"1640.28\" cy=\"307.316\" r=\"14\" fill=\"#3da44d\" fill-rule=\"evenodd\" fill-opacity=\"1\" stroke=\"#000000\" stroke-opacity=\"1\" stroke-width=\"3.2\"/>\n",
       "<circle clip-path=\"url(#clip582)\" cx=\"295.663\" cy=\"756.381\" r=\"14\" fill=\"#c271d2\" fill-rule=\"evenodd\" fill-opacity=\"1\" stroke=\"#000000\" stroke-opacity=\"1\" stroke-width=\"3.2\"/>\n",
       "<circle clip-path=\"url(#clip582)\" cx=\"189.963\" cy=\"1329.74\" r=\"14\" fill=\"#ac8d18\" fill-rule=\"evenodd\" fill-opacity=\"1\" stroke=\"#000000\" stroke-opacity=\"1\" stroke-width=\"3.2\"/>\n",
       "<circle clip-path=\"url(#clip582)\" cx=\"189.963\" cy=\"203.957\" r=\"14\" fill=\"#ac8d18\" fill-rule=\"evenodd\" fill-opacity=\"1\" stroke=\"#000000\" stroke-opacity=\"1\" stroke-width=\"3.2\"/>\n",
       "<circle clip-path=\"url(#clip582)\" cx=\"189.963\" cy=\"766.846\" r=\"14\" fill=\"#00a9ad\" fill-rule=\"evenodd\" fill-opacity=\"1\" stroke=\"#000000\" stroke-opacity=\"1\" stroke-width=\"3.2\"/>\n",
       "<circle clip-path=\"url(#clip582)\" cx=\"295.163\" cy=\"751.18\" r=\"14\" fill=\"#800080\" fill-rule=\"evenodd\" fill-opacity=\"1\" stroke=\"#000000\" stroke-opacity=\"1\" stroke-width=\"3.2\"/>\n",
       "<circle clip-path=\"url(#clip582)\" cx=\"189.963\" cy=\"766.846\" r=\"14\" fill=\"#008000\" fill-rule=\"evenodd\" fill-opacity=\"1\" stroke=\"#000000\" stroke-opacity=\"1\" stroke-width=\"3.2\"/>\n",
       "</svg>\n"
      ]
     },
     "execution_count": 28,
     "metadata": {},
     "output_type": "execute_result"
    }
   ],
   "source": [
    "listaYB = [y for y in -4.0:0.1:4.0]\n",
    "listaXB = zeros(length(listaYB))\n",
    "plot(listaX, listaY, label = \"\")\n",
    "plot!(listaXB, listaYB, label = \"\")\n",
    "scatter!([cerosXAa,cerosXAb],[cerosYAa, cerosYAb], label = \"\")\n",
    "scatter!([cerosXBa,cerosXBb],[cerosYBa, cerosYBb], label = \"\")\n",
    "scatter!([ceros3XAa,ceros3XAb],[ceros3YAa, ceros3YAb], label = \"\", color  = \"purple\")\n",
    "scatter!([ceros3XBa,ceros3XBb],[ceros3YBa, ceros3YBb], label = \"\", color = \"green\")"
   ]
  },
  {
   "cell_type": "markdown",
   "metadata": {},
   "source": [
    "### ⭐ Siguiente iteración."
   ]
  },
  {
   "cell_type": "code",
   "execution_count": null,
   "metadata": {},
   "outputs": [],
   "source": [
    "find_"
   ]
  },
  {
   "cell_type": "code",
   "execution_count": 1,
   "metadata": {},
   "outputs": [
    {
     "name": "stdout",
     "output_type": "stream",
     "text": [
      "search:\n",
      "\n",
      "Couldn't find \u001b[36mfind_zeros\u001b[39m\n",
      "Perhaps you meant count_zeros\n"
     ]
    },
    {
     "data": {
      "text/latex": [
       "No documentation found.\n",
       "\n",
       "Binding \\texttt{find\\_zeros} does not exist.\n",
       "\n"
      ],
      "text/markdown": [
       "No documentation found.\n",
       "\n",
       "Binding `find_zeros` does not exist.\n"
      ],
      "text/plain": [
       "  No documentation found.\n",
       "\n",
       "  Binding \u001b[36mfind_zeros\u001b[39m does not exist."
      ]
     },
     "execution_count": 1,
     "metadata": {},
     "output_type": "execute_result"
    }
   ],
   "source": [
    "?find_zeros"
   ]
  },
  {
   "cell_type": "code",
   "execution_count": 29,
   "metadata": {},
   "outputs": [
    {
     "data": {
      "text/plain": [
       "MapeoA4Y (generic function with 1 method)"
      ]
     },
     "execution_count": 29,
     "metadata": {},
     "output_type": "execute_result"
    }
   ],
   "source": [
    "MapeoA4X(y) = MapeoAX(MapeoAX(MapeoAX(MapeoAX(y))))\n",
    "MapeoA4Y(y) = MapeoAY(MapeoAY(MapeoAY(MapeoAY(y))))"
   ]
  },
  {
   "cell_type": "code",
   "execution_count": 30,
   "metadata": {},
   "outputs": [
    {
     "data": {
      "text/plain": [
       "1-element Array{Float64,1}:\n",
       " 0.12275938957581756"
      ]
     },
     "execution_count": 30,
     "metadata": {},
     "output_type": "execute_result"
    }
   ],
   "source": [
    "ceros4YAa = find_zeros(MapeoA4X,-8.0,8.0)\n",
    "ceros4YAb = find_zeros(MapeoA4Y,-8.0,8.0)"
   ]
  },
  {
   "cell_type": "code",
   "execution_count": 31,
   "metadata": {},
   "outputs": [
    {
     "data": {
      "text/plain": [
       "1-element Array{Float64,1}:\n",
       " 0.04924650661354864"
      ]
     },
     "execution_count": 31,
     "metadata": {},
     "output_type": "execute_result"
    }
   ],
   "source": [
    "ceros4XAa = [x_puntoF(ceros4YAa[i],a) for i in 1:length(ceros4YAa)]\n",
    "ceros4XAb = [x_puntoF(ceros4YAb[i],a) for i in 1:length(ceros4YAb)]"
   ]
  },
  {
   "cell_type": "code",
   "execution_count": 32,
   "metadata": {
    "scrolled": true
   },
   "outputs": [
    {
     "data": {
      "image/svg+xml": [
       "<?xml version=\"1.0\" encoding=\"utf-8\"?>\n",
       "<svg xmlns=\"http://www.w3.org/2000/svg\" xmlns:xlink=\"http://www.w3.org/1999/xlink\" width=\"600\" height=\"400\" viewBox=\"0 0 2400 1600\">\n",
       "<defs>\n",
       "  <clipPath id=\"clip620\">\n",
       "    <rect x=\"0\" y=\"0\" width=\"2400\" height=\"1600\"/>\n",
       "  </clipPath>\n",
       "</defs>\n",
       "<path clip-path=\"url(#clip620)\" d=\"\n",
       "M0 1600 L2400 1600 L2400 0 L0 0  Z\n",
       "  \" fill=\"#ffffff\" fill-rule=\"evenodd\" fill-opacity=\"1\"/>\n",
       "<defs>\n",
       "  <clipPath id=\"clip621\">\n",
       "    <rect x=\"480\" y=\"0\" width=\"1681\" height=\"1600\"/>\n",
       "  </clipPath>\n",
       "</defs>\n",
       "<path clip-path=\"url(#clip620)\" d=\"\n",
       "M126.645 1486.45 L2352.76 1486.45 L2352.76 47.2441 L126.645 47.2441  Z\n",
       "  \" fill=\"#ffffff\" fill-rule=\"evenodd\" fill-opacity=\"1\"/>\n",
       "<defs>\n",
       "  <clipPath id=\"clip622\">\n",
       "    <rect x=\"126\" y=\"47\" width=\"2227\" height=\"1440\"/>\n",
       "  </clipPath>\n",
       "</defs>\n",
       "<polyline clip-path=\"url(#clip622)\" style=\"stroke:#000000; stroke-width:2; stroke-opacity:0.1; fill:none\" points=\"\n",
       "  189.648,1486.45 189.648,47.2441 \n",
       "  \"/>\n",
       "<polyline clip-path=\"url(#clip622)\" style=\"stroke:#000000; stroke-width:2; stroke-opacity:0.1; fill:none\" points=\"\n",
       "  718.908,1486.45 718.908,47.2441 \n",
       "  \"/>\n",
       "<polyline clip-path=\"url(#clip622)\" style=\"stroke:#000000; stroke-width:2; stroke-opacity:0.1; fill:none\" points=\"\n",
       "  1248.17,1486.45 1248.17,47.2441 \n",
       "  \"/>\n",
       "<polyline clip-path=\"url(#clip622)\" style=\"stroke:#000000; stroke-width:2; stroke-opacity:0.1; fill:none\" points=\"\n",
       "  1777.43,1486.45 1777.43,47.2441 \n",
       "  \"/>\n",
       "<polyline clip-path=\"url(#clip622)\" style=\"stroke:#000000; stroke-width:2; stroke-opacity:0.1; fill:none\" points=\"\n",
       "  2306.69,1486.45 2306.69,47.2441 \n",
       "  \"/>\n",
       "<polyline clip-path=\"url(#clip622)\" style=\"stroke:#000000; stroke-width:2; stroke-opacity:0.1; fill:none\" points=\"\n",
       "  126.645,1276 2352.76,1276 \n",
       "  \"/>\n",
       "<polyline clip-path=\"url(#clip622)\" style=\"stroke:#000000; stroke-width:2; stroke-opacity:0.1; fill:none\" points=\"\n",
       "  126.645,1021.42 2352.76,1021.42 \n",
       "  \"/>\n",
       "<polyline clip-path=\"url(#clip622)\" style=\"stroke:#000000; stroke-width:2; stroke-opacity:0.1; fill:none\" points=\"\n",
       "  126.645,766.846 2352.76,766.846 \n",
       "  \"/>\n",
       "<polyline clip-path=\"url(#clip622)\" style=\"stroke:#000000; stroke-width:2; stroke-opacity:0.1; fill:none\" points=\"\n",
       "  126.645,512.27 2352.76,512.27 \n",
       "  \"/>\n",
       "<polyline clip-path=\"url(#clip622)\" style=\"stroke:#000000; stroke-width:2; stroke-opacity:0.1; fill:none\" points=\"\n",
       "  126.645,257.694 2352.76,257.694 \n",
       "  \"/>\n",
       "<polyline clip-path=\"url(#clip620)\" style=\"stroke:#000000; stroke-width:4; stroke-opacity:1; fill:none\" points=\"\n",
       "  126.645,1486.45 2352.76,1486.45 \n",
       "  \"/>\n",
       "<polyline clip-path=\"url(#clip620)\" style=\"stroke:#000000; stroke-width:4; stroke-opacity:1; fill:none\" points=\"\n",
       "  126.645,1486.45 126.645,47.2441 \n",
       "  \"/>\n",
       "<polyline clip-path=\"url(#clip620)\" style=\"stroke:#000000; stroke-width:4; stroke-opacity:1; fill:none\" points=\"\n",
       "  189.648,1486.45 189.648,1469.18 \n",
       "  \"/>\n",
       "<polyline clip-path=\"url(#clip620)\" style=\"stroke:#000000; stroke-width:4; stroke-opacity:1; fill:none\" points=\"\n",
       "  718.908,1486.45 718.908,1469.18 \n",
       "  \"/>\n",
       "<polyline clip-path=\"url(#clip620)\" style=\"stroke:#000000; stroke-width:4; stroke-opacity:1; fill:none\" points=\"\n",
       "  1248.17,1486.45 1248.17,1469.18 \n",
       "  \"/>\n",
       "<polyline clip-path=\"url(#clip620)\" style=\"stroke:#000000; stroke-width:4; stroke-opacity:1; fill:none\" points=\"\n",
       "  1777.43,1486.45 1777.43,1469.18 \n",
       "  \"/>\n",
       "<polyline clip-path=\"url(#clip620)\" style=\"stroke:#000000; stroke-width:4; stroke-opacity:1; fill:none\" points=\"\n",
       "  2306.69,1486.45 2306.69,1469.18 \n",
       "  \"/>\n",
       "<polyline clip-path=\"url(#clip620)\" style=\"stroke:#000000; stroke-width:4; stroke-opacity:1; fill:none\" points=\"\n",
       "  126.645,1276 153.358,1276 \n",
       "  \"/>\n",
       "<polyline clip-path=\"url(#clip620)\" style=\"stroke:#000000; stroke-width:4; stroke-opacity:1; fill:none\" points=\"\n",
       "  126.645,1021.42 153.358,1021.42 \n",
       "  \"/>\n",
       "<polyline clip-path=\"url(#clip620)\" style=\"stroke:#000000; stroke-width:4; stroke-opacity:1; fill:none\" points=\"\n",
       "  126.645,766.846 153.358,766.846 \n",
       "  \"/>\n",
       "<polyline clip-path=\"url(#clip620)\" style=\"stroke:#000000; stroke-width:4; stroke-opacity:1; fill:none\" points=\"\n",
       "  126.645,512.27 153.358,512.27 \n",
       "  \"/>\n",
       "<polyline clip-path=\"url(#clip620)\" style=\"stroke:#000000; stroke-width:4; stroke-opacity:1; fill:none\" points=\"\n",
       "  126.645,257.694 153.358,257.694 \n",
       "  \"/>\n",
       "<path clip-path=\"url(#clip620)\" d=\"M 0 0 M157.657 1508.44 Q154.046 1508.44 152.217 1512 Q150.412 1515.55 150.412 1522.67 Q150.412 1529.78 152.217 1533.35 Q154.046 1536.89 157.657 1536.89 Q161.292 1536.89 163.097 1533.35 Q164.926 1529.78 164.926 1522.67 Q164.926 1515.55 163.097 1512 Q161.292 1508.44 157.657 1508.44 M157.657 1504.73 Q163.467 1504.73 166.523 1509.34 Q169.602 1513.92 169.602 1522.67 Q169.602 1531.4 166.523 1536.01 Q163.467 1540.59 157.657 1540.59 Q151.847 1540.59 148.768 1536.01 Q145.713 1531.4 145.713 1522.67 Q145.713 1513.92 148.768 1509.34 Q151.847 1504.73 157.657 1504.73 Z\" fill=\"#000000\" fill-rule=\"evenodd\" fill-opacity=\"1\" /><path clip-path=\"url(#clip620)\" d=\"M 0 0 M174.671 1534.04 L179.555 1534.04 L179.555 1539.92 L174.671 1539.92 L174.671 1534.04 Z\" fill=\"#000000\" fill-rule=\"evenodd\" fill-opacity=\"1\" /><path clip-path=\"url(#clip620)\" d=\"M 0 0 M194.625 1508.44 Q191.014 1508.44 189.185 1512 Q187.379 1515.55 187.379 1522.67 Q187.379 1529.78 189.185 1533.35 Q191.014 1536.89 194.625 1536.89 Q198.259 1536.89 200.064 1533.35 Q201.893 1529.78 201.893 1522.67 Q201.893 1515.55 200.064 1512 Q198.259 1508.44 194.625 1508.44 M194.625 1504.73 Q200.435 1504.73 203.49 1509.34 Q206.569 1513.92 206.569 1522.67 Q206.569 1531.4 203.49 1536.01 Q200.435 1540.59 194.625 1540.59 Q188.815 1540.59 185.736 1536.01 Q182.68 1531.4 182.68 1522.67 Q182.68 1513.92 185.736 1509.34 Q188.815 1504.73 194.625 1504.73 Z\" fill=\"#000000\" fill-rule=\"evenodd\" fill-opacity=\"1\" /><path clip-path=\"url(#clip620)\" d=\"M 0 0 M221.638 1508.44 Q218.027 1508.44 216.199 1512 Q214.393 1515.55 214.393 1522.67 Q214.393 1529.78 216.199 1533.35 Q218.027 1536.89 221.638 1536.89 Q225.273 1536.89 227.078 1533.35 Q228.907 1529.78 228.907 1522.67 Q228.907 1515.55 227.078 1512 Q225.273 1508.44 221.638 1508.44 M221.638 1504.73 Q227.449 1504.73 230.504 1509.34 Q233.583 1513.92 233.583 1522.67 Q233.583 1531.4 230.504 1536.01 Q227.449 1540.59 221.638 1540.59 Q215.828 1540.59 212.75 1536.01 Q209.694 1531.4 209.694 1522.67 Q209.694 1513.92 212.75 1509.34 Q215.828 1504.73 221.638 1504.73 Z\" fill=\"#000000\" fill-rule=\"evenodd\" fill-opacity=\"1\" /><path clip-path=\"url(#clip620)\" d=\"M 0 0 M688.214 1508.44 Q684.603 1508.44 682.774 1512 Q680.969 1515.55 680.969 1522.67 Q680.969 1529.78 682.774 1533.35 Q684.603 1536.89 688.214 1536.89 Q691.848 1536.89 693.654 1533.35 Q695.482 1529.78 695.482 1522.67 Q695.482 1515.55 693.654 1512 Q691.848 1508.44 688.214 1508.44 M688.214 1504.73 Q694.024 1504.73 697.08 1509.34 Q700.158 1513.92 700.158 1522.67 Q700.158 1531.4 697.08 1536.01 Q694.024 1540.59 688.214 1540.59 Q682.404 1540.59 679.325 1536.01 Q676.269 1531.4 676.269 1522.67 Q676.269 1513.92 679.325 1509.34 Q682.404 1504.73 688.214 1504.73 Z\" fill=\"#000000\" fill-rule=\"evenodd\" fill-opacity=\"1\" /><path clip-path=\"url(#clip620)\" d=\"M 0 0 M705.228 1534.04 L710.112 1534.04 L710.112 1539.92 L705.228 1539.92 L705.228 1534.04 Z\" fill=\"#000000\" fill-rule=\"evenodd\" fill-opacity=\"1\" /><path clip-path=\"url(#clip620)\" d=\"M 0 0 M719.209 1535.98 L735.528 1535.98 L735.528 1539.92 L713.584 1539.92 L713.584 1535.98 Q716.246 1533.23 720.829 1528.6 Q725.436 1523.95 726.616 1522.61 Q728.862 1520.08 729.741 1518.35 Q730.644 1516.59 730.644 1514.9 Q730.644 1512.14 728.7 1510.41 Q726.778 1508.67 723.677 1508.67 Q721.478 1508.67 719.024 1509.43 Q716.593 1510.2 713.816 1511.75 L713.816 1507.03 Q716.64 1505.89 719.093 1505.31 Q721.547 1504.73 723.584 1504.73 Q728.954 1504.73 732.149 1507.42 Q735.343 1510.11 735.343 1514.6 Q735.343 1516.73 734.533 1518.65 Q733.746 1520.54 731.64 1523.14 Q731.061 1523.81 727.959 1527.03 Q724.857 1530.22 719.209 1535.98 Z\" fill=\"#000000\" fill-rule=\"evenodd\" fill-opacity=\"1\" /><path clip-path=\"url(#clip620)\" d=\"M 0 0 M740.644 1505.36 L759.001 1505.36 L759.001 1509.3 L744.927 1509.3 L744.927 1517.77 Q745.945 1517.42 746.964 1517.26 Q747.982 1517.07 749.001 1517.07 Q754.788 1517.07 758.167 1520.24 Q761.547 1523.42 761.547 1528.83 Q761.547 1534.41 758.075 1537.51 Q754.602 1540.59 748.283 1540.59 Q746.107 1540.59 743.839 1540.22 Q741.593 1539.85 739.186 1539.11 L739.186 1534.41 Q741.269 1535.54 743.491 1536.1 Q745.714 1536.66 748.19 1536.66 Q752.195 1536.66 754.533 1534.55 Q756.871 1532.44 756.871 1528.83 Q756.871 1525.22 754.533 1523.11 Q752.195 1521.01 748.19 1521.01 Q746.315 1521.01 744.44 1521.42 Q742.589 1521.84 740.644 1522.72 L740.644 1505.36 Z\" fill=\"#000000\" fill-rule=\"evenodd\" fill-opacity=\"1\" /><path clip-path=\"url(#clip620)\" d=\"M 0 0 M1216.68 1508.44 Q1213.06 1508.44 1211.24 1512 Q1209.43 1515.55 1209.43 1522.67 Q1209.43 1529.78 1211.24 1533.35 Q1213.06 1536.89 1216.68 1536.89 Q1220.31 1536.89 1222.12 1533.35 Q1223.94 1529.78 1223.94 1522.67 Q1223.94 1515.55 1222.12 1512 Q1220.31 1508.44 1216.68 1508.44 M1216.68 1504.73 Q1222.49 1504.73 1225.54 1509.34 Q1228.62 1513.92 1228.62 1522.67 Q1228.62 1531.4 1225.54 1536.01 Q1222.49 1540.59 1216.68 1540.59 Q1210.87 1540.59 1207.79 1536.01 Q1204.73 1531.4 1204.73 1522.67 Q1204.73 1513.92 1207.79 1509.34 Q1210.87 1504.73 1216.68 1504.73 Z\" fill=\"#000000\" fill-rule=\"evenodd\" fill-opacity=\"1\" /><path clip-path=\"url(#clip620)\" d=\"M 0 0 M1233.69 1534.04 L1238.57 1534.04 L1238.57 1539.92 L1233.69 1539.92 L1233.69 1534.04 Z\" fill=\"#000000\" fill-rule=\"evenodd\" fill-opacity=\"1\" /><path clip-path=\"url(#clip620)\" d=\"M 0 0 M1243.69 1505.36 L1262.05 1505.36 L1262.05 1509.3 L1247.97 1509.3 L1247.97 1517.77 Q1248.99 1517.42 1250.01 1517.26 Q1251.03 1517.07 1252.05 1517.07 Q1257.83 1517.07 1261.21 1520.24 Q1264.59 1523.42 1264.59 1528.83 Q1264.59 1534.41 1261.12 1537.51 Q1257.65 1540.59 1251.33 1540.59 Q1249.15 1540.59 1246.88 1540.22 Q1244.64 1539.85 1242.23 1539.11 L1242.23 1534.41 Q1244.31 1535.54 1246.54 1536.1 Q1248.76 1536.66 1251.24 1536.66 Q1255.24 1536.66 1257.58 1534.55 Q1259.92 1532.44 1259.92 1528.83 Q1259.92 1525.22 1257.58 1523.11 Q1255.24 1521.01 1251.24 1521.01 Q1249.36 1521.01 1247.49 1521.42 Q1245.63 1521.84 1243.69 1522.72 L1243.69 1505.36 Z\" fill=\"#000000\" fill-rule=\"evenodd\" fill-opacity=\"1\" /><path clip-path=\"url(#clip620)\" d=\"M 0 0 M1279.66 1508.44 Q1276.05 1508.44 1274.22 1512 Q1272.42 1515.55 1272.42 1522.67 Q1272.42 1529.78 1274.22 1533.35 Q1276.05 1536.89 1279.66 1536.89 Q1283.3 1536.89 1285.1 1533.35 Q1286.93 1529.78 1286.93 1522.67 Q1286.93 1515.55 1285.1 1512 Q1283.3 1508.44 1279.66 1508.44 M1279.66 1504.73 Q1285.47 1504.73 1288.53 1509.34 Q1291.61 1513.92 1291.61 1522.67 Q1291.61 1531.4 1288.53 1536.01 Q1285.47 1540.59 1279.66 1540.59 Q1273.85 1540.59 1270.77 1536.01 Q1267.72 1531.4 1267.72 1522.67 Q1267.72 1513.92 1270.77 1509.34 Q1273.85 1504.73 1279.66 1504.73 Z\" fill=\"#000000\" fill-rule=\"evenodd\" fill-opacity=\"1\" /><path clip-path=\"url(#clip620)\" d=\"M 0 0 M1746.39 1508.44 Q1742.78 1508.44 1740.95 1512 Q1739.14 1515.55 1739.14 1522.67 Q1739.14 1529.78 1740.95 1533.35 Q1742.78 1536.89 1746.39 1536.89 Q1750.02 1536.89 1751.83 1533.35 Q1753.66 1529.78 1753.66 1522.67 Q1753.66 1515.55 1751.83 1512 Q1750.02 1508.44 1746.39 1508.44 M1746.39 1504.73 Q1752.2 1504.73 1755.25 1509.34 Q1758.33 1513.92 1758.33 1522.67 Q1758.33 1531.4 1755.25 1536.01 Q1752.2 1540.59 1746.39 1540.59 Q1740.58 1540.59 1737.5 1536.01 Q1734.44 1531.4 1734.44 1522.67 Q1734.44 1513.92 1737.5 1509.34 Q1740.58 1504.73 1746.39 1504.73 Z\" fill=\"#000000\" fill-rule=\"evenodd\" fill-opacity=\"1\" /><path clip-path=\"url(#clip620)\" d=\"M 0 0 M1763.4 1534.04 L1768.29 1534.04 L1768.29 1539.92 L1763.4 1539.92 L1763.4 1534.04 Z\" fill=\"#000000\" fill-rule=\"evenodd\" fill-opacity=\"1\" /><path clip-path=\"url(#clip620)\" d=\"M 0 0 M1772.17 1505.36 L1794.4 1505.36 L1794.4 1507.35 L1781.85 1539.92 L1776.97 1539.92 L1788.77 1509.3 L1772.17 1509.3 L1772.17 1505.36 Z\" fill=\"#000000\" fill-rule=\"evenodd\" fill-opacity=\"1\" /><path clip-path=\"url(#clip620)\" d=\"M 0 0 M1799.51 1505.36 L1817.87 1505.36 L1817.87 1509.3 L1803.79 1509.3 L1803.79 1517.77 Q1804.81 1517.42 1805.83 1517.26 Q1806.85 1517.07 1807.87 1517.07 Q1813.66 1517.07 1817.04 1520.24 Q1820.41 1523.42 1820.41 1528.83 Q1820.41 1534.41 1816.94 1537.51 Q1813.47 1540.59 1807.15 1540.59 Q1804.97 1540.59 1802.71 1540.22 Q1800.46 1539.85 1798.05 1539.11 L1798.05 1534.41 Q1800.14 1535.54 1802.36 1536.1 Q1804.58 1536.66 1807.06 1536.66 Q1811.06 1536.66 1813.4 1534.55 Q1815.74 1532.44 1815.74 1528.83 Q1815.74 1525.22 1813.4 1523.11 Q1811.06 1521.01 1807.06 1521.01 Q1805.18 1521.01 1803.31 1521.42 Q1801.46 1521.84 1799.51 1522.72 L1799.51 1505.36 Z\" fill=\"#000000\" fill-rule=\"evenodd\" fill-opacity=\"1\" /><path clip-path=\"url(#clip620)\" d=\"M 0 0 M2265.08 1535.98 L2272.72 1535.98 L2272.72 1509.62 L2264.41 1511.29 L2264.41 1507.03 L2272.67 1505.36 L2277.35 1505.36 L2277.35 1535.98 L2284.99 1535.98 L2284.99 1539.92 L2265.08 1539.92 L2265.08 1535.98 Z\" fill=\"#000000\" fill-rule=\"evenodd\" fill-opacity=\"1\" /><path clip-path=\"url(#clip620)\" d=\"M 0 0 M2290.06 1534.04 L2294.94 1534.04 L2294.94 1539.92 L2290.06 1539.92 L2290.06 1534.04 Z\" fill=\"#000000\" fill-rule=\"evenodd\" fill-opacity=\"1\" /><path clip-path=\"url(#clip620)\" d=\"M 0 0 M2310.01 1508.44 Q2306.4 1508.44 2304.57 1512 Q2302.77 1515.55 2302.77 1522.67 Q2302.77 1529.78 2304.57 1533.35 Q2306.4 1536.89 2310.01 1536.89 Q2313.65 1536.89 2315.45 1533.35 Q2317.28 1529.78 2317.28 1522.67 Q2317.28 1515.55 2315.45 1512 Q2313.65 1508.44 2310.01 1508.44 M2310.01 1504.73 Q2315.82 1504.73 2318.88 1509.34 Q2321.96 1513.92 2321.96 1522.67 Q2321.96 1531.4 2318.88 1536.01 Q2315.82 1540.59 2310.01 1540.59 Q2304.2 1540.59 2301.12 1536.01 Q2298.07 1531.4 2298.07 1522.67 Q2298.07 1513.92 2301.12 1509.34 Q2304.2 1504.73 2310.01 1504.73 Z\" fill=\"#000000\" fill-rule=\"evenodd\" fill-opacity=\"1\" /><path clip-path=\"url(#clip620)\" d=\"M 0 0 M2337.02 1508.44 Q2333.41 1508.44 2331.58 1512 Q2329.78 1515.55 2329.78 1522.67 Q2329.78 1529.78 2331.58 1533.35 Q2333.41 1536.89 2337.02 1536.89 Q2340.66 1536.89 2342.46 1533.35 Q2344.29 1529.78 2344.29 1522.67 Q2344.29 1515.55 2342.46 1512 Q2340.66 1508.44 2337.02 1508.44 M2337.02 1504.73 Q2342.83 1504.73 2345.89 1509.34 Q2348.97 1513.92 2348.97 1522.67 Q2348.97 1531.4 2345.89 1536.01 Q2342.83 1540.59 2337.02 1540.59 Q2331.21 1540.59 2328.14 1536.01 Q2325.08 1531.4 2325.08 1522.67 Q2325.08 1513.92 2328.14 1509.34 Q2331.21 1504.73 2337.02 1504.73 Z\" fill=\"#000000\" fill-rule=\"evenodd\" fill-opacity=\"1\" /><path clip-path=\"url(#clip620)\" d=\"M 0 0 M62.9921 1278.39 L75.4689 1278.39 L75.4689 1282.19 L62.9921 1282.19 L62.9921 1278.39 Z\" fill=\"#000000\" fill-rule=\"evenodd\" fill-opacity=\"1\" /><path clip-path=\"url(#clip620)\" d=\"M 0 0 M91.117 1274.13 Q87.9688 1274.13 86.117 1276.29 Q84.2883 1278.44 84.2883 1282.19 Q84.2883 1285.92 86.117 1288.09 Q87.9688 1290.25 91.117 1290.25 Q94.2651 1290.25 96.0938 1288.09 Q97.9456 1285.92 97.9456 1282.19 Q97.9456 1278.44 96.0938 1276.29 Q94.2651 1274.13 91.117 1274.13 M100.399 1259.48 L100.399 1263.74 Q98.6401 1262.91 96.8345 1262.47 Q95.0521 1262.03 93.2929 1262.03 Q88.6633 1262.03 86.2096 1265.15 Q83.7791 1268.28 83.4318 1274.6 Q84.7976 1272.58 86.8577 1271.52 Q88.9179 1270.43 91.3948 1270.43 Q96.6031 1270.43 99.6123 1273.6 Q102.645 1276.75 102.645 1282.19 Q102.645 1287.51 99.4966 1290.73 Q96.3484 1293.95 91.117 1293.95 Q85.1216 1293.95 81.9504 1289.37 Q78.7791 1284.76 78.7791 1276.03 Q78.7791 1267.84 82.6679 1262.98 Q86.5568 1258.09 93.1077 1258.09 Q94.867 1258.09 96.6494 1258.44 Q98.4549 1258.79 100.399 1259.48 Z\" fill=\"#000000\" fill-rule=\"evenodd\" fill-opacity=\"1\" /><path clip-path=\"url(#clip620)\" d=\"M 0 0 M63.8023 1023.82 L76.2791 1023.82 L76.2791 1027.61 L63.8023 1027.61 L63.8023 1023.82 Z\" fill=\"#000000\" fill-rule=\"evenodd\" fill-opacity=\"1\" /><path clip-path=\"url(#clip620)\" d=\"M 0 0 M95.5151 1020.07 Q98.8716 1020.79 100.747 1023.05 Q102.645 1025.32 102.645 1028.66 Q102.645 1033.77 99.1262 1036.57 Q95.6077 1039.37 89.1262 1039.37 Q86.9503 1039.37 84.6355 1038.93 Q82.3439 1038.52 79.8902 1037.66 L79.8902 1033.15 Q81.8346 1034.28 84.1494 1034.86 Q86.4642 1035.44 88.9874 1035.44 Q93.3855 1035.44 95.6771 1033.7 Q97.9919 1031.97 97.9919 1028.66 Q97.9919 1025.6 95.8392 1023.89 Q93.7096 1022.15 89.8901 1022.15 L85.8624 1022.15 L85.8624 1018.31 L90.0753 1018.31 Q93.5244 1018.31 95.3531 1016.94 Q97.1818 1015.55 97.1818 1012.96 Q97.1818 1010.3 95.2836 1008.89 Q93.4086 1007.45 89.8901 1007.45 Q87.9688 1007.45 85.7698 1007.87 Q83.5707 1008.29 80.9318 1009.17 L80.9318 1005 Q83.5939 1004.26 85.9087 1003.89 Q88.2466 1003.52 90.3068 1003.52 Q95.6308 1003.52 98.7327 1005.95 Q101.835 1008.36 101.835 1012.48 Q101.835 1015.35 100.191 1017.34 Q98.5475 1019.3 95.5151 1020.07 Z\" fill=\"#000000\" fill-rule=\"evenodd\" fill-opacity=\"1\" /><path clip-path=\"url(#clip620)\" d=\"M 0 0 M90.7003 752.645 Q87.0892 752.645 85.2605 756.209 Q83.455 759.751 83.455 766.881 Q83.455 773.987 85.2605 777.552 Q87.0892 781.094 90.7003 781.094 Q94.3346 781.094 96.1401 777.552 Q97.9688 773.987 97.9688 766.881 Q97.9688 759.751 96.1401 756.209 Q94.3346 752.645 90.7003 752.645 M90.7003 748.941 Q96.5105 748.941 99.566 753.547 Q102.645 758.131 102.645 766.881 Q102.645 775.608 99.566 780.214 Q96.5105 784.797 90.7003 784.797 Q84.8902 784.797 81.8115 780.214 Q78.7559 775.608 78.7559 766.881 Q78.7559 758.131 81.8115 753.547 Q84.8902 748.941 90.7003 748.941 Z\" fill=\"#000000\" fill-rule=\"evenodd\" fill-opacity=\"1\" /><path clip-path=\"url(#clip620)\" d=\"M 0 0 M95.5151 510.916 Q98.8716 511.633 100.747 513.902 Q102.645 516.17 102.645 519.504 Q102.645 524.619 99.1262 527.42 Q95.6077 530.221 89.1262 530.221 Q86.9503 530.221 84.6355 529.781 Q82.3439 529.365 79.8902 528.508 L79.8902 523.994 Q81.8346 525.129 84.1494 525.707 Q86.4642 526.286 88.9874 526.286 Q93.3855 526.286 95.6771 524.55 Q97.9919 522.814 97.9919 519.504 Q97.9919 516.448 95.8392 514.735 Q93.7096 512.999 89.8901 512.999 L85.8624 512.999 L85.8624 509.156 L90.0753 509.156 Q93.5244 509.156 95.3531 507.791 Q97.1818 506.402 97.1818 503.809 Q97.1818 501.147 95.2836 499.735 Q93.4086 498.3 89.8901 498.3 Q87.9688 498.3 85.7698 498.717 Q83.5707 499.133 80.9318 500.013 L80.9318 495.846 Q83.5939 495.106 85.9087 494.735 Q88.2466 494.365 90.3068 494.365 Q95.6308 494.365 98.7327 496.795 Q101.835 499.203 101.835 503.323 Q101.835 506.193 100.191 508.184 Q98.5475 510.152 95.5151 510.916 Z\" fill=\"#000000\" fill-rule=\"evenodd\" fill-opacity=\"1\" /><path clip-path=\"url(#clip620)\" d=\"M 0 0 M91.117 255.83 Q87.9688 255.83 86.117 257.983 Q84.2883 260.136 84.2883 263.886 Q84.2883 267.613 86.117 269.789 Q87.9688 271.941 91.117 271.941 Q94.2651 271.941 96.0938 269.789 Q97.9456 267.613 97.9456 263.886 Q97.9456 260.136 96.0938 257.983 Q94.2651 255.83 91.117 255.83 M100.399 241.178 L100.399 245.437 Q98.6401 244.603 96.8345 244.164 Q95.0521 243.724 93.2929 243.724 Q88.6633 243.724 86.2096 246.849 Q83.7791 249.974 83.4318 256.293 Q84.7976 254.279 86.8577 253.215 Q88.9179 252.127 91.3948 252.127 Q96.6031 252.127 99.6123 255.298 Q102.645 258.446 102.645 263.886 Q102.645 269.21 99.4966 272.427 Q96.3484 275.645 91.117 275.645 Q85.1216 275.645 81.9504 271.062 Q78.7791 266.455 78.7791 257.728 Q78.7791 249.534 82.6679 244.673 Q86.5568 239.789 93.1077 239.789 Q94.867 239.789 96.6494 240.136 Q98.4549 240.483 100.399 241.178 Z\" fill=\"#000000\" fill-rule=\"evenodd\" fill-opacity=\"1\" /><polyline clip-path=\"url(#clip622)\" style=\"stroke:#009af9; stroke-width:4; stroke-opacity:1; fill:none\" points=\"\n",
       "  1989.13,1445.72 2157.44,1437.23 206.584,1428.74 370.655,1420.26 532.609,1411.77 692.445,1403.29 850.165,1394.8 1005.77,1386.31 1159.25,1377.83 1310.62,1369.34 \n",
       "  1459.87,1360.86 1607.01,1352.37 1752.02,1343.89 1894.92,1335.4 2035.71,1326.91 2174.37,1318.43 193.882,1309.94 328.314,1301.46 460.629,1292.97 590.827,1284.48 \n",
       "  718.908,1276 844.872,1267.51 968.719,1259.03 1090.45,1250.54 1210.06,1242.05 1327.56,1233.57 1442.94,1225.08 1556.2,1216.6 1667.34,1208.11 1776.37,1199.63 \n",
       "  1883.28,1191.14 1988.07,1182.65 2090.75,1174.17 2191.31,1165.68 2289.75,1157.2 269.037,1148.71 363.245,1140.22 455.337,1131.74 545.311,1123.25 633.168,1114.77 \n",
       "  718.908,1106.28 802.531,1097.79 884.037,1089.31 963.426,1080.82 1040.7,1072.34 1115.85,1063.85 1188.89,1055.37 1259.81,1046.88 1328.62,1038.39 1395.3,1029.91 \n",
       "  1459.87,1021.42 1522.33,1012.94 1582.66,1004.45 1640.88,995.965 1696.98,987.479 1750.97,978.993 1802.83,970.507 1852.58,962.021 1900.22,953.535 1945.73,945.049 \n",
       "  1989.13,936.563 2030.42,928.078 2069.58,919.592 2106.63,911.106 2141.56,902.62 2174.37,894.134 2205.07,885.648 2233.65,877.162 2260.11,868.676 2284.46,860.191 \n",
       "  189.648,851.705 209.76,843.219 227.755,834.733 243.632,826.247 257.393,817.761 269.037,809.275 278.564,800.789 285.973,792.304 291.266,783.818 294.441,775.332 \n",
       "  295.5,766.846 294.441,758.36 291.266,749.874 285.973,741.388 278.564,732.902 269.037,724.417 257.393,715.931 243.632,707.445 227.755,698.959 209.76,690.473 \n",
       "  189.648,681.987 2284.46,673.501 2260.11,665.016 2233.65,656.53 2205.07,648.044 2174.37,639.558 2141.56,631.072 2106.63,622.586 2069.58,614.1 2030.42,605.614 \n",
       "  1989.13,597.129 1945.73,588.643 1900.22,580.157 1852.58,571.671 1802.83,563.185 1750.97,554.699 1696.98,546.213 1640.88,537.727 1582.66,529.242 1522.33,520.756 \n",
       "  1459.87,512.27 1395.3,503.784 1328.62,495.298 1259.81,486.812 1188.89,478.326 1115.85,469.84 1040.7,461.355 963.426,452.869 884.037,444.383 802.531,435.897 \n",
       "  718.908,427.411 633.168,418.925 545.311,410.439 455.337,401.954 363.245,393.468 269.037,384.982 2289.75,376.496 2191.31,368.01 2090.75,359.524 1988.07,351.038 \n",
       "  1883.28,342.552 1776.37,334.067 1667.34,325.581 1556.2,317.095 1442.94,308.609 1327.56,300.123 1210.06,291.637 1090.45,283.151 968.719,274.665 844.872,266.18 \n",
       "  718.908,257.694 590.827,249.208 460.629,240.722 328.314,232.236 193.882,223.75 2174.37,215.264 2035.71,206.778 1894.92,198.293 1752.02,189.807 1607.01,181.321 \n",
       "  1459.87,172.835 1310.62,164.349 1159.25,155.863 1005.77,147.377 850.165,138.892 692.445,130.406 532.609,121.92 370.655,113.434 206.584,104.948 2157.44,96.4621 \n",
       "  1989.13,87.9763 \n",
       "  \"/>\n",
       "<polyline clip-path=\"url(#clip622)\" style=\"stroke:#e26f46; stroke-width:4; stroke-opacity:1; fill:none\" points=\"\n",
       "  189.648,1445.72 189.648,1437.23 189.648,1428.74 189.648,1420.26 189.648,1411.77 189.648,1403.29 189.648,1394.8 189.648,1386.31 189.648,1377.83 189.648,1369.34 \n",
       "  189.648,1360.86 189.648,1352.37 189.648,1343.89 189.648,1335.4 189.648,1326.91 189.648,1318.43 189.648,1309.94 189.648,1301.46 189.648,1292.97 189.648,1284.48 \n",
       "  189.648,1276 189.648,1267.51 189.648,1259.03 189.648,1250.54 189.648,1242.05 189.648,1233.57 189.648,1225.08 189.648,1216.6 189.648,1208.11 189.648,1199.63 \n",
       "  189.648,1191.14 189.648,1182.65 189.648,1174.17 189.648,1165.68 189.648,1157.2 189.648,1148.71 189.648,1140.22 189.648,1131.74 189.648,1123.25 189.648,1114.77 \n",
       "  189.648,1106.28 189.648,1097.79 189.648,1089.31 189.648,1080.82 189.648,1072.34 189.648,1063.85 189.648,1055.37 189.648,1046.88 189.648,1038.39 189.648,1029.91 \n",
       "  189.648,1021.42 189.648,1012.94 189.648,1004.45 189.648,995.965 189.648,987.479 189.648,978.993 189.648,970.507 189.648,962.021 189.648,953.535 189.648,945.049 \n",
       "  189.648,936.563 189.648,928.078 189.648,919.592 189.648,911.106 189.648,902.62 189.648,894.134 189.648,885.648 189.648,877.162 189.648,868.676 189.648,860.191 \n",
       "  189.648,851.705 189.648,843.219 189.648,834.733 189.648,826.247 189.648,817.761 189.648,809.275 189.648,800.789 189.648,792.304 189.648,783.818 189.648,775.332 \n",
       "  189.648,766.846 189.648,758.36 189.648,749.874 189.648,741.388 189.648,732.902 189.648,724.417 189.648,715.931 189.648,707.445 189.648,698.959 189.648,690.473 \n",
       "  189.648,681.987 189.648,673.501 189.648,665.016 189.648,656.53 189.648,648.044 189.648,639.558 189.648,631.072 189.648,622.586 189.648,614.1 189.648,605.614 \n",
       "  189.648,597.129 189.648,588.643 189.648,580.157 189.648,571.671 189.648,563.185 189.648,554.699 189.648,546.213 189.648,537.727 189.648,529.242 189.648,520.756 \n",
       "  189.648,512.27 189.648,503.784 189.648,495.298 189.648,486.812 189.648,478.326 189.648,469.84 189.648,461.355 189.648,452.869 189.648,444.383 189.648,435.897 \n",
       "  189.648,427.411 189.648,418.925 189.648,410.439 189.648,401.954 189.648,393.468 189.648,384.982 189.648,376.496 189.648,368.01 189.648,359.524 189.648,351.038 \n",
       "  189.648,342.552 189.648,334.067 189.648,325.581 189.648,317.095 189.648,308.609 189.648,300.123 189.648,291.637 189.648,283.151 189.648,274.665 189.648,266.18 \n",
       "  189.648,257.694 189.648,249.208 189.648,240.722 189.648,232.236 189.648,223.75 189.648,215.264 189.648,206.778 189.648,198.293 189.648,189.807 189.648,181.321 \n",
       "  189.648,172.835 189.648,164.349 189.648,155.863 189.648,147.377 189.648,138.892 189.648,130.406 189.648,121.92 189.648,113.434 189.648,104.948 189.648,96.4621 \n",
       "  189.648,87.9763 \n",
       "  \"/>\n",
       "<circle clip-path=\"url(#clip622)\" cx=\"1569.02\" cy=\"1006.4\" r=\"14\" fill=\"#3da44d\" fill-rule=\"evenodd\" fill-opacity=\"1\" stroke=\"#000000\" stroke-opacity=\"1\" stroke-width=\"3.2\"/>\n",
       "<circle clip-path=\"url(#clip622)\" cx=\"1636.52\" cy=\"537.081\" r=\"14\" fill=\"#3da44d\" fill-rule=\"evenodd\" fill-opacity=\"1\" stroke=\"#000000\" stroke-opacity=\"1\" stroke-width=\"3.2\"/>\n",
       "<circle clip-path=\"url(#clip622)\" cx=\"295.097\" cy=\"761.613\" r=\"14\" fill=\"#c271d2\" fill-rule=\"evenodd\" fill-opacity=\"1\" stroke=\"#000000\" stroke-opacity=\"1\" stroke-width=\"3.2\"/>\n",
       "<circle clip-path=\"url(#clip622)\" cx=\"189.648\" cy=\"1048.29\" r=\"14\" fill=\"#ac8d18\" fill-rule=\"evenodd\" fill-opacity=\"1\" stroke=\"#000000\" stroke-opacity=\"1\" stroke-width=\"3.2\"/>\n",
       "<circle clip-path=\"url(#clip622)\" cx=\"189.648\" cy=\"485.401\" r=\"14\" fill=\"#ac8d18\" fill-rule=\"evenodd\" fill-opacity=\"1\" stroke=\"#000000\" stroke-opacity=\"1\" stroke-width=\"3.2\"/>\n",
       "<circle clip-path=\"url(#clip622)\" cx=\"189.648\" cy=\"766.846\" r=\"14\" fill=\"#00a9ad\" fill-rule=\"evenodd\" fill-opacity=\"1\" stroke=\"#000000\" stroke-opacity=\"1\" stroke-width=\"3.2\"/>\n",
       "<circle clip-path=\"url(#clip622)\" cx=\"294.598\" cy=\"759.013\" r=\"14\" fill=\"#800080\" fill-rule=\"evenodd\" fill-opacity=\"1\" stroke=\"#000000\" stroke-opacity=\"1\" stroke-width=\"3.2\"/>\n",
       "<circle clip-path=\"url(#clip622)\" cx=\"1292.48\" cy=\"1236.12\" r=\"14\" fill=\"#00a98d\" fill-rule=\"evenodd\" fill-opacity=\"1\" stroke=\"#000000\" stroke-opacity=\"1\" stroke-width=\"3.2\"/>\n",
       "<circle clip-path=\"url(#clip622)\" cx=\"1318.93\" cy=\"299.495\" r=\"14\" fill=\"#00a98d\" fill-rule=\"evenodd\" fill-opacity=\"1\" stroke=\"#000000\" stroke-opacity=\"1\" stroke-width=\"3.2\"/>\n",
       "<circle clip-path=\"url(#clip622)\" cx=\"293.905\" cy=\"756.429\" r=\"14\" fill=\"#8e971d\" fill-rule=\"evenodd\" fill-opacity=\"1\" stroke=\"#000000\" stroke-opacity=\"1\" stroke-width=\"3.2\"/>\n",
       "</svg>\n"
      ]
     },
     "execution_count": 32,
     "metadata": {},
     "output_type": "execute_result"
    }
   ],
   "source": [
    "listaYB = [y for y in -8.0:0.1:8.0]\n",
    "listaXB = zeros(length(listaYB))\n",
    "listaY = [y for y in -8.0:0.1:8.0]\n",
    "listaX = [mod((0.1/2)*(1-y^2),1) for y in listaY]\n",
    "plot(listaX, listaY, label = \"\")\n",
    "plot!(listaXB, listaYB, label = \"\")\n",
    "scatter!([cerosXAa,cerosXAb],[cerosYAa, cerosYAb], label = \"\")\n",
    "scatter!([cerosXBa,cerosXBb],[cerosYBa, cerosYBb], label = \"\")\n",
    "scatter!([ceros3XAa,ceros3XAb],[ceros3YAa, ceros3YAb], label = \"\", color  = \"purple\")\n",
    "scatter!([ceros4XAa,ceros4XAb],[ceros4YAa, ceros4YAb], label = \"\")"
   ]
  },
  {
   "cell_type": "markdown",
   "metadata": {},
   "source": [
    "Con la segunda condicion $x=0.0$"
   ]
  },
  {
   "cell_type": "code",
   "execution_count": 33,
   "metadata": {},
   "outputs": [
    {
     "data": {
      "text/plain": [
       "MapeoB4Y (generic function with 1 method)"
      ]
     },
     "execution_count": 33,
     "metadata": {},
     "output_type": "execute_result"
    }
   ],
   "source": [
    "MapeoB4X(y) = MapeoBX(MapeoBX(MapeoBX(MapeoBX(y))))\n",
    "MapeoB4Y(y) = MapeoBY(MapeoBY(MapeoBY(MapeoBY(y))))"
   ]
  },
  {
   "cell_type": "code",
   "execution_count": 34,
   "metadata": {},
   "outputs": [
    {
     "data": {
      "text/plain": [
       "1-element Array{Float64,1}:\n",
       " 0.0"
      ]
     },
     "execution_count": 34,
     "metadata": {},
     "output_type": "execute_result"
    }
   ],
   "source": [
    "ceros4YBa = find_zeros(MapeoB4X,-8.0,8.0)\n",
    "ceros4YBb = find_zeros(MapeoB4Y,-8.0,8.0)"
   ]
  },
  {
   "cell_type": "code",
   "execution_count": 35,
   "metadata": {},
   "outputs": [
    {
     "data": {
      "text/plain": [
       "1-element Array{Float64,1}:\n",
       " 0.0"
      ]
     },
     "execution_count": 35,
     "metadata": {},
     "output_type": "execute_result"
    }
   ],
   "source": [
    "ceros4XBa = zeros(length(ceros4YBa))\n",
    "ceros4XBb = zeros(length(ceros4YBb))"
   ]
  },
  {
   "cell_type": "code",
   "execution_count": 36,
   "metadata": {},
   "outputs": [
    {
     "data": {
      "image/svg+xml": [
       "<?xml version=\"1.0\" encoding=\"utf-8\"?>\n",
       "<svg xmlns=\"http://www.w3.org/2000/svg\" xmlns:xlink=\"http://www.w3.org/1999/xlink\" width=\"600\" height=\"400\" viewBox=\"0 0 2400 1600\">\n",
       "<defs>\n",
       "  <clipPath id=\"clip660\">\n",
       "    <rect x=\"0\" y=\"0\" width=\"2400\" height=\"1600\"/>\n",
       "  </clipPath>\n",
       "</defs>\n",
       "<path clip-path=\"url(#clip660)\" d=\"\n",
       "M0 1600 L2400 1600 L2400 0 L0 0  Z\n",
       "  \" fill=\"#ffffff\" fill-rule=\"evenodd\" fill-opacity=\"1\"/>\n",
       "<defs>\n",
       "  <clipPath id=\"clip661\">\n",
       "    <rect x=\"480\" y=\"0\" width=\"1681\" height=\"1600\"/>\n",
       "  </clipPath>\n",
       "</defs>\n",
       "<path clip-path=\"url(#clip660)\" d=\"\n",
       "M126.645 1486.45 L2352.76 1486.45 L2352.76 47.2441 L126.645 47.2441  Z\n",
       "  \" fill=\"#ffffff\" fill-rule=\"evenodd\" fill-opacity=\"1\"/>\n",
       "<defs>\n",
       "  <clipPath id=\"clip662\">\n",
       "    <rect x=\"126\" y=\"47\" width=\"2227\" height=\"1440\"/>\n",
       "  </clipPath>\n",
       "</defs>\n",
       "<polyline clip-path=\"url(#clip662)\" style=\"stroke:#000000; stroke-width:2; stroke-opacity:0.1; fill:none\" points=\"\n",
       "  189.648,1486.45 189.648,47.2441 \n",
       "  \"/>\n",
       "<polyline clip-path=\"url(#clip662)\" style=\"stroke:#000000; stroke-width:2; stroke-opacity:0.1; fill:none\" points=\"\n",
       "  718.908,1486.45 718.908,47.2441 \n",
       "  \"/>\n",
       "<polyline clip-path=\"url(#clip662)\" style=\"stroke:#000000; stroke-width:2; stroke-opacity:0.1; fill:none\" points=\"\n",
       "  1248.17,1486.45 1248.17,47.2441 \n",
       "  \"/>\n",
       "<polyline clip-path=\"url(#clip662)\" style=\"stroke:#000000; stroke-width:2; stroke-opacity:0.1; fill:none\" points=\"\n",
       "  1777.43,1486.45 1777.43,47.2441 \n",
       "  \"/>\n",
       "<polyline clip-path=\"url(#clip662)\" style=\"stroke:#000000; stroke-width:2; stroke-opacity:0.1; fill:none\" points=\"\n",
       "  2306.69,1486.45 2306.69,47.2441 \n",
       "  \"/>\n",
       "<polyline clip-path=\"url(#clip662)\" style=\"stroke:#000000; stroke-width:2; stroke-opacity:0.1; fill:none\" points=\"\n",
       "  126.645,1276 2352.76,1276 \n",
       "  \"/>\n",
       "<polyline clip-path=\"url(#clip662)\" style=\"stroke:#000000; stroke-width:2; stroke-opacity:0.1; fill:none\" points=\"\n",
       "  126.645,1021.42 2352.76,1021.42 \n",
       "  \"/>\n",
       "<polyline clip-path=\"url(#clip662)\" style=\"stroke:#000000; stroke-width:2; stroke-opacity:0.1; fill:none\" points=\"\n",
       "  126.645,766.846 2352.76,766.846 \n",
       "  \"/>\n",
       "<polyline clip-path=\"url(#clip662)\" style=\"stroke:#000000; stroke-width:2; stroke-opacity:0.1; fill:none\" points=\"\n",
       "  126.645,512.27 2352.76,512.27 \n",
       "  \"/>\n",
       "<polyline clip-path=\"url(#clip662)\" style=\"stroke:#000000; stroke-width:2; stroke-opacity:0.1; fill:none\" points=\"\n",
       "  126.645,257.694 2352.76,257.694 \n",
       "  \"/>\n",
       "<polyline clip-path=\"url(#clip660)\" style=\"stroke:#000000; stroke-width:4; stroke-opacity:1; fill:none\" points=\"\n",
       "  126.645,1486.45 2352.76,1486.45 \n",
       "  \"/>\n",
       "<polyline clip-path=\"url(#clip660)\" style=\"stroke:#000000; stroke-width:4; stroke-opacity:1; fill:none\" points=\"\n",
       "  126.645,1486.45 126.645,47.2441 \n",
       "  \"/>\n",
       "<polyline clip-path=\"url(#clip660)\" style=\"stroke:#000000; stroke-width:4; stroke-opacity:1; fill:none\" points=\"\n",
       "  189.648,1486.45 189.648,1469.18 \n",
       "  \"/>\n",
       "<polyline clip-path=\"url(#clip660)\" style=\"stroke:#000000; stroke-width:4; stroke-opacity:1; fill:none\" points=\"\n",
       "  718.908,1486.45 718.908,1469.18 \n",
       "  \"/>\n",
       "<polyline clip-path=\"url(#clip660)\" style=\"stroke:#000000; stroke-width:4; stroke-opacity:1; fill:none\" points=\"\n",
       "  1248.17,1486.45 1248.17,1469.18 \n",
       "  \"/>\n",
       "<polyline clip-path=\"url(#clip660)\" style=\"stroke:#000000; stroke-width:4; stroke-opacity:1; fill:none\" points=\"\n",
       "  1777.43,1486.45 1777.43,1469.18 \n",
       "  \"/>\n",
       "<polyline clip-path=\"url(#clip660)\" style=\"stroke:#000000; stroke-width:4; stroke-opacity:1; fill:none\" points=\"\n",
       "  2306.69,1486.45 2306.69,1469.18 \n",
       "  \"/>\n",
       "<polyline clip-path=\"url(#clip660)\" style=\"stroke:#000000; stroke-width:4; stroke-opacity:1; fill:none\" points=\"\n",
       "  126.645,1276 153.358,1276 \n",
       "  \"/>\n",
       "<polyline clip-path=\"url(#clip660)\" style=\"stroke:#000000; stroke-width:4; stroke-opacity:1; fill:none\" points=\"\n",
       "  126.645,1021.42 153.358,1021.42 \n",
       "  \"/>\n",
       "<polyline clip-path=\"url(#clip660)\" style=\"stroke:#000000; stroke-width:4; stroke-opacity:1; fill:none\" points=\"\n",
       "  126.645,766.846 153.358,766.846 \n",
       "  \"/>\n",
       "<polyline clip-path=\"url(#clip660)\" style=\"stroke:#000000; stroke-width:4; stroke-opacity:1; fill:none\" points=\"\n",
       "  126.645,512.27 153.358,512.27 \n",
       "  \"/>\n",
       "<polyline clip-path=\"url(#clip660)\" style=\"stroke:#000000; stroke-width:4; stroke-opacity:1; fill:none\" points=\"\n",
       "  126.645,257.694 153.358,257.694 \n",
       "  \"/>\n",
       "<path clip-path=\"url(#clip660)\" d=\"M 0 0 M157.657 1508.44 Q154.046 1508.44 152.217 1512 Q150.412 1515.55 150.412 1522.67 Q150.412 1529.78 152.217 1533.35 Q154.046 1536.89 157.657 1536.89 Q161.292 1536.89 163.097 1533.35 Q164.926 1529.78 164.926 1522.67 Q164.926 1515.55 163.097 1512 Q161.292 1508.44 157.657 1508.44 M157.657 1504.73 Q163.467 1504.73 166.523 1509.34 Q169.602 1513.92 169.602 1522.67 Q169.602 1531.4 166.523 1536.01 Q163.467 1540.59 157.657 1540.59 Q151.847 1540.59 148.768 1536.01 Q145.713 1531.4 145.713 1522.67 Q145.713 1513.92 148.768 1509.34 Q151.847 1504.73 157.657 1504.73 Z\" fill=\"#000000\" fill-rule=\"evenodd\" fill-opacity=\"1\" /><path clip-path=\"url(#clip660)\" d=\"M 0 0 M174.671 1534.04 L179.555 1534.04 L179.555 1539.92 L174.671 1539.92 L174.671 1534.04 Z\" fill=\"#000000\" fill-rule=\"evenodd\" fill-opacity=\"1\" /><path clip-path=\"url(#clip660)\" d=\"M 0 0 M194.625 1508.44 Q191.014 1508.44 189.185 1512 Q187.379 1515.55 187.379 1522.67 Q187.379 1529.78 189.185 1533.35 Q191.014 1536.89 194.625 1536.89 Q198.259 1536.89 200.064 1533.35 Q201.893 1529.78 201.893 1522.67 Q201.893 1515.55 200.064 1512 Q198.259 1508.44 194.625 1508.44 M194.625 1504.73 Q200.435 1504.73 203.49 1509.34 Q206.569 1513.92 206.569 1522.67 Q206.569 1531.4 203.49 1536.01 Q200.435 1540.59 194.625 1540.59 Q188.815 1540.59 185.736 1536.01 Q182.68 1531.4 182.68 1522.67 Q182.68 1513.92 185.736 1509.34 Q188.815 1504.73 194.625 1504.73 Z\" fill=\"#000000\" fill-rule=\"evenodd\" fill-opacity=\"1\" /><path clip-path=\"url(#clip660)\" d=\"M 0 0 M221.638 1508.44 Q218.027 1508.44 216.199 1512 Q214.393 1515.55 214.393 1522.67 Q214.393 1529.78 216.199 1533.35 Q218.027 1536.89 221.638 1536.89 Q225.273 1536.89 227.078 1533.35 Q228.907 1529.78 228.907 1522.67 Q228.907 1515.55 227.078 1512 Q225.273 1508.44 221.638 1508.44 M221.638 1504.73 Q227.449 1504.73 230.504 1509.34 Q233.583 1513.92 233.583 1522.67 Q233.583 1531.4 230.504 1536.01 Q227.449 1540.59 221.638 1540.59 Q215.828 1540.59 212.75 1536.01 Q209.694 1531.4 209.694 1522.67 Q209.694 1513.92 212.75 1509.34 Q215.828 1504.73 221.638 1504.73 Z\" fill=\"#000000\" fill-rule=\"evenodd\" fill-opacity=\"1\" /><path clip-path=\"url(#clip660)\" d=\"M 0 0 M688.214 1508.44 Q684.603 1508.44 682.774 1512 Q680.969 1515.55 680.969 1522.67 Q680.969 1529.78 682.774 1533.35 Q684.603 1536.89 688.214 1536.89 Q691.848 1536.89 693.654 1533.35 Q695.482 1529.78 695.482 1522.67 Q695.482 1515.55 693.654 1512 Q691.848 1508.44 688.214 1508.44 M688.214 1504.73 Q694.024 1504.73 697.08 1509.34 Q700.158 1513.92 700.158 1522.67 Q700.158 1531.4 697.08 1536.01 Q694.024 1540.59 688.214 1540.59 Q682.404 1540.59 679.325 1536.01 Q676.269 1531.4 676.269 1522.67 Q676.269 1513.92 679.325 1509.34 Q682.404 1504.73 688.214 1504.73 Z\" fill=\"#000000\" fill-rule=\"evenodd\" fill-opacity=\"1\" /><path clip-path=\"url(#clip660)\" d=\"M 0 0 M705.228 1534.04 L710.112 1534.04 L710.112 1539.92 L705.228 1539.92 L705.228 1534.04 Z\" fill=\"#000000\" fill-rule=\"evenodd\" fill-opacity=\"1\" /><path clip-path=\"url(#clip660)\" d=\"M 0 0 M719.209 1535.98 L735.528 1535.98 L735.528 1539.92 L713.584 1539.92 L713.584 1535.98 Q716.246 1533.23 720.829 1528.6 Q725.436 1523.95 726.616 1522.61 Q728.862 1520.08 729.741 1518.35 Q730.644 1516.59 730.644 1514.9 Q730.644 1512.14 728.7 1510.41 Q726.778 1508.67 723.677 1508.67 Q721.478 1508.67 719.024 1509.43 Q716.593 1510.2 713.816 1511.75 L713.816 1507.03 Q716.64 1505.89 719.093 1505.31 Q721.547 1504.73 723.584 1504.73 Q728.954 1504.73 732.149 1507.42 Q735.343 1510.11 735.343 1514.6 Q735.343 1516.73 734.533 1518.65 Q733.746 1520.54 731.64 1523.14 Q731.061 1523.81 727.959 1527.03 Q724.857 1530.22 719.209 1535.98 Z\" fill=\"#000000\" fill-rule=\"evenodd\" fill-opacity=\"1\" /><path clip-path=\"url(#clip660)\" d=\"M 0 0 M740.644 1505.36 L759.001 1505.36 L759.001 1509.3 L744.927 1509.3 L744.927 1517.77 Q745.945 1517.42 746.964 1517.26 Q747.982 1517.07 749.001 1517.07 Q754.788 1517.07 758.167 1520.24 Q761.547 1523.42 761.547 1528.83 Q761.547 1534.41 758.075 1537.51 Q754.602 1540.59 748.283 1540.59 Q746.107 1540.59 743.839 1540.22 Q741.593 1539.85 739.186 1539.11 L739.186 1534.41 Q741.269 1535.54 743.491 1536.1 Q745.714 1536.66 748.19 1536.66 Q752.195 1536.66 754.533 1534.55 Q756.871 1532.44 756.871 1528.83 Q756.871 1525.22 754.533 1523.11 Q752.195 1521.01 748.19 1521.01 Q746.315 1521.01 744.44 1521.42 Q742.589 1521.84 740.644 1522.72 L740.644 1505.36 Z\" fill=\"#000000\" fill-rule=\"evenodd\" fill-opacity=\"1\" /><path clip-path=\"url(#clip660)\" d=\"M 0 0 M1216.68 1508.44 Q1213.06 1508.44 1211.24 1512 Q1209.43 1515.55 1209.43 1522.67 Q1209.43 1529.78 1211.24 1533.35 Q1213.06 1536.89 1216.68 1536.89 Q1220.31 1536.89 1222.12 1533.35 Q1223.94 1529.78 1223.94 1522.67 Q1223.94 1515.55 1222.12 1512 Q1220.31 1508.44 1216.68 1508.44 M1216.68 1504.73 Q1222.49 1504.73 1225.54 1509.34 Q1228.62 1513.92 1228.62 1522.67 Q1228.62 1531.4 1225.54 1536.01 Q1222.49 1540.59 1216.68 1540.59 Q1210.87 1540.59 1207.79 1536.01 Q1204.73 1531.4 1204.73 1522.67 Q1204.73 1513.92 1207.79 1509.34 Q1210.87 1504.73 1216.68 1504.73 Z\" fill=\"#000000\" fill-rule=\"evenodd\" fill-opacity=\"1\" /><path clip-path=\"url(#clip660)\" d=\"M 0 0 M1233.69 1534.04 L1238.57 1534.04 L1238.57 1539.92 L1233.69 1539.92 L1233.69 1534.04 Z\" fill=\"#000000\" fill-rule=\"evenodd\" fill-opacity=\"1\" /><path clip-path=\"url(#clip660)\" d=\"M 0 0 M1243.69 1505.36 L1262.05 1505.36 L1262.05 1509.3 L1247.97 1509.3 L1247.97 1517.77 Q1248.99 1517.42 1250.01 1517.26 Q1251.03 1517.07 1252.05 1517.07 Q1257.83 1517.07 1261.21 1520.24 Q1264.59 1523.42 1264.59 1528.83 Q1264.59 1534.41 1261.12 1537.51 Q1257.65 1540.59 1251.33 1540.59 Q1249.15 1540.59 1246.88 1540.22 Q1244.64 1539.85 1242.23 1539.11 L1242.23 1534.41 Q1244.31 1535.54 1246.54 1536.1 Q1248.76 1536.66 1251.24 1536.66 Q1255.24 1536.66 1257.58 1534.55 Q1259.92 1532.44 1259.92 1528.83 Q1259.92 1525.22 1257.58 1523.11 Q1255.24 1521.01 1251.24 1521.01 Q1249.36 1521.01 1247.49 1521.42 Q1245.63 1521.84 1243.69 1522.72 L1243.69 1505.36 Z\" fill=\"#000000\" fill-rule=\"evenodd\" fill-opacity=\"1\" /><path clip-path=\"url(#clip660)\" d=\"M 0 0 M1279.66 1508.44 Q1276.05 1508.44 1274.22 1512 Q1272.42 1515.55 1272.42 1522.67 Q1272.42 1529.78 1274.22 1533.35 Q1276.05 1536.89 1279.66 1536.89 Q1283.3 1536.89 1285.1 1533.35 Q1286.93 1529.78 1286.93 1522.67 Q1286.93 1515.55 1285.1 1512 Q1283.3 1508.44 1279.66 1508.44 M1279.66 1504.73 Q1285.47 1504.73 1288.53 1509.34 Q1291.61 1513.92 1291.61 1522.67 Q1291.61 1531.4 1288.53 1536.01 Q1285.47 1540.59 1279.66 1540.59 Q1273.85 1540.59 1270.77 1536.01 Q1267.72 1531.4 1267.72 1522.67 Q1267.72 1513.92 1270.77 1509.34 Q1273.85 1504.73 1279.66 1504.73 Z\" fill=\"#000000\" fill-rule=\"evenodd\" fill-opacity=\"1\" /><path clip-path=\"url(#clip660)\" d=\"M 0 0 M1746.39 1508.44 Q1742.78 1508.44 1740.95 1512 Q1739.14 1515.55 1739.14 1522.67 Q1739.14 1529.78 1740.95 1533.35 Q1742.78 1536.89 1746.39 1536.89 Q1750.02 1536.89 1751.83 1533.35 Q1753.66 1529.78 1753.66 1522.67 Q1753.66 1515.55 1751.83 1512 Q1750.02 1508.44 1746.39 1508.44 M1746.39 1504.73 Q1752.2 1504.73 1755.25 1509.34 Q1758.33 1513.92 1758.33 1522.67 Q1758.33 1531.4 1755.25 1536.01 Q1752.2 1540.59 1746.39 1540.59 Q1740.58 1540.59 1737.5 1536.01 Q1734.44 1531.4 1734.44 1522.67 Q1734.44 1513.92 1737.5 1509.34 Q1740.58 1504.73 1746.39 1504.73 Z\" fill=\"#000000\" fill-rule=\"evenodd\" fill-opacity=\"1\" /><path clip-path=\"url(#clip660)\" d=\"M 0 0 M1763.4 1534.04 L1768.29 1534.04 L1768.29 1539.92 L1763.4 1539.92 L1763.4 1534.04 Z\" fill=\"#000000\" fill-rule=\"evenodd\" fill-opacity=\"1\" /><path clip-path=\"url(#clip660)\" d=\"M 0 0 M1772.17 1505.36 L1794.4 1505.36 L1794.4 1507.35 L1781.85 1539.92 L1776.97 1539.92 L1788.77 1509.3 L1772.17 1509.3 L1772.17 1505.36 Z\" fill=\"#000000\" fill-rule=\"evenodd\" fill-opacity=\"1\" /><path clip-path=\"url(#clip660)\" d=\"M 0 0 M1799.51 1505.36 L1817.87 1505.36 L1817.87 1509.3 L1803.79 1509.3 L1803.79 1517.77 Q1804.81 1517.42 1805.83 1517.26 Q1806.85 1517.07 1807.87 1517.07 Q1813.66 1517.07 1817.04 1520.24 Q1820.41 1523.42 1820.41 1528.83 Q1820.41 1534.41 1816.94 1537.51 Q1813.47 1540.59 1807.15 1540.59 Q1804.97 1540.59 1802.71 1540.22 Q1800.46 1539.85 1798.05 1539.11 L1798.05 1534.41 Q1800.14 1535.54 1802.36 1536.1 Q1804.58 1536.66 1807.06 1536.66 Q1811.06 1536.66 1813.4 1534.55 Q1815.74 1532.44 1815.74 1528.83 Q1815.74 1525.22 1813.4 1523.11 Q1811.06 1521.01 1807.06 1521.01 Q1805.18 1521.01 1803.31 1521.42 Q1801.46 1521.84 1799.51 1522.72 L1799.51 1505.36 Z\" fill=\"#000000\" fill-rule=\"evenodd\" fill-opacity=\"1\" /><path clip-path=\"url(#clip660)\" d=\"M 0 0 M2265.08 1535.98 L2272.72 1535.98 L2272.72 1509.62 L2264.41 1511.29 L2264.41 1507.03 L2272.67 1505.36 L2277.35 1505.36 L2277.35 1535.98 L2284.99 1535.98 L2284.99 1539.92 L2265.08 1539.92 L2265.08 1535.98 Z\" fill=\"#000000\" fill-rule=\"evenodd\" fill-opacity=\"1\" /><path clip-path=\"url(#clip660)\" d=\"M 0 0 M2290.06 1534.04 L2294.94 1534.04 L2294.94 1539.92 L2290.06 1539.92 L2290.06 1534.04 Z\" fill=\"#000000\" fill-rule=\"evenodd\" fill-opacity=\"1\" /><path clip-path=\"url(#clip660)\" d=\"M 0 0 M2310.01 1508.44 Q2306.4 1508.44 2304.57 1512 Q2302.77 1515.55 2302.77 1522.67 Q2302.77 1529.78 2304.57 1533.35 Q2306.4 1536.89 2310.01 1536.89 Q2313.65 1536.89 2315.45 1533.35 Q2317.28 1529.78 2317.28 1522.67 Q2317.28 1515.55 2315.45 1512 Q2313.65 1508.44 2310.01 1508.44 M2310.01 1504.73 Q2315.82 1504.73 2318.88 1509.34 Q2321.96 1513.92 2321.96 1522.67 Q2321.96 1531.4 2318.88 1536.01 Q2315.82 1540.59 2310.01 1540.59 Q2304.2 1540.59 2301.12 1536.01 Q2298.07 1531.4 2298.07 1522.67 Q2298.07 1513.92 2301.12 1509.34 Q2304.2 1504.73 2310.01 1504.73 Z\" fill=\"#000000\" fill-rule=\"evenodd\" fill-opacity=\"1\" /><path clip-path=\"url(#clip660)\" d=\"M 0 0 M2337.02 1508.44 Q2333.41 1508.44 2331.58 1512 Q2329.78 1515.55 2329.78 1522.67 Q2329.78 1529.78 2331.58 1533.35 Q2333.41 1536.89 2337.02 1536.89 Q2340.66 1536.89 2342.46 1533.35 Q2344.29 1529.78 2344.29 1522.67 Q2344.29 1515.55 2342.46 1512 Q2340.66 1508.44 2337.02 1508.44 M2337.02 1504.73 Q2342.83 1504.73 2345.89 1509.34 Q2348.97 1513.92 2348.97 1522.67 Q2348.97 1531.4 2345.89 1536.01 Q2342.83 1540.59 2337.02 1540.59 Q2331.21 1540.59 2328.14 1536.01 Q2325.08 1531.4 2325.08 1522.67 Q2325.08 1513.92 2328.14 1509.34 Q2331.21 1504.73 2337.02 1504.73 Z\" fill=\"#000000\" fill-rule=\"evenodd\" fill-opacity=\"1\" /><path clip-path=\"url(#clip660)\" d=\"M 0 0 M62.9921 1278.39 L75.4689 1278.39 L75.4689 1282.19 L62.9921 1282.19 L62.9921 1278.39 Z\" fill=\"#000000\" fill-rule=\"evenodd\" fill-opacity=\"1\" /><path clip-path=\"url(#clip660)\" d=\"M 0 0 M91.117 1274.13 Q87.9688 1274.13 86.117 1276.29 Q84.2883 1278.44 84.2883 1282.19 Q84.2883 1285.92 86.117 1288.09 Q87.9688 1290.25 91.117 1290.25 Q94.2651 1290.25 96.0938 1288.09 Q97.9456 1285.92 97.9456 1282.19 Q97.9456 1278.44 96.0938 1276.29 Q94.2651 1274.13 91.117 1274.13 M100.399 1259.48 L100.399 1263.74 Q98.6401 1262.91 96.8345 1262.47 Q95.0521 1262.03 93.2929 1262.03 Q88.6633 1262.03 86.2096 1265.15 Q83.7791 1268.28 83.4318 1274.6 Q84.7976 1272.58 86.8577 1271.52 Q88.9179 1270.43 91.3948 1270.43 Q96.6031 1270.43 99.6123 1273.6 Q102.645 1276.75 102.645 1282.19 Q102.645 1287.51 99.4966 1290.73 Q96.3484 1293.95 91.117 1293.95 Q85.1216 1293.95 81.9504 1289.37 Q78.7791 1284.76 78.7791 1276.03 Q78.7791 1267.84 82.6679 1262.98 Q86.5568 1258.09 93.1077 1258.09 Q94.867 1258.09 96.6494 1258.44 Q98.4549 1258.79 100.399 1259.48 Z\" fill=\"#000000\" fill-rule=\"evenodd\" fill-opacity=\"1\" /><path clip-path=\"url(#clip660)\" d=\"M 0 0 M63.8023 1023.82 L76.2791 1023.82 L76.2791 1027.61 L63.8023 1027.61 L63.8023 1023.82 Z\" fill=\"#000000\" fill-rule=\"evenodd\" fill-opacity=\"1\" /><path clip-path=\"url(#clip660)\" d=\"M 0 0 M95.5151 1020.07 Q98.8716 1020.79 100.747 1023.05 Q102.645 1025.32 102.645 1028.66 Q102.645 1033.77 99.1262 1036.57 Q95.6077 1039.37 89.1262 1039.37 Q86.9503 1039.37 84.6355 1038.93 Q82.3439 1038.52 79.8902 1037.66 L79.8902 1033.15 Q81.8346 1034.28 84.1494 1034.86 Q86.4642 1035.44 88.9874 1035.44 Q93.3855 1035.44 95.6771 1033.7 Q97.9919 1031.97 97.9919 1028.66 Q97.9919 1025.6 95.8392 1023.89 Q93.7096 1022.15 89.8901 1022.15 L85.8624 1022.15 L85.8624 1018.31 L90.0753 1018.31 Q93.5244 1018.31 95.3531 1016.94 Q97.1818 1015.55 97.1818 1012.96 Q97.1818 1010.3 95.2836 1008.89 Q93.4086 1007.45 89.8901 1007.45 Q87.9688 1007.45 85.7698 1007.87 Q83.5707 1008.29 80.9318 1009.17 L80.9318 1005 Q83.5939 1004.26 85.9087 1003.89 Q88.2466 1003.52 90.3068 1003.52 Q95.6308 1003.52 98.7327 1005.95 Q101.835 1008.36 101.835 1012.48 Q101.835 1015.35 100.191 1017.34 Q98.5475 1019.3 95.5151 1020.07 Z\" fill=\"#000000\" fill-rule=\"evenodd\" fill-opacity=\"1\" /><path clip-path=\"url(#clip660)\" d=\"M 0 0 M90.7003 752.645 Q87.0892 752.645 85.2605 756.209 Q83.455 759.751 83.455 766.881 Q83.455 773.987 85.2605 777.552 Q87.0892 781.094 90.7003 781.094 Q94.3346 781.094 96.1401 777.552 Q97.9688 773.987 97.9688 766.881 Q97.9688 759.751 96.1401 756.209 Q94.3346 752.645 90.7003 752.645 M90.7003 748.941 Q96.5105 748.941 99.566 753.547 Q102.645 758.131 102.645 766.881 Q102.645 775.608 99.566 780.214 Q96.5105 784.797 90.7003 784.797 Q84.8902 784.797 81.8115 780.214 Q78.7559 775.608 78.7559 766.881 Q78.7559 758.131 81.8115 753.547 Q84.8902 748.941 90.7003 748.941 Z\" fill=\"#000000\" fill-rule=\"evenodd\" fill-opacity=\"1\" /><path clip-path=\"url(#clip660)\" d=\"M 0 0 M95.5151 510.916 Q98.8716 511.633 100.747 513.902 Q102.645 516.17 102.645 519.504 Q102.645 524.619 99.1262 527.42 Q95.6077 530.221 89.1262 530.221 Q86.9503 530.221 84.6355 529.781 Q82.3439 529.365 79.8902 528.508 L79.8902 523.994 Q81.8346 525.129 84.1494 525.707 Q86.4642 526.286 88.9874 526.286 Q93.3855 526.286 95.6771 524.55 Q97.9919 522.814 97.9919 519.504 Q97.9919 516.448 95.8392 514.735 Q93.7096 512.999 89.8901 512.999 L85.8624 512.999 L85.8624 509.156 L90.0753 509.156 Q93.5244 509.156 95.3531 507.791 Q97.1818 506.402 97.1818 503.809 Q97.1818 501.147 95.2836 499.735 Q93.4086 498.3 89.8901 498.3 Q87.9688 498.3 85.7698 498.717 Q83.5707 499.133 80.9318 500.013 L80.9318 495.846 Q83.5939 495.106 85.9087 494.735 Q88.2466 494.365 90.3068 494.365 Q95.6308 494.365 98.7327 496.795 Q101.835 499.203 101.835 503.323 Q101.835 506.193 100.191 508.184 Q98.5475 510.152 95.5151 510.916 Z\" fill=\"#000000\" fill-rule=\"evenodd\" fill-opacity=\"1\" /><path clip-path=\"url(#clip660)\" d=\"M 0 0 M91.117 255.83 Q87.9688 255.83 86.117 257.983 Q84.2883 260.136 84.2883 263.886 Q84.2883 267.613 86.117 269.789 Q87.9688 271.941 91.117 271.941 Q94.2651 271.941 96.0938 269.789 Q97.9456 267.613 97.9456 263.886 Q97.9456 260.136 96.0938 257.983 Q94.2651 255.83 91.117 255.83 M100.399 241.178 L100.399 245.437 Q98.6401 244.603 96.8345 244.164 Q95.0521 243.724 93.2929 243.724 Q88.6633 243.724 86.2096 246.849 Q83.7791 249.974 83.4318 256.293 Q84.7976 254.279 86.8577 253.215 Q88.9179 252.127 91.3948 252.127 Q96.6031 252.127 99.6123 255.298 Q102.645 258.446 102.645 263.886 Q102.645 269.21 99.4966 272.427 Q96.3484 275.645 91.117 275.645 Q85.1216 275.645 81.9504 271.062 Q78.7791 266.455 78.7791 257.728 Q78.7791 249.534 82.6679 244.673 Q86.5568 239.789 93.1077 239.789 Q94.867 239.789 96.6494 240.136 Q98.4549 240.483 100.399 241.178 Z\" fill=\"#000000\" fill-rule=\"evenodd\" fill-opacity=\"1\" /><polyline clip-path=\"url(#clip662)\" style=\"stroke:#009af9; stroke-width:4; stroke-opacity:1; fill:none\" points=\"\n",
       "  1989.13,1445.72 2157.44,1437.23 206.584,1428.74 370.655,1420.26 532.609,1411.77 692.445,1403.29 850.165,1394.8 1005.77,1386.31 1159.25,1377.83 1310.62,1369.34 \n",
       "  1459.87,1360.86 1607.01,1352.37 1752.02,1343.89 1894.92,1335.4 2035.71,1326.91 2174.37,1318.43 193.882,1309.94 328.314,1301.46 460.629,1292.97 590.827,1284.48 \n",
       "  718.908,1276 844.872,1267.51 968.719,1259.03 1090.45,1250.54 1210.06,1242.05 1327.56,1233.57 1442.94,1225.08 1556.2,1216.6 1667.34,1208.11 1776.37,1199.63 \n",
       "  1883.28,1191.14 1988.07,1182.65 2090.75,1174.17 2191.31,1165.68 2289.75,1157.2 269.037,1148.71 363.245,1140.22 455.337,1131.74 545.311,1123.25 633.168,1114.77 \n",
       "  718.908,1106.28 802.531,1097.79 884.037,1089.31 963.426,1080.82 1040.7,1072.34 1115.85,1063.85 1188.89,1055.37 1259.81,1046.88 1328.62,1038.39 1395.3,1029.91 \n",
       "  1459.87,1021.42 1522.33,1012.94 1582.66,1004.45 1640.88,995.965 1696.98,987.479 1750.97,978.993 1802.83,970.507 1852.58,962.021 1900.22,953.535 1945.73,945.049 \n",
       "  1989.13,936.563 2030.42,928.078 2069.58,919.592 2106.63,911.106 2141.56,902.62 2174.37,894.134 2205.07,885.648 2233.65,877.162 2260.11,868.676 2284.46,860.191 \n",
       "  189.648,851.705 209.76,843.219 227.755,834.733 243.632,826.247 257.393,817.761 269.037,809.275 278.564,800.789 285.973,792.304 291.266,783.818 294.441,775.332 \n",
       "  295.5,766.846 294.441,758.36 291.266,749.874 285.973,741.388 278.564,732.902 269.037,724.417 257.393,715.931 243.632,707.445 227.755,698.959 209.76,690.473 \n",
       "  189.648,681.987 2284.46,673.501 2260.11,665.016 2233.65,656.53 2205.07,648.044 2174.37,639.558 2141.56,631.072 2106.63,622.586 2069.58,614.1 2030.42,605.614 \n",
       "  1989.13,597.129 1945.73,588.643 1900.22,580.157 1852.58,571.671 1802.83,563.185 1750.97,554.699 1696.98,546.213 1640.88,537.727 1582.66,529.242 1522.33,520.756 \n",
       "  1459.87,512.27 1395.3,503.784 1328.62,495.298 1259.81,486.812 1188.89,478.326 1115.85,469.84 1040.7,461.355 963.426,452.869 884.037,444.383 802.531,435.897 \n",
       "  718.908,427.411 633.168,418.925 545.311,410.439 455.337,401.954 363.245,393.468 269.037,384.982 2289.75,376.496 2191.31,368.01 2090.75,359.524 1988.07,351.038 \n",
       "  1883.28,342.552 1776.37,334.067 1667.34,325.581 1556.2,317.095 1442.94,308.609 1327.56,300.123 1210.06,291.637 1090.45,283.151 968.719,274.665 844.872,266.18 \n",
       "  718.908,257.694 590.827,249.208 460.629,240.722 328.314,232.236 193.882,223.75 2174.37,215.264 2035.71,206.778 1894.92,198.293 1752.02,189.807 1607.01,181.321 \n",
       "  1459.87,172.835 1310.62,164.349 1159.25,155.863 1005.77,147.377 850.165,138.892 692.445,130.406 532.609,121.92 370.655,113.434 206.584,104.948 2157.44,96.4621 \n",
       "  1989.13,87.9763 \n",
       "  \"/>\n",
       "<polyline clip-path=\"url(#clip662)\" style=\"stroke:#e26f46; stroke-width:4; stroke-opacity:1; fill:none\" points=\"\n",
       "  189.648,1445.72 189.648,1437.23 189.648,1428.74 189.648,1420.26 189.648,1411.77 189.648,1403.29 189.648,1394.8 189.648,1386.31 189.648,1377.83 189.648,1369.34 \n",
       "  189.648,1360.86 189.648,1352.37 189.648,1343.89 189.648,1335.4 189.648,1326.91 189.648,1318.43 189.648,1309.94 189.648,1301.46 189.648,1292.97 189.648,1284.48 \n",
       "  189.648,1276 189.648,1267.51 189.648,1259.03 189.648,1250.54 189.648,1242.05 189.648,1233.57 189.648,1225.08 189.648,1216.6 189.648,1208.11 189.648,1199.63 \n",
       "  189.648,1191.14 189.648,1182.65 189.648,1174.17 189.648,1165.68 189.648,1157.2 189.648,1148.71 189.648,1140.22 189.648,1131.74 189.648,1123.25 189.648,1114.77 \n",
       "  189.648,1106.28 189.648,1097.79 189.648,1089.31 189.648,1080.82 189.648,1072.34 189.648,1063.85 189.648,1055.37 189.648,1046.88 189.648,1038.39 189.648,1029.91 \n",
       "  189.648,1021.42 189.648,1012.94 189.648,1004.45 189.648,995.965 189.648,987.479 189.648,978.993 189.648,970.507 189.648,962.021 189.648,953.535 189.648,945.049 \n",
       "  189.648,936.563 189.648,928.078 189.648,919.592 189.648,911.106 189.648,902.62 189.648,894.134 189.648,885.648 189.648,877.162 189.648,868.676 189.648,860.191 \n",
       "  189.648,851.705 189.648,843.219 189.648,834.733 189.648,826.247 189.648,817.761 189.648,809.275 189.648,800.789 189.648,792.304 189.648,783.818 189.648,775.332 \n",
       "  189.648,766.846 189.648,758.36 189.648,749.874 189.648,741.388 189.648,732.902 189.648,724.417 189.648,715.931 189.648,707.445 189.648,698.959 189.648,690.473 \n",
       "  189.648,681.987 189.648,673.501 189.648,665.016 189.648,656.53 189.648,648.044 189.648,639.558 189.648,631.072 189.648,622.586 189.648,614.1 189.648,605.614 \n",
       "  189.648,597.129 189.648,588.643 189.648,580.157 189.648,571.671 189.648,563.185 189.648,554.699 189.648,546.213 189.648,537.727 189.648,529.242 189.648,520.756 \n",
       "  189.648,512.27 189.648,503.784 189.648,495.298 189.648,486.812 189.648,478.326 189.648,469.84 189.648,461.355 189.648,452.869 189.648,444.383 189.648,435.897 \n",
       "  189.648,427.411 189.648,418.925 189.648,410.439 189.648,401.954 189.648,393.468 189.648,384.982 189.648,376.496 189.648,368.01 189.648,359.524 189.648,351.038 \n",
       "  189.648,342.552 189.648,334.067 189.648,325.581 189.648,317.095 189.648,308.609 189.648,300.123 189.648,291.637 189.648,283.151 189.648,274.665 189.648,266.18 \n",
       "  189.648,257.694 189.648,249.208 189.648,240.722 189.648,232.236 189.648,223.75 189.648,215.264 189.648,206.778 189.648,198.293 189.648,189.807 189.648,181.321 \n",
       "  189.648,172.835 189.648,164.349 189.648,155.863 189.648,147.377 189.648,138.892 189.648,130.406 189.648,121.92 189.648,113.434 189.648,104.948 189.648,96.4621 \n",
       "  189.648,87.9763 \n",
       "  \"/>\n",
       "<circle clip-path=\"url(#clip662)\" cx=\"1569.02\" cy=\"1006.4\" r=\"14\" fill=\"#3da44d\" fill-rule=\"evenodd\" fill-opacity=\"1\" stroke=\"#000000\" stroke-opacity=\"1\" stroke-width=\"3.2\"/>\n",
       "<circle clip-path=\"url(#clip662)\" cx=\"1636.52\" cy=\"537.081\" r=\"14\" fill=\"#3da44d\" fill-rule=\"evenodd\" fill-opacity=\"1\" stroke=\"#000000\" stroke-opacity=\"1\" stroke-width=\"3.2\"/>\n",
       "<circle clip-path=\"url(#clip662)\" cx=\"295.097\" cy=\"761.613\" r=\"14\" fill=\"#c271d2\" fill-rule=\"evenodd\" fill-opacity=\"1\" stroke=\"#000000\" stroke-opacity=\"1\" stroke-width=\"3.2\"/>\n",
       "<circle clip-path=\"url(#clip662)\" cx=\"189.648\" cy=\"1048.29\" r=\"14\" fill=\"#ac8d18\" fill-rule=\"evenodd\" fill-opacity=\"1\" stroke=\"#000000\" stroke-opacity=\"1\" stroke-width=\"3.2\"/>\n",
       "<circle clip-path=\"url(#clip662)\" cx=\"189.648\" cy=\"485.401\" r=\"14\" fill=\"#ac8d18\" fill-rule=\"evenodd\" fill-opacity=\"1\" stroke=\"#000000\" stroke-opacity=\"1\" stroke-width=\"3.2\"/>\n",
       "<circle clip-path=\"url(#clip662)\" cx=\"189.648\" cy=\"766.846\" r=\"14\" fill=\"#00a9ad\" fill-rule=\"evenodd\" fill-opacity=\"1\" stroke=\"#000000\" stroke-opacity=\"1\" stroke-width=\"3.2\"/>\n",
       "<circle clip-path=\"url(#clip662)\" cx=\"294.598\" cy=\"759.013\" r=\"14\" fill=\"#800080\" fill-rule=\"evenodd\" fill-opacity=\"1\" stroke=\"#000000\" stroke-opacity=\"1\" stroke-width=\"3.2\"/>\n",
       "<circle clip-path=\"url(#clip662)\" cx=\"1292.48\" cy=\"1236.12\" r=\"14\" fill=\"#00a98d\" fill-rule=\"evenodd\" fill-opacity=\"1\" stroke=\"#000000\" stroke-opacity=\"1\" stroke-width=\"3.2\"/>\n",
       "<circle clip-path=\"url(#clip662)\" cx=\"1318.93\" cy=\"299.495\" r=\"14\" fill=\"#00a98d\" fill-rule=\"evenodd\" fill-opacity=\"1\" stroke=\"#000000\" stroke-opacity=\"1\" stroke-width=\"3.2\"/>\n",
       "<circle clip-path=\"url(#clip662)\" cx=\"293.905\" cy=\"756.429\" r=\"14\" fill=\"#8e971d\" fill-rule=\"evenodd\" fill-opacity=\"1\" stroke=\"#000000\" stroke-opacity=\"1\" stroke-width=\"3.2\"/>\n",
       "<circle clip-path=\"url(#clip662)\" cx=\"189.648\" cy=\"1421.15\" r=\"14\" fill=\"#00a8cb\" fill-rule=\"evenodd\" fill-opacity=\"1\" stroke=\"#000000\" stroke-opacity=\"1\" stroke-width=\"3.2\"/>\n",
       "<circle clip-path=\"url(#clip662)\" cx=\"189.648\" cy=\"112.542\" r=\"14\" fill=\"#00a8cb\" fill-rule=\"evenodd\" fill-opacity=\"1\" stroke=\"#000000\" stroke-opacity=\"1\" stroke-width=\"3.2\"/>\n",
       "<circle clip-path=\"url(#clip662)\" cx=\"189.648\" cy=\"766.846\" r=\"14\" fill=\"#9b7fe8\" fill-rule=\"evenodd\" fill-opacity=\"1\" stroke=\"#000000\" stroke-opacity=\"1\" stroke-width=\"3.2\"/>\n",
       "</svg>\n"
      ]
     },
     "execution_count": 36,
     "metadata": {},
     "output_type": "execute_result"
    }
   ],
   "source": [
    "#listaYB = [y for y in -8.0:0.1:8.0]\n",
    "#listaXB = zeros(length(listaYB))\n",
    "#listaY = [y for y in -8.0:0.1:8.0]\n",
    "#listaX = [mod((0.1/2)*(1-y^2),1) for y in listaY]\n",
    "plot(listaX, listaY, label = \"\")\n",
    "plot!(listaXB, listaYB, label = \"\")\n",
    "scatter!([cerosXAa,cerosXAb],[cerosYAa, cerosYAb], label = \"\")\n",
    "scatter!([cerosXBa,cerosXBb],[cerosYBa, cerosYBb], label = \"\")\n",
    "scatter!([ceros3XAa,ceros3XAb],[ceros3YAa, ceros3YAb], label = \"\", color  = \"purple\")\n",
    "scatter!([ceros4XAa,ceros4XAb],[ceros4YAa, ceros4YAb], label = \"\")\n",
    "scatter!([ceros4XBa,ceros4XBb],[ceros4YBa, ceros4YBb], label = \"\")"
   ]
  },
  {
   "cell_type": "markdown",
   "metadata": {},
   "source": [
    "### ⭐ Siguiente iteración."
   ]
  },
  {
   "cell_type": "code",
   "execution_count": 37,
   "metadata": {},
   "outputs": [
    {
     "data": {
      "text/plain": [
       "1-element Array{Float64,1}:\n",
       " 0.04883014366196311"
      ]
     },
     "execution_count": 37,
     "metadata": {},
     "output_type": "execute_result"
    }
   ],
   "source": [
    "MapeoA5X(y) = MapeoAX(MapeoAX(MapeoAX(MapeoAX(MapeoAX(y)))))\n",
    "MapeoA5Y(y) = MapeoAY(MapeoAY(MapeoAY(MapeoAY(MapeoAY(y)))))\n",
    "ceros5YAa = find_zeros(MapeoA5X,-8.0,8.0)\n",
    "ceros5YAb = find_zeros(MapeoA5Y,-8.0,8.0)\n",
    "ceros5XAa = [x_puntoF(ceros5YAa[i],a) for i in 1:length(ceros5YAa)]\n",
    "ceros5XAb = [x_puntoF(ceros5YAb[i],a) for i in 1:length(ceros5YAb)]"
   ]
  },
  {
   "cell_type": "code",
   "execution_count": 38,
   "metadata": {},
   "outputs": [
    {
     "data": {
      "image/svg+xml": [
       "<?xml version=\"1.0\" encoding=\"utf-8\"?>\n",
       "<svg xmlns=\"http://www.w3.org/2000/svg\" xmlns:xlink=\"http://www.w3.org/1999/xlink\" width=\"600\" height=\"400\" viewBox=\"0 0 2400 1600\">\n",
       "<defs>\n",
       "  <clipPath id=\"clip700\">\n",
       "    <rect x=\"0\" y=\"0\" width=\"2400\" height=\"1600\"/>\n",
       "  </clipPath>\n",
       "</defs>\n",
       "<path clip-path=\"url(#clip700)\" d=\"\n",
       "M0 1600 L2400 1600 L2400 0 L0 0  Z\n",
       "  \" fill=\"#ffffff\" fill-rule=\"evenodd\" fill-opacity=\"1\"/>\n",
       "<defs>\n",
       "  <clipPath id=\"clip701\">\n",
       "    <rect x=\"480\" y=\"0\" width=\"1681\" height=\"1600\"/>\n",
       "  </clipPath>\n",
       "</defs>\n",
       "<path clip-path=\"url(#clip700)\" d=\"\n",
       "M126.645 1486.45 L2352.76 1486.45 L2352.76 47.2441 L126.645 47.2441  Z\n",
       "  \" fill=\"#ffffff\" fill-rule=\"evenodd\" fill-opacity=\"1\"/>\n",
       "<defs>\n",
       "  <clipPath id=\"clip702\">\n",
       "    <rect x=\"126\" y=\"47\" width=\"2227\" height=\"1440\"/>\n",
       "  </clipPath>\n",
       "</defs>\n",
       "<polyline clip-path=\"url(#clip702)\" style=\"stroke:#000000; stroke-width:2; stroke-opacity:0.1; fill:none\" points=\"\n",
       "  189.648,1486.45 189.648,47.2441 \n",
       "  \"/>\n",
       "<polyline clip-path=\"url(#clip702)\" style=\"stroke:#000000; stroke-width:2; stroke-opacity:0.1; fill:none\" points=\"\n",
       "  718.908,1486.45 718.908,47.2441 \n",
       "  \"/>\n",
       "<polyline clip-path=\"url(#clip702)\" style=\"stroke:#000000; stroke-width:2; stroke-opacity:0.1; fill:none\" points=\"\n",
       "  1248.17,1486.45 1248.17,47.2441 \n",
       "  \"/>\n",
       "<polyline clip-path=\"url(#clip702)\" style=\"stroke:#000000; stroke-width:2; stroke-opacity:0.1; fill:none\" points=\"\n",
       "  1777.43,1486.45 1777.43,47.2441 \n",
       "  \"/>\n",
       "<polyline clip-path=\"url(#clip702)\" style=\"stroke:#000000; stroke-width:2; stroke-opacity:0.1; fill:none\" points=\"\n",
       "  2306.69,1486.45 2306.69,47.2441 \n",
       "  \"/>\n",
       "<polyline clip-path=\"url(#clip702)\" style=\"stroke:#000000; stroke-width:2; stroke-opacity:0.1; fill:none\" points=\"\n",
       "  126.645,1276 2352.76,1276 \n",
       "  \"/>\n",
       "<polyline clip-path=\"url(#clip702)\" style=\"stroke:#000000; stroke-width:2; stroke-opacity:0.1; fill:none\" points=\"\n",
       "  126.645,1021.42 2352.76,1021.42 \n",
       "  \"/>\n",
       "<polyline clip-path=\"url(#clip702)\" style=\"stroke:#000000; stroke-width:2; stroke-opacity:0.1; fill:none\" points=\"\n",
       "  126.645,766.846 2352.76,766.846 \n",
       "  \"/>\n",
       "<polyline clip-path=\"url(#clip702)\" style=\"stroke:#000000; stroke-width:2; stroke-opacity:0.1; fill:none\" points=\"\n",
       "  126.645,512.27 2352.76,512.27 \n",
       "  \"/>\n",
       "<polyline clip-path=\"url(#clip702)\" style=\"stroke:#000000; stroke-width:2; stroke-opacity:0.1; fill:none\" points=\"\n",
       "  126.645,257.694 2352.76,257.694 \n",
       "  \"/>\n",
       "<polyline clip-path=\"url(#clip700)\" style=\"stroke:#000000; stroke-width:4; stroke-opacity:1; fill:none\" points=\"\n",
       "  126.645,1486.45 2352.76,1486.45 \n",
       "  \"/>\n",
       "<polyline clip-path=\"url(#clip700)\" style=\"stroke:#000000; stroke-width:4; stroke-opacity:1; fill:none\" points=\"\n",
       "  126.645,1486.45 126.645,47.2441 \n",
       "  \"/>\n",
       "<polyline clip-path=\"url(#clip700)\" style=\"stroke:#000000; stroke-width:4; stroke-opacity:1; fill:none\" points=\"\n",
       "  189.648,1486.45 189.648,1469.18 \n",
       "  \"/>\n",
       "<polyline clip-path=\"url(#clip700)\" style=\"stroke:#000000; stroke-width:4; stroke-opacity:1; fill:none\" points=\"\n",
       "  718.908,1486.45 718.908,1469.18 \n",
       "  \"/>\n",
       "<polyline clip-path=\"url(#clip700)\" style=\"stroke:#000000; stroke-width:4; stroke-opacity:1; fill:none\" points=\"\n",
       "  1248.17,1486.45 1248.17,1469.18 \n",
       "  \"/>\n",
       "<polyline clip-path=\"url(#clip700)\" style=\"stroke:#000000; stroke-width:4; stroke-opacity:1; fill:none\" points=\"\n",
       "  1777.43,1486.45 1777.43,1469.18 \n",
       "  \"/>\n",
       "<polyline clip-path=\"url(#clip700)\" style=\"stroke:#000000; stroke-width:4; stroke-opacity:1; fill:none\" points=\"\n",
       "  2306.69,1486.45 2306.69,1469.18 \n",
       "  \"/>\n",
       "<polyline clip-path=\"url(#clip700)\" style=\"stroke:#000000; stroke-width:4; stroke-opacity:1; fill:none\" points=\"\n",
       "  126.645,1276 153.358,1276 \n",
       "  \"/>\n",
       "<polyline clip-path=\"url(#clip700)\" style=\"stroke:#000000; stroke-width:4; stroke-opacity:1; fill:none\" points=\"\n",
       "  126.645,1021.42 153.358,1021.42 \n",
       "  \"/>\n",
       "<polyline clip-path=\"url(#clip700)\" style=\"stroke:#000000; stroke-width:4; stroke-opacity:1; fill:none\" points=\"\n",
       "  126.645,766.846 153.358,766.846 \n",
       "  \"/>\n",
       "<polyline clip-path=\"url(#clip700)\" style=\"stroke:#000000; stroke-width:4; stroke-opacity:1; fill:none\" points=\"\n",
       "  126.645,512.27 153.358,512.27 \n",
       "  \"/>\n",
       "<polyline clip-path=\"url(#clip700)\" style=\"stroke:#000000; stroke-width:4; stroke-opacity:1; fill:none\" points=\"\n",
       "  126.645,257.694 153.358,257.694 \n",
       "  \"/>\n",
       "<path clip-path=\"url(#clip700)\" d=\"M 0 0 M157.657 1508.44 Q154.046 1508.44 152.217 1512 Q150.412 1515.55 150.412 1522.67 Q150.412 1529.78 152.217 1533.35 Q154.046 1536.89 157.657 1536.89 Q161.292 1536.89 163.097 1533.35 Q164.926 1529.78 164.926 1522.67 Q164.926 1515.55 163.097 1512 Q161.292 1508.44 157.657 1508.44 M157.657 1504.73 Q163.467 1504.73 166.523 1509.34 Q169.602 1513.92 169.602 1522.67 Q169.602 1531.4 166.523 1536.01 Q163.467 1540.59 157.657 1540.59 Q151.847 1540.59 148.768 1536.01 Q145.713 1531.4 145.713 1522.67 Q145.713 1513.92 148.768 1509.34 Q151.847 1504.73 157.657 1504.73 Z\" fill=\"#000000\" fill-rule=\"evenodd\" fill-opacity=\"1\" /><path clip-path=\"url(#clip700)\" d=\"M 0 0 M174.671 1534.04 L179.555 1534.04 L179.555 1539.92 L174.671 1539.92 L174.671 1534.04 Z\" fill=\"#000000\" fill-rule=\"evenodd\" fill-opacity=\"1\" /><path clip-path=\"url(#clip700)\" d=\"M 0 0 M194.625 1508.44 Q191.014 1508.44 189.185 1512 Q187.379 1515.55 187.379 1522.67 Q187.379 1529.78 189.185 1533.35 Q191.014 1536.89 194.625 1536.89 Q198.259 1536.89 200.064 1533.35 Q201.893 1529.78 201.893 1522.67 Q201.893 1515.55 200.064 1512 Q198.259 1508.44 194.625 1508.44 M194.625 1504.73 Q200.435 1504.73 203.49 1509.34 Q206.569 1513.92 206.569 1522.67 Q206.569 1531.4 203.49 1536.01 Q200.435 1540.59 194.625 1540.59 Q188.815 1540.59 185.736 1536.01 Q182.68 1531.4 182.68 1522.67 Q182.68 1513.92 185.736 1509.34 Q188.815 1504.73 194.625 1504.73 Z\" fill=\"#000000\" fill-rule=\"evenodd\" fill-opacity=\"1\" /><path clip-path=\"url(#clip700)\" d=\"M 0 0 M221.638 1508.44 Q218.027 1508.44 216.199 1512 Q214.393 1515.55 214.393 1522.67 Q214.393 1529.78 216.199 1533.35 Q218.027 1536.89 221.638 1536.89 Q225.273 1536.89 227.078 1533.35 Q228.907 1529.78 228.907 1522.67 Q228.907 1515.55 227.078 1512 Q225.273 1508.44 221.638 1508.44 M221.638 1504.73 Q227.449 1504.73 230.504 1509.34 Q233.583 1513.92 233.583 1522.67 Q233.583 1531.4 230.504 1536.01 Q227.449 1540.59 221.638 1540.59 Q215.828 1540.59 212.75 1536.01 Q209.694 1531.4 209.694 1522.67 Q209.694 1513.92 212.75 1509.34 Q215.828 1504.73 221.638 1504.73 Z\" fill=\"#000000\" fill-rule=\"evenodd\" fill-opacity=\"1\" /><path clip-path=\"url(#clip700)\" d=\"M 0 0 M688.214 1508.44 Q684.603 1508.44 682.774 1512 Q680.969 1515.55 680.969 1522.67 Q680.969 1529.78 682.774 1533.35 Q684.603 1536.89 688.214 1536.89 Q691.848 1536.89 693.654 1533.35 Q695.482 1529.78 695.482 1522.67 Q695.482 1515.55 693.654 1512 Q691.848 1508.44 688.214 1508.44 M688.214 1504.73 Q694.024 1504.73 697.08 1509.34 Q700.158 1513.92 700.158 1522.67 Q700.158 1531.4 697.08 1536.01 Q694.024 1540.59 688.214 1540.59 Q682.404 1540.59 679.325 1536.01 Q676.269 1531.4 676.269 1522.67 Q676.269 1513.92 679.325 1509.34 Q682.404 1504.73 688.214 1504.73 Z\" fill=\"#000000\" fill-rule=\"evenodd\" fill-opacity=\"1\" /><path clip-path=\"url(#clip700)\" d=\"M 0 0 M705.228 1534.04 L710.112 1534.04 L710.112 1539.92 L705.228 1539.92 L705.228 1534.04 Z\" fill=\"#000000\" fill-rule=\"evenodd\" fill-opacity=\"1\" /><path clip-path=\"url(#clip700)\" d=\"M 0 0 M719.209 1535.98 L735.528 1535.98 L735.528 1539.92 L713.584 1539.92 L713.584 1535.98 Q716.246 1533.23 720.829 1528.6 Q725.436 1523.95 726.616 1522.61 Q728.862 1520.08 729.741 1518.35 Q730.644 1516.59 730.644 1514.9 Q730.644 1512.14 728.7 1510.41 Q726.778 1508.67 723.677 1508.67 Q721.478 1508.67 719.024 1509.43 Q716.593 1510.2 713.816 1511.75 L713.816 1507.03 Q716.64 1505.89 719.093 1505.31 Q721.547 1504.73 723.584 1504.73 Q728.954 1504.73 732.149 1507.42 Q735.343 1510.11 735.343 1514.6 Q735.343 1516.73 734.533 1518.65 Q733.746 1520.54 731.64 1523.14 Q731.061 1523.81 727.959 1527.03 Q724.857 1530.22 719.209 1535.98 Z\" fill=\"#000000\" fill-rule=\"evenodd\" fill-opacity=\"1\" /><path clip-path=\"url(#clip700)\" d=\"M 0 0 M740.644 1505.36 L759.001 1505.36 L759.001 1509.3 L744.927 1509.3 L744.927 1517.77 Q745.945 1517.42 746.964 1517.26 Q747.982 1517.07 749.001 1517.07 Q754.788 1517.07 758.167 1520.24 Q761.547 1523.42 761.547 1528.83 Q761.547 1534.41 758.075 1537.51 Q754.602 1540.59 748.283 1540.59 Q746.107 1540.59 743.839 1540.22 Q741.593 1539.85 739.186 1539.11 L739.186 1534.41 Q741.269 1535.54 743.491 1536.1 Q745.714 1536.66 748.19 1536.66 Q752.195 1536.66 754.533 1534.55 Q756.871 1532.44 756.871 1528.83 Q756.871 1525.22 754.533 1523.11 Q752.195 1521.01 748.19 1521.01 Q746.315 1521.01 744.44 1521.42 Q742.589 1521.84 740.644 1522.72 L740.644 1505.36 Z\" fill=\"#000000\" fill-rule=\"evenodd\" fill-opacity=\"1\" /><path clip-path=\"url(#clip700)\" d=\"M 0 0 M1216.68 1508.44 Q1213.06 1508.44 1211.24 1512 Q1209.43 1515.55 1209.43 1522.67 Q1209.43 1529.78 1211.24 1533.35 Q1213.06 1536.89 1216.68 1536.89 Q1220.31 1536.89 1222.12 1533.35 Q1223.94 1529.78 1223.94 1522.67 Q1223.94 1515.55 1222.12 1512 Q1220.31 1508.44 1216.68 1508.44 M1216.68 1504.73 Q1222.49 1504.73 1225.54 1509.34 Q1228.62 1513.92 1228.62 1522.67 Q1228.62 1531.4 1225.54 1536.01 Q1222.49 1540.59 1216.68 1540.59 Q1210.87 1540.59 1207.79 1536.01 Q1204.73 1531.4 1204.73 1522.67 Q1204.73 1513.92 1207.79 1509.34 Q1210.87 1504.73 1216.68 1504.73 Z\" fill=\"#000000\" fill-rule=\"evenodd\" fill-opacity=\"1\" /><path clip-path=\"url(#clip700)\" d=\"M 0 0 M1233.69 1534.04 L1238.57 1534.04 L1238.57 1539.92 L1233.69 1539.92 L1233.69 1534.04 Z\" fill=\"#000000\" fill-rule=\"evenodd\" fill-opacity=\"1\" /><path clip-path=\"url(#clip700)\" d=\"M 0 0 M1243.69 1505.36 L1262.05 1505.36 L1262.05 1509.3 L1247.97 1509.3 L1247.97 1517.77 Q1248.99 1517.42 1250.01 1517.26 Q1251.03 1517.07 1252.05 1517.07 Q1257.83 1517.07 1261.21 1520.24 Q1264.59 1523.42 1264.59 1528.83 Q1264.59 1534.41 1261.12 1537.51 Q1257.65 1540.59 1251.33 1540.59 Q1249.15 1540.59 1246.88 1540.22 Q1244.64 1539.85 1242.23 1539.11 L1242.23 1534.41 Q1244.31 1535.54 1246.54 1536.1 Q1248.76 1536.66 1251.24 1536.66 Q1255.24 1536.66 1257.58 1534.55 Q1259.92 1532.44 1259.92 1528.83 Q1259.92 1525.22 1257.58 1523.11 Q1255.24 1521.01 1251.24 1521.01 Q1249.36 1521.01 1247.49 1521.42 Q1245.63 1521.84 1243.69 1522.72 L1243.69 1505.36 Z\" fill=\"#000000\" fill-rule=\"evenodd\" fill-opacity=\"1\" /><path clip-path=\"url(#clip700)\" d=\"M 0 0 M1279.66 1508.44 Q1276.05 1508.44 1274.22 1512 Q1272.42 1515.55 1272.42 1522.67 Q1272.42 1529.78 1274.22 1533.35 Q1276.05 1536.89 1279.66 1536.89 Q1283.3 1536.89 1285.1 1533.35 Q1286.93 1529.78 1286.93 1522.67 Q1286.93 1515.55 1285.1 1512 Q1283.3 1508.44 1279.66 1508.44 M1279.66 1504.73 Q1285.47 1504.73 1288.53 1509.34 Q1291.61 1513.92 1291.61 1522.67 Q1291.61 1531.4 1288.53 1536.01 Q1285.47 1540.59 1279.66 1540.59 Q1273.85 1540.59 1270.77 1536.01 Q1267.72 1531.4 1267.72 1522.67 Q1267.72 1513.92 1270.77 1509.34 Q1273.85 1504.73 1279.66 1504.73 Z\" fill=\"#000000\" fill-rule=\"evenodd\" fill-opacity=\"1\" /><path clip-path=\"url(#clip700)\" d=\"M 0 0 M1746.39 1508.44 Q1742.78 1508.44 1740.95 1512 Q1739.14 1515.55 1739.14 1522.67 Q1739.14 1529.78 1740.95 1533.35 Q1742.78 1536.89 1746.39 1536.89 Q1750.02 1536.89 1751.83 1533.35 Q1753.66 1529.78 1753.66 1522.67 Q1753.66 1515.55 1751.83 1512 Q1750.02 1508.44 1746.39 1508.44 M1746.39 1504.73 Q1752.2 1504.73 1755.25 1509.34 Q1758.33 1513.92 1758.33 1522.67 Q1758.33 1531.4 1755.25 1536.01 Q1752.2 1540.59 1746.39 1540.59 Q1740.58 1540.59 1737.5 1536.01 Q1734.44 1531.4 1734.44 1522.67 Q1734.44 1513.92 1737.5 1509.34 Q1740.58 1504.73 1746.39 1504.73 Z\" fill=\"#000000\" fill-rule=\"evenodd\" fill-opacity=\"1\" /><path clip-path=\"url(#clip700)\" d=\"M 0 0 M1763.4 1534.04 L1768.29 1534.04 L1768.29 1539.92 L1763.4 1539.92 L1763.4 1534.04 Z\" fill=\"#000000\" fill-rule=\"evenodd\" fill-opacity=\"1\" /><path clip-path=\"url(#clip700)\" d=\"M 0 0 M1772.17 1505.36 L1794.4 1505.36 L1794.4 1507.35 L1781.85 1539.92 L1776.97 1539.92 L1788.77 1509.3 L1772.17 1509.3 L1772.17 1505.36 Z\" fill=\"#000000\" fill-rule=\"evenodd\" fill-opacity=\"1\" /><path clip-path=\"url(#clip700)\" d=\"M 0 0 M1799.51 1505.36 L1817.87 1505.36 L1817.87 1509.3 L1803.79 1509.3 L1803.79 1517.77 Q1804.81 1517.42 1805.83 1517.26 Q1806.85 1517.07 1807.87 1517.07 Q1813.66 1517.07 1817.04 1520.24 Q1820.41 1523.42 1820.41 1528.83 Q1820.41 1534.41 1816.94 1537.51 Q1813.47 1540.59 1807.15 1540.59 Q1804.97 1540.59 1802.71 1540.22 Q1800.46 1539.85 1798.05 1539.11 L1798.05 1534.41 Q1800.14 1535.54 1802.36 1536.1 Q1804.58 1536.66 1807.06 1536.66 Q1811.06 1536.66 1813.4 1534.55 Q1815.74 1532.44 1815.74 1528.83 Q1815.74 1525.22 1813.4 1523.11 Q1811.06 1521.01 1807.06 1521.01 Q1805.18 1521.01 1803.31 1521.42 Q1801.46 1521.84 1799.51 1522.72 L1799.51 1505.36 Z\" fill=\"#000000\" fill-rule=\"evenodd\" fill-opacity=\"1\" /><path clip-path=\"url(#clip700)\" d=\"M 0 0 M2265.08 1535.98 L2272.72 1535.98 L2272.72 1509.62 L2264.41 1511.29 L2264.41 1507.03 L2272.67 1505.36 L2277.35 1505.36 L2277.35 1535.98 L2284.99 1535.98 L2284.99 1539.92 L2265.08 1539.92 L2265.08 1535.98 Z\" fill=\"#000000\" fill-rule=\"evenodd\" fill-opacity=\"1\" /><path clip-path=\"url(#clip700)\" d=\"M 0 0 M2290.06 1534.04 L2294.94 1534.04 L2294.94 1539.92 L2290.06 1539.92 L2290.06 1534.04 Z\" fill=\"#000000\" fill-rule=\"evenodd\" fill-opacity=\"1\" /><path clip-path=\"url(#clip700)\" d=\"M 0 0 M2310.01 1508.44 Q2306.4 1508.44 2304.57 1512 Q2302.77 1515.55 2302.77 1522.67 Q2302.77 1529.78 2304.57 1533.35 Q2306.4 1536.89 2310.01 1536.89 Q2313.65 1536.89 2315.45 1533.35 Q2317.28 1529.78 2317.28 1522.67 Q2317.28 1515.55 2315.45 1512 Q2313.65 1508.44 2310.01 1508.44 M2310.01 1504.73 Q2315.82 1504.73 2318.88 1509.34 Q2321.96 1513.92 2321.96 1522.67 Q2321.96 1531.4 2318.88 1536.01 Q2315.82 1540.59 2310.01 1540.59 Q2304.2 1540.59 2301.12 1536.01 Q2298.07 1531.4 2298.07 1522.67 Q2298.07 1513.92 2301.12 1509.34 Q2304.2 1504.73 2310.01 1504.73 Z\" fill=\"#000000\" fill-rule=\"evenodd\" fill-opacity=\"1\" /><path clip-path=\"url(#clip700)\" d=\"M 0 0 M2337.02 1508.44 Q2333.41 1508.44 2331.58 1512 Q2329.78 1515.55 2329.78 1522.67 Q2329.78 1529.78 2331.58 1533.35 Q2333.41 1536.89 2337.02 1536.89 Q2340.66 1536.89 2342.46 1533.35 Q2344.29 1529.78 2344.29 1522.67 Q2344.29 1515.55 2342.46 1512 Q2340.66 1508.44 2337.02 1508.44 M2337.02 1504.73 Q2342.83 1504.73 2345.89 1509.34 Q2348.97 1513.92 2348.97 1522.67 Q2348.97 1531.4 2345.89 1536.01 Q2342.83 1540.59 2337.02 1540.59 Q2331.21 1540.59 2328.14 1536.01 Q2325.08 1531.4 2325.08 1522.67 Q2325.08 1513.92 2328.14 1509.34 Q2331.21 1504.73 2337.02 1504.73 Z\" fill=\"#000000\" fill-rule=\"evenodd\" fill-opacity=\"1\" /><path clip-path=\"url(#clip700)\" d=\"M 0 0 M62.9921 1278.39 L75.4689 1278.39 L75.4689 1282.19 L62.9921 1282.19 L62.9921 1278.39 Z\" fill=\"#000000\" fill-rule=\"evenodd\" fill-opacity=\"1\" /><path clip-path=\"url(#clip700)\" d=\"M 0 0 M91.117 1274.13 Q87.9688 1274.13 86.117 1276.29 Q84.2883 1278.44 84.2883 1282.19 Q84.2883 1285.92 86.117 1288.09 Q87.9688 1290.25 91.117 1290.25 Q94.2651 1290.25 96.0938 1288.09 Q97.9456 1285.92 97.9456 1282.19 Q97.9456 1278.44 96.0938 1276.29 Q94.2651 1274.13 91.117 1274.13 M100.399 1259.48 L100.399 1263.74 Q98.6401 1262.91 96.8345 1262.47 Q95.0521 1262.03 93.2929 1262.03 Q88.6633 1262.03 86.2096 1265.15 Q83.7791 1268.28 83.4318 1274.6 Q84.7976 1272.58 86.8577 1271.52 Q88.9179 1270.43 91.3948 1270.43 Q96.6031 1270.43 99.6123 1273.6 Q102.645 1276.75 102.645 1282.19 Q102.645 1287.51 99.4966 1290.73 Q96.3484 1293.95 91.117 1293.95 Q85.1216 1293.95 81.9504 1289.37 Q78.7791 1284.76 78.7791 1276.03 Q78.7791 1267.84 82.6679 1262.98 Q86.5568 1258.09 93.1077 1258.09 Q94.867 1258.09 96.6494 1258.44 Q98.4549 1258.79 100.399 1259.48 Z\" fill=\"#000000\" fill-rule=\"evenodd\" fill-opacity=\"1\" /><path clip-path=\"url(#clip700)\" d=\"M 0 0 M63.8023 1023.82 L76.2791 1023.82 L76.2791 1027.61 L63.8023 1027.61 L63.8023 1023.82 Z\" fill=\"#000000\" fill-rule=\"evenodd\" fill-opacity=\"1\" /><path clip-path=\"url(#clip700)\" d=\"M 0 0 M95.5151 1020.07 Q98.8716 1020.79 100.747 1023.05 Q102.645 1025.32 102.645 1028.66 Q102.645 1033.77 99.1262 1036.57 Q95.6077 1039.37 89.1262 1039.37 Q86.9503 1039.37 84.6355 1038.93 Q82.3439 1038.52 79.8902 1037.66 L79.8902 1033.15 Q81.8346 1034.28 84.1494 1034.86 Q86.4642 1035.44 88.9874 1035.44 Q93.3855 1035.44 95.6771 1033.7 Q97.9919 1031.97 97.9919 1028.66 Q97.9919 1025.6 95.8392 1023.89 Q93.7096 1022.15 89.8901 1022.15 L85.8624 1022.15 L85.8624 1018.31 L90.0753 1018.31 Q93.5244 1018.31 95.3531 1016.94 Q97.1818 1015.55 97.1818 1012.96 Q97.1818 1010.3 95.2836 1008.89 Q93.4086 1007.45 89.8901 1007.45 Q87.9688 1007.45 85.7698 1007.87 Q83.5707 1008.29 80.9318 1009.17 L80.9318 1005 Q83.5939 1004.26 85.9087 1003.89 Q88.2466 1003.52 90.3068 1003.52 Q95.6308 1003.52 98.7327 1005.95 Q101.835 1008.36 101.835 1012.48 Q101.835 1015.35 100.191 1017.34 Q98.5475 1019.3 95.5151 1020.07 Z\" fill=\"#000000\" fill-rule=\"evenodd\" fill-opacity=\"1\" /><path clip-path=\"url(#clip700)\" d=\"M 0 0 M90.7003 752.645 Q87.0892 752.645 85.2605 756.209 Q83.455 759.751 83.455 766.881 Q83.455 773.987 85.2605 777.552 Q87.0892 781.094 90.7003 781.094 Q94.3346 781.094 96.1401 777.552 Q97.9688 773.987 97.9688 766.881 Q97.9688 759.751 96.1401 756.209 Q94.3346 752.645 90.7003 752.645 M90.7003 748.941 Q96.5105 748.941 99.566 753.547 Q102.645 758.131 102.645 766.881 Q102.645 775.608 99.566 780.214 Q96.5105 784.797 90.7003 784.797 Q84.8902 784.797 81.8115 780.214 Q78.7559 775.608 78.7559 766.881 Q78.7559 758.131 81.8115 753.547 Q84.8902 748.941 90.7003 748.941 Z\" fill=\"#000000\" fill-rule=\"evenodd\" fill-opacity=\"1\" /><path clip-path=\"url(#clip700)\" d=\"M 0 0 M95.5151 510.916 Q98.8716 511.633 100.747 513.902 Q102.645 516.17 102.645 519.504 Q102.645 524.619 99.1262 527.42 Q95.6077 530.221 89.1262 530.221 Q86.9503 530.221 84.6355 529.781 Q82.3439 529.365 79.8902 528.508 L79.8902 523.994 Q81.8346 525.129 84.1494 525.707 Q86.4642 526.286 88.9874 526.286 Q93.3855 526.286 95.6771 524.55 Q97.9919 522.814 97.9919 519.504 Q97.9919 516.448 95.8392 514.735 Q93.7096 512.999 89.8901 512.999 L85.8624 512.999 L85.8624 509.156 L90.0753 509.156 Q93.5244 509.156 95.3531 507.791 Q97.1818 506.402 97.1818 503.809 Q97.1818 501.147 95.2836 499.735 Q93.4086 498.3 89.8901 498.3 Q87.9688 498.3 85.7698 498.717 Q83.5707 499.133 80.9318 500.013 L80.9318 495.846 Q83.5939 495.106 85.9087 494.735 Q88.2466 494.365 90.3068 494.365 Q95.6308 494.365 98.7327 496.795 Q101.835 499.203 101.835 503.323 Q101.835 506.193 100.191 508.184 Q98.5475 510.152 95.5151 510.916 Z\" fill=\"#000000\" fill-rule=\"evenodd\" fill-opacity=\"1\" /><path clip-path=\"url(#clip700)\" d=\"M 0 0 M91.117 255.83 Q87.9688 255.83 86.117 257.983 Q84.2883 260.136 84.2883 263.886 Q84.2883 267.613 86.117 269.789 Q87.9688 271.941 91.117 271.941 Q94.2651 271.941 96.0938 269.789 Q97.9456 267.613 97.9456 263.886 Q97.9456 260.136 96.0938 257.983 Q94.2651 255.83 91.117 255.83 M100.399 241.178 L100.399 245.437 Q98.6401 244.603 96.8345 244.164 Q95.0521 243.724 93.2929 243.724 Q88.6633 243.724 86.2096 246.849 Q83.7791 249.974 83.4318 256.293 Q84.7976 254.279 86.8577 253.215 Q88.9179 252.127 91.3948 252.127 Q96.6031 252.127 99.6123 255.298 Q102.645 258.446 102.645 263.886 Q102.645 269.21 99.4966 272.427 Q96.3484 275.645 91.117 275.645 Q85.1216 275.645 81.9504 271.062 Q78.7791 266.455 78.7791 257.728 Q78.7791 249.534 82.6679 244.673 Q86.5568 239.789 93.1077 239.789 Q94.867 239.789 96.6494 240.136 Q98.4549 240.483 100.399 241.178 Z\" fill=\"#000000\" fill-rule=\"evenodd\" fill-opacity=\"1\" /><polyline clip-path=\"url(#clip702)\" style=\"stroke:#009af9; stroke-width:4; stroke-opacity:1; fill:none\" points=\"\n",
       "  1989.13,1445.72 2157.44,1437.23 206.584,1428.74 370.655,1420.26 532.609,1411.77 692.445,1403.29 850.165,1394.8 1005.77,1386.31 1159.25,1377.83 1310.62,1369.34 \n",
       "  1459.87,1360.86 1607.01,1352.37 1752.02,1343.89 1894.92,1335.4 2035.71,1326.91 2174.37,1318.43 193.882,1309.94 328.314,1301.46 460.629,1292.97 590.827,1284.48 \n",
       "  718.908,1276 844.872,1267.51 968.719,1259.03 1090.45,1250.54 1210.06,1242.05 1327.56,1233.57 1442.94,1225.08 1556.2,1216.6 1667.34,1208.11 1776.37,1199.63 \n",
       "  1883.28,1191.14 1988.07,1182.65 2090.75,1174.17 2191.31,1165.68 2289.75,1157.2 269.037,1148.71 363.245,1140.22 455.337,1131.74 545.311,1123.25 633.168,1114.77 \n",
       "  718.908,1106.28 802.531,1097.79 884.037,1089.31 963.426,1080.82 1040.7,1072.34 1115.85,1063.85 1188.89,1055.37 1259.81,1046.88 1328.62,1038.39 1395.3,1029.91 \n",
       "  1459.87,1021.42 1522.33,1012.94 1582.66,1004.45 1640.88,995.965 1696.98,987.479 1750.97,978.993 1802.83,970.507 1852.58,962.021 1900.22,953.535 1945.73,945.049 \n",
       "  1989.13,936.563 2030.42,928.078 2069.58,919.592 2106.63,911.106 2141.56,902.62 2174.37,894.134 2205.07,885.648 2233.65,877.162 2260.11,868.676 2284.46,860.191 \n",
       "  189.648,851.705 209.76,843.219 227.755,834.733 243.632,826.247 257.393,817.761 269.037,809.275 278.564,800.789 285.973,792.304 291.266,783.818 294.441,775.332 \n",
       "  295.5,766.846 294.441,758.36 291.266,749.874 285.973,741.388 278.564,732.902 269.037,724.417 257.393,715.931 243.632,707.445 227.755,698.959 209.76,690.473 \n",
       "  189.648,681.987 2284.46,673.501 2260.11,665.016 2233.65,656.53 2205.07,648.044 2174.37,639.558 2141.56,631.072 2106.63,622.586 2069.58,614.1 2030.42,605.614 \n",
       "  1989.13,597.129 1945.73,588.643 1900.22,580.157 1852.58,571.671 1802.83,563.185 1750.97,554.699 1696.98,546.213 1640.88,537.727 1582.66,529.242 1522.33,520.756 \n",
       "  1459.87,512.27 1395.3,503.784 1328.62,495.298 1259.81,486.812 1188.89,478.326 1115.85,469.84 1040.7,461.355 963.426,452.869 884.037,444.383 802.531,435.897 \n",
       "  718.908,427.411 633.168,418.925 545.311,410.439 455.337,401.954 363.245,393.468 269.037,384.982 2289.75,376.496 2191.31,368.01 2090.75,359.524 1988.07,351.038 \n",
       "  1883.28,342.552 1776.37,334.067 1667.34,325.581 1556.2,317.095 1442.94,308.609 1327.56,300.123 1210.06,291.637 1090.45,283.151 968.719,274.665 844.872,266.18 \n",
       "  718.908,257.694 590.827,249.208 460.629,240.722 328.314,232.236 193.882,223.75 2174.37,215.264 2035.71,206.778 1894.92,198.293 1752.02,189.807 1607.01,181.321 \n",
       "  1459.87,172.835 1310.62,164.349 1159.25,155.863 1005.77,147.377 850.165,138.892 692.445,130.406 532.609,121.92 370.655,113.434 206.584,104.948 2157.44,96.4621 \n",
       "  1989.13,87.9763 \n",
       "  \"/>\n",
       "<polyline clip-path=\"url(#clip702)\" style=\"stroke:#e26f46; stroke-width:4; stroke-opacity:1; fill:none\" points=\"\n",
       "  189.648,1445.72 189.648,1437.23 189.648,1428.74 189.648,1420.26 189.648,1411.77 189.648,1403.29 189.648,1394.8 189.648,1386.31 189.648,1377.83 189.648,1369.34 \n",
       "  189.648,1360.86 189.648,1352.37 189.648,1343.89 189.648,1335.4 189.648,1326.91 189.648,1318.43 189.648,1309.94 189.648,1301.46 189.648,1292.97 189.648,1284.48 \n",
       "  189.648,1276 189.648,1267.51 189.648,1259.03 189.648,1250.54 189.648,1242.05 189.648,1233.57 189.648,1225.08 189.648,1216.6 189.648,1208.11 189.648,1199.63 \n",
       "  189.648,1191.14 189.648,1182.65 189.648,1174.17 189.648,1165.68 189.648,1157.2 189.648,1148.71 189.648,1140.22 189.648,1131.74 189.648,1123.25 189.648,1114.77 \n",
       "  189.648,1106.28 189.648,1097.79 189.648,1089.31 189.648,1080.82 189.648,1072.34 189.648,1063.85 189.648,1055.37 189.648,1046.88 189.648,1038.39 189.648,1029.91 \n",
       "  189.648,1021.42 189.648,1012.94 189.648,1004.45 189.648,995.965 189.648,987.479 189.648,978.993 189.648,970.507 189.648,962.021 189.648,953.535 189.648,945.049 \n",
       "  189.648,936.563 189.648,928.078 189.648,919.592 189.648,911.106 189.648,902.62 189.648,894.134 189.648,885.648 189.648,877.162 189.648,868.676 189.648,860.191 \n",
       "  189.648,851.705 189.648,843.219 189.648,834.733 189.648,826.247 189.648,817.761 189.648,809.275 189.648,800.789 189.648,792.304 189.648,783.818 189.648,775.332 \n",
       "  189.648,766.846 189.648,758.36 189.648,749.874 189.648,741.388 189.648,732.902 189.648,724.417 189.648,715.931 189.648,707.445 189.648,698.959 189.648,690.473 \n",
       "  189.648,681.987 189.648,673.501 189.648,665.016 189.648,656.53 189.648,648.044 189.648,639.558 189.648,631.072 189.648,622.586 189.648,614.1 189.648,605.614 \n",
       "  189.648,597.129 189.648,588.643 189.648,580.157 189.648,571.671 189.648,563.185 189.648,554.699 189.648,546.213 189.648,537.727 189.648,529.242 189.648,520.756 \n",
       "  189.648,512.27 189.648,503.784 189.648,495.298 189.648,486.812 189.648,478.326 189.648,469.84 189.648,461.355 189.648,452.869 189.648,444.383 189.648,435.897 \n",
       "  189.648,427.411 189.648,418.925 189.648,410.439 189.648,401.954 189.648,393.468 189.648,384.982 189.648,376.496 189.648,368.01 189.648,359.524 189.648,351.038 \n",
       "  189.648,342.552 189.648,334.067 189.648,325.581 189.648,317.095 189.648,308.609 189.648,300.123 189.648,291.637 189.648,283.151 189.648,274.665 189.648,266.18 \n",
       "  189.648,257.694 189.648,249.208 189.648,240.722 189.648,232.236 189.648,223.75 189.648,215.264 189.648,206.778 189.648,198.293 189.648,189.807 189.648,181.321 \n",
       "  189.648,172.835 189.648,164.349 189.648,155.863 189.648,147.377 189.648,138.892 189.648,130.406 189.648,121.92 189.648,113.434 189.648,104.948 189.648,96.4621 \n",
       "  189.648,87.9763 \n",
       "  \"/>\n",
       "<circle clip-path=\"url(#clip702)\" cx=\"1569.02\" cy=\"1006.4\" r=\"14\" fill=\"#3da44d\" fill-rule=\"evenodd\" fill-opacity=\"1\" stroke=\"#000000\" stroke-opacity=\"1\" stroke-width=\"3.2\"/>\n",
       "<circle clip-path=\"url(#clip702)\" cx=\"1636.52\" cy=\"537.081\" r=\"14\" fill=\"#3da44d\" fill-rule=\"evenodd\" fill-opacity=\"1\" stroke=\"#000000\" stroke-opacity=\"1\" stroke-width=\"3.2\"/>\n",
       "<circle clip-path=\"url(#clip702)\" cx=\"295.097\" cy=\"761.613\" r=\"14\" fill=\"#c271d2\" fill-rule=\"evenodd\" fill-opacity=\"1\" stroke=\"#000000\" stroke-opacity=\"1\" stroke-width=\"3.2\"/>\n",
       "<circle clip-path=\"url(#clip702)\" cx=\"189.648\" cy=\"1048.29\" r=\"14\" fill=\"#ac8d18\" fill-rule=\"evenodd\" fill-opacity=\"1\" stroke=\"#000000\" stroke-opacity=\"1\" stroke-width=\"3.2\"/>\n",
       "<circle clip-path=\"url(#clip702)\" cx=\"189.648\" cy=\"485.401\" r=\"14\" fill=\"#ac8d18\" fill-rule=\"evenodd\" fill-opacity=\"1\" stroke=\"#000000\" stroke-opacity=\"1\" stroke-width=\"3.2\"/>\n",
       "<circle clip-path=\"url(#clip702)\" cx=\"189.648\" cy=\"766.846\" r=\"14\" fill=\"#00a9ad\" fill-rule=\"evenodd\" fill-opacity=\"1\" stroke=\"#000000\" stroke-opacity=\"1\" stroke-width=\"3.2\"/>\n",
       "<circle clip-path=\"url(#clip702)\" cx=\"294.598\" cy=\"759.013\" r=\"14\" fill=\"#800080\" fill-rule=\"evenodd\" fill-opacity=\"1\" stroke=\"#000000\" stroke-opacity=\"1\" stroke-width=\"3.2\"/>\n",
       "<circle clip-path=\"url(#clip702)\" cx=\"1292.48\" cy=\"1236.12\" r=\"14\" fill=\"#00a98d\" fill-rule=\"evenodd\" fill-opacity=\"1\" stroke=\"#000000\" stroke-opacity=\"1\" stroke-width=\"3.2\"/>\n",
       "<circle clip-path=\"url(#clip702)\" cx=\"1318.93\" cy=\"299.495\" r=\"14\" fill=\"#00a98d\" fill-rule=\"evenodd\" fill-opacity=\"1\" stroke=\"#000000\" stroke-opacity=\"1\" stroke-width=\"3.2\"/>\n",
       "<circle clip-path=\"url(#clip702)\" cx=\"293.905\" cy=\"756.429\" r=\"14\" fill=\"#8e971d\" fill-rule=\"evenodd\" fill-opacity=\"1\" stroke=\"#000000\" stroke-opacity=\"1\" stroke-width=\"3.2\"/>\n",
       "<circle clip-path=\"url(#clip702)\" cx=\"189.648\" cy=\"1421.15\" r=\"14\" fill=\"#00a8cb\" fill-rule=\"evenodd\" fill-opacity=\"1\" stroke=\"#000000\" stroke-opacity=\"1\" stroke-width=\"3.2\"/>\n",
       "<circle clip-path=\"url(#clip702)\" cx=\"189.648\" cy=\"112.542\" r=\"14\" fill=\"#00a8cb\" fill-rule=\"evenodd\" fill-opacity=\"1\" stroke=\"#000000\" stroke-opacity=\"1\" stroke-width=\"3.2\"/>\n",
       "<circle clip-path=\"url(#clip702)\" cx=\"189.648\" cy=\"766.846\" r=\"14\" fill=\"#9b7fe8\" fill-rule=\"evenodd\" fill-opacity=\"1\" stroke=\"#000000\" stroke-opacity=\"1\" stroke-width=\"3.2\"/>\n",
       "<circle clip-path=\"url(#clip702)\" cx=\"602.819\" cy=\"1283.7\" r=\"14\" fill=\"#608cf6\" fill-rule=\"evenodd\" fill-opacity=\"1\" stroke=\"#000000\" stroke-opacity=\"1\" stroke-width=\"3.2\"/>\n",
       "<circle clip-path=\"url(#clip702)\" cx=\"458.913\" cy=\"240.611\" r=\"14\" fill=\"#608cf6\" fill-rule=\"evenodd\" fill-opacity=\"1\" stroke=\"#000000\" stroke-opacity=\"1\" stroke-width=\"3.2\"/>\n",
       "<circle clip-path=\"url(#clip702)\" cx=\"293.023\" cy=\"753.866\" r=\"14\" fill=\"#f05f73\" fill-rule=\"evenodd\" fill-opacity=\"1\" stroke=\"#000000\" stroke-opacity=\"1\" stroke-width=\"3.2\"/>\n",
       "</svg>\n"
      ]
     },
     "execution_count": 38,
     "metadata": {},
     "output_type": "execute_result"
    }
   ],
   "source": [
    "plot(listaX, listaY, label = \"\")\n",
    "plot!(listaXB, listaYB, label = \"\")\n",
    "scatter!([cerosXAa,cerosXAb],[cerosYAa, cerosYAb], label = \"\")\n",
    "scatter!([cerosXBa,cerosXBb],[cerosYBa, cerosYBb], label = \"\")\n",
    "scatter!([ceros3XAa,ceros3XAb],[ceros3YAa, ceros3YAb], label = \"\", color  = \"purple\")\n",
    "scatter!([ceros4XAa,ceros4XAb],[ceros4YAa, ceros4YAb], label = \"\")\n",
    "scatter!([ceros4XBa,ceros4XBb],[ceros4YBa, ceros4YBb], label = \"\")\n",
    "scatter!([ceros5XAa,ceros5XAb],[ceros5YAa, ceros5YAb], label = \"\")"
   ]
  },
  {
   "cell_type": "markdown",
   "metadata": {},
   "source": [
    "Con el siguente conjunto invariante $x=0$"
   ]
  },
  {
   "cell_type": "code",
   "execution_count": 39,
   "metadata": {},
   "outputs": [
    {
     "data": {
      "text/plain": [
       "1-element Array{Float64,1}:\n",
       " 0.0"
      ]
     },
     "execution_count": 39,
     "metadata": {},
     "output_type": "execute_result"
    }
   ],
   "source": [
    "MapeoB5X(y) = MapeoBX(MapeoBX(MapeoBX(MapeoBX(MapeoBX(y)))))\n",
    "MapeoB5Y(y) = MapeoBY(MapeoBY(MapeoBY(MapeoBY(MapeoBY(y)))))\n",
    "ceros5YBa = find_zeros(MapeoB5X,-8.0,8.0)\n",
    "ceros5YBb = find_zeros(MapeoB5Y,-8.0,8.0)\n",
    "ceros5XBa = zeros(length(ceros5YBa))\n",
    "ceros5XBb = zeros(length(ceros5YBb))"
   ]
  },
  {
   "cell_type": "code",
   "execution_count": 40,
   "metadata": {},
   "outputs": [
    {
     "data": {
      "image/svg+xml": [
       "<?xml version=\"1.0\" encoding=\"utf-8\"?>\n",
       "<svg xmlns=\"http://www.w3.org/2000/svg\" xmlns:xlink=\"http://www.w3.org/1999/xlink\" width=\"600\" height=\"400\" viewBox=\"0 0 2400 1600\">\n",
       "<defs>\n",
       "  <clipPath id=\"clip740\">\n",
       "    <rect x=\"0\" y=\"0\" width=\"2400\" height=\"1600\"/>\n",
       "  </clipPath>\n",
       "</defs>\n",
       "<path clip-path=\"url(#clip740)\" d=\"\n",
       "M0 1600 L2400 1600 L2400 0 L0 0  Z\n",
       "  \" fill=\"#ffffff\" fill-rule=\"evenodd\" fill-opacity=\"1\"/>\n",
       "<defs>\n",
       "  <clipPath id=\"clip741\">\n",
       "    <rect x=\"480\" y=\"0\" width=\"1681\" height=\"1600\"/>\n",
       "  </clipPath>\n",
       "</defs>\n",
       "<path clip-path=\"url(#clip740)\" d=\"\n",
       "M126.645 1486.45 L2352.76 1486.45 L2352.76 47.2441 L126.645 47.2441  Z\n",
       "  \" fill=\"#ffffff\" fill-rule=\"evenodd\" fill-opacity=\"1\"/>\n",
       "<defs>\n",
       "  <clipPath id=\"clip742\">\n",
       "    <rect x=\"126\" y=\"47\" width=\"2227\" height=\"1440\"/>\n",
       "  </clipPath>\n",
       "</defs>\n",
       "<polyline clip-path=\"url(#clip742)\" style=\"stroke:#000000; stroke-width:2; stroke-opacity:0.1; fill:none\" points=\"\n",
       "  189.648,1486.45 189.648,47.2441 \n",
       "  \"/>\n",
       "<polyline clip-path=\"url(#clip742)\" style=\"stroke:#000000; stroke-width:2; stroke-opacity:0.1; fill:none\" points=\"\n",
       "  718.908,1486.45 718.908,47.2441 \n",
       "  \"/>\n",
       "<polyline clip-path=\"url(#clip742)\" style=\"stroke:#000000; stroke-width:2; stroke-opacity:0.1; fill:none\" points=\"\n",
       "  1248.17,1486.45 1248.17,47.2441 \n",
       "  \"/>\n",
       "<polyline clip-path=\"url(#clip742)\" style=\"stroke:#000000; stroke-width:2; stroke-opacity:0.1; fill:none\" points=\"\n",
       "  1777.43,1486.45 1777.43,47.2441 \n",
       "  \"/>\n",
       "<polyline clip-path=\"url(#clip742)\" style=\"stroke:#000000; stroke-width:2; stroke-opacity:0.1; fill:none\" points=\"\n",
       "  2306.69,1486.45 2306.69,47.2441 \n",
       "  \"/>\n",
       "<polyline clip-path=\"url(#clip742)\" style=\"stroke:#000000; stroke-width:2; stroke-opacity:0.1; fill:none\" points=\"\n",
       "  126.645,1276 2352.76,1276 \n",
       "  \"/>\n",
       "<polyline clip-path=\"url(#clip742)\" style=\"stroke:#000000; stroke-width:2; stroke-opacity:0.1; fill:none\" points=\"\n",
       "  126.645,1021.42 2352.76,1021.42 \n",
       "  \"/>\n",
       "<polyline clip-path=\"url(#clip742)\" style=\"stroke:#000000; stroke-width:2; stroke-opacity:0.1; fill:none\" points=\"\n",
       "  126.645,766.846 2352.76,766.846 \n",
       "  \"/>\n",
       "<polyline clip-path=\"url(#clip742)\" style=\"stroke:#000000; stroke-width:2; stroke-opacity:0.1; fill:none\" points=\"\n",
       "  126.645,512.27 2352.76,512.27 \n",
       "  \"/>\n",
       "<polyline clip-path=\"url(#clip742)\" style=\"stroke:#000000; stroke-width:2; stroke-opacity:0.1; fill:none\" points=\"\n",
       "  126.645,257.694 2352.76,257.694 \n",
       "  \"/>\n",
       "<polyline clip-path=\"url(#clip740)\" style=\"stroke:#000000; stroke-width:4; stroke-opacity:1; fill:none\" points=\"\n",
       "  126.645,1486.45 2352.76,1486.45 \n",
       "  \"/>\n",
       "<polyline clip-path=\"url(#clip740)\" style=\"stroke:#000000; stroke-width:4; stroke-opacity:1; fill:none\" points=\"\n",
       "  126.645,1486.45 126.645,47.2441 \n",
       "  \"/>\n",
       "<polyline clip-path=\"url(#clip740)\" style=\"stroke:#000000; stroke-width:4; stroke-opacity:1; fill:none\" points=\"\n",
       "  189.648,1486.45 189.648,1469.18 \n",
       "  \"/>\n",
       "<polyline clip-path=\"url(#clip740)\" style=\"stroke:#000000; stroke-width:4; stroke-opacity:1; fill:none\" points=\"\n",
       "  718.908,1486.45 718.908,1469.18 \n",
       "  \"/>\n",
       "<polyline clip-path=\"url(#clip740)\" style=\"stroke:#000000; stroke-width:4; stroke-opacity:1; fill:none\" points=\"\n",
       "  1248.17,1486.45 1248.17,1469.18 \n",
       "  \"/>\n",
       "<polyline clip-path=\"url(#clip740)\" style=\"stroke:#000000; stroke-width:4; stroke-opacity:1; fill:none\" points=\"\n",
       "  1777.43,1486.45 1777.43,1469.18 \n",
       "  \"/>\n",
       "<polyline clip-path=\"url(#clip740)\" style=\"stroke:#000000; stroke-width:4; stroke-opacity:1; fill:none\" points=\"\n",
       "  2306.69,1486.45 2306.69,1469.18 \n",
       "  \"/>\n",
       "<polyline clip-path=\"url(#clip740)\" style=\"stroke:#000000; stroke-width:4; stroke-opacity:1; fill:none\" points=\"\n",
       "  126.645,1276 153.358,1276 \n",
       "  \"/>\n",
       "<polyline clip-path=\"url(#clip740)\" style=\"stroke:#000000; stroke-width:4; stroke-opacity:1; fill:none\" points=\"\n",
       "  126.645,1021.42 153.358,1021.42 \n",
       "  \"/>\n",
       "<polyline clip-path=\"url(#clip740)\" style=\"stroke:#000000; stroke-width:4; stroke-opacity:1; fill:none\" points=\"\n",
       "  126.645,766.846 153.358,766.846 \n",
       "  \"/>\n",
       "<polyline clip-path=\"url(#clip740)\" style=\"stroke:#000000; stroke-width:4; stroke-opacity:1; fill:none\" points=\"\n",
       "  126.645,512.27 153.358,512.27 \n",
       "  \"/>\n",
       "<polyline clip-path=\"url(#clip740)\" style=\"stroke:#000000; stroke-width:4; stroke-opacity:1; fill:none\" points=\"\n",
       "  126.645,257.694 153.358,257.694 \n",
       "  \"/>\n",
       "<path clip-path=\"url(#clip740)\" d=\"M 0 0 M157.657 1508.44 Q154.046 1508.44 152.217 1512 Q150.412 1515.55 150.412 1522.67 Q150.412 1529.78 152.217 1533.35 Q154.046 1536.89 157.657 1536.89 Q161.292 1536.89 163.097 1533.35 Q164.926 1529.78 164.926 1522.67 Q164.926 1515.55 163.097 1512 Q161.292 1508.44 157.657 1508.44 M157.657 1504.73 Q163.467 1504.73 166.523 1509.34 Q169.602 1513.92 169.602 1522.67 Q169.602 1531.4 166.523 1536.01 Q163.467 1540.59 157.657 1540.59 Q151.847 1540.59 148.768 1536.01 Q145.713 1531.4 145.713 1522.67 Q145.713 1513.92 148.768 1509.34 Q151.847 1504.73 157.657 1504.73 Z\" fill=\"#000000\" fill-rule=\"evenodd\" fill-opacity=\"1\" /><path clip-path=\"url(#clip740)\" d=\"M 0 0 M174.671 1534.04 L179.555 1534.04 L179.555 1539.92 L174.671 1539.92 L174.671 1534.04 Z\" fill=\"#000000\" fill-rule=\"evenodd\" fill-opacity=\"1\" /><path clip-path=\"url(#clip740)\" d=\"M 0 0 M194.625 1508.44 Q191.014 1508.44 189.185 1512 Q187.379 1515.55 187.379 1522.67 Q187.379 1529.78 189.185 1533.35 Q191.014 1536.89 194.625 1536.89 Q198.259 1536.89 200.064 1533.35 Q201.893 1529.78 201.893 1522.67 Q201.893 1515.55 200.064 1512 Q198.259 1508.44 194.625 1508.44 M194.625 1504.73 Q200.435 1504.73 203.49 1509.34 Q206.569 1513.92 206.569 1522.67 Q206.569 1531.4 203.49 1536.01 Q200.435 1540.59 194.625 1540.59 Q188.815 1540.59 185.736 1536.01 Q182.68 1531.4 182.68 1522.67 Q182.68 1513.92 185.736 1509.34 Q188.815 1504.73 194.625 1504.73 Z\" fill=\"#000000\" fill-rule=\"evenodd\" fill-opacity=\"1\" /><path clip-path=\"url(#clip740)\" d=\"M 0 0 M221.638 1508.44 Q218.027 1508.44 216.199 1512 Q214.393 1515.55 214.393 1522.67 Q214.393 1529.78 216.199 1533.35 Q218.027 1536.89 221.638 1536.89 Q225.273 1536.89 227.078 1533.35 Q228.907 1529.78 228.907 1522.67 Q228.907 1515.55 227.078 1512 Q225.273 1508.44 221.638 1508.44 M221.638 1504.73 Q227.449 1504.73 230.504 1509.34 Q233.583 1513.92 233.583 1522.67 Q233.583 1531.4 230.504 1536.01 Q227.449 1540.59 221.638 1540.59 Q215.828 1540.59 212.75 1536.01 Q209.694 1531.4 209.694 1522.67 Q209.694 1513.92 212.75 1509.34 Q215.828 1504.73 221.638 1504.73 Z\" fill=\"#000000\" fill-rule=\"evenodd\" fill-opacity=\"1\" /><path clip-path=\"url(#clip740)\" d=\"M 0 0 M688.214 1508.44 Q684.603 1508.44 682.774 1512 Q680.969 1515.55 680.969 1522.67 Q680.969 1529.78 682.774 1533.35 Q684.603 1536.89 688.214 1536.89 Q691.848 1536.89 693.654 1533.35 Q695.482 1529.78 695.482 1522.67 Q695.482 1515.55 693.654 1512 Q691.848 1508.44 688.214 1508.44 M688.214 1504.73 Q694.024 1504.73 697.08 1509.34 Q700.158 1513.92 700.158 1522.67 Q700.158 1531.4 697.08 1536.01 Q694.024 1540.59 688.214 1540.59 Q682.404 1540.59 679.325 1536.01 Q676.269 1531.4 676.269 1522.67 Q676.269 1513.92 679.325 1509.34 Q682.404 1504.73 688.214 1504.73 Z\" fill=\"#000000\" fill-rule=\"evenodd\" fill-opacity=\"1\" /><path clip-path=\"url(#clip740)\" d=\"M 0 0 M705.228 1534.04 L710.112 1534.04 L710.112 1539.92 L705.228 1539.92 L705.228 1534.04 Z\" fill=\"#000000\" fill-rule=\"evenodd\" fill-opacity=\"1\" /><path clip-path=\"url(#clip740)\" d=\"M 0 0 M719.209 1535.98 L735.528 1535.98 L735.528 1539.92 L713.584 1539.92 L713.584 1535.98 Q716.246 1533.23 720.829 1528.6 Q725.436 1523.95 726.616 1522.61 Q728.862 1520.08 729.741 1518.35 Q730.644 1516.59 730.644 1514.9 Q730.644 1512.14 728.7 1510.41 Q726.778 1508.67 723.677 1508.67 Q721.478 1508.67 719.024 1509.43 Q716.593 1510.2 713.816 1511.75 L713.816 1507.03 Q716.64 1505.89 719.093 1505.31 Q721.547 1504.73 723.584 1504.73 Q728.954 1504.73 732.149 1507.42 Q735.343 1510.11 735.343 1514.6 Q735.343 1516.73 734.533 1518.65 Q733.746 1520.54 731.64 1523.14 Q731.061 1523.81 727.959 1527.03 Q724.857 1530.22 719.209 1535.98 Z\" fill=\"#000000\" fill-rule=\"evenodd\" fill-opacity=\"1\" /><path clip-path=\"url(#clip740)\" d=\"M 0 0 M740.644 1505.36 L759.001 1505.36 L759.001 1509.3 L744.927 1509.3 L744.927 1517.77 Q745.945 1517.42 746.964 1517.26 Q747.982 1517.07 749.001 1517.07 Q754.788 1517.07 758.167 1520.24 Q761.547 1523.42 761.547 1528.83 Q761.547 1534.41 758.075 1537.51 Q754.602 1540.59 748.283 1540.59 Q746.107 1540.59 743.839 1540.22 Q741.593 1539.85 739.186 1539.11 L739.186 1534.41 Q741.269 1535.54 743.491 1536.1 Q745.714 1536.66 748.19 1536.66 Q752.195 1536.66 754.533 1534.55 Q756.871 1532.44 756.871 1528.83 Q756.871 1525.22 754.533 1523.11 Q752.195 1521.01 748.19 1521.01 Q746.315 1521.01 744.44 1521.42 Q742.589 1521.84 740.644 1522.72 L740.644 1505.36 Z\" fill=\"#000000\" fill-rule=\"evenodd\" fill-opacity=\"1\" /><path clip-path=\"url(#clip740)\" d=\"M 0 0 M1216.68 1508.44 Q1213.06 1508.44 1211.24 1512 Q1209.43 1515.55 1209.43 1522.67 Q1209.43 1529.78 1211.24 1533.35 Q1213.06 1536.89 1216.68 1536.89 Q1220.31 1536.89 1222.12 1533.35 Q1223.94 1529.78 1223.94 1522.67 Q1223.94 1515.55 1222.12 1512 Q1220.31 1508.44 1216.68 1508.44 M1216.68 1504.73 Q1222.49 1504.73 1225.54 1509.34 Q1228.62 1513.92 1228.62 1522.67 Q1228.62 1531.4 1225.54 1536.01 Q1222.49 1540.59 1216.68 1540.59 Q1210.87 1540.59 1207.79 1536.01 Q1204.73 1531.4 1204.73 1522.67 Q1204.73 1513.92 1207.79 1509.34 Q1210.87 1504.73 1216.68 1504.73 Z\" fill=\"#000000\" fill-rule=\"evenodd\" fill-opacity=\"1\" /><path clip-path=\"url(#clip740)\" d=\"M 0 0 M1233.69 1534.04 L1238.57 1534.04 L1238.57 1539.92 L1233.69 1539.92 L1233.69 1534.04 Z\" fill=\"#000000\" fill-rule=\"evenodd\" fill-opacity=\"1\" /><path clip-path=\"url(#clip740)\" d=\"M 0 0 M1243.69 1505.36 L1262.05 1505.36 L1262.05 1509.3 L1247.97 1509.3 L1247.97 1517.77 Q1248.99 1517.42 1250.01 1517.26 Q1251.03 1517.07 1252.05 1517.07 Q1257.83 1517.07 1261.21 1520.24 Q1264.59 1523.42 1264.59 1528.83 Q1264.59 1534.41 1261.12 1537.51 Q1257.65 1540.59 1251.33 1540.59 Q1249.15 1540.59 1246.88 1540.22 Q1244.64 1539.85 1242.23 1539.11 L1242.23 1534.41 Q1244.31 1535.54 1246.54 1536.1 Q1248.76 1536.66 1251.24 1536.66 Q1255.24 1536.66 1257.58 1534.55 Q1259.92 1532.44 1259.92 1528.83 Q1259.92 1525.22 1257.58 1523.11 Q1255.24 1521.01 1251.24 1521.01 Q1249.36 1521.01 1247.49 1521.42 Q1245.63 1521.84 1243.69 1522.72 L1243.69 1505.36 Z\" fill=\"#000000\" fill-rule=\"evenodd\" fill-opacity=\"1\" /><path clip-path=\"url(#clip740)\" d=\"M 0 0 M1279.66 1508.44 Q1276.05 1508.44 1274.22 1512 Q1272.42 1515.55 1272.42 1522.67 Q1272.42 1529.78 1274.22 1533.35 Q1276.05 1536.89 1279.66 1536.89 Q1283.3 1536.89 1285.1 1533.35 Q1286.93 1529.78 1286.93 1522.67 Q1286.93 1515.55 1285.1 1512 Q1283.3 1508.44 1279.66 1508.44 M1279.66 1504.73 Q1285.47 1504.73 1288.53 1509.34 Q1291.61 1513.92 1291.61 1522.67 Q1291.61 1531.4 1288.53 1536.01 Q1285.47 1540.59 1279.66 1540.59 Q1273.85 1540.59 1270.77 1536.01 Q1267.72 1531.4 1267.72 1522.67 Q1267.72 1513.92 1270.77 1509.34 Q1273.85 1504.73 1279.66 1504.73 Z\" fill=\"#000000\" fill-rule=\"evenodd\" fill-opacity=\"1\" /><path clip-path=\"url(#clip740)\" d=\"M 0 0 M1746.39 1508.44 Q1742.78 1508.44 1740.95 1512 Q1739.14 1515.55 1739.14 1522.67 Q1739.14 1529.78 1740.95 1533.35 Q1742.78 1536.89 1746.39 1536.89 Q1750.02 1536.89 1751.83 1533.35 Q1753.66 1529.78 1753.66 1522.67 Q1753.66 1515.55 1751.83 1512 Q1750.02 1508.44 1746.39 1508.44 M1746.39 1504.73 Q1752.2 1504.73 1755.25 1509.34 Q1758.33 1513.92 1758.33 1522.67 Q1758.33 1531.4 1755.25 1536.01 Q1752.2 1540.59 1746.39 1540.59 Q1740.58 1540.59 1737.5 1536.01 Q1734.44 1531.4 1734.44 1522.67 Q1734.44 1513.92 1737.5 1509.34 Q1740.58 1504.73 1746.39 1504.73 Z\" fill=\"#000000\" fill-rule=\"evenodd\" fill-opacity=\"1\" /><path clip-path=\"url(#clip740)\" d=\"M 0 0 M1763.4 1534.04 L1768.29 1534.04 L1768.29 1539.92 L1763.4 1539.92 L1763.4 1534.04 Z\" fill=\"#000000\" fill-rule=\"evenodd\" fill-opacity=\"1\" /><path clip-path=\"url(#clip740)\" d=\"M 0 0 M1772.17 1505.36 L1794.4 1505.36 L1794.4 1507.35 L1781.85 1539.92 L1776.97 1539.92 L1788.77 1509.3 L1772.17 1509.3 L1772.17 1505.36 Z\" fill=\"#000000\" fill-rule=\"evenodd\" fill-opacity=\"1\" /><path clip-path=\"url(#clip740)\" d=\"M 0 0 M1799.51 1505.36 L1817.87 1505.36 L1817.87 1509.3 L1803.79 1509.3 L1803.79 1517.77 Q1804.81 1517.42 1805.83 1517.26 Q1806.85 1517.07 1807.87 1517.07 Q1813.66 1517.07 1817.04 1520.24 Q1820.41 1523.42 1820.41 1528.83 Q1820.41 1534.41 1816.94 1537.51 Q1813.47 1540.59 1807.15 1540.59 Q1804.97 1540.59 1802.71 1540.22 Q1800.46 1539.85 1798.05 1539.11 L1798.05 1534.41 Q1800.14 1535.54 1802.36 1536.1 Q1804.58 1536.66 1807.06 1536.66 Q1811.06 1536.66 1813.4 1534.55 Q1815.74 1532.44 1815.74 1528.83 Q1815.74 1525.22 1813.4 1523.11 Q1811.06 1521.01 1807.06 1521.01 Q1805.18 1521.01 1803.31 1521.42 Q1801.46 1521.84 1799.51 1522.72 L1799.51 1505.36 Z\" fill=\"#000000\" fill-rule=\"evenodd\" fill-opacity=\"1\" /><path clip-path=\"url(#clip740)\" d=\"M 0 0 M2265.08 1535.98 L2272.72 1535.98 L2272.72 1509.62 L2264.41 1511.29 L2264.41 1507.03 L2272.67 1505.36 L2277.35 1505.36 L2277.35 1535.98 L2284.99 1535.98 L2284.99 1539.92 L2265.08 1539.92 L2265.08 1535.98 Z\" fill=\"#000000\" fill-rule=\"evenodd\" fill-opacity=\"1\" /><path clip-path=\"url(#clip740)\" d=\"M 0 0 M2290.06 1534.04 L2294.94 1534.04 L2294.94 1539.92 L2290.06 1539.92 L2290.06 1534.04 Z\" fill=\"#000000\" fill-rule=\"evenodd\" fill-opacity=\"1\" /><path clip-path=\"url(#clip740)\" d=\"M 0 0 M2310.01 1508.44 Q2306.4 1508.44 2304.57 1512 Q2302.77 1515.55 2302.77 1522.67 Q2302.77 1529.78 2304.57 1533.35 Q2306.4 1536.89 2310.01 1536.89 Q2313.65 1536.89 2315.45 1533.35 Q2317.28 1529.78 2317.28 1522.67 Q2317.28 1515.55 2315.45 1512 Q2313.65 1508.44 2310.01 1508.44 M2310.01 1504.73 Q2315.82 1504.73 2318.88 1509.34 Q2321.96 1513.92 2321.96 1522.67 Q2321.96 1531.4 2318.88 1536.01 Q2315.82 1540.59 2310.01 1540.59 Q2304.2 1540.59 2301.12 1536.01 Q2298.07 1531.4 2298.07 1522.67 Q2298.07 1513.92 2301.12 1509.34 Q2304.2 1504.73 2310.01 1504.73 Z\" fill=\"#000000\" fill-rule=\"evenodd\" fill-opacity=\"1\" /><path clip-path=\"url(#clip740)\" d=\"M 0 0 M2337.02 1508.44 Q2333.41 1508.44 2331.58 1512 Q2329.78 1515.55 2329.78 1522.67 Q2329.78 1529.78 2331.58 1533.35 Q2333.41 1536.89 2337.02 1536.89 Q2340.66 1536.89 2342.46 1533.35 Q2344.29 1529.78 2344.29 1522.67 Q2344.29 1515.55 2342.46 1512 Q2340.66 1508.44 2337.02 1508.44 M2337.02 1504.73 Q2342.83 1504.73 2345.89 1509.34 Q2348.97 1513.92 2348.97 1522.67 Q2348.97 1531.4 2345.89 1536.01 Q2342.83 1540.59 2337.02 1540.59 Q2331.21 1540.59 2328.14 1536.01 Q2325.08 1531.4 2325.08 1522.67 Q2325.08 1513.92 2328.14 1509.34 Q2331.21 1504.73 2337.02 1504.73 Z\" fill=\"#000000\" fill-rule=\"evenodd\" fill-opacity=\"1\" /><path clip-path=\"url(#clip740)\" d=\"M 0 0 M62.9921 1278.39 L75.4689 1278.39 L75.4689 1282.19 L62.9921 1282.19 L62.9921 1278.39 Z\" fill=\"#000000\" fill-rule=\"evenodd\" fill-opacity=\"1\" /><path clip-path=\"url(#clip740)\" d=\"M 0 0 M91.117 1274.13 Q87.9688 1274.13 86.117 1276.29 Q84.2883 1278.44 84.2883 1282.19 Q84.2883 1285.92 86.117 1288.09 Q87.9688 1290.25 91.117 1290.25 Q94.2651 1290.25 96.0938 1288.09 Q97.9456 1285.92 97.9456 1282.19 Q97.9456 1278.44 96.0938 1276.29 Q94.2651 1274.13 91.117 1274.13 M100.399 1259.48 L100.399 1263.74 Q98.6401 1262.91 96.8345 1262.47 Q95.0521 1262.03 93.2929 1262.03 Q88.6633 1262.03 86.2096 1265.15 Q83.7791 1268.28 83.4318 1274.6 Q84.7976 1272.58 86.8577 1271.52 Q88.9179 1270.43 91.3948 1270.43 Q96.6031 1270.43 99.6123 1273.6 Q102.645 1276.75 102.645 1282.19 Q102.645 1287.51 99.4966 1290.73 Q96.3484 1293.95 91.117 1293.95 Q85.1216 1293.95 81.9504 1289.37 Q78.7791 1284.76 78.7791 1276.03 Q78.7791 1267.84 82.6679 1262.98 Q86.5568 1258.09 93.1077 1258.09 Q94.867 1258.09 96.6494 1258.44 Q98.4549 1258.79 100.399 1259.48 Z\" fill=\"#000000\" fill-rule=\"evenodd\" fill-opacity=\"1\" /><path clip-path=\"url(#clip740)\" d=\"M 0 0 M63.8023 1023.82 L76.2791 1023.82 L76.2791 1027.61 L63.8023 1027.61 L63.8023 1023.82 Z\" fill=\"#000000\" fill-rule=\"evenodd\" fill-opacity=\"1\" /><path clip-path=\"url(#clip740)\" d=\"M 0 0 M95.5151 1020.07 Q98.8716 1020.79 100.747 1023.05 Q102.645 1025.32 102.645 1028.66 Q102.645 1033.77 99.1262 1036.57 Q95.6077 1039.37 89.1262 1039.37 Q86.9503 1039.37 84.6355 1038.93 Q82.3439 1038.52 79.8902 1037.66 L79.8902 1033.15 Q81.8346 1034.28 84.1494 1034.86 Q86.4642 1035.44 88.9874 1035.44 Q93.3855 1035.44 95.6771 1033.7 Q97.9919 1031.97 97.9919 1028.66 Q97.9919 1025.6 95.8392 1023.89 Q93.7096 1022.15 89.8901 1022.15 L85.8624 1022.15 L85.8624 1018.31 L90.0753 1018.31 Q93.5244 1018.31 95.3531 1016.94 Q97.1818 1015.55 97.1818 1012.96 Q97.1818 1010.3 95.2836 1008.89 Q93.4086 1007.45 89.8901 1007.45 Q87.9688 1007.45 85.7698 1007.87 Q83.5707 1008.29 80.9318 1009.17 L80.9318 1005 Q83.5939 1004.26 85.9087 1003.89 Q88.2466 1003.52 90.3068 1003.52 Q95.6308 1003.52 98.7327 1005.95 Q101.835 1008.36 101.835 1012.48 Q101.835 1015.35 100.191 1017.34 Q98.5475 1019.3 95.5151 1020.07 Z\" fill=\"#000000\" fill-rule=\"evenodd\" fill-opacity=\"1\" /><path clip-path=\"url(#clip740)\" d=\"M 0 0 M90.7003 752.645 Q87.0892 752.645 85.2605 756.209 Q83.455 759.751 83.455 766.881 Q83.455 773.987 85.2605 777.552 Q87.0892 781.094 90.7003 781.094 Q94.3346 781.094 96.1401 777.552 Q97.9688 773.987 97.9688 766.881 Q97.9688 759.751 96.1401 756.209 Q94.3346 752.645 90.7003 752.645 M90.7003 748.941 Q96.5105 748.941 99.566 753.547 Q102.645 758.131 102.645 766.881 Q102.645 775.608 99.566 780.214 Q96.5105 784.797 90.7003 784.797 Q84.8902 784.797 81.8115 780.214 Q78.7559 775.608 78.7559 766.881 Q78.7559 758.131 81.8115 753.547 Q84.8902 748.941 90.7003 748.941 Z\" fill=\"#000000\" fill-rule=\"evenodd\" fill-opacity=\"1\" /><path clip-path=\"url(#clip740)\" d=\"M 0 0 M95.5151 510.916 Q98.8716 511.633 100.747 513.902 Q102.645 516.17 102.645 519.504 Q102.645 524.619 99.1262 527.42 Q95.6077 530.221 89.1262 530.221 Q86.9503 530.221 84.6355 529.781 Q82.3439 529.365 79.8902 528.508 L79.8902 523.994 Q81.8346 525.129 84.1494 525.707 Q86.4642 526.286 88.9874 526.286 Q93.3855 526.286 95.6771 524.55 Q97.9919 522.814 97.9919 519.504 Q97.9919 516.448 95.8392 514.735 Q93.7096 512.999 89.8901 512.999 L85.8624 512.999 L85.8624 509.156 L90.0753 509.156 Q93.5244 509.156 95.3531 507.791 Q97.1818 506.402 97.1818 503.809 Q97.1818 501.147 95.2836 499.735 Q93.4086 498.3 89.8901 498.3 Q87.9688 498.3 85.7698 498.717 Q83.5707 499.133 80.9318 500.013 L80.9318 495.846 Q83.5939 495.106 85.9087 494.735 Q88.2466 494.365 90.3068 494.365 Q95.6308 494.365 98.7327 496.795 Q101.835 499.203 101.835 503.323 Q101.835 506.193 100.191 508.184 Q98.5475 510.152 95.5151 510.916 Z\" fill=\"#000000\" fill-rule=\"evenodd\" fill-opacity=\"1\" /><path clip-path=\"url(#clip740)\" d=\"M 0 0 M91.117 255.83 Q87.9688 255.83 86.117 257.983 Q84.2883 260.136 84.2883 263.886 Q84.2883 267.613 86.117 269.789 Q87.9688 271.941 91.117 271.941 Q94.2651 271.941 96.0938 269.789 Q97.9456 267.613 97.9456 263.886 Q97.9456 260.136 96.0938 257.983 Q94.2651 255.83 91.117 255.83 M100.399 241.178 L100.399 245.437 Q98.6401 244.603 96.8345 244.164 Q95.0521 243.724 93.2929 243.724 Q88.6633 243.724 86.2096 246.849 Q83.7791 249.974 83.4318 256.293 Q84.7976 254.279 86.8577 253.215 Q88.9179 252.127 91.3948 252.127 Q96.6031 252.127 99.6123 255.298 Q102.645 258.446 102.645 263.886 Q102.645 269.21 99.4966 272.427 Q96.3484 275.645 91.117 275.645 Q85.1216 275.645 81.9504 271.062 Q78.7791 266.455 78.7791 257.728 Q78.7791 249.534 82.6679 244.673 Q86.5568 239.789 93.1077 239.789 Q94.867 239.789 96.6494 240.136 Q98.4549 240.483 100.399 241.178 Z\" fill=\"#000000\" fill-rule=\"evenodd\" fill-opacity=\"1\" /><polyline clip-path=\"url(#clip742)\" style=\"stroke:#009af9; stroke-width:4; stroke-opacity:1; fill:none\" points=\"\n",
       "  1989.13,1445.72 2157.44,1437.23 206.584,1428.74 370.655,1420.26 532.609,1411.77 692.445,1403.29 850.165,1394.8 1005.77,1386.31 1159.25,1377.83 1310.62,1369.34 \n",
       "  1459.87,1360.86 1607.01,1352.37 1752.02,1343.89 1894.92,1335.4 2035.71,1326.91 2174.37,1318.43 193.882,1309.94 328.314,1301.46 460.629,1292.97 590.827,1284.48 \n",
       "  718.908,1276 844.872,1267.51 968.719,1259.03 1090.45,1250.54 1210.06,1242.05 1327.56,1233.57 1442.94,1225.08 1556.2,1216.6 1667.34,1208.11 1776.37,1199.63 \n",
       "  1883.28,1191.14 1988.07,1182.65 2090.75,1174.17 2191.31,1165.68 2289.75,1157.2 269.037,1148.71 363.245,1140.22 455.337,1131.74 545.311,1123.25 633.168,1114.77 \n",
       "  718.908,1106.28 802.531,1097.79 884.037,1089.31 963.426,1080.82 1040.7,1072.34 1115.85,1063.85 1188.89,1055.37 1259.81,1046.88 1328.62,1038.39 1395.3,1029.91 \n",
       "  1459.87,1021.42 1522.33,1012.94 1582.66,1004.45 1640.88,995.965 1696.98,987.479 1750.97,978.993 1802.83,970.507 1852.58,962.021 1900.22,953.535 1945.73,945.049 \n",
       "  1989.13,936.563 2030.42,928.078 2069.58,919.592 2106.63,911.106 2141.56,902.62 2174.37,894.134 2205.07,885.648 2233.65,877.162 2260.11,868.676 2284.46,860.191 \n",
       "  189.648,851.705 209.76,843.219 227.755,834.733 243.632,826.247 257.393,817.761 269.037,809.275 278.564,800.789 285.973,792.304 291.266,783.818 294.441,775.332 \n",
       "  295.5,766.846 294.441,758.36 291.266,749.874 285.973,741.388 278.564,732.902 269.037,724.417 257.393,715.931 243.632,707.445 227.755,698.959 209.76,690.473 \n",
       "  189.648,681.987 2284.46,673.501 2260.11,665.016 2233.65,656.53 2205.07,648.044 2174.37,639.558 2141.56,631.072 2106.63,622.586 2069.58,614.1 2030.42,605.614 \n",
       "  1989.13,597.129 1945.73,588.643 1900.22,580.157 1852.58,571.671 1802.83,563.185 1750.97,554.699 1696.98,546.213 1640.88,537.727 1582.66,529.242 1522.33,520.756 \n",
       "  1459.87,512.27 1395.3,503.784 1328.62,495.298 1259.81,486.812 1188.89,478.326 1115.85,469.84 1040.7,461.355 963.426,452.869 884.037,444.383 802.531,435.897 \n",
       "  718.908,427.411 633.168,418.925 545.311,410.439 455.337,401.954 363.245,393.468 269.037,384.982 2289.75,376.496 2191.31,368.01 2090.75,359.524 1988.07,351.038 \n",
       "  1883.28,342.552 1776.37,334.067 1667.34,325.581 1556.2,317.095 1442.94,308.609 1327.56,300.123 1210.06,291.637 1090.45,283.151 968.719,274.665 844.872,266.18 \n",
       "  718.908,257.694 590.827,249.208 460.629,240.722 328.314,232.236 193.882,223.75 2174.37,215.264 2035.71,206.778 1894.92,198.293 1752.02,189.807 1607.01,181.321 \n",
       "  1459.87,172.835 1310.62,164.349 1159.25,155.863 1005.77,147.377 850.165,138.892 692.445,130.406 532.609,121.92 370.655,113.434 206.584,104.948 2157.44,96.4621 \n",
       "  1989.13,87.9763 \n",
       "  \"/>\n",
       "<polyline clip-path=\"url(#clip742)\" style=\"stroke:#e26f46; stroke-width:4; stroke-opacity:1; fill:none\" points=\"\n",
       "  189.648,1445.72 189.648,1437.23 189.648,1428.74 189.648,1420.26 189.648,1411.77 189.648,1403.29 189.648,1394.8 189.648,1386.31 189.648,1377.83 189.648,1369.34 \n",
       "  189.648,1360.86 189.648,1352.37 189.648,1343.89 189.648,1335.4 189.648,1326.91 189.648,1318.43 189.648,1309.94 189.648,1301.46 189.648,1292.97 189.648,1284.48 \n",
       "  189.648,1276 189.648,1267.51 189.648,1259.03 189.648,1250.54 189.648,1242.05 189.648,1233.57 189.648,1225.08 189.648,1216.6 189.648,1208.11 189.648,1199.63 \n",
       "  189.648,1191.14 189.648,1182.65 189.648,1174.17 189.648,1165.68 189.648,1157.2 189.648,1148.71 189.648,1140.22 189.648,1131.74 189.648,1123.25 189.648,1114.77 \n",
       "  189.648,1106.28 189.648,1097.79 189.648,1089.31 189.648,1080.82 189.648,1072.34 189.648,1063.85 189.648,1055.37 189.648,1046.88 189.648,1038.39 189.648,1029.91 \n",
       "  189.648,1021.42 189.648,1012.94 189.648,1004.45 189.648,995.965 189.648,987.479 189.648,978.993 189.648,970.507 189.648,962.021 189.648,953.535 189.648,945.049 \n",
       "  189.648,936.563 189.648,928.078 189.648,919.592 189.648,911.106 189.648,902.62 189.648,894.134 189.648,885.648 189.648,877.162 189.648,868.676 189.648,860.191 \n",
       "  189.648,851.705 189.648,843.219 189.648,834.733 189.648,826.247 189.648,817.761 189.648,809.275 189.648,800.789 189.648,792.304 189.648,783.818 189.648,775.332 \n",
       "  189.648,766.846 189.648,758.36 189.648,749.874 189.648,741.388 189.648,732.902 189.648,724.417 189.648,715.931 189.648,707.445 189.648,698.959 189.648,690.473 \n",
       "  189.648,681.987 189.648,673.501 189.648,665.016 189.648,656.53 189.648,648.044 189.648,639.558 189.648,631.072 189.648,622.586 189.648,614.1 189.648,605.614 \n",
       "  189.648,597.129 189.648,588.643 189.648,580.157 189.648,571.671 189.648,563.185 189.648,554.699 189.648,546.213 189.648,537.727 189.648,529.242 189.648,520.756 \n",
       "  189.648,512.27 189.648,503.784 189.648,495.298 189.648,486.812 189.648,478.326 189.648,469.84 189.648,461.355 189.648,452.869 189.648,444.383 189.648,435.897 \n",
       "  189.648,427.411 189.648,418.925 189.648,410.439 189.648,401.954 189.648,393.468 189.648,384.982 189.648,376.496 189.648,368.01 189.648,359.524 189.648,351.038 \n",
       "  189.648,342.552 189.648,334.067 189.648,325.581 189.648,317.095 189.648,308.609 189.648,300.123 189.648,291.637 189.648,283.151 189.648,274.665 189.648,266.18 \n",
       "  189.648,257.694 189.648,249.208 189.648,240.722 189.648,232.236 189.648,223.75 189.648,215.264 189.648,206.778 189.648,198.293 189.648,189.807 189.648,181.321 \n",
       "  189.648,172.835 189.648,164.349 189.648,155.863 189.648,147.377 189.648,138.892 189.648,130.406 189.648,121.92 189.648,113.434 189.648,104.948 189.648,96.4621 \n",
       "  189.648,87.9763 \n",
       "  \"/>\n",
       "<circle clip-path=\"url(#clip742)\" cx=\"1569.02\" cy=\"1006.4\" r=\"14\" fill=\"#3da44d\" fill-rule=\"evenodd\" fill-opacity=\"1\" stroke=\"#000000\" stroke-opacity=\"1\" stroke-width=\"3.2\"/>\n",
       "<circle clip-path=\"url(#clip742)\" cx=\"1636.52\" cy=\"537.081\" r=\"14\" fill=\"#3da44d\" fill-rule=\"evenodd\" fill-opacity=\"1\" stroke=\"#000000\" stroke-opacity=\"1\" stroke-width=\"3.2\"/>\n",
       "<circle clip-path=\"url(#clip742)\" cx=\"295.097\" cy=\"761.613\" r=\"14\" fill=\"#c271d2\" fill-rule=\"evenodd\" fill-opacity=\"1\" stroke=\"#000000\" stroke-opacity=\"1\" stroke-width=\"3.2\"/>\n",
       "<circle clip-path=\"url(#clip742)\" cx=\"189.648\" cy=\"1048.29\" r=\"14\" fill=\"#ac8d18\" fill-rule=\"evenodd\" fill-opacity=\"1\" stroke=\"#000000\" stroke-opacity=\"1\" stroke-width=\"3.2\"/>\n",
       "<circle clip-path=\"url(#clip742)\" cx=\"189.648\" cy=\"485.401\" r=\"14\" fill=\"#ac8d18\" fill-rule=\"evenodd\" fill-opacity=\"1\" stroke=\"#000000\" stroke-opacity=\"1\" stroke-width=\"3.2\"/>\n",
       "<circle clip-path=\"url(#clip742)\" cx=\"189.648\" cy=\"766.846\" r=\"14\" fill=\"#00a9ad\" fill-rule=\"evenodd\" fill-opacity=\"1\" stroke=\"#000000\" stroke-opacity=\"1\" stroke-width=\"3.2\"/>\n",
       "<circle clip-path=\"url(#clip742)\" cx=\"294.598\" cy=\"759.013\" r=\"14\" fill=\"#800080\" fill-rule=\"evenodd\" fill-opacity=\"1\" stroke=\"#000000\" stroke-opacity=\"1\" stroke-width=\"3.2\"/>\n",
       "<circle clip-path=\"url(#clip742)\" cx=\"1292.48\" cy=\"1236.12\" r=\"14\" fill=\"#00a98d\" fill-rule=\"evenodd\" fill-opacity=\"1\" stroke=\"#000000\" stroke-opacity=\"1\" stroke-width=\"3.2\"/>\n",
       "<circle clip-path=\"url(#clip742)\" cx=\"1318.93\" cy=\"299.495\" r=\"14\" fill=\"#00a98d\" fill-rule=\"evenodd\" fill-opacity=\"1\" stroke=\"#000000\" stroke-opacity=\"1\" stroke-width=\"3.2\"/>\n",
       "<circle clip-path=\"url(#clip742)\" cx=\"293.905\" cy=\"756.429\" r=\"14\" fill=\"#8e971d\" fill-rule=\"evenodd\" fill-opacity=\"1\" stroke=\"#000000\" stroke-opacity=\"1\" stroke-width=\"3.2\"/>\n",
       "<circle clip-path=\"url(#clip742)\" cx=\"189.648\" cy=\"1421.15\" r=\"14\" fill=\"#00a8cb\" fill-rule=\"evenodd\" fill-opacity=\"1\" stroke=\"#000000\" stroke-opacity=\"1\" stroke-width=\"3.2\"/>\n",
       "<circle clip-path=\"url(#clip742)\" cx=\"189.648\" cy=\"112.542\" r=\"14\" fill=\"#00a8cb\" fill-rule=\"evenodd\" fill-opacity=\"1\" stroke=\"#000000\" stroke-opacity=\"1\" stroke-width=\"3.2\"/>\n",
       "<circle clip-path=\"url(#clip742)\" cx=\"189.648\" cy=\"766.846\" r=\"14\" fill=\"#9b7fe8\" fill-rule=\"evenodd\" fill-opacity=\"1\" stroke=\"#000000\" stroke-opacity=\"1\" stroke-width=\"3.2\"/>\n",
       "<circle clip-path=\"url(#clip742)\" cx=\"602.819\" cy=\"1283.7\" r=\"14\" fill=\"#608cf6\" fill-rule=\"evenodd\" fill-opacity=\"1\" stroke=\"#000000\" stroke-opacity=\"1\" stroke-width=\"3.2\"/>\n",
       "<circle clip-path=\"url(#clip742)\" cx=\"458.913\" cy=\"240.611\" r=\"14\" fill=\"#608cf6\" fill-rule=\"evenodd\" fill-opacity=\"1\" stroke=\"#000000\" stroke-opacity=\"1\" stroke-width=\"3.2\"/>\n",
       "<circle clip-path=\"url(#clip742)\" cx=\"293.023\" cy=\"753.866\" r=\"14\" fill=\"#f05f73\" fill-rule=\"evenodd\" fill-opacity=\"1\" stroke=\"#000000\" stroke-opacity=\"1\" stroke-width=\"3.2\"/>\n",
       "<circle clip-path=\"url(#clip742)\" cx=\"189.648\" cy=\"766.846\" r=\"14\" fill=\"#6b9e32\" fill-rule=\"evenodd\" fill-opacity=\"1\" stroke=\"#000000\" stroke-opacity=\"1\" stroke-width=\"3.2\"/>\n",
       "</svg>\n"
      ]
     },
     "execution_count": 40,
     "metadata": {},
     "output_type": "execute_result"
    }
   ],
   "source": [
    "plot(listaX, listaY, label = \"\")\n",
    "plot!(listaXB, listaYB, label = \"\")\n",
    "scatter!([cerosXAa,cerosXAb],[cerosYAa, cerosYAb], label = \"\")\n",
    "scatter!([cerosXBa,cerosXBb],[cerosYBa, cerosYBb], label = \"\")\n",
    "scatter!([ceros3XAa,ceros3XAb],[ceros3YAa, ceros3YAb], label = \"\", color  = \"purple\")\n",
    "scatter!([ceros4XAa,ceros4XAb],[ceros4YAa, ceros4YAb], label = \"\")\n",
    "scatter!([ceros4XBa,ceros4XBb],[ceros4YBa, ceros4YBb], label = \"\")\n",
    "scatter!([ceros5XAa,ceros5XAb],[ceros5YAa, ceros5YAb], label = \"\")\n",
    "scatter!([ceros5XBa,ceros5XBb],[ceros5YBa, ceros5YBb], label = \"\")"
   ]
  },
  {
   "cell_type": "markdown",
   "metadata": {},
   "source": [
    "### ⭐ Periodo 10"
   ]
  },
  {
   "cell_type": "code",
   "execution_count": 41,
   "metadata": {},
   "outputs": [
    {
     "data": {
      "text/plain": [
       "1-element Array{Float64,1}:\n",
       " 0.045544751779358544"
      ]
     },
     "execution_count": 41,
     "metadata": {},
     "output_type": "execute_result"
    }
   ],
   "source": [
    "MapeoA10X(y) = MapeoA5X(MapeoA5X(y))\n",
    "MapeoA10Y(y) = MapeoA5Y(MapeoA5Y(y))\n",
    "ceros10YAa = find_zeros(MapeoA10X,-8.0,8.0)\n",
    "ceros10YAb = find_zeros(MapeoA10Y,-8.0,8.0)\n",
    "ceros10XAa = [x_puntoF(ceros10YAa[i],a) for i in 1:length(ceros10YAa)]\n",
    "ceros10XAb = [x_puntoF(ceros10YAb[i],a) for i in 1:length(ceros10YAb)]"
   ]
  },
  {
   "cell_type": "code",
   "execution_count": 42,
   "metadata": {},
   "outputs": [
    {
     "data": {
      "image/svg+xml": [
       "<?xml version=\"1.0\" encoding=\"utf-8\"?>\n",
       "<svg xmlns=\"http://www.w3.org/2000/svg\" xmlns:xlink=\"http://www.w3.org/1999/xlink\" width=\"600\" height=\"400\" viewBox=\"0 0 2400 1600\">\n",
       "<defs>\n",
       "  <clipPath id=\"clip780\">\n",
       "    <rect x=\"0\" y=\"0\" width=\"2400\" height=\"1600\"/>\n",
       "  </clipPath>\n",
       "</defs>\n",
       "<path clip-path=\"url(#clip780)\" d=\"\n",
       "M0 1600 L2400 1600 L2400 0 L0 0  Z\n",
       "  \" fill=\"#ffffff\" fill-rule=\"evenodd\" fill-opacity=\"1\"/>\n",
       "<defs>\n",
       "  <clipPath id=\"clip781\">\n",
       "    <rect x=\"480\" y=\"0\" width=\"1681\" height=\"1600\"/>\n",
       "  </clipPath>\n",
       "</defs>\n",
       "<path clip-path=\"url(#clip780)\" d=\"\n",
       "M126.645 1486.45 L2352.76 1486.45 L2352.76 47.2441 L126.645 47.2441  Z\n",
       "  \" fill=\"#ffffff\" fill-rule=\"evenodd\" fill-opacity=\"1\"/>\n",
       "<defs>\n",
       "  <clipPath id=\"clip782\">\n",
       "    <rect x=\"126\" y=\"47\" width=\"2227\" height=\"1440\"/>\n",
       "  </clipPath>\n",
       "</defs>\n",
       "<polyline clip-path=\"url(#clip782)\" style=\"stroke:#000000; stroke-width:2; stroke-opacity:0.1; fill:none\" points=\"\n",
       "  189.648,1486.45 189.648,47.2441 \n",
       "  \"/>\n",
       "<polyline clip-path=\"url(#clip782)\" style=\"stroke:#000000; stroke-width:2; stroke-opacity:0.1; fill:none\" points=\"\n",
       "  718.908,1486.45 718.908,47.2441 \n",
       "  \"/>\n",
       "<polyline clip-path=\"url(#clip782)\" style=\"stroke:#000000; stroke-width:2; stroke-opacity:0.1; fill:none\" points=\"\n",
       "  1248.17,1486.45 1248.17,47.2441 \n",
       "  \"/>\n",
       "<polyline clip-path=\"url(#clip782)\" style=\"stroke:#000000; stroke-width:2; stroke-opacity:0.1; fill:none\" points=\"\n",
       "  1777.43,1486.45 1777.43,47.2441 \n",
       "  \"/>\n",
       "<polyline clip-path=\"url(#clip782)\" style=\"stroke:#000000; stroke-width:2; stroke-opacity:0.1; fill:none\" points=\"\n",
       "  2306.69,1486.45 2306.69,47.2441 \n",
       "  \"/>\n",
       "<polyline clip-path=\"url(#clip782)\" style=\"stroke:#000000; stroke-width:2; stroke-opacity:0.1; fill:none\" points=\"\n",
       "  126.645,1276 2352.76,1276 \n",
       "  \"/>\n",
       "<polyline clip-path=\"url(#clip782)\" style=\"stroke:#000000; stroke-width:2; stroke-opacity:0.1; fill:none\" points=\"\n",
       "  126.645,1021.42 2352.76,1021.42 \n",
       "  \"/>\n",
       "<polyline clip-path=\"url(#clip782)\" style=\"stroke:#000000; stroke-width:2; stroke-opacity:0.1; fill:none\" points=\"\n",
       "  126.645,766.846 2352.76,766.846 \n",
       "  \"/>\n",
       "<polyline clip-path=\"url(#clip782)\" style=\"stroke:#000000; stroke-width:2; stroke-opacity:0.1; fill:none\" points=\"\n",
       "  126.645,512.27 2352.76,512.27 \n",
       "  \"/>\n",
       "<polyline clip-path=\"url(#clip782)\" style=\"stroke:#000000; stroke-width:2; stroke-opacity:0.1; fill:none\" points=\"\n",
       "  126.645,257.694 2352.76,257.694 \n",
       "  \"/>\n",
       "<polyline clip-path=\"url(#clip780)\" style=\"stroke:#000000; stroke-width:4; stroke-opacity:1; fill:none\" points=\"\n",
       "  126.645,1486.45 2352.76,1486.45 \n",
       "  \"/>\n",
       "<polyline clip-path=\"url(#clip780)\" style=\"stroke:#000000; stroke-width:4; stroke-opacity:1; fill:none\" points=\"\n",
       "  126.645,1486.45 126.645,47.2441 \n",
       "  \"/>\n",
       "<polyline clip-path=\"url(#clip780)\" style=\"stroke:#000000; stroke-width:4; stroke-opacity:1; fill:none\" points=\"\n",
       "  189.648,1486.45 189.648,1469.18 \n",
       "  \"/>\n",
       "<polyline clip-path=\"url(#clip780)\" style=\"stroke:#000000; stroke-width:4; stroke-opacity:1; fill:none\" points=\"\n",
       "  718.908,1486.45 718.908,1469.18 \n",
       "  \"/>\n",
       "<polyline clip-path=\"url(#clip780)\" style=\"stroke:#000000; stroke-width:4; stroke-opacity:1; fill:none\" points=\"\n",
       "  1248.17,1486.45 1248.17,1469.18 \n",
       "  \"/>\n",
       "<polyline clip-path=\"url(#clip780)\" style=\"stroke:#000000; stroke-width:4; stroke-opacity:1; fill:none\" points=\"\n",
       "  1777.43,1486.45 1777.43,1469.18 \n",
       "  \"/>\n",
       "<polyline clip-path=\"url(#clip780)\" style=\"stroke:#000000; stroke-width:4; stroke-opacity:1; fill:none\" points=\"\n",
       "  2306.69,1486.45 2306.69,1469.18 \n",
       "  \"/>\n",
       "<polyline clip-path=\"url(#clip780)\" style=\"stroke:#000000; stroke-width:4; stroke-opacity:1; fill:none\" points=\"\n",
       "  126.645,1276 153.358,1276 \n",
       "  \"/>\n",
       "<polyline clip-path=\"url(#clip780)\" style=\"stroke:#000000; stroke-width:4; stroke-opacity:1; fill:none\" points=\"\n",
       "  126.645,1021.42 153.358,1021.42 \n",
       "  \"/>\n",
       "<polyline clip-path=\"url(#clip780)\" style=\"stroke:#000000; stroke-width:4; stroke-opacity:1; fill:none\" points=\"\n",
       "  126.645,766.846 153.358,766.846 \n",
       "  \"/>\n",
       "<polyline clip-path=\"url(#clip780)\" style=\"stroke:#000000; stroke-width:4; stroke-opacity:1; fill:none\" points=\"\n",
       "  126.645,512.27 153.358,512.27 \n",
       "  \"/>\n",
       "<polyline clip-path=\"url(#clip780)\" style=\"stroke:#000000; stroke-width:4; stroke-opacity:1; fill:none\" points=\"\n",
       "  126.645,257.694 153.358,257.694 \n",
       "  \"/>\n",
       "<path clip-path=\"url(#clip780)\" d=\"M 0 0 M157.657 1508.44 Q154.046 1508.44 152.217 1512 Q150.412 1515.55 150.412 1522.67 Q150.412 1529.78 152.217 1533.35 Q154.046 1536.89 157.657 1536.89 Q161.292 1536.89 163.097 1533.35 Q164.926 1529.78 164.926 1522.67 Q164.926 1515.55 163.097 1512 Q161.292 1508.44 157.657 1508.44 M157.657 1504.73 Q163.467 1504.73 166.523 1509.34 Q169.602 1513.92 169.602 1522.67 Q169.602 1531.4 166.523 1536.01 Q163.467 1540.59 157.657 1540.59 Q151.847 1540.59 148.768 1536.01 Q145.713 1531.4 145.713 1522.67 Q145.713 1513.92 148.768 1509.34 Q151.847 1504.73 157.657 1504.73 Z\" fill=\"#000000\" fill-rule=\"evenodd\" fill-opacity=\"1\" /><path clip-path=\"url(#clip780)\" d=\"M 0 0 M174.671 1534.04 L179.555 1534.04 L179.555 1539.92 L174.671 1539.92 L174.671 1534.04 Z\" fill=\"#000000\" fill-rule=\"evenodd\" fill-opacity=\"1\" /><path clip-path=\"url(#clip780)\" d=\"M 0 0 M194.625 1508.44 Q191.014 1508.44 189.185 1512 Q187.379 1515.55 187.379 1522.67 Q187.379 1529.78 189.185 1533.35 Q191.014 1536.89 194.625 1536.89 Q198.259 1536.89 200.064 1533.35 Q201.893 1529.78 201.893 1522.67 Q201.893 1515.55 200.064 1512 Q198.259 1508.44 194.625 1508.44 M194.625 1504.73 Q200.435 1504.73 203.49 1509.34 Q206.569 1513.92 206.569 1522.67 Q206.569 1531.4 203.49 1536.01 Q200.435 1540.59 194.625 1540.59 Q188.815 1540.59 185.736 1536.01 Q182.68 1531.4 182.68 1522.67 Q182.68 1513.92 185.736 1509.34 Q188.815 1504.73 194.625 1504.73 Z\" fill=\"#000000\" fill-rule=\"evenodd\" fill-opacity=\"1\" /><path clip-path=\"url(#clip780)\" d=\"M 0 0 M221.638 1508.44 Q218.027 1508.44 216.199 1512 Q214.393 1515.55 214.393 1522.67 Q214.393 1529.78 216.199 1533.35 Q218.027 1536.89 221.638 1536.89 Q225.273 1536.89 227.078 1533.35 Q228.907 1529.78 228.907 1522.67 Q228.907 1515.55 227.078 1512 Q225.273 1508.44 221.638 1508.44 M221.638 1504.73 Q227.449 1504.73 230.504 1509.34 Q233.583 1513.92 233.583 1522.67 Q233.583 1531.4 230.504 1536.01 Q227.449 1540.59 221.638 1540.59 Q215.828 1540.59 212.75 1536.01 Q209.694 1531.4 209.694 1522.67 Q209.694 1513.92 212.75 1509.34 Q215.828 1504.73 221.638 1504.73 Z\" fill=\"#000000\" fill-rule=\"evenodd\" fill-opacity=\"1\" /><path clip-path=\"url(#clip780)\" d=\"M 0 0 M688.214 1508.44 Q684.603 1508.44 682.774 1512 Q680.969 1515.55 680.969 1522.67 Q680.969 1529.78 682.774 1533.35 Q684.603 1536.89 688.214 1536.89 Q691.848 1536.89 693.654 1533.35 Q695.482 1529.78 695.482 1522.67 Q695.482 1515.55 693.654 1512 Q691.848 1508.44 688.214 1508.44 M688.214 1504.73 Q694.024 1504.73 697.08 1509.34 Q700.158 1513.92 700.158 1522.67 Q700.158 1531.4 697.08 1536.01 Q694.024 1540.59 688.214 1540.59 Q682.404 1540.59 679.325 1536.01 Q676.269 1531.4 676.269 1522.67 Q676.269 1513.92 679.325 1509.34 Q682.404 1504.73 688.214 1504.73 Z\" fill=\"#000000\" fill-rule=\"evenodd\" fill-opacity=\"1\" /><path clip-path=\"url(#clip780)\" d=\"M 0 0 M705.228 1534.04 L710.112 1534.04 L710.112 1539.92 L705.228 1539.92 L705.228 1534.04 Z\" fill=\"#000000\" fill-rule=\"evenodd\" fill-opacity=\"1\" /><path clip-path=\"url(#clip780)\" d=\"M 0 0 M719.209 1535.98 L735.528 1535.98 L735.528 1539.92 L713.584 1539.92 L713.584 1535.98 Q716.246 1533.23 720.829 1528.6 Q725.436 1523.95 726.616 1522.61 Q728.862 1520.08 729.741 1518.35 Q730.644 1516.59 730.644 1514.9 Q730.644 1512.14 728.7 1510.41 Q726.778 1508.67 723.677 1508.67 Q721.478 1508.67 719.024 1509.43 Q716.593 1510.2 713.816 1511.75 L713.816 1507.03 Q716.64 1505.89 719.093 1505.31 Q721.547 1504.73 723.584 1504.73 Q728.954 1504.73 732.149 1507.42 Q735.343 1510.11 735.343 1514.6 Q735.343 1516.73 734.533 1518.65 Q733.746 1520.54 731.64 1523.14 Q731.061 1523.81 727.959 1527.03 Q724.857 1530.22 719.209 1535.98 Z\" fill=\"#000000\" fill-rule=\"evenodd\" fill-opacity=\"1\" /><path clip-path=\"url(#clip780)\" d=\"M 0 0 M740.644 1505.36 L759.001 1505.36 L759.001 1509.3 L744.927 1509.3 L744.927 1517.77 Q745.945 1517.42 746.964 1517.26 Q747.982 1517.07 749.001 1517.07 Q754.788 1517.07 758.167 1520.24 Q761.547 1523.42 761.547 1528.83 Q761.547 1534.41 758.075 1537.51 Q754.602 1540.59 748.283 1540.59 Q746.107 1540.59 743.839 1540.22 Q741.593 1539.85 739.186 1539.11 L739.186 1534.41 Q741.269 1535.54 743.491 1536.1 Q745.714 1536.66 748.19 1536.66 Q752.195 1536.66 754.533 1534.55 Q756.871 1532.44 756.871 1528.83 Q756.871 1525.22 754.533 1523.11 Q752.195 1521.01 748.19 1521.01 Q746.315 1521.01 744.44 1521.42 Q742.589 1521.84 740.644 1522.72 L740.644 1505.36 Z\" fill=\"#000000\" fill-rule=\"evenodd\" fill-opacity=\"1\" /><path clip-path=\"url(#clip780)\" d=\"M 0 0 M1216.68 1508.44 Q1213.06 1508.44 1211.24 1512 Q1209.43 1515.55 1209.43 1522.67 Q1209.43 1529.78 1211.24 1533.35 Q1213.06 1536.89 1216.68 1536.89 Q1220.31 1536.89 1222.12 1533.35 Q1223.94 1529.78 1223.94 1522.67 Q1223.94 1515.55 1222.12 1512 Q1220.31 1508.44 1216.68 1508.44 M1216.68 1504.73 Q1222.49 1504.73 1225.54 1509.34 Q1228.62 1513.92 1228.62 1522.67 Q1228.62 1531.4 1225.54 1536.01 Q1222.49 1540.59 1216.68 1540.59 Q1210.87 1540.59 1207.79 1536.01 Q1204.73 1531.4 1204.73 1522.67 Q1204.73 1513.92 1207.79 1509.34 Q1210.87 1504.73 1216.68 1504.73 Z\" fill=\"#000000\" fill-rule=\"evenodd\" fill-opacity=\"1\" /><path clip-path=\"url(#clip780)\" d=\"M 0 0 M1233.69 1534.04 L1238.57 1534.04 L1238.57 1539.92 L1233.69 1539.92 L1233.69 1534.04 Z\" fill=\"#000000\" fill-rule=\"evenodd\" fill-opacity=\"1\" /><path clip-path=\"url(#clip780)\" d=\"M 0 0 M1243.69 1505.36 L1262.05 1505.36 L1262.05 1509.3 L1247.97 1509.3 L1247.97 1517.77 Q1248.99 1517.42 1250.01 1517.26 Q1251.03 1517.07 1252.05 1517.07 Q1257.83 1517.07 1261.21 1520.24 Q1264.59 1523.42 1264.59 1528.83 Q1264.59 1534.41 1261.12 1537.51 Q1257.65 1540.59 1251.33 1540.59 Q1249.15 1540.59 1246.88 1540.22 Q1244.64 1539.85 1242.23 1539.11 L1242.23 1534.41 Q1244.31 1535.54 1246.54 1536.1 Q1248.76 1536.66 1251.24 1536.66 Q1255.24 1536.66 1257.58 1534.55 Q1259.92 1532.44 1259.92 1528.83 Q1259.92 1525.22 1257.58 1523.11 Q1255.24 1521.01 1251.24 1521.01 Q1249.36 1521.01 1247.49 1521.42 Q1245.63 1521.84 1243.69 1522.72 L1243.69 1505.36 Z\" fill=\"#000000\" fill-rule=\"evenodd\" fill-opacity=\"1\" /><path clip-path=\"url(#clip780)\" d=\"M 0 0 M1279.66 1508.44 Q1276.05 1508.44 1274.22 1512 Q1272.42 1515.55 1272.42 1522.67 Q1272.42 1529.78 1274.22 1533.35 Q1276.05 1536.89 1279.66 1536.89 Q1283.3 1536.89 1285.1 1533.35 Q1286.93 1529.78 1286.93 1522.67 Q1286.93 1515.55 1285.1 1512 Q1283.3 1508.44 1279.66 1508.44 M1279.66 1504.73 Q1285.47 1504.73 1288.53 1509.34 Q1291.61 1513.92 1291.61 1522.67 Q1291.61 1531.4 1288.53 1536.01 Q1285.47 1540.59 1279.66 1540.59 Q1273.85 1540.59 1270.77 1536.01 Q1267.72 1531.4 1267.72 1522.67 Q1267.72 1513.92 1270.77 1509.34 Q1273.85 1504.73 1279.66 1504.73 Z\" fill=\"#000000\" fill-rule=\"evenodd\" fill-opacity=\"1\" /><path clip-path=\"url(#clip780)\" d=\"M 0 0 M1746.39 1508.44 Q1742.78 1508.44 1740.95 1512 Q1739.14 1515.55 1739.14 1522.67 Q1739.14 1529.78 1740.95 1533.35 Q1742.78 1536.89 1746.39 1536.89 Q1750.02 1536.89 1751.83 1533.35 Q1753.66 1529.78 1753.66 1522.67 Q1753.66 1515.55 1751.83 1512 Q1750.02 1508.44 1746.39 1508.44 M1746.39 1504.73 Q1752.2 1504.73 1755.25 1509.34 Q1758.33 1513.92 1758.33 1522.67 Q1758.33 1531.4 1755.25 1536.01 Q1752.2 1540.59 1746.39 1540.59 Q1740.58 1540.59 1737.5 1536.01 Q1734.44 1531.4 1734.44 1522.67 Q1734.44 1513.92 1737.5 1509.34 Q1740.58 1504.73 1746.39 1504.73 Z\" fill=\"#000000\" fill-rule=\"evenodd\" fill-opacity=\"1\" /><path clip-path=\"url(#clip780)\" d=\"M 0 0 M1763.4 1534.04 L1768.29 1534.04 L1768.29 1539.92 L1763.4 1539.92 L1763.4 1534.04 Z\" fill=\"#000000\" fill-rule=\"evenodd\" fill-opacity=\"1\" /><path clip-path=\"url(#clip780)\" d=\"M 0 0 M1772.17 1505.36 L1794.4 1505.36 L1794.4 1507.35 L1781.85 1539.92 L1776.97 1539.92 L1788.77 1509.3 L1772.17 1509.3 L1772.17 1505.36 Z\" fill=\"#000000\" fill-rule=\"evenodd\" fill-opacity=\"1\" /><path clip-path=\"url(#clip780)\" d=\"M 0 0 M1799.51 1505.36 L1817.87 1505.36 L1817.87 1509.3 L1803.79 1509.3 L1803.79 1517.77 Q1804.81 1517.42 1805.83 1517.26 Q1806.85 1517.07 1807.87 1517.07 Q1813.66 1517.07 1817.04 1520.24 Q1820.41 1523.42 1820.41 1528.83 Q1820.41 1534.41 1816.94 1537.51 Q1813.47 1540.59 1807.15 1540.59 Q1804.97 1540.59 1802.71 1540.22 Q1800.46 1539.85 1798.05 1539.11 L1798.05 1534.41 Q1800.14 1535.54 1802.36 1536.1 Q1804.58 1536.66 1807.06 1536.66 Q1811.06 1536.66 1813.4 1534.55 Q1815.74 1532.44 1815.74 1528.83 Q1815.74 1525.22 1813.4 1523.11 Q1811.06 1521.01 1807.06 1521.01 Q1805.18 1521.01 1803.31 1521.42 Q1801.46 1521.84 1799.51 1522.72 L1799.51 1505.36 Z\" fill=\"#000000\" fill-rule=\"evenodd\" fill-opacity=\"1\" /><path clip-path=\"url(#clip780)\" d=\"M 0 0 M2265.08 1535.98 L2272.72 1535.98 L2272.72 1509.62 L2264.41 1511.29 L2264.41 1507.03 L2272.67 1505.36 L2277.35 1505.36 L2277.35 1535.98 L2284.99 1535.98 L2284.99 1539.92 L2265.08 1539.92 L2265.08 1535.98 Z\" fill=\"#000000\" fill-rule=\"evenodd\" fill-opacity=\"1\" /><path clip-path=\"url(#clip780)\" d=\"M 0 0 M2290.06 1534.04 L2294.94 1534.04 L2294.94 1539.92 L2290.06 1539.92 L2290.06 1534.04 Z\" fill=\"#000000\" fill-rule=\"evenodd\" fill-opacity=\"1\" /><path clip-path=\"url(#clip780)\" d=\"M 0 0 M2310.01 1508.44 Q2306.4 1508.44 2304.57 1512 Q2302.77 1515.55 2302.77 1522.67 Q2302.77 1529.78 2304.57 1533.35 Q2306.4 1536.89 2310.01 1536.89 Q2313.65 1536.89 2315.45 1533.35 Q2317.28 1529.78 2317.28 1522.67 Q2317.28 1515.55 2315.45 1512 Q2313.65 1508.44 2310.01 1508.44 M2310.01 1504.73 Q2315.82 1504.73 2318.88 1509.34 Q2321.96 1513.92 2321.96 1522.67 Q2321.96 1531.4 2318.88 1536.01 Q2315.82 1540.59 2310.01 1540.59 Q2304.2 1540.59 2301.12 1536.01 Q2298.07 1531.4 2298.07 1522.67 Q2298.07 1513.92 2301.12 1509.34 Q2304.2 1504.73 2310.01 1504.73 Z\" fill=\"#000000\" fill-rule=\"evenodd\" fill-opacity=\"1\" /><path clip-path=\"url(#clip780)\" d=\"M 0 0 M2337.02 1508.44 Q2333.41 1508.44 2331.58 1512 Q2329.78 1515.55 2329.78 1522.67 Q2329.78 1529.78 2331.58 1533.35 Q2333.41 1536.89 2337.02 1536.89 Q2340.66 1536.89 2342.46 1533.35 Q2344.29 1529.78 2344.29 1522.67 Q2344.29 1515.55 2342.46 1512 Q2340.66 1508.44 2337.02 1508.44 M2337.02 1504.73 Q2342.83 1504.73 2345.89 1509.34 Q2348.97 1513.92 2348.97 1522.67 Q2348.97 1531.4 2345.89 1536.01 Q2342.83 1540.59 2337.02 1540.59 Q2331.21 1540.59 2328.14 1536.01 Q2325.08 1531.4 2325.08 1522.67 Q2325.08 1513.92 2328.14 1509.34 Q2331.21 1504.73 2337.02 1504.73 Z\" fill=\"#000000\" fill-rule=\"evenodd\" fill-opacity=\"1\" /><path clip-path=\"url(#clip780)\" d=\"M 0 0 M62.9921 1278.39 L75.4689 1278.39 L75.4689 1282.19 L62.9921 1282.19 L62.9921 1278.39 Z\" fill=\"#000000\" fill-rule=\"evenodd\" fill-opacity=\"1\" /><path clip-path=\"url(#clip780)\" d=\"M 0 0 M91.117 1274.13 Q87.9688 1274.13 86.117 1276.29 Q84.2883 1278.44 84.2883 1282.19 Q84.2883 1285.92 86.117 1288.09 Q87.9688 1290.25 91.117 1290.25 Q94.2651 1290.25 96.0938 1288.09 Q97.9456 1285.92 97.9456 1282.19 Q97.9456 1278.44 96.0938 1276.29 Q94.2651 1274.13 91.117 1274.13 M100.399 1259.48 L100.399 1263.74 Q98.6401 1262.91 96.8345 1262.47 Q95.0521 1262.03 93.2929 1262.03 Q88.6633 1262.03 86.2096 1265.15 Q83.7791 1268.28 83.4318 1274.6 Q84.7976 1272.58 86.8577 1271.52 Q88.9179 1270.43 91.3948 1270.43 Q96.6031 1270.43 99.6123 1273.6 Q102.645 1276.75 102.645 1282.19 Q102.645 1287.51 99.4966 1290.73 Q96.3484 1293.95 91.117 1293.95 Q85.1216 1293.95 81.9504 1289.37 Q78.7791 1284.76 78.7791 1276.03 Q78.7791 1267.84 82.6679 1262.98 Q86.5568 1258.09 93.1077 1258.09 Q94.867 1258.09 96.6494 1258.44 Q98.4549 1258.79 100.399 1259.48 Z\" fill=\"#000000\" fill-rule=\"evenodd\" fill-opacity=\"1\" /><path clip-path=\"url(#clip780)\" d=\"M 0 0 M63.8023 1023.82 L76.2791 1023.82 L76.2791 1027.61 L63.8023 1027.61 L63.8023 1023.82 Z\" fill=\"#000000\" fill-rule=\"evenodd\" fill-opacity=\"1\" /><path clip-path=\"url(#clip780)\" d=\"M 0 0 M95.5151 1020.07 Q98.8716 1020.79 100.747 1023.05 Q102.645 1025.32 102.645 1028.66 Q102.645 1033.77 99.1262 1036.57 Q95.6077 1039.37 89.1262 1039.37 Q86.9503 1039.37 84.6355 1038.93 Q82.3439 1038.52 79.8902 1037.66 L79.8902 1033.15 Q81.8346 1034.28 84.1494 1034.86 Q86.4642 1035.44 88.9874 1035.44 Q93.3855 1035.44 95.6771 1033.7 Q97.9919 1031.97 97.9919 1028.66 Q97.9919 1025.6 95.8392 1023.89 Q93.7096 1022.15 89.8901 1022.15 L85.8624 1022.15 L85.8624 1018.31 L90.0753 1018.31 Q93.5244 1018.31 95.3531 1016.94 Q97.1818 1015.55 97.1818 1012.96 Q97.1818 1010.3 95.2836 1008.89 Q93.4086 1007.45 89.8901 1007.45 Q87.9688 1007.45 85.7698 1007.87 Q83.5707 1008.29 80.9318 1009.17 L80.9318 1005 Q83.5939 1004.26 85.9087 1003.89 Q88.2466 1003.52 90.3068 1003.52 Q95.6308 1003.52 98.7327 1005.95 Q101.835 1008.36 101.835 1012.48 Q101.835 1015.35 100.191 1017.34 Q98.5475 1019.3 95.5151 1020.07 Z\" fill=\"#000000\" fill-rule=\"evenodd\" fill-opacity=\"1\" /><path clip-path=\"url(#clip780)\" d=\"M 0 0 M90.7003 752.645 Q87.0892 752.645 85.2605 756.209 Q83.455 759.751 83.455 766.881 Q83.455 773.987 85.2605 777.552 Q87.0892 781.094 90.7003 781.094 Q94.3346 781.094 96.1401 777.552 Q97.9688 773.987 97.9688 766.881 Q97.9688 759.751 96.1401 756.209 Q94.3346 752.645 90.7003 752.645 M90.7003 748.941 Q96.5105 748.941 99.566 753.547 Q102.645 758.131 102.645 766.881 Q102.645 775.608 99.566 780.214 Q96.5105 784.797 90.7003 784.797 Q84.8902 784.797 81.8115 780.214 Q78.7559 775.608 78.7559 766.881 Q78.7559 758.131 81.8115 753.547 Q84.8902 748.941 90.7003 748.941 Z\" fill=\"#000000\" fill-rule=\"evenodd\" fill-opacity=\"1\" /><path clip-path=\"url(#clip780)\" d=\"M 0 0 M95.5151 510.916 Q98.8716 511.633 100.747 513.902 Q102.645 516.17 102.645 519.504 Q102.645 524.619 99.1262 527.42 Q95.6077 530.221 89.1262 530.221 Q86.9503 530.221 84.6355 529.781 Q82.3439 529.365 79.8902 528.508 L79.8902 523.994 Q81.8346 525.129 84.1494 525.707 Q86.4642 526.286 88.9874 526.286 Q93.3855 526.286 95.6771 524.55 Q97.9919 522.814 97.9919 519.504 Q97.9919 516.448 95.8392 514.735 Q93.7096 512.999 89.8901 512.999 L85.8624 512.999 L85.8624 509.156 L90.0753 509.156 Q93.5244 509.156 95.3531 507.791 Q97.1818 506.402 97.1818 503.809 Q97.1818 501.147 95.2836 499.735 Q93.4086 498.3 89.8901 498.3 Q87.9688 498.3 85.7698 498.717 Q83.5707 499.133 80.9318 500.013 L80.9318 495.846 Q83.5939 495.106 85.9087 494.735 Q88.2466 494.365 90.3068 494.365 Q95.6308 494.365 98.7327 496.795 Q101.835 499.203 101.835 503.323 Q101.835 506.193 100.191 508.184 Q98.5475 510.152 95.5151 510.916 Z\" fill=\"#000000\" fill-rule=\"evenodd\" fill-opacity=\"1\" /><path clip-path=\"url(#clip780)\" d=\"M 0 0 M91.117 255.83 Q87.9688 255.83 86.117 257.983 Q84.2883 260.136 84.2883 263.886 Q84.2883 267.613 86.117 269.789 Q87.9688 271.941 91.117 271.941 Q94.2651 271.941 96.0938 269.789 Q97.9456 267.613 97.9456 263.886 Q97.9456 260.136 96.0938 257.983 Q94.2651 255.83 91.117 255.83 M100.399 241.178 L100.399 245.437 Q98.6401 244.603 96.8345 244.164 Q95.0521 243.724 93.2929 243.724 Q88.6633 243.724 86.2096 246.849 Q83.7791 249.974 83.4318 256.293 Q84.7976 254.279 86.8577 253.215 Q88.9179 252.127 91.3948 252.127 Q96.6031 252.127 99.6123 255.298 Q102.645 258.446 102.645 263.886 Q102.645 269.21 99.4966 272.427 Q96.3484 275.645 91.117 275.645 Q85.1216 275.645 81.9504 271.062 Q78.7791 266.455 78.7791 257.728 Q78.7791 249.534 82.6679 244.673 Q86.5568 239.789 93.1077 239.789 Q94.867 239.789 96.6494 240.136 Q98.4549 240.483 100.399 241.178 Z\" fill=\"#000000\" fill-rule=\"evenodd\" fill-opacity=\"1\" /><polyline clip-path=\"url(#clip782)\" style=\"stroke:#009af9; stroke-width:4; stroke-opacity:1; fill:none\" points=\"\n",
       "  1989.13,1445.72 2157.44,1437.23 206.584,1428.74 370.655,1420.26 532.609,1411.77 692.445,1403.29 850.165,1394.8 1005.77,1386.31 1159.25,1377.83 1310.62,1369.34 \n",
       "  1459.87,1360.86 1607.01,1352.37 1752.02,1343.89 1894.92,1335.4 2035.71,1326.91 2174.37,1318.43 193.882,1309.94 328.314,1301.46 460.629,1292.97 590.827,1284.48 \n",
       "  718.908,1276 844.872,1267.51 968.719,1259.03 1090.45,1250.54 1210.06,1242.05 1327.56,1233.57 1442.94,1225.08 1556.2,1216.6 1667.34,1208.11 1776.37,1199.63 \n",
       "  1883.28,1191.14 1988.07,1182.65 2090.75,1174.17 2191.31,1165.68 2289.75,1157.2 269.037,1148.71 363.245,1140.22 455.337,1131.74 545.311,1123.25 633.168,1114.77 \n",
       "  718.908,1106.28 802.531,1097.79 884.037,1089.31 963.426,1080.82 1040.7,1072.34 1115.85,1063.85 1188.89,1055.37 1259.81,1046.88 1328.62,1038.39 1395.3,1029.91 \n",
       "  1459.87,1021.42 1522.33,1012.94 1582.66,1004.45 1640.88,995.965 1696.98,987.479 1750.97,978.993 1802.83,970.507 1852.58,962.021 1900.22,953.535 1945.73,945.049 \n",
       "  1989.13,936.563 2030.42,928.078 2069.58,919.592 2106.63,911.106 2141.56,902.62 2174.37,894.134 2205.07,885.648 2233.65,877.162 2260.11,868.676 2284.46,860.191 \n",
       "  189.648,851.705 209.76,843.219 227.755,834.733 243.632,826.247 257.393,817.761 269.037,809.275 278.564,800.789 285.973,792.304 291.266,783.818 294.441,775.332 \n",
       "  295.5,766.846 294.441,758.36 291.266,749.874 285.973,741.388 278.564,732.902 269.037,724.417 257.393,715.931 243.632,707.445 227.755,698.959 209.76,690.473 \n",
       "  189.648,681.987 2284.46,673.501 2260.11,665.016 2233.65,656.53 2205.07,648.044 2174.37,639.558 2141.56,631.072 2106.63,622.586 2069.58,614.1 2030.42,605.614 \n",
       "  1989.13,597.129 1945.73,588.643 1900.22,580.157 1852.58,571.671 1802.83,563.185 1750.97,554.699 1696.98,546.213 1640.88,537.727 1582.66,529.242 1522.33,520.756 \n",
       "  1459.87,512.27 1395.3,503.784 1328.62,495.298 1259.81,486.812 1188.89,478.326 1115.85,469.84 1040.7,461.355 963.426,452.869 884.037,444.383 802.531,435.897 \n",
       "  718.908,427.411 633.168,418.925 545.311,410.439 455.337,401.954 363.245,393.468 269.037,384.982 2289.75,376.496 2191.31,368.01 2090.75,359.524 1988.07,351.038 \n",
       "  1883.28,342.552 1776.37,334.067 1667.34,325.581 1556.2,317.095 1442.94,308.609 1327.56,300.123 1210.06,291.637 1090.45,283.151 968.719,274.665 844.872,266.18 \n",
       "  718.908,257.694 590.827,249.208 460.629,240.722 328.314,232.236 193.882,223.75 2174.37,215.264 2035.71,206.778 1894.92,198.293 1752.02,189.807 1607.01,181.321 \n",
       "  1459.87,172.835 1310.62,164.349 1159.25,155.863 1005.77,147.377 850.165,138.892 692.445,130.406 532.609,121.92 370.655,113.434 206.584,104.948 2157.44,96.4621 \n",
       "  1989.13,87.9763 \n",
       "  \"/>\n",
       "<polyline clip-path=\"url(#clip782)\" style=\"stroke:#e26f46; stroke-width:4; stroke-opacity:1; fill:none\" points=\"\n",
       "  189.648,1445.72 189.648,1437.23 189.648,1428.74 189.648,1420.26 189.648,1411.77 189.648,1403.29 189.648,1394.8 189.648,1386.31 189.648,1377.83 189.648,1369.34 \n",
       "  189.648,1360.86 189.648,1352.37 189.648,1343.89 189.648,1335.4 189.648,1326.91 189.648,1318.43 189.648,1309.94 189.648,1301.46 189.648,1292.97 189.648,1284.48 \n",
       "  189.648,1276 189.648,1267.51 189.648,1259.03 189.648,1250.54 189.648,1242.05 189.648,1233.57 189.648,1225.08 189.648,1216.6 189.648,1208.11 189.648,1199.63 \n",
       "  189.648,1191.14 189.648,1182.65 189.648,1174.17 189.648,1165.68 189.648,1157.2 189.648,1148.71 189.648,1140.22 189.648,1131.74 189.648,1123.25 189.648,1114.77 \n",
       "  189.648,1106.28 189.648,1097.79 189.648,1089.31 189.648,1080.82 189.648,1072.34 189.648,1063.85 189.648,1055.37 189.648,1046.88 189.648,1038.39 189.648,1029.91 \n",
       "  189.648,1021.42 189.648,1012.94 189.648,1004.45 189.648,995.965 189.648,987.479 189.648,978.993 189.648,970.507 189.648,962.021 189.648,953.535 189.648,945.049 \n",
       "  189.648,936.563 189.648,928.078 189.648,919.592 189.648,911.106 189.648,902.62 189.648,894.134 189.648,885.648 189.648,877.162 189.648,868.676 189.648,860.191 \n",
       "  189.648,851.705 189.648,843.219 189.648,834.733 189.648,826.247 189.648,817.761 189.648,809.275 189.648,800.789 189.648,792.304 189.648,783.818 189.648,775.332 \n",
       "  189.648,766.846 189.648,758.36 189.648,749.874 189.648,741.388 189.648,732.902 189.648,724.417 189.648,715.931 189.648,707.445 189.648,698.959 189.648,690.473 \n",
       "  189.648,681.987 189.648,673.501 189.648,665.016 189.648,656.53 189.648,648.044 189.648,639.558 189.648,631.072 189.648,622.586 189.648,614.1 189.648,605.614 \n",
       "  189.648,597.129 189.648,588.643 189.648,580.157 189.648,571.671 189.648,563.185 189.648,554.699 189.648,546.213 189.648,537.727 189.648,529.242 189.648,520.756 \n",
       "  189.648,512.27 189.648,503.784 189.648,495.298 189.648,486.812 189.648,478.326 189.648,469.84 189.648,461.355 189.648,452.869 189.648,444.383 189.648,435.897 \n",
       "  189.648,427.411 189.648,418.925 189.648,410.439 189.648,401.954 189.648,393.468 189.648,384.982 189.648,376.496 189.648,368.01 189.648,359.524 189.648,351.038 \n",
       "  189.648,342.552 189.648,334.067 189.648,325.581 189.648,317.095 189.648,308.609 189.648,300.123 189.648,291.637 189.648,283.151 189.648,274.665 189.648,266.18 \n",
       "  189.648,257.694 189.648,249.208 189.648,240.722 189.648,232.236 189.648,223.75 189.648,215.264 189.648,206.778 189.648,198.293 189.648,189.807 189.648,181.321 \n",
       "  189.648,172.835 189.648,164.349 189.648,155.863 189.648,147.377 189.648,138.892 189.648,130.406 189.648,121.92 189.648,113.434 189.648,104.948 189.648,96.4621 \n",
       "  189.648,87.9763 \n",
       "  \"/>\n",
       "<circle clip-path=\"url(#clip782)\" cx=\"1569.02\" cy=\"1006.4\" r=\"14\" fill=\"#3da44d\" fill-rule=\"evenodd\" fill-opacity=\"1\" stroke=\"#000000\" stroke-opacity=\"1\" stroke-width=\"3.2\"/>\n",
       "<circle clip-path=\"url(#clip782)\" cx=\"1636.52\" cy=\"537.081\" r=\"14\" fill=\"#3da44d\" fill-rule=\"evenodd\" fill-opacity=\"1\" stroke=\"#000000\" stroke-opacity=\"1\" stroke-width=\"3.2\"/>\n",
       "<circle clip-path=\"url(#clip782)\" cx=\"295.097\" cy=\"761.613\" r=\"14\" fill=\"#c271d2\" fill-rule=\"evenodd\" fill-opacity=\"1\" stroke=\"#000000\" stroke-opacity=\"1\" stroke-width=\"3.2\"/>\n",
       "<circle clip-path=\"url(#clip782)\" cx=\"189.648\" cy=\"1048.29\" r=\"14\" fill=\"#ac8d18\" fill-rule=\"evenodd\" fill-opacity=\"1\" stroke=\"#000000\" stroke-opacity=\"1\" stroke-width=\"3.2\"/>\n",
       "<circle clip-path=\"url(#clip782)\" cx=\"189.648\" cy=\"485.401\" r=\"14\" fill=\"#ac8d18\" fill-rule=\"evenodd\" fill-opacity=\"1\" stroke=\"#000000\" stroke-opacity=\"1\" stroke-width=\"3.2\"/>\n",
       "<circle clip-path=\"url(#clip782)\" cx=\"189.648\" cy=\"766.846\" r=\"14\" fill=\"#00a9ad\" fill-rule=\"evenodd\" fill-opacity=\"1\" stroke=\"#000000\" stroke-opacity=\"1\" stroke-width=\"3.2\"/>\n",
       "<circle clip-path=\"url(#clip782)\" cx=\"294.598\" cy=\"759.013\" r=\"14\" fill=\"#800080\" fill-rule=\"evenodd\" fill-opacity=\"1\" stroke=\"#000000\" stroke-opacity=\"1\" stroke-width=\"3.2\"/>\n",
       "<circle clip-path=\"url(#clip782)\" cx=\"1292.48\" cy=\"1236.12\" r=\"14\" fill=\"#00a98d\" fill-rule=\"evenodd\" fill-opacity=\"1\" stroke=\"#000000\" stroke-opacity=\"1\" stroke-width=\"3.2\"/>\n",
       "<circle clip-path=\"url(#clip782)\" cx=\"1318.93\" cy=\"299.495\" r=\"14\" fill=\"#00a98d\" fill-rule=\"evenodd\" fill-opacity=\"1\" stroke=\"#000000\" stroke-opacity=\"1\" stroke-width=\"3.2\"/>\n",
       "<circle clip-path=\"url(#clip782)\" cx=\"293.905\" cy=\"756.429\" r=\"14\" fill=\"#8e971d\" fill-rule=\"evenodd\" fill-opacity=\"1\" stroke=\"#000000\" stroke-opacity=\"1\" stroke-width=\"3.2\"/>\n",
       "<circle clip-path=\"url(#clip782)\" cx=\"189.648\" cy=\"1421.15\" r=\"14\" fill=\"#00a8cb\" fill-rule=\"evenodd\" fill-opacity=\"1\" stroke=\"#000000\" stroke-opacity=\"1\" stroke-width=\"3.2\"/>\n",
       "<circle clip-path=\"url(#clip782)\" cx=\"189.648\" cy=\"112.542\" r=\"14\" fill=\"#00a8cb\" fill-rule=\"evenodd\" fill-opacity=\"1\" stroke=\"#000000\" stroke-opacity=\"1\" stroke-width=\"3.2\"/>\n",
       "<circle clip-path=\"url(#clip782)\" cx=\"189.648\" cy=\"766.846\" r=\"14\" fill=\"#9b7fe8\" fill-rule=\"evenodd\" fill-opacity=\"1\" stroke=\"#000000\" stroke-opacity=\"1\" stroke-width=\"3.2\"/>\n",
       "<circle clip-path=\"url(#clip782)\" cx=\"602.819\" cy=\"1283.7\" r=\"14\" fill=\"#608cf6\" fill-rule=\"evenodd\" fill-opacity=\"1\" stroke=\"#000000\" stroke-opacity=\"1\" stroke-width=\"3.2\"/>\n",
       "<circle clip-path=\"url(#clip782)\" cx=\"458.913\" cy=\"240.611\" r=\"14\" fill=\"#608cf6\" fill-rule=\"evenodd\" fill-opacity=\"1\" stroke=\"#000000\" stroke-opacity=\"1\" stroke-width=\"3.2\"/>\n",
       "<circle clip-path=\"url(#clip782)\" cx=\"293.023\" cy=\"753.866\" r=\"14\" fill=\"#f05f73\" fill-rule=\"evenodd\" fill-opacity=\"1\" stroke=\"#000000\" stroke-opacity=\"1\" stroke-width=\"3.2\"/>\n",
       "<circle clip-path=\"url(#clip782)\" cx=\"1601.69\" cy=\"1352.68\" r=\"14\" fill=\"#dd64b5\" fill-rule=\"evenodd\" fill-opacity=\"1\" stroke=\"#000000\" stroke-opacity=\"1\" stroke-width=\"3.2\"/>\n",
       "<circle clip-path=\"url(#clip782)\" cx=\"1782.01\" cy=\"191.577\" r=\"14\" fill=\"#dd64b5\" fill-rule=\"evenodd\" fill-opacity=\"1\" stroke=\"#000000\" stroke-opacity=\"1\" stroke-width=\"3.2\"/>\n",
       "<circle clip-path=\"url(#clip782)\" cx=\"286.068\" cy=\"741.515\" r=\"14\" fill=\"#6b9e32\" fill-rule=\"evenodd\" fill-opacity=\"1\" stroke=\"#000000\" stroke-opacity=\"1\" stroke-width=\"3.2\"/>\n",
       "</svg>\n"
      ]
     },
     "execution_count": 42,
     "metadata": {},
     "output_type": "execute_result"
    }
   ],
   "source": [
    "plot(listaX, listaY, label = \"\")\n",
    "plot!(listaXB, listaYB, label = \"\")\n",
    "scatter!([cerosXAa,cerosXAb],[cerosYAa, cerosYAb], label = \"\")\n",
    "scatter!([cerosXBa,cerosXBb],[cerosYBa, cerosYBb], label = \"\")\n",
    "scatter!([ceros3XAa,ceros3XAb],[ceros3YAa, ceros3YAb], label = \"\", color  = \"purple\")\n",
    "scatter!([ceros4XAa,ceros4XAb],[ceros4YAa, ceros4YAb], label = \"\")\n",
    "scatter!([ceros4XBa,ceros4XBb],[ceros4YBa, ceros4YBb], label = \"\")\n",
    "scatter!([ceros5XAa,ceros5XAb],[ceros5YAa, ceros5YAb], label = \"\")\n",
    "scatter!([ceros10XAa,ceros10XAb],[ceros10YAa, ceros10YAb], label = \"\")"
   ]
  },
  {
   "cell_type": "markdown",
   "metadata": {},
   "source": [
    "### ⭐ Periodo 15"
   ]
  },
  {
   "cell_type": "code",
   "execution_count": 43,
   "metadata": {},
   "outputs": [
    {
     "data": {
      "text/plain": [
       "1-element Array{Float64,1}:\n",
       " 0.4822916298235296"
      ]
     },
     "execution_count": 43,
     "metadata": {},
     "output_type": "execute_result"
    }
   ],
   "source": [
    "MapeoA15X(y) = MapeoA5X(MapeoA5X(MapeoA5X(y)))\n",
    "MapeoA15Y(y) = MapeoA5X(MapeoA5Y(MapeoA5Y(y)))\n",
    "ceros15YAa = find_zeros(MapeoA15X,-6.0,6.0)\n",
    "ceros15YAb = find_zeros(MapeoA15Y,-6.0,6.0)\n",
    "ceros15XAa = [x_puntoF(ceros15YAa[i],a) for i in 1:length(ceros15YAa)]\n",
    "ceros15XAb = [x_puntoF(ceros15YAb[i],a) for i in 1:length(ceros15YAb)]"
   ]
  },
  {
   "cell_type": "code",
   "execution_count": 44,
   "metadata": {},
   "outputs": [
    {
     "data": {
      "image/svg+xml": [
       "<?xml version=\"1.0\" encoding=\"utf-8\"?>\n",
       "<svg xmlns=\"http://www.w3.org/2000/svg\" xmlns:xlink=\"http://www.w3.org/1999/xlink\" width=\"600\" height=\"400\" viewBox=\"0 0 2400 1600\">\n",
       "<defs>\n",
       "  <clipPath id=\"clip820\">\n",
       "    <rect x=\"0\" y=\"0\" width=\"2400\" height=\"1600\"/>\n",
       "  </clipPath>\n",
       "</defs>\n",
       "<path clip-path=\"url(#clip820)\" d=\"\n",
       "M0 1600 L2400 1600 L2400 0 L0 0  Z\n",
       "  \" fill=\"#ffffff\" fill-rule=\"evenodd\" fill-opacity=\"1\"/>\n",
       "<defs>\n",
       "  <clipPath id=\"clip821\">\n",
       "    <rect x=\"480\" y=\"0\" width=\"1681\" height=\"1600\"/>\n",
       "  </clipPath>\n",
       "</defs>\n",
       "<path clip-path=\"url(#clip820)\" d=\"\n",
       "M126.645 1486.45 L2352.76 1486.45 L2352.76 47.2441 L126.645 47.2441  Z\n",
       "  \" fill=\"#ffffff\" fill-rule=\"evenodd\" fill-opacity=\"1\"/>\n",
       "<defs>\n",
       "  <clipPath id=\"clip822\">\n",
       "    <rect x=\"126\" y=\"47\" width=\"2227\" height=\"1440\"/>\n",
       "  </clipPath>\n",
       "</defs>\n",
       "<polyline clip-path=\"url(#clip822)\" style=\"stroke:#000000; stroke-width:2; stroke-opacity:0.1; fill:none\" points=\"\n",
       "  189.648,1486.45 189.648,47.2441 \n",
       "  \"/>\n",
       "<polyline clip-path=\"url(#clip822)\" style=\"stroke:#000000; stroke-width:2; stroke-opacity:0.1; fill:none\" points=\"\n",
       "  718.908,1486.45 718.908,47.2441 \n",
       "  \"/>\n",
       "<polyline clip-path=\"url(#clip822)\" style=\"stroke:#000000; stroke-width:2; stroke-opacity:0.1; fill:none\" points=\"\n",
       "  1248.17,1486.45 1248.17,47.2441 \n",
       "  \"/>\n",
       "<polyline clip-path=\"url(#clip822)\" style=\"stroke:#000000; stroke-width:2; stroke-opacity:0.1; fill:none\" points=\"\n",
       "  1777.43,1486.45 1777.43,47.2441 \n",
       "  \"/>\n",
       "<polyline clip-path=\"url(#clip822)\" style=\"stroke:#000000; stroke-width:2; stroke-opacity:0.1; fill:none\" points=\"\n",
       "  2306.69,1486.45 2306.69,47.2441 \n",
       "  \"/>\n",
       "<polyline clip-path=\"url(#clip822)\" style=\"stroke:#000000; stroke-width:2; stroke-opacity:0.1; fill:none\" points=\"\n",
       "  126.645,1276 2352.76,1276 \n",
       "  \"/>\n",
       "<polyline clip-path=\"url(#clip822)\" style=\"stroke:#000000; stroke-width:2; stroke-opacity:0.1; fill:none\" points=\"\n",
       "  126.645,1021.42 2352.76,1021.42 \n",
       "  \"/>\n",
       "<polyline clip-path=\"url(#clip822)\" style=\"stroke:#000000; stroke-width:2; stroke-opacity:0.1; fill:none\" points=\"\n",
       "  126.645,766.846 2352.76,766.846 \n",
       "  \"/>\n",
       "<polyline clip-path=\"url(#clip822)\" style=\"stroke:#000000; stroke-width:2; stroke-opacity:0.1; fill:none\" points=\"\n",
       "  126.645,512.27 2352.76,512.27 \n",
       "  \"/>\n",
       "<polyline clip-path=\"url(#clip822)\" style=\"stroke:#000000; stroke-width:2; stroke-opacity:0.1; fill:none\" points=\"\n",
       "  126.645,257.694 2352.76,257.694 \n",
       "  \"/>\n",
       "<polyline clip-path=\"url(#clip820)\" style=\"stroke:#000000; stroke-width:4; stroke-opacity:1; fill:none\" points=\"\n",
       "  126.645,1486.45 2352.76,1486.45 \n",
       "  \"/>\n",
       "<polyline clip-path=\"url(#clip820)\" style=\"stroke:#000000; stroke-width:4; stroke-opacity:1; fill:none\" points=\"\n",
       "  126.645,1486.45 126.645,47.2441 \n",
       "  \"/>\n",
       "<polyline clip-path=\"url(#clip820)\" style=\"stroke:#000000; stroke-width:4; stroke-opacity:1; fill:none\" points=\"\n",
       "  189.648,1486.45 189.648,1469.18 \n",
       "  \"/>\n",
       "<polyline clip-path=\"url(#clip820)\" style=\"stroke:#000000; stroke-width:4; stroke-opacity:1; fill:none\" points=\"\n",
       "  718.908,1486.45 718.908,1469.18 \n",
       "  \"/>\n",
       "<polyline clip-path=\"url(#clip820)\" style=\"stroke:#000000; stroke-width:4; stroke-opacity:1; fill:none\" points=\"\n",
       "  1248.17,1486.45 1248.17,1469.18 \n",
       "  \"/>\n",
       "<polyline clip-path=\"url(#clip820)\" style=\"stroke:#000000; stroke-width:4; stroke-opacity:1; fill:none\" points=\"\n",
       "  1777.43,1486.45 1777.43,1469.18 \n",
       "  \"/>\n",
       "<polyline clip-path=\"url(#clip820)\" style=\"stroke:#000000; stroke-width:4; stroke-opacity:1; fill:none\" points=\"\n",
       "  2306.69,1486.45 2306.69,1469.18 \n",
       "  \"/>\n",
       "<polyline clip-path=\"url(#clip820)\" style=\"stroke:#000000; stroke-width:4; stroke-opacity:1; fill:none\" points=\"\n",
       "  126.645,1276 153.358,1276 \n",
       "  \"/>\n",
       "<polyline clip-path=\"url(#clip820)\" style=\"stroke:#000000; stroke-width:4; stroke-opacity:1; fill:none\" points=\"\n",
       "  126.645,1021.42 153.358,1021.42 \n",
       "  \"/>\n",
       "<polyline clip-path=\"url(#clip820)\" style=\"stroke:#000000; stroke-width:4; stroke-opacity:1; fill:none\" points=\"\n",
       "  126.645,766.846 153.358,766.846 \n",
       "  \"/>\n",
       "<polyline clip-path=\"url(#clip820)\" style=\"stroke:#000000; stroke-width:4; stroke-opacity:1; fill:none\" points=\"\n",
       "  126.645,512.27 153.358,512.27 \n",
       "  \"/>\n",
       "<polyline clip-path=\"url(#clip820)\" style=\"stroke:#000000; stroke-width:4; stroke-opacity:1; fill:none\" points=\"\n",
       "  126.645,257.694 153.358,257.694 \n",
       "  \"/>\n",
       "<path clip-path=\"url(#clip820)\" d=\"M 0 0 M157.657 1508.44 Q154.046 1508.44 152.217 1512 Q150.412 1515.55 150.412 1522.67 Q150.412 1529.78 152.217 1533.35 Q154.046 1536.89 157.657 1536.89 Q161.292 1536.89 163.097 1533.35 Q164.926 1529.78 164.926 1522.67 Q164.926 1515.55 163.097 1512 Q161.292 1508.44 157.657 1508.44 M157.657 1504.73 Q163.467 1504.73 166.523 1509.34 Q169.602 1513.92 169.602 1522.67 Q169.602 1531.4 166.523 1536.01 Q163.467 1540.59 157.657 1540.59 Q151.847 1540.59 148.768 1536.01 Q145.713 1531.4 145.713 1522.67 Q145.713 1513.92 148.768 1509.34 Q151.847 1504.73 157.657 1504.73 Z\" fill=\"#000000\" fill-rule=\"evenodd\" fill-opacity=\"1\" /><path clip-path=\"url(#clip820)\" d=\"M 0 0 M174.671 1534.04 L179.555 1534.04 L179.555 1539.92 L174.671 1539.92 L174.671 1534.04 Z\" fill=\"#000000\" fill-rule=\"evenodd\" fill-opacity=\"1\" /><path clip-path=\"url(#clip820)\" d=\"M 0 0 M194.625 1508.44 Q191.014 1508.44 189.185 1512 Q187.379 1515.55 187.379 1522.67 Q187.379 1529.78 189.185 1533.35 Q191.014 1536.89 194.625 1536.89 Q198.259 1536.89 200.064 1533.35 Q201.893 1529.78 201.893 1522.67 Q201.893 1515.55 200.064 1512 Q198.259 1508.44 194.625 1508.44 M194.625 1504.73 Q200.435 1504.73 203.49 1509.34 Q206.569 1513.92 206.569 1522.67 Q206.569 1531.4 203.49 1536.01 Q200.435 1540.59 194.625 1540.59 Q188.815 1540.59 185.736 1536.01 Q182.68 1531.4 182.68 1522.67 Q182.68 1513.92 185.736 1509.34 Q188.815 1504.73 194.625 1504.73 Z\" fill=\"#000000\" fill-rule=\"evenodd\" fill-opacity=\"1\" /><path clip-path=\"url(#clip820)\" d=\"M 0 0 M221.638 1508.44 Q218.027 1508.44 216.199 1512 Q214.393 1515.55 214.393 1522.67 Q214.393 1529.78 216.199 1533.35 Q218.027 1536.89 221.638 1536.89 Q225.273 1536.89 227.078 1533.35 Q228.907 1529.78 228.907 1522.67 Q228.907 1515.55 227.078 1512 Q225.273 1508.44 221.638 1508.44 M221.638 1504.73 Q227.449 1504.73 230.504 1509.34 Q233.583 1513.92 233.583 1522.67 Q233.583 1531.4 230.504 1536.01 Q227.449 1540.59 221.638 1540.59 Q215.828 1540.59 212.75 1536.01 Q209.694 1531.4 209.694 1522.67 Q209.694 1513.92 212.75 1509.34 Q215.828 1504.73 221.638 1504.73 Z\" fill=\"#000000\" fill-rule=\"evenodd\" fill-opacity=\"1\" /><path clip-path=\"url(#clip820)\" d=\"M 0 0 M688.214 1508.44 Q684.603 1508.44 682.774 1512 Q680.969 1515.55 680.969 1522.67 Q680.969 1529.78 682.774 1533.35 Q684.603 1536.89 688.214 1536.89 Q691.848 1536.89 693.654 1533.35 Q695.482 1529.78 695.482 1522.67 Q695.482 1515.55 693.654 1512 Q691.848 1508.44 688.214 1508.44 M688.214 1504.73 Q694.024 1504.73 697.08 1509.34 Q700.158 1513.92 700.158 1522.67 Q700.158 1531.4 697.08 1536.01 Q694.024 1540.59 688.214 1540.59 Q682.404 1540.59 679.325 1536.01 Q676.269 1531.4 676.269 1522.67 Q676.269 1513.92 679.325 1509.34 Q682.404 1504.73 688.214 1504.73 Z\" fill=\"#000000\" fill-rule=\"evenodd\" fill-opacity=\"1\" /><path clip-path=\"url(#clip820)\" d=\"M 0 0 M705.228 1534.04 L710.112 1534.04 L710.112 1539.92 L705.228 1539.92 L705.228 1534.04 Z\" fill=\"#000000\" fill-rule=\"evenodd\" fill-opacity=\"1\" /><path clip-path=\"url(#clip820)\" d=\"M 0 0 M719.209 1535.98 L735.528 1535.98 L735.528 1539.92 L713.584 1539.92 L713.584 1535.98 Q716.246 1533.23 720.829 1528.6 Q725.436 1523.95 726.616 1522.61 Q728.862 1520.08 729.741 1518.35 Q730.644 1516.59 730.644 1514.9 Q730.644 1512.14 728.7 1510.41 Q726.778 1508.67 723.677 1508.67 Q721.478 1508.67 719.024 1509.43 Q716.593 1510.2 713.816 1511.75 L713.816 1507.03 Q716.64 1505.89 719.093 1505.31 Q721.547 1504.73 723.584 1504.73 Q728.954 1504.73 732.149 1507.42 Q735.343 1510.11 735.343 1514.6 Q735.343 1516.73 734.533 1518.65 Q733.746 1520.54 731.64 1523.14 Q731.061 1523.81 727.959 1527.03 Q724.857 1530.22 719.209 1535.98 Z\" fill=\"#000000\" fill-rule=\"evenodd\" fill-opacity=\"1\" /><path clip-path=\"url(#clip820)\" d=\"M 0 0 M740.644 1505.36 L759.001 1505.36 L759.001 1509.3 L744.927 1509.3 L744.927 1517.77 Q745.945 1517.42 746.964 1517.26 Q747.982 1517.07 749.001 1517.07 Q754.788 1517.07 758.167 1520.24 Q761.547 1523.42 761.547 1528.83 Q761.547 1534.41 758.075 1537.51 Q754.602 1540.59 748.283 1540.59 Q746.107 1540.59 743.839 1540.22 Q741.593 1539.85 739.186 1539.11 L739.186 1534.41 Q741.269 1535.54 743.491 1536.1 Q745.714 1536.66 748.19 1536.66 Q752.195 1536.66 754.533 1534.55 Q756.871 1532.44 756.871 1528.83 Q756.871 1525.22 754.533 1523.11 Q752.195 1521.01 748.19 1521.01 Q746.315 1521.01 744.44 1521.42 Q742.589 1521.84 740.644 1522.72 L740.644 1505.36 Z\" fill=\"#000000\" fill-rule=\"evenodd\" fill-opacity=\"1\" /><path clip-path=\"url(#clip820)\" d=\"M 0 0 M1216.68 1508.44 Q1213.06 1508.44 1211.24 1512 Q1209.43 1515.55 1209.43 1522.67 Q1209.43 1529.78 1211.24 1533.35 Q1213.06 1536.89 1216.68 1536.89 Q1220.31 1536.89 1222.12 1533.35 Q1223.94 1529.78 1223.94 1522.67 Q1223.94 1515.55 1222.12 1512 Q1220.31 1508.44 1216.68 1508.44 M1216.68 1504.73 Q1222.49 1504.73 1225.54 1509.34 Q1228.62 1513.92 1228.62 1522.67 Q1228.62 1531.4 1225.54 1536.01 Q1222.49 1540.59 1216.68 1540.59 Q1210.87 1540.59 1207.79 1536.01 Q1204.73 1531.4 1204.73 1522.67 Q1204.73 1513.92 1207.79 1509.34 Q1210.87 1504.73 1216.68 1504.73 Z\" fill=\"#000000\" fill-rule=\"evenodd\" fill-opacity=\"1\" /><path clip-path=\"url(#clip820)\" d=\"M 0 0 M1233.69 1534.04 L1238.57 1534.04 L1238.57 1539.92 L1233.69 1539.92 L1233.69 1534.04 Z\" fill=\"#000000\" fill-rule=\"evenodd\" fill-opacity=\"1\" /><path clip-path=\"url(#clip820)\" d=\"M 0 0 M1243.69 1505.36 L1262.05 1505.36 L1262.05 1509.3 L1247.97 1509.3 L1247.97 1517.77 Q1248.99 1517.42 1250.01 1517.26 Q1251.03 1517.07 1252.05 1517.07 Q1257.83 1517.07 1261.21 1520.24 Q1264.59 1523.42 1264.59 1528.83 Q1264.59 1534.41 1261.12 1537.51 Q1257.65 1540.59 1251.33 1540.59 Q1249.15 1540.59 1246.88 1540.22 Q1244.64 1539.85 1242.23 1539.11 L1242.23 1534.41 Q1244.31 1535.54 1246.54 1536.1 Q1248.76 1536.66 1251.24 1536.66 Q1255.24 1536.66 1257.58 1534.55 Q1259.92 1532.44 1259.92 1528.83 Q1259.92 1525.22 1257.58 1523.11 Q1255.24 1521.01 1251.24 1521.01 Q1249.36 1521.01 1247.49 1521.42 Q1245.63 1521.84 1243.69 1522.72 L1243.69 1505.36 Z\" fill=\"#000000\" fill-rule=\"evenodd\" fill-opacity=\"1\" /><path clip-path=\"url(#clip820)\" d=\"M 0 0 M1279.66 1508.44 Q1276.05 1508.44 1274.22 1512 Q1272.42 1515.55 1272.42 1522.67 Q1272.42 1529.78 1274.22 1533.35 Q1276.05 1536.89 1279.66 1536.89 Q1283.3 1536.89 1285.1 1533.35 Q1286.93 1529.78 1286.93 1522.67 Q1286.93 1515.55 1285.1 1512 Q1283.3 1508.44 1279.66 1508.44 M1279.66 1504.73 Q1285.47 1504.73 1288.53 1509.34 Q1291.61 1513.92 1291.61 1522.67 Q1291.61 1531.4 1288.53 1536.01 Q1285.47 1540.59 1279.66 1540.59 Q1273.85 1540.59 1270.77 1536.01 Q1267.72 1531.4 1267.72 1522.67 Q1267.72 1513.92 1270.77 1509.34 Q1273.85 1504.73 1279.66 1504.73 Z\" fill=\"#000000\" fill-rule=\"evenodd\" fill-opacity=\"1\" /><path clip-path=\"url(#clip820)\" d=\"M 0 0 M1746.39 1508.44 Q1742.78 1508.44 1740.95 1512 Q1739.14 1515.55 1739.14 1522.67 Q1739.14 1529.78 1740.95 1533.35 Q1742.78 1536.89 1746.39 1536.89 Q1750.02 1536.89 1751.83 1533.35 Q1753.66 1529.78 1753.66 1522.67 Q1753.66 1515.55 1751.83 1512 Q1750.02 1508.44 1746.39 1508.44 M1746.39 1504.73 Q1752.2 1504.73 1755.25 1509.34 Q1758.33 1513.92 1758.33 1522.67 Q1758.33 1531.4 1755.25 1536.01 Q1752.2 1540.59 1746.39 1540.59 Q1740.58 1540.59 1737.5 1536.01 Q1734.44 1531.4 1734.44 1522.67 Q1734.44 1513.92 1737.5 1509.34 Q1740.58 1504.73 1746.39 1504.73 Z\" fill=\"#000000\" fill-rule=\"evenodd\" fill-opacity=\"1\" /><path clip-path=\"url(#clip820)\" d=\"M 0 0 M1763.4 1534.04 L1768.29 1534.04 L1768.29 1539.92 L1763.4 1539.92 L1763.4 1534.04 Z\" fill=\"#000000\" fill-rule=\"evenodd\" fill-opacity=\"1\" /><path clip-path=\"url(#clip820)\" d=\"M 0 0 M1772.17 1505.36 L1794.4 1505.36 L1794.4 1507.35 L1781.85 1539.92 L1776.97 1539.92 L1788.77 1509.3 L1772.17 1509.3 L1772.17 1505.36 Z\" fill=\"#000000\" fill-rule=\"evenodd\" fill-opacity=\"1\" /><path clip-path=\"url(#clip820)\" d=\"M 0 0 M1799.51 1505.36 L1817.87 1505.36 L1817.87 1509.3 L1803.79 1509.3 L1803.79 1517.77 Q1804.81 1517.42 1805.83 1517.26 Q1806.85 1517.07 1807.87 1517.07 Q1813.66 1517.07 1817.04 1520.24 Q1820.41 1523.42 1820.41 1528.83 Q1820.41 1534.41 1816.94 1537.51 Q1813.47 1540.59 1807.15 1540.59 Q1804.97 1540.59 1802.71 1540.22 Q1800.46 1539.85 1798.05 1539.11 L1798.05 1534.41 Q1800.14 1535.54 1802.36 1536.1 Q1804.58 1536.66 1807.06 1536.66 Q1811.06 1536.66 1813.4 1534.55 Q1815.74 1532.44 1815.74 1528.83 Q1815.74 1525.22 1813.4 1523.11 Q1811.06 1521.01 1807.06 1521.01 Q1805.18 1521.01 1803.31 1521.42 Q1801.46 1521.84 1799.51 1522.72 L1799.51 1505.36 Z\" fill=\"#000000\" fill-rule=\"evenodd\" fill-opacity=\"1\" /><path clip-path=\"url(#clip820)\" d=\"M 0 0 M2265.08 1535.98 L2272.72 1535.98 L2272.72 1509.62 L2264.41 1511.29 L2264.41 1507.03 L2272.67 1505.36 L2277.35 1505.36 L2277.35 1535.98 L2284.99 1535.98 L2284.99 1539.92 L2265.08 1539.92 L2265.08 1535.98 Z\" fill=\"#000000\" fill-rule=\"evenodd\" fill-opacity=\"1\" /><path clip-path=\"url(#clip820)\" d=\"M 0 0 M2290.06 1534.04 L2294.94 1534.04 L2294.94 1539.92 L2290.06 1539.92 L2290.06 1534.04 Z\" fill=\"#000000\" fill-rule=\"evenodd\" fill-opacity=\"1\" /><path clip-path=\"url(#clip820)\" d=\"M 0 0 M2310.01 1508.44 Q2306.4 1508.44 2304.57 1512 Q2302.77 1515.55 2302.77 1522.67 Q2302.77 1529.78 2304.57 1533.35 Q2306.4 1536.89 2310.01 1536.89 Q2313.65 1536.89 2315.45 1533.35 Q2317.28 1529.78 2317.28 1522.67 Q2317.28 1515.55 2315.45 1512 Q2313.65 1508.44 2310.01 1508.44 M2310.01 1504.73 Q2315.82 1504.73 2318.88 1509.34 Q2321.96 1513.92 2321.96 1522.67 Q2321.96 1531.4 2318.88 1536.01 Q2315.82 1540.59 2310.01 1540.59 Q2304.2 1540.59 2301.12 1536.01 Q2298.07 1531.4 2298.07 1522.67 Q2298.07 1513.92 2301.12 1509.34 Q2304.2 1504.73 2310.01 1504.73 Z\" fill=\"#000000\" fill-rule=\"evenodd\" fill-opacity=\"1\" /><path clip-path=\"url(#clip820)\" d=\"M 0 0 M2337.02 1508.44 Q2333.41 1508.44 2331.58 1512 Q2329.78 1515.55 2329.78 1522.67 Q2329.78 1529.78 2331.58 1533.35 Q2333.41 1536.89 2337.02 1536.89 Q2340.66 1536.89 2342.46 1533.35 Q2344.29 1529.78 2344.29 1522.67 Q2344.29 1515.55 2342.46 1512 Q2340.66 1508.44 2337.02 1508.44 M2337.02 1504.73 Q2342.83 1504.73 2345.89 1509.34 Q2348.97 1513.92 2348.97 1522.67 Q2348.97 1531.4 2345.89 1536.01 Q2342.83 1540.59 2337.02 1540.59 Q2331.21 1540.59 2328.14 1536.01 Q2325.08 1531.4 2325.08 1522.67 Q2325.08 1513.92 2328.14 1509.34 Q2331.21 1504.73 2337.02 1504.73 Z\" fill=\"#000000\" fill-rule=\"evenodd\" fill-opacity=\"1\" /><path clip-path=\"url(#clip820)\" d=\"M 0 0 M62.9921 1278.39 L75.4689 1278.39 L75.4689 1282.19 L62.9921 1282.19 L62.9921 1278.39 Z\" fill=\"#000000\" fill-rule=\"evenodd\" fill-opacity=\"1\" /><path clip-path=\"url(#clip820)\" d=\"M 0 0 M91.117 1274.13 Q87.9688 1274.13 86.117 1276.29 Q84.2883 1278.44 84.2883 1282.19 Q84.2883 1285.92 86.117 1288.09 Q87.9688 1290.25 91.117 1290.25 Q94.2651 1290.25 96.0938 1288.09 Q97.9456 1285.92 97.9456 1282.19 Q97.9456 1278.44 96.0938 1276.29 Q94.2651 1274.13 91.117 1274.13 M100.399 1259.48 L100.399 1263.74 Q98.6401 1262.91 96.8345 1262.47 Q95.0521 1262.03 93.2929 1262.03 Q88.6633 1262.03 86.2096 1265.15 Q83.7791 1268.28 83.4318 1274.6 Q84.7976 1272.58 86.8577 1271.52 Q88.9179 1270.43 91.3948 1270.43 Q96.6031 1270.43 99.6123 1273.6 Q102.645 1276.75 102.645 1282.19 Q102.645 1287.51 99.4966 1290.73 Q96.3484 1293.95 91.117 1293.95 Q85.1216 1293.95 81.9504 1289.37 Q78.7791 1284.76 78.7791 1276.03 Q78.7791 1267.84 82.6679 1262.98 Q86.5568 1258.09 93.1077 1258.09 Q94.867 1258.09 96.6494 1258.44 Q98.4549 1258.79 100.399 1259.48 Z\" fill=\"#000000\" fill-rule=\"evenodd\" fill-opacity=\"1\" /><path clip-path=\"url(#clip820)\" d=\"M 0 0 M63.8023 1023.82 L76.2791 1023.82 L76.2791 1027.61 L63.8023 1027.61 L63.8023 1023.82 Z\" fill=\"#000000\" fill-rule=\"evenodd\" fill-opacity=\"1\" /><path clip-path=\"url(#clip820)\" d=\"M 0 0 M95.5151 1020.07 Q98.8716 1020.79 100.747 1023.05 Q102.645 1025.32 102.645 1028.66 Q102.645 1033.77 99.1262 1036.57 Q95.6077 1039.37 89.1262 1039.37 Q86.9503 1039.37 84.6355 1038.93 Q82.3439 1038.52 79.8902 1037.66 L79.8902 1033.15 Q81.8346 1034.28 84.1494 1034.86 Q86.4642 1035.44 88.9874 1035.44 Q93.3855 1035.44 95.6771 1033.7 Q97.9919 1031.97 97.9919 1028.66 Q97.9919 1025.6 95.8392 1023.89 Q93.7096 1022.15 89.8901 1022.15 L85.8624 1022.15 L85.8624 1018.31 L90.0753 1018.31 Q93.5244 1018.31 95.3531 1016.94 Q97.1818 1015.55 97.1818 1012.96 Q97.1818 1010.3 95.2836 1008.89 Q93.4086 1007.45 89.8901 1007.45 Q87.9688 1007.45 85.7698 1007.87 Q83.5707 1008.29 80.9318 1009.17 L80.9318 1005 Q83.5939 1004.26 85.9087 1003.89 Q88.2466 1003.52 90.3068 1003.52 Q95.6308 1003.52 98.7327 1005.95 Q101.835 1008.36 101.835 1012.48 Q101.835 1015.35 100.191 1017.34 Q98.5475 1019.3 95.5151 1020.07 Z\" fill=\"#000000\" fill-rule=\"evenodd\" fill-opacity=\"1\" /><path clip-path=\"url(#clip820)\" d=\"M 0 0 M90.7003 752.645 Q87.0892 752.645 85.2605 756.209 Q83.455 759.751 83.455 766.881 Q83.455 773.987 85.2605 777.552 Q87.0892 781.094 90.7003 781.094 Q94.3346 781.094 96.1401 777.552 Q97.9688 773.987 97.9688 766.881 Q97.9688 759.751 96.1401 756.209 Q94.3346 752.645 90.7003 752.645 M90.7003 748.941 Q96.5105 748.941 99.566 753.547 Q102.645 758.131 102.645 766.881 Q102.645 775.608 99.566 780.214 Q96.5105 784.797 90.7003 784.797 Q84.8902 784.797 81.8115 780.214 Q78.7559 775.608 78.7559 766.881 Q78.7559 758.131 81.8115 753.547 Q84.8902 748.941 90.7003 748.941 Z\" fill=\"#000000\" fill-rule=\"evenodd\" fill-opacity=\"1\" /><path clip-path=\"url(#clip820)\" d=\"M 0 0 M95.5151 510.916 Q98.8716 511.633 100.747 513.902 Q102.645 516.17 102.645 519.504 Q102.645 524.619 99.1262 527.42 Q95.6077 530.221 89.1262 530.221 Q86.9503 530.221 84.6355 529.781 Q82.3439 529.365 79.8902 528.508 L79.8902 523.994 Q81.8346 525.129 84.1494 525.707 Q86.4642 526.286 88.9874 526.286 Q93.3855 526.286 95.6771 524.55 Q97.9919 522.814 97.9919 519.504 Q97.9919 516.448 95.8392 514.735 Q93.7096 512.999 89.8901 512.999 L85.8624 512.999 L85.8624 509.156 L90.0753 509.156 Q93.5244 509.156 95.3531 507.791 Q97.1818 506.402 97.1818 503.809 Q97.1818 501.147 95.2836 499.735 Q93.4086 498.3 89.8901 498.3 Q87.9688 498.3 85.7698 498.717 Q83.5707 499.133 80.9318 500.013 L80.9318 495.846 Q83.5939 495.106 85.9087 494.735 Q88.2466 494.365 90.3068 494.365 Q95.6308 494.365 98.7327 496.795 Q101.835 499.203 101.835 503.323 Q101.835 506.193 100.191 508.184 Q98.5475 510.152 95.5151 510.916 Z\" fill=\"#000000\" fill-rule=\"evenodd\" fill-opacity=\"1\" /><path clip-path=\"url(#clip820)\" d=\"M 0 0 M91.117 255.83 Q87.9688 255.83 86.117 257.983 Q84.2883 260.136 84.2883 263.886 Q84.2883 267.613 86.117 269.789 Q87.9688 271.941 91.117 271.941 Q94.2651 271.941 96.0938 269.789 Q97.9456 267.613 97.9456 263.886 Q97.9456 260.136 96.0938 257.983 Q94.2651 255.83 91.117 255.83 M100.399 241.178 L100.399 245.437 Q98.6401 244.603 96.8345 244.164 Q95.0521 243.724 93.2929 243.724 Q88.6633 243.724 86.2096 246.849 Q83.7791 249.974 83.4318 256.293 Q84.7976 254.279 86.8577 253.215 Q88.9179 252.127 91.3948 252.127 Q96.6031 252.127 99.6123 255.298 Q102.645 258.446 102.645 263.886 Q102.645 269.21 99.4966 272.427 Q96.3484 275.645 91.117 275.645 Q85.1216 275.645 81.9504 271.062 Q78.7791 266.455 78.7791 257.728 Q78.7791 249.534 82.6679 244.673 Q86.5568 239.789 93.1077 239.789 Q94.867 239.789 96.6494 240.136 Q98.4549 240.483 100.399 241.178 Z\" fill=\"#000000\" fill-rule=\"evenodd\" fill-opacity=\"1\" /><polyline clip-path=\"url(#clip822)\" style=\"stroke:#009af9; stroke-width:4; stroke-opacity:1; fill:none\" points=\"\n",
       "  1989.13,1445.72 2157.44,1437.23 206.584,1428.74 370.655,1420.26 532.609,1411.77 692.445,1403.29 850.165,1394.8 1005.77,1386.31 1159.25,1377.83 1310.62,1369.34 \n",
       "  1459.87,1360.86 1607.01,1352.37 1752.02,1343.89 1894.92,1335.4 2035.71,1326.91 2174.37,1318.43 193.882,1309.94 328.314,1301.46 460.629,1292.97 590.827,1284.48 \n",
       "  718.908,1276 844.872,1267.51 968.719,1259.03 1090.45,1250.54 1210.06,1242.05 1327.56,1233.57 1442.94,1225.08 1556.2,1216.6 1667.34,1208.11 1776.37,1199.63 \n",
       "  1883.28,1191.14 1988.07,1182.65 2090.75,1174.17 2191.31,1165.68 2289.75,1157.2 269.037,1148.71 363.245,1140.22 455.337,1131.74 545.311,1123.25 633.168,1114.77 \n",
       "  718.908,1106.28 802.531,1097.79 884.037,1089.31 963.426,1080.82 1040.7,1072.34 1115.85,1063.85 1188.89,1055.37 1259.81,1046.88 1328.62,1038.39 1395.3,1029.91 \n",
       "  1459.87,1021.42 1522.33,1012.94 1582.66,1004.45 1640.88,995.965 1696.98,987.479 1750.97,978.993 1802.83,970.507 1852.58,962.021 1900.22,953.535 1945.73,945.049 \n",
       "  1989.13,936.563 2030.42,928.078 2069.58,919.592 2106.63,911.106 2141.56,902.62 2174.37,894.134 2205.07,885.648 2233.65,877.162 2260.11,868.676 2284.46,860.191 \n",
       "  189.648,851.705 209.76,843.219 227.755,834.733 243.632,826.247 257.393,817.761 269.037,809.275 278.564,800.789 285.973,792.304 291.266,783.818 294.441,775.332 \n",
       "  295.5,766.846 294.441,758.36 291.266,749.874 285.973,741.388 278.564,732.902 269.037,724.417 257.393,715.931 243.632,707.445 227.755,698.959 209.76,690.473 \n",
       "  189.648,681.987 2284.46,673.501 2260.11,665.016 2233.65,656.53 2205.07,648.044 2174.37,639.558 2141.56,631.072 2106.63,622.586 2069.58,614.1 2030.42,605.614 \n",
       "  1989.13,597.129 1945.73,588.643 1900.22,580.157 1852.58,571.671 1802.83,563.185 1750.97,554.699 1696.98,546.213 1640.88,537.727 1582.66,529.242 1522.33,520.756 \n",
       "  1459.87,512.27 1395.3,503.784 1328.62,495.298 1259.81,486.812 1188.89,478.326 1115.85,469.84 1040.7,461.355 963.426,452.869 884.037,444.383 802.531,435.897 \n",
       "  718.908,427.411 633.168,418.925 545.311,410.439 455.337,401.954 363.245,393.468 269.037,384.982 2289.75,376.496 2191.31,368.01 2090.75,359.524 1988.07,351.038 \n",
       "  1883.28,342.552 1776.37,334.067 1667.34,325.581 1556.2,317.095 1442.94,308.609 1327.56,300.123 1210.06,291.637 1090.45,283.151 968.719,274.665 844.872,266.18 \n",
       "  718.908,257.694 590.827,249.208 460.629,240.722 328.314,232.236 193.882,223.75 2174.37,215.264 2035.71,206.778 1894.92,198.293 1752.02,189.807 1607.01,181.321 \n",
       "  1459.87,172.835 1310.62,164.349 1159.25,155.863 1005.77,147.377 850.165,138.892 692.445,130.406 532.609,121.92 370.655,113.434 206.584,104.948 2157.44,96.4621 \n",
       "  1989.13,87.9763 \n",
       "  \"/>\n",
       "<polyline clip-path=\"url(#clip822)\" style=\"stroke:#e26f46; stroke-width:4; stroke-opacity:1; fill:none\" points=\"\n",
       "  189.648,1445.72 189.648,1437.23 189.648,1428.74 189.648,1420.26 189.648,1411.77 189.648,1403.29 189.648,1394.8 189.648,1386.31 189.648,1377.83 189.648,1369.34 \n",
       "  189.648,1360.86 189.648,1352.37 189.648,1343.89 189.648,1335.4 189.648,1326.91 189.648,1318.43 189.648,1309.94 189.648,1301.46 189.648,1292.97 189.648,1284.48 \n",
       "  189.648,1276 189.648,1267.51 189.648,1259.03 189.648,1250.54 189.648,1242.05 189.648,1233.57 189.648,1225.08 189.648,1216.6 189.648,1208.11 189.648,1199.63 \n",
       "  189.648,1191.14 189.648,1182.65 189.648,1174.17 189.648,1165.68 189.648,1157.2 189.648,1148.71 189.648,1140.22 189.648,1131.74 189.648,1123.25 189.648,1114.77 \n",
       "  189.648,1106.28 189.648,1097.79 189.648,1089.31 189.648,1080.82 189.648,1072.34 189.648,1063.85 189.648,1055.37 189.648,1046.88 189.648,1038.39 189.648,1029.91 \n",
       "  189.648,1021.42 189.648,1012.94 189.648,1004.45 189.648,995.965 189.648,987.479 189.648,978.993 189.648,970.507 189.648,962.021 189.648,953.535 189.648,945.049 \n",
       "  189.648,936.563 189.648,928.078 189.648,919.592 189.648,911.106 189.648,902.62 189.648,894.134 189.648,885.648 189.648,877.162 189.648,868.676 189.648,860.191 \n",
       "  189.648,851.705 189.648,843.219 189.648,834.733 189.648,826.247 189.648,817.761 189.648,809.275 189.648,800.789 189.648,792.304 189.648,783.818 189.648,775.332 \n",
       "  189.648,766.846 189.648,758.36 189.648,749.874 189.648,741.388 189.648,732.902 189.648,724.417 189.648,715.931 189.648,707.445 189.648,698.959 189.648,690.473 \n",
       "  189.648,681.987 189.648,673.501 189.648,665.016 189.648,656.53 189.648,648.044 189.648,639.558 189.648,631.072 189.648,622.586 189.648,614.1 189.648,605.614 \n",
       "  189.648,597.129 189.648,588.643 189.648,580.157 189.648,571.671 189.648,563.185 189.648,554.699 189.648,546.213 189.648,537.727 189.648,529.242 189.648,520.756 \n",
       "  189.648,512.27 189.648,503.784 189.648,495.298 189.648,486.812 189.648,478.326 189.648,469.84 189.648,461.355 189.648,452.869 189.648,444.383 189.648,435.897 \n",
       "  189.648,427.411 189.648,418.925 189.648,410.439 189.648,401.954 189.648,393.468 189.648,384.982 189.648,376.496 189.648,368.01 189.648,359.524 189.648,351.038 \n",
       "  189.648,342.552 189.648,334.067 189.648,325.581 189.648,317.095 189.648,308.609 189.648,300.123 189.648,291.637 189.648,283.151 189.648,274.665 189.648,266.18 \n",
       "  189.648,257.694 189.648,249.208 189.648,240.722 189.648,232.236 189.648,223.75 189.648,215.264 189.648,206.778 189.648,198.293 189.648,189.807 189.648,181.321 \n",
       "  189.648,172.835 189.648,164.349 189.648,155.863 189.648,147.377 189.648,138.892 189.648,130.406 189.648,121.92 189.648,113.434 189.648,104.948 189.648,96.4621 \n",
       "  189.648,87.9763 \n",
       "  \"/>\n",
       "<circle clip-path=\"url(#clip822)\" cx=\"1569.02\" cy=\"1006.4\" r=\"14\" fill=\"#3da44d\" fill-rule=\"evenodd\" fill-opacity=\"1\" stroke=\"#000000\" stroke-opacity=\"1\" stroke-width=\"3.2\"/>\n",
       "<circle clip-path=\"url(#clip822)\" cx=\"1636.52\" cy=\"537.081\" r=\"14\" fill=\"#3da44d\" fill-rule=\"evenodd\" fill-opacity=\"1\" stroke=\"#000000\" stroke-opacity=\"1\" stroke-width=\"3.2\"/>\n",
       "<circle clip-path=\"url(#clip822)\" cx=\"295.097\" cy=\"761.613\" r=\"14\" fill=\"#c271d2\" fill-rule=\"evenodd\" fill-opacity=\"1\" stroke=\"#000000\" stroke-opacity=\"1\" stroke-width=\"3.2\"/>\n",
       "<circle clip-path=\"url(#clip822)\" cx=\"189.648\" cy=\"1048.29\" r=\"14\" fill=\"#ac8d18\" fill-rule=\"evenodd\" fill-opacity=\"1\" stroke=\"#000000\" stroke-opacity=\"1\" stroke-width=\"3.2\"/>\n",
       "<circle clip-path=\"url(#clip822)\" cx=\"189.648\" cy=\"485.401\" r=\"14\" fill=\"#ac8d18\" fill-rule=\"evenodd\" fill-opacity=\"1\" stroke=\"#000000\" stroke-opacity=\"1\" stroke-width=\"3.2\"/>\n",
       "<circle clip-path=\"url(#clip822)\" cx=\"189.648\" cy=\"766.846\" r=\"14\" fill=\"#00a9ad\" fill-rule=\"evenodd\" fill-opacity=\"1\" stroke=\"#000000\" stroke-opacity=\"1\" stroke-width=\"3.2\"/>\n",
       "<circle clip-path=\"url(#clip822)\" cx=\"294.598\" cy=\"759.013\" r=\"14\" fill=\"#800080\" fill-rule=\"evenodd\" fill-opacity=\"1\" stroke=\"#000000\" stroke-opacity=\"1\" stroke-width=\"3.2\"/>\n",
       "<circle clip-path=\"url(#clip822)\" cx=\"1292.48\" cy=\"1236.12\" r=\"14\" fill=\"#00a98d\" fill-rule=\"evenodd\" fill-opacity=\"1\" stroke=\"#000000\" stroke-opacity=\"1\" stroke-width=\"3.2\"/>\n",
       "<circle clip-path=\"url(#clip822)\" cx=\"1318.93\" cy=\"299.495\" r=\"14\" fill=\"#00a98d\" fill-rule=\"evenodd\" fill-opacity=\"1\" stroke=\"#000000\" stroke-opacity=\"1\" stroke-width=\"3.2\"/>\n",
       "<circle clip-path=\"url(#clip822)\" cx=\"293.905\" cy=\"756.429\" r=\"14\" fill=\"#8e971d\" fill-rule=\"evenodd\" fill-opacity=\"1\" stroke=\"#000000\" stroke-opacity=\"1\" stroke-width=\"3.2\"/>\n",
       "<circle clip-path=\"url(#clip822)\" cx=\"189.648\" cy=\"1421.15\" r=\"14\" fill=\"#00a8cb\" fill-rule=\"evenodd\" fill-opacity=\"1\" stroke=\"#000000\" stroke-opacity=\"1\" stroke-width=\"3.2\"/>\n",
       "<circle clip-path=\"url(#clip822)\" cx=\"189.648\" cy=\"112.542\" r=\"14\" fill=\"#00a8cb\" fill-rule=\"evenodd\" fill-opacity=\"1\" stroke=\"#000000\" stroke-opacity=\"1\" stroke-width=\"3.2\"/>\n",
       "<circle clip-path=\"url(#clip822)\" cx=\"189.648\" cy=\"766.846\" r=\"14\" fill=\"#9b7fe8\" fill-rule=\"evenodd\" fill-opacity=\"1\" stroke=\"#000000\" stroke-opacity=\"1\" stroke-width=\"3.2\"/>\n",
       "<circle clip-path=\"url(#clip822)\" cx=\"602.819\" cy=\"1283.7\" r=\"14\" fill=\"#608cf6\" fill-rule=\"evenodd\" fill-opacity=\"1\" stroke=\"#000000\" stroke-opacity=\"1\" stroke-width=\"3.2\"/>\n",
       "<circle clip-path=\"url(#clip822)\" cx=\"458.913\" cy=\"240.611\" r=\"14\" fill=\"#608cf6\" fill-rule=\"evenodd\" fill-opacity=\"1\" stroke=\"#000000\" stroke-opacity=\"1\" stroke-width=\"3.2\"/>\n",
       "<circle clip-path=\"url(#clip822)\" cx=\"293.023\" cy=\"753.866\" r=\"14\" fill=\"#f05f73\" fill-rule=\"evenodd\" fill-opacity=\"1\" stroke=\"#000000\" stroke-opacity=\"1\" stroke-width=\"3.2\"/>\n",
       "<circle clip-path=\"url(#clip822)\" cx=\"1601.69\" cy=\"1352.68\" r=\"14\" fill=\"#dd64b5\" fill-rule=\"evenodd\" fill-opacity=\"1\" stroke=\"#000000\" stroke-opacity=\"1\" stroke-width=\"3.2\"/>\n",
       "<circle clip-path=\"url(#clip822)\" cx=\"1782.01\" cy=\"191.577\" r=\"14\" fill=\"#dd64b5\" fill-rule=\"evenodd\" fill-opacity=\"1\" stroke=\"#000000\" stroke-opacity=\"1\" stroke-width=\"3.2\"/>\n",
       "<circle clip-path=\"url(#clip822)\" cx=\"286.068\" cy=\"741.515\" r=\"14\" fill=\"#6b9e32\" fill-rule=\"evenodd\" fill-opacity=\"1\" stroke=\"#000000\" stroke-opacity=\"1\" stroke-width=\"3.2\"/>\n",
       "<circle clip-path=\"url(#clip822)\" cx=\"1210.68\" cy=\"1242.01\" r=\"14\" fill=\"#ff0000\" fill-rule=\"evenodd\" fill-opacity=\"1\" stroke=\"#000000\" stroke-opacity=\"1\" stroke-width=\"3.2\"/>\n",
       "</svg>\n"
      ]
     },
     "execution_count": 44,
     "metadata": {},
     "output_type": "execute_result"
    }
   ],
   "source": [
    "plot(listaX, listaY, label = \"\")\n",
    "plot!(listaXB, listaYB, label = \"\")\n",
    "scatter!([cerosXAa,cerosXAb],[cerosYAa, cerosYAb], label = \"\")\n",
    "scatter!([cerosXBa,cerosXBb],[cerosYBa, cerosYBb], label = \"\")\n",
    "scatter!([ceros3XAa,ceros3XAb],[ceros3YAa, ceros3YAb], label = \"\", color  = \"purple\")\n",
    "scatter!([ceros4XAa,ceros4XAb],[ceros4YAa, ceros4YAb], label = \"\")\n",
    "scatter!([ceros4XBa,ceros4XBb],[ceros4YBa, ceros4YBb], label = \"\")\n",
    "scatter!([ceros5XAa,ceros5XAb],[ceros5YAa, ceros5YAb], label = \"\")\n",
    "scatter!([ceros10XAa,ceros10XAb],[ceros10YAa, ceros10YAb], label = \"\")\n",
    "scatter!([ceros15XAa,ceros15XAb],[ceros15YAa, ceros15YAb], label = \"\", color =\"red\")"
   ]
  },
  {
   "cell_type": "markdown",
   "metadata": {},
   "source": [
    "### ⭐ Periodo 20"
   ]
  },
  {
   "cell_type": "code",
   "execution_count": 45,
   "metadata": {},
   "outputs": [
    {
     "name": "stdout",
     "output_type": "stream",
     "text": [
      "  0.115808 seconds (97.28 k allocations: 4.264 MiB)\n",
      "  0.117508 seconds (245.28 k allocations: 6.566 MiB)\n"
     ]
    },
    {
     "data": {
      "text/plain": [
       "1-element Array{Float64,1}:\n",
       " 0.547362789164173"
      ]
     },
     "execution_count": 45,
     "metadata": {},
     "output_type": "execute_result"
    }
   ],
   "source": [
    "MapeoA20X(y) = MapeoA10X(MapeoA10X(y))\n",
    "MapeoA20Y(y) = MapeoA10Y(MapeoA10Y(y))\n",
    "@time ceros20YAa = find_zeros(MapeoA20X,-5.0,5.0)\n",
    "@time ceros20YAb = find_zeros(MapeoA20Y,-5.0,5.0)"
   ]
  },
  {
   "cell_type": "code",
   "execution_count": 46,
   "metadata": {},
   "outputs": [
    {
     "data": {
      "text/plain": [
       "1-element Array{Float64,1}:\n",
       " 0.035019698851920855"
      ]
     },
     "execution_count": 46,
     "metadata": {},
     "output_type": "execute_result"
    }
   ],
   "source": [
    "ceros20XAa = [x_puntoF(ceros20YAa[i],a) for i in 1:length(ceros20YAa)]\n",
    "ceros20XAb = [x_puntoF(ceros20YAb[i],a) for i in 1:length(ceros20YAb)]"
   ]
  },
  {
   "cell_type": "code",
   "execution_count": 48,
   "metadata": {},
   "outputs": [
    {
     "data": {
      "image/png": "[encoded data removed]"
     },
     "execution_count": 48,
     "metadata": {},
     "output_type": "execute_result"
    }
   ],
   "source": [
    "plot(listaX, listaY, label = \"\")\n",
    "plot!(listaXB, listaYB, label = \"\")\n",
    "scatter!([cerosXAa,cerosXAb],[cerosYAa, cerosYAb], label = \"\")\n",
    "scatter!([cerosXBa,cerosXBb],[cerosYBa, cerosYBb], label = \"\")\n",
    "scatter!([ceros3XAa,ceros3XAb],[ceros3YAa, ceros3YAb], label = \"\", color  = \"purple\")\n",
    "scatter!([ceros4XAa,ceros4XAb],[ceros4YAa, ceros4YAb], label = \"\")\n",
    "scatter!([ceros4XBa,ceros4XBb],[ceros4YBa, ceros4YBb], label = \"\")\n",
    "scatter!([ceros5XAa,ceros5XAb],[ceros5YAa, ceros5YAb], label = \"\")\n",
    "scatter!([ceros10XAa,ceros10XAb],[ceros10YAa, ceros10YAb], label = \"\")\n",
    "scatter!([ceros15XAa,ceros15XAb],[ceros15YAa, ceros15YAb], label = \"\", color =\"red\")\n",
    "scatter!([ceros20XAa,ceros20XAb],[ceros20YAa, ceros20YAb], label = \"\", color =\"limegreen\", fmt = :png)"
   ]
  },
  {
   "cell_type": "markdown",
   "metadata": {},
   "source": [
    "# Automatizar!!"
   ]
  },
  {
   "cell_type": "code",
   "execution_count": null,
   "metadata": {},
   "outputs": [],
   "source": []
  },
  {
   "cell_type": "code",
   "execution_count": null,
   "metadata": {},
   "outputs": [],
   "source": []
  },
  {
   "cell_type": "code",
   "execution_count": null,
   "metadata": {},
   "outputs": [],
   "source": []
  },
  {
   "cell_type": "code",
   "execution_count": null,
   "metadata": {},
   "outputs": [],
   "source": [
    "ceros10XAa = [x_puntoF(ceros10YAa[i],a) for i in 1:length(ceros10YAa)]\n",
    "ceros10XAb = [x_puntoF(ceros10YAb[i],a) for i in 1:length(ceros10YAb)]"
   ]
  }
 ],
 "metadata": {
  "kernelspec": {
   "display_name": "Julia 1.4.2",
   "language": "julia",
   "name": "julia-1.4"
  },
  "language_info": {
   "file_extension": ".jl",
   "mimetype": "application/julia",
   "name": "julia",
   "version": "1.4.2"
  }
 },
 "nbformat": 4,
 "nbformat_minor": 4
}
