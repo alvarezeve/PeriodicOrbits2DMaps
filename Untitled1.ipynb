{
 "cells": [
  {
   "cell_type": "code",
   "execution_count": 1,
   "metadata": {},
   "outputs": [
    {
     "name": "stdout",
     "output_type": "stream",
     "text": [
      "Requirement already satisfied: nbconvert in /home/eve/.julia/conda/3/lib/python3.7/site-packages (5.6.1)\n",
      "Requirement already satisfied: bleach in /home/eve/.julia/conda/3/lib/python3.7/site-packages (from nbconvert) (3.1.5)\n",
      "Requirement already satisfied: jinja2>=2.4 in /home/eve/.julia/conda/3/lib/python3.7/site-packages (from nbconvert) (2.11.2)\n",
      "Requirement already satisfied: mistune<2,>=0.8.1 in /home/eve/.julia/conda/3/lib/python3.7/site-packages (from nbconvert) (0.8.4)\n",
      "Requirement already satisfied: traitlets>=4.2 in /home/eve/.julia/conda/3/lib/python3.7/site-packages (from nbconvert) (4.3.3)\n",
      "Requirement already satisfied: pygments in /home/eve/.julia/conda/3/lib/python3.7/site-packages (from nbconvert) (2.6.1)\n",
      "Requirement already satisfied: defusedxml in /home/eve/.julia/conda/3/lib/python3.7/site-packages (from nbconvert) (0.6.0)\n",
      "Requirement already satisfied: pandocfilters>=1.4.1 in /home/eve/.julia/conda/3/lib/python3.7/site-packages (from nbconvert) (1.4.2)\n",
      "Requirement already satisfied: testpath in /home/eve/.julia/conda/3/lib/python3.7/site-packages (from nbconvert) (0.4.4)\n",
      "Requirement already satisfied: entrypoints>=0.2.2 in /home/eve/.julia/conda/3/lib/python3.7/site-packages (from nbconvert) (0.3)\n",
      "Requirement already satisfied: nbformat>=4.4 in /home/eve/.julia/conda/3/lib/python3.7/site-packages (from nbconvert) (5.0.7)\n",
      "Requirement already satisfied: jupyter-core in /home/eve/.julia/conda/3/lib/python3.7/site-packages (from nbconvert) (4.6.3)\n",
      "Requirement already satisfied: six>=1.9.0 in /home/eve/.julia/conda/3/lib/python3.7/site-packages (from bleach->nbconvert) (1.15.0)\n",
      "Requirement already satisfied: webencodings in /home/eve/.julia/conda/3/lib/python3.7/site-packages (from bleach->nbconvert) (0.5.1)\n",
      "Requirement already satisfied: packaging in /home/eve/.julia/conda/3/lib/python3.7/site-packages (from bleach->nbconvert) (20.4)\n",
      "Requirement already satisfied: MarkupSafe>=0.23 in /home/eve/.julia/conda/3/lib/python3.7/site-packages (from jinja2>=2.4->nbconvert) (1.1.1)\n",
      "Requirement already satisfied: ipython-genutils in /home/eve/.julia/conda/3/lib/python3.7/site-packages (from traitlets>=4.2->nbconvert) (0.2.0)\n",
      "Requirement already satisfied: decorator in /home/eve/.julia/conda/3/lib/python3.7/site-packages (from traitlets>=4.2->nbconvert) (4.4.2)\n",
      "Requirement already satisfied: jsonschema!=2.5.0,>=2.4 in /home/eve/.julia/conda/3/lib/python3.7/site-packages (from nbformat>=4.4->nbconvert) (3.2.0)\n",
      "Requirement already satisfied: pyparsing>=2.0.2 in /home/eve/.julia/conda/3/lib/python3.7/site-packages (from packaging->bleach->nbconvert) (2.4.7)\n",
      "Requirement already satisfied: importlib-metadata; python_version < \"3.8\" in /home/eve/.julia/conda/3/lib/python3.7/site-packages (from jsonschema!=2.5.0,>=2.4->nbformat>=4.4->nbconvert) (1.7.0)\n",
      "Requirement already satisfied: setuptools in /home/eve/.julia/conda/3/lib/python3.7/site-packages (from jsonschema!=2.5.0,>=2.4->nbformat>=4.4->nbconvert) (47.3.1.post20200622)\n",
      "Requirement already satisfied: pyrsistent>=0.14.0 in /home/eve/.julia/conda/3/lib/python3.7/site-packages (from jsonschema!=2.5.0,>=2.4->nbformat>=4.4->nbconvert) (0.16.0)\n",
      "Requirement already satisfied: attrs>=17.4.0 in /home/eve/.julia/conda/3/lib/python3.7/site-packages (from jsonschema!=2.5.0,>=2.4->nbformat>=4.4->nbconvert) (19.3.0)\n",
      "Requirement already satisfied: zipp>=0.5 in /home/eve/.julia/conda/3/lib/python3.7/site-packages (from importlib-metadata; python_version < \"3.8\"->jsonschema!=2.5.0,>=2.4->nbformat>=4.4->nbconvert) (3.1.0)\n",
      "Note: you may need to restart the kernel to use updated packages.\n"
     ]
    }
   ],
   "source": [
    "pip install nbconvert"
   ]
  },
  {
   "cell_type": "code",
   "execution_count": 2,
   "metadata": {},
   "outputs": [
    {
     "name": "stdout",
     "output_type": "stream",
     "text": [
      "Collecting package metadata (current_repodata.json): done\n",
      "Solving environment: done\n",
      "\n",
      "## Package Plan ##\n",
      "\n",
      "  environment location: /home/eve/.julia/conda/3\n",
      "\n",
      "  added / updated specs:\n",
      "    - nbconvert\n",
      "\n",
      "\n",
      "The following packages will be downloaded:\n",
      "\n",
      "    package                    |            build\n",
      "    ---------------------------|-----------------\n",
      "    certifi-2020.6.20          |     pyhd3eb1b0_3         155 KB\n",
      "    conda-4.9.2                |   py37h06a4308_0         2.9 MB\n",
      "    ------------------------------------------------------------\n",
      "                                           Total:         3.0 MB\n",
      "\n",
      "The following packages will be UPDATED:\n",
      "\n",
      "  certifi            pkgs/main/linux-64::certifi-2020.6.20~ --> pkgs/main/noarch::certifi-2020.6.20-pyhd3eb1b0_3\n",
      "  conda                                        4.9.0-py37_0 --> 4.9.2-py37h06a4308_0\n",
      "\n",
      "\n",
      "\n",
      "Downloading and Extracting Packages\n",
      "certifi-2020.6.20    | 155 KB    | ##################################### | 100% \n",
      "conda-4.9.2          | 2.9 MB    | ##################################### | 100% \n",
      "Preparing transaction: done\n",
      "Verifying transaction: done\n",
      "Executing transaction: done\n",
      "\n",
      "Note: you may need to restart the kernel to use updated packages.\n"
     ]
    }
   ],
   "source": [
    "\n",
    "conda install nbconvert"
   ]
  },
  {
   "cell_type": "code",
   "execution_count": 3,
   "metadata": {},
   "outputs": [
    {
     "name": "stdout",
     "output_type": "stream",
     "text": [
      "hola\n"
     ]
    }
   ],
   "source": [
    "print(\"hola\")"
   ]
  },
  {
   "cell_type": "code",
   "execution_count": 5,
   "metadata": {},
   "outputs": [
    {
     "ename": "NameError",
     "evalue": "name 'sudo' is not defined",
     "output_type": "error",
     "traceback": [
      "\u001b[0;31m---------------------------------------------------------------------------\u001b[0m",
      "\u001b[0;31mNameError\u001b[0m                                 Traceback (most recent call last)",
      "\u001b[0;32m<ipython-input-5-c3fc372d6207>\u001b[0m in \u001b[0;36m<module>\u001b[0;34m\u001b[0m\n\u001b[0;32m----> 1\u001b[0;31m \u001b[0msudo\u001b[0m\u001b[0;34m(\u001b[0m\u001b[0;34m\"apt-get install pandoc\"\u001b[0m\u001b[0;34m)\u001b[0m\u001b[0;34m\u001b[0m\u001b[0;34m\u001b[0m\u001b[0m\n\u001b[0m",
      "\u001b[0;31mNameError\u001b[0m: name 'sudo' is not defined"
     ]
    }
   ],
   "source": [
    ";sudo apt-get install pandoc"
   ]
  },
  {
   "cell_type": "code",
   "execution_count": null,
   "metadata": {},
   "outputs": [],
   "source": []
  }
 ],
 "metadata": {
  "kernelspec": {
   "display_name": "Python 3",
   "language": "python",
   "name": "python3"
  },
  "language_info": {
   "codemirror_mode": {
    "name": "ipython",
    "version": 3
   },
   "file_extension": ".py",
   "mimetype": "text/x-python",
   "name": "python",
   "nbconvert_exporter": "python",
   "pygments_lexer": "ipython3",
   "version": "3.7.7"
  }
 },
 "nbformat": 4,
 "nbformat_minor": 4
}
