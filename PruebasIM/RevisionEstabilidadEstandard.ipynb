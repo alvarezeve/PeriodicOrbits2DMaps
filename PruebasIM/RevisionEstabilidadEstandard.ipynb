{
 "cells": [
  {
   "cell_type": "markdown",
   "metadata": {},
   "source": [
    "## Quiero revisar que tan presiso es el método.\n",
    "\n",
    "Cuando calculamos orbitas de periodo rande es posible que la órbita completa sea difícil de observar ya que dependerá de la presición con la que se calcule en cuántas iteraciones de ese punto podemos confiar. Con el objetivo de medir de alguna forma esto lo que haré es medir el error de la órbita usando el periodo. \n",
    "$$E(p_{0},p_{n},f) = |p_{0}-f^{n}(p_{n})|$$\n",
    "donde $n$ es el periodo del punto $p_{0}$ encontrado."
   ]
  },
  {
   "cell_type": "code",
   "execution_count": 2,
   "metadata": {},
   "outputs": [],
   "source": [
    "#paqueterias predefinidas de julia\n",
    "using PyPlot\n",
    "using SymPy\n",
    "using TaylorSeries\n",
    "using StaticArrays\n",
    "using PyCall\n",
    "using LaTeXStrings\n",
    "using LinearAlgebra\n",
    "using ForwardDiff"
   ]
  },
  {
   "cell_type": "code",
   "execution_count": 3,
   "metadata": {},
   "outputs": [
    {
     "data": {
      "text/plain": [
       "5-element Array{String,1}:\n",
       " \"@\"\n",
       " \"@v#.#\"\n",
       " \"@stdlib\"\n",
       " \"/home/eve/Documents/Tesis-v-1.0.2/Programas/IPM\"\n",
       " \"/home/eve/Documents/Matematicas/Proyectos/Implementacion\""
      ]
     },
     "execution_count": 3,
     "metadata": {},
     "output_type": "execute_result"
    }
   ],
   "source": [
    "#importamos las implementaciones, del metodo de parametrizacion y del metodo de puntos fijos.\n",
    "push!(LOAD_PATH,\"/home/eve/Documents/Tesis-v-1.0.2/Programas/IPM\")\n",
    "push!(LOAD_PATH,\"/home/eve/Documents/Matematicas/Proyectos/Implementacion\")"
   ]
  },
  {
   "cell_type": "code",
   "execution_count": 4,
   "metadata": {},
   "outputs": [],
   "source": [
    "# importamos los modulos locales.\n",
    "using ParametrizacionMetodo\n",
    "using PeriodicosSymmetries"
   ]
  },
  {
   "cell_type": "markdown",
   "metadata": {},
   "source": [
    "🔵 Definimos el mapeo"
   ]
  },
  {
   "cell_type": "code",
   "execution_count": 5,
   "metadata": {},
   "outputs": [
    {
     "data": {
      "text/plain": [
       "EstandardMapK (generic function with 1 method)"
      ]
     },
     "execution_count": 5,
     "metadata": {},
     "output_type": "execute_result"
    }
   ],
   "source": [
    "function EstandardMapK(r,k)\n",
    "    x = r[1]\n",
    "    y = r[2]\n",
    "    vx = x + y - (k*sin(2*pi*x))/(2*pi)\n",
    "    vy =  y - (k*sin(2*pi*x))/(2*pi)\n",
    "    return [vx,vy]\n",
    "end"
   ]
  },
  {
   "cell_type": "code",
   "execution_count": 6,
   "metadata": {},
   "outputs": [
    {
     "data": {
      "text/plain": [
       "simetria4f (generic function with 1 method)"
      ]
     },
     "execution_count": 6,
     "metadata": {},
     "output_type": "execute_result"
    }
   ],
   "source": [
    "#definimos las simetrias, las necesitamos en forma de vector y en forma de función\n",
    "simetria1v(x,y) = [0,y]\n",
    "simetria2v(x,y) = [1/2,y]\n",
    "simetria3v(x,y) = [y/2,y]\n",
    "simetria4v(x,y) = [(y+1)/2.0,y]\n",
    "simetria1f(x,y) = x\n",
    "simetria2f(x,y) = x-1/2.0\n",
    "simetria3f(x,y) = x-(y/2)\n",
    "simetria4f(x,y) = x-(y+1)/2.0\n"
   ]
  },
  {
   "cell_type": "code",
   "execution_count": 7,
   "metadata": {},
   "outputs": [],
   "source": [
    "#definimos unas listas que serán las línea de simetría del mapeo.\n",
    "listasim1Y = [y for y in 0.0:0.1:1.0] \n",
    "listasim1X = [0.0 for y in listasim1Y]\n",
    "listasim2X = [1/2 for y in listasim1Y]\n",
    "listasim3X = [y/2 for y in listasim1Y]\n",
    "listasim4X = [(y+1.0)/2 for y in listasim1Y];"
   ]
  },
  {
   "cell_type": "markdown",
   "metadata": {},
   "source": [
    "🔵 Definimos un mapeo para graficar el espacio fase para diferentes puntos. "
   ]
  },
  {
   "cell_type": "code",
   "execution_count": 8,
   "metadata": {},
   "outputs": [
    {
     "data": {
      "text/plain": [
       "IterarMap (generic function with 1 method)"
      ]
     },
     "execution_count": 8,
     "metadata": {},
     "output_type": "execute_result"
    }
   ],
   "source": [
    "function IterarMap(f, x_ini, n)   #Definimos una función para iterar el mapeo\n",
    "\n",
    "    x = x_ini[1]                      #                                     #Damos condiciones iniciales\n",
    "    y = x_ini[2]                          #\n",
    "    \n",
    "    iteradosMapX = [x]\n",
    "    iteradosMapY = [y]               #Definimos dos listas que tendran los valores de cada par ordenado de theta y P, y agregamos las condiciones iniciales\n",
    "\n",
    "    for i=0:n              #iniciamos un ciclo de iteraciones donde se calculan x_n, y_n y se agregan a lalista correspodiente\n",
    "        F = f(x,y)\n",
    "\n",
    "        push!(iteradosMapX,F[1])\n",
    "        push!(iteradosMapY,F[2])\n",
    "        \n",
    "       x = F[1]\n",
    "       y = F[2]\n",
    "\n",
    "    end\n",
    "\n",
    "    return iteradosMapX, iteradosMapY  #La funcion iterados regresa las listas que corresponden a la trayectoria del\n",
    "\n",
    "end\n",
    "\n"
   ]
  },
  {
   "cell_type": "code",
   "execution_count": 9,
   "metadata": {},
   "outputs": [
    {
     "data": {
      "text/plain": [
       "GraficarEstandarMap (generic function with 1 method)"
      ]
     },
     "execution_count": 9,
     "metadata": {},
     "output_type": "execute_result"
    }
   ],
   "source": [
    "\n",
    "#para graficarlo\n",
    "function GraficarEstandarMap(f)\n",
    "    n = 50\n",
    "    s = 1/20.\n",
    "    i=0.\n",
    "    for p_i=0:s:1\n",
    "        for x_i =0:s:1\n",
    "            i=i+1\n",
    "            x_ini=[p_i,x_i]\n",
    "            a,b = IterarMap(f,x_ini,n)\n",
    "            p = scatter(a,b,marker=\".\",s=0.1,color=\"gray\")\n",
    "            \n",
    "        end\n",
    "    end\n",
    "\n",
    "end"
   ]
  },
  {
   "cell_type": "code",
   "execution_count": 10,
   "metadata": {},
   "outputs": [
    {
     "data": {
      "text/plain": [
       "Estandar (generic function with 1 method)"
      ]
     },
     "execution_count": 10,
     "metadata": {},
     "output_type": "execute_result"
    }
   ],
   "source": [
    "#Definimos una función para iterar el mapeo y usar la función de iterar.\n",
    "function Estandar(x::Any,y::Any,k::Real)\n",
    "    x_n =mod(x+y-k*sin(2*pi*x)/2pi,1)\n",
    "    y_n =mod(y-k*sin(2*pi*x)/2pi,1)\n",
    "    return [x_n,y_n]\n",
    "end"
   ]
  },
  {
   "cell_type": "code",
   "execution_count": 11,
   "metadata": {},
   "outputs": [
    {
     "data": {
      "text/plain": [
       "Estandar0 (generic function with 1 method)"
      ]
     },
     "execution_count": 11,
     "metadata": {},
     "output_type": "execute_result"
    }
   ],
   "source": [
    "#como en este caso vamos a trabajar con varios valores del parámetro definimos una función para un \n",
    "# parámetro fijo \n",
    "Estandar0(x,y)=Estandar(x,y,0.0)"
   ]
  },
  {
   "cell_type": "code",
   "execution_count": 12,
   "metadata": {},
   "outputs": [
    {
     "data": {
      "image/png": "[encoded data removed]",
      "text/plain": [
       "Figure(PyObject <Figure size 640x480 with 1 Axes>)"
      ]
     },
     "metadata": {},
     "output_type": "display_data"
    },
    {
     "data": {
      "text/plain": [
       "1-element Array{PyObject,1}:\n",
       " PyObject <matplotlib.lines.Line2D object at 0x7f89f43dc610>"
      ]
     },
     "execution_count": 12,
     "metadata": {},
     "output_type": "execute_result"
    }
   ],
   "source": [
    "GraficarEstandarMap(Estandar0)\n",
    "plot(listasim1X, listasim1Y, label = \"\")\n",
    "plot(listasim2X, listasim1Y, label = \"\")\n",
    "plot(listasim3X, listasim1Y, label = \"\")\n",
    "plot(listasim4X, listasim1Y, label = \"\")\n"
   ]
  },
  {
   "cell_type": "markdown",
   "metadata": {},
   "source": [
    "🔵 Defino mapeos para ciertos valores del parámetro. "
   ]
  },
  {
   "cell_type": "code",
   "execution_count": 13,
   "metadata": {},
   "outputs": [
    {
     "data": {
      "text/plain": [
       "Estandar13 (generic function with 1 method)"
      ]
     },
     "execution_count": 13,
     "metadata": {},
     "output_type": "execute_result"
    }
   ],
   "source": [
    "#definimos funciones para el mapeo iterado.\n",
    "Estandar1(x,y)=Estandar(x,y,0.01)\n",
    "Estandar2(x,y)=Estandar(x,y,0.02)\n",
    "Estandar3(x,y)=Estandar(x,y,0.03)\n",
    "Estandar4(x,y)=Estandar(x,y,0.04)\n",
    "Estandar5(x,y)=Estandar(x,y,0.05)\n",
    "Estandar6(x,y)=Estandar(x,y,0.06)\n",
    "Estandar7(x,y)=Estandar(x,y,0.07)\n",
    "Estandar8(x,y)=Estandar(x,y,0.08)\n",
    "Estandar9(x,y)=Estandar(x,y,0.09)\n",
    "Estandar10(x,y)=Estandar(x,y,0.1)\n",
    "Estandar11(x,y)=Estandar(x,y,0.2)\n",
    "Estandar12(x,y)=Estandar(x,y,0.3)\n",
    "Estandar13(x,y)=Estandar(x,y,0.4)"
   ]
  },
  {
   "cell_type": "code",
   "execution_count": 14,
   "metadata": {},
   "outputs": [
    {
     "data": {
      "text/plain": [
       "EstandardMap13 (generic function with 1 method)"
      ]
     },
     "execution_count": 14,
     "metadata": {},
     "output_type": "execute_result"
    }
   ],
   "source": [
    "#funciones que se usan en el método de puntos periódicos\n",
    "EstandardMap0(x) = EstandardMapK(x,0.0)\n",
    "EstandardMap1(x) = EstandardMapK(x,0.01)\n",
    "EstandardMap2(x) = EstandardMapK(x,0.02)\n",
    "EstandardMap3(x) = EstandardMapK(x,0.03)\n",
    "EstandardMap4(x) = EstandardMapK(x,0.04)\n",
    "EstandardMap5(x) = EstandardMapK(x,0.05)\n",
    "EstandardMap6(x) = EstandardMapK(x,0.06)\n",
    "EstandardMap7(x) = EstandardMapK(x,0.07)\n",
    "EstandardMap8(x) = EstandardMapK(x,0.08)\n",
    "EstandardMap9(x) = EstandardMapK(x,0.09)\n",
    "EstandardMap10(x) = EstandardMapK(x,0.1)\n",
    "EstandardMap11(x) = EstandardMapK(x,0.2)\n",
    "EstandardMap12(x) = EstandardMapK(x,0.3)\n",
    "EstandardMap13(x) = EstandardMapK(x,0.4)"
   ]
  },
  {
   "cell_type": "markdown",
   "metadata": {},
   "source": [
    "🔵 Experimentamos con puntos de diferente periodo."
   ]
  },
  {
   "cell_type": "code",
   "execution_count": 15,
   "metadata": {},
   "outputs": [
    {
     "data": {
      "text/plain": [
       "2-element Array{Float64,1}:\n",
       " 0.25039788611434016\n",
       " 0.5007957722286803"
      ]
     },
     "execution_count": 15,
     "metadata": {},
     "output_type": "execute_result"
    }
   ],
   "source": [
    "#periodo 2\n",
    "periodo2E1 = periodicosN(EstandardMap1,simetria3v,simetria4f,1,0.5)"
   ]
  },
  {
   "cell_type": "code",
   "execution_count": 16,
   "metadata": {},
   "outputs": [
    {
     "data": {
      "text/plain": [
       "EstandardMap_per2 (generic function with 1 method)"
      ]
     },
     "execution_count": 16,
     "metadata": {},
     "output_type": "execute_result"
    }
   ],
   "source": [
    "#usamos la función composition que esta definida en el modulo para calcular la \n",
    "# 2da iteración del punto encontrado.\n",
    "EstandardMap_per2(v) =  composition(EstandardMap1,2)(v)"
   ]
  },
  {
   "cell_type": "code",
   "execution_count": 17,
   "metadata": {},
   "outputs": [
    {
     "data": {
      "text/plain": [
       "2.220446049250313e-16"
      ]
     },
     "execution_count": 17,
     "metadata": {},
     "output_type": "execute_result"
    }
   ],
   "source": [
    "#Calculamos la diferencia \n",
    "Error = mod(norm(periodo2E1-EstandardMap_per2(periodo2E1)),1)"
   ]
  },
  {
   "cell_type": "markdown",
   "metadata": {},
   "source": [
    "🔵 Si buscamos con un periodo más significativo, por ejemplo 100."
   ]
  },
  {
   "cell_type": "code",
   "execution_count": 18,
   "metadata": {},
   "outputs": [
    {
     "data": {
      "text/plain": [
       "2-element Array{Float64,1}:\n",
       " 0.0\n",
       " 0.01"
      ]
     },
     "execution_count": 18,
     "metadata": {},
     "output_type": "execute_result"
    }
   ],
   "source": [
    "periodo100E1 = periodicosN(EstandardMap0,simetria1v,simetria2f,50,1/100)"
   ]
  },
  {
   "cell_type": "code",
   "execution_count": 19,
   "metadata": {},
   "outputs": [
    {
     "name": "stdout",
     "output_type": "stream",
     "text": [
      "periodo = "
     ]
    },
    {
     "data": {
      "text/plain": [
       "100.0"
      ]
     },
     "execution_count": 19,
     "metadata": {},
     "output_type": "execute_result"
    }
   ],
   "source": [
    "Buscaperiodo(periodo100E1,EstandardMap0,1,1e-10)"
   ]
  },
  {
   "cell_type": "code",
   "execution_count": 20,
   "metadata": {},
   "outputs": [
    {
     "data": {
      "text/plain": [
       "EstandardMap0_per100 (generic function with 1 method)"
      ]
     },
     "execution_count": 20,
     "metadata": {},
     "output_type": "execute_result"
    }
   ],
   "source": [
    "EstandardMap0_per100(v) =  composition(EstandardMap0,100)(v)"
   ]
  },
  {
   "cell_type": "code",
   "execution_count": 21,
   "metadata": {},
   "outputs": [
    {
     "data": {
      "text/plain": [
       "6.661338147750939e-16"
      ]
     },
     "execution_count": 21,
     "metadata": {},
     "output_type": "execute_result"
    }
   ],
   "source": [
    "Error = mod(norm(periodo100E1-EstandardMap0_per100(periodo100E1)),1)"
   ]
  },
  {
   "cell_type": "markdown",
   "metadata": {},
   "source": [
    "🔵 En este caso el error sigue siendo muy pequeño pero ya notable. "
   ]
  },
  {
   "cell_type": "code",
   "execution_count": 22,
   "metadata": {},
   "outputs": [
    {
     "name": "stdout",
     "output_type": "stream",
     "text": [
      "periodo = "
     ]
    },
    {
     "data": {
      "text/plain": [
       "99.0"
      ]
     },
     "execution_count": 22,
     "metadata": {},
     "output_type": "execute_result"
    }
   ],
   "source": [
    "#periodo 99\n",
    "periodo99E0 = periodicosN(EstandardMap0,simetria1v,simetria4f,50,0.1)\n",
    "Buscaperiodo(periodo99E0,EstandardMap0,1,1e-10)"
   ]
  },
  {
   "cell_type": "code",
   "execution_count": 23,
   "metadata": {},
   "outputs": [
    {
     "data": {
      "text/plain": [
       "EstandardMap0_per99 (generic function with 1 method)"
      ]
     },
     "execution_count": 23,
     "metadata": {},
     "output_type": "execute_result"
    }
   ],
   "source": [
    "EstandardMap0_per99(v) =  composition(EstandardMap0,99)(v)"
   ]
  },
  {
   "cell_type": "code",
   "execution_count": 24,
   "metadata": {},
   "outputs": [
    {
     "data": {
      "text/plain": [
       "0.9999999999999976"
      ]
     },
     "execution_count": 24,
     "metadata": {},
     "output_type": "execute_result"
    }
   ],
   "source": [
    "Error = mod(norm(periodo99E0-EstandardMap0_per99(periodo99E0)),1)"
   ]
  },
  {
   "cell_type": "markdown",
   "metadata": {},
   "source": [
    "🔵 Por ejemplo en el caso anterior el error es de 1 después de las 99 iteraciones."
   ]
  },
  {
   "cell_type": "code",
   "execution_count": 25,
   "metadata": {},
   "outputs": [
    {
     "name": "stdout",
     "output_type": "stream",
     "text": [
      "periodo = "
     ]
    },
    {
     "data": {
      "text/plain": [
       "91.0"
      ]
     },
     "execution_count": 25,
     "metadata": {},
     "output_type": "execute_result"
    }
   ],
   "source": [
    "#Periodo 90\n",
    "periodo91E0 = periodicosN(EstandardMap0,simetria1v,simetria4f,46,0.0101)\n",
    "Buscaperiodo(periodo91E0,EstandardMap0,1,1e-10)"
   ]
  },
  {
   "cell_type": "code",
   "execution_count": 26,
   "metadata": {},
   "outputs": [
    {
     "data": {
      "text/plain": [
       "0.9999999999999984"
      ]
     },
     "execution_count": 26,
     "metadata": {},
     "output_type": "execute_result"
    }
   ],
   "source": [
    "EstandardMap0_per91(v) =  composition(EstandardMap0,91)(v)\n",
    "Error = mod(norm(periodo91E0-EstandardMap0_per91(periodo91E0)),1)"
   ]
  },
  {
   "cell_type": "markdown",
   "metadata": {},
   "source": [
    "🔵 Tambien en este caso el error es de 1 unidad después de las 100 iteraciones."
   ]
  },
  {
   "cell_type": "code",
   "execution_count": 27,
   "metadata": {},
   "outputs": [
    {
     "name": "stdout",
     "output_type": "stream",
     "text": [
      "periodo = "
     ]
    },
    {
     "data": {
      "text/plain": [
       "80.0"
      ]
     },
     "execution_count": 27,
     "metadata": {},
     "output_type": "execute_result"
    }
   ],
   "source": [
    "periodo80E0 = periodicosN(EstandardMap0,simetria1v,simetria2f,40,1/80.0)\n",
    "Buscaperiodo(periodo80E0,EstandardMap0,1,1e-10)"
   ]
  },
  {
   "cell_type": "code",
   "execution_count": 28,
   "metadata": {},
   "outputs": [
    {
     "data": {
      "text/plain": [
       "1.5543122344752192e-15"
      ]
     },
     "execution_count": 28,
     "metadata": {},
     "output_type": "execute_result"
    }
   ],
   "source": [
    "EstandardMap0_per80(v) =  composition(EstandardMap0,80)(v)\n",
    "Error = min(mod(norm(periodo80E0-EstandardMap0_per80(periodo80E0)),1),abs(1-mod(norm(periodo80E0-EstandardMap0_per80(periodo80E0)),1)))"
   ]
  },
  {
   "cell_type": "code",
   "execution_count": 29,
   "metadata": {},
   "outputs": [
    {
     "data": {
      "text/plain": [
       "Errorf (generic function with 1 method)"
      ]
     },
     "execution_count": 29,
     "metadata": {},
     "output_type": "execute_result"
    }
   ],
   "source": [
    "Errorf(pini, mapeoi)= min(mod(norm(pini-mapeoi(pini)),1),abs(1-mod(norm(pini-mapeoi(pini)),1)))"
   ]
  },
  {
   "cell_type": "code",
   "execution_count": 30,
   "metadata": {},
   "outputs": [
    {
     "data": {
      "text/plain": [
       "1.5543122344752192e-15"
      ]
     },
     "execution_count": 30,
     "metadata": {},
     "output_type": "execute_result"
    }
   ],
   "source": [
    "Errorf(periodo80E0,EstandardMap0_per80)"
   ]
  },
  {
   "cell_type": "code",
   "execution_count": 31,
   "metadata": {},
   "outputs": [
    {
     "data": {
      "text/plain": [
       "2-element Array{Float64,1}:\n",
       " -0.9999999999999984\n",
       "  0.0"
      ]
     },
     "execution_count": 31,
     "metadata": {},
     "output_type": "execute_result"
    }
   ],
   "source": [
    "periodo80E0-EstandardMap0_per80(periodo80E0)"
   ]
  },
  {
   "cell_type": "code",
   "execution_count": 32,
   "metadata": {},
   "outputs": [
    {
     "name": "stdout",
     "output_type": "stream",
     "text": [
      "p inicial= [0.0, 0.0125]\tp final=[0.9999999999999984, 0.0125]"
     ]
    }
   ],
   "source": [
    "print(\"p inicial= \",periodo80E0, '\\t',\"p final=\",EstandardMap0_per80(periodo80E0) )"
   ]
  },
  {
   "cell_type": "markdown",
   "metadata": {},
   "source": [
    "🔵 en realidad no es que el error sea de uno si no que por el modulo no se alcanza a percibir. "
   ]
  },
  {
   "cell_type": "code",
   "execution_count": 33,
   "metadata": {},
   "outputs": [
    {
     "name": "stdout",
     "output_type": "stream",
     "text": [
      "periodo = "
     ]
    },
    {
     "data": {
      "text/plain": [
       "79.0"
      ]
     },
     "execution_count": 33,
     "metadata": {},
     "output_type": "execute_result"
    }
   ],
   "source": [
    "#periodo79\n",
    "periodo79E0 = periodicosN(EstandardMap0,simetria1v,simetria4f,40,1/80.0)\n",
    "Buscaperiodo(periodo79E0,EstandardMap0,1,1e-10)"
   ]
  },
  {
   "cell_type": "code",
   "execution_count": 34,
   "metadata": {},
   "outputs": [
    {
     "data": {
      "text/plain": [
       "3.1086244689504383e-15"
      ]
     },
     "execution_count": 34,
     "metadata": {},
     "output_type": "execute_result"
    }
   ],
   "source": [
    "EstandardMap0_per79(v) =  composition(EstandardMap0,79)(v)\n",
    "Errorf(periodo79E0,EstandardMap0_per79)"
   ]
  },
  {
   "cell_type": "code",
   "execution_count": 35,
   "metadata": {},
   "outputs": [
    {
     "name": "stdout",
     "output_type": "stream",
     "text": [
      "periodo = "
     ]
    },
    {
     "data": {
      "text/plain": [
       "70.0"
      ]
     },
     "execution_count": 35,
     "metadata": {},
     "output_type": "execute_result"
    }
   ],
   "source": [
    "#periodo 70\n",
    "periodo70E0 = periodicosN(EstandardMap0,simetria1v,simetria2f,35,1/70.0)\n",
    "Buscaperiodo(periodo70E0,EstandardMap0,1,1e-10)"
   ]
  },
  {
   "cell_type": "code",
   "execution_count": 36,
   "metadata": {},
   "outputs": [
    {
     "data": {
      "text/plain": [
       "1.6653345369377348e-15"
      ]
     },
     "execution_count": 36,
     "metadata": {},
     "output_type": "execute_result"
    }
   ],
   "source": [
    "EstandardMap0_per70(v) =  composition(EstandardMap0,70)(v)\n",
    "Errorf(periodo70E0,EstandardMap0_per70)"
   ]
  },
  {
   "cell_type": "code",
   "execution_count": 37,
   "metadata": {},
   "outputs": [
    {
     "name": "stdout",
     "output_type": "stream",
     "text": [
      "periodo = "
     ]
    },
    {
     "data": {
      "text/plain": [
       "69.0"
      ]
     },
     "execution_count": 37,
     "metadata": {},
     "output_type": "execute_result"
    }
   ],
   "source": [
    "#periodo 69\n",
    "periodo69E0 = periodicosN(EstandardMap0,simetria1v,simetria4f,35,1/70.0)\n",
    "Buscaperiodo(periodo69E0,EstandardMap0,1,1e-10)"
   ]
  },
  {
   "cell_type": "code",
   "execution_count": 38,
   "metadata": {},
   "outputs": [
    {
     "data": {
      "text/plain": [
       "1.6653345369377348e-15"
      ]
     },
     "execution_count": 38,
     "metadata": {},
     "output_type": "execute_result"
    }
   ],
   "source": [
    "EstandardMap0_per69(v) =  composition(EstandardMap0,69)(v)\n",
    "Errorf(periodo69E0,EstandardMap0_per69)"
   ]
  },
  {
   "cell_type": "code",
   "execution_count": 39,
   "metadata": {},
   "outputs": [
    {
     "name": "stdout",
     "output_type": "stream",
     "text": [
      "periodo = "
     ]
    },
    {
     "data": {
      "text/plain": [
       "60.0"
      ]
     },
     "execution_count": 39,
     "metadata": {},
     "output_type": "execute_result"
    }
   ],
   "source": [
    "#periodo 60\n",
    "periodo60E0 = periodicosN(EstandardMap0,simetria1v,simetria2f,30,1/60.0)\n",
    "Buscaperiodo(periodo60E0,EstandardMap0,1,1e-10)"
   ]
  },
  {
   "cell_type": "code",
   "execution_count": 40,
   "metadata": {},
   "outputs": [
    {
     "data": {
      "text/plain": [
       "1.3322676295501878e-15"
      ]
     },
     "execution_count": 40,
     "metadata": {},
     "output_type": "execute_result"
    }
   ],
   "source": [
    "EstandardMap0_per60(v) =  composition(EstandardMap0,60)(v)\n",
    "Errorf(periodo60E0,EstandardMap0_per60)"
   ]
  },
  {
   "cell_type": "code",
   "execution_count": 41,
   "metadata": {},
   "outputs": [
    {
     "name": "stdout",
     "output_type": "stream",
     "text": [
      "periodo = "
     ]
    },
    {
     "data": {
      "text/plain": [
       "59.0"
      ]
     },
     "execution_count": 41,
     "metadata": {},
     "output_type": "execute_result"
    }
   ],
   "source": [
    "#periodo 59\n",
    "periodo59E0 = periodicosN(EstandardMap0,simetria2v,simetria3f,30,1/60.0)\n",
    "Buscaperiodo(periodo59E0,EstandardMap0,1,1e-10)"
   ]
  },
  {
   "cell_type": "code",
   "execution_count": 42,
   "metadata": {},
   "outputs": [
    {
     "data": {
      "text/plain": [
       "6.661338147750939e-16"
      ]
     },
     "execution_count": 42,
     "metadata": {},
     "output_type": "execute_result"
    }
   ],
   "source": [
    "EstandardMap0_per59(v) =  composition(EstandardMap0,59)(v)\n",
    "Errorf(periodo59E0,EstandardMap0_per59)"
   ]
  },
  {
   "cell_type": "code",
   "execution_count": 43,
   "metadata": {},
   "outputs": [
    {
     "name": "stdout",
     "output_type": "stream",
     "text": [
      "periodo = "
     ]
    },
    {
     "data": {
      "text/plain": [
       "50.0"
      ]
     },
     "execution_count": 43,
     "metadata": {},
     "output_type": "execute_result"
    }
   ],
   "source": [
    "#periodo 50\n",
    "periodo50E0 = periodicosN(EstandardMap0,simetria3v,simetria4f,25,1/50.0)\n",
    "Buscaperiodo(periodo50E0,EstandardMap0,1,1e-10)"
   ]
  },
  {
   "cell_type": "code",
   "execution_count": 44,
   "metadata": {},
   "outputs": [
    {
     "data": {
      "text/plain": [
       "4.440892098500626e-16"
      ]
     },
     "execution_count": 44,
     "metadata": {},
     "output_type": "execute_result"
    }
   ],
   "source": [
    "EstandardMap0_per50(v) =  composition(EstandardMap0,50)(v)\n",
    "Errorf(periodo50E0,EstandardMap0_per50)"
   ]
  },
  {
   "cell_type": "code",
   "execution_count": 45,
   "metadata": {},
   "outputs": [
    {
     "name": "stdout",
     "output_type": "stream",
     "text": [
      "periodo = "
     ]
    },
    {
     "data": {
      "text/plain": [
       "49.0"
      ]
     },
     "execution_count": 45,
     "metadata": {},
     "output_type": "execute_result"
    }
   ],
   "source": [
    "#periodo 49\n",
    "periodo49E0 = periodicosN(EstandardMap0,simetria2v,simetria3f,25,1/50.0)\n",
    "Buscaperiodo(periodo49E0,EstandardMap0,1,1e-10)"
   ]
  },
  {
   "cell_type": "code",
   "execution_count": 46,
   "metadata": {},
   "outputs": [
    {
     "data": {
      "text/plain": [
       "4.440892098500626e-16"
      ]
     },
     "execution_count": 46,
     "metadata": {},
     "output_type": "execute_result"
    }
   ],
   "source": [
    "EstandardMap0_per49(v) =  composition(EstandardMap0,49)(v)\n",
    "Errorf(periodo49E0,EstandardMap0_per49)"
   ]
  },
  {
   "cell_type": "code",
   "execution_count": 47,
   "metadata": {},
   "outputs": [
    {
     "name": "stdout",
     "output_type": "stream",
     "text": [
      "periodo = "
     ]
    },
    {
     "data": {
      "text/plain": [
       "40.0"
      ]
     },
     "execution_count": 47,
     "metadata": {},
     "output_type": "execute_result"
    }
   ],
   "source": [
    "#periodo 40\n",
    "periodo40E0 = periodicosN(EstandardMap0,simetria3v,simetria4f,20,1/40.0)\n",
    "Buscaperiodo(periodo40E0,EstandardMap0,1,1e-10)"
   ]
  },
  {
   "cell_type": "code",
   "execution_count": 48,
   "metadata": {},
   "outputs": [
    {
     "data": {
      "text/plain": [
       "6.661338147750939e-16"
      ]
     },
     "execution_count": 48,
     "metadata": {},
     "output_type": "execute_result"
    }
   ],
   "source": [
    "EstandardMap0_per40(v) =  composition(EstandardMap0,40)(v)\n",
    "Errorf(periodo40E0,EstandardMap0_per40)"
   ]
  },
  {
   "cell_type": "code",
   "execution_count": 49,
   "metadata": {},
   "outputs": [
    {
     "name": "stdout",
     "output_type": "stream",
     "text": [
      "periodo = "
     ]
    },
    {
     "data": {
      "text/plain": [
       "39.0"
      ]
     },
     "execution_count": 49,
     "metadata": {},
     "output_type": "execute_result"
    }
   ],
   "source": [
    "#periodo 39\n",
    "periodo39E0 = periodicosN(EstandardMap0,simetria1v,simetria4f,20,1/40.0)\n",
    "Buscaperiodo(periodo39E0,EstandardMap0,1,1e-10)"
   ]
  },
  {
   "cell_type": "code",
   "execution_count": 50,
   "metadata": {},
   "outputs": [
    {
     "data": {
      "text/plain": [
       "4.440892098500626e-16"
      ]
     },
     "execution_count": 50,
     "metadata": {},
     "output_type": "execute_result"
    }
   ],
   "source": [
    "EstandardMap0_per39(v) =  composition(EstandardMap0,39)(v)\n",
    "Errorf(periodo39E0,EstandardMap0_per39)"
   ]
  },
  {
   "cell_type": "code",
   "execution_count": 51,
   "metadata": {},
   "outputs": [
    {
     "name": "stdout",
     "output_type": "stream",
     "text": [
      "periodo = "
     ]
    },
    {
     "data": {
      "text/plain": [
       "30.0"
      ]
     },
     "execution_count": 51,
     "metadata": {},
     "output_type": "execute_result"
    }
   ],
   "source": [
    "#periodo 30\n",
    "periodo30E0 = periodicosN(EstandardMap0,simetria1v,simetria2f,15,1/30.0)\n",
    "Buscaperiodo(periodo30E0,EstandardMap0,1,1e-10)"
   ]
  },
  {
   "cell_type": "code",
   "execution_count": 52,
   "metadata": {},
   "outputs": [
    {
     "data": {
      "text/plain": [
       "1.1102230246251565e-16"
      ]
     },
     "execution_count": 52,
     "metadata": {},
     "output_type": "execute_result"
    }
   ],
   "source": [
    "EstandardMap0_per30(v) =  composition(EstandardMap0,30)(v)\n",
    "Errorf(periodo30E0,EstandardMap0_per30)"
   ]
  },
  {
   "cell_type": "code",
   "execution_count": 53,
   "metadata": {},
   "outputs": [
    {
     "name": "stdout",
     "output_type": "stream",
     "text": [
      "periodo = "
     ]
    },
    {
     "data": {
      "text/plain": [
       "29.0"
      ]
     },
     "execution_count": 53,
     "metadata": {},
     "output_type": "execute_result"
    }
   ],
   "source": [
    "#periodo 29\n",
    "periodo29E0 = periodicosN(EstandardMap0,simetria1v,simetria4f,15,1/30.0)\n",
    "Buscaperiodo(periodo29E0,EstandardMap0,1,1e-10)"
   ]
  },
  {
   "cell_type": "code",
   "execution_count": 54,
   "metadata": {},
   "outputs": [
    {
     "data": {
      "text/plain": [
       "9.992007221626409e-16"
      ]
     },
     "execution_count": 54,
     "metadata": {},
     "output_type": "execute_result"
    }
   ],
   "source": [
    "EstandardMap0_per29(v) =  composition(EstandardMap0,29)(v)\n",
    "Errorf(periodo29E0,EstandardMap0_per29)"
   ]
  },
  {
   "cell_type": "code",
   "execution_count": 55,
   "metadata": {},
   "outputs": [
    {
     "name": "stdout",
     "output_type": "stream",
     "text": [
      "periodo = "
     ]
    },
    {
     "data": {
      "text/plain": [
       "20.0"
      ]
     },
     "execution_count": 55,
     "metadata": {},
     "output_type": "execute_result"
    }
   ],
   "source": [
    "#periodo 20\n",
    "periodo20E0 = periodicosN(EstandardMap0,simetria1v,simetria2f,10,1/20.0)\n",
    "Buscaperiodo(periodo20E0,EstandardMap0,1,1e-10)\n"
   ]
  },
  {
   "cell_type": "code",
   "execution_count": 56,
   "metadata": {},
   "outputs": [
    {
     "data": {
      "text/plain": [
       "2.220446049250313e-16"
      ]
     },
     "execution_count": 56,
     "metadata": {},
     "output_type": "execute_result"
    }
   ],
   "source": [
    "EstandardMap0_per20(v) =  composition(EstandardMap0,20)(v)\n",
    "Errorf(periodo20E0,EstandardMap0_per20)"
   ]
  },
  {
   "cell_type": "code",
   "execution_count": 57,
   "metadata": {},
   "outputs": [
    {
     "name": "stdout",
     "output_type": "stream",
     "text": [
      "periodo = "
     ]
    },
    {
     "data": {
      "text/plain": [
       "19.0"
      ]
     },
     "execution_count": 57,
     "metadata": {},
     "output_type": "execute_result"
    }
   ],
   "source": [
    "#periodo19\n",
    "periodo19E0 = periodicosN(EstandardMap0,simetria1v,simetria4f,10,1/20.0)\n",
    "Buscaperiodo(periodo19E0,EstandardMap0,1,1e-10)"
   ]
  },
  {
   "cell_type": "code",
   "execution_count": 58,
   "metadata": {},
   "outputs": [
    {
     "data": {
      "text/plain": [
       "6.661338147750939e-16"
      ]
     },
     "execution_count": 58,
     "metadata": {},
     "output_type": "execute_result"
    }
   ],
   "source": [
    "EstandardMap0_per19(v) =  composition(EstandardMap0,19)(v)\n",
    "Errorf(periodo19E0,EstandardMap0_per19)"
   ]
  },
  {
   "cell_type": "code",
   "execution_count": 59,
   "metadata": {},
   "outputs": [
    {
     "name": "stdout",
     "output_type": "stream",
     "text": [
      "periodo = "
     ]
    },
    {
     "data": {
      "text/plain": [
       "18.0"
      ]
     },
     "execution_count": 59,
     "metadata": {},
     "output_type": "execute_result"
    }
   ],
   "source": [
    "#periodo18\n",
    "periodo18E0 = periodicosN(EstandardMap0,simetria1v,simetria2f,9,1/18.0)\n",
    "Buscaperiodo(periodo18E0,EstandardMap0,1,1e-10)"
   ]
  },
  {
   "cell_type": "code",
   "execution_count": 60,
   "metadata": {},
   "outputs": [
    {
     "data": {
      "text/plain": [
       "2.220446049250313e-16"
      ]
     },
     "execution_count": 60,
     "metadata": {},
     "output_type": "execute_result"
    }
   ],
   "source": [
    "EstandardMap0_per18(v) =  composition(EstandardMap0,18)(v)\n",
    "Errorf(periodo18E0,EstandardMap0_per18)"
   ]
  },
  {
   "cell_type": "code",
   "execution_count": 61,
   "metadata": {},
   "outputs": [
    {
     "name": "stdout",
     "output_type": "stream",
     "text": [
      "periodo = "
     ]
    },
    {
     "data": {
      "text/plain": [
       "17.0"
      ]
     },
     "execution_count": 61,
     "metadata": {},
     "output_type": "execute_result"
    }
   ],
   "source": [
    "#periodo17\n",
    "periodo17E0 = periodicosN(EstandardMap0,simetria1v,simetria4f,9,1/17.0)\n",
    "Buscaperiodo(periodo17E0,EstandardMap0,1,1e-10)"
   ]
  },
  {
   "cell_type": "code",
   "execution_count": 62,
   "metadata": {},
   "outputs": [
    {
     "data": {
      "text/plain": [
       "0.0"
      ]
     },
     "execution_count": 62,
     "metadata": {},
     "output_type": "execute_result"
    }
   ],
   "source": [
    "EstandardMap0_per17(v) =  composition(EstandardMap0,17)(v)\n",
    "Errorf(periodo17E0,EstandardMap0_per17)"
   ]
  },
  {
   "cell_type": "code",
   "execution_count": 63,
   "metadata": {},
   "outputs": [
    {
     "name": "stdout",
     "output_type": "stream",
     "text": [
      "periodo = "
     ]
    },
    {
     "data": {
      "text/plain": [
       "16.0"
      ]
     },
     "execution_count": 63,
     "metadata": {},
     "output_type": "execute_result"
    }
   ],
   "source": [
    "#periodo16\n",
    "periodo16E0 = periodicosN(EstandardMap0,simetria3v,simetria4f,8,1/16.0)\n",
    "Buscaperiodo(periodo16E0,EstandardMap0,1,1e-10)"
   ]
  },
  {
   "cell_type": "code",
   "execution_count": 64,
   "metadata": {},
   "outputs": [
    {
     "data": {
      "text/plain": [
       "0.0"
      ]
     },
     "execution_count": 64,
     "metadata": {},
     "output_type": "execute_result"
    }
   ],
   "source": [
    "EstandardMap0_per16(v) =  composition(EstandardMap0,16)(v)\n",
    "Errorf(periodo16E0,EstandardMap0_per16)"
   ]
  },
  {
   "cell_type": "code",
   "execution_count": 65,
   "metadata": {},
   "outputs": [
    {
     "name": "stdout",
     "output_type": "stream",
     "text": [
      "periodo = "
     ]
    },
    {
     "data": {
      "text/plain": [
       "15.0"
      ]
     },
     "execution_count": 65,
     "metadata": {},
     "output_type": "execute_result"
    }
   ],
   "source": [
    "#periodo15\n",
    "periodo15E0 = periodicosN(EstandardMap0,simetria1v,simetria4f,8,1/15.0)\n",
    "Buscaperiodo(periodo15E0,EstandardMap0,1,1e-10)"
   ]
  },
  {
   "cell_type": "code",
   "execution_count": 66,
   "metadata": {},
   "outputs": [
    {
     "data": {
      "text/plain": [
       "1.1102230246251565e-16"
      ]
     },
     "execution_count": 66,
     "metadata": {},
     "output_type": "execute_result"
    }
   ],
   "source": [
    "EstandardMap0_per15(v) =  composition(EstandardMap0,15)(v)\n",
    "Errorf(periodo15E0,EstandardMap0_per15)"
   ]
  },
  {
   "cell_type": "code",
   "execution_count": 67,
   "metadata": {},
   "outputs": [
    {
     "name": "stdout",
     "output_type": "stream",
     "text": [
      "periodo = "
     ]
    },
    {
     "data": {
      "text/plain": [
       "14.0"
      ]
     },
     "execution_count": 67,
     "metadata": {},
     "output_type": "execute_result"
    }
   ],
   "source": [
    "#periodo14\n",
    "periodo14E0 = periodicosN(EstandardMap0,simetria1v,simetria2f,7,1/14.0)\n",
    "Buscaperiodo(periodo14E0,EstandardMap0,1,1e-10)"
   ]
  },
  {
   "cell_type": "code",
   "execution_count": 68,
   "metadata": {},
   "outputs": [
    {
     "data": {
      "text/plain": [
       "3.3306690738754696e-16"
      ]
     },
     "execution_count": 68,
     "metadata": {},
     "output_type": "execute_result"
    }
   ],
   "source": [
    "EstandardMap0_per14(v) =  composition(EstandardMap0,14)(v)\n",
    "Errorf(periodo14E0,EstandardMap0_per14)"
   ]
  },
  {
   "cell_type": "code",
   "execution_count": 69,
   "metadata": {},
   "outputs": [
    {
     "name": "stdout",
     "output_type": "stream",
     "text": [
      "periodo = "
     ]
    },
    {
     "data": {
      "text/plain": [
       "13.0"
      ]
     },
     "execution_count": 69,
     "metadata": {},
     "output_type": "execute_result"
    }
   ],
   "source": [
    "#periodo13\n",
    "periodo13E0 = periodicosN(EstandardMap0,simetria1v,simetria4f,7,1/13.0)\n",
    "Buscaperiodo(periodo13E0,EstandardMap0,1,1e-10)"
   ]
  },
  {
   "cell_type": "code",
   "execution_count": 70,
   "metadata": {},
   "outputs": [
    {
     "data": {
      "text/plain": [
       "2.220446049250313e-16"
      ]
     },
     "execution_count": 70,
     "metadata": {},
     "output_type": "execute_result"
    }
   ],
   "source": [
    "EstandardMap0_per13(v) =  composition(EstandardMap0,13)(v)\n",
    "Errorf(periodo13E0,EstandardMap0_per13)"
   ]
  },
  {
   "cell_type": "code",
   "execution_count": 71,
   "metadata": {},
   "outputs": [
    {
     "name": "stdout",
     "output_type": "stream",
     "text": [
      "periodo = "
     ]
    },
    {
     "data": {
      "text/plain": [
       "12.0"
      ]
     },
     "execution_count": 71,
     "metadata": {},
     "output_type": "execute_result"
    }
   ],
   "source": [
    "#periodo12\n",
    "periodo12E0 = periodicosN(EstandardMap0,simetria1v,simetria2f,6,1/12.0)\n",
    "Buscaperiodo(periodo12E0,EstandardMap0,1,1e-10)"
   ]
  },
  {
   "cell_type": "code",
   "execution_count": 72,
   "metadata": {},
   "outputs": [
    {
     "data": {
      "text/plain": [
       "0.0"
      ]
     },
     "execution_count": 72,
     "metadata": {},
     "output_type": "execute_result"
    }
   ],
   "source": [
    "EstandardMap0_per12(v) =  composition(EstandardMap0,12)(v)\n",
    "Errorf(periodo12E0,EstandardMap0_per12)"
   ]
  },
  {
   "cell_type": "code",
   "execution_count": 73,
   "metadata": {},
   "outputs": [
    {
     "name": "stdout",
     "output_type": "stream",
     "text": [
      "periodo = "
     ]
    },
    {
     "data": {
      "text/plain": [
       "10.0"
      ]
     },
     "execution_count": 73,
     "metadata": {},
     "output_type": "execute_result"
    }
   ],
   "source": [
    "#periodo10\n",
    "periodo10E0 = periodicosN(EstandardMap0,simetria1v,simetria2f,5,1/10.0)\n",
    "Buscaperiodo(periodo10E0,EstandardMap0,1,1e-10)"
   ]
  },
  {
   "cell_type": "code",
   "execution_count": 74,
   "metadata": {},
   "outputs": [
    {
     "data": {
      "text/plain": [
       "1.1102230246251565e-16"
      ]
     },
     "execution_count": 74,
     "metadata": {},
     "output_type": "execute_result"
    }
   ],
   "source": [
    "EstandardMap0_per10(v) =  composition(EstandardMap0,10)(v)\n",
    "Errorf(periodo10E0,EstandardMap0_per10)"
   ]
  },
  {
   "cell_type": "code",
   "execution_count": 75,
   "metadata": {},
   "outputs": [
    {
     "name": "stdout",
     "output_type": "stream",
     "text": [
      "periodo = "
     ]
    },
    {
     "data": {
      "text/plain": [
       "90.0"
      ]
     },
     "execution_count": 75,
     "metadata": {},
     "output_type": "execute_result"
    }
   ],
   "source": [
    "#periodo 90 con ep 0.01\n",
    "#tome la semilla del punto de periodo 90 en el mapeo con ep =0\n",
    "periodo90E1 = periodicosN(EstandardMap1,simetria1v,simetria2f,45,0.010989010989010985)\n",
    "Buscaperiodo(periodo90E1,EstandardMap1,1,1e-10)"
   ]
  },
  {
   "cell_type": "code",
   "execution_count": 76,
   "metadata": {},
   "outputs": [
    {
     "data": {
      "text/plain": [
       "3.885780586188048e-14"
      ]
     },
     "execution_count": 76,
     "metadata": {},
     "output_type": "execute_result"
    }
   ],
   "source": [
    "EstandardMap1_per90(v) =  composition(EstandardMap1,90)(v)\n",
    "Errorf(periodo90E1,EstandardMap1_per90)"
   ]
  },
  {
   "cell_type": "markdown",
   "metadata": {},
   "source": [
    "🔵 Aqui vemos que comparado con el error de la órbita de periodo 90 con epsilon igual a 0 si hay una gran diferencia. "
   ]
  },
  {
   "cell_type": "code",
   "execution_count": 77,
   "metadata": {},
   "outputs": [
    {
     "name": "stdout",
     "output_type": "stream",
     "text": [
      "periodo = "
     ]
    },
    {
     "data": {
      "text/plain": [
       "80.0"
      ]
     },
     "execution_count": 77,
     "metadata": {},
     "output_type": "execute_result"
    }
   ],
   "source": [
    "#periodo 80 con ep 0.01\n",
    "#tome la semilla del punto de periodo 80 en el mapeo con ep =0\n",
    "periodo80E1 = periodicosN(EstandardMap1,simetria1v,simetria2f,40,periodo80E0[2])\n",
    "Buscaperiodo(periodo80E1,EstandardMap1,1,1e-10)"
   ]
  },
  {
   "cell_type": "code",
   "execution_count": 78,
   "metadata": {},
   "outputs": [
    {
     "data": {
      "text/plain": [
       "7.438494264988549e-15"
      ]
     },
     "execution_count": 78,
     "metadata": {},
     "output_type": "execute_result"
    }
   ],
   "source": [
    "EstandardMap1_per80(v) =  composition(EstandardMap1,80)(v)\n",
    "Errorf(periodo80E1,EstandardMap1_per80)"
   ]
  },
  {
   "cell_type": "code",
   "execution_count": 79,
   "metadata": {},
   "outputs": [
    {
     "name": "stdout",
     "output_type": "stream",
     "text": [
      "periodo = "
     ]
    },
    {
     "data": {
      "text/plain": [
       "79.0"
      ]
     },
     "execution_count": 79,
     "metadata": {},
     "output_type": "execute_result"
    }
   ],
   "source": [
    "#periodo 79 con ep 0.01\n",
    "#tome la semilla del punto de periodo 80 en el mapeo con ep =0\n",
    "periodo79E1 = periodicosN(EstandardMap1,simetria1v,simetria4f,40,periodo79E0[2])\n",
    "Buscaperiodo(periodo79E1,EstandardMap1,1,1e-10)"
   ]
  },
  {
   "cell_type": "code",
   "execution_count": 80,
   "metadata": {},
   "outputs": [
    {
     "data": {
      "text/plain": [
       "9.103828801926284e-15"
      ]
     },
     "execution_count": 80,
     "metadata": {},
     "output_type": "execute_result"
    }
   ],
   "source": [
    "EstandardMap1_per79(v) =  composition(EstandardMap1,79)(v)\n",
    "Errorf(periodo79E1,EstandardMap1_per79)"
   ]
  },
  {
   "cell_type": "code",
   "execution_count": 81,
   "metadata": {},
   "outputs": [
    {
     "name": "stdout",
     "output_type": "stream",
     "text": [
      "periodo = "
     ]
    },
    {
     "data": {
      "text/plain": [
       "60.0"
      ]
     },
     "execution_count": 81,
     "metadata": {},
     "output_type": "execute_result"
    }
   ],
   "source": [
    "#periodo 60 con ep 0.01\n",
    "#tome la semilla del punto de periodo 60 en el mapeo con ep =0\n",
    "periodo60E1 = periodicosN(EstandardMap1,simetria1v,simetria2f,30,periodo60E0[2])\n",
    "Buscaperiodo(periodo60E1,EstandardMap1,1,1e-10)"
   ]
  },
  {
   "cell_type": "code",
   "execution_count": 82,
   "metadata": {},
   "outputs": [
    {
     "data": {
      "text/plain": [
       "4.551914400963142e-15"
      ]
     },
     "execution_count": 82,
     "metadata": {},
     "output_type": "execute_result"
    }
   ],
   "source": [
    "EstandardMap1_per60(v) =  composition(EstandardMap1,60)(v)\n",
    "Errorf(periodo60E1,EstandardMap1_per60)"
   ]
  },
  {
   "cell_type": "code",
   "execution_count": 83,
   "metadata": {},
   "outputs": [
    {
     "name": "stdout",
     "output_type": "stream",
     "text": [
      "periodo = "
     ]
    },
    {
     "data": {
      "text/plain": [
       "59.0"
      ]
     },
     "execution_count": 83,
     "metadata": {},
     "output_type": "execute_result"
    }
   ],
   "source": [
    "#periodo 59 con ep 0.01\n",
    "#tome la semilla del punto de periodo 59 en el mapeo con ep =0\n",
    "periodo59E1 = periodicosN(EstandardMap1,simetria1v,simetria4f,30,periodo59E0[2])\n",
    "Buscaperiodo(periodo59E1,EstandardMap1,1,1e-10)"
   ]
  },
  {
   "cell_type": "code",
   "execution_count": 84,
   "metadata": {},
   "outputs": [
    {
     "data": {
      "text/plain": [
       "6.439293542825908e-15"
      ]
     },
     "execution_count": 84,
     "metadata": {},
     "output_type": "execute_result"
    }
   ],
   "source": [
    "EstandardMap1_per59(v) =  composition(EstandardMap1,59)(v)\n",
    "Errorf(periodo59E1,EstandardMap1_per59)"
   ]
  },
  {
   "cell_type": "code",
   "execution_count": 85,
   "metadata": {},
   "outputs": [
    {
     "name": "stdout",
     "output_type": "stream",
     "text": [
      "periodo = "
     ]
    },
    {
     "data": {
      "text/plain": [
       "50.0"
      ]
     },
     "execution_count": 85,
     "metadata": {},
     "output_type": "execute_result"
    }
   ],
   "source": [
    "#periodo 50 con ep 0.01\n",
    "#tome la semilla del punto de periodo 50 en el mapeo con ep =0\n",
    "periodo50E1 = periodicosN(EstandardMap1,simetria1v,simetria2f,25,periodo50E0[2])\n",
    "Buscaperiodo(periodo50E1,EstandardMap1,1,1e-10)"
   ]
  },
  {
   "cell_type": "code",
   "execution_count": 86,
   "metadata": {},
   "outputs": [
    {
     "data": {
      "text/plain": [
       "2.6645352591003757e-15"
      ]
     },
     "execution_count": 86,
     "metadata": {},
     "output_type": "execute_result"
    }
   ],
   "source": [
    "EstandardMap1_per50(v) =  composition(EstandardMap1,50)(v)\n",
    "Errorf(periodo50E1,EstandardMap1_per50)"
   ]
  },
  {
   "cell_type": "code",
   "execution_count": 87,
   "metadata": {},
   "outputs": [
    {
     "name": "stdout",
     "output_type": "stream",
     "text": [
      "periodo = "
     ]
    },
    {
     "data": {
      "text/plain": [
       "49.0"
      ]
     },
     "execution_count": 87,
     "metadata": {},
     "output_type": "execute_result"
    }
   ],
   "source": [
    "#periodo 49 con ep 0.01\n",
    "#tome la semilla del punto de periodo 50 en el mapeo con ep =0\n",
    "periodo49E1 = periodicosN(EstandardMap1,simetria1v,simetria4f,25,periodo49E0[2])\n",
    "Buscaperiodo(periodo49E1,EstandardMap1,1,1e-10)"
   ]
  },
  {
   "cell_type": "code",
   "execution_count": 88,
   "metadata": {},
   "outputs": [
    {
     "data": {
      "text/plain": [
       "1.7763568394002505e-15"
      ]
     },
     "execution_count": 88,
     "metadata": {},
     "output_type": "execute_result"
    }
   ],
   "source": [
    "EstandardMap1_per49(v) =  composition(EstandardMap1,49)(v)\n",
    "Errorf(periodo49E1,EstandardMap1_per49)"
   ]
  },
  {
   "cell_type": "code",
   "execution_count": 89,
   "metadata": {},
   "outputs": [
    {
     "name": "stdout",
     "output_type": "stream",
     "text": [
      "periodo = "
     ]
    },
    {
     "data": {
      "text/plain": [
       "40.0"
      ]
     },
     "execution_count": 89,
     "metadata": {},
     "output_type": "execute_result"
    }
   ],
   "source": [
    "#periodo 40 con ep 0.01\n",
    "#tome la semilla del punto de periodo 40 en el mapeo con ep =0\n",
    "periodo40E1 = periodicosN(EstandardMap1,simetria1v,simetria2f,20,periodo40E0[2])\n",
    "Buscaperiodo(periodo40E1,EstandardMap1,1,1e-10)"
   ]
  },
  {
   "cell_type": "code",
   "execution_count": 90,
   "metadata": {},
   "outputs": [
    {
     "data": {
      "text/plain": [
       "1.3322676295501878e-15"
      ]
     },
     "execution_count": 90,
     "metadata": {},
     "output_type": "execute_result"
    }
   ],
   "source": [
    "EstandardMap1_per40(v) =  composition(EstandardMap1,40)(v)\n",
    "Errorf(periodo40E1,EstandardMap1_per40)"
   ]
  },
  {
   "cell_type": "code",
   "execution_count": 91,
   "metadata": {},
   "outputs": [
    {
     "name": "stdout",
     "output_type": "stream",
     "text": [
      "periodo = "
     ]
    },
    {
     "data": {
      "text/plain": [
       "39.0"
      ]
     },
     "execution_count": 91,
     "metadata": {},
     "output_type": "execute_result"
    }
   ],
   "source": [
    "#periodo 39 con ep 0.01\n",
    "#tome la semilla del punto de periodo 40 en el mapeo con ep =0\n",
    "periodo39E1 = periodicosN(EstandardMap1,simetria1v,simetria4f,20,periodo39E0[2])\n",
    "Buscaperiodo(periodo39E1,EstandardMap1,1,1e-10)"
   ]
  },
  {
   "cell_type": "code",
   "execution_count": 92,
   "metadata": {},
   "outputs": [
    {
     "data": {
      "text/plain": [
       "2.220446049250313e-16"
      ]
     },
     "execution_count": 92,
     "metadata": {},
     "output_type": "execute_result"
    }
   ],
   "source": [
    "EstandardMap1_per39(v) =  composition(EstandardMap1,39)(v)\n",
    "Errorf(periodo39E1,EstandardMap1_per39)"
   ]
  },
  {
   "cell_type": "code",
   "execution_count": 93,
   "metadata": {},
   "outputs": [
    {
     "name": "stdout",
     "output_type": "stream",
     "text": [
      "periodo = "
     ]
    },
    {
     "data": {
      "text/plain": [
       "30.0"
      ]
     },
     "execution_count": 93,
     "metadata": {},
     "output_type": "execute_result"
    }
   ],
   "source": [
    "#periodo 30 con ep 0.01\n",
    "#tome la semilla del punto de periodo 40 en el mapeo con ep =0\n",
    "periodo30E1 = periodicosN(EstandardMap1,simetria1v,simetria2f,15,periodo30E0[2])\n",
    "Buscaperiodo(periodo30E1,EstandardMap1,1,1e-10)"
   ]
  },
  {
   "cell_type": "code",
   "execution_count": 94,
   "metadata": {},
   "outputs": [
    {
     "data": {
      "text/plain": [
       "2.220446049250313e-16"
      ]
     },
     "execution_count": 94,
     "metadata": {},
     "output_type": "execute_result"
    }
   ],
   "source": [
    "EstandardMap1_per30(v) =  composition(EstandardMap1,30)(v)\n",
    "Errorf(periodo30E1,EstandardMap1_per30)"
   ]
  },
  {
   "cell_type": "code",
   "execution_count": 95,
   "metadata": {},
   "outputs": [
    {
     "name": "stdout",
     "output_type": "stream",
     "text": [
      "periodo = "
     ]
    },
    {
     "data": {
      "text/plain": [
       "29.0"
      ]
     },
     "execution_count": 95,
     "metadata": {},
     "output_type": "execute_result"
    }
   ],
   "source": [
    "#periodo 29 con ep 0.01\n",
    "#tome la semilla del punto de periodo 40 en el mapeo con ep =0\n",
    "periodo29E1 = periodicosN(EstandardMap1,simetria1v,simetria4f,15,periodo29E0[2])\n",
    "Buscaperiodo(periodo29E1,EstandardMap1,1,1e-10)"
   ]
  },
  {
   "cell_type": "code",
   "execution_count": 96,
   "metadata": {},
   "outputs": [
    {
     "data": {
      "text/plain": [
       "1.1102230246251565e-16"
      ]
     },
     "execution_count": 96,
     "metadata": {},
     "output_type": "execute_result"
    }
   ],
   "source": [
    "EstandardMap1_per29(v) =  composition(EstandardMap1,29)(v)\n",
    "Errorf(periodo29E1,EstandardMap1_per29)"
   ]
  },
  {
   "cell_type": "code",
   "execution_count": 97,
   "metadata": {},
   "outputs": [
    {
     "name": "stdout",
     "output_type": "stream",
     "text": [
      "periodo = "
     ]
    },
    {
     "data": {
      "text/plain": [
       "26.0"
      ]
     },
     "execution_count": 97,
     "metadata": {},
     "output_type": "execute_result"
    }
   ],
   "source": [
    "#periodo 26 con ep 0.01\n",
    "#tome la semilla del punto de periodo 40 en el mapeo con ep =0\n",
    "periodo26E1 = periodicosN(EstandardMap1,simetria1v,simetria2f,13,periodo20E0[2])\n",
    "Buscaperiodo(periodo26E1,EstandardMap1,1,1e-10)"
   ]
  },
  {
   "cell_type": "code",
   "execution_count": 98,
   "metadata": {},
   "outputs": [
    {
     "data": {
      "text/plain": [
       "0.0"
      ]
     },
     "execution_count": 98,
     "metadata": {},
     "output_type": "execute_result"
    }
   ],
   "source": [
    "EstandardMap1_per26(v) =  composition(EstandardMap1,26)(v)\n",
    "Errorf(periodo26E1,EstandardMap1_per26)"
   ]
  },
  {
   "cell_type": "code",
   "execution_count": 99,
   "metadata": {},
   "outputs": [
    {
     "name": "stdout",
     "output_type": "stream",
     "text": [
      "periodo = "
     ]
    },
    {
     "data": {
      "text/plain": [
       "24.0"
      ]
     },
     "execution_count": 99,
     "metadata": {},
     "output_type": "execute_result"
    }
   ],
   "source": [
    "#periodo 26 con ep 0.01\n",
    "#tome la semilla del punto de periodo 40 en el mapeo con ep =0\n",
    "periodo24E1 = periodicosN(EstandardMap1,simetria1v,simetria2f,12,periodo20E0[2])\n",
    "Buscaperiodo(periodo24E1,EstandardMap1,1,1e-10)"
   ]
  },
  {
   "cell_type": "code",
   "execution_count": 100,
   "metadata": {},
   "outputs": [
    {
     "data": {
      "text/plain": [
       "2.220446049250313e-16"
      ]
     },
     "execution_count": 100,
     "metadata": {},
     "output_type": "execute_result"
    }
   ],
   "source": [
    "EstandardMap1_per24(v) =  composition(EstandardMap1,24)(v)\n",
    "Errorf(periodo24E1,EstandardMap1_per24)"
   ]
  },
  {
   "cell_type": "code",
   "execution_count": 101,
   "metadata": {},
   "outputs": [
    {
     "name": "stdout",
     "output_type": "stream",
     "text": [
      "periodo = "
     ]
    },
    {
     "data": {
      "text/plain": [
       "20.0"
      ]
     },
     "execution_count": 101,
     "metadata": {},
     "output_type": "execute_result"
    }
   ],
   "source": [
    "#periodo 20 con ep 0.01\n",
    "#tome la semilla del punto de periodo 40 en el mapeo con ep =0\n",
    "periodo20E1 = periodicosN(EstandardMap1,simetria1v,simetria2f,10,periodo20E0[2])\n",
    "Buscaperiodo(periodo20E1,EstandardMap1,1,1e-10)"
   ]
  },
  {
   "cell_type": "code",
   "execution_count": 102,
   "metadata": {},
   "outputs": [
    {
     "data": {
      "text/plain": [
       "1.5543122344752192e-15"
      ]
     },
     "execution_count": 102,
     "metadata": {},
     "output_type": "execute_result"
    }
   ],
   "source": [
    "EstandardMap1_per20(v) =  composition(EstandardMap1,20)(v)\n",
    "Errorf(periodo20E1,EstandardMap1_per20)"
   ]
  },
  {
   "cell_type": "code",
   "execution_count": 103,
   "metadata": {},
   "outputs": [
    {
     "name": "stdout",
     "output_type": "stream",
     "text": [
      "periodo = "
     ]
    },
    {
     "data": {
      "text/plain": [
       "19.0"
      ]
     },
     "execution_count": 103,
     "metadata": {},
     "output_type": "execute_result"
    }
   ],
   "source": [
    "#periodo 20 con ep 0.01\n",
    "#tome la semilla del punto de periodo 40 en el mapeo con ep =0\n",
    "periodo19E1 = periodicosN(EstandardMap1,simetria1v,simetria4f,10,periodo19E0[2])\n",
    "Buscaperiodo(periodo19E1,EstandardMap1,1,1e-10)"
   ]
  },
  {
   "cell_type": "code",
   "execution_count": 104,
   "metadata": {},
   "outputs": [
    {
     "data": {
      "text/plain": [
       "2.220446049250313e-16"
      ]
     },
     "execution_count": 104,
     "metadata": {},
     "output_type": "execute_result"
    }
   ],
   "source": [
    "EstandardMap1_per19(v) =  composition(EstandardMap1,19)(v)\n",
    "Errorf(periodo19E1,EstandardMap1_per19)"
   ]
  },
  {
   "cell_type": "code",
   "execution_count": 105,
   "metadata": {},
   "outputs": [
    {
     "name": "stdout",
     "output_type": "stream",
     "text": [
      "periodo = "
     ]
    },
    {
     "data": {
      "text/plain": [
       "18.0"
      ]
     },
     "execution_count": 105,
     "metadata": {},
     "output_type": "execute_result"
    }
   ],
   "source": [
    "#periodo 20 con ep 0.01\n",
    "#tome la semilla del punto de periodo 40 en el mapeo con ep =0\n",
    "periodo18E1 = periodicosN(EstandardMap1,simetria1v,simetria2f,9,periodo18E0[2])\n",
    "Buscaperiodo(periodo18E1,EstandardMap1,1,1e-10)"
   ]
  },
  {
   "cell_type": "code",
   "execution_count": 106,
   "metadata": {},
   "outputs": [
    {
     "data": {
      "text/plain": [
       "4.440892098500626e-16"
      ]
     },
     "execution_count": 106,
     "metadata": {},
     "output_type": "execute_result"
    }
   ],
   "source": [
    "EstandardMap1_per18(v) =  composition(EstandardMap1,18)(v)\n",
    "Errorf(periodo18E1,EstandardMap1_per18)"
   ]
  },
  {
   "cell_type": "code",
   "execution_count": 107,
   "metadata": {},
   "outputs": [
    {
     "name": "stdout",
     "output_type": "stream",
     "text": [
      "periodo = "
     ]
    },
    {
     "data": {
      "text/plain": [
       "17.0"
      ]
     },
     "execution_count": 107,
     "metadata": {},
     "output_type": "execute_result"
    }
   ],
   "source": [
    "#periodo 17 con ep 0.01\n",
    "#tome la semilla del punto de periodo 40 en el mapeo con ep =0\n",
    "periodo17E1 = periodicosN(EstandardMap1,simetria1v,simetria4f,9,periodo17E0[2])\n",
    "Buscaperiodo(periodo17E1,EstandardMap1,1,1e-10)"
   ]
  },
  {
   "cell_type": "code",
   "execution_count": 108,
   "metadata": {},
   "outputs": [
    {
     "data": {
      "text/plain": [
       "0.0"
      ]
     },
     "execution_count": 108,
     "metadata": {},
     "output_type": "execute_result"
    }
   ],
   "source": [
    "EstandardMap1_per17(v) =  composition(EstandardMap1,17)(v)\n",
    "Errorf(periodo17E1,EstandardMap1_per17)"
   ]
  },
  {
   "cell_type": "code",
   "execution_count": 109,
   "metadata": {},
   "outputs": [
    {
     "name": "stdout",
     "output_type": "stream",
     "text": [
      "periodo = "
     ]
    },
    {
     "data": {
      "text/plain": [
       "16.0"
      ]
     },
     "execution_count": 109,
     "metadata": {},
     "output_type": "execute_result"
    }
   ],
   "source": [
    "#periodo 16 con ep 0.01\n",
    "#tome la semilla del punto de periodo 40 en el mapeo con ep =0\n",
    "periodo16E1 = periodicosN(EstandardMap1,simetria1v,simetria2f,8,periodo16E0[2])\n",
    "Buscaperiodo(periodo16E1,EstandardMap1,1,1e-10)"
   ]
  },
  {
   "cell_type": "code",
   "execution_count": 110,
   "metadata": {},
   "outputs": [
    {
     "data": {
      "text/plain": [
       "4.440892098500626e-16"
      ]
     },
     "execution_count": 110,
     "metadata": {},
     "output_type": "execute_result"
    }
   ],
   "source": [
    "EstandardMap1_per16(v) =  composition(EstandardMap1,16)(v)\n",
    "Errorf(periodo16E1,EstandardMap1_per16)"
   ]
  },
  {
   "cell_type": "code",
   "execution_count": 111,
   "metadata": {},
   "outputs": [
    {
     "name": "stdout",
     "output_type": "stream",
     "text": [
      "periodo = "
     ]
    },
    {
     "data": {
      "text/plain": [
       "15.0"
      ]
     },
     "execution_count": 111,
     "metadata": {},
     "output_type": "execute_result"
    }
   ],
   "source": [
    "#periodo 15 con ep 0.01\n",
    "#tome la semilla del punto de periodo 40 en el mapeo con ep =0\n",
    "periodo15E1 = periodicosN(EstandardMap1,simetria1v,simetria4f,8,periodo15E0[2])\n",
    "Buscaperiodo(periodo15E1,EstandardMap1,1,1e-10)"
   ]
  },
  {
   "cell_type": "code",
   "execution_count": 112,
   "metadata": {},
   "outputs": [
    {
     "data": {
      "text/plain": [
       "2.220446049250313e-16"
      ]
     },
     "execution_count": 112,
     "metadata": {},
     "output_type": "execute_result"
    }
   ],
   "source": [
    "EstandardMap1_per15(v) =  composition(EstandardMap1,15)(v)\n",
    "Errorf(periodo15E1,EstandardMap1_per15)"
   ]
  },
  {
   "cell_type": "code",
   "execution_count": 113,
   "metadata": {},
   "outputs": [
    {
     "name": "stdout",
     "output_type": "stream",
     "text": [
      "periodo = "
     ]
    },
    {
     "data": {
      "text/plain": [
       "14.0"
      ]
     },
     "execution_count": 113,
     "metadata": {},
     "output_type": "execute_result"
    }
   ],
   "source": [
    "#periodo 14 con ep 0.01\n",
    "#tome la semilla del punto de periodo 40 en el mapeo con ep =0\n",
    "periodo14E1 = periodicosN(EstandardMap1,simetria1v,simetria2f,7,periodo14E0[2])\n",
    "Buscaperiodo(periodo14E1,EstandardMap1,1,1e-10)"
   ]
  },
  {
   "cell_type": "code",
   "execution_count": 114,
   "metadata": {},
   "outputs": [
    {
     "data": {
      "text/plain": [
       "1.1102230246251565e-16"
      ]
     },
     "execution_count": 114,
     "metadata": {},
     "output_type": "execute_result"
    }
   ],
   "source": [
    "EstandardMap1_per14(v) =  composition(EstandardMap1,14)(v)\n",
    "Errorf(periodo14E1,EstandardMap1_per14)"
   ]
  },
  {
   "cell_type": "code",
   "execution_count": 115,
   "metadata": {},
   "outputs": [
    {
     "name": "stdout",
     "output_type": "stream",
     "text": [
      "periodo = "
     ]
    },
    {
     "data": {
      "text/plain": [
       "13.0"
      ]
     },
     "execution_count": 115,
     "metadata": {},
     "output_type": "execute_result"
    }
   ],
   "source": [
    "#periodo 14 con ep 0.01\n",
    "#tome la semilla del punto de periodo 40 en el mapeo con ep =0\n",
    "periodo13E1 = periodicosN(EstandardMap1,simetria1v,simetria4f,7,periodo13E0[2])\n",
    "Buscaperiodo(periodo13E1,EstandardMap1,1,1e-10)"
   ]
  },
  {
   "cell_type": "code",
   "execution_count": 116,
   "metadata": {},
   "outputs": [
    {
     "data": {
      "text/plain": [
       "2.220446049250313e-16"
      ]
     },
     "execution_count": 116,
     "metadata": {},
     "output_type": "execute_result"
    }
   ],
   "source": [
    "EstandardMap1_per13(v) =  composition(EstandardMap1,13)(v)\n",
    "Errorf(periodo13E1,EstandardMap1_per13)"
   ]
  },
  {
   "cell_type": "code",
   "execution_count": 117,
   "metadata": {},
   "outputs": [
    {
     "name": "stdout",
     "output_type": "stream",
     "text": [
      "periodo = "
     ]
    },
    {
     "data": {
      "text/plain": [
       "12.0"
      ]
     },
     "execution_count": 117,
     "metadata": {},
     "output_type": "execute_result"
    }
   ],
   "source": [
    "#periodo 12 con ep 0.01\n",
    "#tome la semilla del punto de periodo 40 en el mapeo con ep =0\n",
    "periodo12E1 = periodicosN(EstandardMap1,simetria1v,simetria2f,6,periodo12E0[2])\n",
    "Buscaperiodo(periodo12E1,EstandardMap1,1,1e-10)"
   ]
  },
  {
   "cell_type": "code",
   "execution_count": 118,
   "metadata": {},
   "outputs": [
    {
     "data": {
      "text/plain": [
       "0.0"
      ]
     },
     "execution_count": 118,
     "metadata": {},
     "output_type": "execute_result"
    }
   ],
   "source": [
    "EstandardMap1_per12(v) =  composition(EstandardMap1,12)(v)\n",
    "Errorf(periodo12E1,EstandardMap1_per12)"
   ]
  },
  {
   "cell_type": "code",
   "execution_count": 119,
   "metadata": {},
   "outputs": [
    {
     "name": "stdout",
     "output_type": "stream",
     "text": [
      "periodo = "
     ]
    },
    {
     "data": {
      "text/plain": [
       "10.0"
      ]
     },
     "execution_count": 119,
     "metadata": {},
     "output_type": "execute_result"
    }
   ],
   "source": [
    "#periodo 11 con ep 0.01\n",
    "#tome la semilla del punto de periodo 40 en el mapeo con ep =0\n",
    "periodo10E1 = periodicosN(EstandardMap1,simetria1v,simetria2f,5,periodo10E0[2])\n",
    "Buscaperiodo(periodo10E1,EstandardMap1,1,1e-10)"
   ]
  },
  {
   "cell_type": "code",
   "execution_count": 120,
   "metadata": {},
   "outputs": [
    {
     "data": {
      "text/plain": [
       "0.0"
      ]
     },
     "execution_count": 120,
     "metadata": {},
     "output_type": "execute_result"
    }
   ],
   "source": [
    "EstandardMap1_per10(v) =  composition(EstandardMap1,10)(v)\n",
    "Errorf(periodo10E1,EstandardMap1_per10)"
   ]
  },
  {
   "cell_type": "markdown",
   "metadata": {},
   "source": [
    "🔷 Ahora ya podemos elegir las órbitas que son hiperbólicas y aplicarles el método de parametrización. "
   ]
  },
  {
   "cell_type": "markdown",
   "metadata": {},
   "source": [
    "### Para hacer eso creo una funcion que determina la estabilidad"
   ]
  },
  {
   "cell_type": "code",
   "execution_count": 121,
   "metadata": {},
   "outputs": [],
   "source": [
    "using SymPy"
   ]
  },
  {
   "cell_type": "code",
   "execution_count": 122,
   "metadata": {},
   "outputs": [
    {
     "data": {
      "text/latex": [
       "\\begin{equation*}y\\end{equation*}"
      ],
      "text/plain": [
       "y"
      ]
     },
     "execution_count": 122,
     "metadata": {},
     "output_type": "execute_result"
    }
   ],
   "source": [
    "x = symbols(\"x\")\n",
    "y = symbols(\"y\")"
   ]
  },
  {
   "cell_type": "code",
   "execution_count": 123,
   "metadata": {},
   "outputs": [
    {
     "data": {
      "text/plain": [
       "jacobianosym (generic function with 1 method)"
      ]
     },
     "execution_count": 123,
     "metadata": {},
     "output_type": "execute_result"
    }
   ],
   "source": [
    "function jacobianosym(func)\n",
    "    x = symbols(\"x\")\n",
    "    y = symbols(\"y\")\n",
    "    X = func\n",
    "    Y = [x,y]\n",
    "    j = X.jacobian(Y)\n",
    "    return j\n",
    "end\n",
    "    \n",
    "        \n",
    "    "
   ]
  },
  {
   "cell_type": "code",
   "execution_count": 140,
   "metadata": {},
   "outputs": [
    {
     "data": {
      "text/plain": [
       "jacobianeval (generic function with 1 method)"
      ]
     },
     "execution_count": 140,
     "metadata": {},
     "output_type": "execute_result"
    }
   ],
   "source": [
    "function jacobianeval(jacobiano,punto)\n",
    "    #N(subs(subs(X.jacobian(Y)[4],phi,1),rho,1))\n",
    "    m1 = N(subs(subs(jacobiano[1],x,punto[1]),y,punto[2]))\n",
    "    m2 = N(subs(subs(jacobiano[2],x,punto[1]),y,punto[2]))\n",
    "    m3 = N(subs(subs(jacobiano[3],x,punto[1]),y,punto[2]))\n",
    "    m4 = N(subs(subs(jacobiano[4],x,punto[1]),y,punto[2]))\n",
    "    return [[m1 m2];[m3 m4]]\n",
    "end"
   ]
  },
  {
   "cell_type": "code",
   "execution_count": 141,
   "metadata": {},
   "outputs": [
    {
     "data": {
      "text/plain": [
       "determinaestabilidad (generic function with 1 method)"
      ]
     },
     "execution_count": 141,
     "metadata": {},
     "output_type": "execute_result"
    }
   ],
   "source": [
    "function determinaestabilidad(punto,funcv,mapeo,n)\n",
    "    jacobi = jacobianosym(funcv)\n",
    "    m = Matrix(I,2,2)\n",
    "    for i in 1:n\n",
    "        m_n = jacobianeval(jacobi, punto)\n",
    "        punto = mapeo(punto)\n",
    "        m = m*m_n\n",
    "    end\n",
    "    E = eigen(m)\n",
    "    values1 = [abs(E.values[1]),abs(E.values[2])]\n",
    "    values1 = sort(values1)\n",
    "    if (abs(values1[1])<1) && (abs(values1[2])>1)\n",
    "        print(\"el punto es hiperbólico\")\n",
    "    else\n",
    "        print(\"el punto no es hiperbólico\")\n",
    "    end\n",
    "    return E\n",
    "end\n",
    "         "
   ]
  },
  {
   "cell_type": "markdown",
   "metadata": {},
   "source": [
    "probamos con una funcion"
   ]
  },
  {
   "cell_type": "code",
   "execution_count": 142,
   "metadata": {},
   "outputs": [
    {
     "data": {
      "text/plain": [
       "fff (generic function with 1 method)"
      ]
     },
     "execution_count": 142,
     "metadata": {},
     "output_type": "execute_result"
    }
   ],
   "source": [
    "fff(v) = [v[1]*v[2]+2*v[1],3*v[1]-6*v[2]^2]"
   ]
  },
  {
   "cell_type": "code",
   "execution_count": 143,
   "metadata": {},
   "outputs": [
    {
     "name": "stdout",
     "output_type": "stream",
     "text": [
      "el punto es hiperbólico  2.725667 seconds (8.00 M allocations: 387.565 MiB, 3.77% gc time)\n"
     ]
    },
    {
     "data": {
      "text/plain": [
       "Eigen{Float64,Float64,Array{Float64,2},Array{Float64,1}}\n",
       "values:\n",
       "2-element Array{Float64,1}:\n",
       " 0.0\n",
       " 1.125899906842624e15\n",
       "vectors:\n",
       "2×2 Array{Float64,2}:\n",
       " -0.83205  1.0\n",
       "  0.5547   0.0"
      ]
     },
     "execution_count": 143,
     "metadata": {},
     "output_type": "execute_result"
    }
   ],
   "source": [
    "@time determinaestabilidad([0.0,0.0],[x*y+2x,3x-6y^2], fff,50)"
   ]
  },
  {
   "cell_type": "markdown",
   "metadata": {},
   "source": [
    "🔵 Ahora usamos las funciones que ya tenemos. "
   ]
  },
  {
   "cell_type": "code",
   "execution_count": 144,
   "metadata": {},
   "outputs": [
    {
     "name": "stdout",
     "output_type": "stream",
     "text": [
      "el punto no es hiperbólico"
     ]
    },
    {
     "data": {
      "text/plain": [
       "Eigen{Float64,Float64,Array{Float64,2},Array{Float64,1}}\n",
       "values:\n",
       "2-element Array{Float64,1}:\n",
       " 1.0\n",
       " 1.0\n",
       "vectors:\n",
       "2×2 Array{Float64,2}:\n",
       " 0.0   2.24287e-18\n",
       " 1.0  -1.0"
      ]
     },
     "execution_count": 144,
     "metadata": {},
     "output_type": "execute_result"
    }
   ],
   "source": [
    "determinaestabilidad(periodo99E0,[x+y-0.0*sin(2*pi*x)/2pi,y-0.0*sin(2*pi*x)/2pi], EstandardMap0,99)"
   ]
  },
  {
   "cell_type": "code",
   "execution_count": 145,
   "metadata": {},
   "outputs": [
    {
     "name": "stdout",
     "output_type": "stream",
     "text": [
      "el punto no es hiperbólico"
     ]
    },
    {
     "data": {
      "text/plain": [
       "Eigen{Complex{Float64},Complex{Float64},Array{Complex{Float64},2},Array{Complex{Float64},1}}\n",
       "values:\n",
       "2-element Array{Complex{Float64},1}:\n",
       " 0.9999999999378226 - 1.1184953457388827e-5im\n",
       " 0.9999999999378226 + 1.1184953457388827e-5im\n",
       "vectors:\n",
       "2×2 Array{Complex{Float64},2}:\n",
       " -0.00499994-1.09506e-9im  -0.00499994+1.09506e-9im\n",
       "    0.999988-0.0im            0.999988+0.0im"
      ]
     },
     "execution_count": 145,
     "metadata": {},
     "output_type": "execute_result"
    }
   ],
   "source": [
    "determinaestabilidad(periodo90E1,[x+y-0.01*sin(2*pi*x)/2pi,y-0.01*sin(2*pi*x)/2pi], EstandardMap1,90)"
   ]
  },
  {
   "cell_type": "markdown",
   "metadata": {},
   "source": [
    "🟪 Punto hiperbolico de periodo 80"
   ]
  },
  {
   "cell_type": "code",
   "execution_count": 146,
   "metadata": {},
   "outputs": [
    {
     "name": "stdout",
     "output_type": "stream",
     "text": [
      "el punto es hiperbólico"
     ]
    },
    {
     "data": {
      "text/plain": [
       "Eigen{Float64,Float64,Array{Float64,2},Array{Float64,1}}\n",
       "values:\n",
       "2-element Array{Float64,1}:\n",
       " 0.9999969265235933\n",
       " 1.0000030734853027\n",
       "vectors:\n",
       "2×2 Array{Float64,2}:\n",
       " -0.00499994   0.00499994\n",
       "  0.999988    -0.999988"
      ]
     },
     "execution_count": 146,
     "metadata": {},
     "output_type": "execute_result"
    }
   ],
   "source": [
    "determinaestabilidad(periodo80E1,[x+y-0.01*sin(2*pi*x)/2pi,y-0.01*sin(2*pi*x)/2pi], EstandardMap1,80)"
   ]
  },
  {
   "cell_type": "code",
   "execution_count": 147,
   "metadata": {},
   "outputs": [
    {
     "name": "stdout",
     "output_type": "stream",
     "text": [
      "el punto no es hiperbólico"
     ]
    },
    {
     "data": {
      "text/plain": [
       "Eigen{Complex{Float64},Complex{Float64},Array{Complex{Float64},2},Array{Complex{Float64},1}}\n",
       "values:\n",
       "2-element Array{Complex{Float64},1}:\n",
       " 0.9999999999950878 - 3.1025569411079282e-6im\n",
       " 0.9999999999950878 + 3.1025569411079282e-6im\n",
       "vectors:\n",
       "2×2 Array{Complex{Float64},2}:\n",
       " -0.00499994-9.00051e-10im  -0.00499994+9.00051e-10im\n",
       "    0.999988-0.0im             0.999988+0.0im"
      ]
     },
     "execution_count": 147,
     "metadata": {},
     "output_type": "execute_result"
    }
   ],
   "source": [
    "determinaestabilidad(periodo79E1,[x+y-0.01*sin(2*pi*x)/2pi,y-0.01*sin(2*pi*x)/2pi], EstandardMap1,79)"
   ]
  },
  {
   "cell_type": "markdown",
   "metadata": {},
   "source": [
    "🟪 Punto hiperbolico de periodo 60"
   ]
  },
  {
   "cell_type": "code",
   "execution_count": 148,
   "metadata": {},
   "outputs": [
    {
     "name": "stdout",
     "output_type": "stream",
     "text": [
      "el punto es hiperbólico"
     ]
    },
    {
     "data": {
      "text/plain": [
       "Eigen{Float64,Float64,Array{Float64,2},Array{Float64,1}}\n",
       "values:\n",
       "2-element Array{Float64,1}:\n",
       " 0.9999991051960277\n",
       " 1.0000008948047894\n",
       "vectors:\n",
       "2×2 Array{Float64,2}:\n",
       " -0.00499994   0.00499994\n",
       "  0.999988    -0.999988"
      ]
     },
     "execution_count": 148,
     "metadata": {},
     "output_type": "execute_result"
    }
   ],
   "source": [
    "determinaestabilidad(periodo60E1,[x+y-0.01*sin(2*pi*x)/2pi,y-0.01*sin(2*pi*x)/2pi], EstandardMap1,60)"
   ]
  },
  {
   "cell_type": "markdown",
   "metadata": {},
   "source": [
    "🟪 Punto hiperbolico de periodo 59"
   ]
  },
  {
   "cell_type": "code",
   "execution_count": 149,
   "metadata": {},
   "outputs": [
    {
     "name": "stdout",
     "output_type": "stream",
     "text": [
      "el punto es hiperbólico"
     ]
    },
    {
     "data": {
      "text/plain": [
       "Eigen{Float64,Float64,Array{Float64,2},Array{Float64,1}}\n",
       "values:\n",
       "2-element Array{Float64,1}:\n",
       " 0.9999989979703643\n",
       " 1.0000010020306371\n",
       "vectors:\n",
       "2×2 Array{Float64,2}:\n",
       " -0.00499994   0.00499994\n",
       "  0.999988    -0.999988"
      ]
     },
     "execution_count": 149,
     "metadata": {},
     "output_type": "execute_result"
    }
   ],
   "source": [
    "determinaestabilidad(periodo59E1,[x+y-0.01*sin(2*pi*x)/2pi,y-0.01*sin(2*pi*x)/2pi], EstandardMap1,59)"
   ]
  },
  {
   "cell_type": "markdown",
   "metadata": {},
   "source": [
    "🟪 Punto hiperbolico de periodo 50"
   ]
  },
  {
   "cell_type": "code",
   "execution_count": 150,
   "metadata": {},
   "outputs": [
    {
     "name": "stdout",
     "output_type": "stream",
     "text": [
      "el punto es hiperbólico"
     ]
    },
    {
     "data": {
      "text/plain": [
       "Eigen{Float64,Float64,Array{Float64,2},Array{Float64,1}}\n",
       "values:\n",
       "2-element Array{Float64,1}:\n",
       " 0.9999995743564545\n",
       " 1.0000004256437263\n",
       "vectors:\n",
       "2×2 Array{Float64,2}:\n",
       " -0.00499994   0.00499994\n",
       "  0.999988    -0.999988"
      ]
     },
     "execution_count": 150,
     "metadata": {},
     "output_type": "execute_result"
    }
   ],
   "source": [
    "determinaestabilidad(periodo50E1,[x+y-0.01*sin(2*pi*x)/2pi,y-0.01*sin(2*pi*x)/2pi], EstandardMap1,50)"
   ]
  },
  {
   "cell_type": "code",
   "execution_count": 151,
   "metadata": {},
   "outputs": [
    {
     "name": "stdout",
     "output_type": "stream",
     "text": [
      "el punto no es hiperbólico"
     ]
    },
    {
     "data": {
      "text/plain": [
       "Eigen{Complex{Float64},Complex{Float64},Array{Complex{Float64},2},Array{Complex{Float64},1}}\n",
       "values:\n",
       "2-element Array{Complex{Float64},1}:\n",
       " 0.9999999999999432 - 3.382710572992536e-7im\n",
       " 0.9999999999999432 + 3.382710572992536e-7im\n",
       "vectors:\n",
       "2×2 Array{Complex{Float64},2}:\n",
       " 0.00499994+1.59993e-9im  0.00499994-1.59993e-9im\n",
       "  -0.999988-0.0im          -0.999988+0.0im"
      ]
     },
     "execution_count": 151,
     "metadata": {},
     "output_type": "execute_result"
    }
   ],
   "source": [
    "determinaestabilidad(periodo49E1,[x+y-0.01*sin(2*pi*x)/2pi,y-0.01*sin(2*pi*x)/2pi], EstandardMap1,49)"
   ]
  },
  {
   "cell_type": "code",
   "execution_count": 152,
   "metadata": {},
   "outputs": [
    {
     "name": "stdout",
     "output_type": "stream",
     "text": [
      "el punto no es hiperbólico"
     ]
    },
    {
     "data": {
      "text/plain": [
       "Eigen{Complex{Float64},Complex{Float64},Array{Complex{Float64},2},Array{Complex{Float64},1}}\n",
       "values:\n",
       "2-element Array{Complex{Float64},1}:\n",
       " 0.9999999999999833 - 1.8074331263366608e-7im\n",
       " 0.9999999999999833 + 1.8074331263366608e-7im\n",
       "vectors:\n",
       "2×2 Array{Complex{Float64},2}:\n",
       " -0.00499994-1.76212e-9im  -0.00499994+1.76212e-9im\n",
       "    0.999988-0.0im            0.999988+0.0im"
      ]
     },
     "execution_count": 152,
     "metadata": {},
     "output_type": "execute_result"
    }
   ],
   "source": [
    "determinaestabilidad(periodo40E1,[x+y-0.01*sin(2*pi*x)/2pi,y-0.01*sin(2*pi*x)/2pi], EstandardMap1,40)"
   ]
  },
  {
   "cell_type": "code",
   "execution_count": 153,
   "metadata": {},
   "outputs": [
    {
     "name": "stdout",
     "output_type": "stream",
     "text": [
      "el punto no es hiperbólico"
     ]
    },
    {
     "data": {
      "text/plain": [
       "Eigen{Complex{Float64},Complex{Float64},Array{Complex{Float64},2},Array{Complex{Float64},1}}\n",
       "values:\n",
       "2-element Array{Complex{Float64},1}:\n",
       " 0.999999999999998 - 6.775960451766772e-8im\n",
       " 0.999999999999998 + 6.775960451766772e-8im\n",
       "vectors:\n",
       "2×2 Array{Complex{Float64},2}:\n",
       " -0.00499994-7.12717e-10im  -0.00499994+7.12717e-10im\n",
       "    0.999988-0.0im             0.999988+0.0im"
      ]
     },
     "execution_count": 153,
     "metadata": {},
     "output_type": "execute_result"
    }
   ],
   "source": [
    "determinaestabilidad(periodo39E1,[x+y-0.01*sin(2*pi*x)/2pi,y-0.01*sin(2*pi*x)/2pi], EstandardMap1,39)"
   ]
  },
  {
   "cell_type": "code",
   "execution_count": 154,
   "metadata": {},
   "outputs": [
    {
     "name": "stdout",
     "output_type": "stream",
     "text": [
      "el punto no es hiperbólico"
     ]
    },
    {
     "data": {
      "text/plain": [
       "Eigen{Complex{Float64},Complex{Float64},Array{Complex{Float64},2},Array{Complex{Float64},1}}\n",
       "values:\n",
       "2-element Array{Complex{Float64},1}:\n",
       " 0.9999999999999987 - 5.2759997326712817e-8im\n",
       " 0.9999999999999987 + 5.2759997326712817e-8im\n",
       "vectors:\n",
       "2×2 Array{Complex{Float64},2}:\n",
       " -0.00499994-1.06221e-9im  -0.00499994+1.06221e-9im\n",
       "    0.999988-0.0im            0.999988+0.0im"
      ]
     },
     "execution_count": 154,
     "metadata": {},
     "output_type": "execute_result"
    }
   ],
   "source": [
    "determinaestabilidad(periodo30E1,[x+y-0.01*sin(2*pi*x)/2pi,y-0.01*sin(2*pi*x)/2pi], EstandardMap1,30)"
   ]
  },
  {
   "cell_type": "markdown",
   "metadata": {},
   "source": [
    "🟪 Punto hiperbolico de periodo 29"
   ]
  },
  {
   "cell_type": "code",
   "execution_count": 155,
   "metadata": {},
   "outputs": [
    {
     "name": "stdout",
     "output_type": "stream",
     "text": [
      "el punto es hiperbólico"
     ]
    },
    {
     "data": {
      "text/plain": [
       "Eigen{Float64,Float64,Array{Float64,2},Array{Float64,1}}\n",
       "values:\n",
       "2-element Array{Float64,1}:\n",
       " 0.9999999622246588\n",
       " 1.0000000377753424\n",
       "vectors:\n",
       "2×2 Array{Float64,2}:\n",
       " -0.00499994   0.00499994\n",
       "  0.999988    -0.999988"
      ]
     },
     "execution_count": 155,
     "metadata": {},
     "output_type": "execute_result"
    }
   ],
   "source": [
    "determinaestabilidad(periodo29E1,[x+y-0.01*sin(2*pi*x)/2pi,y-0.01*sin(2*pi*x)/2pi], EstandardMap1,29)"
   ]
  },
  {
   "cell_type": "markdown",
   "metadata": {},
   "source": [
    "🟪 Punto hiperbolico de periodo 26"
   ]
  },
  {
   "cell_type": "code",
   "execution_count": 161,
   "metadata": {},
   "outputs": [
    {
     "name": "stdout",
     "output_type": "stream",
     "text": [
      "el punto es hiperbólico"
     ]
    },
    {
     "data": {
      "text/plain": [
       "Eigen{Float64,Float64,Array{Float64,2},Array{Float64,1}}\n",
       "values:\n",
       "2-element Array{Float64,1}:\n",
       " 0.9999999590674767\n",
       " 1.0000000409325258\n",
       "vectors:\n",
       "2×2 Array{Float64,2}:\n",
       " -0.00499994   0.00499994\n",
       "  0.999988    -0.999988"
      ]
     },
     "execution_count": 161,
     "metadata": {},
     "output_type": "execute_result"
    }
   ],
   "source": [
    "determinaestabilidad(periodo26E1,[x+y-0.01*sin(2*pi*x)/2pi,y-0.01*sin(2*pi*x)/2pi], EstandardMap1,26)"
   ]
  },
  {
   "cell_type": "markdown",
   "metadata": {},
   "source": [
    "🟪 Punto hiperbolico de periodo 26"
   ]
  },
  {
   "cell_type": "code",
   "execution_count": 162,
   "metadata": {},
   "outputs": [
    {
     "name": "stdout",
     "output_type": "stream",
     "text": [
      "el punto es hiperbólico"
     ]
    },
    {
     "data": {
      "text/plain": [
       "Eigen{Float64,Float64,Array{Float64,2},Array{Float64,1}}\n",
       "values:\n",
       "2-element Array{Float64,1}:\n",
       " 0.9999999539746743\n",
       " 1.000000046025327\n",
       "vectors:\n",
       "2×2 Array{Float64,2}:\n",
       " -0.00499994   0.00499994\n",
       "  0.999988    -0.999988"
      ]
     },
     "execution_count": 162,
     "metadata": {},
     "output_type": "execute_result"
    }
   ],
   "source": [
    "determinaestabilidad(periodo24E1,[x+y-0.01*sin(2*pi*x)/2pi,y-0.01*sin(2*pi*x)/2pi], EstandardMap1,24)"
   ]
  },
  {
   "cell_type": "code",
   "execution_count": 163,
   "metadata": {},
   "outputs": [
    {
     "name": "stdout",
     "output_type": "stream",
     "text": [
      "el punto no es hiperbólico"
     ]
    },
    {
     "data": {
      "text/plain": [
       "Eigen{Complex{Float64},Complex{Float64},Array{Complex{Float64},2},Array{Complex{Float64},1}}\n",
       "values:\n",
       "2-element Array{Complex{Float64},1}:\n",
       " 0.999999999999996 - 8.227875046069877e-8im\n",
       " 0.999999999999996 + 8.227875046069877e-8im\n",
       "vectors:\n",
       "2×2 Array{Complex{Float64},2}:\n",
       " -0.00499994-3.32064e-9im  -0.00499994+3.32064e-9im\n",
       "    0.999988-0.0im            0.999988+0.0im"
      ]
     },
     "execution_count": 163,
     "metadata": {},
     "output_type": "execute_result"
    }
   ],
   "source": [
    "determinaestabilidad(periodo20E1,[x+y-0.01*sin(2*pi*x)/2pi,y-0.01*sin(2*pi*x)/2pi], EstandardMap1,20)"
   ]
  },
  {
   "cell_type": "code",
   "execution_count": 164,
   "metadata": {},
   "outputs": [
    {
     "name": "stdout",
     "output_type": "stream",
     "text": [
      "el punto no es hiperbólico"
     ]
    },
    {
     "data": {
      "text/plain": [
       "Eigen{Complex{Float64},Complex{Float64},Array{Complex{Float64},2},Array{Complex{Float64},1}}\n",
       "values:\n",
       "2-element Array{Complex{Float64},1}:\n",
       " 0.9999999999999998 - 3.5309661869331656e-8im\n",
       " 0.9999999999999998 + 3.5309661869331656e-8im\n",
       "vectors:\n",
       "2×2 Array{Complex{Float64},2}:\n",
       " -0.00499994-1.53272e-9im  -0.00499994+1.53272e-9im\n",
       "    0.999988-0.0im            0.999988+0.0im"
      ]
     },
     "execution_count": 164,
     "metadata": {},
     "output_type": "execute_result"
    }
   ],
   "source": [
    "determinaestabilidad(periodo19E1,[x+y-0.01*sin(2*pi*x)/2pi,y-0.01*sin(2*pi*x)/2pi], EstandardMap1,19)"
   ]
  },
  {
   "cell_type": "code",
   "execution_count": 165,
   "metadata": {},
   "outputs": [
    {
     "name": "stdout",
     "output_type": "stream",
     "text": [
      "el punto no es hiperbólico"
     ]
    },
    {
     "data": {
      "text/plain": [
       "Eigen{Complex{Float64},Complex{Float64},Array{Complex{Float64},2},Array{Complex{Float64},1}}\n",
       "values:\n",
       "2-element Array{Complex{Float64},1}:\n",
       " 0.9999999999999986 - 4.098955788090715e-8im\n",
       " 0.9999999999999986 + 4.098955788090715e-8im\n",
       "vectors:\n",
       "2×2 Array{Complex{Float64},2}:\n",
       " -0.00499994-1.91661e-9im  -0.00499994+1.91661e-9im\n",
       "    0.999988-0.0im            0.999988+0.0im"
      ]
     },
     "execution_count": 165,
     "metadata": {},
     "output_type": "execute_result"
    }
   ],
   "source": [
    "determinaestabilidad(periodo18E1,[x+y-0.01*sin(2*pi*x)/2pi,y-0.01*sin(2*pi*x)/2pi], EstandardMap1,18)"
   ]
  },
  {
   "cell_type": "markdown",
   "metadata": {},
   "source": [
    "🟪 Punto hiperbolico de periodo 19"
   ]
  },
  {
   "cell_type": "code",
   "execution_count": 166,
   "metadata": {},
   "outputs": [
    {
     "name": "stdout",
     "output_type": "stream",
     "text": [
      "el punto es hiperbólico"
     ]
    },
    {
     "data": {
      "text/plain": [
       "Eigen{Float64,Float64,Array{Float64,2},Array{Float64,1}}\n",
       "values:\n",
       "2-element Array{Float64,1}:\n",
       " 0.9999999813997189\n",
       " 1.000000018600282\n",
       "vectors:\n",
       "2×2 Array{Float64,2}:\n",
       " -0.00499994  -0.00499994\n",
       "  0.999988     0.999988"
      ]
     },
     "execution_count": 166,
     "metadata": {},
     "output_type": "execute_result"
    }
   ],
   "source": [
    "determinaestabilidad(periodo17E1,[x+y-0.01*sin(2*pi*x)/2pi,y-0.01*sin(2*pi*x)/2pi], EstandardMap1,17)"
   ]
  },
  {
   "cell_type": "code",
   "execution_count": 167,
   "metadata": {},
   "outputs": [
    {
     "name": "stdout",
     "output_type": "stream",
     "text": [
      "el punto no es hiperbólico"
     ]
    },
    {
     "data": {
      "text/plain": [
       "Eigen{Complex{Float64},Complex{Float64},Array{Complex{Float64},2},Array{Complex{Float64},1}}\n",
       "values:\n",
       "2-element Array{Complex{Float64},1}:\n",
       " 0.9999999999999996 - 3.3934024004380245e-8im\n",
       " 0.9999999999999996 + 3.3934024004380245e-8im\n",
       "vectors:\n",
       "2×2 Array{Complex{Float64},2}:\n",
       " -0.00499994-1.85209e-9im  -0.00499994+1.85209e-9im\n",
       "    0.999988-0.0im            0.999988+0.0im"
      ]
     },
     "execution_count": 167,
     "metadata": {},
     "output_type": "execute_result"
    }
   ],
   "source": [
    "determinaestabilidad(periodo16E1,[x+y-0.01*sin(2*pi*x)/2pi,y-0.01*sin(2*pi*x)/2pi], EstandardMap1,16)"
   ]
  },
  {
   "cell_type": "code",
   "execution_count": 168,
   "metadata": {},
   "outputs": [
    {
     "name": "stdout",
     "output_type": "stream",
     "text": [
      "el punto no es hiperbólico"
     ]
    },
    {
     "data": {
      "text/plain": [
       "Eigen{Complex{Float64},Complex{Float64},Array{Complex{Float64},2},Array{Complex{Float64},1}}\n",
       "values:\n",
       "2-element Array{Complex{Float64},1}:\n",
       " 0.9999999999999993 - 2.8992210629163897e-8im\n",
       " 0.9999999999999993 + 2.8992210629163897e-8im\n",
       "vectors:\n",
       "2×2 Array{Complex{Float64},2}:\n",
       " -0.00499994-1.71616e-9im  -0.00499994+1.71616e-9im\n",
       "    0.999988-0.0im            0.999988+0.0im"
      ]
     },
     "execution_count": 168,
     "metadata": {},
     "output_type": "execute_result"
    }
   ],
   "source": [
    "determinaestabilidad(periodo15E1,[x+y-0.01*sin(2*pi*x)/2pi,y-0.01*sin(2*pi*x)/2pi], EstandardMap1,15)"
   ]
  },
  {
   "cell_type": "markdown",
   "metadata": {},
   "source": [
    "🟪 Punto hiperbolico de periodo 14"
   ]
  },
  {
   "cell_type": "code",
   "execution_count": 169,
   "metadata": {},
   "outputs": [
    {
     "name": "stdout",
     "output_type": "stream",
     "text": [
      "el punto es hiperbólico"
     ]
    },
    {
     "data": {
      "text/plain": [
       "Eigen{Float64,Float64,Array{Float64,2},Array{Float64,1}}\n",
       "values:\n",
       "2-element Array{Float64,1}:\n",
       " 0.9999999896124315\n",
       " 1.0000000103875684\n",
       "vectors:\n",
       "2×2 Array{Float64,2}:\n",
       " -0.00499994  -0.00499994\n",
       "  0.999988     0.999988"
      ]
     },
     "execution_count": 169,
     "metadata": {},
     "output_type": "execute_result"
    }
   ],
   "source": [
    "determinaestabilidad(periodo14E1,[x+y-0.01*sin(2*pi*x)/2pi,y-0.01*sin(2*pi*x)/2pi], EstandardMap1,14)"
   ]
  },
  {
   "cell_type": "code",
   "execution_count": 170,
   "metadata": {},
   "outputs": [
    {
     "name": "stdout",
     "output_type": "stream",
     "text": [
      "el punto no es hiperbólico"
     ]
    },
    {
     "data": {
      "text/plain": [
       "Eigen{Complex{Float64},Complex{Float64},Array{Complex{Float64},2},Array{Complex{Float64},1}}\n",
       "values:\n",
       "2-element Array{Complex{Float64},1}:\n",
       " 0.9999999999999998 - 2.3307678525413967e-8im\n",
       " 0.9999999999999998 + 2.3307678525413967e-8im\n",
       "vectors:\n",
       "2×2 Array{Complex{Float64},2}:\n",
       " -0.00499994-1.64e-9im  -0.00499994+1.64e-9im\n",
       "    0.999988-0.0im         0.999988+0.0im"
      ]
     },
     "execution_count": 170,
     "metadata": {},
     "output_type": "execute_result"
    }
   ],
   "source": [
    "determinaestabilidad(periodo13E1,[x+y-0.01*sin(2*pi*x)/2pi,y-0.01*sin(2*pi*x)/2pi], EstandardMap1,13)"
   ]
  },
  {
   "cell_type": "code",
   "execution_count": 171,
   "metadata": {},
   "outputs": [
    {
     "name": "stdout",
     "output_type": "stream",
     "text": [
      "el punto no es hiperbólico"
     ]
    },
    {
     "data": {
      "text/plain": [
       "Eigen{Complex{Float64},Complex{Float64},Array{Complex{Float64},2},Array{Complex{Float64},1}}\n",
       "values:\n",
       "2-element Array{Complex{Float64},1}:\n",
       " 0.9999999999999999 - 3.3537837834907513e-9im\n",
       " 0.9999999999999999 + 3.3537837834907513e-9im\n",
       "vectors:\n",
       "2×2 Array{Complex{Float64},2}:\n",
       " -0.00499994-2.59032e-10im  -0.00499994+2.59032e-10im\n",
       "    0.999988-0.0im             0.999988+0.0im"
      ]
     },
     "execution_count": 171,
     "metadata": {},
     "output_type": "execute_result"
    }
   ],
   "source": [
    "determinaestabilidad(periodo12E1,[x+y-0.01*sin(2*pi*x)/2pi,y-0.01*sin(2*pi*x)/2pi], EstandardMap1,12)"
   ]
  },
  {
   "cell_type": "code",
   "execution_count": 172,
   "metadata": {},
   "outputs": [
    {
     "name": "stdout",
     "output_type": "stream",
     "text": [
      "el punto no es hiperbólico"
     ]
    },
    {
     "data": {
      "text/plain": [
       "Eigen{Complex{Float64},Complex{Float64},Array{Complex{Float64},2},Array{Complex{Float64},1}}\n",
       "values:\n",
       "2-element Array{Complex{Float64},1}:\n",
       " 0.9999999999999999 - 6.053247088990845e-9im\n",
       " 0.9999999999999999 + 6.053247088990845e-9im\n",
       "vectors:\n",
       "2×2 Array{Complex{Float64},2}:\n",
       " -0.00499994-5.74065e-10im  -0.00499994+5.74065e-10im\n",
       "    0.999988-0.0im             0.999988+0.0im"
      ]
     },
     "execution_count": 172,
     "metadata": {},
     "output_type": "execute_result"
    }
   ],
   "source": [
    "determinaestabilidad(periodo10E1,[x+y-0.01*sin(2*pi*x)/2pi,y-0.01*sin(2*pi*x)/2pi], EstandardMap1,10)"
   ]
  },
  {
   "cell_type": "markdown",
   "metadata": {},
   "source": [
    "## 💡 Elegimos aquellos que son hiperbolicos para estudiar sus variedades"
   ]
  },
  {
   "cell_type": "code",
   "execution_count": 173,
   "metadata": {},
   "outputs": [
    {
     "data": {
      "text/plain": [
       "Estandarff (generic function with 1 method)"
      ]
     },
     "execution_count": 173,
     "metadata": {},
     "output_type": "execute_result"
    }
   ],
   "source": [
    "function Estandarff(v,k::Real)\n",
    "    x = v[1]\n",
    "    y = v[2]\n",
    "    x_n =mod(x+y-k*sin(2*pi*x)/2pi,1)\n",
    "    y_n =mod(y-k*sin(2*pi*x)/2pi,1)\n",
    "    return [x_n,y_n]\n",
    "end"
   ]
  },
  {
   "cell_type": "code",
   "execution_count": 174,
   "metadata": {},
   "outputs": [
    {
     "data": {
      "text/plain": [
       "Estandar1 (generic function with 2 methods)"
      ]
     },
     "execution_count": 174,
     "metadata": {},
     "output_type": "execute_result"
    }
   ],
   "source": [
    "Estandar1(v) = Estandarff(v,0.01)"
   ]
  },
  {
   "cell_type": "code",
   "execution_count": 175,
   "metadata": {},
   "outputs": [
    {
     "data": {
      "text/plain": [
       "compo2 (generic function with 1 method)"
      ]
     },
     "execution_count": 175,
     "metadata": {},
     "output_type": "execute_result"
    }
   ],
   "source": [
    "compo80(x,y) = composition(Estandar1,80)(x,y)\n",
    "compo60(x,y) = composition(Estandar1,60)(x,y)\n",
    "compo59(x,y) = composition(Estandar1,59)(x,y)\n",
    "compo50(x,y) = composition(Estandar1,50)(x,y)\n",
    "compo29(x,y) = composition(Estandar1,29)(x,y)\n",
    "compo24(x,y) = composition(Estandar1,24)(x,y)\n",
    "compo26(x,y) = composition(Estandar1,26)(x,y)\n",
    "compo17(x,y) = composition(Estandar1,17)(x,y)\n",
    "compo14(x,y) = composition(Estandar1,14)(x,y)\n",
    "compo2(x,y) = composition(Estandar1,2)(x,y)"
   ]
  },
  {
   "cell_type": "code",
   "execution_count": 176,
   "metadata": {},
   "outputs": [],
   "source": [
    "Orden = 70\n",
    "tiempo = [0.0,4]\n",
    "delta_t = 0.01\n",
    "Wu80,fu80,vecu80,valu80 = Inestable(compo80, Orden , periodo80E1, tiempo, delta_t);\n",
    "Ws80,fs80,vecs80,vals80 = Estable(compo80, Orden , periodo80E1, tiempo, delta_t); \n"
   ]
  },
  {
   "cell_type": "code",
   "execution_count": 177,
   "metadata": {},
   "outputs": [],
   "source": [
    "Wu60,fu60,vecu60,valu60 = Inestable(compo60, Orden , periodo60E1, tiempo, delta_t);\n",
    "Ws60,fs60,vecs60,vals60 = Estable(compo60, Orden , periodo60E1, tiempo, delta_t); \n",
    "Wu59,fu59,vecu59,valu59 = Inestable(compo59, Orden , periodo59E1, tiempo, delta_t);\n",
    "Ws59,fs59,vecs59,vals59 = Estable(compo59, Orden , periodo59E1, tiempo, delta_t); \n",
    "Wu50,fu50,vecu50,valu50 = Inestable(compo50, Orden , periodo50E1, tiempo, delta_t);\n",
    "Ws50,fs50,vecs50,vals50 = Estable(compo50, Orden , periodo50E1, tiempo, delta_t); "
   ]
  },
  {
   "cell_type": "code",
   "execution_count": 178,
   "metadata": {},
   "outputs": [],
   "source": [
    "Wu29,fu29,vecu29,valu29 = Inestable(compo29, Orden , periodo29E1, tiempo, delta_t);\n",
    "Ws29,fs29,vecs29,vals29 = Estable(compo29, Orden , periodo29E1, tiempo, delta_t); \n",
    "Wu26,fu26,vecu26,valu26 = Inestable(compo26, Orden , periodo26E1, tiempo, delta_t);\n",
    "Ws26,fs26,vecs26,vals26 = Estable(compo26, Orden , periodo26E1, tiempo, delta_t); \n",
    "Wu24,fu24,vecu24,valu24 = Inestable(compo24, Orden , periodo24E1, tiempo, delta_t);\n",
    "Ws24,fs24,vecs24,vals24 = Estable(compo24, Orden , periodo24E1, tiempo, delta_t); \n",
    "Wu17,fu17,vecu17,valu17 = Inestable(compo17, Orden , periodo17E1, tiempo, delta_t);\n",
    "Ws17,fs17,vecs17,vals17 = Estable(compo17, Orden , periodo17E1, tiempo, delta_t); "
   ]
  },
  {
   "cell_type": "code",
   "execution_count": 179,
   "metadata": {},
   "outputs": [],
   "source": [
    "Wu2,fu2,vecu2,valu2 = Inestable(compo2, Orden , periodo2E1, tiempo, delta_t);\n",
    "Ws2,fs2,vecs2,vals2 = Estable(compo2, Orden , periodo2E1, tiempo, delta_t); "
   ]
  },
  {
   "cell_type": "code",
   "execution_count": 180,
   "metadata": {},
   "outputs": [
    {
     "data": {
      "text/plain": [
       "evaluar (generic function with 1 method)"
      ]
     },
     "execution_count": 180,
     "metadata": {},
     "output_type": "execute_result"
    }
   ],
   "source": [
    "function evaluar(A,Tiempo,paso,PuntoFijo,col)\n",
    "    ValX=Float64[]\n",
    "    ValY=Float64[]\n",
    "    for t = Tiempo[1]:paso:Tiempo[2]\n",
    "        x = A[1](t)\n",
    "        y = A[2](t)\n",
    "        push!(ValX,mod(x,1))\n",
    "        push!(ValY,mod(y,1))\n",
    "    end\n",
    "    p = plot(ValX,ValY,linestyle=\"-\",marker =\",\",color=col)\n",
    "    title(\"espacio fase\")\n",
    "    xlabel(L\"x\")\n",
    "    ylabel(L\"y\")\n",
    "    return ValX,ValY\n",
    "    \n",
    "end"
   ]
  },
  {
   "cell_type": "code",
   "execution_count": 195,
   "metadata": {},
   "outputs": [],
   "source": [
    "listaper80 = iterar(EstandardMap1,periodo80E1,80,1);\n",
    "listaper60 = iterar(EstandardMap1,periodo60E1,60,1);\n",
    "listaper59 = iterar(EstandardMap1,periodo59E1,59,1);\n",
    "listaper50 = iterar(EstandardMap1,periodo50E1,50,1);\n",
    "listaper29 = iterar(EstandardMap1,periodo29E1,29,1);\n",
    "listaper26 = iterar(EstandardMap1,periodo26E1,26,1);\n",
    "listaper24 = iterar(EstandardMap1,periodo24E1,24,1);\n",
    "listaper17 = iterar(EstandardMap1,periodo17E1,17,1);\n",
    "listaper2 = iterar(EstandardMap1,periodo2E1,2,1);"
   ]
  },
  {
   "cell_type": "code",
   "execution_count": 296,
   "metadata": {},
   "outputs": [],
   "source": [
    "colores1 = [\"cyan\",\"orangered\",\"royalblue\",\"limegreen\",\"darkcyan\",\"gold\",\"violet\",\n",
    "       \"forestgreen\",\"steelblue\"];"
   ]
  },
  {
   "cell_type": "code",
   "execution_count": 297,
   "metadata": {},
   "outputs": [
    {
     "data": {
      "image/png": "[encoded data removed]",
      "text/plain": [
       "Figure(PyObject <Figure size 640x480 with 1 Axes>)"
      ]
     },
     "metadata": {},
     "output_type": "display_data"
    },
    {
     "data": {
      "text/plain": [
       "(0.0, 0.075)"
      ]
     },
     "execution_count": 297,
     "metadata": {},
     "output_type": "execute_result"
    }
   ],
   "source": [
    "evaluar(Ws29, [-0.25,0.0],1.0e-4,periodo29E1,colores1[5])\n",
    "evaluar(Ws26, [-0.23,0.0],1.0e-4,periodo26E1,colores1[6])\n",
    "evaluar(Ws24, [-0.25,0.0],1.0e-4,periodo24E1,colores1[7])\n",
    "#scatter(listaper60[1],listaper60[2],marker =\"+\")\n",
    "#scatter(listaper80[1],listaper80[2],marker =\"+\")\n",
    "GraficarEstandarMap(Estandar1)\n",
    "xlim(0,1)\n",
    "ylim(0.0,0.075)\n"
   ]
  },
  {
   "cell_type": "code",
   "execution_count": 316,
   "metadata": {},
   "outputs": [],
   "source": [
    "delta_t_1 =1.0e-4\n",
    "ErrorS29 = CalculoError(compo29,1.0, Ws29,fs29,[-0.42,0.42],delta_t_1)\n",
    "ErrorU29 = CalculoError(compo29,1., Wu29,fu29,[-0.2,0.2],delta_t_1);\n",
    "ErrorS26 = CalculoError(compo26,1., Ws26,fs26,[-0.2,0.2],delta_t_1)\n",
    "ErrorU26 = CalculoError(compo26,1., Wu26,fu26,[-0.2,0.2],delta_t_1);\n",
    "ErrorS24 = CalculoError(compo24,1., Ws24,fs24,[-0.42,0.42],delta_t_1)\n",
    "ErrorU24 = CalculoError(compo24,1., Wu24,fu24,[-0.42,0.42],delta_t_1);"
   ]
  },
  {
   "cell_type": "code",
   "execution_count": 317,
   "metadata": {},
   "outputs": [
    {
     "data": {
      "image/png": "[encoded data removed]",
      "text/plain": [
       "Figure(PyObject <Figure size 640x480 with 1 Axes>)"
      ]
     },
     "metadata": {},
     "output_type": "display_data"
    },
    {
     "name": "stderr",
     "output_type": "stream",
     "text": [
      "No handles with labels found to put in legend.\n"
     ]
    },
    {
     "data": {
      "text/plain": [
       "PyObject <matplotlib.legend.Legend object at 0x7f89eb91a0d0>"
      ]
     },
     "execution_count": 317,
     "metadata": {},
     "output_type": "execute_result"
    }
   ],
   "source": [
    "\n",
    "plot(ErrorS29[1],log10.(ErrorS29[2]),marker= \"None\", color=colores1[5])\n",
    "plot(ErrorS26[1],log10.(ErrorS26[2]),marker= \"None\", color=colores1[6])\n",
    "plot(ErrorS24[1],log10.(ErrorS24[2]),marker= \"None\", color=colores1[7])\n",
    "#plot(ErrorU29[1],log10.(ErrorU29[2]),marker= \"None\", color=\"royalblue\")\n",
    "xlabel(\"t\")\n",
    "ylabel(L\"$\\log_{10}(E(t))$\")\n",
    "title(\"Error\")\n",
    "#grid(\"on\")\n",
    "legend(loc=\"lower right\",fancybox=\"true\" )"
   ]
  },
  {
   "cell_type": "code",
   "execution_count": 352,
   "metadata": {},
   "outputs": [
    {
     "data": {
      "text/plain": [
       "compo19 (generic function with 1 method)"
      ]
     },
     "execution_count": 352,
     "metadata": {},
     "output_type": "execute_result"
    }
   ],
   "source": [
    "compo3(v) = composition(Estandar1,3)(v)\n",
    "compo4(v) = composition(Estandar1,4)(v)\n",
    "compo5(v) = composition(Estandar1,5)(v)\n",
    "compo6(v) = composition(Estandar1,6)(v)\n",
    "compo7(v) = composition(Estandar1,7)(v)\n",
    "compo8(v) = composition(Estandar1,8)(v)\n",
    "compo9(v) = composition(Estandar1,9)(v)\n",
    "compo10(v) = composition(Estandar1,10)(v)\n",
    "compo11(v) = composition(Estandar1,11)(v)\n",
    "compo12(v) = composition(Estandar1,12)(v)\n",
    "compo13(v) = composition(Estandar1,13)(v)\n",
    "compo14b(v) = composition(Estandar1,14)(v)\n",
    "compo15(v) = composition(Estandar1,15)(v)\n",
    "compo16(v) = composition(Estandar1,16)(v)\n",
    "compo17b(v) = composition(Estandar1,17)(v)\n",
    "compo18(v) = composition(Estandar1,18)(v)\n",
    "compo19(v) = composition(Estandar1,19)(v)"
   ]
  },
  {
   "cell_type": "code",
   "execution_count": 359,
   "metadata": {},
   "outputs": [
    {
     "data": {
      "text/plain": [
       "evaluacioniterada (generic function with 1 method)"
      ]
     },
     "execution_count": 359,
     "metadata": {},
     "output_type": "execute_result"
    }
   ],
   "source": [
    "function evaluacioniterada(mapeo, variedad, intervalo, noiteraciones,delta1, punto, color)\n",
    "    for i in 1:noiteraciones\n",
    "        fcompo(v) = composition(mapeo,i)(v)\n",
    "        evaluar(fcompo(variedad),intervalo, delta1,punto,color)\n",
    "    end\n",
    "    return plot([0.0],[0.0])\n",
    "end\n",
    "        \n",
    "        "
   ]
  },
  {
   "cell_type": "code",
   "execution_count": 416,
   "metadata": {},
   "outputs": [
    {
     "data": {
      "image/png": "[encoded data removed]",
      "text/plain": [
       "Figure(PyObject <Figure size 640x480 with 1 Axes>)"
      ]
     },
     "metadata": {},
     "output_type": "display_data"
    },
    {
     "data": {
      "text/plain": [
       "(0.0, 0.075)"
      ]
     },
     "execution_count": 416,
     "metadata": {},
     "output_type": "execute_result"
    }
   ],
   "source": [
    "evaluacioniterada(Estandar1,Ws29,[-0.1,0.0],28,1.0e-4,periodo29E1,\"darkcyan\")\n",
    "evaluacioniterada(Estandar1,Ws26,[-0.1,0.0],25,1.0e-4,periodo26E1,colores1[6])\n",
    "evaluacioniterada(Estandar1,Ws24,[-0.1,0.0],23,1.0e-4,periodo24E1,colores1[7])\n",
    "GraficarEstandarMap(Estandar1)\n",
    "xlim(0,1)\n",
    "ylim(0.0,0.075)"
   ]
  },
  {
   "cell_type": "code",
   "execution_count": 426,
   "metadata": {},
   "outputs": [
    {
     "data": {
      "text/plain": [
       "calculoerrorite (generic function with 1 method)"
      ]
     },
     "execution_count": 426,
     "metadata": {},
     "output_type": "execute_result"
    }
   ],
   "source": [
    "function calculoerrorite(mapeo, noiteraciones,variedad,intervalo,delta1,fs, modulo)\n",
    "    erroresL = []\n",
    "    for i in 1:noiteraciones\n",
    "        #fcompo(x,y) = composition(mapeo,i)(x,y)\n",
    "        append!(erroresL, CalculoError(mapeo,modulo,variedad,fs,intervalo,delta1))\n",
    "    end\n",
    "    return erroresL\n",
    "end\n",
    "        \n",
    "        "
   ]
  },
  {
   "cell_type": "code",
   "execution_count": 435,
   "metadata": {},
   "outputs": [],
   "source": [
    "erroresp29 = calculoerrorite(Estandar1,28,Ws29,[-0.3,0.3],delta_t_1,fs29,1.0);\n",
    "erroresp26 = calculoerrorite(Estandar1,25,Ws26,[-0.3,0.3],delta_t_1,fs26,1.0);\n",
    "erroresp24 = calculoerrorite(Estandar1,23,Ws24,[-0.3,0.3],delta_t_1,fs24,1.0);"
   ]
  },
  {
   "cell_type": "code",
   "execution_count": 436,
   "metadata": {},
   "outputs": [
    {
     "data": {
      "image/png": "[encoded data removed]",
      "text/plain": [
       "Figure(PyObject <Figure size 640x480 with 1 Axes>)"
      ]
     },
     "metadata": {},
     "output_type": "display_data"
    },
    {
     "name": "stderr",
     "output_type": "stream",
     "text": [
      "No handles with labels found to put in legend.\n"
     ]
    },
    {
     "data": {
      "text/plain": [
       "PyObject <matplotlib.legend.Legend object at 0x7f89ec81fb10>"
      ]
     },
     "execution_count": 436,
     "metadata": {},
     "output_type": "execute_result"
    }
   ],
   "source": [
    "for i in 0:25\n",
    "    plot(erroresp29[2*i+1],log10.(erroresp29[2*i+2]),marker= \"None\", color=colores1[5])\n",
    "end\n",
    "xlabel(\"t\")\n",
    "ylabel(L\"$\\log_{10}(E(t))$\")\n",
    "title(\"Error periodo 29\")\n",
    "#grid(\"on\")\n",
    "legend(loc=\"lower right\",fancybox=\"true\" )"
   ]
  },
  {
   "cell_type": "code",
   "execution_count": 437,
   "metadata": {},
   "outputs": [
    {
     "data": {
      "image/png": "[encoded data removed]",
      "text/plain": [
       "Figure(PyObject <Figure size 640x480 with 1 Axes>)"
      ]
     },
     "metadata": {},
     "output_type": "display_data"
    },
    {
     "name": "stderr",
     "output_type": "stream",
     "text": [
      "No handles with labels found to put in legend.\n"
     ]
    },
    {
     "data": {
      "text/plain": [
       "PyObject <matplotlib.legend.Legend object at 0x7f89ec81fa90>"
      ]
     },
     "execution_count": 437,
     "metadata": {},
     "output_type": "execute_result"
    }
   ],
   "source": [
    "for i in 0:12\n",
    "    plot(erroresp26[2*i+1],log10.(erroresp26[2*i+2]),marker= \"None\", color=colores1[6])\n",
    "end\n",
    "xlabel(\"t\")\n",
    "ylabel(L\"$\\log_{10}(E(t))$\")\n",
    "title(\"Error periodo 26\")\n",
    "#grid(\"on\")\n",
    "legend(loc=\"lower right\",fancybox=\"true\" )"
   ]
  },
  {
   "cell_type": "code",
   "execution_count": 438,
   "metadata": {},
   "outputs": [
    {
     "data": {
      "image/png": "[encoded data removed]",
      "text/plain": [
       "Figure(PyObject <Figure size 640x480 with 1 Axes>)"
      ]
     },
     "metadata": {},
     "output_type": "display_data"
    },
    {
     "name": "stderr",
     "output_type": "stream",
     "text": [
      "No handles with labels found to put in legend.\n"
     ]
    },
    {
     "data": {
      "text/plain": [
       "PyObject <matplotlib.legend.Legend object at 0x7f89e7003850>"
      ]
     },
     "execution_count": 438,
     "metadata": {},
     "output_type": "execute_result"
    }
   ],
   "source": [
    "for i in 0:10\n",
    "    plot(erroresp24[2*i+1],log10.(erroresp24[2*i+2]),marker= \"None\", color=colores1[7])\n",
    "end\n",
    "xlabel(\"t\")\n",
    "ylabel(L\"$\\log_{10}(E(t))$\")\n",
    "title(\"Error periodo 24\")\n",
    "#grid(\"on\")\n",
    "legend(loc=\"lower right\",fancybox=\"true\" )"
   ]
  },
  {
   "cell_type": "code",
   "execution_count": 450,
   "metadata": {},
   "outputs": [
    {
     "data": {
      "image/png": "[encoded data removed]",
      "text/plain": [
       "Figure(PyObject <Figure size 640x480 with 1 Axes>)"
      ]
     },
     "metadata": {},
     "output_type": "display_data"
    },
    {
     "data": {
      "text/plain": [
       "(0.0, 0.05)"
      ]
     },
     "execution_count": 450,
     "metadata": {},
     "output_type": "execute_result"
    }
   ],
   "source": [
    "evaluacioniterada(Estandar1,Ws80,[-0.1,0.0],74,1.0e-4,periodo29E1,colores1[1])\n",
    "evaluacioniterada(Estandar1,Ws60,[-0.1,0.0],53,1.0e-4,periodo26E1,colores1[2])\n",
    "#evaluacioniterada(Estandar1,Ws59,[-0.1,0.0],43,1.0e-4,periodo24E1,colores1[3])\n",
    "evaluacioniterada(Estandar1,Ws50,[-0.1,0.0],44,1.0e-4,periodo24E1,colores1[4])\n",
    "GraficarEstandarMap(Estandar1)\n",
    "xlim(0,1)\n",
    "ylim(0.0,0.05)"
   ]
  },
  {
   "cell_type": "code",
   "execution_count": 445,
   "metadata": {},
   "outputs": [],
   "source": [
    "erroresp80 = calculoerrorite(Estandar1,68,Ws80,[-0.3,0.3],delta_t_1,fs80,1.0);\n",
    "erroresp60 = calculoerrorite(Estandar1,45,Ws60,[-0.3,0.3],delta_t_1,fs60,1.0);\n",
    "erroresp59 = calculoerrorite(Estandar1,43,Ws59,[-0.3,0.3],delta_t_1,fs59,1.0);\n",
    "erroresp50 = calculoerrorite(Estandar1,40,Ws50,[-0.3,0.3],delta_t_1,fs50,1.0);"
   ]
  },
  {
   "cell_type": "code",
   "execution_count": 447,
   "metadata": {},
   "outputs": [
    {
     "data": {
      "image/png": "[encoded data removed]",
      "text/plain": [
       "Figure(PyObject <Figure size 640x480 with 1 Axes>)"
      ]
     },
     "metadata": {},
     "output_type": "display_data"
    },
    {
     "name": "stderr",
     "output_type": "stream",
     "text": [
      "No handles with labels found to put in legend.\n"
     ]
    },
    {
     "data": {
      "text/plain": [
       "PyObject <matplotlib.legend.Legend object at 0x7f89eb22b850>"
      ]
     },
     "execution_count": 447,
     "metadata": {},
     "output_type": "execute_result"
    }
   ],
   "source": [
    "for i in 0:10\n",
    "    plot(erroresp80[2*i+1],log10.(erroresp80[2*i+2]),marker= \"None\", color=colores1[1])\n",
    "end\n",
    "xlabel(\"t\")\n",
    "ylabel(L\"$\\log_{10}(E(t))$\")\n",
    "title(\"Error periodo 80\")\n",
    "#grid(\"on\")\n",
    "legend(loc=\"lower right\",fancybox=\"true\" )"
   ]
  },
  {
   "cell_type": "code",
   "execution_count": 451,
   "metadata": {},
   "outputs": [
    {
     "data": {
      "image/png": "[encoded data removed]",
      "text/plain": [
       "Figure(PyObject <Figure size 640x480 with 1 Axes>)"
      ]
     },
     "metadata": {},
     "output_type": "display_data"
    },
    {
     "data": {
      "text/plain": [
       "(0.0, 0.04)"
      ]
     },
     "execution_count": 451,
     "metadata": {},
     "output_type": "execute_result"
    }
   ],
   "source": [
    "scatter(listaper80[1],listaper80[2],marker =\"+\")\n",
    "scatter(listaper60[1],listaper60[2],marker =\"+\")\n",
    "scatter(listaper59[1],listaper59[2],marker =\"+\")\n",
    "scatter(listaper50[1],listaper50[2],marker =\"+\")\n",
    "scatter(listaper29[1],listaper29[2],marker =\"+\")\n",
    "scatter(listaper26[1],listaper26[2],marker =\"+\")\n",
    "scatter(listaper24[1],listaper24[2],marker =\"+\")\n",
    "scatter(listaper17[1],listaper17[2],marker =\"+\")\n",
    "scatter(listaper2[1],listaper2[2],marker =\"+\")\n",
    "\n",
    "GraficarEstandarMap(Estandar1)\n",
    "xlim(0,1)\n",
    "ylim(0.0,0.04)"
   ]
  },
  {
   "cell_type": "code",
   "execution_count": 281,
   "metadata": {},
   "outputs": [
    {
     "data": {
      "image/png": "[encoded data removed]",
      "text/plain": [
       "Figure(PyObject <Figure size 640x480 with 1 Axes>)"
      ]
     },
     "metadata": {},
     "output_type": "display_data"
    },
    {
     "data": {
      "text/plain": [
       "(0.475, 0.526)"
      ]
     },
     "execution_count": 281,
     "metadata": {},
     "output_type": "execute_result"
    }
   ],
   "source": [
    "evaluar(Ws2, [0.0,0.3],1.0e-3,periodo2E1,colores1[4])\n",
    "evaluar(Wu2, [0.0,0.3],1.0e-3,periodo2E1,colores1[5])\n",
    "scatter(listaper2[1],listaper2[2],marker =\"+\")\n",
    "GraficarEstandarMap(Estandar1)\n",
    "ylim(0.475,0.526)\n",
    "#savefig(\"estandarp2k1_13.pdf\", dpi=300)"
   ]
  }
 ],
 "metadata": {
  "kernelspec": {
   "display_name": "Julia 1.4.1",
   "language": "julia",
   "name": "julia-1.4"
  },
  "language_info": {
   "file_extension": ".jl",
   "mimetype": "application/julia",
   "name": "julia",
   "version": "1.4.1"
  }
 },
 "nbformat": 4,
 "nbformat_minor": 4
}
