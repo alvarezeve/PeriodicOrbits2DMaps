{
 "cells": [
  {
   "cell_type": "markdown",
   "metadata": {},
   "source": [
    "# El mapeo estandar y sus orbitas periodicas"
   ]
  },
  {
   "cell_type": "code",
   "execution_count": 1,
   "metadata": {},
   "outputs": [
    {
     "name": "stderr",
     "output_type": "stream",
     "text": [
      "┌ Warning: `@pyimport foo` is deprecated in favor of `foo = pyimport(\"foo\")`.\n",
      "│   caller = _pywrap_pyimport(::PyObject) at PyCall.jl:399\n",
      "└ @ PyCall /home/eve/.julia/packages/PyCall/zqDXB/src/PyCall.jl:399\n"
     ]
    }
   ],
   "source": [
    "using PyPlot\n",
    "using TaylorSeries\n",
    "using IntervalArithmetic, IntervalRootFinding\n",
    "using ValidatedNumerics\n",
    "using StaticArrays\n",
    "using PyCall\n",
    "using LaTeXStrings\n",
    "#@pyimport matplotlib.patches as patch\n",
    "@pyimport numpy as np\n",
    "#@pyimport matplotlib.pyplot as plt"
   ]
  },
  {
   "cell_type": "code",
   "execution_count": 2,
   "metadata": {},
   "outputs": [
    {
     "data": {
      "text/plain": [
       "4-element Array{String,1}:\n",
       " \"@\"\n",
       " \"@v#.#\"\n",
       " \"@stdlib\"\n",
       " \"/home/eve/Documents/Tesis-v-1.0.2/Programas/IPM\""
      ]
     },
     "execution_count": 2,
     "metadata": {},
     "output_type": "execute_result"
    }
   ],
   "source": [
    "push!(LOAD_PATH,\"/home/eve/Documents/Tesis-v-1.0.2/Programas/IPM\")"
   ]
  },
  {
   "cell_type": "code",
   "execution_count": 3,
   "metadata": {},
   "outputs": [],
   "source": [
    "using ParametrizacionMetodo\n",
    "using mapeos"
   ]
  },
  {
   "cell_type": "code",
   "execution_count": 4,
   "metadata": {},
   "outputs": [
    {
     "data": {
      "text/plain": [
       "evaluar (generic function with 1 method)"
      ]
     },
     "execution_count": 4,
     "metadata": {},
     "output_type": "execute_result"
    }
   ],
   "source": [
    "function evaluar(A,Tiempo,paso,PuntoFijo,col)\n",
    "    ValX=Float64[]\n",
    "    ValY=Float64[]\n",
    "    #push!(ValX, PuntoFijo[1]) \n",
    "    #push!(ValY, PuntoFijo[2])\n",
    "    \n",
    "    for t = Tiempo[1]:paso:Tiempo[2]\n",
    "        x = A[1](t)\n",
    "        y = A[2](t)\n",
    "        \n",
    "        push!(ValX,x)\n",
    "        push!(ValY,y)\n",
    "        \n",
    "    end\n",
    "    p = plot(ValX,ValY,linestyle=\"-\",marker =\",\",color=col)\n",
    "    title(\"espacio fase\")\n",
    "    xlabel(L\"x\")\n",
    "    ylabel(L\"y\")\n",
    "    return ValX,ValY\n",
    "    \n",
    "end"
   ]
  },
  {
   "cell_type": "code",
   "execution_count": 5,
   "metadata": {},
   "outputs": [],
   "source": [
    "using SymPy"
   ]
  },
  {
   "cell_type": "code",
   "execution_count": 6,
   "metadata": {},
   "outputs": [
    {
     "data": {
      "text/latex": [
       "\\begin{equation*}k\\end{equation*}"
      ],
      "text/plain": [
       "k"
      ]
     },
     "execution_count": 6,
     "metadata": {},
     "output_type": "execute_result"
    }
   ],
   "source": [
    "x = Sym(\"x\")\n",
    "y = Sym(\"y\")\n",
    "k = Sym(\"k\")"
   ]
  },
  {
   "cell_type": "code",
   "execution_count": 7,
   "metadata": {},
   "outputs": [
    {
     "data": {
      "text/plain": [
       "Est (generic function with 1 method)"
      ]
     },
     "execution_count": 7,
     "metadata": {},
     "output_type": "execute_result"
    }
   ],
   "source": [
    "#defino las ecuaciones para el mapeo pero ahora simbolicas.\n",
    "Est(x,y,k) = [x+k*sin(y),y+x+k*sin(y)]"
   ]
  },
  {
   "cell_type": "code",
   "execution_count": 8,
   "metadata": {},
   "outputs": [
    {
     "data": {
      "text/latex": [
       "\\[ \\left[ \\begin{array}{r}k \\sin{\\left(y \\right)} + x\\\\k \\sin{\\left(y \\right)} + x + y\\end{array} \\right] \\]"
      ],
      "text/plain": [
       "2-element Array{Sym,1}:\n",
       "     k*sin(y) + x\n",
       " k*sin(y) + x + y"
      ]
     },
     "execution_count": 8,
     "metadata": {},
     "output_type": "execute_result"
    }
   ],
   "source": [
    "Est1 = Est(x,y,k)"
   ]
  },
  {
   "cell_type": "code",
   "execution_count": 9,
   "metadata": {},
   "outputs": [
    {
     "data": {
      "text/latex": [
       "\\[ \\left[ \\begin{array}{r}k \\sin{\\left(y \\right)} + k \\sin{\\left(k \\sin{\\left(y \\right)} + x + y \\right)} + x\\\\2 k \\sin{\\left(y \\right)} + k \\sin{\\left(k \\sin{\\left(y \\right)} + x + y \\right)} + 2 x + y\\end{array} \\right] \\]"
      ],
      "text/plain": [
       "2-element Array{Sym,1}:\n",
       "         k*sin(y) + k*sin(k*sin(y) + x + y) + x\n",
       " 2*k*sin(y) + k*sin(k*sin(y) + x + y) + 2*x + y"
      ]
     },
     "execution_count": 9,
     "metadata": {},
     "output_type": "execute_result"
    }
   ],
   "source": [
    "Est2 = Est(Est1[1],Est1[2],k)"
   ]
  },
  {
   "cell_type": "code",
   "execution_count": 10,
   "metadata": {},
   "outputs": [
    {
     "data": {
      "text/latex": [
       "\\[ \\left[ \\begin{array}{r}k \\sin{\\left(y \\right)} + k \\sin{\\left(k \\sin{\\left(y \\right)} + x + y \\right)}\\\\2 k \\sin{\\left(y \\right)} + k \\sin{\\left(k \\sin{\\left(y \\right)} + x + y \\right)} + 2 x\\end{array} \\right] \\]"
      ],
      "text/plain": [
       "2-element Array{Sym,1}:\n",
       "         k*sin(y) + k*sin(k*sin(y) + x + y)\n",
       " 2*k*sin(y) + k*sin(k*sin(y) + x + y) + 2*x"
      ]
     },
     "execution_count": 10,
     "metadata": {},
     "output_type": "execute_result"
    }
   ],
   "source": [
    "Estandar2 = Est2-[x,y]"
   ]
  },
  {
   "cell_type": "code",
   "execution_count": 15,
   "metadata": {},
   "outputs": [
    {
     "ename": "PyCall.PyError",
     "evalue": "PyError ($(Expr(:escape, :(ccall(#= /home/eve/.julia/packages/PyCall/zqDXB/src/pyfncall.jl:43 =# @pysym(:PyObject_Call), PyPtr, (PyPtr, PyPtr, PyPtr), o, pyargsptr, kw))))) <class 'NotImplementedError'>\nNotImplementedError('could not solve -20*y - 3*sin(y) + 20*asin(sin(y)) + 20*pi')\n  File \"/home/eve/.julia/conda/3/lib/python3.7/site-packages/sympy/solvers/solvers.py\", line 1096, in solve\n    solution = _solve_system(f, symbols, **flags)\n  File \"/home/eve/.julia/conda/3/lib/python3.7/site-packages/sympy/solvers/solvers.py\", line 1889, in _solve_system\n    raise NotImplementedError('could not solve %s' % eq2)\n",
     "output_type": "error",
     "traceback": [
      "PyError ($(Expr(:escape, :(ccall(#= /home/eve/.julia/packages/PyCall/zqDXB/src/pyfncall.jl:43 =# @pysym(:PyObject_Call), PyPtr, (PyPtr, PyPtr, PyPtr), o, pyargsptr, kw))))) <class 'NotImplementedError'>\nNotImplementedError('could not solve -20*y - 3*sin(y) + 20*asin(sin(y)) + 20*pi')\n  File \"/home/eve/.julia/conda/3/lib/python3.7/site-packages/sympy/solvers/solvers.py\", line 1096, in solve\n    solution = _solve_system(f, symbols, **flags)\n  File \"/home/eve/.julia/conda/3/lib/python3.7/site-packages/sympy/solvers/solvers.py\", line 1889, in _solve_system\n    raise NotImplementedError('could not solve %s' % eq2)\n",
      "",
      "Stacktrace:",
      " [1] pyerr_check at /home/eve/.julia/packages/PyCall/zqDXB/src/exception.jl:60 [inlined]",
      " [2] pyerr_check at /home/eve/.julia/packages/PyCall/zqDXB/src/exception.jl:64 [inlined]",
      " [3] _handle_error(::String) at /home/eve/.julia/packages/PyCall/zqDXB/src/exception.jl:81",
      " [4] macro expansion at /home/eve/.julia/packages/PyCall/zqDXB/src/exception.jl:95 [inlined]",
      " [5] #110 at /home/eve/.julia/packages/PyCall/zqDXB/src/pyfncall.jl:43 [inlined]",
      " [6] disable_sigint at ./c.jl:446 [inlined]",
      " [7] __pycall! at /home/eve/.julia/packages/PyCall/zqDXB/src/pyfncall.jl:42 [inlined]",
      " [8] _pycall!(::PyObject, ::PyObject, ::Tuple{Array{Sym,1},Array{Sym,1}}, ::Int64, ::Ptr{Nothing}) at /home/eve/.julia/packages/PyCall/zqDXB/src/pyfncall.jl:29",
      " [9] _pycall!(::PyObject, ::PyObject, ::Tuple{Array{Sym,1},Array{Sym,1}}, ::Base.Iterators.Pairs{Union{},Union{},Tuple{},NamedTuple{(),Tuple{}}}) at /home/eve/.julia/packages/PyCall/zqDXB/src/pyfncall.jl:11",
      " [10] (::PyObject)(::Array{Sym,1}, ::Vararg{Array{Sym,1},N} where N; kwargs::Base.Iterators.Pairs{Union{},Union{},Tuple{},NamedTuple{(),Tuple{}}}) at /home/eve/.julia/packages/PyCall/zqDXB/src/pyfncall.jl:86",
      " [11] (::PyObject)(::Array{Sym,1}, ::Vararg{Array{Sym,1},N} where N) at /home/eve/.julia/packages/PyCall/zqDXB/src/pyfncall.jl:86",
      " [12] solve(::Array{Sym,1}, ::Array{Sym,1}; kwargs::Base.Iterators.Pairs{Union{},Union{},Tuple{},NamedTuple{(),Tuple{}}}) at /home/eve/.julia/packages/SymPy/7D3De/src/mathfuns.jl:113",
      " [13] solve(::Array{Sym,1}, ::Array{Sym,1}) at /home/eve/.julia/packages/SymPy/7D3De/src/mathfuns.jl:113",
      " [14] top-level scope at In[15]:4"
     ]
    }
   ],
   "source": [
    "@vars x y\n",
    "eq1 = subs(Estandar2[1],k,0.3)\n",
    "eq2 = subs(Estandar2[2],k,0.3)\n",
    "solve([eq1, eq2], [x,y])"
   ]
  },
  {
   "cell_type": "code",
   "execution_count": null,
   "metadata": {},
   "outputs": [],
   "source": []
  },
  {
   "cell_type": "code",
   "execution_count": null,
   "metadata": {},
   "outputs": [],
   "source": []
  },
  {
   "cell_type": "code",
   "execution_count": 14,
   "metadata": {},
   "outputs": [
    {
     "data": {
      "text/latex": [
       "\\[ \\left[ \\begin{array}{r}k \\sin{\\left(y \\right)} + k \\sin{\\left(k \\sin{\\left(y \\right)} + x + y \\right)} + k \\sin{\\left(2 k \\sin{\\left(y \\right)} + k \\sin{\\left(k \\sin{\\left(y \\right)} + x + y \\right)} + 2 x + y \\right)} + x\\\\3 k \\sin{\\left(y \\right)} + 2 k \\sin{\\left(k \\sin{\\left(y \\right)} + x + y \\right)} + k \\sin{\\left(2 k \\sin{\\left(y \\right)} + k \\sin{\\left(k \\sin{\\left(y \\right)} + x + y \\right)} + 2 x + y \\right)} + 3 x + y\\end{array} \\right] \\]"
      ],
      "text/plain": [
       "2-element Array{Sym,1}:\n",
       "           k*sin(y) + k*sin(k*sin(y) + x + y) + k*sin(2*k*sin(y) + k*sin(k*sin(y) + x + y) + 2*x + y) + x\n",
       " 3*k*sin(y) + 2*k*sin(k*sin(y) + x + y) + k*sin(2*k*sin(y) + k*sin(k*sin(y) + x + y) + 2*x + y) + 3*x + y"
      ]
     },
     "execution_count": 14,
     "metadata": {},
     "output_type": "execute_result"
    }
   ],
   "source": [
    "Est3 = Est(Est2[1],Est2[2],k)"
   ]
  },
  {
   "cell_type": "code",
   "execution_count": 15,
   "metadata": {},
   "outputs": [
    {
     "data": {
      "text/latex": [
       "\\[ \\left[ \\begin{array}{r}k \\sin{\\left(y \\right)} + k \\sin{\\left(k \\sin{\\left(y \\right)} + x + y \\right)} + k \\sin{\\left(2 k \\sin{\\left(y \\right)} + k \\sin{\\left(k \\sin{\\left(y \\right)} + x + y \\right)} + 2 x + y \\right)}\\\\3 k \\sin{\\left(y \\right)} + 2 k \\sin{\\left(k \\sin{\\left(y \\right)} + x + y \\right)} + k \\sin{\\left(2 k \\sin{\\left(y \\right)} + k \\sin{\\left(k \\sin{\\left(y \\right)} + x + y \\right)} + 2 x + y \\right)} + 3 x\\end{array} \\right] \\]"
      ],
      "text/plain": [
       "2-element Array{Sym,1}:\n",
       "           k*sin(y) + k*sin(k*sin(y) + x + y) + k*sin(2*k*sin(y) + k*sin(k*sin(y) + x + y) + 2*x + y)\n",
       " 3*k*sin(y) + 2*k*sin(k*sin(y) + x + y) + k*sin(2*k*sin(y) + k*sin(k*sin(y) + x + y) + 2*x + y) + 3*x"
      ]
     },
     "execution_count": 15,
     "metadata": {},
     "output_type": "execute_result"
    }
   ],
   "source": [
    "Estandar3 = Est3-[x,y]"
   ]
  },
  {
   "cell_type": "code",
   "execution_count": null,
   "metadata": {},
   "outputs": [],
   "source": [
    "\\:star: Buscamos puntos de periodo 3 en el mapeo estandar"
   ]
  },
  {
   "cell_type": "code",
   "execution_count": null,
   "metadata": {},
   "outputs": [],
   "source": [
    "@vars x y\n",
    "eq1 = subs(Estandar3[1],k,0.1)\n",
    "eq2 = subs(Estandar3[2],k,0.1)\n",
    "solve([eq1, eq2], [x,y])"
   ]
  },
  {
   "cell_type": "code",
   "execution_count": null,
   "metadata": {},
   "outputs": [],
   "source": []
  }
 ],
 "metadata": {
  "kernelspec": {
   "display_name": "Julia 1.4.2",
   "language": "julia",
   "name": "julia-1.4"
  },
  "language_info": {
   "file_extension": ".jl",
   "mimetype": "application/julia",
   "name": "julia",
   "version": "1.4.2"
  }
 },
 "nbformat": 4,
 "nbformat_minor": 4
}
