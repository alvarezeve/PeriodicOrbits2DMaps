{
 "cells": [
  {
   "cell_type": "markdown",
   "metadata": {},
   "source": [
    "## Primera implementación del método de involuciones "
   ]
  },
  {
   "cell_type": "code",
   "execution_count": null,
   "metadata": {},
   "outputs": [],
   "source": [
    "using PyCall\n",
    "using LaTeXStrings\n",
    "@pyimport numpy as np\n",
    "using SymPy\n",
    "using Roots\n",
    "using Plots"
   ]
  },
  {
   "cell_type": "markdown",
   "metadata": {},
   "source": [
    "Definimos una función para componer n veces (tendremos 3 opciones)"
   ]
  },
  {
   "cell_type": "code",
   "execution_count": null,
   "metadata": {
    "scrolled": true
   },
   "outputs": [],
   "source": [
    "composition(f, n) = ∘(ntuple(_ -> f, n)...) # donde f es una funcion de una variable y composition regresa una funcion"
   ]
  },
  {
   "cell_type": "code",
   "execution_count": null,
   "metadata": {},
   "outputs": [],
   "source": [
    "compose(f, n) = reduce(∘, ntuple(_ -> f, n)) # donde f es una funcion de 1 variable"
   ]
  },
  {
   "cell_type": "code",
   "execution_count": null,
   "metadata": {},
   "outputs": [],
   "source": [
    "function composeNT(f, n)\n",
    "    function (x)  # <- Esto indica que es una funcion anonima\n",
    "        val = f(x)\n",
    "        for _ in 2:n\n",
    "            val = f(val)\n",
    "        end\n",
    "        return val\n",
    "    end\n",
    "end\n"
   ]
  },
  {
   "cell_type": "code",
   "execution_count": null,
   "metadata": {},
   "outputs": [],
   "source": [
    "function MapeoX(x,y,a,b)\n",
    "    vx = x+a*(1-(y-b*sin(2*pi*x))^2)\n",
    "    return vx\n",
    "end\n",
    "\n",
    "function MapeoY(x,y,a,b)\n",
    "    vy = y-b*sin(2*pi*x)\n",
    "    return vy\n",
    "end"
   ]
  },
  {
   "cell_type": "code",
   "execution_count": null,
   "metadata": {},
   "outputs": [],
   "source": [
    "MapeoXA(y) = MapeoX(0.0,y,0.1,0.1)\n",
    "MapeoYA(y) = MapeoY(0.0,y,0.1,0.1)"
   ]
  },
  {
   "cell_type": "code",
   "execution_count": null,
   "metadata": {},
   "outputs": [],
   "source": [
    "Mapeo2XA(y) = MapeoXA(MapeoXA(y))\n",
    "Mapeo2YA(y) = MapeoYA(MapeoYA(y))"
   ]
  },
  {
   "cell_type": "code",
   "execution_count": null,
   "metadata": {},
   "outputs": [],
   "source": [
    "function periodicoSimY(fx, fy, intervalo)\n",
    "    cerosy1 = find_zeros(fx,intervalo[1],intervalo[2])\n",
    "    cerosy2 = find_zeros(fy,intervalo[1],intervalo[2])\n",
    "    return [cerosy1,cerosy2]\n",
    "end"
   ]
  },
  {
   "cell_type": "code",
   "execution_count": null,
   "metadata": {},
   "outputs": [],
   "source": [
    "cerosY = periodicoSimY(Mapeo2XA, Mapeo2YA, [-4.0,4.0])"
   ]
  },
  {
   "cell_type": "code",
   "execution_count": null,
   "metadata": {},
   "outputs": [],
   "source": [
    "function simetria1(y,a)\n",
    "    x = mod((a/2)*(1-y^2),1)\n",
    "    return x\n",
    "end"
   ]
  },
  {
   "cell_type": "code",
   "execution_count": null,
   "metadata": {},
   "outputs": [],
   "source": [
    "simetria1A(y) = simetria1(y,0.1)"
   ]
  },
  {
   "cell_type": "code",
   "execution_count": null,
   "metadata": {},
   "outputs": [],
   "source": [
    "function periodicoSimX(fx,fy,simetria,cerosy1,cerosy2)\n",
    "    cerosx1 = [simetria(cerosy1[i]) for i in 1:length(cerosy1)]\n",
    "    cerosx2 = [simetria(cerosy2[i]) for i in 1:length(cerosy2)]\n",
    "    return [cerosx1, cerosx2]\n",
    "end"
   ]
  },
  {
   "cell_type": "code",
   "execution_count": null,
   "metadata": {},
   "outputs": [],
   "source": [
    "periodicoSimX(Mapeo2XA,Mapeo2YA,simetria1A,cerosY[1],cerosY[2])"
   ]
  },
  {
   "cell_type": "code",
   "execution_count": null,
   "metadata": {},
   "outputs": [],
   "source": [
    "mapeo2X(x)=composition(MapeoXA,20)(x) #esto esta mal debe ser funcion de y \n",
    "mapeo2Y(y)=composition(MapeoYA,20)(y)"
   ]
  },
  {
   "cell_type": "code",
   "execution_count": null,
   "metadata": {},
   "outputs": [],
   "source": [
    "cerosY = periodicoSimY(mapeo2X,mapeo2Y,[-18.0,18.0])"
   ]
  },
  {
   "cell_type": "code",
   "execution_count": null,
   "metadata": {},
   "outputs": [],
   "source": [
    "periodicoSimX(mapeo2X,mapeo2Y,simetria1A,cerosY[1],cerosY[2])"
   ]
  },
  {
   "cell_type": "markdown",
   "metadata": {},
   "source": [
    "* Como en general vamos a dar un mapeo y queremos que se sustituyan las simetrias y se vayan encontrando los puntos periodicos queremos juntar lo anterior "
   ]
  },
  {
   "cell_type": "markdown",
   "metadata": {},
   "source": [
    "Poe ejemplo imaginemos que tenemos el mapeo siguiente"
   ]
  },
  {
   "cell_type": "code",
   "execution_count": null,
   "metadata": {},
   "outputs": [],
   "source": [
    "function MapeoX(x,y,a,b)\n",
    "    vx = x+a*(1-(y-b*sin(2*pi*x))^2)\n",
    "    return vx\n",
    "end\n",
    "\n",
    "function MapeoY(x,y,a,b)\n",
    "    vy = y-b*sin(2*pi*x)\n",
    "    return vy\n",
    "end"
   ]
  },
  {
   "cell_type": "markdown",
   "metadata": {},
   "source": [
    "* Despues nos dan los parametros y la simetria \n",
    "\n",
    "a=0.1\n",
    "b=0.1\n",
    "\n",
    "sim1 = funcion de y\n"
   ]
  },
  {
   "cell_type": "markdown",
   "metadata": {},
   "source": [
    "* Necesitamos hacer un nuevo mapeo interno con esas caracteristicas\n"
   ]
  },
  {
   "cell_type": "code",
   "execution_count": null,
   "metadata": {},
   "outputs": [],
   "source": [
    "function substitutionMap(fx,fy,a,b,sim)\n",
    "    MapeoXA(y) = MapeoX(sim(y),y,a,b)\n",
    "    MapeoYA(y) = MapeoY(sim(y),y,a,b)\n",
    "    return [MapeoXA,MapeoYA]\n",
    "end"
   ]
  },
  {
   "cell_type": "code",
   "execution_count": null,
   "metadata": {},
   "outputs": [],
   "source": [
    "simetria1(y)= 0.0\n",
    "simetria2(y)=(1-y^2)/2"
   ]
  },
  {
   "cell_type": "code",
   "execution_count": null,
   "metadata": {},
   "outputs": [],
   "source": [
    "Maps1 = substitutionMap(MapeoX,MapeoY,0.1,0.1,simetria1)"
   ]
  },
  {
   "cell_type": "code",
   "execution_count": null,
   "metadata": {},
   "outputs": [],
   "source": [
    "Maps1[2]"
   ]
  },
  {
   "cell_type": "markdown",
   "metadata": {},
   "source": [
    "* Estas funciones son las que iteramos despues \n"
   ]
  },
  {
   "cell_type": "code",
   "execution_count": null,
   "metadata": {},
   "outputs": [],
   "source": [
    "mapeo2X(y)=composition(Maps1[1],20)(y)\n",
    "mapeo2Y(y)=composition(Maps1[2],20)(y)"
   ]
  },
  {
   "cell_type": "code",
   "execution_count": null,
   "metadata": {},
   "outputs": [],
   "source": [
    "cerosY = periodicoSimY(mapeo2X,mapeo2Y,[-18.0,18.0])"
   ]
  },
  {
   "cell_type": "code",
   "execution_count": null,
   "metadata": {},
   "outputs": [],
   "source": [
    "periodicoSimX(mapeo2X,mapeo2Y,simetria1,cerosY[1],cerosY[2])"
   ]
  },
  {
   "cell_type": "markdown",
   "metadata": {},
   "source": [
    "* Que pasa si la condicion de simetria es nua funcion?"
   ]
  },
  {
   "cell_type": "markdown",
   "metadata": {},
   "source": [
    "* Veamos si se puede sustituir"
   ]
  },
  {
   "cell_type": "code",
   "execution_count": null,
   "metadata": {},
   "outputs": [],
   "source": [
    "Maps2 = substitutionMap(MapeoX,MapeoY,0.1,0.1,simetria2)"
   ]
  },
  {
   "cell_type": "code",
   "execution_count": null,
   "metadata": {},
   "outputs": [],
   "source": [
    "mapeo3X(y)=composition(Maps2[1],20)(y)\n",
    "mapeo3Y(y)=composition(Maps2[2],20)(y)"
   ]
  },
  {
   "cell_type": "code",
   "execution_count": null,
   "metadata": {},
   "outputs": [],
   "source": [
    "cerosY2 = periodicoSimY(mapeo3X,mapeo3Y,[-1.0,1.0])"
   ]
  },
  {
   "cell_type": "code",
   "execution_count": null,
   "metadata": {},
   "outputs": [],
   "source": [
    "periodicoSimX(mapeo3X,mapeo3Y,simetria2,cerosY2[1],cerosY2[2])"
   ]
  },
  {
   "cell_type": "markdown",
   "metadata": {},
   "source": [
    "* Ahora juntamos todo en una funcion o dos"
   ]
  },
  {
   "cell_type": "code",
   "execution_count": null,
   "metadata": {},
   "outputs": [],
   "source": [
    "function PeriodicosS(fx,fy,simetria,a,b,n,intervalo)\n",
    "    Maps = substitutionMap(fx,fy,a,b,simetria)\n",
    "    mapeoX(y)=composition(Maps[1],n)(y)\n",
    "    mapeoY(y)=composition(Maps[2],n)(y)\n",
    "    cerosY = periodicoSimY(mapeoX,mapeoY,[intervalo[1],intervalo[2]])\n",
    "    cerosX = periodicoSimX(mapeoX,mapeoY,simetria,cerosY[1],cerosY[2])\n",
    "    return [cerosX,cerosY]\n",
    "end"
   ]
  },
  {
   "cell_type": "code",
   "execution_count": null,
   "metadata": {},
   "outputs": [],
   "source": [
    "PeriodicosS(MapeoX,MapeoY,simetria2,0.1,0.1,20,[-1,1])"
   ]
  },
  {
   "cell_type": "code",
   "execution_count": null,
   "metadata": {},
   "outputs": [],
   "source": [
    "PeriodicosS(MapeoX,MapeoY,simetria1,0.1,0.1,20,[-19,19])"
   ]
  },
  {
   "cell_type": "code",
   "execution_count": null,
   "metadata": {},
   "outputs": [],
   "source": [
    "push!(LOAD_PATH,\"/home/eve/Documents/Matematicas/Proyectos/Implementacion\")"
   ]
  },
  {
   "cell_type": "code",
   "execution_count": null,
   "metadata": {},
   "outputs": [],
   "source": [
    "using PeriodicosSymmetries"
   ]
  },
  {
   "cell_type": "code",
   "execution_count": null,
   "metadata": {},
   "outputs": [],
   "source": [
    "PeriodicosS(MapeoX,MapeoY,simetria1,0.1,0.1,20,[-19,19])"
   ]
  },
  {
   "cell_type": "code",
   "execution_count": null,
   "metadata": {},
   "outputs": [],
   "source": [
    "?PeriodicosS"
   ]
  },
  {
   "cell_type": "code",
   "execution_count": null,
   "metadata": {},
   "outputs": [],
   "source": [
    "function MapeoX(x,y,a,b)\n",
    "    vx = x+a*(1-(y-b*sin(2*pi*x))^2)\n",
    "    return vx\n",
    "end\n",
    "\n",
    "function MapeoY(x,y,a,b)\n",
    "    vy = y-b*sin(2*pi*x)\n",
    "    return vy\n",
    "end"
   ]
  },
  {
   "cell_type": "code",
   "execution_count": null,
   "metadata": {},
   "outputs": [],
   "source": [
    "simetria1(y)= 0.0\n",
    "simetria2(y)=(1-y^2)/2"
   ]
  },
  {
   "cell_type": "code",
   "execution_count": null,
   "metadata": {},
   "outputs": [],
   "source": []
  }
 ],
 "metadata": {
  "kernelspec": {
   "display_name": "Julia 1.4.2",
   "language": "julia",
   "name": "julia-1.4"
  },
  "language_info": {
   "file_extension": ".jl",
   "mimetype": "application/julia",
   "name": "julia",
   "version": "1.4.2"
  }
 },
 "nbformat": 4,
 "nbformat_minor": 4
}
