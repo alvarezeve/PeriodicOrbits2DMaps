{
 "cells": [
  {
   "cell_type": "code",
   "execution_count": 83,
   "metadata": {},
   "outputs": [
    {
     "data": {
      "text/plain": [
       "MapeoY (generic function with 1 method)"
      ]
     },
     "execution_count": 83,
     "metadata": {},
     "output_type": "execute_result"
    }
   ],
   "source": [
    "function MapeoX(x,y,a,b)\n",
    "    vx = x+a*(1-(y-b*sin(2*pi*x))^2)\n",
    "    return vx\n",
    "end\n",
    "\n",
    "function MapeoY(x,y,a,b)\n",
    "    vy = y-b*sin(2*pi*x)\n",
    "    return vy\n",
    "end"
   ]
  },
  {
   "cell_type": "code",
   "execution_count": 84,
   "metadata": {},
   "outputs": [
    {
     "data": {
      "text/plain": [
       "simetria2 (generic function with 1 method)"
      ]
     },
     "execution_count": 84,
     "metadata": {},
     "output_type": "execute_result"
    }
   ],
   "source": [
    "simetria1(y)= 0.0\n",
    "simetria2(y)=0.1*(1-y^2)/2"
   ]
  },
  {
   "cell_type": "code",
   "execution_count": 3,
   "metadata": {},
   "outputs": [
    {
     "data": {
      "text/plain": [
       "4-element Array{String,1}:\n",
       " \"@\"\n",
       " \"@v#.#\"\n",
       " \"@stdlib\"\n",
       " \"/home/eve/Documents/Matematicas/Proyectos/Implementacion\""
      ]
     },
     "execution_count": 3,
     "metadata": {},
     "output_type": "execute_result"
    }
   ],
   "source": [
    "push!(LOAD_PATH,\"/home/eve/Documents/Matematicas/Proyectos/Implementacion\")"
   ]
  },
  {
   "cell_type": "code",
   "execution_count": 4,
   "metadata": {},
   "outputs": [
    {
     "name": "stderr",
     "output_type": "stream",
     "text": [
      "┌ Info: Precompiling PeriodicosSymmetries [top-level]\n",
      "└ @ Base loading.jl:1260\n"
     ]
    }
   ],
   "source": [
    "using PeriodicosSymmetries"
   ]
  },
  {
   "cell_type": "code",
   "execution_count": null,
   "metadata": {},
   "outputs": [],
   "source": [
    "#a = BigFloat(0.1)\n",
    "#b = BigFloat(0.1)\n",
    "#i = BigFloat(18.0)"
   ]
  },
  {
   "cell_type": "code",
   "execution_count": 5,
   "metadata": {},
   "outputs": [
    {
     "data": {
      "text/plain": [
       "18.0"
      ]
     },
     "execution_count": 5,
     "metadata": {},
     "output_type": "execute_result"
    }
   ],
   "source": [
    "a = 0.1\n",
    "b = 0.1\n",
    "i = 18.0"
   ]
  },
  {
   "cell_type": "code",
   "execution_count": 131,
   "metadata": {},
   "outputs": [
    {
     "data": {
      "text/plain": [
       "2-element Array{Array{Array{Float64,1},1},1}:\n",
       " [[], [0.045544751779358544]]\n",
       " [[], [0.2985045467205303]]"
      ]
     },
     "execution_count": 131,
     "metadata": {},
     "output_type": "execute_result"
    }
   ],
   "source": [
    "PuntosP =PeriodicosS(MapeoX,MapeoY,simetria2,a,b,10,[-4.0,4.0])"
   ]
  },
  {
   "cell_type": "markdown",
   "metadata": {},
   "source": [
    "* queremos ver si los puntos son de periodo n o si son de periodo menor a n. Para ello debemos ver si \n",
    "$$f^{k}(x)=x$$ \n",
    "con $k<n$"
   ]
  },
  {
   "cell_type": "code",
   "execution_count": 10,
   "metadata": {},
   "outputs": [
    {
     "data": {
      "text/plain": [
       "2-element Array{Function,1}:\n",
       " PeriodicosSymmetries.var\"#MapeoXA#3\"{typeof(MapeoX),Float64,Float64,typeof(simetria2)}(MapeoX, 0.1, 0.1, simetria2)\n",
       " PeriodicosSymmetries.var\"#MapeoYA#4\"{typeof(MapeoY),Float64,Float64,typeof(simetria2)}(MapeoY, 0.1, 0.1, simetria2)"
      ]
     },
     "execution_count": 10,
     "metadata": {},
     "output_type": "execute_result"
    }
   ],
   "source": [
    "MapeosN = substitutionMap(MapeoX,MapeoY,0.1,0.1,simetria2)"
   ]
  },
  {
   "cell_type": "code",
   "execution_count": 51,
   "metadata": {},
   "outputs": [
    {
     "data": {
      "text/plain": [
       "Mapeo (generic function with 1 method)"
      ]
     },
     "execution_count": 51,
     "metadata": {},
     "output_type": "execute_result"
    }
   ],
   "source": [
    "Mapeo(x,y) = [MapeoX(x,y,a,b),MapeoY(x,y,a,b)]"
   ]
  },
  {
   "cell_type": "code",
   "execution_count": 117,
   "metadata": {},
   "outputs": [
    {
     "data": {
      "text/plain": [
       "-6.09070701753279"
      ]
     },
     "execution_count": 117,
     "metadata": {},
     "output_type": "execute_result"
    }
   ],
   "source": [
    "PuntosP[2][1][1]"
   ]
  },
  {
   "cell_type": "code",
   "execution_count": 118,
   "metadata": {},
   "outputs": [],
   "source": [
    "lista1 = []\n",
    "lista2 = []\n",
    "p = [PuntosP[1][1][1],PuntosP[2][1][1]]\n",
    "append!(lista1,p[1])\n",
    "append!(lista2,p[2])\n",
    "for i in 1:20\n",
    "    p = Mapeo(p[1],p[2])\n",
    "    append!(lista1,p[1])\n",
    "    append!(lista2,p[2])\n",
    "end\n",
    "    "
   ]
  },
  {
   "cell_type": "code",
   "execution_count": 119,
   "metadata": {},
   "outputs": [
    {
     "data": {
      "text/plain": [
       "21-element Array{Any,1}:\n",
       " -6.09070701753279\n",
       " -6.184830034633491\n",
       " -6.203597700468362\n",
       " -6.105197890515404\n",
       " -6.160961401070839\n",
       " -6.220549732305821\n",
       " -6.148137637733662\n",
       " -6.116589790856412\n",
       " -6.2101007423357775\n",
       " -6.178533336797249\n",
       " -6.092042397880614\n",
       " -6.19054140567961\n",
       " -6.196751765462811\n",
       " -6.096751802131817\n",
       " -6.1709672809840574\n",
       " -6.216358311390647\n",
       " -6.1316895777545275\n",
       " -6.132281168352147\n",
       " -6.216560661776014\n",
       " -6.170663136772696\n",
       " -6.096989659975004"
      ]
     },
     "execution_count": 119,
     "metadata": {},
     "output_type": "execute_result"
    }
   ],
   "source": [
    "lista2"
   ]
  },
  {
   "cell_type": "code",
   "execution_count": null,
   "metadata": {},
   "outputs": [],
   "source": [
    "tresM(x)=composition(MapeosN[1],3)(x)"
   ]
  },
  {
   "cell_type": "code",
   "execution_count": null,
   "metadata": {},
   "outputs": [],
   "source": [
    "trextmanoM(x) = MapeosN[1](MapeosN[1](MapeosN[1](x)))"
   ]
  },
  {
   "cell_type": "code",
   "execution_count": null,
   "metadata": {},
   "outputs": [],
   "source": [
    "tresM(0.3)==trextmanoM(0.3)"
   ]
  },
  {
   "cell_type": "code",
   "execution_count": 67,
   "metadata": {},
   "outputs": [
    {
     "data": {
      "text/plain": [
       "funcionprueba (generic function with 1 method)"
      ]
     },
     "execution_count": 67,
     "metadata": {},
     "output_type": "execute_result"
    }
   ],
   "source": [
    "funcionprueba(y)=MapeoY((1-y^2)/2,y,0.1,0.1)"
   ]
  },
  {
   "cell_type": "code",
   "execution_count": 60,
   "metadata": {},
   "outputs": [],
   "source": [
    "using Roots"
   ]
  },
  {
   "cell_type": "code",
   "execution_count": 75,
   "metadata": {},
   "outputs": [
    {
     "data": {
      "text/plain": [
       "f2 (generic function with 1 method)"
      ]
     },
     "execution_count": 75,
     "metadata": {},
     "output_type": "execute_result"
    }
   ],
   "source": [
    "f2(y) =funcionprueba(funcionprueba(y))"
   ]
  },
  {
   "cell_type": "code",
   "execution_count": 79,
   "metadata": {},
   "outputs": [
    {
     "data": {
      "text/plain": [
       "1-element Array{Float64,1}:\n",
       " 2.4492935982947065e-17"
      ]
     },
     "execution_count": 79,
     "metadata": {},
     "output_type": "execute_result"
    }
   ],
   "source": [
    "find_zeros(f2,-100,100)"
   ]
  },
  {
   "cell_type": "code",
   "execution_count": null,
   "metadata": {},
   "outputs": [],
   "source": [
    "f51()"
   ]
  }
 ],
 "metadata": {
  "kernelspec": {
   "display_name": "Julia 1.4.2",
   "language": "julia",
   "name": "julia-1.4"
  },
  "language_info": {
   "file_extension": ".jl",
   "mimetype": "application/julia",
   "name": "julia",
   "version": "1.4.2"
  }
 },
 "nbformat": 4,
 "nbformat_minor": 4
}
