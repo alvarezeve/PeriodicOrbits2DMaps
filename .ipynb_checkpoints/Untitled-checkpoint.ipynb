{
 "cells": [
  {
   "cell_type": "markdown",
   "metadata": {},
   "source": [
    "# El mapeo estandar y sus orbitas periodicas"
   ]
  },
  {
   "cell_type": "code",
   "execution_count": 1,
   "metadata": {},
   "outputs": [
    {
     "name": "stderr",
     "output_type": "stream",
     "text": [
      "┌ Warning: `@pyimport foo` is deprecated in favor of `foo = pyimport(\"foo\")`.\n",
      "│   caller = _pywrap_pyimport(::PyObject) at PyCall.jl:399\n",
      "└ @ PyCall /home/eve/.julia/packages/PyCall/zqDXB/src/PyCall.jl:399\n"
     ]
    }
   ],
   "source": [
    "using PyPlot\n",
    "using TaylorSeries\n",
    "using IntervalArithmetic, IntervalRootFinding\n",
    "using ValidatedNumerics\n",
    "using StaticArrays\n",
    "using PyCall\n",
    "using LaTeXStrings\n",
    "#@pyimport matplotlib.patches as patch\n",
    "@pyimport numpy as np\n",
    "#@pyimport matplotlib.pyplot as plt"
   ]
  },
  {
   "cell_type": "code",
   "execution_count": 2,
   "metadata": {},
   "outputs": [
    {
     "data": {
      "text/plain": [
       "4-element Array{String,1}:\n",
       " \"@\"\n",
       " \"@v#.#\"\n",
       " \"@stdlib\"\n",
       " \"/home/eve/Documents/Tesis-v-1.0.2/Programas/IPM\""
      ]
     },
     "execution_count": 2,
     "metadata": {},
     "output_type": "execute_result"
    }
   ],
   "source": [
    "push!(LOAD_PATH,\"/home/eve/Documents/Tesis-v-1.0.2/Programas/IPM\")"
   ]
  },
  {
   "cell_type": "code",
   "execution_count": 3,
   "metadata": {},
   "outputs": [],
   "source": [
    "using ParametrizacionMetodo\n",
    "using mapeos"
   ]
  },
  {
   "cell_type": "code",
   "execution_count": 4,
   "metadata": {},
   "outputs": [
    {
     "data": {
      "text/plain": [
       "evaluar (generic function with 1 method)"
      ]
     },
     "execution_count": 4,
     "metadata": {},
     "output_type": "execute_result"
    }
   ],
   "source": [
    "function evaluar(A,Tiempo,paso,PuntoFijo,col)\n",
    "    ValX=Float64[]\n",
    "    ValY=Float64[]\n",
    "    #push!(ValX, PuntoFijo[1]) \n",
    "    #push!(ValY, PuntoFijo[2])\n",
    "    \n",
    "    for t = Tiempo[1]:paso:Tiempo[2]\n",
    "        x = A[1](t)\n",
    "        y = A[2](t)\n",
    "        \n",
    "        push!(ValX,x)\n",
    "        push!(ValY,y)\n",
    "        \n",
    "    end\n",
    "    p = plot(ValX,ValY,linestyle=\"-\",marker =\",\",color=col)\n",
    "    title(\"espacio fase\")\n",
    "    xlabel(L\"x\")\n",
    "    ylabel(L\"y\")\n",
    "    return ValX,ValY\n",
    "    \n",
    "end"
   ]
  },
  {
   "cell_type": "code",
   "execution_count": 6,
   "metadata": {},
   "outputs": [],
   "source": [
    "using SymPy"
   ]
  },
  {
   "cell_type": "code",
   "execution_count": 8,
   "metadata": {},
   "outputs": [
    {
     "data": {
      "text/latex": [
       "\\begin{equation*}k\\end{equation*}"
      ],
      "text/plain": [
       "k"
      ]
     },
     "execution_count": 8,
     "metadata": {},
     "output_type": "execute_result"
    }
   ],
   "source": [
    "x = Sym(\"x\")\n",
    "y = Sym(\"y\")\n",
    "k = Sym(\"k\")"
   ]
  },
  {
   "cell_type": "code",
   "execution_count": 9,
   "metadata": {},
   "outputs": [
    {
     "data": {
      "text/plain": [
       "Est (generic function with 1 method)"
      ]
     },
     "execution_count": 9,
     "metadata": {},
     "output_type": "execute_result"
    }
   ],
   "source": [
    "#defino las ecuaciones para el mapeo pero ahora simbolicas.\n",
    "Est(x,y,k) = [x+k*sin(y),y+x+k*sin(y)]"
   ]
  },
  {
   "cell_type": "code",
   "execution_count": 11,
   "metadata": {},
   "outputs": [
    {
     "data": {
      "text/latex": [
       "\\[ \\left[ \\begin{array}{r}k \\sin{\\left(y \\right)} + x\\\\k \\sin{\\left(y \\right)} + x + y\\end{array} \\right] \\]"
      ],
      "text/plain": [
       "2-element Array{Sym,1}:\n",
       "     k*sin(y) + x\n",
       " k*sin(y) + x + y"
      ]
     },
     "execution_count": 11,
     "metadata": {},
     "output_type": "execute_result"
    }
   ],
   "source": [
    "Est1 = Est(x,y,k)"
   ]
  },
  {
   "cell_type": "code",
   "execution_count": 13,
   "metadata": {},
   "outputs": [
    {
     "data": {
      "text/latex": [
       "\\[ \\left[ \\begin{array}{r}k \\sin{\\left(y \\right)} + k \\sin{\\left(k \\sin{\\left(y \\right)} + x + y \\right)} + x\\\\2 k \\sin{\\left(y \\right)} + k \\sin{\\left(k \\sin{\\left(y \\right)} + x + y \\right)} + 2 x + y\\end{array} \\right] \\]"
      ],
      "text/plain": [
       "2-element Array{Sym,1}:\n",
       "         k*sin(y) + k*sin(k*sin(y) + x + y) + x\n",
       " 2*k*sin(y) + k*sin(k*sin(y) + x + y) + 2*x + y"
      ]
     },
     "execution_count": 13,
     "metadata": {},
     "output_type": "execute_result"
    }
   ],
   "source": [
    "Est2 = Est(Est1[1],Est1[2],k)"
   ]
  },
  {
   "cell_type": "code",
   "execution_count": 14,
   "metadata": {},
   "outputs": [
    {
     "data": {
      "text/latex": [
       "\\[ \\left[ \\begin{array}{r}k \\sin{\\left(y \\right)} + k \\sin{\\left(k \\sin{\\left(y \\right)} + x + y \\right)} + k \\sin{\\left(2 k \\sin{\\left(y \\right)} + k \\sin{\\left(k \\sin{\\left(y \\right)} + x + y \\right)} + 2 x + y \\right)} + x\\\\3 k \\sin{\\left(y \\right)} + 2 k \\sin{\\left(k \\sin{\\left(y \\right)} + x + y \\right)} + k \\sin{\\left(2 k \\sin{\\left(y \\right)} + k \\sin{\\left(k \\sin{\\left(y \\right)} + x + y \\right)} + 2 x + y \\right)} + 3 x + y\\end{array} \\right] \\]"
      ],
      "text/plain": [
       "2-element Array{Sym,1}:\n",
       "           k*sin(y) + k*sin(k*sin(y) + x + y) + k*sin(2*k*sin(y) + k*sin(k*sin(y) + x + y) + 2*x + y) + x\n",
       " 3*k*sin(y) + 2*k*sin(k*sin(y) + x + y) + k*sin(2*k*sin(y) + k*sin(k*sin(y) + x + y) + 2*x + y) + 3*x + y"
      ]
     },
     "execution_count": 14,
     "metadata": {},
     "output_type": "execute_result"
    }
   ],
   "source": [
    "Est3 = Est(Est2[1],Est2[2],k)"
   ]
  },
  {
   "cell_type": "code",
   "execution_count": 15,
   "metadata": {},
   "outputs": [
    {
     "data": {
      "text/latex": [
       "\\[ \\left[ \\begin{array}{r}k \\sin{\\left(y \\right)} + k \\sin{\\left(k \\sin{\\left(y \\right)} + x + y \\right)} + k \\sin{\\left(2 k \\sin{\\left(y \\right)} + k \\sin{\\left(k \\sin{\\left(y \\right)} + x + y \\right)} + 2 x + y \\right)}\\\\3 k \\sin{\\left(y \\right)} + 2 k \\sin{\\left(k \\sin{\\left(y \\right)} + x + y \\right)} + k \\sin{\\left(2 k \\sin{\\left(y \\right)} + k \\sin{\\left(k \\sin{\\left(y \\right)} + x + y \\right)} + 2 x + y \\right)} + 3 x\\end{array} \\right] \\]"
      ],
      "text/plain": [
       "2-element Array{Sym,1}:\n",
       "           k*sin(y) + k*sin(k*sin(y) + x + y) + k*sin(2*k*sin(y) + k*sin(k*sin(y) + x + y) + 2*x + y)\n",
       " 3*k*sin(y) + 2*k*sin(k*sin(y) + x + y) + k*sin(2*k*sin(y) + k*sin(k*sin(y) + x + y) + 2*x + y) + 3*x"
      ]
     },
     "execution_count": 15,
     "metadata": {},
     "output_type": "execute_result"
    }
   ],
   "source": [
    "Estandar3 = Est3-[x,y]"
   ]
  },
  {
   "cell_type": "code",
   "execution_count": null,
   "metadata": {},
   "outputs": [],
   "source": [
    "\\:star: Buscamos puntos de periodo 3 en el mapeo estandar"
   ]
  },
  {
   "cell_type": "code",
   "execution_count": null,
   "metadata": {},
   "outputs": [],
   "source": [
    "@vars x y\n",
    "eq1 = subs(Estandar3[1],k,0.1)\n",
    "eq2 = subs(Estandar3[2],k,0.1)\n",
    "solve([eq1, eq2], [x,y])"
   ]
  },
  {
   "cell_type": "code",
   "execution_count": null,
   "metadata": {},
   "outputs": [],
   "source": []
  }
 ],
 "metadata": {
  "kernelspec": {
   "display_name": "Julia 1.4.2",
   "language": "julia",
   "name": "julia-1.4"
  },
  "language_info": {
   "file_extension": ".jl",
   "mimetype": "application/julia",
   "name": "julia",
   "version": "1.4.2"
  }
 },
 "nbformat": 4,
 "nbformat_minor": 4
}
