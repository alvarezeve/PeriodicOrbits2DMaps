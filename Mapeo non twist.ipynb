{
 "cells": [
  {
   "cell_type": "markdown",
   "metadata": {},
   "source": [
    "# El mapeo non-twist y sus orbitas periodicas"
   ]
  },
  {
   "cell_type": "code",
   "execution_count": 1,
   "metadata": {},
   "outputs": [
    {
     "name": "stderr",
     "output_type": "stream",
     "text": [
      "┌ Warning: `@pyimport foo` is deprecated in favor of `foo = pyimport(\"foo\")`.\n",
      "│   caller = _pywrap_pyimport(::PyObject) at PyCall.jl:399\n",
      "└ @ PyCall /home/eve/.julia/packages/PyCall/zqDXB/src/PyCall.jl:399\n"
     ]
    }
   ],
   "source": [
    "using PyPlot\n",
    "using TaylorSeries\n",
    "using IntervalArithmetic, IntervalRootFinding\n",
    "using ValidatedNumerics\n",
    "using StaticArrays\n",
    "using PyCall\n",
    "using LaTeXStrings\n",
    "#@pyimport matplotlib.patches as patch\n",
    "@pyimport numpy as np\n",
    "#@pyimport matplotlib.pyplot as plt"
   ]
  },
  {
   "cell_type": "code",
   "execution_count": 2,
   "metadata": {},
   "outputs": [
    {
     "data": {
      "text/plain": [
       "4-element Array{String,1}:\n",
       " \"@\"\n",
       " \"@v#.#\"\n",
       " \"@stdlib\"\n",
       " \"/home/eve/Documents/Tesis-v-1.0.2/Programas/IPM\""
      ]
     },
     "execution_count": 2,
     "metadata": {},
     "output_type": "execute_result"
    }
   ],
   "source": [
    "push!(LOAD_PATH,\"/home/eve/Documents/Tesis-v-1.0.2/Programas/IPM\")"
   ]
  },
  {
   "cell_type": "code",
   "execution_count": 3,
   "metadata": {},
   "outputs": [],
   "source": [
    "using ParametrizacionMetodo\n",
    "using mapeos"
   ]
  },
  {
   "cell_type": "code",
   "execution_count": 4,
   "metadata": {},
   "outputs": [],
   "source": [
    "using SymPy"
   ]
  },
  {
   "cell_type": "code",
   "execution_count": 7,
   "metadata": {},
   "outputs": [
    {
     "data": {
      "text/latex": [
       "\\begin{equation*}b\\end{equation*}"
      ],
      "text/plain": [
       "b"
      ]
     },
     "execution_count": 7,
     "metadata": {},
     "output_type": "execute_result"
    }
   ],
   "source": [
    "x = Sym(\"x\")\n",
    "y = Sym(\"y\")\n",
    "a = Sym(\"a\")\n",
    "b = Sym(\"b\")"
   ]
  },
  {
   "cell_type": "code",
   "execution_count": 8,
   "metadata": {},
   "outputs": [
    {
     "data": {
      "text/plain": [
       "NT (generic function with 1 method)"
      ]
     },
     "execution_count": 8,
     "metadata": {},
     "output_type": "execute_result"
    }
   ],
   "source": [
    "#defino las ecuaciones para el mapeo pero ahora simbolicas.\n",
    "NT(x,y,a,b) = [x+a*(1-(y-b*sin(2*pi*x))^2), y-b*sin(2*pi*x)]"
   ]
  },
  {
   "cell_type": "code",
   "execution_count": 9,
   "metadata": {},
   "outputs": [
    {
     "data": {
      "text/latex": [
       "\\[ \\left[ \\begin{array}{r}a \\left(1 - \\left(- b \\sin{\\left(6.28318530717959 x \\right)} + y\\right)^{2}\\right) + x\\\\- b \\sin{\\left(6.28318530717959 x \\right)} + y\\end{array} \\right] \\]"
      ],
      "text/plain": [
       "2-element Array{Sym,1}:\n",
       " a*(1 - (-b*sin(6.28318530717959*x) + y)^2) + x\n",
       "                 -b*sin(6.28318530717959*x) + y"
      ]
     },
     "execution_count": 9,
     "metadata": {},
     "output_type": "execute_result"
    }
   ],
   "source": [
    "NT1 = NT(x,y,a,b)"
   ]
  },
  {
   "cell_type": "code",
   "execution_count": 10,
   "metadata": {},
   "outputs": [
    {
     "data": {
      "text/latex": [
       "\\begin{equation*}- b \\sin{\\left(6.28318530717959 x \\right)} + y\\end{equation*}"
      ],
      "text/plain": [
       "-b⋅sin(6.28318530717959⋅x) + y"
      ]
     },
     "execution_count": 10,
     "metadata": {},
     "output_type": "execute_result"
    }
   ],
   "source": [
    "NT1[2]"
   ]
  },
  {
   "cell_type": "code",
   "execution_count": 11,
   "metadata": {},
   "outputs": [
    {
     "data": {
      "text/latex": [
       "\\[ \\left[ \\begin{array}{r}a \\left(1 - \\left(- b \\sin{\\left(6.28318530717959 x \\right)} + y\\right)^{2}\\right) + a \\left(1 - \\left(- b \\sin{\\left(6.28318530717959 x \\right)} - b \\sin{\\left(6.28318530717959 a \\left(1 - \\left(- b \\sin{\\left(6.28318530717959 x \\right)} + y\\right)^{2}\\right) + 6.28318530717959 x \\right)} + y\\right)^{2}\\right) + x\\\\- b \\sin{\\left(6.28318530717959 x \\right)} - b \\sin{\\left(6.28318530717959 a \\left(1 - \\left(- b \\sin{\\left(6.28318530717959 x \\right)} + y\\right)^{2}\\right) + 6.28318530717959 x \\right)} + y\\end{array} \\right] \\]"
      ],
      "text/plain": [
       "2-element Array{Sym,1}:\n",
       " a*(1 - (-b*sin(6.28318530717959*x) + y)^2) + a*(1 - (-b*sin(6.28318530717959*x) - b*sin(6.28318530717959*a*(1 - (-b*sin(6.28318530717959*x) + y)^2) + 6.28318530717959*x) + y)^2) + x\n",
       "                                                              -b*sin(6.28318530717959*x) - b*sin(6.28318530717959*a*(1 - (-b*sin(6.28318530717959*x) + y)^2) + 6.28318530717959*x) + y"
      ]
     },
     "execution_count": 11,
     "metadata": {},
     "output_type": "execute_result"
    }
   ],
   "source": [
    "NT2 =NT(NT1[1],NT1[2],a,b)"
   ]
  },
  {
   "cell_type": "code",
   "execution_count": 12,
   "metadata": {},
   "outputs": [
    {
     "data": {
      "text/latex": [
       "\\[ \\left[ \\begin{array}{r}a \\left(1 - \\left(- b \\sin{\\left(6.28318530717959 x \\right)} + y\\right)^{2}\\right) + a \\left(1 - \\left(- b \\sin{\\left(6.28318530717959 x \\right)} - b \\sin{\\left(6.28318530717959 a \\left(1 - \\left(- b \\sin{\\left(6.28318530717959 x \\right)} + y\\right)^{2}\\right) + 6.28318530717959 x \\right)} + y\\right)^{2}\\right)\\\\- b \\sin{\\left(6.28318530717959 x \\right)} - b \\sin{\\left(6.28318530717959 a \\left(1 - \\left(- b \\sin{\\left(6.28318530717959 x \\right)} + y\\right)^{2}\\right) + 6.28318530717959 x \\right)}\\end{array} \\right] \\]"
      ],
      "text/plain": [
       "2-element Array{Sym,1}:\n",
       " a*(1 - (-b*sin(6.28318530717959*x) + y)^2) + a*(1 - (-b*sin(6.28318530717959*x) - b*sin(6.28318530717959*a*(1 - (-b*sin(6.28318530717959*x) + y)^2) + 6.28318530717959*x) + y)^2)\n",
       "                                                              -b*sin(6.28318530717959*x) - b*sin(6.28318530717959*a*(1 - (-b*sin(6.28318530717959*x) + y)^2) + 6.28318530717959*x)"
      ]
     },
     "execution_count": 12,
     "metadata": {},
     "output_type": "execute_result"
    }
   ],
   "source": [
    "NonT2 = NT2-[x,y]"
   ]
  },
  {
   "cell_type": "code",
   "execution_count": 13,
   "metadata": {},
   "outputs": [
    {
     "data": {
      "text/latex": [
       "\\begin{equation*}- 0.7425 \\sin{\\left(6.28318530717959 x \\right)} - 0.7425 \\sin{\\left(6.28318530717959 a \\left(1 - \\left(y - 0.7425 \\sin{\\left(6.28318530717959 x \\right)}\\right)^{2}\\right) + 6.28318530717959 x \\right)}\\end{equation*}"
      ],
      "text/plain": [
       "                                            ⎛                   ⎛             \n",
       "-0.7425⋅sin(6.28318530717959⋅x) - 0.7425⋅sin⎝6.28318530717959⋅a⋅⎝1 - (y - 0.74\n",
       "\n",
       "                           2⎞                     ⎞\n",
       "25⋅sin(6.28318530717959⋅x)) ⎠ + 6.28318530717959⋅x⎠"
      ]
     },
     "execution_count": 13,
     "metadata": {},
     "output_type": "execute_result"
    }
   ],
   "source": [
    "@vars x y\n",
    "eq_a = subs(NonT2[1],b,0.7425)\n",
    "eq_b = subs(NonT2[2],b,0.7425)\n",
    "\n"
   ]
  },
  {
   "cell_type": "code",
   "execution_count": null,
   "metadata": {},
   "outputs": [],
   "source": [
    "eq1 = subs(eq_a, a, 0.001)\n",
    "eq2 = subs(eq_b,a,0.001)\n",
    "solve([eq1, eq2], [x,y])"
   ]
  },
  {
   "cell_type": "markdown",
   "metadata": {},
   "source": [
    "Vamos a ver si son de periodo 2 o de periodo 1"
   ]
  },
  {
   "cell_type": "code",
   "execution_count": 23,
   "metadata": {},
   "outputs": [
    {
     "data": {
      "text/plain": [
       "2-element Array{Float64,1}:\n",
       " 0.5\n",
       " 6.0"
      ]
     },
     "execution_count": 23,
     "metadata": {},
     "output_type": "execute_result"
    }
   ],
   "source": [
    "b = 0.7425\n",
    "a = 0.0\n",
    "NT(0.5,6.0,a,b)"
   ]
  },
  {
   "cell_type": "code",
   "execution_count": null,
   "metadata": {},
   "outputs": [],
   "source": []
  },
  {
   "cell_type": "code",
   "execution_count": null,
   "metadata": {},
   "outputs": [],
   "source": []
  },
  {
   "cell_type": "code",
   "execution_count": null,
   "metadata": {},
   "outputs": [],
   "source": []
  },
  {
   "cell_type": "code",
   "execution_count": 14,
   "metadata": {},
   "outputs": [
    {
     "data": {
      "text/latex": [
       "\\[ \\left[ \\begin{array}{r}k \\sin{\\left(y \\right)} + k \\sin{\\left(k \\sin{\\left(y \\right)} + x + y \\right)} + k \\sin{\\left(2 k \\sin{\\left(y \\right)} + k \\sin{\\left(k \\sin{\\left(y \\right)} + x + y \\right)} + 2 x + y \\right)} + x\\\\3 k \\sin{\\left(y \\right)} + 2 k \\sin{\\left(k \\sin{\\left(y \\right)} + x + y \\right)} + k \\sin{\\left(2 k \\sin{\\left(y \\right)} + k \\sin{\\left(k \\sin{\\left(y \\right)} + x + y \\right)} + 2 x + y \\right)} + 3 x + y\\end{array} \\right] \\]"
      ],
      "text/plain": [
       "2-element Array{Sym,1}:\n",
       "           k*sin(y) + k*sin(k*sin(y) + x + y) + k*sin(2*k*sin(y) + k*sin(k*sin(y) + x + y) + 2*x + y) + x\n",
       " 3*k*sin(y) + 2*k*sin(k*sin(y) + x + y) + k*sin(2*k*sin(y) + k*sin(k*sin(y) + x + y) + 2*x + y) + 3*x + y"
      ]
     },
     "execution_count": 14,
     "metadata": {},
     "output_type": "execute_result"
    }
   ],
   "source": [
    "Est3 = Est(Est2[1],Est2[2],k)"
   ]
  },
  {
   "cell_type": "code",
   "execution_count": 15,
   "metadata": {},
   "outputs": [
    {
     "data": {
      "text/latex": [
       "\\[ \\left[ \\begin{array}{r}k \\sin{\\left(y \\right)} + k \\sin{\\left(k \\sin{\\left(y \\right)} + x + y \\right)} + k \\sin{\\left(2 k \\sin{\\left(y \\right)} + k \\sin{\\left(k \\sin{\\left(y \\right)} + x + y \\right)} + 2 x + y \\right)}\\\\3 k \\sin{\\left(y \\right)} + 2 k \\sin{\\left(k \\sin{\\left(y \\right)} + x + y \\right)} + k \\sin{\\left(2 k \\sin{\\left(y \\right)} + k \\sin{\\left(k \\sin{\\left(y \\right)} + x + y \\right)} + 2 x + y \\right)} + 3 x\\end{array} \\right] \\]"
      ],
      "text/plain": [
       "2-element Array{Sym,1}:\n",
       "           k*sin(y) + k*sin(k*sin(y) + x + y) + k*sin(2*k*sin(y) + k*sin(k*sin(y) + x + y) + 2*x + y)\n",
       " 3*k*sin(y) + 2*k*sin(k*sin(y) + x + y) + k*sin(2*k*sin(y) + k*sin(k*sin(y) + x + y) + 2*x + y) + 3*x"
      ]
     },
     "execution_count": 15,
     "metadata": {},
     "output_type": "execute_result"
    }
   ],
   "source": [
    "Estandar3 = Est3-[x,y]"
   ]
  },
  {
   "cell_type": "code",
   "execution_count": null,
   "metadata": {},
   "outputs": [],
   "source": [
    "\\:star: Buscamos puntos de periodo 3 en el mapeo estandar"
   ]
  },
  {
   "cell_type": "code",
   "execution_count": null,
   "metadata": {},
   "outputs": [],
   "source": [
    "@vars x y\n",
    "eq1 = subs(Estandar3[1],k,0.1)\n",
    "eq2 = subs(Estandar3[2],k,0.1)\n",
    "solve([eq1, eq2], [x,y])"
   ]
  },
  {
   "cell_type": "code",
   "execution_count": null,
   "metadata": {},
   "outputs": [],
   "source": []
  }
 ],
 "metadata": {
  "kernelspec": {
   "display_name": "Julia 1.4.2",
   "language": "julia",
   "name": "julia-1.4"
  },
  "language_info": {
   "file_extension": ".jl",
   "mimetype": "application/julia",
   "name": "julia",
   "version": "1.4.2"
  }
 },
 "nbformat": 4,
 "nbformat_minor": 4
}
