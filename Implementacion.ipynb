{
 "cells": [
  {
   "cell_type": "markdown",
   "metadata": {},
   "source": [
    "## Primera implementación del método de involuciones "
   ]
  },
  {
   "cell_type": "code",
   "execution_count": 1,
   "metadata": {},
   "outputs": [
    {
     "name": "stderr",
     "output_type": "stream",
     "text": [
      "┌ Warning: `@pyimport foo` is deprecated in favor of `foo = pyimport(\"foo\")`.\n",
      "│   caller = _pywrap_pyimport(::PyObject) at PyCall.jl:410\n",
      "└ @ PyCall /home/eve/.julia/packages/PyCall/BcTLp/src/PyCall.jl:410\n",
      "┌ Info: Precompiling SymPy [24249f21-da20-56a4-8eb1-6a02cf4ae2e6]\n",
      "└ @ Base loading.jl:1260\n"
     ]
    }
   ],
   "source": [
    "using PyCall\n",
    "using LaTeXStrings\n",
    "@pyimport numpy as np\n",
    "using SymPy\n",
    "using Roots\n",
    "using Plots"
   ]
  },
  {
   "cell_type": "markdown",
   "metadata": {},
   "source": [
    "Definimos una función para componer n veces (tendremos 3 opciones)"
   ]
  },
  {
   "cell_type": "code",
   "execution_count": 2,
   "metadata": {
    "scrolled": true
   },
   "outputs": [
    {
     "data": {
      "text/plain": [
       "composition (generic function with 1 method)"
      ]
     },
     "execution_count": 2,
     "metadata": {},
     "output_type": "execute_result"
    }
   ],
   "source": [
    "composition(f, n) = ∘(ntuple(_ -> f, n)...) # donde f es una funcion de una variable y composition regresa una funcion"
   ]
  },
  {
   "cell_type": "code",
   "execution_count": 3,
   "metadata": {},
   "outputs": [
    {
     "data": {
      "text/plain": [
       "compose (generic function with 1 method)"
      ]
     },
     "execution_count": 3,
     "metadata": {},
     "output_type": "execute_result"
    }
   ],
   "source": [
    "compose(f, n) = reduce(∘, ntuple(_ -> f, n)) # donde f es una funcion de 1 variable"
   ]
  },
  {
   "cell_type": "code",
   "execution_count": 4,
   "metadata": {},
   "outputs": [
    {
     "data": {
      "text/plain": [
       "composeNT (generic function with 1 method)"
      ]
     },
     "execution_count": 4,
     "metadata": {},
     "output_type": "execute_result"
    }
   ],
   "source": [
    "function composeNT(f, n)\n",
    "    function (x)  # <- Esto indica que es una funcion anonima\n",
    "        val = f(x)\n",
    "        for _ in 2:n\n",
    "            val = f(val)\n",
    "        end\n",
    "        return val\n",
    "    end\n",
    "end\n"
   ]
  },
  {
   "cell_type": "code",
   "execution_count": 5,
   "metadata": {},
   "outputs": [
    {
     "data": {
      "text/plain": [
       "MapeoY (generic function with 1 method)"
      ]
     },
     "execution_count": 5,
     "metadata": {},
     "output_type": "execute_result"
    }
   ],
   "source": [
    "function MapeoX(x,y,a,b)\n",
    "    vx = x+a*(1-(y-b*sin(2*pi*x))^2)\n",
    "    return vx\n",
    "end\n",
    "\n",
    "function MapeoY(x,y,a,b)\n",
    "    vy = y-b*sin(2*pi*x)\n",
    "    return vy\n",
    "end"
   ]
  },
  {
   "cell_type": "code",
   "execution_count": 6,
   "metadata": {},
   "outputs": [
    {
     "data": {
      "text/plain": [
       "MapeoYA (generic function with 1 method)"
      ]
     },
     "execution_count": 6,
     "metadata": {},
     "output_type": "execute_result"
    }
   ],
   "source": [
    "MapeoXA(y) = MapeoX(0.0,y,0.1,0.1)\n",
    "MapeoYA(y) = MapeoY(0.0,y,0.1,0.1)"
   ]
  },
  {
   "cell_type": "code",
   "execution_count": 7,
   "metadata": {},
   "outputs": [
    {
     "data": {
      "text/plain": [
       "Mapeo2YA (generic function with 1 method)"
      ]
     },
     "execution_count": 7,
     "metadata": {},
     "output_type": "execute_result"
    }
   ],
   "source": [
    "Mapeo2XA(y) = MapeoXA(MapeoXA(y))\n",
    "Mapeo2YA(y) = MapeoYA(MapeoYA(y))"
   ]
  },
  {
   "cell_type": "code",
   "execution_count": 8,
   "metadata": {},
   "outputs": [
    {
     "data": {
      "text/plain": [
       "Mapeo3YA (generic function with 1 method)"
      ]
     },
     "execution_count": 8,
     "metadata": {},
     "output_type": "execute_result"
    }
   ],
   "source": [
    "Mapeo3XA(y) = MapeoXA(Mapeo2XA(y))\n",
    "Mapeo3YA(y) = MapeoYA(Mapeo2YA(y))"
   ]
  },
  {
   "cell_type": "code",
   "execution_count": 20,
   "metadata": {},
   "outputs": [
    {
     "data": {
      "text/plain": [
       "Mapeo3XA (generic function with 1 method)"
      ]
     },
     "execution_count": 20,
     "metadata": {},
     "output_type": "execute_result"
    }
   ],
   "source": [
    "Mapeo3XA"
   ]
  },
  {
   "cell_type": "code",
   "execution_count": 17,
   "metadata": {},
   "outputs": [
    {
     "name": "stderr",
     "output_type": "stream",
     "text": [
      "┌ Info: Precompiling NLsolve [2774e3e8-f4cf-5e23-947b-6d7e65073b56]\n",
      "└ @ Base loading.jl:1260\n"
     ]
    },
    {
     "data": {
      "text/plain": [
       "f! (generic function with 1 method)"
      ]
     },
     "execution_count": 17,
     "metadata": {},
     "output_type": "execute_result"
    }
   ],
   "source": [
    "#using NLsolve\n",
    "\n",
    "function f!(F, x)\n",
    "    F[1] = (x[1]+3)*(x[2]^3-7)+18\n",
    "    F[2] = sin(x[2]*exp(x[1])-1)\n",
    "end"
   ]
  },
  {
   "cell_type": "code",
   "execution_count": 18,
   "metadata": {},
   "outputs": [
    {
     "data": {
      "text/plain": [
       "Results of Nonlinear Solver Algorithm\n",
       " * Algorithm: Trust-region with dogleg and autoscaling\n",
       " * Starting Point: [0.1, 1.2]\n",
       " * Zero: [-3.7818049096324184e-16, 1.0000000000000002]\n",
       " * Inf-norm of residuals: 0.000000\n",
       " * Iterations: 4\n",
       " * Convergence: true\n",
       "   * |x - x'| < 0.0e+00: false\n",
       "   * |f(x)| < 1.0e-08: true\n",
       " * Function Calls (f): 5\n",
       " * Jacobian Calls (df/dx): 5"
      ]
     },
     "execution_count": 18,
     "metadata": {},
     "output_type": "execute_result"
    }
   ],
   "source": [
    "function j!(J, x)\n",
    "    J[1, 1] = x[2]^3-7\n",
    "    J[1, 2] = 3*x[2]^2*(x[1]+3)\n",
    "    u = exp(x[1])*cos(x[2]*exp(x[1])-1)\n",
    "    J[2, 1] = x[2]*u\n",
    "    J[2, 2] = u\n",
    "end\n",
    "\n",
    "nlsolve(f!, j!, [ 0.1; 1.2])"
   ]
  },
  {
   "cell_type": "code",
   "execution_count": 12,
   "metadata": {},
   "outputs": [
    {
     "data": {
      "text/plain": [
       "f! (generic function with 1 method)"
      ]
     },
     "execution_count": 12,
     "metadata": {},
     "output_type": "execute_result"
    }
   ],
   "source": [
    "function f!(vec1,vec2)\n",
    "    x = vec1[1]\n",
    "    y = vec1[2]\n",
    "    vec2[1] = Mapeo3XA(y)\n",
    "    vec2[2] = Mapeo3YA(y)\n",
    "end"
   ]
  },
  {
   "cell_type": "code",
   "execution_count": 13,
   "metadata": {},
   "outputs": [
    {
     "ename": "MethodError",
     "evalue": "MethodError: no method matching nsolve(::typeof(f!), ::Array{Float64,1})\nClosest candidates are:\n  nsolve(!Matched::SymPy.SymbolicObject, ::Any...; kwargs...) at /home/eve/.julia/packages/SymPy/fI5pg/src/importexport.jl:120",
     "output_type": "error",
     "traceback": [
      "MethodError: no method matching nsolve(::typeof(f!), ::Array{Float64,1})\nClosest candidates are:\n  nsolve(!Matched::SymPy.SymbolicObject, ::Any...; kwargs...) at /home/eve/.julia/packages/SymPy/fI5pg/src/importexport.jl:120",
      "",
      "Stacktrace:",
      " [1] top-level scope at In[13]:1"
     ]
    }
   ],
   "source": [
    "cerosA = nsolve(f!,[0.3;0.3])"
   ]
  },
  {
   "cell_type": "code",
   "execution_count": null,
   "metadata": {},
   "outputs": [],
   "source": [
    "function periodicoSimY(fx, fy, intervalo)\n",
    "    cerosy1 = find_zeros(fx,intervalo[1],intervalo[2])\n",
    "    cerosy2 = find_zeros(fy,intervalo[1],intervalo[2])\n",
    "    return [cerosy1,cerosy2]\n",
    "end"
   ]
  },
  {
   "cell_type": "code",
   "execution_count": null,
   "metadata": {},
   "outputs": [],
   "source": [
    "cerosY = periodicoSimY(Mapeo2XA, Mapeo2YA, [-4.0,4.0])"
   ]
  },
  {
   "cell_type": "code",
   "execution_count": null,
   "metadata": {},
   "outputs": [],
   "source": [
    "function simetria1(y,a)\n",
    "    x = mod((a/2)*(1-y^2),1)\n",
    "    return x\n",
    "end"
   ]
  },
  {
   "cell_type": "code",
   "execution_count": null,
   "metadata": {},
   "outputs": [],
   "source": [
    "simetria1A(y) = simetria1(y,0.1)"
   ]
  },
  {
   "cell_type": "code",
   "execution_count": null,
   "metadata": {},
   "outputs": [],
   "source": [
    "function periodicoSimX(fx,fy,simetria,cerosy1,cerosy2)\n",
    "    cerosx1 = [simetria(cerosy1[i]) for i in 1:length(cerosy1)]\n",
    "    cerosx2 = [simetria(cerosy2[i]) for i in 1:length(cerosy2)]\n",
    "    return [cerosx1, cerosx2]\n",
    "end"
   ]
  },
  {
   "cell_type": "code",
   "execution_count": null,
   "metadata": {},
   "outputs": [],
   "source": [
    "periodicoSimX(Mapeo2XA,Mapeo2YA,simetria1A,cerosY[1],cerosY[2])"
   ]
  },
  {
   "cell_type": "code",
   "execution_count": null,
   "metadata": {},
   "outputs": [],
   "source": [
    "mapeo2X(x)=composition(MapeoXA,20)(x) #esto esta mal debe ser funcion de y \n",
    "mapeo2Y(y)=composition(MapeoYA,20)(y)"
   ]
  },
  {
   "cell_type": "code",
   "execution_count": null,
   "metadata": {},
   "outputs": [],
   "source": [
    "cerosY = periodicoSimY(mapeo2X,mapeo2Y,[-18.0,18.0])"
   ]
  },
  {
   "cell_type": "code",
   "execution_count": null,
   "metadata": {},
   "outputs": [],
   "source": [
    "periodicoSimX(mapeo2X,mapeo2Y,simetria1A,cerosY[1],cerosY[2])"
   ]
  },
  {
   "cell_type": "markdown",
   "metadata": {},
   "source": [
    "* Como en general vamos a dar un mapeo y queremos que se sustituyan las simetrias y se vayan encontrando los puntos periodicos queremos juntar lo anterior "
   ]
  },
  {
   "cell_type": "markdown",
   "metadata": {},
   "source": [
    "Poe ejemplo imaginemos que tenemos el mapeo siguiente"
   ]
  },
  {
   "cell_type": "code",
   "execution_count": null,
   "metadata": {},
   "outputs": [],
   "source": [
    "function MapeoX(x,y,a,b)\n",
    "    vx = x+a*(1-(y-b*sin(2*pi*x))^2)\n",
    "    return vx\n",
    "end\n",
    "\n",
    "function MapeoY(x,y,a,b)\n",
    "    vy = y-b*sin(2*pi*x)\n",
    "    return vy\n",
    "end"
   ]
  },
  {
   "cell_type": "markdown",
   "metadata": {},
   "source": [
    "* Despues nos dan los parametros y la simetria \n",
    "\n",
    "a=0.1\n",
    "b=0.1\n",
    "\n",
    "sim1 = funcion de y\n"
   ]
  },
  {
   "cell_type": "markdown",
   "metadata": {},
   "source": [
    "* Necesitamos hacer un nuevo mapeo interno con esas caracteristicas\n"
   ]
  },
  {
   "cell_type": "code",
   "execution_count": null,
   "metadata": {},
   "outputs": [],
   "source": [
    "function substitutionMap(fx,fy,a,b,sim)\n",
    "    MapeoXA(y) = MapeoX(sim(y),y,a,b)\n",
    "    MapeoYA(y) = MapeoY(sim(y),y,a,b)\n",
    "    return [MapeoXA,MapeoYA]\n",
    "end"
   ]
  },
  {
   "cell_type": "code",
   "execution_count": null,
   "metadata": {},
   "outputs": [],
   "source": [
    "simetria1(y)= 0.0\n",
    "simetria2(y)=(1-y^2)/2"
   ]
  },
  {
   "cell_type": "code",
   "execution_count": null,
   "metadata": {},
   "outputs": [],
   "source": [
    "Maps1 = substitutionMap(MapeoX,MapeoY,0.1,0.1,simetria1)"
   ]
  },
  {
   "cell_type": "code",
   "execution_count": null,
   "metadata": {},
   "outputs": [],
   "source": [
    "Maps1[2]"
   ]
  },
  {
   "cell_type": "markdown",
   "metadata": {},
   "source": [
    "* Estas funciones son las que iteramos despues \n"
   ]
  },
  {
   "cell_type": "code",
   "execution_count": null,
   "metadata": {},
   "outputs": [],
   "source": [
    "mapeo2X(y)=composition(Maps1[1],20)(y)\n",
    "mapeo2Y(y)=composition(Maps1[2],20)(y)"
   ]
  },
  {
   "cell_type": "code",
   "execution_count": null,
   "metadata": {},
   "outputs": [],
   "source": [
    "cerosY = periodicoSimY(mapeo2X,mapeo2Y,[-18.0,18.0])"
   ]
  },
  {
   "cell_type": "code",
   "execution_count": null,
   "metadata": {},
   "outputs": [],
   "source": [
    "periodicoSimX(mapeo2X,mapeo2Y,simetria1,cerosY[1],cerosY[2])"
   ]
  },
  {
   "cell_type": "markdown",
   "metadata": {},
   "source": [
    "* Que pasa si la condicion de simetria es nua funcion?"
   ]
  },
  {
   "cell_type": "markdown",
   "metadata": {},
   "source": [
    "* Veamos si se puede sustituir"
   ]
  },
  {
   "cell_type": "code",
   "execution_count": null,
   "metadata": {},
   "outputs": [],
   "source": [
    "Maps2 = substitutionMap(MapeoX,MapeoY,0.1,0.1,simetria2)"
   ]
  },
  {
   "cell_type": "code",
   "execution_count": null,
   "metadata": {},
   "outputs": [],
   "source": [
    "mapeo3X(y)=composition(Maps2[1],20)(y)\n",
    "mapeo3Y(y)=composition(Maps2[2],20)(y)"
   ]
  },
  {
   "cell_type": "code",
   "execution_count": null,
   "metadata": {},
   "outputs": [],
   "source": [
    "cerosY2 = periodicoSimY(mapeo3X,mapeo3Y,[-1.0,1.0])"
   ]
  },
  {
   "cell_type": "code",
   "execution_count": null,
   "metadata": {},
   "outputs": [],
   "source": [
    "periodicoSimX(mapeo3X,mapeo3Y,simetria2,cerosY2[1],cerosY2[2])"
   ]
  },
  {
   "cell_type": "markdown",
   "metadata": {},
   "source": [
    "* Ahora juntamos todo en una funcion o dos"
   ]
  },
  {
   "cell_type": "code",
   "execution_count": null,
   "metadata": {},
   "outputs": [],
   "source": [
    "function PeriodicosS(fx,fy,simetria,a,b,n,intervalo)\n",
    "    Maps = substitutionMap(fx,fy,a,b,simetria)\n",
    "    mapeoX(y)=composition(Maps[1],n)(y)\n",
    "    mapeoY(y)=composition(Maps[2],n)(y)\n",
    "    cerosY = periodicoSimY(mapeoX,mapeoY,[intervalo[1],intervalo[2]])\n",
    "    cerosX = periodicoSimX(mapeoX,mapeoY,simetria,cerosY[1],cerosY[2])\n",
    "    return [cerosX,cerosY]\n",
    "end"
   ]
  },
  {
   "cell_type": "code",
   "execution_count": null,
   "metadata": {},
   "outputs": [],
   "source": [
    "PeriodicosS(MapeoX,MapeoY,simetria2,0.1,0.1,20,[-1,1])"
   ]
  },
  {
   "cell_type": "code",
   "execution_count": null,
   "metadata": {},
   "outputs": [],
   "source": [
    "PeriodicosS(MapeoX,MapeoY,simetria1,0.1,0.1,20,[-19,19])"
   ]
  },
  {
   "cell_type": "code",
   "execution_count": null,
   "metadata": {},
   "outputs": [],
   "source": [
    "push!(LOAD_PATH,\"/home/eve/Documents/Matematicas/Proyectos/Implementacion\")"
   ]
  },
  {
   "cell_type": "code",
   "execution_count": null,
   "metadata": {},
   "outputs": [],
   "source": [
    "using PeriodicosSymmetries"
   ]
  },
  {
   "cell_type": "code",
   "execution_count": null,
   "metadata": {},
   "outputs": [],
   "source": [
    "PeriodicosS(MapeoX,MapeoY,simetria1,0.1,0.1,20,[-19,19])"
   ]
  },
  {
   "cell_type": "code",
   "execution_count": null,
   "metadata": {},
   "outputs": [],
   "source": [
    "?PeriodicosS"
   ]
  },
  {
   "cell_type": "code",
   "execution_count": null,
   "metadata": {},
   "outputs": [],
   "source": [
    "function MapeoX(x,y,a,b)\n",
    "    vx = x+a*(1-(y-b*sin(2*pi*x))^2)\n",
    "    return vx\n",
    "end\n",
    "\n",
    "function MapeoY(x,y,a,b)\n",
    "    vy = y-b*sin(2*pi*x)\n",
    "    return vy\n",
    "end"
   ]
  },
  {
   "cell_type": "code",
   "execution_count": null,
   "metadata": {},
   "outputs": [],
   "source": [
    "simetria1(y)= 0.0\n",
    "simetria2(y)=(1-y^2)/2"
   ]
  },
  {
   "cell_type": "code",
   "execution_count": null,
   "metadata": {},
   "outputs": [],
   "source": []
  }
 ],
 "metadata": {
  "kernelspec": {
   "display_name": "Julia 1.4.2",
   "language": "julia",
   "name": "julia-1.4"
  },
  "language_info": {
   "file_extension": ".jl",
   "mimetype": "application/julia",
   "name": "julia",
   "version": "1.4.2"
  }
 },
 "nbformat": 4,
 "nbformat_minor": 4
}
